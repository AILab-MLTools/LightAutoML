{
 "cells": [
  {
   "cell_type": "markdown",
   "id": "64e2de80",
   "metadata": {},
   "source": [
    "# How to perform AA and AB tests\n",
    "*AB-test is shown below*"
   ]
  },
  {
   "cell_type": "markdown",
   "id": "9f52ff79",
   "metadata": {},
   "source": [
    "## 0. Import Libraries"
   ]
  },
  {
   "cell_type": "code",
   "execution_count": 1,
   "id": "6c2c62f0",
   "metadata": {},
   "outputs": [
    {
     "name": "stdout",
     "output_type": "stream",
     "text": [
      "'nlp' extra dependecy package 'gensim' isn't installed. Look at README.md in repo 'LightAutoML' for installation instructions.\n",
      "'nlp' extra dependecy package 'transformers' isn't installed. Look at README.md in repo 'LightAutoML' for installation instructions.\n",
      "'nlp' extra dependecy package 'gensim' isn't installed. Look at README.md in repo 'LightAutoML' for installation instructions.\n",
      "'nlp' extra dependecy package 'transformers' isn't installed. Look at README.md in repo 'LightAutoML' for installation instructions.\n"
     ]
    },
    {
     "name": "stderr",
     "output_type": "stream",
     "text": [
      "C:\\Users\\20810012\\Desktop\\Задачи\\code\\matcher\\lightautoml\\ml_algo\\dl_model.py:41: UserWarning: 'transformers' - package isn't installed\n",
      "  warnings.warn(\"'transformers' - package isn't installed\")\n",
      "C:\\Users\\20810012\\Desktop\\Задачи\\code\\matcher\\lightautoml\\text\\nn_model.py:22: UserWarning: 'transformers' - package isn't installed\n",
      "  warnings.warn(\"'transformers' - package isn't installed\")\n",
      "C:\\Users\\20810012\\Desktop\\Задачи\\code\\matcher\\lightautoml\\text\\dl_transformers.py:25: UserWarning: 'transformers' - package isn't installed\n",
      "  warnings.warn(\"'transformers' - package isn't installed\")\n"
     ]
    }
   ],
   "source": [
    "import pandas as pd\n",
    "import numpy as np\n",
    "from lightautoml.addons.hypex.ABTesting.ab_tester import AATest, ABTest\n",
    "from lightautoml.addons.hypex.utils.tutorial_data_creation import create_test_data\n",
    "\n",
    "pd.options.display.float_format = '{:,.2f}'.format\n",
    "\n",
    "np.random.seed(52) #needed to create example data"
   ]
  },
  {
   "cell_type": "markdown",
   "id": "2dca3eaa",
   "metadata": {},
   "source": [
    "## 1. Create or upload your dataset\n",
    "In this case we will create random dataset with known effect size  \n",
    "If you have your own dataset, go to the part 2 "
   ]
  },
  {
   "cell_type": "code",
   "execution_count": null,
   "id": "7b655d2d",
   "metadata": {},
   "outputs": [],
   "source": [
    "data = create_test_data(rs=52, na_step=10, nan_cols=['age', 'gender'])\n",
    "data"
   ]
  },
  {
   "cell_type": "markdown",
   "id": "a0402e83",
   "metadata": {},
   "source": [
    "## 2. AATest "
   ]
  },
  {
   "cell_type": "markdown",
   "id": "b3733f84",
   "metadata": {},
   "source": [
    "### 2.0 Initialize parameters\n",
    "`info_col` used to define informative attributes that should NOT be part of testing, such as user_id and signup_month <br>"
   ]
  },
  {
   "cell_type": "code",
   "execution_count": null,
   "id": "bc8e4ac0",
   "metadata": {},
   "outputs": [],
   "source": [
    "info_cols = ['user_id', 'signup_month']\n",
    "target = ['post_spends', 'pre_spends']"
   ]
  },
  {
   "cell_type": "markdown",
   "id": "75c196ea",
   "metadata": {},
   "source": [
    "### 2.1 Simple AA-test\n",
    "This is the easiest way to initialize and calculate metrics on a AA-test (default - on 10 iterations)<br>\n",
    "Use it when you are clear about each attribute or if you don't have any additional task conditions (like grouping)"
   ]
  },
  {
   "cell_type": "code",
   "execution_count": null,
   "id": "701d20c0",
   "metadata": {},
   "outputs": [],
   "source": [
    "experiment = AATest(data=data, info_cols=info_cols, target_fields=target)"
   ]
  },
  {
   "cell_type": "code",
   "execution_count": null,
   "id": "a7ee57bf",
   "metadata": {},
   "outputs": [],
   "source": [
    "experiment_result, dict_of_datas = experiment.search_dist_uniform_sampling(iterations=10)"
   ]
  },
  {
   "cell_type": "markdown",
   "id": "700ea4f6",
   "metadata": {},
   "source": [
    "`experiment_result` is a table of results of experiments, which includes \n",
    "- means of all targets in a and b samples, \n",
    "- p_values of Student t-test and test Kolmogorova-Smirnova, \n",
    "- and results of tests (did data on the random_state passes the uniform test)"
   ]
  },
  {
   "cell_type": "code",
   "execution_count": null,
   "id": "2adb8cdd",
   "metadata": {},
   "outputs": [],
   "source": [
    "experiment_result.head(3)"
   ]
  },
  {
   "cell_type": "markdown",
   "id": "76897df9",
   "metadata": {},
   "source": [
    "`dict_of_datas` is a dictionary with random_states as keys and dataframes as values.<br>\n",
    "Result of separation can be find in column 'group', it contains values 'test' and 'control'"
   ]
  },
  {
   "cell_type": "code",
   "execution_count": null,
   "id": "cac4e650",
   "metadata": {
    "scrolled": false
   },
   "outputs": [],
   "source": [
    "dict_of_datas[0].head(3)"
   ]
  },
  {
   "cell_type": "markdown",
   "id": "c277b0b9",
   "metadata": {},
   "source": [
    "#### - Single experiment\n",
    "To get stable results lets fix `random_state`"
   ]
  },
  {
   "cell_type": "code",
   "execution_count": null,
   "id": "01265e9e",
   "metadata": {},
   "outputs": [],
   "source": [
    "random_state = 11"
   ]
  },
  {
   "cell_type": "markdown",
   "id": "016ef764",
   "metadata": {},
   "source": [
    "To perform single experiment you can use `sampling_metrics()`"
   ]
  },
  {
   "cell_type": "code",
   "execution_count": null,
   "id": "f1ed6dc9",
   "metadata": {},
   "outputs": [],
   "source": [
    "experiment = AATest(data=data, info_cols=info_cols, target_fields=target)\n",
    "metrics, dict_of_datas = experiment.sampling_metrics(random_state=random_state).values()"
   ]
  },
  {
   "cell_type": "markdown",
   "id": "7592fb09",
   "metadata": {},
   "source": [
    "The results contains the same info as in multisampling, but on one experiment"
   ]
  },
  {
   "cell_type": "code",
   "execution_count": null,
   "id": "bad5e42e",
   "metadata": {
    "scrolled": true
   },
   "outputs": [],
   "source": [
    "metrics"
   ]
  },
  {
   "cell_type": "code",
   "execution_count": null,
   "id": "a9c3c513",
   "metadata": {},
   "outputs": [],
   "source": [
    "dict_of_datas[random_state]"
   ]
  },
  {
   "cell_type": "markdown",
   "id": "5017639b",
   "metadata": {},
   "source": [
    "### 2.2 AA-test with grouping"
   ]
  },
  {
   "cell_type": "markdown",
   "id": "55ba8a60",
   "metadata": {},
   "source": [
    "To perform experiment that separates samples by groups `group_col` can be used"
   ]
  },
  {
   "cell_type": "code",
   "execution_count": null,
   "id": "2fba205a",
   "metadata": {},
   "outputs": [],
   "source": [
    "info_cols = ['user_id', 'signup_month']\n",
    "target = ['post_spends', 'pre_spends']\n",
    "\n",
    "group_cols = 'industry'"
   ]
  },
  {
   "cell_type": "code",
   "execution_count": null,
   "id": "a38ff403",
   "metadata": {},
   "outputs": [],
   "source": [
    "experiment = AATest(data=data, info_cols=info_cols, target_fields=target, group_cols=group_cols)"
   ]
  },
  {
   "cell_type": "code",
   "execution_count": null,
   "id": "6155253f",
   "metadata": {},
   "outputs": [],
   "source": [
    "experiment_result, dict_of_datas = experiment.search_dist_uniform_sampling()"
   ]
  },
  {
   "cell_type": "markdown",
   "id": "8ca1447d",
   "metadata": {},
   "source": [
    "The result is in the same format as without groups\n",
    "\n",
    "In this regime groups equally divided on each sample (test and control):"
   ]
  },
  {
   "cell_type": "code",
   "execution_count": null,
   "id": "67bb17c4",
   "metadata": {},
   "outputs": [],
   "source": [
    "dict_of_datas[0].groupby(['industry', 'group'])[['user_id']].count()"
   ]
  },
  {
   "cell_type": "markdown",
   "id": "d87c9442",
   "metadata": {},
   "source": [
    "## 3. AB-test"
   ]
  },
  {
   "cell_type": "markdown",
   "id": "c36b0596",
   "metadata": {},
   "source": [
    "### 3.0 Data\n",
    "Lets correct data to see how AB-test works"
   ]
  },
  {
   "cell_type": "code",
   "execution_count": null,
   "id": "65cbecda",
   "metadata": {},
   "outputs": [],
   "source": [
    "data_ab = data.copy()\n",
    "\n",
    "half_data = int(data.shape[0]/2)\n",
    "data_ab['group'] = ['test']*half_data + ['control']*half_data\n",
    "data_ab.head(3)"
   ]
  },
  {
   "cell_type": "markdown",
   "id": "ee88dfc9",
   "metadata": {},
   "source": [
    "### 3.1 Full AB-test\n",
    "\n",
    "Full (basic) version of test includes calculation of all available metrics, which are: \"diff in means\", \"diff in diff\" and \"cuped\"<br>\n",
    "Pay attention, that for \"cuped\" and \"diff in diff\" metrics requred target before pilot."
   ]
  },
  {
   "cell_type": "code",
   "execution_count": null,
   "id": "4108a137",
   "metadata": {},
   "outputs": [],
   "source": [
    "model = ABTest()\n",
    "results = model.execute(\n",
    "    data=data_ab, \n",
    "    target_field='post_spends', \n",
    "    target_field_before='pre_spends', \n",
    "    group_field='group'\n",
    ")\n",
    "results"
   ]
  },
  {
   "cell_type": "markdown",
   "id": "f1e9bcd4",
   "metadata": {},
   "source": [
    "To see results in more convenient way `show_beautiful_result` can be used"
   ]
  },
  {
   "cell_type": "code",
   "execution_count": null,
   "id": "2e5ca229",
   "metadata": {},
   "outputs": [],
   "source": [
    "model.show_beautiful_result()"
   ]
  },
  {
   "cell_type": "markdown",
   "id": "cd2d5d81",
   "metadata": {},
   "source": [
    "### 3.2 Simple AB-test\n",
    "To estimate effect without target data before pilot `calc_difference_method='ate'` can be used - effect will be estimated with \"diff in means\" method"
   ]
  },
  {
   "cell_type": "code",
   "execution_count": null,
   "id": "b1296c67",
   "metadata": {},
   "outputs": [],
   "source": [
    "model = ABTest(calc_difference_method='ate')\n",
    "model.execute(data=data_ab, target_field='post_spends', group_field='group')\n",
    "\n",
    "model.show_beautiful_result()"
   ]
  },
  {
   "cell_type": "code",
   "execution_count": null,
   "id": "43482b50",
   "metadata": {},
   "outputs": [],
   "source": []
  }
 ],
 "metadata": {
  "kernelspec": {
   "display_name": "Python 3 (ipykernel)",
   "language": "python",
   "name": "python3"
  },
  "language_info": {
   "codemirror_mode": {
    "name": "ipython",
    "version": 3
   },
   "file_extension": ".py",
   "mimetype": "text/x-python",
   "name": "python",
   "nbconvert_exporter": "python",
   "pygments_lexer": "ipython3",
   "version": "3.9.7"
  }
 },
 "nbformat": 4,
 "nbformat_minor": 5
}

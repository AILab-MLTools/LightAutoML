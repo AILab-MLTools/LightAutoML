{
 "cells": [
  {
   "cell_type": "markdown",
   "metadata": {},
   "source": [
    "# How to match? "
   ]
  },
  {
   "cell_type": "markdown",
   "metadata": {},
   "source": [
    "## 0. Import libraries "
   ]
  },
  {
   "cell_type": "code",
   "execution_count": 1,
   "metadata": {},
   "outputs": [],
   "source": [
    "# !pip install faiss-cpu\n",
    "# !pip install lightautoml"
   ]
  },
  {
   "cell_type": "code",
   "execution_count": 1,
   "metadata": {},
   "outputs": [
    {
     "name": "stdout",
     "output_type": "stream",
     "text": [
      "Python 3.8.16\r\n"
     ]
    }
   ],
   "source": [
    "!python --version"
   ]
  },
  {
   "cell_type": "code",
   "execution_count": 2,
   "metadata": {},
   "outputs": [],
   "source": [
    "import pandas as pd\n",
    "import warnings\n",
    "import numpy as np\n",
    "from lightautoml.addons.matcher import Matcher\n",
    "warnings.filterwarnings('ignore')\n",
    "%config Completer.use_jedi = False"
   ]
  },
  {
   "cell_type": "markdown",
   "metadata": {},
   "source": [
    "## 1. Create or upload your dataset  \n",
    "In this case we will create random dataset with known effect size  \n",
    "If you have your own dataset, go to the part 2 \n"
   ]
  },
  {
   "cell_type": "code",
   "execution_count": 3,
   "metadata": {},
   "outputs": [
    {
     "data": {
      "text/plain": "   user_id  signup_month  month  spend  treat\n0        0            11      1    482   True\n1        0            11      2    525   True\n2        0            11      3    488   True\n3        0            11      4    427   True\n4        0            11      5    437   True",
      "text/html": "<div>\n<style scoped>\n    .dataframe tbody tr th:only-of-type {\n        vertical-align: middle;\n    }\n\n    .dataframe tbody tr th {\n        vertical-align: top;\n    }\n\n    .dataframe thead th {\n        text-align: right;\n    }\n</style>\n<table border=\"1\" class=\"dataframe\">\n  <thead>\n    <tr style=\"text-align: right;\">\n      <th></th>\n      <th>user_id</th>\n      <th>signup_month</th>\n      <th>month</th>\n      <th>spend</th>\n      <th>treat</th>\n    </tr>\n  </thead>\n  <tbody>\n    <tr>\n      <th>0</th>\n      <td>0</td>\n      <td>11</td>\n      <td>1</td>\n      <td>482</td>\n      <td>True</td>\n    </tr>\n    <tr>\n      <th>1</th>\n      <td>0</td>\n      <td>11</td>\n      <td>2</td>\n      <td>525</td>\n      <td>True</td>\n    </tr>\n    <tr>\n      <th>2</th>\n      <td>0</td>\n      <td>11</td>\n      <td>3</td>\n      <td>488</td>\n      <td>True</td>\n    </tr>\n    <tr>\n      <th>3</th>\n      <td>0</td>\n      <td>11</td>\n      <td>4</td>\n      <td>427</td>\n      <td>True</td>\n    </tr>\n    <tr>\n      <th>4</th>\n      <td>0</td>\n      <td>11</td>\n      <td>5</td>\n      <td>437</td>\n      <td>True</td>\n    </tr>\n  </tbody>\n</table>\n</div>"
     },
     "execution_count": 3,
     "metadata": {},
     "output_type": "execute_result"
    }
   ],
   "source": [
    "# Simulating dataset with known effect size\n",
    "num_users = 10000\n",
    "num_months = 12\n",
    "\n",
    "signup_months = np.random.choice(np.arange(1, num_months), num_users) * np.random.randint(0,2, size=num_users) # signup_months == 0 means customer did not sign up\n",
    "df = pd.DataFrame({\n",
    "    'user_id': np.repeat(np.arange(num_users), num_months),\n",
    "    'signup_month': np.repeat(signup_months, num_months), # signup month == 0 means customer did not sign up\n",
    "    'month': np.tile(np.arange(1, num_months+1), num_users), # months are from 1 to 12\n",
    "    'spend': np.random.poisson(500, num_users*num_months) #np.random.beta(a=2, b=5, size=num_users * num_months)*1000 # centered at 500\n",
    "})\n",
    "# A customer is in the treatment group if and only if they signed up\n",
    "df[\"treat\"] = df[\"signup_month\"]>0\n",
    "# Simulating an effect of month (monotonically decreasing--customers buy less later in the year)\n",
    "df[\"spend\"] = df[\"spend\"] - df[\"month\"]*10\n",
    "# Simulating a simple treatment effect of 100\n",
    "after_signup = (df[\"signup_month\"] < df[\"month\"]) & (df[\"treat\"])\n",
    "df.loc[after_signup,\"spend\"] = df[after_signup][\"spend\"] + 100\n",
    "df.head()"
   ]
  },
  {
   "cell_type": "code",
   "execution_count": 4,
   "metadata": {},
   "outputs": [
    {
     "data": {
      "text/plain": "      user_id  signup_month  treat  pre_spends  post_spends\n0           7             0  False       482.0   421.777778\n1          10             0  False       495.0   419.777778\n2          11             0  False       486.0   412.333333\n3          13             0  False       507.0   413.333333\n4          16             3   True       479.5   507.666667\n...       ...           ...    ...         ...          ...\n5550     9985             0  False       508.5   436.222222\n5551     9987             0  False       475.0   421.888889\n5552     9990             0  False       469.5   429.555556\n5553     9994             0  False       508.0   424.111111\n5554     9998             0  False       504.5   426.888889\n\n[5555 rows x 5 columns]",
      "text/html": "<div>\n<style scoped>\n    .dataframe tbody tr th:only-of-type {\n        vertical-align: middle;\n    }\n\n    .dataframe tbody tr th {\n        vertical-align: top;\n    }\n\n    .dataframe thead th {\n        text-align: right;\n    }\n</style>\n<table border=\"1\" class=\"dataframe\">\n  <thead>\n    <tr style=\"text-align: right;\">\n      <th></th>\n      <th>user_id</th>\n      <th>signup_month</th>\n      <th>treat</th>\n      <th>pre_spends</th>\n      <th>post_spends</th>\n    </tr>\n  </thead>\n  <tbody>\n    <tr>\n      <th>0</th>\n      <td>7</td>\n      <td>0</td>\n      <td>False</td>\n      <td>482.0</td>\n      <td>421.777778</td>\n    </tr>\n    <tr>\n      <th>1</th>\n      <td>10</td>\n      <td>0</td>\n      <td>False</td>\n      <td>495.0</td>\n      <td>419.777778</td>\n    </tr>\n    <tr>\n      <th>2</th>\n      <td>11</td>\n      <td>0</td>\n      <td>False</td>\n      <td>486.0</td>\n      <td>412.333333</td>\n    </tr>\n    <tr>\n      <th>3</th>\n      <td>13</td>\n      <td>0</td>\n      <td>False</td>\n      <td>507.0</td>\n      <td>413.333333</td>\n    </tr>\n    <tr>\n      <th>4</th>\n      <td>16</td>\n      <td>3</td>\n      <td>True</td>\n      <td>479.5</td>\n      <td>507.666667</td>\n    </tr>\n    <tr>\n      <th>...</th>\n      <td>...</td>\n      <td>...</td>\n      <td>...</td>\n      <td>...</td>\n      <td>...</td>\n    </tr>\n    <tr>\n      <th>5550</th>\n      <td>9985</td>\n      <td>0</td>\n      <td>False</td>\n      <td>508.5</td>\n      <td>436.222222</td>\n    </tr>\n    <tr>\n      <th>5551</th>\n      <td>9987</td>\n      <td>0</td>\n      <td>False</td>\n      <td>475.0</td>\n      <td>421.888889</td>\n    </tr>\n    <tr>\n      <th>5552</th>\n      <td>9990</td>\n      <td>0</td>\n      <td>False</td>\n      <td>469.5</td>\n      <td>429.555556</td>\n    </tr>\n    <tr>\n      <th>5553</th>\n      <td>9994</td>\n      <td>0</td>\n      <td>False</td>\n      <td>508.0</td>\n      <td>424.111111</td>\n    </tr>\n    <tr>\n      <th>5554</th>\n      <td>9998</td>\n      <td>0</td>\n      <td>False</td>\n      <td>504.5</td>\n      <td>426.888889</td>\n    </tr>\n  </tbody>\n</table>\n<p>5555 rows × 5 columns</p>\n</div>"
     },
     "execution_count": 4,
     "metadata": {},
     "output_type": "execute_result"
    }
   ],
   "source": [
    "# Setting the signup month (for ease of analysis)\n",
    "i = 3\n",
    "df_i_signupmonth = (\n",
    "    df[df.signup_month.isin([0, i])]\n",
    "    .groupby([\"user_id\", \"signup_month\", \"treat\"])\n",
    "    .apply(\n",
    "        lambda x: pd.Series(\n",
    "            {\n",
    "                \"pre_spends\": x.loc[x.month < i, \"spend\"].mean(),\n",
    "                \"post_spends\": x.loc[x.month > i, \"spend\"].mean(),\n",
    "            }\n",
    "        )\n",
    "    )\n",
    "    .reset_index()\n",
    ")\n",
    "df_i_signupmonth"
   ]
  },
  {
   "cell_type": "code",
   "execution_count": 5,
   "metadata": {},
   "outputs": [
    {
     "data": {
      "text/plain": "   user_id  signup_month  treat  pre_spends  post_spends  age  is_male  \\\n0        7             0      0       482.0   421.777778   52        1   \n1       10             0      0       495.0   419.777778   48        0   \n2       11             0      0       486.0   412.333333   26        0   \n3       13             0      0       507.0   413.333333   32        1   \n4       16             3      1       479.5   507.666667   41        1   \n\n  industry  \n0        2  \n1        2  \n2        2  \n3        1  \n4        1  ",
      "text/html": "<div>\n<style scoped>\n    .dataframe tbody tr th:only-of-type {\n        vertical-align: middle;\n    }\n\n    .dataframe tbody tr th {\n        vertical-align: top;\n    }\n\n    .dataframe thead th {\n        text-align: right;\n    }\n</style>\n<table border=\"1\" class=\"dataframe\">\n  <thead>\n    <tr style=\"text-align: right;\">\n      <th></th>\n      <th>user_id</th>\n      <th>signup_month</th>\n      <th>treat</th>\n      <th>pre_spends</th>\n      <th>post_spends</th>\n      <th>age</th>\n      <th>is_male</th>\n      <th>industry</th>\n    </tr>\n  </thead>\n  <tbody>\n    <tr>\n      <th>0</th>\n      <td>7</td>\n      <td>0</td>\n      <td>0</td>\n      <td>482.0</td>\n      <td>421.777778</td>\n      <td>52</td>\n      <td>1</td>\n      <td>2</td>\n    </tr>\n    <tr>\n      <th>1</th>\n      <td>10</td>\n      <td>0</td>\n      <td>0</td>\n      <td>495.0</td>\n      <td>419.777778</td>\n      <td>48</td>\n      <td>0</td>\n      <td>2</td>\n    </tr>\n    <tr>\n      <th>2</th>\n      <td>11</td>\n      <td>0</td>\n      <td>0</td>\n      <td>486.0</td>\n      <td>412.333333</td>\n      <td>26</td>\n      <td>0</td>\n      <td>2</td>\n    </tr>\n    <tr>\n      <th>3</th>\n      <td>13</td>\n      <td>0</td>\n      <td>0</td>\n      <td>507.0</td>\n      <td>413.333333</td>\n      <td>32</td>\n      <td>1</td>\n      <td>1</td>\n    </tr>\n    <tr>\n      <th>4</th>\n      <td>16</td>\n      <td>3</td>\n      <td>1</td>\n      <td>479.5</td>\n      <td>507.666667</td>\n      <td>41</td>\n      <td>1</td>\n      <td>1</td>\n    </tr>\n  </tbody>\n</table>\n</div>"
     },
     "execution_count": 5,
     "metadata": {},
     "output_type": "execute_result"
    }
   ],
   "source": [
    "# Additional category features\n",
    "gender = np.random.choice(a=[0,1], size=df_i_signupmonth.user_id.nunique())\n",
    "age = np.random.choice(a=range(18, 70), size=df_i_signupmonth.user_id.nunique())\n",
    "industry = np.random.choice(a=range(1, 3), size=df_i_signupmonth.user_id.nunique())\n",
    "df_i_signupmonth['age'] = age\n",
    "df_i_signupmonth['is_male'] =  gender\n",
    "df_i_signupmonth['industry'] =  industry\n",
    "df_i_signupmonth['industry'] = df_i_signupmonth['industry'].astype('str')\n",
    "df_i_signupmonth['treat'] = df_i_signupmonth['treat'].astype(int)\n",
    "df_i_signupmonth.head()"
   ]
  },
  {
   "cell_type": "code",
   "execution_count": 6,
   "metadata": {},
   "outputs": [
    {
     "data": {
      "text/plain": "Index(['user_id', 'signup_month', 'treat', 'pre_spends', 'post_spends', 'age',\n       'is_male', 'industry'],\n      dtype='object')"
     },
     "execution_count": 6,
     "metadata": {},
     "output_type": "execute_result"
    }
   ],
   "source": [
    "df_i_signupmonth.columns"
   ]
  },
  {
   "cell_type": "markdown",
   "metadata": {},
   "source": [
    "## 2. Matching  \n",
    "### 2.0 Init params\n",
    "info_col used to define informative attributes that should not be part of matching, such as user_id  \n",
    "But to explicitly store this column in the table, so that you can compare directly after computation"
   ]
  },
  {
   "cell_type": "code",
   "execution_count": 7,
   "metadata": {},
   "outputs": [],
   "source": [
    "info_col = ['user_id', 'signup_month']\n",
    "\n",
    "outcome = 'post_spends'\n",
    "treatment = 'treat'"
   ]
  },
  {
   "cell_type": "markdown",
   "metadata": {},
   "source": [
    "### 2.1 Simple matching\n",
    "This is the easiest way to initialize and calculate metrics on a Matching task  \n",
    "Use it when you are clear about each attribute or if you don't have any additional task conditions (Strict equality for certain features) "
   ]
  },
  {
   "cell_type": "code",
   "execution_count": 8,
   "metadata": {},
   "outputs": [
    {
     "name": "stderr",
     "output_type": "stream",
     "text": [
      "[20.06.2023 14:35:37 | digitaltwins | INFO]: Applying matching\n"
     ]
    },
    {
     "name": "stdout",
     "output_type": "stream",
     "text": [
      "Finding index\n",
      "Done\n",
      "Finding index\n",
      "Done\n"
     ]
    },
    {
     "name": "stderr",
     "output_type": "stream",
     "text": [
      "[20.06.2023 14:35:37 | Faiss digitaltwins | INFO]: Calculated the number of times each subject has appeared as a match: 470\n",
      "[20.06.2023 14:35:37 | Faiss digitaltwins | INFO]: Calculated the number of times each subject has appeared as a match: 5085\n",
      "[20.06.2023 14:35:37 | Faiss digitaltwins | INFO]: Estimating quality of matching\n",
      "[20.06.2023 14:35:37 | metrics | INFO]: Standardised mean difference: age           0.002108\n",
      "is_male       0.000000\n",
      "pre_spends    0.002732\n",
      "dtype: float64\n",
      "[20.06.2023 14:35:37 | metrics | INFO]: Standardised mean difference: age           0.000711\n",
      "is_male       0.000000\n",
      "pre_spends    0.004004\n",
      "dtype: float64\n",
      "[20.06.2023 14:35:37 | metrics | INFO]: Kolmogorov-Smirnov test to check matching quality: \n",
      "{'age': 0.9999999999999999, 'is_male': 1.0, 'pre_spends': 0.9999999995270387}\n",
      "[20.06.2023 14:35:37 | metrics | INFO]: Kolmogorov-Smirnov test to check matching quality: \n",
      "{'age': 0.14179225415188376, 'is_male': 1.0, 'pre_spends': 0.2901663292175348}\n",
      "[20.06.2023 14:35:37 | psi_pandas | INFO]: Creating report\n",
      "[20.06.2023 14:35:37 | psi_pandas | INFO]: PSI value:  0.005\n",
      "[20.06.2023 14:35:37 | psi_pandas | INFO]: PSI value:  0.000\n",
      "[20.06.2023 14:35:37 | psi_pandas | INFO]: PSI value:  0.000\n",
      "[20.06.2023 14:35:37 | psi_pandas | INFO]: PSI value:  16.110\n",
      "[20.06.2023 14:35:37 | psi_pandas | INFO]: PSI value:  0.003\n",
      "[20.06.2023 14:35:37 | psi_pandas | INFO]: Creating report\n",
      "[20.06.2023 14:35:37 | psi_pandas | INFO]: PSI value:  0.008\n",
      "[20.06.2023 14:35:37 | psi_pandas | INFO]: PSI value:  0.000\n",
      "[20.06.2023 14:35:37 | psi_pandas | INFO]: PSI value:  0.000\n",
      "[20.06.2023 14:35:37 | psi_pandas | INFO]: PSI value:  8.270\n",
      "[20.06.2023 14:35:37 | psi_pandas | INFO]: PSI value:  0.011\n",
      "[20.06.2023 14:35:37 | metrics | INFO]: Fraction of duplicated indexes:  0.94\n",
      "[20.06.2023 14:35:37 | metrics | INFO]: Fraction of duplicated indexes:  0.09\n",
      "[20.06.2023 14:35:37 | Faiss digitaltwins | INFO]: PSI info: \n",
      "                 column  anomaly_score check_result                 column  \\\n",
      "0          age_treated           0.00           OK          age_untreated   \n",
      "1   industry_2_treated           0.00           OK   industry_2_untreated   \n",
      "2      is_male_treated           0.00           OK      is_male_untreated   \n",
      "3  post_spends_treated          16.11          NOK  post_spends_untreated   \n",
      "4   pre_spends_treated           0.00           OK   pre_spends_untreated   \n",
      "\n",
      "   anomaly_score check_result  \n",
      "0           0.01           OK  \n",
      "1           0.00           OK  \n",
      "2           0.00           OK  \n",
      "3           8.27          NOK  \n",
      "4           0.01           OK   \n",
      "shape:(5, 6)\n",
      "[20.06.2023 14:35:37 | Faiss digitaltwins | INFO]: Kolmogorov-Smirnov test info: \n",
      "             match_control_to_treat  match_treat_to_control\n",
      "age                            1.0                0.141792\n",
      "is_male                        1.0                1.000000\n",
      "pre_spends                     1.0                0.290166 \n",
      "shape:(3, 2)\n",
      "[20.06.2023 14:35:37 | Faiss digitaltwins | INFO]: Standardised mean difference info: \n",
      "             match_control_to_treat  match_treat_to_control\n",
      "age                       0.002108                0.000711\n",
      "is_male                   0.000000                0.000000\n",
      "pre_spends                0.002732                0.004004 \n",
      "shape:(3, 2)\n",
      "[20.06.2023 14:35:37 | Faiss digitaltwins | INFO]: Repeats info: \n",
      "                         value\n",
      "match_control_to_treat   0.94\n",
      "match_treat_to_control   0.09\n"
     ]
    }
   ],
   "source": [
    "# Standard model with base parameters\n",
    "model = Matcher(input_data=df_i_signupmonth, outcome=outcome, treatment=treatment, info_col=info_col, n_neighbors=10)\n",
    "results, quality_results = model.estimate()"
   ]
  },
  {
   "cell_type": "code",
   "execution_count": 9,
   "metadata": {},
   "outputs": [
    {
     "data": {
      "text/plain": "     effect_size   std_err  p-val   ci_lower    ci_upper\nATE    99.773771  0.558758    0.0  98.678605  100.868936\nATC    99.759920  0.569823    0.0  98.643067  100.876773\nATT    99.923628  0.680077    0.0  98.590676  101.256580",
      "text/html": "<div>\n<style scoped>\n    .dataframe tbody tr th:only-of-type {\n        vertical-align: middle;\n    }\n\n    .dataframe tbody tr th {\n        vertical-align: top;\n    }\n\n    .dataframe thead th {\n        text-align: right;\n    }\n</style>\n<table border=\"1\" class=\"dataframe\">\n  <thead>\n    <tr style=\"text-align: right;\">\n      <th></th>\n      <th>effect_size</th>\n      <th>std_err</th>\n      <th>p-val</th>\n      <th>ci_lower</th>\n      <th>ci_upper</th>\n    </tr>\n  </thead>\n  <tbody>\n    <tr>\n      <th>ATE</th>\n      <td>99.773771</td>\n      <td>0.558758</td>\n      <td>0.0</td>\n      <td>98.678605</td>\n      <td>100.868936</td>\n    </tr>\n    <tr>\n      <th>ATC</th>\n      <td>99.759920</td>\n      <td>0.569823</td>\n      <td>0.0</td>\n      <td>98.643067</td>\n      <td>100.876773</td>\n    </tr>\n    <tr>\n      <th>ATT</th>\n      <td>99.923628</td>\n      <td>0.680077</td>\n      <td>0.0</td>\n      <td>98.590676</td>\n      <td>101.256580</td>\n    </tr>\n  </tbody>\n</table>\n</div>"
     },
     "execution_count": 9,
     "metadata": {},
     "output_type": "execute_result"
    }
   ],
   "source": [
    "results"
   ]
  },
  {
   "cell_type": "markdown",
   "metadata": {},
   "source": [
    "### 2.2 Matching with a fixed variable  \n",
    "Used when you have categorical feature(s) that you want to compare by strict equality  \n",
    "group_col is used for strict comparison of categorical features.  \n",
    "In our case there is only one attribute  \n",
    "If there are several such attributes, you should make one of them and use it"
   ]
  },
  {
   "cell_type": "code",
   "execution_count": 10,
   "metadata": {},
   "outputs": [],
   "source": [
    "# group_col is used for strict comparison of categorical features.  \n",
    "# In our case there is only one attribute  \n",
    "# If there are several such attributes, you should make one of them and use it\n",
    "\n",
    "group_col = \"industry\""
   ]
  },
  {
   "cell_type": "code",
   "execution_count": 11,
   "metadata": {},
   "outputs": [
    {
     "name": "stderr",
     "output_type": "stream",
     "text": [
      "[20.06.2023 14:35:37 | digitaltwins | INFO]: Applying matching\n"
     ]
    },
    {
     "name": "stdout",
     "output_type": "stream",
     "text": [
      "Finding index\n",
      "Done\n",
      "Finding index\n",
      "Done\n",
      "Finding index\n",
      "Done\n",
      "Finding index\n",
      "Done\n"
     ]
    },
    {
     "name": "stderr",
     "output_type": "stream",
     "text": [
      "[20.06.2023 14:35:38 | Faiss digitaltwins | INFO]: Calculated the number of times each subject has appeared as a match: 470\n",
      "[20.06.2023 14:35:38 | Faiss digitaltwins | INFO]: Calculated the number of times each subject has appeared as a match: 5085\n",
      "[20.06.2023 14:35:38 | Faiss digitaltwins | INFO]: Estimating quality of matching\n",
      "[20.06.2023 14:35:38 | metrics | INFO]: Standardised mean difference: age           0.083486\n",
      "is_male       0.082272\n",
      "pre_spends    0.107855\n",
      "dtype: float64\n",
      "[20.06.2023 14:35:38 | metrics | INFO]: Standardised mean difference: age           0.092662\n",
      "is_male       0.013177\n",
      "pre_spends    0.023535\n",
      "dtype: float64\n",
      "[20.06.2023 14:35:38 | metrics | INFO]: Kolmogorov-Smirnov test to check matching quality: \n",
      "{'age': 0.022117461071978834, 'is_male': 0.0926091053587308, 'pre_spends': 0.5197453752275736}\n",
      "[20.06.2023 14:35:38 | metrics | INFO]: Kolmogorov-Smirnov test to check matching quality: \n",
      "{'age': 2.6374269491295828e-05, 'is_male': 0.9933679055978988, 'pre_spends': 0.07204710684837043}\n",
      "[20.06.2023 14:35:38 | psi_pandas | INFO]: Creating report\n",
      "[20.06.2023 14:35:38 | psi_pandas | INFO]: PSI value:  0.069\n",
      "[20.06.2023 14:35:38 | psi_pandas | INFO]: PSI value:  0.000\n",
      "[20.06.2023 14:35:38 | psi_pandas | INFO]: PSI value:  0.000\n",
      "[20.06.2023 14:35:38 | psi_pandas | INFO]: PSI value:  16.110\n",
      "[20.06.2023 14:35:38 | psi_pandas | INFO]: PSI value:  0.050\n",
      "[20.06.2023 14:35:38 | psi_pandas | INFO]: Creating report\n",
      "[20.06.2023 14:35:38 | psi_pandas | INFO]: PSI value:  0.016\n",
      "[20.06.2023 14:35:38 | psi_pandas | INFO]: PSI value:  0.000\n",
      "[20.06.2023 14:35:38 | psi_pandas | INFO]: PSI value:  0.000\n",
      "[20.06.2023 14:35:38 | psi_pandas | INFO]: PSI value:  8.270\n",
      "[20.06.2023 14:35:38 | psi_pandas | INFO]: PSI value:  0.017\n",
      "[20.06.2023 14:35:38 | metrics | INFO]: Fraction of duplicated indexes:  0.94\n",
      "[20.06.2023 14:35:38 | metrics | INFO]: Fraction of duplicated indexes:  0.09\n",
      "[20.06.2023 14:35:38 | Faiss digitaltwins | INFO]: PSI info: \n",
      "                 column  anomaly_score check_result                 column  \\\n",
      "0          age_treated           0.07           OK          age_untreated   \n",
      "1     industry_treated           0.00           OK     industry_untreated   \n",
      "2      is_male_treated           0.00           OK      is_male_untreated   \n",
      "3  post_spends_treated          16.11          NOK  post_spends_untreated   \n",
      "4   pre_spends_treated           0.05           OK   pre_spends_untreated   \n",
      "\n",
      "   anomaly_score check_result  \n",
      "0           0.02           OK  \n",
      "1           0.00           OK  \n",
      "2           0.00           OK  \n",
      "3           8.27          NOK  \n",
      "4           0.02           OK   \n",
      "shape:(5, 6)\n",
      "[20.06.2023 14:35:38 | Faiss digitaltwins | INFO]: Kolmogorov-Smirnov test info: \n",
      "             match_control_to_treat  match_treat_to_control\n",
      "age                       0.022117                0.000026\n",
      "is_male                   0.092609                0.993368\n",
      "pre_spends                0.519745                0.072047 \n",
      "shape:(3, 2)\n",
      "[20.06.2023 14:35:38 | Faiss digitaltwins | INFO]: Standardised mean difference info: \n",
      "             match_control_to_treat  match_treat_to_control\n",
      "age                       0.083486                0.092662\n",
      "is_male                   0.082272                0.013177\n",
      "pre_spends                0.107855                0.023535 \n",
      "shape:(3, 2)\n",
      "[20.06.2023 14:35:38 | Faiss digitaltwins | INFO]: Repeats info: \n",
      "                         value\n",
      "match_control_to_treat   0.94\n",
      "match_treat_to_control   0.09\n"
     ]
    }
   ],
   "source": [
    "model = Matcher(input_data=df_i_signupmonth, outcome=outcome, treatment=treatment, \n",
    "                info_col=info_col, group_col=group_col)\n",
    "results, quality_results = model.estimate()"
   ]
  },
  {
   "cell_type": "markdown",
   "metadata": {},
   "source": [
    "### 2.3 Matching but you don't know which features are better to use  \n",
    "This is the easiest way to initialize and calculate metrics on a Matching task  \n",
    "Use this method when you want to select the most important features and make matching based on them. "
   ]
  },
  {
   "cell_type": "code",
   "execution_count": 13,
   "metadata": {},
   "outputs": [],
   "source": [
    "model = Matcher(df=df_i_signupmonth, outcome=outcome, treatment=treatment, \n",
    "                info_col=info_col, group_col=group_col)"
   ]
  },
  {
   "cell_type": "code",
   "execution_count": 14,
   "metadata": {
    "scrolled": true
   },
   "outputs": [
    {
     "name": "stderr",
     "output_type": "stream",
     "text": [
      "[20.06.2023 14:35:45 | digitaltwins | INFO]: Counting feature importance\n",
      "[20.06.2023 14:35:45 | lama_feature_selector | INFO]: Getting feature scores\n"
     ]
    },
    {
     "data": {
      "text/plain": "      Feature     Importance\n0  pre_spends  731901.420776\n3    industry  731901.420776\n1         age  411871.519897\n2     is_male   47985.460449",
      "text/html": "<div>\n<style scoped>\n    .dataframe tbody tr th:only-of-type {\n        vertical-align: middle;\n    }\n\n    .dataframe tbody tr th {\n        vertical-align: top;\n    }\n\n    .dataframe thead th {\n        text-align: right;\n    }\n</style>\n<table border=\"1\" class=\"dataframe\">\n  <thead>\n    <tr style=\"text-align: right;\">\n      <th></th>\n      <th>Feature</th>\n      <th>Importance</th>\n    </tr>\n  </thead>\n  <tbody>\n    <tr>\n      <th>0</th>\n      <td>pre_spends</td>\n      <td>731901.420776</td>\n    </tr>\n    <tr>\n      <th>3</th>\n      <td>industry</td>\n      <td>731901.420776</td>\n    </tr>\n    <tr>\n      <th>1</th>\n      <td>age</td>\n      <td>411871.519897</td>\n    </tr>\n    <tr>\n      <th>2</th>\n      <td>is_male</td>\n      <td>47985.460449</td>\n    </tr>\n  </tbody>\n</table>\n</div>"
     },
     "execution_count": 14,
     "metadata": {},
     "output_type": "execute_result"
    }
   ],
   "source": [
    "features_importance = model.lama_feature_select()\n",
    "features_importance"
   ]
  },
  {
   "cell_type": "code",
   "execution_count": 15,
   "metadata": {},
   "outputs": [],
   "source": [
    "features = features_importance['Feature'].to_list()"
   ]
  },
  {
   "cell_type": "code",
   "execution_count": 16,
   "metadata": {},
   "outputs": [
    {
     "name": "stderr",
     "output_type": "stream",
     "text": [
      "[20.06.2023 14:35:53 | digitaltwins | INFO]: Applying matching\n"
     ]
    },
    {
     "name": "stdout",
     "output_type": "stream",
     "text": [
      "Finding index\n",
      "Done\n",
      "Finding index\n",
      "Done\n",
      "Finding index\n",
      "Done\n",
      "Finding index\n",
      "Done\n"
     ]
    },
    {
     "name": "stderr",
     "output_type": "stream",
     "text": [
      "[20.06.2023 14:35:53 | Faiss digitaltwins | INFO]: Calculated the number of times each subject has appeared as a match: 470\n",
      "[20.06.2023 14:35:53 | Faiss digitaltwins | INFO]: Calculated the number of times each subject has appeared as a match: 5085\n",
      "[20.06.2023 14:35:53 | Faiss digitaltwins | INFO]: Estimating quality of matching\n",
      "[20.06.2023 14:35:53 | metrics | INFO]: Standardised mean difference: age           0.094233\n",
      "is_male       0.069506\n",
      "pre_spends    0.049893\n",
      "dtype: float64\n",
      "[20.06.2023 14:35:53 | metrics | INFO]: Standardised mean difference: age           0.078014\n",
      "is_male       0.012783\n",
      "pre_spends    0.034165\n",
      "dtype: float64\n",
      "[20.06.2023 14:35:53 | metrics | INFO]: Kolmogorov-Smirnov test to check matching quality: \n",
      "{'age': 0.032463286535320185, 'is_male': 0.009750918612551032, 'pre_spends': 0.5728752383968168}\n",
      "[20.06.2023 14:35:53 | metrics | INFO]: Kolmogorov-Smirnov test to check matching quality: \n",
      "{'age': 0.001649770877043844, 'is_male': 0.9933679055978988, 'pre_spends': 0.026927392686995264}\n",
      "[20.06.2023 14:35:53 | psi_pandas | INFO]: Creating report\n",
      "[20.06.2023 14:35:53 | psi_pandas | INFO]: PSI value:  0.074\n",
      "[20.06.2023 14:35:53 | psi_pandas | INFO]: PSI value:  0.000\n",
      "[20.06.2023 14:35:53 | psi_pandas | INFO]: PSI value:  16.110\n",
      "[20.06.2023 14:35:53 | psi_pandas | INFO]: PSI value:  0.031\n",
      "[20.06.2023 14:35:53 | psi_pandas | INFO]: Creating report\n",
      "[20.06.2023 14:35:53 | psi_pandas | INFO]: PSI value:  0.023\n",
      "[20.06.2023 14:35:53 | psi_pandas | INFO]: PSI value:  0.000\n",
      "[20.06.2023 14:35:53 | psi_pandas | INFO]: PSI value:  8.270\n",
      "[20.06.2023 14:35:53 | psi_pandas | INFO]: PSI value:  0.014\n",
      "[20.06.2023 14:35:53 | metrics | INFO]: Fraction of duplicated indexes:  0.95\n",
      "[20.06.2023 14:35:53 | metrics | INFO]: Fraction of duplicated indexes:  0.09\n",
      "[20.06.2023 14:35:53 | Faiss digitaltwins | INFO]: PSI info: \n",
      "                 column  anomaly_score check_result                 column  \\\n",
      "0          age_treated           0.07           OK          age_untreated   \n",
      "1     industry_treated           0.00           OK     industry_untreated   \n",
      "2  post_spends_treated          16.11          NOK  post_spends_untreated   \n",
      "3   pre_spends_treated           0.03           OK   pre_spends_untreated   \n",
      "\n",
      "   anomaly_score check_result  \n",
      "0           0.02           OK  \n",
      "1           0.00           OK  \n",
      "2           8.27          NOK  \n",
      "3           0.01           OK   \n",
      "shape:(4, 6)\n",
      "[20.06.2023 14:35:53 | Faiss digitaltwins | INFO]: Kolmogorov-Smirnov test info: \n",
      "             match_control_to_treat  match_treat_to_control\n",
      "age                       0.032463                0.001650\n",
      "is_male                   0.009751                0.993368\n",
      "pre_spends                0.572875                0.026927 \n",
      "shape:(3, 2)\n",
      "[20.06.2023 14:35:53 | Faiss digitaltwins | INFO]: Standardised mean difference info: \n",
      "             match_control_to_treat  match_treat_to_control\n",
      "age                       0.094233                0.078014\n",
      "is_male                   0.069506                0.012783\n",
      "pre_spends                0.049893                0.034165 \n",
      "shape:(3, 2)\n",
      "[20.06.2023 14:35:53 | Faiss digitaltwins | INFO]: Repeats info: \n",
      "                         value\n",
      "match_control_to_treat   0.95\n",
      "match_treat_to_control   0.09\n"
     ]
    }
   ],
   "source": [
    "# You can use both variant that you like. So you can just list the features to be matched\n",
    "\n",
    "#results, quality_results = model.estimate(features=features_importance[:3])\n",
    "results, quality_results = model.estimate(features=features[:3])"
   ]
  },
  {
   "cell_type": "code",
   "execution_count": 17,
   "metadata": {},
   "outputs": [
    {
     "data": {
      "text/plain": "      index  pre_spends  age  is_male industry  user_id  signup_month  \\\n0      4400       498.0   69        1        1     7919             3   \n1      2251       509.0   20        0        1     4055             3   \n2      2222       474.0   50        0        1     3999             3   \n3      2226       470.0   30        0        1     4005             3   \n4      2230       487.5   54        1        1     4011             3   \n...     ...         ...  ...      ...      ...      ...           ...   \n5080   2467       479.0   21        0        2     4427             0   \n5081   2468       485.0   64        0        2     4430             0   \n5082   2469       477.5   53        0        2     4431             0   \n5083   2447       486.5   52        0        2     4399             0   \n5084   2777       481.0   23        1        2     4981             0   \n\n      pre_spends_matched  age_matched  is_male_matched  user_id_matched  \\\n0                  477.5         41.0              1.0           3812.0   \n1                  493.0         67.0              0.0           6813.0   \n2                  497.5         52.0              0.0             70.0   \n3                  455.0         59.0              1.0            371.0   \n4                  495.5         41.0              1.0           3976.0   \n...                  ...          ...              ...              ...   \n5080               482.5         47.0              0.0           1164.0   \n5081               490.0         39.0              0.0           5480.0   \n5082               504.5         44.0              1.0           6124.0   \n5083               474.0         40.0              0.0           9542.0   \n5084               485.5         48.0              0.0           5037.0   \n\n      signup_month_matched industry_matched index_matched  post_spends  \\\n0                      0.0                2         [141]   529.000000   \n1                      0.0                2        [2814]   519.666667   \n2                      0.0                2        [4311]   519.555556   \n3                      0.0                1        [1754]   511.555556   \n4                      0.0                1        [5110]   522.222222   \n...                    ...              ...           ...          ...   \n5080                   0.0                1        [2049]   419.888889   \n5081                   0.0                1        [1407]   424.000000   \n5082                   0.0                1        [5053]   424.555556   \n5083                   0.0                1        [1824]   431.333333   \n5084                   0.0                1        [4783]   431.888889   \n\n      post_spends_matched  post_spends_matched_bias  treat  treat_matched  \n0              414.000000                115.000000      1              0  \n1              432.444444                 87.237613      1              0  \n2              443.777778                 75.777778      1              0  \n3              410.444444                101.128093      1              0  \n4              420.555556                101.666667      1              0  \n...                   ...                       ...    ...            ...  \n5080           522.111111                101.816672      0              1  \n5081           520.444444                 96.451564      0              1  \n5082           510.111111                 85.572399      0              1  \n5083           522.444444                 90.685157      0              1  \n5084           527.666667                 95.770659      0              1  \n\n[5555 rows x 19 columns]",
      "text/html": "<div>\n<style scoped>\n    .dataframe tbody tr th:only-of-type {\n        vertical-align: middle;\n    }\n\n    .dataframe tbody tr th {\n        vertical-align: top;\n    }\n\n    .dataframe thead th {\n        text-align: right;\n    }\n</style>\n<table border=\"1\" class=\"dataframe\">\n  <thead>\n    <tr style=\"text-align: right;\">\n      <th></th>\n      <th>index</th>\n      <th>pre_spends</th>\n      <th>age</th>\n      <th>is_male</th>\n      <th>industry</th>\n      <th>user_id</th>\n      <th>signup_month</th>\n      <th>pre_spends_matched</th>\n      <th>age_matched</th>\n      <th>is_male_matched</th>\n      <th>user_id_matched</th>\n      <th>signup_month_matched</th>\n      <th>industry_matched</th>\n      <th>index_matched</th>\n      <th>post_spends</th>\n      <th>post_spends_matched</th>\n      <th>post_spends_matched_bias</th>\n      <th>treat</th>\n      <th>treat_matched</th>\n    </tr>\n  </thead>\n  <tbody>\n    <tr>\n      <th>0</th>\n      <td>4400</td>\n      <td>498.0</td>\n      <td>69</td>\n      <td>1</td>\n      <td>1</td>\n      <td>7919</td>\n      <td>3</td>\n      <td>477.5</td>\n      <td>41.0</td>\n      <td>1.0</td>\n      <td>3812.0</td>\n      <td>0.0</td>\n      <td>2</td>\n      <td>[141]</td>\n      <td>529.000000</td>\n      <td>414.000000</td>\n      <td>115.000000</td>\n      <td>1</td>\n      <td>0</td>\n    </tr>\n    <tr>\n      <th>1</th>\n      <td>2251</td>\n      <td>509.0</td>\n      <td>20</td>\n      <td>0</td>\n      <td>1</td>\n      <td>4055</td>\n      <td>3</td>\n      <td>493.0</td>\n      <td>67.0</td>\n      <td>0.0</td>\n      <td>6813.0</td>\n      <td>0.0</td>\n      <td>2</td>\n      <td>[2814]</td>\n      <td>519.666667</td>\n      <td>432.444444</td>\n      <td>87.237613</td>\n      <td>1</td>\n      <td>0</td>\n    </tr>\n    <tr>\n      <th>2</th>\n      <td>2222</td>\n      <td>474.0</td>\n      <td>50</td>\n      <td>0</td>\n      <td>1</td>\n      <td>3999</td>\n      <td>3</td>\n      <td>497.5</td>\n      <td>52.0</td>\n      <td>0.0</td>\n      <td>70.0</td>\n      <td>0.0</td>\n      <td>2</td>\n      <td>[4311]</td>\n      <td>519.555556</td>\n      <td>443.777778</td>\n      <td>75.777778</td>\n      <td>1</td>\n      <td>0</td>\n    </tr>\n    <tr>\n      <th>3</th>\n      <td>2226</td>\n      <td>470.0</td>\n      <td>30</td>\n      <td>0</td>\n      <td>1</td>\n      <td>4005</td>\n      <td>3</td>\n      <td>455.0</td>\n      <td>59.0</td>\n      <td>1.0</td>\n      <td>371.0</td>\n      <td>0.0</td>\n      <td>1</td>\n      <td>[1754]</td>\n      <td>511.555556</td>\n      <td>410.444444</td>\n      <td>101.128093</td>\n      <td>1</td>\n      <td>0</td>\n    </tr>\n    <tr>\n      <th>4</th>\n      <td>2230</td>\n      <td>487.5</td>\n      <td>54</td>\n      <td>1</td>\n      <td>1</td>\n      <td>4011</td>\n      <td>3</td>\n      <td>495.5</td>\n      <td>41.0</td>\n      <td>1.0</td>\n      <td>3976.0</td>\n      <td>0.0</td>\n      <td>1</td>\n      <td>[5110]</td>\n      <td>522.222222</td>\n      <td>420.555556</td>\n      <td>101.666667</td>\n      <td>1</td>\n      <td>0</td>\n    </tr>\n    <tr>\n      <th>...</th>\n      <td>...</td>\n      <td>...</td>\n      <td>...</td>\n      <td>...</td>\n      <td>...</td>\n      <td>...</td>\n      <td>...</td>\n      <td>...</td>\n      <td>...</td>\n      <td>...</td>\n      <td>...</td>\n      <td>...</td>\n      <td>...</td>\n      <td>...</td>\n      <td>...</td>\n      <td>...</td>\n      <td>...</td>\n      <td>...</td>\n      <td>...</td>\n    </tr>\n    <tr>\n      <th>5080</th>\n      <td>2467</td>\n      <td>479.0</td>\n      <td>21</td>\n      <td>0</td>\n      <td>2</td>\n      <td>4427</td>\n      <td>0</td>\n      <td>482.5</td>\n      <td>47.0</td>\n      <td>0.0</td>\n      <td>1164.0</td>\n      <td>0.0</td>\n      <td>1</td>\n      <td>[2049]</td>\n      <td>419.888889</td>\n      <td>522.111111</td>\n      <td>101.816672</td>\n      <td>0</td>\n      <td>1</td>\n    </tr>\n    <tr>\n      <th>5081</th>\n      <td>2468</td>\n      <td>485.0</td>\n      <td>64</td>\n      <td>0</td>\n      <td>2</td>\n      <td>4430</td>\n      <td>0</td>\n      <td>490.0</td>\n      <td>39.0</td>\n      <td>0.0</td>\n      <td>5480.0</td>\n      <td>0.0</td>\n      <td>1</td>\n      <td>[1407]</td>\n      <td>424.000000</td>\n      <td>520.444444</td>\n      <td>96.451564</td>\n      <td>0</td>\n      <td>1</td>\n    </tr>\n    <tr>\n      <th>5082</th>\n      <td>2469</td>\n      <td>477.5</td>\n      <td>53</td>\n      <td>0</td>\n      <td>2</td>\n      <td>4431</td>\n      <td>0</td>\n      <td>504.5</td>\n      <td>44.0</td>\n      <td>1.0</td>\n      <td>6124.0</td>\n      <td>0.0</td>\n      <td>1</td>\n      <td>[5053]</td>\n      <td>424.555556</td>\n      <td>510.111111</td>\n      <td>85.572399</td>\n      <td>0</td>\n      <td>1</td>\n    </tr>\n    <tr>\n      <th>5083</th>\n      <td>2447</td>\n      <td>486.5</td>\n      <td>52</td>\n      <td>0</td>\n      <td>2</td>\n      <td>4399</td>\n      <td>0</td>\n      <td>474.0</td>\n      <td>40.0</td>\n      <td>0.0</td>\n      <td>9542.0</td>\n      <td>0.0</td>\n      <td>1</td>\n      <td>[1824]</td>\n      <td>431.333333</td>\n      <td>522.444444</td>\n      <td>90.685157</td>\n      <td>0</td>\n      <td>1</td>\n    </tr>\n    <tr>\n      <th>5084</th>\n      <td>2777</td>\n      <td>481.0</td>\n      <td>23</td>\n      <td>1</td>\n      <td>2</td>\n      <td>4981</td>\n      <td>0</td>\n      <td>485.5</td>\n      <td>48.0</td>\n      <td>0.0</td>\n      <td>5037.0</td>\n      <td>0.0</td>\n      <td>1</td>\n      <td>[4783]</td>\n      <td>431.888889</td>\n      <td>527.666667</td>\n      <td>95.770659</td>\n      <td>0</td>\n      <td>1</td>\n    </tr>\n  </tbody>\n</table>\n<p>5555 rows × 19 columns</p>\n</div>"
     },
     "execution_count": 17,
     "metadata": {},
     "output_type": "execute_result"
    }
   ],
   "source": [
    "model.matcher.df_matched"
   ]
  },
  {
   "cell_type": "markdown",
   "metadata": {},
   "source": [
    "## 3. Results  \n",
    "### 3.1 ATE, ATT, ATC"
   ]
  },
  {
   "cell_type": "code",
   "execution_count": 18,
   "metadata": {},
   "outputs": [
    {
     "data": {
      "text/plain": "     effect_size   std_err  p-val   ci_lower    ci_upper\nATE    99.741828  0.550918    0.0  98.662029  100.821628\nATC    99.787987  0.561974    0.0  98.686519  100.889455\nATT    99.242432  0.658704    0.0  97.951372  100.533493",
      "text/html": "<div>\n<style scoped>\n    .dataframe tbody tr th:only-of-type {\n        vertical-align: middle;\n    }\n\n    .dataframe tbody tr th {\n        vertical-align: top;\n    }\n\n    .dataframe thead th {\n        text-align: right;\n    }\n</style>\n<table border=\"1\" class=\"dataframe\">\n  <thead>\n    <tr style=\"text-align: right;\">\n      <th></th>\n      <th>effect_size</th>\n      <th>std_err</th>\n      <th>p-val</th>\n      <th>ci_lower</th>\n      <th>ci_upper</th>\n    </tr>\n  </thead>\n  <tbody>\n    <tr>\n      <th>ATE</th>\n      <td>99.741828</td>\n      <td>0.550918</td>\n      <td>0.0</td>\n      <td>98.662029</td>\n      <td>100.821628</td>\n    </tr>\n    <tr>\n      <th>ATC</th>\n      <td>99.787987</td>\n      <td>0.561974</td>\n      <td>0.0</td>\n      <td>98.686519</td>\n      <td>100.889455</td>\n    </tr>\n    <tr>\n      <th>ATT</th>\n      <td>99.242432</td>\n      <td>0.658704</td>\n      <td>0.0</td>\n      <td>97.951372</td>\n      <td>100.533493</td>\n    </tr>\n  </tbody>\n</table>\n</div>"
     },
     "execution_count": 18,
     "metadata": {},
     "output_type": "execute_result"
    }
   ],
   "source": [
    "# model.matcher.results\n",
    "results"
   ]
  },
  {
   "cell_type": "markdown",
   "metadata": {},
   "source": [
    "### 3.2 SMD, PSI, KS-test, repeats"
   ]
  },
  {
   "cell_type": "code",
   "execution_count": 19,
   "metadata": {},
   "outputs": [
    {
     "data": {
      "text/plain": "{'psi':                 column  anomaly_score check_result                 column  \\\n 0          age_treated           0.07           OK          age_untreated   \n 1     industry_treated           0.00           OK     industry_untreated   \n 2  post_spends_treated          16.11          NOK  post_spends_untreated   \n 3   pre_spends_treated           0.03           OK   pre_spends_untreated   \n \n    anomaly_score check_result  \n 0           0.02           OK  \n 1           0.00           OK  \n 2           8.27          NOK  \n 3           0.01           OK  ,\n 'ks_test':             match_control_to_treat  match_treat_to_control\n age                       0.032463                0.001650\n is_male                   0.009751                0.993368\n pre_spends                0.572875                0.026927,\n 'smd':             match_control_to_treat  match_treat_to_control\n age                       0.094233                0.078014\n is_male                   0.069506                0.012783\n pre_spends                0.049893                0.034165,\n 'repeats': {'match_control_to_treat': 0.95, 'match_treat_to_control': 0.09}}"
     },
     "execution_count": 19,
     "metadata": {},
     "output_type": "execute_result"
    }
   ],
   "source": [
    "# matching quality result - SMD\n",
    "model.quality_result"
   ]
  },
  {
   "cell_type": "code",
   "execution_count": 20,
   "metadata": {},
   "outputs": [
    {
     "data": {
      "text/plain": "                column  anomaly_score check_result                 column  \\\n0          age_treated           0.07           OK          age_untreated   \n1     industry_treated           0.00           OK     industry_untreated   \n2  post_spends_treated          16.11          NOK  post_spends_untreated   \n3   pre_spends_treated           0.03           OK   pre_spends_untreated   \n\n   anomaly_score check_result  \n0           0.02           OK  \n1           0.00           OK  \n2           8.27          NOK  \n3           0.01           OK  ",
      "text/html": "<div>\n<style scoped>\n    .dataframe tbody tr th:only-of-type {\n        vertical-align: middle;\n    }\n\n    .dataframe tbody tr th {\n        vertical-align: top;\n    }\n\n    .dataframe thead th {\n        text-align: right;\n    }\n</style>\n<table border=\"1\" class=\"dataframe\">\n  <thead>\n    <tr style=\"text-align: right;\">\n      <th></th>\n      <th>column</th>\n      <th>anomaly_score</th>\n      <th>check_result</th>\n      <th>column</th>\n      <th>anomaly_score</th>\n      <th>check_result</th>\n    </tr>\n  </thead>\n  <tbody>\n    <tr>\n      <th>0</th>\n      <td>age_treated</td>\n      <td>0.07</td>\n      <td>OK</td>\n      <td>age_untreated</td>\n      <td>0.02</td>\n      <td>OK</td>\n    </tr>\n    <tr>\n      <th>1</th>\n      <td>industry_treated</td>\n      <td>0.00</td>\n      <td>OK</td>\n      <td>industry_untreated</td>\n      <td>0.00</td>\n      <td>OK</td>\n    </tr>\n    <tr>\n      <th>2</th>\n      <td>post_spends_treated</td>\n      <td>16.11</td>\n      <td>NOK</td>\n      <td>post_spends_untreated</td>\n      <td>8.27</td>\n      <td>NOK</td>\n    </tr>\n    <tr>\n      <th>3</th>\n      <td>pre_spends_treated</td>\n      <td>0.03</td>\n      <td>OK</td>\n      <td>pre_spends_untreated</td>\n      <td>0.01</td>\n      <td>OK</td>\n    </tr>\n  </tbody>\n</table>\n</div>"
     },
     "execution_count": 20,
     "metadata": {},
     "output_type": "execute_result"
    }
   ],
   "source": [
    "# matching quality result - PSI\n",
    "model.quality_result['psi']"
   ]
  },
  {
   "cell_type": "code",
   "execution_count": 21,
   "metadata": {},
   "outputs": [
    {
     "data": {
      "text/plain": "            match_control_to_treat  match_treat_to_control\nage                       0.032463                0.001650\nis_male                   0.009751                0.993368\npre_spends                0.572875                0.026927",
      "text/html": "<div>\n<style scoped>\n    .dataframe tbody tr th:only-of-type {\n        vertical-align: middle;\n    }\n\n    .dataframe tbody tr th {\n        vertical-align: top;\n    }\n\n    .dataframe thead th {\n        text-align: right;\n    }\n</style>\n<table border=\"1\" class=\"dataframe\">\n  <thead>\n    <tr style=\"text-align: right;\">\n      <th></th>\n      <th>match_control_to_treat</th>\n      <th>match_treat_to_control</th>\n    </tr>\n  </thead>\n  <tbody>\n    <tr>\n      <th>age</th>\n      <td>0.032463</td>\n      <td>0.001650</td>\n    </tr>\n    <tr>\n      <th>is_male</th>\n      <td>0.009751</td>\n      <td>0.993368</td>\n    </tr>\n    <tr>\n      <th>pre_spends</th>\n      <td>0.572875</td>\n      <td>0.026927</td>\n    </tr>\n  </tbody>\n</table>\n</div>"
     },
     "execution_count": 21,
     "metadata": {},
     "output_type": "execute_result"
    }
   ],
   "source": [
    "# matching quality result - KS-test\n",
    "\n",
    "model.quality_result['ks_test']"
   ]
  },
  {
   "cell_type": "code",
   "execution_count": 22,
   "metadata": {},
   "outputs": [
    {
     "data": {
      "text/plain": "{'match_control_to_treat': 0.95, 'match_treat_to_control': 0.09}"
     },
     "execution_count": 22,
     "metadata": {},
     "output_type": "execute_result"
    }
   ],
   "source": [
    "# matching quality result - repeats\n",
    "model.quality_result['repeats']"
   ]
  },
  {
   "cell_type": "markdown",
   "metadata": {},
   "source": [
    "### 3.3 Validation\n",
    "validate result with placebo treatment  \n",
    "our new effect size is close to zero (it should be)"
   ]
  },
  {
   "cell_type": "code",
   "execution_count": 23,
   "metadata": {},
   "outputs": [
    {
     "name": "stderr",
     "output_type": "stream",
     "text": [
      "[20.06.2023 14:36:19 | digitaltwins | INFO]: Applying validation of result\n"
     ]
    },
    {
     "name": "stdout",
     "output_type": "stream",
     "text": [
      "Finding index\n",
      "Done\n",
      "Finding index\n",
      "Done\n",
      "Finding index\n",
      "Done\n",
      "Finding index\n",
      "Done\n"
     ]
    },
    {
     "name": "stderr",
     "output_type": "stream",
     "text": [
      "[20.06.2023 14:36:19 | Faiss digitaltwins | INFO]: Calculated the number of times each subject has appeared as a match: 470\n",
      "[20.06.2023 14:36:19 | Faiss digitaltwins | INFO]: Calculated the number of times each subject has appeared as a match: 5085\n"
     ]
    },
    {
     "ename": "LinAlgError",
     "evalue": "Matrix is not positive definite",
     "output_type": "error",
     "traceback": [
      "\u001B[0;31m---------------------------------------------------------------------------\u001B[0m",
      "\u001B[0;31mLinAlgError\u001B[0m                               Traceback (most recent call last)",
      "Cell \u001B[0;32mIn[23], line 1\u001B[0m\n\u001B[0;32m----> 1\u001B[0m \u001B[43mmodel\u001B[49m\u001B[38;5;241;43m.\u001B[39;49m\u001B[43mvalidate_result\u001B[49m\u001B[43m(\u001B[49m\u001B[43m)\u001B[49m\n",
      "File \u001B[0;32m~/PycharmProjects/matcher/lightautoml/addons/digitaltwins/matcher.py:273\u001B[0m, in \u001B[0;36mMatcher.validate_result\u001B[0;34m(self, refuter, n_sim, fraction)\u001B[0m\n\u001B[1;32m    271\u001B[0m     sim \u001B[38;5;241m=\u001B[39m \u001B[38;5;28mself\u001B[39m\u001B[38;5;241m.\u001B[39mmatcher\u001B[38;5;241m.\u001B[39mmatch()\n\u001B[1;32m    272\u001B[0m \u001B[38;5;28;01melse\u001B[39;00m:\n\u001B[0;32m--> 273\u001B[0m     sim \u001B[38;5;241m=\u001B[39m \u001B[38;5;28;43mself\u001B[39;49m\u001B[38;5;241;43m.\u001B[39;49m\u001B[43mmatcher\u001B[49m\u001B[38;5;241;43m.\u001B[39;49m\u001B[43mgroup_match\u001B[49m\u001B[43m(\u001B[49m\u001B[43m)\u001B[49m\n\u001B[1;32m    275\u001B[0m \u001B[38;5;28;01mfor\u001B[39;00m key \u001B[38;5;129;01min\u001B[39;00m \u001B[38;5;28mself\u001B[39m\u001B[38;5;241m.\u001B[39mval_dict\u001B[38;5;241m.\u001B[39mkeys():\n\u001B[1;32m    276\u001B[0m     \u001B[38;5;28mself\u001B[39m\u001B[38;5;241m.\u001B[39mval_dict[key]\u001B[38;5;241m.\u001B[39mappend(sim[key][\u001B[38;5;241m0\u001B[39m])\n",
      "File \u001B[0;32m~/PycharmProjects/matcher/lightautoml/addons/digitaltwins/algorithms/faiss_matcher.py:413\u001B[0m, in \u001B[0;36mFaissMatcher.group_match\u001B[0;34m(self)\u001B[0m\n\u001B[1;32m    410\u001B[0m \u001B[38;5;28;01mfor\u001B[39;00m i, ind \u001B[38;5;129;01min\u001B[39;00m \u001B[38;5;28menumerate\u001B[39m(temp[temp[\u001B[38;5;28mself\u001B[39m\u001B[38;5;241m.\u001B[39mtreatment] \u001B[38;5;241m==\u001B[39m \u001B[38;5;241m0\u001B[39m]\u001B[38;5;241m.\u001B[39mindex):\n\u001B[1;32m    411\u001B[0m     untreated_index\u001B[38;5;241m.\u001B[39mupdate({i: ind})\n\u001B[0;32m--> 413\u001B[0m std_treated_np, std_untreated_np \u001B[38;5;241m=\u001B[39m \u001B[43m_transform_to_np\u001B[49m\u001B[43m(\u001B[49m\u001B[43mtreated\u001B[49m\u001B[43m,\u001B[49m\u001B[43m \u001B[49m\u001B[43muntreated\u001B[49m\u001B[43m)\u001B[49m\n\u001B[1;32m    415\u001B[0m matches_c \u001B[38;5;241m=\u001B[39m _get_index(std_treated_np, std_untreated_np, \u001B[38;5;28mself\u001B[39m\u001B[38;5;241m.\u001B[39mn_neighbors)\n\u001B[1;32m    416\u001B[0m matches_t \u001B[38;5;241m=\u001B[39m _get_index(std_untreated_np, std_treated_np, \u001B[38;5;28mself\u001B[39m\u001B[38;5;241m.\u001B[39mn_neighbors)\n",
      "File \u001B[0;32m~/PycharmProjects/matcher/lightautoml/addons/digitaltwins/algorithms/faiss_matcher.py:529\u001B[0m, in \u001B[0;36m_transform_to_np\u001B[0;34m(treated, untreated)\u001B[0m\n\u001B[1;32m    526\u001B[0m cov_t \u001B[38;5;241m=\u001B[39m np\u001B[38;5;241m.\u001B[39mcov(xt, rowvar\u001B[38;5;241m=\u001B[39m\u001B[38;5;28;01mFalse\u001B[39;00m, ddof\u001B[38;5;241m=\u001B[39m\u001B[38;5;241m0\u001B[39m)\n\u001B[1;32m    527\u001B[0m cov \u001B[38;5;241m=\u001B[39m (cov_c \u001B[38;5;241m+\u001B[39m cov_t) \u001B[38;5;241m/\u001B[39m \u001B[38;5;241m2\u001B[39m\n\u001B[0;32m--> 529\u001B[0m L \u001B[38;5;241m=\u001B[39m \u001B[43mnp\u001B[49m\u001B[38;5;241;43m.\u001B[39;49m\u001B[43mlinalg\u001B[49m\u001B[38;5;241;43m.\u001B[39;49m\u001B[43mcholesky\u001B[49m\u001B[43m(\u001B[49m\u001B[43mcov\u001B[49m\u001B[43m)\u001B[49m\n\u001B[1;32m    530\u001B[0m mahalanobis_transform \u001B[38;5;241m=\u001B[39m np\u001B[38;5;241m.\u001B[39mlinalg\u001B[38;5;241m.\u001B[39minv(L)\n\u001B[1;32m    531\u001B[0m yc \u001B[38;5;241m=\u001B[39m np\u001B[38;5;241m.\u001B[39mdot(xc, mahalanobis_transform\u001B[38;5;241m.\u001B[39mT)\n",
      "File \u001B[0;32m<__array_function__ internals>:180\u001B[0m, in \u001B[0;36mcholesky\u001B[0;34m(*args, **kwargs)\u001B[0m\n",
      "File \u001B[0;32m~/PycharmProjects/matcher/venv/lib/python3.8/site-packages/numpy/linalg/linalg.py:770\u001B[0m, in \u001B[0;36mcholesky\u001B[0;34m(a)\u001B[0m\n\u001B[1;32m    768\u001B[0m t, result_t \u001B[38;5;241m=\u001B[39m _commonType(a)\n\u001B[1;32m    769\u001B[0m signature \u001B[38;5;241m=\u001B[39m \u001B[38;5;124m'\u001B[39m\u001B[38;5;124mD->D\u001B[39m\u001B[38;5;124m'\u001B[39m \u001B[38;5;28;01mif\u001B[39;00m isComplexType(t) \u001B[38;5;28;01melse\u001B[39;00m \u001B[38;5;124m'\u001B[39m\u001B[38;5;124md->d\u001B[39m\u001B[38;5;124m'\u001B[39m\n\u001B[0;32m--> 770\u001B[0m r \u001B[38;5;241m=\u001B[39m \u001B[43mgufunc\u001B[49m\u001B[43m(\u001B[49m\u001B[43ma\u001B[49m\u001B[43m,\u001B[49m\u001B[43m \u001B[49m\u001B[43msignature\u001B[49m\u001B[38;5;241;43m=\u001B[39;49m\u001B[43msignature\u001B[49m\u001B[43m,\u001B[49m\u001B[43m \u001B[49m\u001B[43mextobj\u001B[49m\u001B[38;5;241;43m=\u001B[39;49m\u001B[43mextobj\u001B[49m\u001B[43m)\u001B[49m\n\u001B[1;32m    771\u001B[0m \u001B[38;5;28;01mreturn\u001B[39;00m wrap(r\u001B[38;5;241m.\u001B[39mastype(result_t, copy\u001B[38;5;241m=\u001B[39m\u001B[38;5;28;01mFalse\u001B[39;00m))\n",
      "File \u001B[0;32m~/PycharmProjects/matcher/venv/lib/python3.8/site-packages/numpy/linalg/linalg.py:92\u001B[0m, in \u001B[0;36m_raise_linalgerror_nonposdef\u001B[0;34m(err, flag)\u001B[0m\n\u001B[1;32m     91\u001B[0m \u001B[38;5;28;01mdef\u001B[39;00m \u001B[38;5;21m_raise_linalgerror_nonposdef\u001B[39m(err, flag):\n\u001B[0;32m---> 92\u001B[0m     \u001B[38;5;28;01mraise\u001B[39;00m LinAlgError(\u001B[38;5;124m\"\u001B[39m\u001B[38;5;124mMatrix is not positive definite\u001B[39m\u001B[38;5;124m\"\u001B[39m)\n",
      "\u001B[0;31mLinAlgError\u001B[0m: Matrix is not positive definite"
     ]
    }
   ],
   "source": [
    " \n",
    "model.validate_result()\n",
    " "
   ]
  },
  {
   "cell_type": "code",
   "execution_count": null,
   "metadata": {},
   "outputs": [],
   "source": []
  },
  {
   "cell_type": "code",
   "execution_count": null,
   "metadata": {},
   "outputs": [],
   "source": [
    "model.matcher.df_matched"
   ]
  },
  {
   "cell_type": "code",
   "execution_count": null,
   "metadata": {},
   "outputs": [],
   "source": []
  },
  {
   "cell_type": "code",
   "execution_count": null,
   "metadata": {},
   "outputs": [],
   "source": []
  },
  {
   "cell_type": "code",
   "execution_count": null,
   "metadata": {},
   "outputs": [],
   "source": []
  },
  {
   "cell_type": "code",
   "execution_count": null,
   "metadata": {},
   "outputs": [],
   "source": []
  },
  {
   "cell_type": "code",
   "execution_count": null,
   "metadata": {},
   "outputs": [],
   "source": []
  },
  {
   "cell_type": "code",
   "execution_count": null,
   "metadata": {},
   "outputs": [],
   "source": []
  },
  {
   "cell_type": "code",
   "execution_count": null,
   "metadata": {},
   "outputs": [],
   "source": []
  },
  {
   "cell_type": "code",
   "execution_count": null,
   "metadata": {},
   "outputs": [],
   "source": []
  },
  {
   "cell_type": "code",
   "execution_count": null,
   "metadata": {},
   "outputs": [],
   "source": []
  }
 ],
 "metadata": {
  "kernelspec": {
   "display_name": "Python 3 (ipykernel)",
   "language": "python",
   "name": "python3"
  },
  "language_info": {
   "codemirror_mode": {
    "name": "ipython",
    "version": 3
   },
   "file_extension": ".py",
   "mimetype": "text/x-python",
   "name": "python",
   "nbconvert_exporter": "python",
   "pygments_lexer": "ipython3",
   "version": "3.10.9"
  }
 },
 "nbformat": 4,
 "nbformat_minor": 1
}

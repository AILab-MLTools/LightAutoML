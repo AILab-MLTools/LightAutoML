{
 "cells": [
  {
   "cell_type": "markdown",
   "metadata": {},
   "source": [
    "# How to match? "
   ]
  },
  {
   "cell_type": "markdown",
   "metadata": {},
   "source": [
    "## 0. Import libraries "
   ]
  },
  {
   "cell_type": "code",
   "execution_count": 1,
   "metadata": {},
   "outputs": [],
   "source": [
    "import pandas as pd\n",
    "import warnings\n",
    "import numpy as np\n",
    "from lightautoml.addons.matcher import Matcher\n",
    "warnings.filterwarnings('ignore')\n",
    "%config Completer.use_jedi = False"
   ]
  },
  {
   "cell_type": "markdown",
   "metadata": {},
   "source": [
    "## 1. Create or upload your dataset  \n",
    "In this case we will create random dataset with known effect size  \n",
    "If you have your own dataset, go to the part 2 \n"
   ]
  },
  {
   "cell_type": "code",
   "execution_count": 2,
   "metadata": {},
   "outputs": [
    {
     "data": {
      "text/plain": "   user_id  signup_month  month  spend  treat\n0        0             2      1    507   True\n1        0             2      2    441   True\n2        0             2      3    583   True\n3        0             2      4    599   True\n4        0             2      5    548   True",
      "text/html": "<div>\n<style scoped>\n    .dataframe tbody tr th:only-of-type {\n        vertical-align: middle;\n    }\n\n    .dataframe tbody tr th {\n        vertical-align: top;\n    }\n\n    .dataframe thead th {\n        text-align: right;\n    }\n</style>\n<table border=\"1\" class=\"dataframe\">\n  <thead>\n    <tr style=\"text-align: right;\">\n      <th></th>\n      <th>user_id</th>\n      <th>signup_month</th>\n      <th>month</th>\n      <th>spend</th>\n      <th>treat</th>\n    </tr>\n  </thead>\n  <tbody>\n    <tr>\n      <th>0</th>\n      <td>0</td>\n      <td>2</td>\n      <td>1</td>\n      <td>507</td>\n      <td>True</td>\n    </tr>\n    <tr>\n      <th>1</th>\n      <td>0</td>\n      <td>2</td>\n      <td>2</td>\n      <td>441</td>\n      <td>True</td>\n    </tr>\n    <tr>\n      <th>2</th>\n      <td>0</td>\n      <td>2</td>\n      <td>3</td>\n      <td>583</td>\n      <td>True</td>\n    </tr>\n    <tr>\n      <th>3</th>\n      <td>0</td>\n      <td>2</td>\n      <td>4</td>\n      <td>599</td>\n      <td>True</td>\n    </tr>\n    <tr>\n      <th>4</th>\n      <td>0</td>\n      <td>2</td>\n      <td>5</td>\n      <td>548</td>\n      <td>True</td>\n    </tr>\n  </tbody>\n</table>\n</div>"
     },
     "execution_count": 2,
     "metadata": {},
     "output_type": "execute_result"
    }
   ],
   "source": [
    "# Simulating dataset with known effect size\n",
    "num_users = 10000\n",
    "num_months = 12\n",
    "\n",
    "signup_months = np.random.choice(np.arange(1, num_months), num_users) * np.random.randint(0,2, size=num_users) # signup_months == 0 means customer did not sign up\n",
    "df = pd.DataFrame({\n",
    "    'user_id': np.repeat(np.arange(num_users), num_months),\n",
    "    'signup_month': np.repeat(signup_months, num_months), # signup month == 0 means customer did not sign up\n",
    "    'month': np.tile(np.arange(1, num_months+1), num_users), # months are from 1 to 12\n",
    "    'spend': np.random.poisson(500, num_users*num_months) #np.random.beta(a=2, b=5, size=num_users * num_months)*1000 # centered at 500\n",
    "})\n",
    "# A customer is in the treatment group if and only if they signed up\n",
    "df[\"treat\"] = df[\"signup_month\"]>0\n",
    "# Simulating an effect of month (monotonically decreasing--customers buy less later in the year)\n",
    "df[\"spend\"] = df[\"spend\"] - df[\"month\"]*10\n",
    "# Simulating a simple treatment effect of 100\n",
    "after_signup = (df[\"signup_month\"] < df[\"month\"]) & (df[\"treat\"])\n",
    "df.loc[after_signup,\"spend\"] = df[after_signup][\"spend\"] + 100\n",
    "df.head()"
   ]
  },
  {
   "cell_type": "code",
   "execution_count": 3,
   "metadata": {},
   "outputs": [
    {
     "data": {
      "text/plain": "      user_id  signup_month  treat  pre_spends  post_spends\n0           1             0  False       474.0   414.444444\n1           2             0  False       495.0   418.444444\n2           4             3   True       474.0   516.000000\n3           5             0  False       468.5   427.777778\n4           6             0  False       490.5   417.111111\n...       ...           ...    ...         ...          ...\n5408     9990             0  False       487.5   418.444444\n5409     9992             0  False       483.0   419.777778\n5410     9993             0  False       459.5   418.444444\n5411     9994             0  False       479.5   418.777778\n5412     9995             0  False       490.5   418.000000\n\n[5413 rows x 5 columns]",
      "text/html": "<div>\n<style scoped>\n    .dataframe tbody tr th:only-of-type {\n        vertical-align: middle;\n    }\n\n    .dataframe tbody tr th {\n        vertical-align: top;\n    }\n\n    .dataframe thead th {\n        text-align: right;\n    }\n</style>\n<table border=\"1\" class=\"dataframe\">\n  <thead>\n    <tr style=\"text-align: right;\">\n      <th></th>\n      <th>user_id</th>\n      <th>signup_month</th>\n      <th>treat</th>\n      <th>pre_spends</th>\n      <th>post_spends</th>\n    </tr>\n  </thead>\n  <tbody>\n    <tr>\n      <th>0</th>\n      <td>1</td>\n      <td>0</td>\n      <td>False</td>\n      <td>474.0</td>\n      <td>414.444444</td>\n    </tr>\n    <tr>\n      <th>1</th>\n      <td>2</td>\n      <td>0</td>\n      <td>False</td>\n      <td>495.0</td>\n      <td>418.444444</td>\n    </tr>\n    <tr>\n      <th>2</th>\n      <td>4</td>\n      <td>3</td>\n      <td>True</td>\n      <td>474.0</td>\n      <td>516.000000</td>\n    </tr>\n    <tr>\n      <th>3</th>\n      <td>5</td>\n      <td>0</td>\n      <td>False</td>\n      <td>468.5</td>\n      <td>427.777778</td>\n    </tr>\n    <tr>\n      <th>4</th>\n      <td>6</td>\n      <td>0</td>\n      <td>False</td>\n      <td>490.5</td>\n      <td>417.111111</td>\n    </tr>\n    <tr>\n      <th>...</th>\n      <td>...</td>\n      <td>...</td>\n      <td>...</td>\n      <td>...</td>\n      <td>...</td>\n    </tr>\n    <tr>\n      <th>5408</th>\n      <td>9990</td>\n      <td>0</td>\n      <td>False</td>\n      <td>487.5</td>\n      <td>418.444444</td>\n    </tr>\n    <tr>\n      <th>5409</th>\n      <td>9992</td>\n      <td>0</td>\n      <td>False</td>\n      <td>483.0</td>\n      <td>419.777778</td>\n    </tr>\n    <tr>\n      <th>5410</th>\n      <td>9993</td>\n      <td>0</td>\n      <td>False</td>\n      <td>459.5</td>\n      <td>418.444444</td>\n    </tr>\n    <tr>\n      <th>5411</th>\n      <td>9994</td>\n      <td>0</td>\n      <td>False</td>\n      <td>479.5</td>\n      <td>418.777778</td>\n    </tr>\n    <tr>\n      <th>5412</th>\n      <td>9995</td>\n      <td>0</td>\n      <td>False</td>\n      <td>490.5</td>\n      <td>418.000000</td>\n    </tr>\n  </tbody>\n</table>\n<p>5413 rows × 5 columns</p>\n</div>"
     },
     "execution_count": 3,
     "metadata": {},
     "output_type": "execute_result"
    }
   ],
   "source": [
    "# Setting the signup month (for ease of analysis)\n",
    "i = 3\n",
    "df_i_signupmonth = (\n",
    "    df[df.signup_month.isin([0, i])]\n",
    "    .groupby([\"user_id\", \"signup_month\", \"treat\"])\n",
    "    .apply(\n",
    "        lambda x: pd.Series(\n",
    "            {\n",
    "                \"pre_spends\": x.loc[x.month < i, \"spend\"].mean(),\n",
    "                \"post_spends\": x.loc[x.month > i, \"spend\"].mean(),\n",
    "            }\n",
    "        )\n",
    "    )\n",
    "    .reset_index()\n",
    ")\n",
    "df_i_signupmonth"
   ]
  },
  {
   "cell_type": "code",
   "execution_count": 4,
   "metadata": {},
   "outputs": [
    {
     "data": {
      "text/plain": "   user_id  signup_month  treat  pre_spends  post_spends  age  is_male  \\\n0        1             0      0       474.0   414.444444   69        1   \n1        2             0      0       495.0   418.444444   27        0   \n2        4             3      1       474.0   516.000000   66        0   \n3        5             0      0       468.5   427.777778   68        0   \n4        6             0      0       490.5   417.111111   63        1   \n\n  industry  \n0        1  \n1        1  \n2        2  \n3        1  \n4        1  ",
      "text/html": "<div>\n<style scoped>\n    .dataframe tbody tr th:only-of-type {\n        vertical-align: middle;\n    }\n\n    .dataframe tbody tr th {\n        vertical-align: top;\n    }\n\n    .dataframe thead th {\n        text-align: right;\n    }\n</style>\n<table border=\"1\" class=\"dataframe\">\n  <thead>\n    <tr style=\"text-align: right;\">\n      <th></th>\n      <th>user_id</th>\n      <th>signup_month</th>\n      <th>treat</th>\n      <th>pre_spends</th>\n      <th>post_spends</th>\n      <th>age</th>\n      <th>is_male</th>\n      <th>industry</th>\n    </tr>\n  </thead>\n  <tbody>\n    <tr>\n      <th>0</th>\n      <td>1</td>\n      <td>0</td>\n      <td>0</td>\n      <td>474.0</td>\n      <td>414.444444</td>\n      <td>69</td>\n      <td>1</td>\n      <td>1</td>\n    </tr>\n    <tr>\n      <th>1</th>\n      <td>2</td>\n      <td>0</td>\n      <td>0</td>\n      <td>495.0</td>\n      <td>418.444444</td>\n      <td>27</td>\n      <td>0</td>\n      <td>1</td>\n    </tr>\n    <tr>\n      <th>2</th>\n      <td>4</td>\n      <td>3</td>\n      <td>1</td>\n      <td>474.0</td>\n      <td>516.000000</td>\n      <td>66</td>\n      <td>0</td>\n      <td>2</td>\n    </tr>\n    <tr>\n      <th>3</th>\n      <td>5</td>\n      <td>0</td>\n      <td>0</td>\n      <td>468.5</td>\n      <td>427.777778</td>\n      <td>68</td>\n      <td>0</td>\n      <td>1</td>\n    </tr>\n    <tr>\n      <th>4</th>\n      <td>6</td>\n      <td>0</td>\n      <td>0</td>\n      <td>490.5</td>\n      <td>417.111111</td>\n      <td>63</td>\n      <td>1</td>\n      <td>1</td>\n    </tr>\n  </tbody>\n</table>\n</div>"
     },
     "execution_count": 4,
     "metadata": {},
     "output_type": "execute_result"
    }
   ],
   "source": [
    "# Additional category features\n",
    "gender = np.random.choice(a=[0,1], size=df_i_signupmonth.user_id.nunique())\n",
    "age = np.random.choice(a=range(18, 70), size=df_i_signupmonth.user_id.nunique())\n",
    "industry = np.random.choice(a=range(1, 3), size=df_i_signupmonth.user_id.nunique())\n",
    "df_i_signupmonth['age'] = age\n",
    "df_i_signupmonth['is_male'] =  gender\n",
    "df_i_signupmonth['industry'] =  industry\n",
    "df_i_signupmonth['industry'] = df_i_signupmonth['industry'].astype('str')\n",
    "df_i_signupmonth['treat'] = df_i_signupmonth['treat'].astype(int)\n",
    "df_i_signupmonth.head()"
   ]
  },
  {
   "cell_type": "code",
   "execution_count": 5,
   "metadata": {},
   "outputs": [
    {
     "data": {
      "text/plain": "Index(['user_id', 'signup_month', 'treat', 'pre_spends', 'post_spends', 'age',\n       'is_male', 'industry'],\n      dtype='object')"
     },
     "execution_count": 5,
     "metadata": {},
     "output_type": "execute_result"
    }
   ],
   "source": [
    "df_i_signupmonth.columns"
   ]
  },
  {
   "cell_type": "markdown",
   "metadata": {},
   "source": [
    "## 2. Matching  \n",
    "### 2.0 Init params\n",
    "info_col used to define informative attributes that should not be part of matching, such as user_id  \n",
    "But to explicitly store this column in the table, so that you can compare directly after computation"
   ]
  },
  {
   "cell_type": "code",
   "execution_count": 6,
   "metadata": {},
   "outputs": [],
   "source": [
    "info_col = ['user_id', 'signup_month']\n",
    "\n",
    "outcome = 'post_spends'\n",
    "treatment = 'treat'"
   ]
  },
  {
   "cell_type": "markdown",
   "metadata": {},
   "source": [
    "### 2.1 Simple matching\n",
    "This is the easiest way to initialize and calculate metrics on a Matching task  \n",
    "Use it when you are clear about each attribute or if you don't have any additional task conditions (Strict equality for certain features) "
   ]
  },
  {
   "cell_type": "code",
   "execution_count": 12,
   "metadata": {},
   "outputs": [
    {
     "name": "stderr",
     "output_type": "stream",
     "text": [
      "[20.06.2023 10:21:33 | matcher | INFO]: Applying matching\n"
     ]
    },
    {
     "name": "stdout",
     "output_type": "stream",
     "text": [
      "Finding index\n",
      "Finding index\n"
     ]
    },
    {
     "name": "stderr",
     "output_type": "stream",
     "text": [
      "[20.06.2023 10:21:34 | Faiss matcher | INFO]: Calculated the number of times each subject has appeared as a match: 488\n",
      "[20.06.2023 10:21:34 | Faiss matcher | INFO]: Calculated the number of times each subject has appeared as a match: 4925\n",
      "[20.06.2023 10:21:34 | Faiss matcher | INFO]: Estimating quality of matching\n",
      "[20.06.2023 10:21:34 | metrics | INFO]: Standardised mean difference: age           0.000135\n",
      "is_male       0.000000\n",
      "pre_spends    0.001463\n",
      "dtype: float64\n",
      "[20.06.2023 10:21:34 | metrics | INFO]: Standardised mean difference: age           0.004546\n",
      "is_male       0.000000\n",
      "pre_spends    0.002101\n",
      "dtype: float64\n",
      "[20.06.2023 10:21:34 | metrics | INFO]: Kolmogorov-Smirnov test to check matching quality: \n",
      "{'age': 1.0, 'is_male': 1.0, 'pre_spends': 0.999999999999974}\n",
      "[20.06.2023 10:21:34 | metrics | INFO]: Kolmogorov-Smirnov test to check matching quality: \n",
      "{'age': 0.34366775239307146, 'is_male': 1.0, 'pre_spends': 0.13012163366437443}\n",
      "[20.06.2023 10:21:34 | psi_pandas | INFO]: Creating report\n",
      "[20.06.2023 10:21:34 | psi_pandas | INFO]: PSI value:  0.002\n",
      "[20.06.2023 10:21:34 | psi_pandas | INFO]: PSI value:  0.000\n",
      "[20.06.2023 10:21:34 | psi_pandas | INFO]: PSI value:  0.000\n",
      "[20.06.2023 10:21:34 | psi_pandas | INFO]: PSI value:  16.111\n",
      "[20.06.2023 10:21:34 | psi_pandas | INFO]: PSI value:  0.005\n",
      "[20.06.2023 10:21:34 | psi_pandas | INFO]: Creating report\n",
      "[20.06.2023 10:21:34 | psi_pandas | INFO]: PSI value:  0.005\n",
      "[20.06.2023 10:21:34 | psi_pandas | INFO]: PSI value:  0.000\n",
      "[20.06.2023 10:21:34 | psi_pandas | INFO]: PSI value:  0.000\n",
      "[20.06.2023 10:21:34 | psi_pandas | INFO]: PSI value:  8.277\n",
      "[20.06.2023 10:21:34 | psi_pandas | INFO]: PSI value:  0.016\n",
      "[20.06.2023 10:21:34 | metrics | INFO]: Fraction of duplicated indexes:  0.93\n",
      "[20.06.2023 10:21:34 | metrics | INFO]: Fraction of duplicated indexes:  0.10\n",
      "[20.06.2023 10:21:34 | Faiss matcher | INFO]: PSI info: \n",
      "                 column  anomaly_score check_result                 column  \\\n",
      "0          age_treated           0.00           OK          age_untreated   \n",
      "1   industry_2_treated           0.00           OK   industry_2_untreated   \n",
      "2      is_male_treated           0.00           OK      is_male_untreated   \n",
      "3  post_spends_treated          16.11          NOK  post_spends_untreated   \n",
      "4   pre_spends_treated           0.00           OK   pre_spends_untreated   \n",
      "\n",
      "   anomaly_score check_result  \n",
      "0           0.01           OK  \n",
      "1           0.00           OK  \n",
      "2           0.00           OK  \n",
      "3           8.28          NOK  \n",
      "4           0.02           OK   \n",
      "shape:(5, 6)\n",
      "[20.06.2023 10:21:34 | Faiss matcher | INFO]: Kolmogorov-Smirnov test info: \n",
      "             match_control_to_treat  match_treat_to_control\n",
      "age                            1.0                0.343668\n",
      "is_male                        1.0                1.000000\n",
      "pre_spends                     1.0                0.130122 \n",
      "shape:(3, 2)\n",
      "[20.06.2023 10:21:34 | Faiss matcher | INFO]: Standardised mean difference info: \n",
      "             match_control_to_treat  match_treat_to_control\n",
      "age                       0.000135                0.004546\n",
      "is_male                   0.000000                0.000000\n",
      "pre_spends                0.001463                0.002101 \n",
      "shape:(3, 2)\n",
      "[20.06.2023 10:21:34 | Faiss matcher | INFO]: Repeats info: \n",
      "                         value\n",
      "match_control_to_treat   0.93\n",
      "match_treat_to_control   0.10\n"
     ]
    },
    {
     "data": {
      "text/plain": "     effect_size   std_err  p-val   ci_lower    ci_upper\nATE   100.180976  0.572283    0.0  99.059302  101.302650\nATC   100.199038  0.585052    0.0  99.052337  101.345740\nATT    99.998688  0.696466    0.0  98.633614  101.363762",
      "text/html": "<div>\n<style scoped>\n    .dataframe tbody tr th:only-of-type {\n        vertical-align: middle;\n    }\n\n    .dataframe tbody tr th {\n        vertical-align: top;\n    }\n\n    .dataframe thead th {\n        text-align: right;\n    }\n</style>\n<table border=\"1\" class=\"dataframe\">\n  <thead>\n    <tr style=\"text-align: right;\">\n      <th></th>\n      <th>effect_size</th>\n      <th>std_err</th>\n      <th>p-val</th>\n      <th>ci_lower</th>\n      <th>ci_upper</th>\n    </tr>\n  </thead>\n  <tbody>\n    <tr>\n      <th>ATE</th>\n      <td>100.180976</td>\n      <td>0.572283</td>\n      <td>0.0</td>\n      <td>99.059302</td>\n      <td>101.302650</td>\n    </tr>\n    <tr>\n      <th>ATC</th>\n      <td>100.199038</td>\n      <td>0.585052</td>\n      <td>0.0</td>\n      <td>99.052337</td>\n      <td>101.345740</td>\n    </tr>\n    <tr>\n      <th>ATT</th>\n      <td>99.998688</td>\n      <td>0.696466</td>\n      <td>0.0</td>\n      <td>98.633614</td>\n      <td>101.363762</td>\n    </tr>\n  </tbody>\n</table>\n</div>"
     },
     "execution_count": 12,
     "metadata": {},
     "output_type": "execute_result"
    }
   ],
   "source": [
    "# Standard model with base parameters\n",
    "model = Matcher(input_data=df_i_signupmonth, outcome=outcome, treatment=treatment, info_col=info_col)\n",
    "results, quality_results = model.estimate()"
   ]
  },
  {
   "cell_type": "markdown",
   "metadata": {},
   "source": [
    "### 2.2 Matching with a fixed variable  \n",
    "Used when you have categorical feature(s) that you want to compare by strict equality  \n",
    "group_col is used for strict comparison of categorical features.  \n",
    "In our case there is only one attribute  \n",
    "If there are several such attributes, you should make one of them and use it"
   ]
  },
  {
   "cell_type": "code",
   "execution_count": 9,
   "metadata": {},
   "outputs": [
    {
     "data": {
      "text/plain": "     effect_size   std_err  p-val   ci_lower    ci_upper\nATE   100.219962  0.566478    0.0  99.109665  101.330259\nATC   100.242493  0.579008    0.0  99.107637  101.377350\nATT    99.992570  0.680957    0.0  98.657894  101.327246",
      "text/html": "<div>\n<style scoped>\n    .dataframe tbody tr th:only-of-type {\n        vertical-align: middle;\n    }\n\n    .dataframe tbody tr th {\n        vertical-align: top;\n    }\n\n    .dataframe thead th {\n        text-align: right;\n    }\n</style>\n<table border=\"1\" class=\"dataframe\">\n  <thead>\n    <tr style=\"text-align: right;\">\n      <th></th>\n      <th>effect_size</th>\n      <th>std_err</th>\n      <th>p-val</th>\n      <th>ci_lower</th>\n      <th>ci_upper</th>\n    </tr>\n  </thead>\n  <tbody>\n    <tr>\n      <th>ATE</th>\n      <td>100.219962</td>\n      <td>0.566478</td>\n      <td>0.0</td>\n      <td>99.109665</td>\n      <td>101.330259</td>\n    </tr>\n    <tr>\n      <th>ATC</th>\n      <td>100.242493</td>\n      <td>0.579008</td>\n      <td>0.0</td>\n      <td>99.107637</td>\n      <td>101.377350</td>\n    </tr>\n    <tr>\n      <th>ATT</th>\n      <td>99.992570</td>\n      <td>0.680957</td>\n      <td>0.0</td>\n      <td>98.657894</td>\n      <td>101.327246</td>\n    </tr>\n  </tbody>\n</table>\n</div>"
     },
     "execution_count": 9,
     "metadata": {},
     "output_type": "execute_result"
    }
   ],
   "source": [
    "# group_col is used for strict comparison of categorical features.  \n",
    "# In our case there is only one attribute  \n",
    "# If there are several such attributes, you should make one of them and use it\n",
    "\n",
    "group_col = \"industry\""
   ]
  },
  {
   "cell_type": "code",
   "execution_count": 9,
   "metadata": {},
   "outputs": [
    {
     "ename": "TypeError",
     "evalue": "__init__() got an unexpected keyword argument 'df'",
     "output_type": "error",
     "traceback": [
      "\u001B[0;31m---------------------------------------------------------------------------\u001B[0m",
      "\u001B[0;31mTypeError\u001B[0m                                 Traceback (most recent call last)",
      "Cell \u001B[0;32mIn[9], line 1\u001B[0m\n\u001B[0;32m----> 1\u001B[0m model \u001B[38;5;241m=\u001B[39m \u001B[43mMatcher\u001B[49m\u001B[43m(\u001B[49m\u001B[43mdf\u001B[49m\u001B[38;5;241;43m=\u001B[39;49m\u001B[43mdf_i_signupmonth\u001B[49m\u001B[43m,\u001B[49m\u001B[43m \u001B[49m\u001B[43moutcome\u001B[49m\u001B[38;5;241;43m=\u001B[39;49m\u001B[43moutcome\u001B[49m\u001B[43m,\u001B[49m\u001B[43m \u001B[49m\u001B[43mtreatment\u001B[49m\u001B[38;5;241;43m=\u001B[39;49m\u001B[43mtreatment\u001B[49m\u001B[43m,\u001B[49m\u001B[43m \u001B[49m\n\u001B[1;32m      2\u001B[0m \u001B[43m                \u001B[49m\u001B[43minfo_col\u001B[49m\u001B[38;5;241;43m=\u001B[39;49m\u001B[43minfo_col\u001B[49m\u001B[43m,\u001B[49m\u001B[43m \u001B[49m\u001B[43mgroup_col\u001B[49m\u001B[38;5;241;43m=\u001B[39;49m\u001B[43mgroup_col\u001B[49m\u001B[43m)\u001B[49m\n\u001B[1;32m      3\u001B[0m results, quality_results \u001B[38;5;241m=\u001B[39m model\u001B[38;5;241m.\u001B[39mestimate()\n",
      "\u001B[0;31mTypeError\u001B[0m: __init__() got an unexpected keyword argument 'df'"
     ]
    }
   ],
   "source": [
    "model = Matcher(df=df_i_signupmonth, outcome=outcome, treatment=treatment, \n",
    "                info_col=info_col, group_col=group_col)\n",
    "results, quality_results = model.estimate()"
   ]
  },
  {
   "cell_type": "markdown",
   "metadata": {},
   "source": [
    "### 2.3 Matching but you don't know which features are better to use  \n",
    "This is the easiest way to initialize and calculate metrics on a Matching task  \n",
    "Use this method when you want to select the most important features and make matching based on them. "
   ]
  },
  {
   "cell_type": "code",
   "execution_count": null,
   "metadata": {},
   "outputs": [],
   "source": [
    "model = Matcher(df=df_i_signupmonth, outcome=outcome, treatment=treatment, \n",
    "                info_col=info_col, group_col=group_col)"
   ]
  },
  {
   "cell_type": "code",
   "execution_count": null,
   "metadata": {
    "scrolled": true
   },
   "outputs": [],
   "source": [
    "features_importance = model.lama_feature_select()\n",
    "features_importance"
   ]
  },
  {
   "cell_type": "code",
   "execution_count": null,
   "metadata": {},
   "outputs": [],
   "source": [
    "features = features_importance['Feature'].to_list()"
   ]
  },
  {
   "cell_type": "code",
   "execution_count": null,
   "metadata": {},
   "outputs": [],
   "source": [
    "# You can use both variant that you like. So you can just list the features to be matched\n",
    "\n",
    "#results, quality_results = model.estimate(features=features_importance[:3])\n",
    "results, quality_results = model.estimate(features=features[:3])"
   ]
  },
  {
   "cell_type": "code",
   "execution_count": null,
   "metadata": {},
   "outputs": [],
   "source": [
    "model.matcher.df_matched"
   ]
  },
  {
   "cell_type": "markdown",
   "metadata": {},
   "source": [
    "## 3. Results  \n",
    "### 3.1 ATE, ATT, ATC"
   ]
  },
  {
   "cell_type": "code",
   "execution_count": null,
   "metadata": {},
   "outputs": [],
   "source": [
    "# model.matcher.results\n",
    "results"
   ]
  },
  {
   "cell_type": "markdown",
   "metadata": {},
   "source": [
    "### 3.2 SMD, PSI, KS-test, repeats"
   ]
  },
  {
   "cell_type": "code",
   "execution_count": null,
   "metadata": {},
   "outputs": [],
   "source": [
    "# matching quality result - SMD\n",
    "model.quality_result"
   ]
  },
  {
   "cell_type": "code",
   "execution_count": null,
   "metadata": {},
   "outputs": [],
   "source": [
    "# matching quality result - PSI\n",
    "model.quality_result['psi']"
   ]
  },
  {
   "cell_type": "code",
   "execution_count": null,
   "metadata": {},
   "outputs": [],
   "source": [
    "# matching quality result - KS-test\n",
    "\n",
    "model.quality_result['ks_test']"
   ]
  },
  {
   "cell_type": "code",
   "execution_count": null,
   "metadata": {},
   "outputs": [],
   "source": [
    "# matching quality result - repeats\n",
    "model.quality_result['repeats']"
   ]
  },
  {
   "cell_type": "markdown",
   "metadata": {},
   "source": [
    "### 3.3 Validation\n",
    "validate result with placebo treatment  \n",
    "our new effect size is close to zero (it should be)"
   ]
  },
  {
   "cell_type": "code",
   "execution_count": null,
   "metadata": {},
   "outputs": [],
   "source": [
    " \n",
    "model.validate_result()\n",
    " "
   ]
  },
  {
   "cell_type": "code",
   "execution_count": null,
   "metadata": {},
   "outputs": [],
   "source": []
  },
  {
   "cell_type": "code",
   "execution_count": null,
   "metadata": {},
   "outputs": [],
   "source": [
    "model.matcher.df_matched"
   ]
  },
  {
   "cell_type": "code",
   "execution_count": 15,
   "metadata": {},
   "outputs": [],
   "source": []
  },
  {
   "cell_type": "code",
   "execution_count": null,
   "metadata": {},
   "outputs": [],
   "source": []
  },
  {
   "cell_type": "code",
   "execution_count": null,
   "metadata": {},
   "outputs": [],
   "source": []
  },
  {
   "cell_type": "code",
   "execution_count": null,
   "metadata": {},
   "outputs": [],
   "source": []
  },
  {
   "cell_type": "code",
   "execution_count": null,
   "metadata": {},
   "outputs": [],
   "source": []
  },
  {
   "cell_type": "code",
   "execution_count": null,
   "outputs": [],
   "source": [],
   "metadata": {
    "collapsed": false
   }
  },
  {
   "cell_type": "code",
   "execution_count": null,
   "outputs": [],
   "source": [],
   "metadata": {
    "collapsed": false
   }
  },
  {
   "cell_type": "code",
   "execution_count": null,
   "outputs": [],
   "source": [],
   "metadata": {
    "collapsed": false
   }
  },
  {
   "cell_type": "code",
   "execution_count": null,
   "outputs": [],
   "source": [],
   "metadata": {
    "collapsed": false
   }
  }
 ],
 "metadata": {
  "kernelspec": {
   "display_name": "Python 3 (ipykernel)",
   "language": "python",
   "name": "python3"
  },
  "language_info": {
   "codemirror_mode": {
    "name": "ipython",
    "version": 3
   },
   "file_extension": ".py",
   "mimetype": "text/x-python",
   "name": "python",
   "nbconvert_exporter": "python",
   "pygments_lexer": "ipython3",
   "version": "3.8.16"
  }
 },
 "nbformat": 4,
 "nbformat_minor": 1
}

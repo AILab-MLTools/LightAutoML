{
 "cells": [
  {
   "cell_type": "markdown",
   "metadata": {},
   "source": [
    "# How to match? "
   ]
  },
  {
   "cell_type": "markdown",
   "metadata": {},
   "source": [
    "## 0. Import libraries "
   ]
  },
  {
   "cell_type": "code",
   "execution_count": 1,
   "metadata": {},
   "outputs": [],
   "source": [
    "import pandas as pd\n",
    "import warnings\n",
    "import numpy as np\n",
    "from lightautoml.addons.matcher import Matcher\n",
    "warnings.filterwarnings('ignore')\n",
    "%config Completer.use_jedi = False"
   ]
  },
  {
   "cell_type": "markdown",
   "metadata": {},
   "source": [
    "## 1. Create or upload your dataset  \n",
    "In this case we will create random dataset with known effect size  \n",
    "If you have your own dataset, go to the part 2 \n"
   ]
  },
  {
   "cell_type": "code",
   "execution_count": 2,
   "metadata": {},
   "outputs": [
    {
     "data": {
      "text/plain": "   user_id  signup_month  month  spend  treat\n0        0             0      1    521  False\n1        0             0      2    529  False\n2        0             0      3    501  False\n3        0             0      4    465  False\n4        0             0      5    461  False",
      "text/html": "<div>\n<style scoped>\n    .dataframe tbody tr th:only-of-type {\n        vertical-align: middle;\n    }\n\n    .dataframe tbody tr th {\n        vertical-align: top;\n    }\n\n    .dataframe thead th {\n        text-align: right;\n    }\n</style>\n<table border=\"1\" class=\"dataframe\">\n  <thead>\n    <tr style=\"text-align: right;\">\n      <th></th>\n      <th>user_id</th>\n      <th>signup_month</th>\n      <th>month</th>\n      <th>spend</th>\n      <th>treat</th>\n    </tr>\n  </thead>\n  <tbody>\n    <tr>\n      <th>0</th>\n      <td>0</td>\n      <td>0</td>\n      <td>1</td>\n      <td>521</td>\n      <td>False</td>\n    </tr>\n    <tr>\n      <th>1</th>\n      <td>0</td>\n      <td>0</td>\n      <td>2</td>\n      <td>529</td>\n      <td>False</td>\n    </tr>\n    <tr>\n      <th>2</th>\n      <td>0</td>\n      <td>0</td>\n      <td>3</td>\n      <td>501</td>\n      <td>False</td>\n    </tr>\n    <tr>\n      <th>3</th>\n      <td>0</td>\n      <td>0</td>\n      <td>4</td>\n      <td>465</td>\n      <td>False</td>\n    </tr>\n    <tr>\n      <th>4</th>\n      <td>0</td>\n      <td>0</td>\n      <td>5</td>\n      <td>461</td>\n      <td>False</td>\n    </tr>\n  </tbody>\n</table>\n</div>"
     },
     "execution_count": 2,
     "metadata": {},
     "output_type": "execute_result"
    }
   ],
   "source": [
    "# Simulating dataset with known effect size\n",
    "num_users = 10000\n",
    "num_months = 12\n",
    "\n",
    "signup_months = np.random.choice(np.arange(1, num_months), num_users) * np.random.randint(0,2, size=num_users) # signup_months == 0 means customer did not sign up\n",
    "df = pd.DataFrame({\n",
    "    'user_id': np.repeat(np.arange(num_users), num_months),\n",
    "    'signup_month': np.repeat(signup_months, num_months), # signup month == 0 means customer did not sign up\n",
    "    'month': np.tile(np.arange(1, num_months+1), num_users), # months are from 1 to 12\n",
    "    'spend': np.random.poisson(500, num_users*num_months) #np.random.beta(a=2, b=5, size=num_users * num_months)*1000 # centered at 500\n",
    "})\n",
    "# A customer is in the treatment group if and only if they signed up\n",
    "df[\"treat\"] = df[\"signup_month\"]>0\n",
    "# Simulating an effect of month (monotonically decreasing--customers buy less later in the year)\n",
    "df[\"spend\"] = df[\"spend\"] - df[\"month\"]*10\n",
    "# Simulating a simple treatment effect of 100\n",
    "after_signup = (df[\"signup_month\"] < df[\"month\"]) & (df[\"treat\"])\n",
    "df.loc[after_signup,\"spend\"] = df[after_signup][\"spend\"] + 100\n",
    "df.head()"
   ]
  },
  {
   "cell_type": "code",
   "execution_count": 3,
   "metadata": {},
   "outputs": [
    {
     "data": {
      "text/plain": "      user_id  signup_month  treat  pre_spends  post_spends\n0           0             0  False       525.0   423.222222\n1           1             0  False       460.5   405.555556\n2           2             0  False       478.0   411.777778\n3           4             0  False       491.0   416.555556\n4           6             0  False       489.5   411.555556\n...       ...           ...    ...         ...          ...\n5424     9994             0  False       503.5   421.555556\n5425     9995             0  False       483.0   427.777778\n5426     9997             0  False       457.5   429.777778\n5427     9998             0  False       511.5   422.111111\n5428     9999             0  False       466.0   425.111111\n\n[5429 rows x 5 columns]",
      "text/html": "<div>\n<style scoped>\n    .dataframe tbody tr th:only-of-type {\n        vertical-align: middle;\n    }\n\n    .dataframe tbody tr th {\n        vertical-align: top;\n    }\n\n    .dataframe thead th {\n        text-align: right;\n    }\n</style>\n<table border=\"1\" class=\"dataframe\">\n  <thead>\n    <tr style=\"text-align: right;\">\n      <th></th>\n      <th>user_id</th>\n      <th>signup_month</th>\n      <th>treat</th>\n      <th>pre_spends</th>\n      <th>post_spends</th>\n    </tr>\n  </thead>\n  <tbody>\n    <tr>\n      <th>0</th>\n      <td>0</td>\n      <td>0</td>\n      <td>False</td>\n      <td>525.0</td>\n      <td>423.222222</td>\n    </tr>\n    <tr>\n      <th>1</th>\n      <td>1</td>\n      <td>0</td>\n      <td>False</td>\n      <td>460.5</td>\n      <td>405.555556</td>\n    </tr>\n    <tr>\n      <th>2</th>\n      <td>2</td>\n      <td>0</td>\n      <td>False</td>\n      <td>478.0</td>\n      <td>411.777778</td>\n    </tr>\n    <tr>\n      <th>3</th>\n      <td>4</td>\n      <td>0</td>\n      <td>False</td>\n      <td>491.0</td>\n      <td>416.555556</td>\n    </tr>\n    <tr>\n      <th>4</th>\n      <td>6</td>\n      <td>0</td>\n      <td>False</td>\n      <td>489.5</td>\n      <td>411.555556</td>\n    </tr>\n    <tr>\n      <th>...</th>\n      <td>...</td>\n      <td>...</td>\n      <td>...</td>\n      <td>...</td>\n      <td>...</td>\n    </tr>\n    <tr>\n      <th>5424</th>\n      <td>9994</td>\n      <td>0</td>\n      <td>False</td>\n      <td>503.5</td>\n      <td>421.555556</td>\n    </tr>\n    <tr>\n      <th>5425</th>\n      <td>9995</td>\n      <td>0</td>\n      <td>False</td>\n      <td>483.0</td>\n      <td>427.777778</td>\n    </tr>\n    <tr>\n      <th>5426</th>\n      <td>9997</td>\n      <td>0</td>\n      <td>False</td>\n      <td>457.5</td>\n      <td>429.777778</td>\n    </tr>\n    <tr>\n      <th>5427</th>\n      <td>9998</td>\n      <td>0</td>\n      <td>False</td>\n      <td>511.5</td>\n      <td>422.111111</td>\n    </tr>\n    <tr>\n      <th>5428</th>\n      <td>9999</td>\n      <td>0</td>\n      <td>False</td>\n      <td>466.0</td>\n      <td>425.111111</td>\n    </tr>\n  </tbody>\n</table>\n<p>5429 rows × 5 columns</p>\n</div>"
     },
     "execution_count": 3,
     "metadata": {},
     "output_type": "execute_result"
    }
   ],
   "source": [
    "# Setting the signup month (for ease of analysis)\n",
    "i = 3\n",
    "df_i_signupmonth = (\n",
    "    df[df.signup_month.isin([0, i])]\n",
    "    .groupby([\"user_id\", \"signup_month\", \"treat\"])\n",
    "    .apply(\n",
    "        lambda x: pd.Series(\n",
    "            {\n",
    "                \"pre_spends\": x.loc[x.month < i, \"spend\"].mean(),\n",
    "                \"post_spends\": x.loc[x.month > i, \"spend\"].mean(),\n",
    "            }\n",
    "        )\n",
    "    )\n",
    "    .reset_index()\n",
    ")\n",
    "df_i_signupmonth"
   ]
  },
  {
   "cell_type": "code",
   "execution_count": 4,
   "metadata": {},
   "outputs": [
    {
     "data": {
      "text/plain": "   user_id  signup_month  treat  pre_spends  post_spends  age  is_male  \\\n0        0             0      0       525.0   423.222222   63        1   \n1        1             0      0       460.5   405.555556   42        0   \n2        2             0      0       478.0   411.777778   23        0   \n3        4             0      0       491.0   416.555556   65        0   \n4        6             0      0       489.5   411.555556   68        0   \n\n  industry  \n0        2  \n1        2  \n2        2  \n3        2  \n4        1  ",
      "text/html": "<div>\n<style scoped>\n    .dataframe tbody tr th:only-of-type {\n        vertical-align: middle;\n    }\n\n    .dataframe tbody tr th {\n        vertical-align: top;\n    }\n\n    .dataframe thead th {\n        text-align: right;\n    }\n</style>\n<table border=\"1\" class=\"dataframe\">\n  <thead>\n    <tr style=\"text-align: right;\">\n      <th></th>\n      <th>user_id</th>\n      <th>signup_month</th>\n      <th>treat</th>\n      <th>pre_spends</th>\n      <th>post_spends</th>\n      <th>age</th>\n      <th>is_male</th>\n      <th>industry</th>\n    </tr>\n  </thead>\n  <tbody>\n    <tr>\n      <th>0</th>\n      <td>0</td>\n      <td>0</td>\n      <td>0</td>\n      <td>525.0</td>\n      <td>423.222222</td>\n      <td>63</td>\n      <td>1</td>\n      <td>2</td>\n    </tr>\n    <tr>\n      <th>1</th>\n      <td>1</td>\n      <td>0</td>\n      <td>0</td>\n      <td>460.5</td>\n      <td>405.555556</td>\n      <td>42</td>\n      <td>0</td>\n      <td>2</td>\n    </tr>\n    <tr>\n      <th>2</th>\n      <td>2</td>\n      <td>0</td>\n      <td>0</td>\n      <td>478.0</td>\n      <td>411.777778</td>\n      <td>23</td>\n      <td>0</td>\n      <td>2</td>\n    </tr>\n    <tr>\n      <th>3</th>\n      <td>4</td>\n      <td>0</td>\n      <td>0</td>\n      <td>491.0</td>\n      <td>416.555556</td>\n      <td>65</td>\n      <td>0</td>\n      <td>2</td>\n    </tr>\n    <tr>\n      <th>4</th>\n      <td>6</td>\n      <td>0</td>\n      <td>0</td>\n      <td>489.5</td>\n      <td>411.555556</td>\n      <td>68</td>\n      <td>0</td>\n      <td>1</td>\n    </tr>\n  </tbody>\n</table>\n</div>"
     },
     "execution_count": 4,
     "metadata": {},
     "output_type": "execute_result"
    }
   ],
   "source": [
    "# Additional category features\n",
    "gender = np.random.choice(a=[0,1], size=df_i_signupmonth.user_id.nunique())\n",
    "age = np.random.choice(a=range(18, 70), size=df_i_signupmonth.user_id.nunique())\n",
    "industry = np.random.choice(a=range(1, 3), size=df_i_signupmonth.user_id.nunique())\n",
    "df_i_signupmonth['age'] = age\n",
    "df_i_signupmonth['is_male'] =  gender\n",
    "df_i_signupmonth['industry'] =  industry\n",
    "df_i_signupmonth['industry'] = df_i_signupmonth['industry'].astype('str')\n",
    "df_i_signupmonth['treat'] = df_i_signupmonth['treat'].astype(int)\n",
    "df_i_signupmonth.head()"
   ]
  },
  {
   "cell_type": "code",
   "execution_count": 5,
   "metadata": {},
   "outputs": [
    {
     "data": {
      "text/plain": "Index(['user_id', 'signup_month', 'treat', 'pre_spends', 'post_spends', 'age',\n       'is_male', 'industry'],\n      dtype='object')"
     },
     "execution_count": 5,
     "metadata": {},
     "output_type": "execute_result"
    }
   ],
   "source": [
    "df_i_signupmonth.columns"
   ]
  },
  {
   "cell_type": "markdown",
   "metadata": {},
   "source": [
    "## 2. Matching  \n",
    "### 2.0 Init params\n",
    "info_col used to define informative attributes that should not be part of matching, such as user_id  \n",
    "But to explicitly store this column in the table, so that you can compare directly after computation"
   ]
  },
  {
   "cell_type": "code",
   "execution_count": 6,
   "metadata": {},
   "outputs": [],
   "source": [
    "info_col = ['user_id', 'signup_month']\n",
    "\n",
    "outcome = 'post_spends'\n",
    "treatment = 'treat'"
   ]
  },
  {
   "cell_type": "markdown",
   "metadata": {},
   "source": [
    "### 2.1 Simple matching\n",
    "This is the easiest way to initialize and calculate metrics on a Matching task  \n",
    "Use it when you are clear about each attribute or if you don't have any additional task conditions (Strict equality for certain features) "
   ]
  },
  {
   "cell_type": "code",
   "execution_count": 7,
   "metadata": {},
   "outputs": [
    {
     "name": "stderr",
     "output_type": "stream",
     "text": [
      "[25.05.2023 12:23:06 | matcher | INFO]: Applying matching\n",
      "[25.05.2023 12:23:06 | Faiss matcher | INFO]: Searching index\n",
      "[25.05.2023 12:23:06 | Faiss matcher | INFO]: Searching index\n",
      "[25.05.2023 12:23:06 | Faiss matcher | INFO]: Calculated the number of times each subject has appeared as a match: [10. 17. 53. 11.  7.  0.  1.  0. 10.  0.  0.  0. 10.  0.  0. 14. 13.  4.\n",
      "  5. 13.  0.  0.  0.  8.  0.  4. 14. 14.  8. 15.  1.  0. 10.  1. 20.  5.\n",
      "  8.  9. 10.  0. 10. 11.  5.  7.  3. 20. 26. 18. 21.  3.  6. 10.  6. 11.\n",
      "  0.  7. 25.  3. 39.  3.  6.  5.  6.  4.  0. 28.  3.  5.  5.  4. 15.  0.\n",
      " 61.  0.  6. 37. 25.  7.  8.  0.  1.  6.  2.  9.  2. 10. 28.  0. 15. 14.\n",
      "  0. 33. 11. 13. 18. 20. 19.  5.  0. 15.  0. 34.  0.  3.  0.  7.  1. 70.\n",
      " 68. 12. 18.  1. 11.  7.  0.  7. 14.  2. 20.  2.  0. 19. 21. 13.  2. 22.\n",
      "  0.  3.  5.  5.  3. 18. 55. 14.  4. 24.  3.  2. 23. 11. 10. 10. 13.  5.\n",
      " 21.  4.  0.  0.  2.  4. 49.  3.  0.  0.  3.  5. 48.  0.  7.  5. 18. 11.\n",
      " 11.  0. 19.  6. 20. 11.  5.  9. 21.  4. 12. 15. 19. 16. 18. 22. 31. 15.\n",
      "  9. 12. 17. 11.  6. 23.  0.  6. 10.  3.  0.  2.  8.  5. 28. 11. 17. 10.\n",
      " 22.  8.  0.  8.  0.  7.  0. 19.  0.  1.  5. 27.  0.  0.  2. 13.  3. 16.\n",
      "  5. 20. 28. 15.  8.  3.  3. 22.  4.  0. 13. 24. 11.  2. 18.  0.  8.  0.\n",
      " 17. 24. 11. 13.  6.  0.  0.  0.  6.  0.  0.  7.  6.  0.  5. 13.  1.  4.\n",
      "  0.  9.  3. 38. 39.  5. 25.  0.  0. 14.  0.  3.  2. 40. 12. 10. 32.  6.\n",
      "  0.  7. 34. 26.  0. 11.  2.  4.  0. 13.  0. 12.  0.  0. 10. 16. 94. 18.\n",
      "  4. 37. 18. 14.  4. 13. 16.  0.  0. 16.  0. 18. 11. 26.  0.  2. 16. 10.\n",
      "  2. 32.  2.  7.  0. 13.  0.  1. 15.  9.  2.  5. 18. 30.  1.  5.  7.  8.\n",
      "  6. 18.  6.  2.  0. 18. 42. 40. 10. 15. 10. 21. 24. 12.  1.  9.  5. 10.\n",
      "  0.  6.  8.  1.  4.  5. 17. 14.  0.  1. 13.  1.  0. 13.  0.  3. 16. 10.\n",
      " 11. 19.  0. 23.  9.  1.  0.  7. 39.  8. 11.  2. 10.  3. 11.  6. 38. 15.\n",
      " 18. 19.  0.  1. 12. 10.  3.  4. 69.  3. 15.  5.  8. 14.  4.  3.  0.  1.\n",
      "  0.  3.  5.  2. 21. 16.  2. 15. 26.  5. 29.  0. 15. 27. 23.  7. 36. 23.\n",
      " 24. 12. 39.  7.  0. 27.  0. 46.  5.  9. 19. 11. 16.  0.  5.  1.  7. 15.\n",
      "  4.  0.  6.  0. 14. 14. 15.  0. 75. 14. 16. 15.  4. 36. 12.  5.  8.  2.\n",
      "  9.  1.  2. 18.  9.  5.  3.]\n",
      "[25.05.2023 12:23:06 | Faiss matcher | INFO]: Calculated the number of times each subject has appeared as a match: [0. 1. 0. ... 0. 0. 0.]\n",
      "[25.05.2023 12:23:06 | Faiss matcher | INFO]: Estimating quality of matching\n",
      "[25.05.2023 12:23:06 | metrics | INFO]: Standardised mean difference: pre_spends    0.015230\n",
      "age           0.011919\n",
      "is_male       0.118239\n",
      "dtype: float64\n",
      "[25.05.2023 12:23:06 | metrics | INFO]: Standardised mean difference: pre_spends    0.021315\n",
      "age           0.005371\n",
      "is_male       0.024939\n",
      "dtype: float64\n",
      "[25.05.2023 12:23:06 | metrics | INFO]: Kolmogorov-Smirnov test to check matching quality: \n",
      "{'pre_spends': 0.13705438616732254, 'age': 0.019451849358323805, 'is_male': 0.40271356301522643}\n",
      "[25.05.2023 12:23:06 | metrics | INFO]: Kolmogorov-Smirnov test to check matching quality: \n",
      "{'pre_spends': 0.0008139417484870064, 'age': 3.8933376276584405e-14, 'is_male': 0.8343032280219516}\n",
      "[25.05.2023 12:23:06 | psi_pandas | INFO]: Creating report\n",
      "[25.05.2023 12:23:06 | psi_pandas | INFO]: sub_psi value is  0.000000\n",
      "[25.05.2023 12:23:06 | psi_pandas | INFO]: sub_psi value is  0.014375\n",
      "[25.05.2023 12:23:06 | psi_pandas | INFO]: sub_psi value is  0.002924\n",
      "[25.05.2023 12:23:06 | psi_pandas | INFO]: sub_psi value is  0.004395\n",
      "[25.05.2023 12:23:06 | psi_pandas | INFO]: sub_psi value is  0.000453\n",
      "[25.05.2023 12:23:06 | psi_pandas | INFO]: sub_psi value is  0.034885\n",
      "[25.05.2023 12:23:06 | psi_pandas | INFO]: sub_psi value is  0.026439\n",
      "[25.05.2023 12:23:06 | psi_pandas | INFO]: sub_psi value is  0.000464\n",
      "[25.05.2023 12:23:06 | psi_pandas | INFO]: sub_psi value is  0.000000\n",
      "[25.05.2023 12:23:06 | psi_pandas | INFO]: sub_psi value is  0.019046\n",
      "[25.05.2023 12:23:06 | psi_pandas | INFO]: sub_psi value is  0.000406\n",
      "[25.05.2023 12:23:06 | psi_pandas | INFO]: PSI values:  0.10\n",
      "[25.05.2023 12:23:06 | psi_pandas | INFO]: sub_psi value is  0.000000\n",
      "[25.05.2023 12:23:06 | psi_pandas | INFO]: sub_psi value is  0.023503\n",
      "[25.05.2023 12:23:06 | psi_pandas | INFO]: sub_psi value is  0.001793\n",
      "[25.05.2023 12:23:06 | psi_pandas | INFO]: sub_psi value is  0.005599\n",
      "[25.05.2023 12:23:06 | psi_pandas | INFO]: sub_psi value is  0.001153\n",
      "[25.05.2023 12:23:06 | psi_pandas | INFO]: sub_psi value is  0.004625\n",
      "[25.05.2023 12:23:06 | psi_pandas | INFO]: sub_psi value is  0.063613\n",
      "[25.05.2023 12:23:06 | psi_pandas | INFO]: sub_psi value is  0.006348\n",
      "[25.05.2023 12:23:06 | psi_pandas | INFO]: sub_psi value is  0.001588\n",
      "[25.05.2023 12:23:06 | psi_pandas | INFO]: sub_psi value is  0.022152\n",
      "[25.05.2023 12:23:06 | psi_pandas | INFO]: sub_psi value is  0.010681\n",
      "[25.05.2023 12:23:06 | psi_pandas | INFO]: PSI values:  0.14\n",
      "[25.05.2023 12:23:06 | psi_pandas | INFO]: sub_psi value is  0.000000\n",
      "[25.05.2023 12:23:06 | psi_pandas | INFO]: sub_psi value is  0.006989\n",
      "[25.05.2023 12:23:06 | psi_pandas | INFO]: sub_psi value is  0.006989\n",
      "[25.05.2023 12:23:06 | psi_pandas | INFO]: PSI values:  0.01\n",
      "[25.05.2023 12:23:06 | psi_pandas | INFO]: sub_psi value is  0.000000\n",
      "[25.05.2023 12:23:06 | psi_pandas | INFO]: sub_psi value is  0.000090\n",
      "[25.05.2023 12:23:06 | psi_pandas | INFO]: sub_psi value is  0.000083\n",
      "[25.05.2023 12:23:06 | psi_pandas | INFO]: PSI values:  0.00\n",
      "[25.05.2023 12:23:06 | psi_pandas | INFO]: sub_psi value is  9.209419\n",
      "[25.05.2023 12:23:06 | psi_pandas | INFO]: sub_psi value is  0.695277\n",
      "[25.05.2023 12:23:06 | psi_pandas | INFO]: sub_psi value is  0.695277\n",
      "[25.05.2023 12:23:06 | psi_pandas | INFO]: sub_psi value is  0.660742\n",
      "[25.05.2023 12:23:06 | psi_pandas | INFO]: sub_psi value is  0.712617\n",
      "[25.05.2023 12:23:06 | psi_pandas | INFO]: sub_psi value is  0.660742\n",
      "[25.05.2023 12:23:06 | psi_pandas | INFO]: sub_psi value is  0.660742\n",
      "[25.05.2023 12:23:06 | psi_pandas | INFO]: sub_psi value is  0.747434\n",
      "[25.05.2023 12:23:06 | psi_pandas | INFO]: sub_psi value is  0.660742\n",
      "[25.05.2023 12:23:06 | psi_pandas | INFO]: sub_psi value is  0.695277\n",
      "[25.05.2023 12:23:06 | psi_pandas | INFO]: sub_psi value is  0.712617\n",
      "[25.05.2023 12:23:06 | psi_pandas | INFO]: PSI values:  16.11\n",
      "[25.05.2023 12:23:06 | psi_pandas | INFO]: Creating report\n",
      "[25.05.2023 12:23:06 | psi_pandas | INFO]: sub_psi value is  0.000000\n",
      "[25.05.2023 12:23:06 | psi_pandas | INFO]: sub_psi value is  0.001778\n",
      "[25.05.2023 12:23:06 | psi_pandas | INFO]: sub_psi value is  0.007573\n",
      "[25.05.2023 12:23:06 | psi_pandas | INFO]: sub_psi value is  0.007317\n",
      "[25.05.2023 12:23:06 | psi_pandas | INFO]: sub_psi value is  0.000222\n",
      "[25.05.2023 12:23:06 | psi_pandas | INFO]: sub_psi value is  0.000169\n",
      "[25.05.2023 12:23:06 | psi_pandas | INFO]: sub_psi value is  0.000414\n",
      "[25.05.2023 12:23:06 | psi_pandas | INFO]: sub_psi value is  0.003000\n",
      "[25.05.2023 12:23:06 | psi_pandas | INFO]: sub_psi value is  0.006359\n",
      "[25.05.2023 12:23:06 | psi_pandas | INFO]: sub_psi value is  0.005845\n",
      "[25.05.2023 12:23:06 | psi_pandas | INFO]: sub_psi value is  0.008273\n",
      "[25.05.2023 12:23:06 | psi_pandas | INFO]: PSI values:  0.04\n",
      "[25.05.2023 12:23:06 | psi_pandas | INFO]: sub_psi value is  0.000000\n",
      "[25.05.2023 12:23:06 | psi_pandas | INFO]: sub_psi value is  0.000773\n",
      "[25.05.2023 12:23:06 | psi_pandas | INFO]: sub_psi value is  0.020763\n",
      "[25.05.2023 12:23:06 | psi_pandas | INFO]: sub_psi value is  0.000153\n",
      "[25.05.2023 12:23:06 | psi_pandas | INFO]: sub_psi value is  0.010460\n",
      "[25.05.2023 12:23:06 | psi_pandas | INFO]: sub_psi value is  0.007040\n",
      "[25.05.2023 12:23:06 | psi_pandas | INFO]: sub_psi value is  0.001985\n",
      "[25.05.2023 12:23:06 | psi_pandas | INFO]: sub_psi value is  0.000164\n",
      "[25.05.2023 12:23:06 | psi_pandas | INFO]: sub_psi value is  0.005140\n",
      "[25.05.2023 12:23:06 | psi_pandas | INFO]: sub_psi value is  0.006302\n",
      "[25.05.2023 12:23:06 | psi_pandas | INFO]: sub_psi value is  0.004045\n",
      "[25.05.2023 12:23:06 | psi_pandas | INFO]: PSI values:  0.06\n",
      "[25.05.2023 12:23:06 | psi_pandas | INFO]: sub_psi value is  0.000000\n",
      "[25.05.2023 12:23:06 | psi_pandas | INFO]: sub_psi value is  0.000310\n",
      "[25.05.2023 12:23:06 | psi_pandas | INFO]: sub_psi value is  0.000312\n",
      "[25.05.2023 12:23:06 | psi_pandas | INFO]: PSI values:  0.00\n",
      "[25.05.2023 12:23:06 | psi_pandas | INFO]: sub_psi value is  0.000000\n",
      "[25.05.2023 12:23:06 | psi_pandas | INFO]: sub_psi value is  0.000010\n",
      "[25.05.2023 12:23:06 | psi_pandas | INFO]: sub_psi value is  0.000010\n",
      "[25.05.2023 12:23:06 | psi_pandas | INFO]: PSI values:  0.00\n",
      "[25.05.2023 12:23:06 | psi_pandas | INFO]: sub_psi value is  0.000000\n",
      "[25.05.2023 12:23:06 | psi_pandas | INFO]: sub_psi value is  0.672299\n",
      "[25.05.2023 12:23:06 | psi_pandas | INFO]: sub_psi value is  0.702501\n",
      "[25.05.2023 12:23:06 | psi_pandas | INFO]: sub_psi value is  0.677058\n",
      "[25.05.2023 12:23:06 | psi_pandas | INFO]: sub_psi value is  0.675472\n",
      "[25.05.2023 12:23:06 | psi_pandas | INFO]: sub_psi value is  0.705689\n",
      "[25.05.2023 12:23:06 | psi_pandas | INFO]: sub_psi value is  0.664376\n",
      "[25.05.2023 12:23:06 | psi_pandas | INFO]: sub_psi value is  0.707283\n",
      "[25.05.2023 12:23:06 | psi_pandas | INFO]: sub_psi value is  0.699315\n",
      "[25.05.2023 12:23:06 | psi_pandas | INFO]: sub_psi value is  0.680233\n",
      "[25.05.2023 12:23:06 | psi_pandas | INFO]: sub_psi value is  2.034751\n",
      "[25.05.2023 12:23:06 | psi_pandas | INFO]: PSI values:  8.22\n",
      "[25.05.2023 12:23:06 | metrics | INFO]: Fraction of duplicated indexes:  0.88\n",
      "[25.05.2023 12:23:06 | metrics | INFO]: Fraction of duplicated indexes:  0.08\n",
      "[25.05.2023 12:23:06 | Faiss matcher | INFO]: PSI info: \n",
      "                      0      1    2                      3     4    5\n",
      "0   pre_spends_treated   0.10   OK   pre_spends_untreated  0.04   OK\n",
      "1          age_treated   0.14   OK          age_untreated  0.06   OK\n",
      "2      is_male_treated   0.01   OK      is_male_untreated  0.00   OK\n",
      "3   industry_2_treated   0.00   OK   industry_2_untreated  0.00   OK\n",
      "4  post_spends_treated  16.11  NOK  post_spends_untreated  8.22  NOK \n",
      "shape:(5, 6)\n",
      "[25.05.2023 12:23:06 | Faiss matcher | INFO]: Kolmogorov-Smirnov test info: \n",
      "             match_control_to_treat  match_treat_to_control\n",
      "pre_spends                0.137054            8.139417e-04\n",
      "age                       0.019452            3.893338e-14\n",
      "is_male                   0.402714            8.343032e-01 \n",
      "shape:(3, 2)\n",
      "[25.05.2023 12:23:06 | Faiss matcher | INFO]: Standardised mean difference info: \n",
      "             match_control_to_treat  match_treat_to_control\n",
      "pre_spends                0.015230                0.021315\n",
      "age                       0.011919                0.005371\n",
      "is_male                   0.118239                0.024939 \n",
      "shape:(3, 2)\n",
      "[25.05.2023 12:23:06 | Faiss matcher | INFO]: Repeats info: \n",
      "                         value\n",
      "match_control_to_treat   0.88\n",
      "match_treat_to_control   0.08\n"
     ]
    }
   ],
   "source": [
    "# Standard model with base parameters\n",
    "model = Matcher(input_data=df_i_signupmonth, outcome=outcome, treatment=treatment, info_col=info_col)\n",
    "results, quality_results = model.estimate()"
   ]
  },
  {
   "cell_type": "markdown",
   "metadata": {},
   "source": [
    "### 2.2 Matching with a fixed variable  \n",
    "Used when you have categorical feature(s) that you want to compare by strict equality  \n",
    "group_col is used for strict comparison of categorical features.  \n",
    "In our case there is only one attribute  \n",
    "If there are several such attributes, you should make one of them and use it"
   ]
  },
  {
   "cell_type": "code",
   "execution_count": 8,
   "metadata": {},
   "outputs": [],
   "source": [
    "# group_col is used for strict comparison of categorical features.  \n",
    "# In our case there is only one attribute  \n",
    "# If there are several such attributes, you should make one of them and use it\n",
    "\n",
    "group_col = \"industry\""
   ]
  },
  {
   "cell_type": "code",
   "execution_count": 9,
   "metadata": {},
   "outputs": [
    {
     "ename": "TypeError",
     "evalue": "__init__() got an unexpected keyword argument 'df'",
     "output_type": "error",
     "traceback": [
      "\u001B[0;31m---------------------------------------------------------------------------\u001B[0m",
      "\u001B[0;31mTypeError\u001B[0m                                 Traceback (most recent call last)",
      "Cell \u001B[0;32mIn[9], line 1\u001B[0m\n\u001B[0;32m----> 1\u001B[0m model \u001B[38;5;241m=\u001B[39m \u001B[43mMatcher\u001B[49m\u001B[43m(\u001B[49m\u001B[43mdf\u001B[49m\u001B[38;5;241;43m=\u001B[39;49m\u001B[43mdf_i_signupmonth\u001B[49m\u001B[43m,\u001B[49m\u001B[43m \u001B[49m\u001B[43moutcome\u001B[49m\u001B[38;5;241;43m=\u001B[39;49m\u001B[43moutcome\u001B[49m\u001B[43m,\u001B[49m\u001B[43m \u001B[49m\u001B[43mtreatment\u001B[49m\u001B[38;5;241;43m=\u001B[39;49m\u001B[43mtreatment\u001B[49m\u001B[43m,\u001B[49m\u001B[43m \u001B[49m\n\u001B[1;32m      2\u001B[0m \u001B[43m                \u001B[49m\u001B[43minfo_col\u001B[49m\u001B[38;5;241;43m=\u001B[39;49m\u001B[43minfo_col\u001B[49m\u001B[43m,\u001B[49m\u001B[43m \u001B[49m\u001B[43mgroup_col\u001B[49m\u001B[38;5;241;43m=\u001B[39;49m\u001B[43mgroup_col\u001B[49m\u001B[43m)\u001B[49m\n\u001B[1;32m      3\u001B[0m results, quality_results \u001B[38;5;241m=\u001B[39m model\u001B[38;5;241m.\u001B[39mestimate()\n",
      "\u001B[0;31mTypeError\u001B[0m: __init__() got an unexpected keyword argument 'df'"
     ]
    }
   ],
   "source": [
    "model = Matcher(df=df_i_signupmonth, outcome=outcome, treatment=treatment, \n",
    "                info_col=info_col, group_col=group_col)\n",
    "results, quality_results = model.estimate()"
   ]
  },
  {
   "cell_type": "markdown",
   "metadata": {},
   "source": [
    "### 2.3 Matching but you don't know which features are better to use  \n",
    "This is the easiest way to initialize and calculate metrics on a Matching task  \n",
    "Use this method when you want to select the most important features and make matching based on them. "
   ]
  },
  {
   "cell_type": "code",
   "execution_count": null,
   "metadata": {},
   "outputs": [],
   "source": [
    "model = Matcher(df=df_i_signupmonth, outcome=outcome, treatment=treatment, \n",
    "                info_col=info_col, group_col=group_col)"
   ]
  },
  {
   "cell_type": "code",
   "execution_count": null,
   "metadata": {
    "scrolled": true
   },
   "outputs": [],
   "source": [
    "features_importance = model.lama_feature_select()\n",
    "features_importance"
   ]
  },
  {
   "cell_type": "code",
   "execution_count": null,
   "metadata": {},
   "outputs": [],
   "source": [
    "features = features_importance['Feature'].to_list()"
   ]
  },
  {
   "cell_type": "code",
   "execution_count": null,
   "metadata": {},
   "outputs": [],
   "source": [
    "# You can use both variant that you like. So you can just list the features to be matched\n",
    "\n",
    "#results, quality_results = model.estimate(features=features_importance[:3])\n",
    "results, quality_results = model.estimate(features=features[:3])"
   ]
  },
  {
   "cell_type": "code",
   "execution_count": null,
   "metadata": {},
   "outputs": [],
   "source": [
    "model.matcher.df_matched"
   ]
  },
  {
   "cell_type": "markdown",
   "metadata": {},
   "source": [
    "## 3. Results  \n",
    "### 3.1 ATE, ATT, ATC"
   ]
  },
  {
   "cell_type": "code",
   "execution_count": null,
   "metadata": {},
   "outputs": [],
   "source": [
    "# model.matcher.results\n",
    "results"
   ]
  },
  {
   "cell_type": "markdown",
   "metadata": {},
   "source": [
    "### 3.2 SMD, PSI, KS-test, repeats"
   ]
  },
  {
   "cell_type": "code",
   "execution_count": null,
   "metadata": {},
   "outputs": [],
   "source": [
    "# matching quality result - SMD\n",
    "model.quality_result"
   ]
  },
  {
   "cell_type": "code",
   "execution_count": null,
   "metadata": {},
   "outputs": [],
   "source": [
    "# matching quality result - PSI\n",
    "model.quality_result['psi']"
   ]
  },
  {
   "cell_type": "code",
   "execution_count": null,
   "metadata": {},
   "outputs": [],
   "source": [
    "# matching quality result - KS-test\n",
    "\n",
    "model.quality_result['ks_test']"
   ]
  },
  {
   "cell_type": "code",
   "execution_count": null,
   "metadata": {},
   "outputs": [],
   "source": [
    "# matching quality result - repeats\n",
    "model.quality_result['repeats']"
   ]
  },
  {
   "cell_type": "markdown",
   "metadata": {},
   "source": [
    "### 3.3 Validation\n",
    "validate result with placebo treatment  \n",
    "our new effect size is close to zero (it should be)"
   ]
  },
  {
   "cell_type": "code",
   "execution_count": null,
   "metadata": {},
   "outputs": [],
   "source": [
    " \n",
    "model.validate_result()\n",
    " "
   ]
  },
  {
   "cell_type": "code",
   "execution_count": null,
   "metadata": {},
   "outputs": [],
   "source": []
  },
  {
   "cell_type": "code",
   "execution_count": null,
   "metadata": {},
   "outputs": [],
   "source": [
    "model.matcher.df_matched"
   ]
  },
  {
   "cell_type": "code",
   "execution_count": 15,
   "metadata": {},
   "outputs": [],
   "source": []
  },
  {
   "cell_type": "code",
   "execution_count": null,
   "metadata": {},
   "outputs": [],
   "source": []
  },
  {
   "cell_type": "code",
   "execution_count": null,
   "metadata": {},
   "outputs": [],
   "source": []
  },
  {
   "cell_type": "code",
   "execution_count": null,
   "metadata": {},
   "outputs": [],
   "source": []
  },
  {
   "cell_type": "code",
   "execution_count": null,
   "metadata": {},
   "outputs": [],
   "source": []
  },
  {
   "cell_type": "code",
   "execution_count": null,
   "outputs": [],
   "source": [],
   "metadata": {
    "collapsed": false
   }
  },
  {
   "cell_type": "code",
   "execution_count": null,
   "outputs": [],
   "source": [],
   "metadata": {
    "collapsed": false
   }
  },
  {
   "cell_type": "code",
   "execution_count": null,
   "outputs": [],
   "source": [],
   "metadata": {
    "collapsed": false
   }
  },
  {
   "cell_type": "code",
   "execution_count": null,
   "outputs": [],
   "source": [],
   "metadata": {
    "collapsed": false
   }
  }
 ],
 "metadata": {
  "kernelspec": {
   "display_name": "Python 3 (ipykernel)",
   "language": "python",
   "name": "python3"
  },
  "language_info": {
   "codemirror_mode": {
    "name": "ipython",
    "version": 3
   },
   "file_extension": ".py",
   "mimetype": "text/x-python",
   "name": "python",
   "nbconvert_exporter": "python",
   "pygments_lexer": "ipython3",
   "version": "3.8.16"
  }
 },
 "nbformat": 4,
 "nbformat_minor": 1
}

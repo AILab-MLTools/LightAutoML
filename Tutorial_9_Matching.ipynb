{
 "cells": [
  {
   "cell_type": "markdown",
   "metadata": {},
   "source": [
    "# How to match? "
   ]
  },
  {
   "cell_type": "markdown",
   "metadata": {},
   "source": [
    "## 0. Import libraries "
   ]
  },
  {
   "cell_type": "code",
   "execution_count": 28,
   "metadata": {},
   "outputs": [],
   "source": [
    "# !pip install faiss-cpu\n",
    "# !pip install lightautoml"
   ]
  },
  {
   "cell_type": "code",
   "execution_count": 30,
   "metadata": {},
   "outputs": [
    {
     "name": "stdout",
     "output_type": "stream",
     "text": [
      "Python 3.8.16\r\n"
     ]
    }
   ],
   "source": [
    "!python --version"
   ]
  },
  {
   "cell_type": "code",
   "execution_count": 31,
   "metadata": {},
   "outputs": [],
   "source": [
    "import pandas as pd\n",
    "import warnings\n",
    "import numpy as np\n",
    "from lightautoml.addons.digitaltwins import Matcher\n",
    "warnings.filterwarnings('ignore')\n",
    "%config Completer.use_jedi = False"
   ]
  },
  {
   "cell_type": "markdown",
   "metadata": {},
   "source": [
    "## 1. Create or upload your dataset  \n",
    "In this case we will create random dataset with known effect size  \n",
    "If you have your own dataset, go to the part 2 \n"
   ]
  },
  {
   "cell_type": "code",
   "execution_count": 32,
   "metadata": {},
   "outputs": [
    {
     "data": {
      "text/plain": "   user_id  signup_month  month  spend  treat\n0        0             0      1    491  False\n1        0             0      2    472  False\n2        0             0      3    457  False\n3        0             0      4    449  False\n4        0             0      5    469  False",
      "text/html": "<div>\n<style scoped>\n    .dataframe tbody tr th:only-of-type {\n        vertical-align: middle;\n    }\n\n    .dataframe tbody tr th {\n        vertical-align: top;\n    }\n\n    .dataframe thead th {\n        text-align: right;\n    }\n</style>\n<table border=\"1\" class=\"dataframe\">\n  <thead>\n    <tr style=\"text-align: right;\">\n      <th></th>\n      <th>user_id</th>\n      <th>signup_month</th>\n      <th>month</th>\n      <th>spend</th>\n      <th>treat</th>\n    </tr>\n  </thead>\n  <tbody>\n    <tr>\n      <th>0</th>\n      <td>0</td>\n      <td>0</td>\n      <td>1</td>\n      <td>491</td>\n      <td>False</td>\n    </tr>\n    <tr>\n      <th>1</th>\n      <td>0</td>\n      <td>0</td>\n      <td>2</td>\n      <td>472</td>\n      <td>False</td>\n    </tr>\n    <tr>\n      <th>2</th>\n      <td>0</td>\n      <td>0</td>\n      <td>3</td>\n      <td>457</td>\n      <td>False</td>\n    </tr>\n    <tr>\n      <th>3</th>\n      <td>0</td>\n      <td>0</td>\n      <td>4</td>\n      <td>449</td>\n      <td>False</td>\n    </tr>\n    <tr>\n      <th>4</th>\n      <td>0</td>\n      <td>0</td>\n      <td>5</td>\n      <td>469</td>\n      <td>False</td>\n    </tr>\n  </tbody>\n</table>\n</div>"
     },
     "execution_count": 32,
     "metadata": {},
     "output_type": "execute_result"
    }
   ],
   "source": [
    "# Simulating dataset with known effect size\n",
    "num_users = 10000\n",
    "num_months = 12\n",
    "\n",
    "signup_months = np.random.choice(np.arange(1, num_months), num_users) * np.random.randint(0,2, size=num_users) # signup_months == 0 means customer did not sign up\n",
    "df = pd.DataFrame({\n",
    "    'user_id': np.repeat(np.arange(num_users), num_months),\n",
    "    'signup_month': np.repeat(signup_months, num_months), # signup month == 0 means customer did not sign up\n",
    "    'month': np.tile(np.arange(1, num_months+1), num_users), # months are from 1 to 12\n",
    "    'spend': np.random.poisson(500, num_users*num_months) #np.random.beta(a=2, b=5, size=num_users * num_months)*1000 # centered at 500\n",
    "})\n",
    "# A customer is in the treatment group if and only if they signed up\n",
    "df[\"treat\"] = df[\"signup_month\"]>0\n",
    "# Simulating an effect of month (monotonically decreasing--customers buy less later in the year)\n",
    "df[\"spend\"] = df[\"spend\"] - df[\"month\"]*10\n",
    "# Simulating a simple treatment effect of 100\n",
    "after_signup = (df[\"signup_month\"] < df[\"month\"]) & (df[\"treat\"])\n",
    "df.loc[after_signup,\"spend\"] = df[after_signup][\"spend\"] + 100\n",
    "df.head()"
   ]
  },
  {
   "cell_type": "code",
   "execution_count": 33,
   "metadata": {},
   "outputs": [
    {
     "data": {
      "text/plain": "      user_id  signup_month  treat  pre_spends  post_spends\n0           0             0  False       481.5   425.555556\n1           2             0  False       524.0   421.333333\n2           5             0  False       456.5   423.000000\n3           8             0  False       475.5   420.333333\n4           9             0  False       492.0   419.111111\n...       ...           ...    ...         ...          ...\n5428     9984             0  False       496.0   418.888889\n5429     9991             0  False       486.0   417.444444\n5430     9992             0  False       458.5   426.777778\n5431     9994             0  False       491.0   425.888889\n5432     9997             0  False       455.0   411.888889\n\n[5433 rows x 5 columns]",
      "text/html": "<div>\n<style scoped>\n    .dataframe tbody tr th:only-of-type {\n        vertical-align: middle;\n    }\n\n    .dataframe tbody tr th {\n        vertical-align: top;\n    }\n\n    .dataframe thead th {\n        text-align: right;\n    }\n</style>\n<table border=\"1\" class=\"dataframe\">\n  <thead>\n    <tr style=\"text-align: right;\">\n      <th></th>\n      <th>user_id</th>\n      <th>signup_month</th>\n      <th>treat</th>\n      <th>pre_spends</th>\n      <th>post_spends</th>\n    </tr>\n  </thead>\n  <tbody>\n    <tr>\n      <th>0</th>\n      <td>0</td>\n      <td>0</td>\n      <td>False</td>\n      <td>481.5</td>\n      <td>425.555556</td>\n    </tr>\n    <tr>\n      <th>1</th>\n      <td>2</td>\n      <td>0</td>\n      <td>False</td>\n      <td>524.0</td>\n      <td>421.333333</td>\n    </tr>\n    <tr>\n      <th>2</th>\n      <td>5</td>\n      <td>0</td>\n      <td>False</td>\n      <td>456.5</td>\n      <td>423.000000</td>\n    </tr>\n    <tr>\n      <th>3</th>\n      <td>8</td>\n      <td>0</td>\n      <td>False</td>\n      <td>475.5</td>\n      <td>420.333333</td>\n    </tr>\n    <tr>\n      <th>4</th>\n      <td>9</td>\n      <td>0</td>\n      <td>False</td>\n      <td>492.0</td>\n      <td>419.111111</td>\n    </tr>\n    <tr>\n      <th>...</th>\n      <td>...</td>\n      <td>...</td>\n      <td>...</td>\n      <td>...</td>\n      <td>...</td>\n    </tr>\n    <tr>\n      <th>5428</th>\n      <td>9984</td>\n      <td>0</td>\n      <td>False</td>\n      <td>496.0</td>\n      <td>418.888889</td>\n    </tr>\n    <tr>\n      <th>5429</th>\n      <td>9991</td>\n      <td>0</td>\n      <td>False</td>\n      <td>486.0</td>\n      <td>417.444444</td>\n    </tr>\n    <tr>\n      <th>5430</th>\n      <td>9992</td>\n      <td>0</td>\n      <td>False</td>\n      <td>458.5</td>\n      <td>426.777778</td>\n    </tr>\n    <tr>\n      <th>5431</th>\n      <td>9994</td>\n      <td>0</td>\n      <td>False</td>\n      <td>491.0</td>\n      <td>425.888889</td>\n    </tr>\n    <tr>\n      <th>5432</th>\n      <td>9997</td>\n      <td>0</td>\n      <td>False</td>\n      <td>455.0</td>\n      <td>411.888889</td>\n    </tr>\n  </tbody>\n</table>\n<p>5433 rows × 5 columns</p>\n</div>"
     },
     "execution_count": 33,
     "metadata": {},
     "output_type": "execute_result"
    }
   ],
   "source": [
    "# Setting the signup month (for ease of analysis)\n",
    "i = 3\n",
    "df_i_signupmonth = (\n",
    "    df[df.signup_month.isin([0, i])]\n",
    "    .groupby([\"user_id\", \"signup_month\", \"treat\"])\n",
    "    .apply(\n",
    "        lambda x: pd.Series(\n",
    "            {\n",
    "                \"pre_spends\": x.loc[x.month < i, \"spend\"].mean(),\n",
    "                \"post_spends\": x.loc[x.month > i, \"spend\"].mean(),\n",
    "            }\n",
    "        )\n",
    "    )\n",
    "    .reset_index()\n",
    ")\n",
    "df_i_signupmonth"
   ]
  },
  {
   "cell_type": "code",
   "execution_count": 34,
   "metadata": {},
   "outputs": [
    {
     "data": {
      "text/plain": "   user_id  signup_month  treat  pre_spends  post_spends  age  is_male  \\\n0        0             0      0       481.5   425.555556   26        0   \n1        2             0      0       524.0   421.333333   59        0   \n2        5             0      0       456.5   423.000000   40        1   \n3        8             0      0       475.5   420.333333   44        0   \n4        9             0      0       492.0   419.111111   58        1   \n\n  industry  \n0        2  \n1        2  \n2        1  \n3        1  \n4        2  ",
      "text/html": "<div>\n<style scoped>\n    .dataframe tbody tr th:only-of-type {\n        vertical-align: middle;\n    }\n\n    .dataframe tbody tr th {\n        vertical-align: top;\n    }\n\n    .dataframe thead th {\n        text-align: right;\n    }\n</style>\n<table border=\"1\" class=\"dataframe\">\n  <thead>\n    <tr style=\"text-align: right;\">\n      <th></th>\n      <th>user_id</th>\n      <th>signup_month</th>\n      <th>treat</th>\n      <th>pre_spends</th>\n      <th>post_spends</th>\n      <th>age</th>\n      <th>is_male</th>\n      <th>industry</th>\n    </tr>\n  </thead>\n  <tbody>\n    <tr>\n      <th>0</th>\n      <td>0</td>\n      <td>0</td>\n      <td>0</td>\n      <td>481.5</td>\n      <td>425.555556</td>\n      <td>26</td>\n      <td>0</td>\n      <td>2</td>\n    </tr>\n    <tr>\n      <th>1</th>\n      <td>2</td>\n      <td>0</td>\n      <td>0</td>\n      <td>524.0</td>\n      <td>421.333333</td>\n      <td>59</td>\n      <td>0</td>\n      <td>2</td>\n    </tr>\n    <tr>\n      <th>2</th>\n      <td>5</td>\n      <td>0</td>\n      <td>0</td>\n      <td>456.5</td>\n      <td>423.000000</td>\n      <td>40</td>\n      <td>1</td>\n      <td>1</td>\n    </tr>\n    <tr>\n      <th>3</th>\n      <td>8</td>\n      <td>0</td>\n      <td>0</td>\n      <td>475.5</td>\n      <td>420.333333</td>\n      <td>44</td>\n      <td>0</td>\n      <td>1</td>\n    </tr>\n    <tr>\n      <th>4</th>\n      <td>9</td>\n      <td>0</td>\n      <td>0</td>\n      <td>492.0</td>\n      <td>419.111111</td>\n      <td>58</td>\n      <td>1</td>\n      <td>2</td>\n    </tr>\n  </tbody>\n</table>\n</div>"
     },
     "execution_count": 34,
     "metadata": {},
     "output_type": "execute_result"
    }
   ],
   "source": [
    "# Additional category features\n",
    "gender = np.random.choice(a=[0,1], size=df_i_signupmonth.user_id.nunique())\n",
    "age = np.random.choice(a=range(18, 70), size=df_i_signupmonth.user_id.nunique())\n",
    "industry = np.random.choice(a=range(1, 3), size=df_i_signupmonth.user_id.nunique())\n",
    "df_i_signupmonth['age'] = age\n",
    "df_i_signupmonth['is_male'] =  gender\n",
    "df_i_signupmonth['industry'] =  industry\n",
    "df_i_signupmonth['industry'] = df_i_signupmonth['industry'].astype('str')\n",
    "df_i_signupmonth['treat'] = df_i_signupmonth['treat'].astype(int)\n",
    "df_i_signupmonth.head()"
   ]
  },
  {
   "cell_type": "code",
   "execution_count": 35,
   "metadata": {},
   "outputs": [
    {
     "data": {
      "text/plain": "Index(['user_id', 'signup_month', 'treat', 'pre_spends', 'post_spends', 'age',\n       'is_male', 'industry'],\n      dtype='object')"
     },
     "execution_count": 35,
     "metadata": {},
     "output_type": "execute_result"
    }
   ],
   "source": [
    "df_i_signupmonth.columns"
   ]
  },
  {
   "cell_type": "markdown",
   "metadata": {},
   "source": [
    "## 2. Matching  \n",
    "### 2.0 Init params\n",
    "info_col used to define informative attributes that should not be part of matching, such as user_id  \n",
    "But to explicitly store this column in the table, so that you can compare directly after computation"
   ]
  },
  {
   "cell_type": "code",
   "execution_count": 36,
   "metadata": {},
   "outputs": [],
   "source": [
    "info_col = ['user_id', 'signup_month']\n",
    "\n",
    "outcome = 'post_spends'\n",
    "treatment = 'treat'"
   ]
  },
  {
   "cell_type": "markdown",
   "metadata": {},
   "source": [
    "### 2.1 Simple matching\n",
    "This is the easiest way to initialize and calculate metrics on a Matching task  \n",
    "Use it when you are clear about each attribute or if you don't have any additional task conditions (Strict equality for certain features) "
   ]
  },
  {
   "cell_type": "code",
   "execution_count": 37,
   "metadata": {},
   "outputs": [
    {
     "name": "stderr",
     "output_type": "stream",
     "text": [
      "[06.07.2023 10:40:00 | hypex | INFO]: Applying matching\n"
     ]
    },
    {
     "name": "stdout",
     "output_type": "stream",
     "text": [
      "Finding index\n",
      "Done\n",
      "Finding index\n",
      "Done\n"
     ]
    },
    {
     "name": "stderr",
     "output_type": "stream",
     "text": [
      "[06.07.2023 10:40:00 | Faiss hypex | INFO]: Calculated the number of times each subject has appeared as a match: 426\n",
      "[06.07.2023 10:40:00 | Faiss hypex | INFO]: Calculated the number of times each subject has appeared as a match: 5007\n",
      "[06.07.2023 10:40:00 | Faiss hypex | INFO]: Estimating quality of matching\n",
      "[06.07.2023 10:40:00 | metrics | INFO]: Standardised mean difference: age           0.001874\n",
      "is_male       0.000000\n",
      "pre_spends    0.001450\n",
      "dtype: float64\n",
      "[06.07.2023 10:40:00 | metrics | INFO]: Standardised mean difference: age           0.002332\n",
      "is_male       0.000000\n",
      "pre_spends    0.001670\n",
      "dtype: float64\n",
      "[06.07.2023 10:40:00 | metrics | INFO]: Kolmogorov-Smirnov test to check matching quality: \n",
      "{'age': 0.9999999957935777, 'is_male': 1.0, 'pre_spends': 0.9999999999981869}\n",
      "[06.07.2023 10:40:00 | metrics | INFO]: Kolmogorov-Smirnov test to check matching quality: \n",
      "{'age': 0.12988908140786867, 'is_male': 1.0, 'pre_spends': 0.07204371439716685}\n",
      "[06.07.2023 10:40:00 | psi_pandas | INFO]: Creating report\n",
      "[06.07.2023 10:40:00 | psi_pandas | INFO]: PSI value:  0.002\n",
      "[06.07.2023 10:40:00 | psi_pandas | INFO]: PSI value:  0.000\n",
      "[06.07.2023 10:40:00 | psi_pandas | INFO]: PSI value:  0.000\n",
      "[06.07.2023 10:40:00 | psi_pandas | INFO]: PSI value:  16.111\n",
      "[06.07.2023 10:40:00 | psi_pandas | INFO]: PSI value:  0.005\n",
      "[06.07.2023 10:40:00 | psi_pandas | INFO]: Creating report\n",
      "[06.07.2023 10:40:00 | psi_pandas | INFO]: PSI value:  0.014\n",
      "[06.07.2023 10:40:00 | psi_pandas | INFO]: PSI value:  0.000\n",
      "[06.07.2023 10:40:00 | psi_pandas | INFO]: PSI value:  0.000\n",
      "[06.07.2023 10:40:00 | psi_pandas | INFO]: PSI value:  8.271\n",
      "[06.07.2023 10:40:00 | psi_pandas | INFO]: PSI value:  0.018\n",
      "[06.07.2023 10:40:00 | metrics | INFO]: Fraction of duplicated indexes:  0.93\n",
      "[06.07.2023 10:40:00 | metrics | INFO]: Fraction of duplicated indexes:  0.08\n",
      "[06.07.2023 10:40:00 | Faiss hypex | INFO]: PSI info: \n",
      "         column_treated  anomaly_score_treated check_result_treated  \\\n",
      "0          age_treated                   0.00                   OK   \n",
      "1   industry_2_treated                   0.00                   OK   \n",
      "2      is_male_treated                   0.00                   OK   \n",
      "3  post_spends_treated                  16.11                  NOK   \n",
      "4   pre_spends_treated                   0.00                   OK   \n",
      "\n",
      "        column_untreated  anomaly_score_untreated check_result_untreated  \n",
      "0          age_untreated                     0.01                     OK  \n",
      "1   industry_2_untreated                     0.00                     OK  \n",
      "2      is_male_untreated                     0.00                     OK  \n",
      "3  post_spends_untreated                     8.27                    NOK  \n",
      "4   pre_spends_untreated                     0.02                     OK   \n",
      "shape:(5, 6)\n",
      "[06.07.2023 10:40:00 | Faiss hypex | INFO]: Kolmogorov-Smirnov test info: \n",
      "             match_control_to_treat  match_treat_to_control\n",
      "age                            1.0                0.129889\n",
      "is_male                        1.0                1.000000\n",
      "pre_spends                     1.0                0.072044 \n",
      "shape:(3, 2)\n",
      "[06.07.2023 10:40:00 | Faiss hypex | INFO]: Standardised mean difference info: \n",
      "             match_control_to_treat  match_treat_to_control\n",
      "age                       0.001874                0.002332\n",
      "is_male                   0.000000                0.000000\n",
      "pre_spends                0.001450                0.001670 \n",
      "shape:(3, 2)\n",
      "[06.07.2023 10:40:00 | Faiss hypex | INFO]: Repeats info: \n",
      "                         value\n",
      "match_control_to_treat   0.93\n",
      "match_treat_to_control   0.08\n"
     ]
    }
   ],
   "source": [
    "# Standard model with base parameters\n",
    "model = Matcher(input_data=df_i_signupmonth, outcome=outcome, treatment=treatment, info_col=info_col, n_neighbors=10)\n",
    "results, quality_results = model.estimate()"
   ]
  },
  {
   "cell_type": "code",
   "execution_count": 38,
   "metadata": {},
   "outputs": [
    {
     "data": {
      "text/plain": "     effect_size   std_err  p-val   ci_lower    ci_upper\nATE   100.122577  0.565919    0.0  99.013376  101.231779\nATC   100.082721  0.575463    0.0  98.954814  101.210628\nATT   100.591028  0.694627    0.0  99.229559  101.952496",
      "text/html": "<div>\n<style scoped>\n    .dataframe tbody tr th:only-of-type {\n        vertical-align: middle;\n    }\n\n    .dataframe tbody tr th {\n        vertical-align: top;\n    }\n\n    .dataframe thead th {\n        text-align: right;\n    }\n</style>\n<table border=\"1\" class=\"dataframe\">\n  <thead>\n    <tr style=\"text-align: right;\">\n      <th></th>\n      <th>effect_size</th>\n      <th>std_err</th>\n      <th>p-val</th>\n      <th>ci_lower</th>\n      <th>ci_upper</th>\n    </tr>\n  </thead>\n  <tbody>\n    <tr>\n      <th>ATE</th>\n      <td>100.122577</td>\n      <td>0.565919</td>\n      <td>0.0</td>\n      <td>99.013376</td>\n      <td>101.231779</td>\n    </tr>\n    <tr>\n      <th>ATC</th>\n      <td>100.082721</td>\n      <td>0.575463</td>\n      <td>0.0</td>\n      <td>98.954814</td>\n      <td>101.210628</td>\n    </tr>\n    <tr>\n      <th>ATT</th>\n      <td>100.591028</td>\n      <td>0.694627</td>\n      <td>0.0</td>\n      <td>99.229559</td>\n      <td>101.952496</td>\n    </tr>\n  </tbody>\n</table>\n</div>"
     },
     "execution_count": 38,
     "metadata": {},
     "output_type": "execute_result"
    }
   ],
   "source": [
    "results"
   ]
  },
  {
   "cell_type": "markdown",
   "metadata": {},
   "source": [
    "### 2.2 Matching with a fixed variable  \n",
    "Used when you have categorical feature(s) that you want to compare by strict equality  \n",
    "group_col is used for strict comparison of categorical features.  \n",
    "In our case there is only one attribute  \n",
    "If there are several such attributes, you should make one of them and use it"
   ]
  },
  {
   "cell_type": "code",
   "execution_count": 39,
   "metadata": {},
   "outputs": [],
   "source": [
    "# group_col is used for strict comparison of categorical features.  \n",
    "# In our case there is only one attribute  \n",
    "# If there are several such attributes, you should make one of them and use it\n",
    "\n",
    "group_col = \"industry\""
   ]
  },
  {
   "cell_type": "code",
   "execution_count": 40,
   "metadata": {},
   "outputs": [
    {
     "name": "stderr",
     "output_type": "stream",
     "text": [
      "[06.07.2023 10:40:07 | hypex | INFO]: Applying matching\n"
     ]
    },
    {
     "name": "stdout",
     "output_type": "stream",
     "text": [
      "Finding index\n",
      "Done\n",
      "Finding index\n",
      "Done\n",
      "Finding index\n",
      "Done\n",
      "Finding index\n",
      "Done\n"
     ]
    },
    {
     "name": "stderr",
     "output_type": "stream",
     "text": [
      "[06.07.2023 10:40:07 | Faiss hypex | INFO]: Calculated the number of times each subject has appeared as a match: 426\n",
      "[06.07.2023 10:40:07 | Faiss hypex | INFO]: Calculated the number of times each subject has appeared as a match: 5007\n",
      "[06.07.2023 10:40:07 | Faiss hypex | INFO]: Estimating quality of matching\n",
      "[06.07.2023 10:40:07 | metrics | INFO]: Standardised mean difference: age           0.002655\n",
      "is_male       0.000000\n",
      "pre_spends    0.002071\n",
      "dtype: float64\n",
      "[06.07.2023 10:40:07 | metrics | INFO]: Standardised mean difference: age           0.002825\n",
      "is_male       0.000000\n",
      "pre_spends    0.001863\n",
      "dtype: float64\n",
      "[06.07.2023 10:40:07 | metrics | INFO]: Kolmogorov-Smirnov test to check matching quality: \n",
      "{'age': 0.9999999957935777, 'is_male': 1.0, 'pre_spends': 0.9999999999981869}\n",
      "[06.07.2023 10:40:07 | metrics | INFO]: Kolmogorov-Smirnov test to check matching quality: \n",
      "{'age': 0.13607122633435426, 'is_male': 1.0, 'pre_spends': 0.07583800923741527}\n",
      "[06.07.2023 10:40:07 | psi_pandas | INFO]: Creating report\n",
      "[06.07.2023 10:40:07 | psi_pandas | INFO]: PSI value:  0.002\n",
      "[06.07.2023 10:40:07 | psi_pandas | INFO]: PSI value:  0.000\n",
      "[06.07.2023 10:40:07 | psi_pandas | INFO]: PSI value:  0.000\n",
      "[06.07.2023 10:40:07 | psi_pandas | INFO]: PSI value:  16.111\n",
      "[06.07.2023 10:40:07 | psi_pandas | INFO]: PSI value:  0.004\n",
      "[06.07.2023 10:40:07 | psi_pandas | INFO]: Creating report\n",
      "[06.07.2023 10:40:07 | psi_pandas | INFO]: PSI value:  0.015\n",
      "[06.07.2023 10:40:07 | psi_pandas | INFO]: PSI value:  0.000\n",
      "[06.07.2023 10:40:07 | psi_pandas | INFO]: PSI value:  0.000\n",
      "[06.07.2023 10:40:07 | psi_pandas | INFO]: PSI value:  8.271\n",
      "[06.07.2023 10:40:07 | psi_pandas | INFO]: PSI value:  0.017\n",
      "[06.07.2023 10:40:07 | metrics | INFO]: Fraction of duplicated indexes:  0.94\n",
      "[06.07.2023 10:40:07 | metrics | INFO]: Fraction of duplicated indexes:  0.08\n",
      "[06.07.2023 10:40:07 | Faiss hypex | INFO]: PSI info: \n",
      "         column_treated  anomaly_score_treated check_result_treated  \\\n",
      "0          age_treated                   0.00                   OK   \n",
      "1     industry_treated                   0.00                   OK   \n",
      "2      is_male_treated                   0.00                   OK   \n",
      "3  post_spends_treated                  16.11                  NOK   \n",
      "4   pre_spends_treated                   0.00                   OK   \n",
      "\n",
      "        column_untreated  anomaly_score_untreated check_result_untreated  \n",
      "0          age_untreated                     0.02                     OK  \n",
      "1     industry_untreated                     0.00                     OK  \n",
      "2      is_male_untreated                     0.00                     OK  \n",
      "3  post_spends_untreated                     8.27                    NOK  \n",
      "4   pre_spends_untreated                     0.02                     OK   \n",
      "shape:(5, 6)\n",
      "[06.07.2023 10:40:07 | Faiss hypex | INFO]: Kolmogorov-Smirnov test info: \n",
      "             match_control_to_treat  match_treat_to_control\n",
      "age                            1.0                0.136071\n",
      "is_male                        1.0                1.000000\n",
      "pre_spends                     1.0                0.075838 \n",
      "shape:(3, 2)\n",
      "[06.07.2023 10:40:07 | Faiss hypex | INFO]: Standardised mean difference info: \n",
      "             match_control_to_treat  match_treat_to_control\n",
      "age                       0.002655                0.002825\n",
      "is_male                   0.000000                0.000000\n",
      "pre_spends                0.002071                0.001863 \n",
      "shape:(3, 2)\n",
      "[06.07.2023 10:40:07 | Faiss hypex | INFO]: Repeats info: \n",
      "                         value\n",
      "match_control_to_treat   0.94\n",
      "match_treat_to_control   0.08\n"
     ]
    }
   ],
   "source": [
    "model = Matcher(input_data=df_i_signupmonth, outcome=outcome, treatment=treatment, \n",
    "                info_col=info_col, group_col=group_col)\n",
    "results, quality_results = model.estimate()"
   ]
  },
  {
   "cell_type": "markdown",
   "metadata": {},
   "source": [
    "### 2.3 Matching but you don't know which features are better to use  \n",
    "This is the easiest way to initialize and calculate metrics on a Matching task  \n",
    "Use this method when you want to select the most important features and make matching based on them. "
   ]
  },
  {
   "cell_type": "code",
   "execution_count": 41,
   "metadata": {},
   "outputs": [
    {
     "ename": "TypeError",
     "evalue": "__init__() got an unexpected keyword argument 'df'",
     "output_type": "error",
     "traceback": [
      "\u001B[0;31m---------------------------------------------------------------------------\u001B[0m",
      "\u001B[0;31mTypeError\u001B[0m                                 Traceback (most recent call last)",
      "Cell \u001B[0;32mIn[41], line 1\u001B[0m\n\u001B[0;32m----> 1\u001B[0m model \u001B[38;5;241m=\u001B[39m \u001B[43mMatcher\u001B[49m\u001B[43m(\u001B[49m\u001B[43mdf\u001B[49m\u001B[38;5;241;43m=\u001B[39;49m\u001B[43mdf_i_signupmonth\u001B[49m\u001B[43m,\u001B[49m\u001B[43m \u001B[49m\u001B[43moutcome\u001B[49m\u001B[38;5;241;43m=\u001B[39;49m\u001B[43moutcome\u001B[49m\u001B[43m,\u001B[49m\u001B[43m \u001B[49m\u001B[43mtreatment\u001B[49m\u001B[38;5;241;43m=\u001B[39;49m\u001B[43mtreatment\u001B[49m\u001B[43m,\u001B[49m\u001B[43m \u001B[49m\n\u001B[1;32m      2\u001B[0m \u001B[43m                \u001B[49m\u001B[43minfo_col\u001B[49m\u001B[38;5;241;43m=\u001B[39;49m\u001B[43minfo_col\u001B[49m\u001B[43m,\u001B[49m\u001B[43m \u001B[49m\u001B[43mgroup_col\u001B[49m\u001B[38;5;241;43m=\u001B[39;49m\u001B[43mgroup_col\u001B[49m\u001B[43m)\u001B[49m\n",
      "\u001B[0;31mTypeError\u001B[0m: __init__() got an unexpected keyword argument 'df'"
     ]
    }
   ],
   "source": [
    "model = Matcher(df=df_i_signupmonth, outcome=outcome, treatment=treatment, \n",
    "                info_col=info_col, group_col=group_col)"
   ]
  },
  {
   "cell_type": "code",
   "execution_count": 14,
   "metadata": {
    "scrolled": true
   },
   "outputs": [
    {
     "name": "stderr",
     "output_type": "stream",
     "text": [
      "[20.06.2023 17:10:35 | digitaltwins | INFO]: Counting feature importance\n",
      "[20.06.2023 17:10:35 | lama_feature_selector | INFO]: Getting feature scores\n"
     ]
    },
    {
     "data": {
      "text/plain": "      Feature    Importance\n0  pre_spends  80056.839844\n3    industry  80056.839844\n1         age  59525.629639\n2     is_male   7849.370117",
      "text/html": "<div>\n<style scoped>\n    .dataframe tbody tr th:only-of-type {\n        vertical-align: middle;\n    }\n\n    .dataframe tbody tr th {\n        vertical-align: top;\n    }\n\n    .dataframe thead th {\n        text-align: right;\n    }\n</style>\n<table border=\"1\" class=\"dataframe\">\n  <thead>\n    <tr style=\"text-align: right;\">\n      <th></th>\n      <th>Feature</th>\n      <th>Importance</th>\n    </tr>\n  </thead>\n  <tbody>\n    <tr>\n      <th>0</th>\n      <td>pre_spends</td>\n      <td>80056.839844</td>\n    </tr>\n    <tr>\n      <th>3</th>\n      <td>industry</td>\n      <td>80056.839844</td>\n    </tr>\n    <tr>\n      <th>1</th>\n      <td>age</td>\n      <td>59525.629639</td>\n    </tr>\n    <tr>\n      <th>2</th>\n      <td>is_male</td>\n      <td>7849.370117</td>\n    </tr>\n  </tbody>\n</table>\n</div>"
     },
     "execution_count": 14,
     "metadata": {},
     "output_type": "execute_result"
    }
   ],
   "source": [
    "features_importance = model.lama_feature_select()\n",
    "features_importance"
   ]
  },
  {
   "cell_type": "code",
   "execution_count": 15,
   "metadata": {},
   "outputs": [],
   "source": [
    "features = features_importance['Feature'].to_list()"
   ]
  },
  {
   "cell_type": "code",
   "execution_count": 16,
   "metadata": {},
   "outputs": [
    {
     "name": "stderr",
     "output_type": "stream",
     "text": [
      "[20.06.2023 17:10:40 | digitaltwins | INFO]: Applying matching\n"
     ]
    },
    {
     "name": "stdout",
     "output_type": "stream",
     "text": [
      "Index(['pre_spends', 'age', 'treat', 'post_spends'], dtype='object')\n",
      "Finding index\n",
      "Done\n",
      "Finding index\n",
      "Done\n",
      "Index(['pre_spends', 'age', 'treat', 'post_spends'], dtype='object')\n",
      "Finding index\n",
      "Done\n",
      "Finding index\n",
      "Done\n"
     ]
    },
    {
     "name": "stderr",
     "output_type": "stream",
     "text": [
      "[20.06.2023 17:10:41 | Faiss digitaltwins | INFO]: Calculated the number of times each subject has appeared as a match: 431\n",
      "[20.06.2023 17:10:41 | Faiss digitaltwins | INFO]: Calculated the number of times each subject has appeared as a match: 5027\n",
      "[20.06.2023 17:10:41 | Faiss digitaltwins | INFO]: Estimating quality of matching\n",
      "[20.06.2023 17:10:41 | metrics | INFO]: Standardised mean difference: age           0.130605\n",
      "is_male       0.105538\n",
      "pre_spends    0.009410\n",
      "dtype: float64\n",
      "[20.06.2023 17:10:41 | metrics | INFO]: Standardised mean difference: age           0.077848\n",
      "is_male       0.138916\n",
      "pre_spends    0.060355\n",
      "dtype: float64\n",
      "[20.06.2023 17:10:41 | metrics | INFO]: Kolmogorov-Smirnov test to check matching quality: \n",
      "{'age': 0.04879199135327575, 'is_male': 0.007572879602437536, 'pre_spends': 0.7428867321956416}\n",
      "[20.06.2023 17:10:41 | metrics | INFO]: Kolmogorov-Smirnov test to check matching quality: \n",
      "{'age': 7.716220057578571e-05, 'is_male': 1.8684872307385456e-12, 'pre_spends': 1.432399140582129e-05}\n",
      "[20.06.2023 17:10:41 | psi_pandas | INFO]: Creating report\n",
      "[20.06.2023 17:10:41 | psi_pandas | INFO]: PSI value:  0.068\n",
      "[20.06.2023 17:10:41 | psi_pandas | INFO]: PSI value:  0.003\n",
      "[20.06.2023 17:10:41 | psi_pandas | INFO]: PSI value:  16.111\n",
      "[20.06.2023 17:10:41 | psi_pandas | INFO]: PSI value:  0.060\n",
      "[20.06.2023 17:10:41 | psi_pandas | INFO]: Creating report\n",
      "[20.06.2023 17:10:41 | psi_pandas | INFO]: PSI value:  0.027\n",
      "[20.06.2023 17:10:41 | psi_pandas | INFO]: PSI value:  0.000\n",
      "[20.06.2023 17:10:41 | psi_pandas | INFO]: PSI value:  8.279\n",
      "[20.06.2023 17:10:41 | psi_pandas | INFO]: PSI value:  0.015\n",
      "[20.06.2023 17:10:41 | metrics | INFO]: Fraction of duplicated indexes:  0.94\n",
      "[20.06.2023 17:10:41 | metrics | INFO]: Fraction of duplicated indexes:  0.08\n",
      "[20.06.2023 17:10:41 | Faiss digitaltwins | INFO]: PSI info: \n",
      "                 column  anomaly_score check_result                 column  \\\n",
      "0          age_treated           0.07           OK          age_untreated   \n",
      "1     industry_treated           0.00           OK     industry_untreated   \n",
      "2  post_spends_treated          16.11          NOK  post_spends_untreated   \n",
      "3   pre_spends_treated           0.06           OK   pre_spends_untreated   \n",
      "\n",
      "   anomaly_score check_result  \n",
      "0           0.03           OK  \n",
      "1           0.00           OK  \n",
      "2           8.28          NOK  \n",
      "3           0.02           OK   \n",
      "shape:(4, 6)\n",
      "[20.06.2023 17:10:41 | Faiss digitaltwins | INFO]: Kolmogorov-Smirnov test info: \n",
      "             match_control_to_treat  match_treat_to_control\n",
      "age                       0.048792            7.716220e-05\n",
      "is_male                   0.007573            1.868487e-12\n",
      "pre_spends                0.742887            1.432399e-05 \n",
      "shape:(3, 2)\n",
      "[20.06.2023 17:10:41 | Faiss digitaltwins | INFO]: Standardised mean difference info: \n",
      "             match_control_to_treat  match_treat_to_control\n",
      "age                       0.130605                0.077848\n",
      "is_male                   0.105538                0.138916\n",
      "pre_spends                0.009410                0.060355 \n",
      "shape:(3, 2)\n",
      "[20.06.2023 17:10:41 | Faiss digitaltwins | INFO]: Repeats info: \n",
      "                         value\n",
      "match_control_to_treat   0.94\n",
      "match_treat_to_control   0.08\n"
     ]
    }
   ],
   "source": [
    "# You can use both variant that you like. So you can just list the features to be matched\n",
    "\n",
    "#results, quality_results = model.estimate(features=features_importance[:3])\n",
    "results, quality_results = model.estimate(features=features[:3])"
   ]
  },
  {
   "cell_type": "code",
   "execution_count": 17,
   "metadata": {},
   "outputs": [
    {
     "data": {
      "text/plain": "      index  pre_spends  age  is_male industry  user_id  signup_month  \\\n0      1933       488.0   46        0        1     3578             3   \n1      3911       484.5   34        0        1     7221             3   \n2      1945       469.0   68        1        1     3611             3   \n3      1825       486.0   49        1        1     3369             3   \n4      1839       498.0   54        1        1     3394             3   \n...     ...         ...  ...      ...      ...      ...           ...   \n5022   2432       479.5   25        1        2     4516             0   \n5023   2433       504.5   65        0        2     4519             0   \n5024   2434       484.0   48        1        2     4520             0   \n5025   2291       473.5   51        0        2     4275             0   \n5026   5457       507.5   41        0        2     9999             0   \n\n      pre_spends_matched  age_matched  is_male_matched  user_id_matched  \\\n0                  461.0         69.0              0.0           5498.0   \n1                  478.5         63.0              0.0           7549.0   \n2                  474.0         69.0              0.0           4681.0   \n3                  474.5         20.0              0.0           6851.0   \n4                  498.0         18.0              0.0           3263.0   \n...                  ...          ...              ...              ...   \n5022               503.0         57.0              0.0           6863.0   \n5023               485.0         40.0              0.0             83.0   \n5024               514.5         43.0              0.0           7542.0   \n5025               479.0         50.0              0.0           4957.0   \n5026               472.0         22.0              0.0            401.0   \n\n      signup_month_matched industry_matched index_matched  post_spends  \\\n0                      0.0                2        [4747]   535.555556   \n1                      0.0                2        [3404]   510.000000   \n2                      0.0                1        [1309]   523.333333   \n3                      0.0                2        [2880]   532.000000   \n4                      0.0                1         [596]   513.555556   \n...                    ...              ...           ...          ...   \n5022                   0.0                1        [1586]   414.333333   \n5023                   0.0                1        [4273]   422.666667   \n5024                   3.0                1        [3427]   419.666667   \n5025                   0.0                1        [5337]   424.222222   \n5026                   0.0                2        [2113]   439.222222   \n\n      post_spends_matched  post_spends_matched_bias  treat  treat_matched  \n0              430.111111                105.757264      1              0  \n1              425.777778                 84.222222      1              0  \n2              417.444444                105.584555      1              0  \n3              409.666667                122.017686      1              0  \n4              418.222222                 95.330505      1              0  \n...                   ...                       ...    ...            ...  \n5022           520.333333                106.017303      0              1  \n5023           523.111111                100.521979      0              1  \n5024           529.000000                109.330536      0              1  \n5025           522.777778                 98.573964      0              1  \n5026           519.111111                 79.436567      0              1  \n\n[5458 rows x 19 columns]",
      "text/html": "<div>\n<style scoped>\n    .dataframe tbody tr th:only-of-type {\n        vertical-align: middle;\n    }\n\n    .dataframe tbody tr th {\n        vertical-align: top;\n    }\n\n    .dataframe thead th {\n        text-align: right;\n    }\n</style>\n<table border=\"1\" class=\"dataframe\">\n  <thead>\n    <tr style=\"text-align: right;\">\n      <th></th>\n      <th>index</th>\n      <th>pre_spends</th>\n      <th>age</th>\n      <th>is_male</th>\n      <th>industry</th>\n      <th>user_id</th>\n      <th>signup_month</th>\n      <th>pre_spends_matched</th>\n      <th>age_matched</th>\n      <th>is_male_matched</th>\n      <th>user_id_matched</th>\n      <th>signup_month_matched</th>\n      <th>industry_matched</th>\n      <th>index_matched</th>\n      <th>post_spends</th>\n      <th>post_spends_matched</th>\n      <th>post_spends_matched_bias</th>\n      <th>treat</th>\n      <th>treat_matched</th>\n    </tr>\n  </thead>\n  <tbody>\n    <tr>\n      <th>0</th>\n      <td>1933</td>\n      <td>488.0</td>\n      <td>46</td>\n      <td>0</td>\n      <td>1</td>\n      <td>3578</td>\n      <td>3</td>\n      <td>461.0</td>\n      <td>69.0</td>\n      <td>0.0</td>\n      <td>5498.0</td>\n      <td>0.0</td>\n      <td>2</td>\n      <td>[4747]</td>\n      <td>535.555556</td>\n      <td>430.111111</td>\n      <td>105.757264</td>\n      <td>1</td>\n      <td>0</td>\n    </tr>\n    <tr>\n      <th>1</th>\n      <td>3911</td>\n      <td>484.5</td>\n      <td>34</td>\n      <td>0</td>\n      <td>1</td>\n      <td>7221</td>\n      <td>3</td>\n      <td>478.5</td>\n      <td>63.0</td>\n      <td>0.0</td>\n      <td>7549.0</td>\n      <td>0.0</td>\n      <td>2</td>\n      <td>[3404]</td>\n      <td>510.000000</td>\n      <td>425.777778</td>\n      <td>84.222222</td>\n      <td>1</td>\n      <td>0</td>\n    </tr>\n    <tr>\n      <th>2</th>\n      <td>1945</td>\n      <td>469.0</td>\n      <td>68</td>\n      <td>1</td>\n      <td>1</td>\n      <td>3611</td>\n      <td>3</td>\n      <td>474.0</td>\n      <td>69.0</td>\n      <td>0.0</td>\n      <td>4681.0</td>\n      <td>0.0</td>\n      <td>1</td>\n      <td>[1309]</td>\n      <td>523.333333</td>\n      <td>417.444444</td>\n      <td>105.584555</td>\n      <td>1</td>\n      <td>0</td>\n    </tr>\n    <tr>\n      <th>3</th>\n      <td>1825</td>\n      <td>486.0</td>\n      <td>49</td>\n      <td>1</td>\n      <td>1</td>\n      <td>3369</td>\n      <td>3</td>\n      <td>474.5</td>\n      <td>20.0</td>\n      <td>0.0</td>\n      <td>6851.0</td>\n      <td>0.0</td>\n      <td>2</td>\n      <td>[2880]</td>\n      <td>532.000000</td>\n      <td>409.666667</td>\n      <td>122.017686</td>\n      <td>1</td>\n      <td>0</td>\n    </tr>\n    <tr>\n      <th>4</th>\n      <td>1839</td>\n      <td>498.0</td>\n      <td>54</td>\n      <td>1</td>\n      <td>1</td>\n      <td>3394</td>\n      <td>3</td>\n      <td>498.0</td>\n      <td>18.0</td>\n      <td>0.0</td>\n      <td>3263.0</td>\n      <td>0.0</td>\n      <td>1</td>\n      <td>[596]</td>\n      <td>513.555556</td>\n      <td>418.222222</td>\n      <td>95.330505</td>\n      <td>1</td>\n      <td>0</td>\n    </tr>\n    <tr>\n      <th>...</th>\n      <td>...</td>\n      <td>...</td>\n      <td>...</td>\n      <td>...</td>\n      <td>...</td>\n      <td>...</td>\n      <td>...</td>\n      <td>...</td>\n      <td>...</td>\n      <td>...</td>\n      <td>...</td>\n      <td>...</td>\n      <td>...</td>\n      <td>...</td>\n      <td>...</td>\n      <td>...</td>\n      <td>...</td>\n      <td>...</td>\n      <td>...</td>\n    </tr>\n    <tr>\n      <th>5022</th>\n      <td>2432</td>\n      <td>479.5</td>\n      <td>25</td>\n      <td>1</td>\n      <td>2</td>\n      <td>4516</td>\n      <td>0</td>\n      <td>503.0</td>\n      <td>57.0</td>\n      <td>0.0</td>\n      <td>6863.0</td>\n      <td>0.0</td>\n      <td>1</td>\n      <td>[1586]</td>\n      <td>414.333333</td>\n      <td>520.333333</td>\n      <td>106.017303</td>\n      <td>0</td>\n      <td>1</td>\n    </tr>\n    <tr>\n      <th>5023</th>\n      <td>2433</td>\n      <td>504.5</td>\n      <td>65</td>\n      <td>0</td>\n      <td>2</td>\n      <td>4519</td>\n      <td>0</td>\n      <td>485.0</td>\n      <td>40.0</td>\n      <td>0.0</td>\n      <td>83.0</td>\n      <td>0.0</td>\n      <td>1</td>\n      <td>[4273]</td>\n      <td>422.666667</td>\n      <td>523.111111</td>\n      <td>100.521979</td>\n      <td>0</td>\n      <td>1</td>\n    </tr>\n    <tr>\n      <th>5024</th>\n      <td>2434</td>\n      <td>484.0</td>\n      <td>48</td>\n      <td>1</td>\n      <td>2</td>\n      <td>4520</td>\n      <td>0</td>\n      <td>514.5</td>\n      <td>43.0</td>\n      <td>0.0</td>\n      <td>7542.0</td>\n      <td>3.0</td>\n      <td>1</td>\n      <td>[3427]</td>\n      <td>419.666667</td>\n      <td>529.000000</td>\n      <td>109.330536</td>\n      <td>0</td>\n      <td>1</td>\n    </tr>\n    <tr>\n      <th>5025</th>\n      <td>2291</td>\n      <td>473.5</td>\n      <td>51</td>\n      <td>0</td>\n      <td>2</td>\n      <td>4275</td>\n      <td>0</td>\n      <td>479.0</td>\n      <td>50.0</td>\n      <td>0.0</td>\n      <td>4957.0</td>\n      <td>0.0</td>\n      <td>1</td>\n      <td>[5337]</td>\n      <td>424.222222</td>\n      <td>522.777778</td>\n      <td>98.573964</td>\n      <td>0</td>\n      <td>1</td>\n    </tr>\n    <tr>\n      <th>5026</th>\n      <td>5457</td>\n      <td>507.5</td>\n      <td>41</td>\n      <td>0</td>\n      <td>2</td>\n      <td>9999</td>\n      <td>0</td>\n      <td>472.0</td>\n      <td>22.0</td>\n      <td>0.0</td>\n      <td>401.0</td>\n      <td>0.0</td>\n      <td>2</td>\n      <td>[2113]</td>\n      <td>439.222222</td>\n      <td>519.111111</td>\n      <td>79.436567</td>\n      <td>0</td>\n      <td>1</td>\n    </tr>\n  </tbody>\n</table>\n<p>5458 rows × 19 columns</p>\n</div>"
     },
     "execution_count": 17,
     "metadata": {},
     "output_type": "execute_result"
    }
   ],
   "source": [
    "model.matcher.df_matched"
   ]
  },
  {
   "cell_type": "markdown",
   "metadata": {},
   "source": [
    "## 3. Results  \n",
    "### 3.1 ATE, ATT, ATC"
   ]
  },
  {
   "cell_type": "code",
   "execution_count": 18,
   "metadata": {},
   "outputs": [
    {
     "data": {
      "text/plain": "     effect_size   std_err  p-val   ci_lower    ci_upper\nATE   100.408545  0.586454    0.0  99.259094  101.557995\nATC   100.388934  0.596572    0.0  99.219652  101.558216\nATT   100.637278  0.708387    0.0  99.248840  102.025717",
      "text/html": "<div>\n<style scoped>\n    .dataframe tbody tr th:only-of-type {\n        vertical-align: middle;\n    }\n\n    .dataframe tbody tr th {\n        vertical-align: top;\n    }\n\n    .dataframe thead th {\n        text-align: right;\n    }\n</style>\n<table border=\"1\" class=\"dataframe\">\n  <thead>\n    <tr style=\"text-align: right;\">\n      <th></th>\n      <th>effect_size</th>\n      <th>std_err</th>\n      <th>p-val</th>\n      <th>ci_lower</th>\n      <th>ci_upper</th>\n    </tr>\n  </thead>\n  <tbody>\n    <tr>\n      <th>ATE</th>\n      <td>100.408545</td>\n      <td>0.586454</td>\n      <td>0.0</td>\n      <td>99.259094</td>\n      <td>101.557995</td>\n    </tr>\n    <tr>\n      <th>ATC</th>\n      <td>100.388934</td>\n      <td>0.596572</td>\n      <td>0.0</td>\n      <td>99.219652</td>\n      <td>101.558216</td>\n    </tr>\n    <tr>\n      <th>ATT</th>\n      <td>100.637278</td>\n      <td>0.708387</td>\n      <td>0.0</td>\n      <td>99.248840</td>\n      <td>102.025717</td>\n    </tr>\n  </tbody>\n</table>\n</div>"
     },
     "execution_count": 18,
     "metadata": {},
     "output_type": "execute_result"
    }
   ],
   "source": [
    "# model.matcher.results\n",
    "results"
   ]
  },
  {
   "cell_type": "markdown",
   "metadata": {},
   "source": [
    "### 3.2 SMD, PSI, KS-test, repeats"
   ]
  },
  {
   "cell_type": "code",
   "execution_count": 19,
   "metadata": {},
   "outputs": [
    {
     "data": {
      "text/plain": "{'psi':                 column  anomaly_score check_result                 column  \\\n 0          age_treated           0.07           OK          age_untreated   \n 1     industry_treated           0.00           OK     industry_untreated   \n 2  post_spends_treated          16.11          NOK  post_spends_untreated   \n 3   pre_spends_treated           0.06           OK   pre_spends_untreated   \n \n    anomaly_score check_result  \n 0           0.03           OK  \n 1           0.00           OK  \n 2           8.28          NOK  \n 3           0.02           OK  ,\n 'ks_test':             match_control_to_treat  match_treat_to_control\n age                       0.048792            7.716220e-05\n is_male                   0.007573            1.868487e-12\n pre_spends                0.742887            1.432399e-05,\n 'smd':             match_control_to_treat  match_treat_to_control\n age                       0.130605                0.077848\n is_male                   0.105538                0.138916\n pre_spends                0.009410                0.060355,\n 'repeats': {'match_control_to_treat': 0.94, 'match_treat_to_control': 0.08}}"
     },
     "execution_count": 19,
     "metadata": {},
     "output_type": "execute_result"
    }
   ],
   "source": [
    "# matching quality result - SMD\n",
    "model.quality_result"
   ]
  },
  {
   "cell_type": "code",
   "execution_count": 20,
   "metadata": {},
   "outputs": [
    {
     "data": {
      "text/plain": "                column  anomaly_score check_result                 column  \\\n0          age_treated           0.07           OK          age_untreated   \n1     industry_treated           0.00           OK     industry_untreated   \n2  post_spends_treated          16.11          NOK  post_spends_untreated   \n3   pre_spends_treated           0.06           OK   pre_spends_untreated   \n\n   anomaly_score check_result  \n0           0.03           OK  \n1           0.00           OK  \n2           8.28          NOK  \n3           0.02           OK  ",
      "text/html": "<div>\n<style scoped>\n    .dataframe tbody tr th:only-of-type {\n        vertical-align: middle;\n    }\n\n    .dataframe tbody tr th {\n        vertical-align: top;\n    }\n\n    .dataframe thead th {\n        text-align: right;\n    }\n</style>\n<table border=\"1\" class=\"dataframe\">\n  <thead>\n    <tr style=\"text-align: right;\">\n      <th></th>\n      <th>column</th>\n      <th>anomaly_score</th>\n      <th>check_result</th>\n      <th>column</th>\n      <th>anomaly_score</th>\n      <th>check_result</th>\n    </tr>\n  </thead>\n  <tbody>\n    <tr>\n      <th>0</th>\n      <td>age_treated</td>\n      <td>0.07</td>\n      <td>OK</td>\n      <td>age_untreated</td>\n      <td>0.03</td>\n      <td>OK</td>\n    </tr>\n    <tr>\n      <th>1</th>\n      <td>industry_treated</td>\n      <td>0.00</td>\n      <td>OK</td>\n      <td>industry_untreated</td>\n      <td>0.00</td>\n      <td>OK</td>\n    </tr>\n    <tr>\n      <th>2</th>\n      <td>post_spends_treated</td>\n      <td>16.11</td>\n      <td>NOK</td>\n      <td>post_spends_untreated</td>\n      <td>8.28</td>\n      <td>NOK</td>\n    </tr>\n    <tr>\n      <th>3</th>\n      <td>pre_spends_treated</td>\n      <td>0.06</td>\n      <td>OK</td>\n      <td>pre_spends_untreated</td>\n      <td>0.02</td>\n      <td>OK</td>\n    </tr>\n  </tbody>\n</table>\n</div>"
     },
     "execution_count": 20,
     "metadata": {},
     "output_type": "execute_result"
    }
   ],
   "source": [
    "# matching quality result - PSI\n",
    "model.quality_result['psi']"
   ]
  },
  {
   "cell_type": "code",
   "execution_count": 21,
   "metadata": {},
   "outputs": [
    {
     "data": {
      "text/plain": "            match_control_to_treat  match_treat_to_control\nage                       0.048792            7.716220e-05\nis_male                   0.007573            1.868487e-12\npre_spends                0.742887            1.432399e-05",
      "text/html": "<div>\n<style scoped>\n    .dataframe tbody tr th:only-of-type {\n        vertical-align: middle;\n    }\n\n    .dataframe tbody tr th {\n        vertical-align: top;\n    }\n\n    .dataframe thead th {\n        text-align: right;\n    }\n</style>\n<table border=\"1\" class=\"dataframe\">\n  <thead>\n    <tr style=\"text-align: right;\">\n      <th></th>\n      <th>match_control_to_treat</th>\n      <th>match_treat_to_control</th>\n    </tr>\n  </thead>\n  <tbody>\n    <tr>\n      <th>age</th>\n      <td>0.048792</td>\n      <td>7.716220e-05</td>\n    </tr>\n    <tr>\n      <th>is_male</th>\n      <td>0.007573</td>\n      <td>1.868487e-12</td>\n    </tr>\n    <tr>\n      <th>pre_spends</th>\n      <td>0.742887</td>\n      <td>1.432399e-05</td>\n    </tr>\n  </tbody>\n</table>\n</div>"
     },
     "execution_count": 21,
     "metadata": {},
     "output_type": "execute_result"
    }
   ],
   "source": [
    "# matching quality result - KS-test\n",
    "\n",
    "model.quality_result['ks_test']"
   ]
  },
  {
   "cell_type": "code",
   "execution_count": 22,
   "metadata": {},
   "outputs": [
    {
     "data": {
      "text/plain": "{'match_control_to_treat': 0.94, 'match_treat_to_control': 0.08}"
     },
     "execution_count": 22,
     "metadata": {},
     "output_type": "execute_result"
    }
   ],
   "source": [
    "# matching quality result - repeats\n",
    "model.quality_result['repeats']"
   ]
  },
  {
   "cell_type": "markdown",
   "metadata": {},
   "source": [
    "### 3.3 Validation\n",
    "validate result with placebo treatment  \n",
    "our new effect size is close to zero (it should be)"
   ]
  },
  {
   "cell_type": "code",
   "execution_count": 23,
   "metadata": {},
   "outputs": [
    {
     "name": "stderr",
     "output_type": "stream",
     "text": [
      "[20.06.2023 17:10:41 | digitaltwins | INFO]: Applying validation of result\n"
     ]
    },
    {
     "name": "stdout",
     "output_type": "stream",
     "text": [
      "Index(['pre_spends', 'age', 'random_feature', 'treat', 'post_spends'], dtype='object')\n",
      "Finding index\n",
      "Done\n",
      "Finding index\n",
      "Done\n",
      "Index(['pre_spends', 'age', 'random_feature', 'treat', 'post_spends'], dtype='object')\n",
      "Finding index\n",
      "Done\n",
      "Finding index\n",
      "Done\n"
     ]
    },
    {
     "name": "stderr",
     "output_type": "stream",
     "text": [
      "[20.06.2023 17:10:41 | Faiss digitaltwins | INFO]: Calculated the number of times each subject has appeared as a match: 431\n",
      "[20.06.2023 17:10:41 | Faiss digitaltwins | INFO]: Calculated the number of times each subject has appeared as a match: 5027\n"
     ]
    },
    {
     "name": "stdout",
     "output_type": "stream",
     "text": [
      "Index(['pre_spends', 'age', 'random_feature', 'treat', 'post_spends'], dtype='object')\n",
      "Finding index\n",
      "Done\n",
      "Finding index\n",
      "Done\n",
      "Index(['pre_spends', 'age', 'random_feature', 'treat', 'post_spends'], dtype='object')\n",
      "Finding index\n",
      "Done\n",
      "Finding index\n",
      "Done\n"
     ]
    },
    {
     "name": "stderr",
     "output_type": "stream",
     "text": [
      "[20.06.2023 17:10:41 | Faiss digitaltwins | INFO]: Calculated the number of times each subject has appeared as a match: 431\n",
      "[20.06.2023 17:10:41 | Faiss digitaltwins | INFO]: Calculated the number of times each subject has appeared as a match: 5027\n"
     ]
    },
    {
     "name": "stdout",
     "output_type": "stream",
     "text": [
      "Index(['pre_spends', 'age', 'random_feature', 'treat', 'post_spends'], dtype='object')\n",
      "Finding index\n",
      "Done\n",
      "Finding index\n",
      "Done\n",
      "Index(['pre_spends', 'age', 'random_feature', 'treat', 'post_spends'], dtype='object')\n",
      "Finding index\n",
      "Done\n",
      "Finding index\n",
      "Done\n"
     ]
    },
    {
     "name": "stderr",
     "output_type": "stream",
     "text": [
      "[20.06.2023 17:10:42 | Faiss digitaltwins | INFO]: Calculated the number of times each subject has appeared as a match: 431\n",
      "[20.06.2023 17:10:42 | Faiss digitaltwins | INFO]: Calculated the number of times each subject has appeared as a match: 5027\n"
     ]
    },
    {
     "name": "stdout",
     "output_type": "stream",
     "text": [
      "Index(['pre_spends', 'age', 'random_feature', 'treat', 'post_spends'], dtype='object')\n",
      "Finding index\n",
      "Done\n",
      "Finding index\n",
      "Done\n",
      "Index(['pre_spends', 'age', 'random_feature', 'treat', 'post_spends'], dtype='object')\n",
      "Finding index\n",
      "Done\n",
      "Finding index\n",
      "Done\n"
     ]
    },
    {
     "name": "stderr",
     "output_type": "stream",
     "text": [
      "[20.06.2023 17:10:42 | Faiss digitaltwins | INFO]: Calculated the number of times each subject has appeared as a match: 431\n",
      "[20.06.2023 17:10:42 | Faiss digitaltwins | INFO]: Calculated the number of times each subject has appeared as a match: 5027\n"
     ]
    },
    {
     "name": "stdout",
     "output_type": "stream",
     "text": [
      "Index(['pre_spends', 'age', 'random_feature', 'treat', 'post_spends'], dtype='object')\n",
      "Finding index\n",
      "Done\n",
      "Finding index\n",
      "Done\n",
      "Index(['pre_spends', 'age', 'random_feature', 'treat', 'post_spends'], dtype='object')\n",
      "Finding index\n",
      "Done\n",
      "Finding index\n",
      "Done\n"
     ]
    },
    {
     "name": "stderr",
     "output_type": "stream",
     "text": [
      "[20.06.2023 17:10:43 | Faiss digitaltwins | INFO]: Calculated the number of times each subject has appeared as a match: 431\n",
      "[20.06.2023 17:10:43 | Faiss digitaltwins | INFO]: Calculated the number of times each subject has appeared as a match: 5027\n"
     ]
    },
    {
     "name": "stdout",
     "output_type": "stream",
     "text": [
      "Index(['pre_spends', 'age', 'random_feature', 'treat', 'post_spends'], dtype='object')\n",
      "Finding index\n",
      "Done\n",
      "Finding index\n",
      "Done\n",
      "Index(['pre_spends', 'age', 'random_feature', 'treat', 'post_spends'], dtype='object')\n",
      "Finding index\n",
      "Done\n",
      "Finding index\n",
      "Done\n"
     ]
    },
    {
     "name": "stderr",
     "output_type": "stream",
     "text": [
      "[20.06.2023 17:10:43 | Faiss digitaltwins | INFO]: Calculated the number of times each subject has appeared as a match: 431\n",
      "[20.06.2023 17:10:43 | Faiss digitaltwins | INFO]: Calculated the number of times each subject has appeared as a match: 5027\n"
     ]
    },
    {
     "name": "stdout",
     "output_type": "stream",
     "text": [
      "Index(['pre_spends', 'age', 'random_feature', 'treat', 'post_spends'], dtype='object')\n",
      "Finding index\n",
      "Done\n",
      "Finding index\n",
      "Done\n",
      "Index(['pre_spends', 'age', 'random_feature', 'treat', 'post_spends'], dtype='object')\n",
      "Finding index\n",
      "Done\n",
      "Finding index\n",
      "Done\n"
     ]
    },
    {
     "name": "stderr",
     "output_type": "stream",
     "text": [
      "[20.06.2023 17:10:43 | Faiss digitaltwins | INFO]: Calculated the number of times each subject has appeared as a match: 431\n",
      "[20.06.2023 17:10:43 | Faiss digitaltwins | INFO]: Calculated the number of times each subject has appeared as a match: 5027\n"
     ]
    },
    {
     "name": "stdout",
     "output_type": "stream",
     "text": [
      "Index(['pre_spends', 'age', 'random_feature', 'treat', 'post_spends'], dtype='object')\n",
      "Finding index\n",
      "Done\n",
      "Finding index\n",
      "Done\n",
      "Index(['pre_spends', 'age', 'random_feature', 'treat', 'post_spends'], dtype='object')\n",
      "Finding index\n",
      "Done\n",
      "Finding index\n",
      "Done\n"
     ]
    },
    {
     "name": "stderr",
     "output_type": "stream",
     "text": [
      "[20.06.2023 17:10:44 | Faiss digitaltwins | INFO]: Calculated the number of times each subject has appeared as a match: 431\n",
      "[20.06.2023 17:10:44 | Faiss digitaltwins | INFO]: Calculated the number of times each subject has appeared as a match: 5027\n"
     ]
    },
    {
     "name": "stdout",
     "output_type": "stream",
     "text": [
      "Index(['pre_spends', 'age', 'random_feature', 'treat', 'post_spends'], dtype='object')\n",
      "Finding index\n",
      "Done\n",
      "Finding index\n",
      "Done\n",
      "Index(['pre_spends', 'age', 'random_feature', 'treat', 'post_spends'], dtype='object')\n",
      "Finding index\n",
      "Done\n",
      "Finding index\n",
      "Done\n"
     ]
    },
    {
     "name": "stderr",
     "output_type": "stream",
     "text": [
      "[20.06.2023 17:10:44 | Faiss digitaltwins | INFO]: Calculated the number of times each subject has appeared as a match: 431\n",
      "[20.06.2023 17:10:44 | Faiss digitaltwins | INFO]: Calculated the number of times each subject has appeared as a match: 5027\n"
     ]
    },
    {
     "name": "stdout",
     "output_type": "stream",
     "text": [
      "Index(['pre_spends', 'age', 'random_feature', 'treat', 'post_spends'], dtype='object')\n",
      "Finding index\n",
      "Done\n",
      "Finding index\n",
      "Done\n",
      "Index(['pre_spends', 'age', 'random_feature', 'treat', 'post_spends'], dtype='object')\n",
      "Finding index\n",
      "Done\n",
      "Finding index\n",
      "Done\n"
     ]
    },
    {
     "name": "stderr",
     "output_type": "stream",
     "text": [
      "[20.06.2023 17:10:44 | Faiss digitaltwins | INFO]: Calculated the number of times each subject has appeared as a match: 431\n",
      "[20.06.2023 17:10:44 | Faiss digitaltwins | INFO]: Calculated the number of times each subject has appeared as a match: 5027\n"
     ]
    },
    {
     "name": "stdout",
     "output_type": "stream",
     "text": [
      "<class 'list'>\n"
     ]
    },
    {
     "data": {
      "text/plain": "{'post_spends': [100.49348390369565, 0.29243691737365707]}"
     },
     "execution_count": 23,
     "metadata": {},
     "output_type": "execute_result"
    }
   ],
   "source": [
    " \n",
    "model.validate_result()\n",
    " "
   ]
  },
  {
   "cell_type": "code",
   "execution_count": 23,
   "metadata": {},
   "outputs": [],
   "source": []
  },
  {
   "cell_type": "code",
   "execution_count": 24,
   "metadata": {},
   "outputs": [
    {
     "data": {
      "text/plain": "      index  pre_spends  age  is_male industry  user_id  signup_month  \\\n0      1933       488.0   46        0        1     3578             3   \n1      3911       484.5   34        0        1     7221             3   \n2      1945       469.0   68        1        1     3611             3   \n3      1825       486.0   49        1        1     3369             3   \n4      1839       498.0   54        1        1     3394             3   \n...     ...         ...  ...      ...      ...      ...           ...   \n5022   2432       479.5   25        1        2     4516             0   \n5023   2433       504.5   65        0        2     4519             0   \n5024   2434       484.0   48        1        2     4520             0   \n5025   2291       473.5   51        0        2     4275             0   \n5026   5457       507.5   41        0        2     9999             0   \n\n      random_feature  pre_spends_matched  age_matched  ...  user_id_matched  \\\n0           0.831283               486.5         27.0  ...           6245.0   \n1           0.280152               481.0         33.0  ...           9520.0   \n2           0.521268               474.5         69.0  ...           5694.0   \n3           1.394904               493.5         22.0  ...           7007.0   \n4          -0.862996               482.0         44.0  ...           7012.0   \n...              ...                 ...          ...  ...              ...   \n5022       -0.093153               489.0         32.0  ...            487.0   \n5023       -1.189707               477.0         25.0  ...           3905.0   \n5024       -2.577513               507.0         51.0  ...           8530.0   \n5025       -0.817607               461.5         44.0  ...           6124.0   \n5026        0.137662               472.0         22.0  ...            401.0   \n\n      signup_month_matched  random_feature_matched  industry_matched  \\\n0                      0.0               -0.853119                 2   \n1                      0.0               -0.375390                 2   \n2                      0.0                0.149171                 1   \n3                      0.0               -0.379945                 2   \n4                      0.0               -0.339060                 1   \n...                    ...                     ...               ...   \n5022                   0.0                1.245220                 1   \n5023                   0.0                0.316262                 1   \n5024                   0.0                0.487054                 1   \n5025                   0.0               -1.190293                 1   \n5026                   0.0                1.336768                 2   \n\n     index_matched post_spends  post_spends_matched  post_spends_matched_bias  \\\n0           [4978]  535.555556           424.333333                113.344309   \n1           [3220]  510.000000           416.111111                 93.931293   \n2           [4577]  523.333333           420.111111                101.065917   \n3           [2742]  532.000000           416.333333                113.484695   \n4           [2676]  513.555556           417.222222                 94.236638   \n...            ...         ...                  ...                       ...   \n5022        [1985]  414.333333           514.555556                 99.848473   \n5023        [5056]  422.666667           513.222222                 90.595060   \n5024         [701]  419.666667           513.888889                 94.139351   \n5025        [4922]  424.222222           523.111111                 98.649767   \n5026        [2113]  439.222222           519.111111                 80.121134   \n\n      treat  treat_matched  \n0         1              0  \n1         1              0  \n2         1              0  \n3         1              0  \n4         1              0  \n...     ...            ...  \n5022      0              1  \n5023      0              1  \n5024      0              1  \n5025      0              1  \n5026      0              1  \n\n[5458 rows x 21 columns]",
      "text/html": "<div>\n<style scoped>\n    .dataframe tbody tr th:only-of-type {\n        vertical-align: middle;\n    }\n\n    .dataframe tbody tr th {\n        vertical-align: top;\n    }\n\n    .dataframe thead th {\n        text-align: right;\n    }\n</style>\n<table border=\"1\" class=\"dataframe\">\n  <thead>\n    <tr style=\"text-align: right;\">\n      <th></th>\n      <th>index</th>\n      <th>pre_spends</th>\n      <th>age</th>\n      <th>is_male</th>\n      <th>industry</th>\n      <th>user_id</th>\n      <th>signup_month</th>\n      <th>random_feature</th>\n      <th>pre_spends_matched</th>\n      <th>age_matched</th>\n      <th>...</th>\n      <th>user_id_matched</th>\n      <th>signup_month_matched</th>\n      <th>random_feature_matched</th>\n      <th>industry_matched</th>\n      <th>index_matched</th>\n      <th>post_spends</th>\n      <th>post_spends_matched</th>\n      <th>post_spends_matched_bias</th>\n      <th>treat</th>\n      <th>treat_matched</th>\n    </tr>\n  </thead>\n  <tbody>\n    <tr>\n      <th>0</th>\n      <td>1933</td>\n      <td>488.0</td>\n      <td>46</td>\n      <td>0</td>\n      <td>1</td>\n      <td>3578</td>\n      <td>3</td>\n      <td>0.831283</td>\n      <td>486.5</td>\n      <td>27.0</td>\n      <td>...</td>\n      <td>6245.0</td>\n      <td>0.0</td>\n      <td>-0.853119</td>\n      <td>2</td>\n      <td>[4978]</td>\n      <td>535.555556</td>\n      <td>424.333333</td>\n      <td>113.344309</td>\n      <td>1</td>\n      <td>0</td>\n    </tr>\n    <tr>\n      <th>1</th>\n      <td>3911</td>\n      <td>484.5</td>\n      <td>34</td>\n      <td>0</td>\n      <td>1</td>\n      <td>7221</td>\n      <td>3</td>\n      <td>0.280152</td>\n      <td>481.0</td>\n      <td>33.0</td>\n      <td>...</td>\n      <td>9520.0</td>\n      <td>0.0</td>\n      <td>-0.375390</td>\n      <td>2</td>\n      <td>[3220]</td>\n      <td>510.000000</td>\n      <td>416.111111</td>\n      <td>93.931293</td>\n      <td>1</td>\n      <td>0</td>\n    </tr>\n    <tr>\n      <th>2</th>\n      <td>1945</td>\n      <td>469.0</td>\n      <td>68</td>\n      <td>1</td>\n      <td>1</td>\n      <td>3611</td>\n      <td>3</td>\n      <td>0.521268</td>\n      <td>474.5</td>\n      <td>69.0</td>\n      <td>...</td>\n      <td>5694.0</td>\n      <td>0.0</td>\n      <td>0.149171</td>\n      <td>1</td>\n      <td>[4577]</td>\n      <td>523.333333</td>\n      <td>420.111111</td>\n      <td>101.065917</td>\n      <td>1</td>\n      <td>0</td>\n    </tr>\n    <tr>\n      <th>3</th>\n      <td>1825</td>\n      <td>486.0</td>\n      <td>49</td>\n      <td>1</td>\n      <td>1</td>\n      <td>3369</td>\n      <td>3</td>\n      <td>1.394904</td>\n      <td>493.5</td>\n      <td>22.0</td>\n      <td>...</td>\n      <td>7007.0</td>\n      <td>0.0</td>\n      <td>-0.379945</td>\n      <td>2</td>\n      <td>[2742]</td>\n      <td>532.000000</td>\n      <td>416.333333</td>\n      <td>113.484695</td>\n      <td>1</td>\n      <td>0</td>\n    </tr>\n    <tr>\n      <th>4</th>\n      <td>1839</td>\n      <td>498.0</td>\n      <td>54</td>\n      <td>1</td>\n      <td>1</td>\n      <td>3394</td>\n      <td>3</td>\n      <td>-0.862996</td>\n      <td>482.0</td>\n      <td>44.0</td>\n      <td>...</td>\n      <td>7012.0</td>\n      <td>0.0</td>\n      <td>-0.339060</td>\n      <td>1</td>\n      <td>[2676]</td>\n      <td>513.555556</td>\n      <td>417.222222</td>\n      <td>94.236638</td>\n      <td>1</td>\n      <td>0</td>\n    </tr>\n    <tr>\n      <th>...</th>\n      <td>...</td>\n      <td>...</td>\n      <td>...</td>\n      <td>...</td>\n      <td>...</td>\n      <td>...</td>\n      <td>...</td>\n      <td>...</td>\n      <td>...</td>\n      <td>...</td>\n      <td>...</td>\n      <td>...</td>\n      <td>...</td>\n      <td>...</td>\n      <td>...</td>\n      <td>...</td>\n      <td>...</td>\n      <td>...</td>\n      <td>...</td>\n      <td>...</td>\n      <td>...</td>\n    </tr>\n    <tr>\n      <th>5022</th>\n      <td>2432</td>\n      <td>479.5</td>\n      <td>25</td>\n      <td>1</td>\n      <td>2</td>\n      <td>4516</td>\n      <td>0</td>\n      <td>-0.093153</td>\n      <td>489.0</td>\n      <td>32.0</td>\n      <td>...</td>\n      <td>487.0</td>\n      <td>0.0</td>\n      <td>1.245220</td>\n      <td>1</td>\n      <td>[1985]</td>\n      <td>414.333333</td>\n      <td>514.555556</td>\n      <td>99.848473</td>\n      <td>0</td>\n      <td>1</td>\n    </tr>\n    <tr>\n      <th>5023</th>\n      <td>2433</td>\n      <td>504.5</td>\n      <td>65</td>\n      <td>0</td>\n      <td>2</td>\n      <td>4519</td>\n      <td>0</td>\n      <td>-1.189707</td>\n      <td>477.0</td>\n      <td>25.0</td>\n      <td>...</td>\n      <td>3905.0</td>\n      <td>0.0</td>\n      <td>0.316262</td>\n      <td>1</td>\n      <td>[5056]</td>\n      <td>422.666667</td>\n      <td>513.222222</td>\n      <td>90.595060</td>\n      <td>0</td>\n      <td>1</td>\n    </tr>\n    <tr>\n      <th>5024</th>\n      <td>2434</td>\n      <td>484.0</td>\n      <td>48</td>\n      <td>1</td>\n      <td>2</td>\n      <td>4520</td>\n      <td>0</td>\n      <td>-2.577513</td>\n      <td>507.0</td>\n      <td>51.0</td>\n      <td>...</td>\n      <td>8530.0</td>\n      <td>0.0</td>\n      <td>0.487054</td>\n      <td>1</td>\n      <td>[701]</td>\n      <td>419.666667</td>\n      <td>513.888889</td>\n      <td>94.139351</td>\n      <td>0</td>\n      <td>1</td>\n    </tr>\n    <tr>\n      <th>5025</th>\n      <td>2291</td>\n      <td>473.5</td>\n      <td>51</td>\n      <td>0</td>\n      <td>2</td>\n      <td>4275</td>\n      <td>0</td>\n      <td>-0.817607</td>\n      <td>461.5</td>\n      <td>44.0</td>\n      <td>...</td>\n      <td>6124.0</td>\n      <td>0.0</td>\n      <td>-1.190293</td>\n      <td>1</td>\n      <td>[4922]</td>\n      <td>424.222222</td>\n      <td>523.111111</td>\n      <td>98.649767</td>\n      <td>0</td>\n      <td>1</td>\n    </tr>\n    <tr>\n      <th>5026</th>\n      <td>5457</td>\n      <td>507.5</td>\n      <td>41</td>\n      <td>0</td>\n      <td>2</td>\n      <td>9999</td>\n      <td>0</td>\n      <td>0.137662</td>\n      <td>472.0</td>\n      <td>22.0</td>\n      <td>...</td>\n      <td>401.0</td>\n      <td>0.0</td>\n      <td>1.336768</td>\n      <td>2</td>\n      <td>[2113]</td>\n      <td>439.222222</td>\n      <td>519.111111</td>\n      <td>80.121134</td>\n      <td>0</td>\n      <td>1</td>\n    </tr>\n  </tbody>\n</table>\n<p>5458 rows × 21 columns</p>\n</div>"
     },
     "execution_count": 24,
     "metadata": {},
     "output_type": "execute_result"
    }
   ],
   "source": [
    "model.matcher.df_matched"
   ]
  },
  {
   "cell_type": "code",
   "execution_count": 24,
   "metadata": {},
   "outputs": [],
   "source": []
  },
  {
   "cell_type": "code",
   "execution_count": 24,
   "metadata": {},
   "outputs": [],
   "source": []
  },
  {
   "cell_type": "code",
   "execution_count": 24,
   "metadata": {},
   "outputs": [],
   "source": []
  },
  {
   "cell_type": "code",
   "execution_count": 24,
   "metadata": {},
   "outputs": [],
   "source": []
  },
  {
   "cell_type": "code",
   "execution_count": 24,
   "metadata": {},
   "outputs": [],
   "source": []
  },
  {
   "cell_type": "code",
   "execution_count": null,
   "metadata": {},
   "outputs": [],
   "source": []
  },
  {
   "cell_type": "code",
   "execution_count": null,
   "metadata": {},
   "outputs": [],
   "source": []
  },
  {
   "cell_type": "code",
   "execution_count": null,
   "metadata": {},
   "outputs": [],
   "source": []
  },
  {
   "cell_type": "code",
   "execution_count": null,
   "metadata": {},
   "outputs": [],
   "source": []
  }
 ],
 "metadata": {
  "kernelspec": {
   "display_name": "Python 3 (ipykernel)",
   "language": "python",
   "name": "python3"
  },
  "language_info": {
   "codemirror_mode": {
    "name": "ipython",
    "version": 3
   },
   "file_extension": ".py",
   "mimetype": "text/x-python",
   "name": "python",
   "nbconvert_exporter": "python",
   "pygments_lexer": "ipython3",
   "version": "3.10.9"
  }
 },
 "nbformat": 4,
 "nbformat_minor": 1
}

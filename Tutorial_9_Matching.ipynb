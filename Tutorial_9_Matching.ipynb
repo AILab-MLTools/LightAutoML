{
 "cells": [
  {
   "cell_type": "markdown",
   "metadata": {},
   "source": [
    "# How to match? "
   ]
  },
  {
   "cell_type": "markdown",
   "metadata": {},
   "source": [
    "## 0. Import libraries "
   ]
  },
  {
   "cell_type": "code",
   "execution_count": 1,
   "metadata": {},
   "outputs": [],
   "source": [
    "# !pip install faiss-cpu\n",
    "# !pip install lightautoml"
   ]
  },
  {
   "cell_type": "code",
   "execution_count": 1,
   "metadata": {},
   "outputs": [
    {
     "name": "stdout",
     "output_type": "stream",
     "text": [
      "Python 3.8.16\r\n"
     ]
    }
   ],
   "source": [
    "!python --version"
   ]
  },
  {
   "cell_type": "code",
   "execution_count": 2,
   "metadata": {},
   "outputs": [],
   "source": [
    "import pandas as pd\n",
    "import warnings\n",
    "import numpy as np\n",
    "from lightautoml.addons.matcher import Matcher\n",
    "warnings.filterwarnings('ignore')\n",
    "%config Completer.use_jedi = False"
   ]
  },
  {
   "cell_type": "markdown",
   "metadata": {},
   "source": [
    "## 1. Create or upload your dataset  \n",
    "In this case we will create random dataset with known effect size  \n",
    "If you have your own dataset, go to the part 2 \n"
   ]
  },
  {
   "cell_type": "code",
   "execution_count": 5,
   "metadata": {},
   "outputs": [
    {
     "data": {
      "text/plain": "   user_id  signup_month  month  spend  treat\n0        0             8      1    499   True\n1        0             8      2    499   True\n2        0             8      3    459   True\n3        0             8      4    457   True\n4        0             8      5    456   True",
      "text/html": "<div>\n<style scoped>\n    .dataframe tbody tr th:only-of-type {\n        vertical-align: middle;\n    }\n\n    .dataframe tbody tr th {\n        vertical-align: top;\n    }\n\n    .dataframe thead th {\n        text-align: right;\n    }\n</style>\n<table border=\"1\" class=\"dataframe\">\n  <thead>\n    <tr style=\"text-align: right;\">\n      <th></th>\n      <th>user_id</th>\n      <th>signup_month</th>\n      <th>month</th>\n      <th>spend</th>\n      <th>treat</th>\n    </tr>\n  </thead>\n  <tbody>\n    <tr>\n      <th>0</th>\n      <td>0</td>\n      <td>8</td>\n      <td>1</td>\n      <td>499</td>\n      <td>True</td>\n    </tr>\n    <tr>\n      <th>1</th>\n      <td>0</td>\n      <td>8</td>\n      <td>2</td>\n      <td>499</td>\n      <td>True</td>\n    </tr>\n    <tr>\n      <th>2</th>\n      <td>0</td>\n      <td>8</td>\n      <td>3</td>\n      <td>459</td>\n      <td>True</td>\n    </tr>\n    <tr>\n      <th>3</th>\n      <td>0</td>\n      <td>8</td>\n      <td>4</td>\n      <td>457</td>\n      <td>True</td>\n    </tr>\n    <tr>\n      <th>4</th>\n      <td>0</td>\n      <td>8</td>\n      <td>5</td>\n      <td>456</td>\n      <td>True</td>\n    </tr>\n  </tbody>\n</table>\n</div>"
     },
     "execution_count": 5,
     "metadata": {},
     "output_type": "execute_result"
    }
   ],
   "source": [
    "# Simulating dataset with known effect size\n",
    "num_users = 10000\n",
    "num_months = 12\n",
    "\n",
    "signup_months = np.random.choice(np.arange(1, num_months), num_users) * np.random.randint(0,2, size=num_users) # signup_months == 0 means customer did not sign up\n",
    "df = pd.DataFrame({\n",
    "    'user_id': np.repeat(np.arange(num_users), num_months),\n",
    "    'signup_month': np.repeat(signup_months, num_months), # signup month == 0 means customer did not sign up\n",
    "    'month': np.tile(np.arange(1, num_months+1), num_users), # months are from 1 to 12\n",
    "    'spend': np.random.poisson(500, num_users*num_months) #np.random.beta(a=2, b=5, size=num_users * num_months)*1000 # centered at 500\n",
    "})\n",
    "# A customer is in the treatment group if and only if they signed up\n",
    "df[\"treat\"] = df[\"signup_month\"]>0\n",
    "# Simulating an effect of month (monotonically decreasing--customers buy less later in the year)\n",
    "df[\"spend\"] = df[\"spend\"] - df[\"month\"]*10\n",
    "# Simulating a simple treatment effect of 100\n",
    "after_signup = (df[\"signup_month\"] < df[\"month\"]) & (df[\"treat\"])\n",
    "df.loc[after_signup,\"spend\"] = df[after_signup][\"spend\"] + 100\n",
    "df.head()"
   ]
  },
  {
   "cell_type": "code",
   "execution_count": 6,
   "metadata": {},
   "outputs": [
    {
     "data": {
      "text/plain": "      user_id  signup_month  treat  pre_spends  post_spends\n0           1             0  False       484.0   417.666667\n1           2             0  False       478.0   425.222222\n2           3             0  False       510.0   424.222222\n3           6             0  False       468.5   427.666667\n4           9             0  False       464.5   412.888889\n...       ...           ...    ...         ...          ...\n5401     9991             0  False       466.0   414.000000\n5402     9992             0  False       504.0   413.222222\n5403     9993             0  False       523.5   420.777778\n5404     9995             0  False       496.5   414.222222\n5405     9996             0  False       470.5   426.555556\n\n[5406 rows x 5 columns]",
      "text/html": "<div>\n<style scoped>\n    .dataframe tbody tr th:only-of-type {\n        vertical-align: middle;\n    }\n\n    .dataframe tbody tr th {\n        vertical-align: top;\n    }\n\n    .dataframe thead th {\n        text-align: right;\n    }\n</style>\n<table border=\"1\" class=\"dataframe\">\n  <thead>\n    <tr style=\"text-align: right;\">\n      <th></th>\n      <th>user_id</th>\n      <th>signup_month</th>\n      <th>treat</th>\n      <th>pre_spends</th>\n      <th>post_spends</th>\n    </tr>\n  </thead>\n  <tbody>\n    <tr>\n      <th>0</th>\n      <td>1</td>\n      <td>0</td>\n      <td>False</td>\n      <td>484.0</td>\n      <td>417.666667</td>\n    </tr>\n    <tr>\n      <th>1</th>\n      <td>2</td>\n      <td>0</td>\n      <td>False</td>\n      <td>478.0</td>\n      <td>425.222222</td>\n    </tr>\n    <tr>\n      <th>2</th>\n      <td>3</td>\n      <td>0</td>\n      <td>False</td>\n      <td>510.0</td>\n      <td>424.222222</td>\n    </tr>\n    <tr>\n      <th>3</th>\n      <td>6</td>\n      <td>0</td>\n      <td>False</td>\n      <td>468.5</td>\n      <td>427.666667</td>\n    </tr>\n    <tr>\n      <th>4</th>\n      <td>9</td>\n      <td>0</td>\n      <td>False</td>\n      <td>464.5</td>\n      <td>412.888889</td>\n    </tr>\n    <tr>\n      <th>...</th>\n      <td>...</td>\n      <td>...</td>\n      <td>...</td>\n      <td>...</td>\n      <td>...</td>\n    </tr>\n    <tr>\n      <th>5401</th>\n      <td>9991</td>\n      <td>0</td>\n      <td>False</td>\n      <td>466.0</td>\n      <td>414.000000</td>\n    </tr>\n    <tr>\n      <th>5402</th>\n      <td>9992</td>\n      <td>0</td>\n      <td>False</td>\n      <td>504.0</td>\n      <td>413.222222</td>\n    </tr>\n    <tr>\n      <th>5403</th>\n      <td>9993</td>\n      <td>0</td>\n      <td>False</td>\n      <td>523.5</td>\n      <td>420.777778</td>\n    </tr>\n    <tr>\n      <th>5404</th>\n      <td>9995</td>\n      <td>0</td>\n      <td>False</td>\n      <td>496.5</td>\n      <td>414.222222</td>\n    </tr>\n    <tr>\n      <th>5405</th>\n      <td>9996</td>\n      <td>0</td>\n      <td>False</td>\n      <td>470.5</td>\n      <td>426.555556</td>\n    </tr>\n  </tbody>\n</table>\n<p>5406 rows × 5 columns</p>\n</div>"
     },
     "execution_count": 6,
     "metadata": {},
     "output_type": "execute_result"
    }
   ],
   "source": [
    "# Setting the signup month (for ease of analysis)\n",
    "i = 3\n",
    "df_i_signupmonth = (\n",
    "    df[df.signup_month.isin([0, i])]\n",
    "    .groupby([\"user_id\", \"signup_month\", \"treat\"])\n",
    "    .apply(\n",
    "        lambda x: pd.Series(\n",
    "            {\n",
    "                \"pre_spends\": x.loc[x.month < i, \"spend\"].mean(),\n",
    "                \"post_spends\": x.loc[x.month > i, \"spend\"].mean(),\n",
    "            }\n",
    "        )\n",
    "    )\n",
    "    .reset_index()\n",
    ")\n",
    "df_i_signupmonth"
   ]
  },
  {
   "cell_type": "code",
   "execution_count": 7,
   "metadata": {},
   "outputs": [
    {
     "data": {
      "text/plain": "   user_id  signup_month  treat  pre_spends  post_spends  age  is_male  \\\n0        1             0      0       484.0   417.666667   62        0   \n1        2             0      0       478.0   425.222222   61        0   \n2        3             0      0       510.0   424.222222   21        1   \n3        6             0      0       468.5   427.666667   38        0   \n4        9             0      0       464.5   412.888889   62        1   \n\n  industry  \n0        2  \n1        2  \n2        2  \n3        2  \n4        1  ",
      "text/html": "<div>\n<style scoped>\n    .dataframe tbody tr th:only-of-type {\n        vertical-align: middle;\n    }\n\n    .dataframe tbody tr th {\n        vertical-align: top;\n    }\n\n    .dataframe thead th {\n        text-align: right;\n    }\n</style>\n<table border=\"1\" class=\"dataframe\">\n  <thead>\n    <tr style=\"text-align: right;\">\n      <th></th>\n      <th>user_id</th>\n      <th>signup_month</th>\n      <th>treat</th>\n      <th>pre_spends</th>\n      <th>post_spends</th>\n      <th>age</th>\n      <th>is_male</th>\n      <th>industry</th>\n    </tr>\n  </thead>\n  <tbody>\n    <tr>\n      <th>0</th>\n      <td>1</td>\n      <td>0</td>\n      <td>0</td>\n      <td>484.0</td>\n      <td>417.666667</td>\n      <td>62</td>\n      <td>0</td>\n      <td>2</td>\n    </tr>\n    <tr>\n      <th>1</th>\n      <td>2</td>\n      <td>0</td>\n      <td>0</td>\n      <td>478.0</td>\n      <td>425.222222</td>\n      <td>61</td>\n      <td>0</td>\n      <td>2</td>\n    </tr>\n    <tr>\n      <th>2</th>\n      <td>3</td>\n      <td>0</td>\n      <td>0</td>\n      <td>510.0</td>\n      <td>424.222222</td>\n      <td>21</td>\n      <td>1</td>\n      <td>2</td>\n    </tr>\n    <tr>\n      <th>3</th>\n      <td>6</td>\n      <td>0</td>\n      <td>0</td>\n      <td>468.5</td>\n      <td>427.666667</td>\n      <td>38</td>\n      <td>0</td>\n      <td>2</td>\n    </tr>\n    <tr>\n      <th>4</th>\n      <td>9</td>\n      <td>0</td>\n      <td>0</td>\n      <td>464.5</td>\n      <td>412.888889</td>\n      <td>62</td>\n      <td>1</td>\n      <td>1</td>\n    </tr>\n  </tbody>\n</table>\n</div>"
     },
     "execution_count": 7,
     "metadata": {},
     "output_type": "execute_result"
    }
   ],
   "source": [
    "# Additional category features\n",
    "gender = np.random.choice(a=[0,1], size=df_i_signupmonth.user_id.nunique())\n",
    "age = np.random.choice(a=range(18, 70), size=df_i_signupmonth.user_id.nunique())\n",
    "industry = np.random.choice(a=range(1, 3), size=df_i_signupmonth.user_id.nunique())\n",
    "df_i_signupmonth['age'] = age\n",
    "df_i_signupmonth['is_male'] =  gender\n",
    "df_i_signupmonth['industry'] =  industry\n",
    "df_i_signupmonth['industry'] = df_i_signupmonth['industry'].astype('str')\n",
    "df_i_signupmonth['treat'] = df_i_signupmonth['treat'].astype(int)\n",
    "df_i_signupmonth.head()"
   ]
  },
  {
   "cell_type": "code",
   "execution_count": 8,
   "metadata": {},
   "outputs": [
    {
     "data": {
      "text/plain": "Index(['user_id', 'signup_month', 'treat', 'pre_spends', 'post_spends', 'age',\n       'is_male', 'industry'],\n      dtype='object')"
     },
     "execution_count": 8,
     "metadata": {},
     "output_type": "execute_result"
    }
   ],
   "source": [
    "df_i_signupmonth.columns"
   ]
  },
  {
   "cell_type": "markdown",
   "metadata": {},
   "source": [
    "## 2. Matching  \n",
    "### 2.0 Init params\n",
    "info_col used to define informative attributes that should not be part of matching, such as user_id  \n",
    "But to explicitly store this column in the table, so that you can compare directly after computation"
   ]
  },
  {
   "cell_type": "code",
   "execution_count": 9,
   "metadata": {},
   "outputs": [],
   "source": [
    "info_col = ['user_id', 'signup_month']\n",
    "\n",
    "outcome = 'post_spends'\n",
    "treatment = 'treat'"
   ]
  },
  {
   "cell_type": "markdown",
   "metadata": {},
   "source": [
    "### 2.1 Simple matching\n",
    "This is the easiest way to initialize and calculate metrics on a Matching task  \n",
    "Use it when you are clear about each attribute or if you don't have any additional task conditions (Strict equality for certain features) "
   ]
  },
  {
   "cell_type": "code",
   "execution_count": 10,
   "metadata": {},
   "outputs": [
    {
     "name": "stderr",
     "output_type": "stream",
     "text": [
      "[20.06.2023 14:30:53 | matcher | INFO]: Applying matching\n"
     ]
    },
    {
     "name": "stdout",
     "output_type": "stream",
     "text": [
      "Finding index\n",
      "Done\n",
      "Finding index\n",
      "Done\n"
     ]
    },
    {
     "name": "stderr",
     "output_type": "stream",
     "text": [
      "[20.06.2023 14:30:53 | Faiss matcher | INFO]: Calculated the number of times each subject has appeared as a match: 432\n",
      "[20.06.2023 14:30:53 | Faiss matcher | INFO]: Calculated the number of times each subject has appeared as a match: 4974\n",
      "[20.06.2023 14:30:53 | Faiss matcher | INFO]: Estimating quality of matching\n",
      "[20.06.2023 14:30:53 | metrics | INFO]: Standardised mean difference: age           0.000312\n",
      "is_male       0.000000\n",
      "pre_spends    0.005606\n",
      "dtype: float64\n",
      "[20.06.2023 14:30:53 | metrics | INFO]: Standardised mean difference: age           0.007209\n",
      "is_male       0.000000\n",
      "pre_spends    0.004279\n",
      "dtype: float64\n",
      "[20.06.2023 14:30:53 | metrics | INFO]: Kolmogorov-Smirnov test to check matching quality: \n",
      "{'age': 0.9999999999999997, 'is_male': 1.0, 'pre_spends': 0.9999995166451553}\n",
      "[20.06.2023 14:30:53 | metrics | INFO]: Kolmogorov-Smirnov test to check matching quality: \n",
      "{'age': 0.12167335017364644, 'is_male': 1.0, 'pre_spends': 0.16053502564629307}\n",
      "[20.06.2023 14:30:53 | psi_pandas | INFO]: Creating report\n",
      "[20.06.2023 14:30:53 | psi_pandas | INFO]: PSI value:  0.010\n",
      "[20.06.2023 14:30:53 | psi_pandas | INFO]: PSI value:  0.000\n",
      "[20.06.2023 14:30:53 | psi_pandas | INFO]: PSI value:  0.000\n",
      "[20.06.2023 14:30:53 | psi_pandas | INFO]: PSI value:  16.111\n",
      "[20.06.2023 14:30:53 | psi_pandas | INFO]: PSI value:  0.003\n",
      "[20.06.2023 14:30:53 | psi_pandas | INFO]: Creating report\n",
      "[20.06.2023 14:30:53 | psi_pandas | INFO]: PSI value:  0.014\n",
      "[20.06.2023 14:30:53 | psi_pandas | INFO]: PSI value:  0.000\n",
      "[20.06.2023 14:30:53 | psi_pandas | INFO]: PSI value:  0.000\n",
      "[20.06.2023 14:30:53 | psi_pandas | INFO]: PSI value:  8.270\n",
      "[20.06.2023 14:30:53 | psi_pandas | INFO]: PSI value:  0.014\n",
      "[20.06.2023 14:30:53 | metrics | INFO]: Fraction of duplicated indexes:  0.96\n",
      "[20.06.2023 14:30:53 | metrics | INFO]: Fraction of duplicated indexes:  0.09\n",
      "[20.06.2023 14:30:53 | Faiss matcher | INFO]: PSI info: \n",
      "                 column  anomaly_score check_result                 column  \\\n",
      "0          age_treated           0.01           OK          age_untreated   \n",
      "1   industry_2_treated           0.00           OK   industry_2_untreated   \n",
      "2      is_male_treated           0.00           OK      is_male_untreated   \n",
      "3  post_spends_treated          16.11          NOK  post_spends_untreated   \n",
      "4   pre_spends_treated           0.00           OK   pre_spends_untreated   \n",
      "\n",
      "   anomaly_score check_result  \n",
      "0           0.01           OK  \n",
      "1           0.00           OK  \n",
      "2           0.00           OK  \n",
      "3           8.27          NOK  \n",
      "4           0.01           OK   \n",
      "shape:(5, 6)\n",
      "[20.06.2023 14:30:53 | Faiss matcher | INFO]: Kolmogorov-Smirnov test info: \n",
      "             match_control_to_treat  match_treat_to_control\n",
      "age                            1.0                0.121673\n",
      "is_male                        1.0                1.000000\n",
      "pre_spends                     1.0                0.160535 \n",
      "shape:(3, 2)\n",
      "[20.06.2023 14:30:53 | Faiss matcher | INFO]: Standardised mean difference info: \n",
      "             match_control_to_treat  match_treat_to_control\n",
      "age                       0.000312                0.007209\n",
      "is_male                   0.000000                0.000000\n",
      "pre_spends                0.005606                0.004279 \n",
      "shape:(3, 2)\n",
      "[20.06.2023 14:30:53 | Faiss matcher | INFO]: Repeats info: \n",
      "                         value\n",
      "match_control_to_treat   0.96\n",
      "match_treat_to_control   0.09\n"
     ]
    }
   ],
   "source": [
    "# Standard model with base parameters\n",
    "model = Matcher(input_data=df_i_signupmonth, outcome=outcome, treatment=treatment, info_col=info_col, n_neighbors=10)\n",
    "results, quality_results = model.estimate()"
   ]
  },
  {
   "cell_type": "code",
   "execution_count": 11,
   "metadata": {},
   "outputs": [
    {
     "data": {
      "text/plain": "     effect_size   std_err  p-val   ci_lower    ci_upper\nATE   100.190738  0.583088    0.0  99.047886  101.333591\nATC   100.224946  0.593753    0.0  99.061190  101.388702\nATT    99.796877  0.710921    0.0  98.403472  101.190283",
      "text/html": "<div>\n<style scoped>\n    .dataframe tbody tr th:only-of-type {\n        vertical-align: middle;\n    }\n\n    .dataframe tbody tr th {\n        vertical-align: top;\n    }\n\n    .dataframe thead th {\n        text-align: right;\n    }\n</style>\n<table border=\"1\" class=\"dataframe\">\n  <thead>\n    <tr style=\"text-align: right;\">\n      <th></th>\n      <th>effect_size</th>\n      <th>std_err</th>\n      <th>p-val</th>\n      <th>ci_lower</th>\n      <th>ci_upper</th>\n    </tr>\n  </thead>\n  <tbody>\n    <tr>\n      <th>ATE</th>\n      <td>100.190738</td>\n      <td>0.583088</td>\n      <td>0.0</td>\n      <td>99.047886</td>\n      <td>101.333591</td>\n    </tr>\n    <tr>\n      <th>ATC</th>\n      <td>100.224946</td>\n      <td>0.593753</td>\n      <td>0.0</td>\n      <td>99.061190</td>\n      <td>101.388702</td>\n    </tr>\n    <tr>\n      <th>ATT</th>\n      <td>99.796877</td>\n      <td>0.710921</td>\n      <td>0.0</td>\n      <td>98.403472</td>\n      <td>101.190283</td>\n    </tr>\n  </tbody>\n</table>\n</div>"
     },
     "execution_count": 11,
     "metadata": {},
     "output_type": "execute_result"
    }
   ],
   "source": [
    "results"
   ]
  },
  {
   "cell_type": "markdown",
   "metadata": {},
   "source": [
    "### 2.2 Matching with a fixed variable  \n",
    "Used when you have categorical feature(s) that you want to compare by strict equality  \n",
    "group_col is used for strict comparison of categorical features.  \n",
    "In our case there is only one attribute  \n",
    "If there are several such attributes, you should make one of them and use it"
   ]
  },
  {
   "cell_type": "code",
   "execution_count": 12,
   "metadata": {},
   "outputs": [],
   "source": [
    "# group_col is used for strict comparison of categorical features.  \n",
    "# In our case there is only one attribute  \n",
    "# If there are several such attributes, you should make one of them and use it\n",
    "\n",
    "group_col = \"industry\""
   ]
  },
  {
   "cell_type": "code",
   "execution_count": 14,
   "metadata": {},
   "outputs": [
    {
     "name": "stderr",
     "output_type": "stream",
     "text": [
      "[20.06.2023 14:31:06 | matcher | INFO]: Applying matching\n"
     ]
    },
    {
     "name": "stdout",
     "output_type": "stream",
     "text": [
      "Finding index\n",
      "Done\n",
      "Finding index\n",
      "Done\n",
      "Finding index\n",
      "Done\n",
      "Finding index\n",
      "Done\n"
     ]
    },
    {
     "name": "stderr",
     "output_type": "stream",
     "text": [
      "[20.06.2023 14:31:06 | Faiss matcher | INFO]: Calculated the number of times each subject has appeared as a match: 432\n",
      "[20.06.2023 14:31:06 | Faiss matcher | INFO]: Calculated the number of times each subject has appeared as a match: 4974\n",
      "[20.06.2023 14:31:06 | Faiss matcher | INFO]: Estimating quality of matching\n",
      "[20.06.2023 14:31:06 | metrics | INFO]: Standardised mean difference: age           0.079010\n",
      "is_male       0.003084\n",
      "pre_spends    0.044709\n",
      "dtype: float64\n",
      "[20.06.2023 14:31:06 | metrics | INFO]: Standardised mean difference: age           0.028257\n",
      "is_male       0.032972\n",
      "pre_spends    0.030633\n",
      "dtype: float64\n",
      "[20.06.2023 14:31:06 | metrics | INFO]: Kolmogorov-Smirnov test to check matching quality: \n",
      "{'age': 0.24874017406832236, 'is_male': 0.977378292638189, 'pre_spends': 0.7981991247404304}\n",
      "[20.06.2023 14:31:06 | metrics | INFO]: Kolmogorov-Smirnov test to check matching quality: \n",
      "{'age': 0.04111527913824265, 'is_male': 0.3625816718318911, 'pre_spends': 0.00010854363642017343}\n",
      "[20.06.2023 14:31:06 | psi_pandas | INFO]: Creating report\n",
      "[20.06.2023 14:31:06 | psi_pandas | INFO]: PSI value:  0.041\n",
      "[20.06.2023 14:31:06 | psi_pandas | INFO]: PSI value:  0.000\n",
      "[20.06.2023 14:31:06 | psi_pandas | INFO]: PSI value:  0.004\n",
      "[20.06.2023 14:31:06 | psi_pandas | INFO]: PSI value:  16.111\n",
      "[20.06.2023 14:31:06 | psi_pandas | INFO]: PSI value:  0.021\n",
      "[20.06.2023 14:31:06 | psi_pandas | INFO]: Creating report\n",
      "[20.06.2023 14:31:06 | psi_pandas | INFO]: PSI value:  0.031\n",
      "[20.06.2023 14:31:06 | psi_pandas | INFO]: PSI value:  0.000\n",
      "[20.06.2023 14:31:06 | psi_pandas | INFO]: PSI value:  0.001\n",
      "[20.06.2023 14:31:06 | psi_pandas | INFO]: PSI value:  8.270\n",
      "[20.06.2023 14:31:06 | psi_pandas | INFO]: PSI value:  0.031\n",
      "[20.06.2023 14:31:06 | metrics | INFO]: Fraction of duplicated indexes:  0.96\n",
      "[20.06.2023 14:31:06 | metrics | INFO]: Fraction of duplicated indexes:  0.09\n",
      "[20.06.2023 14:31:06 | Faiss matcher | INFO]: PSI info: \n",
      "                 column  anomaly_score check_result                 column  \\\n",
      "0          age_treated           0.04           OK          age_untreated   \n",
      "1     industry_treated           0.00           OK     industry_untreated   \n",
      "2      is_male_treated           0.00           OK      is_male_untreated   \n",
      "3  post_spends_treated          16.11          NOK  post_spends_untreated   \n",
      "4   pre_spends_treated           0.02           OK   pre_spends_untreated   \n",
      "\n",
      "   anomaly_score check_result  \n",
      "0           0.03           OK  \n",
      "1           0.00           OK  \n",
      "2           0.00           OK  \n",
      "3           8.27          NOK  \n",
      "4           0.03           OK   \n",
      "shape:(5, 6)\n",
      "[20.06.2023 14:31:06 | Faiss matcher | INFO]: Kolmogorov-Smirnov test info: \n",
      "             match_control_to_treat  match_treat_to_control\n",
      "age                       0.248740                0.041115\n",
      "is_male                   0.977378                0.362582\n",
      "pre_spends                0.798199                0.000109 \n",
      "shape:(3, 2)\n",
      "[20.06.2023 14:31:06 | Faiss matcher | INFO]: Standardised mean difference info: \n",
      "             match_control_to_treat  match_treat_to_control\n",
      "age                       0.079010                0.028257\n",
      "is_male                   0.003084                0.032972\n",
      "pre_spends                0.044709                0.030633 \n",
      "shape:(3, 2)\n",
      "[20.06.2023 14:31:06 | Faiss matcher | INFO]: Repeats info: \n",
      "                         value\n",
      "match_control_to_treat   0.96\n",
      "match_treat_to_control   0.09\n"
     ]
    }
   ],
   "source": [
    "model = Matcher(input_data=df_i_signupmonth, outcome=outcome, treatment=treatment, \n",
    "                info_col=info_col, group_col=group_col)\n",
    "results, quality_results = model.estimate()"
   ]
  },
  {
   "cell_type": "markdown",
   "metadata": {},
   "source": [
    "### 2.3 Matching but you don't know which features are better to use  \n",
    "This is the easiest way to initialize and calculate metrics on a Matching task  \n",
    "Use this method when you want to select the most important features and make matching based on them. "
   ]
  },
  {
   "cell_type": "code",
   "execution_count": 16,
   "metadata": {},
   "outputs": [],
   "source": [
    "model = Matcher(df=df_i_signupmonth, outcome=outcome, treatment=treatment, \n",
    "                info_col=info_col, group_col=group_col)"
   ]
  },
  {
   "cell_type": "code",
   "execution_count": 17,
   "metadata": {
    "scrolled": true
   },
   "outputs": [
    {
     "name": "stderr",
     "output_type": "stream",
     "text": [
      "[20.06.2023 14:31:18 | matcher | INFO]: Counting feature importance\n",
      "[20.06.2023 14:31:18 | lama_feature_selector | INFO]: Getting feature scores\n"
     ]
    },
    {
     "data": {
      "text/plain": "      Feature    Importance\n0         age  35869.799805\n3    industry  35869.799805\n1  pre_spends  27904.770020\n2     is_male   4301.930176",
      "text/html": "<div>\n<style scoped>\n    .dataframe tbody tr th:only-of-type {\n        vertical-align: middle;\n    }\n\n    .dataframe tbody tr th {\n        vertical-align: top;\n    }\n\n    .dataframe thead th {\n        text-align: right;\n    }\n</style>\n<table border=\"1\" class=\"dataframe\">\n  <thead>\n    <tr style=\"text-align: right;\">\n      <th></th>\n      <th>Feature</th>\n      <th>Importance</th>\n    </tr>\n  </thead>\n  <tbody>\n    <tr>\n      <th>0</th>\n      <td>age</td>\n      <td>35869.799805</td>\n    </tr>\n    <tr>\n      <th>3</th>\n      <td>industry</td>\n      <td>35869.799805</td>\n    </tr>\n    <tr>\n      <th>1</th>\n      <td>pre_spends</td>\n      <td>27904.770020</td>\n    </tr>\n    <tr>\n      <th>2</th>\n      <td>is_male</td>\n      <td>4301.930176</td>\n    </tr>\n  </tbody>\n</table>\n</div>"
     },
     "execution_count": 17,
     "metadata": {},
     "output_type": "execute_result"
    }
   ],
   "source": [
    "features_importance = model.lama_feature_select()\n",
    "features_importance"
   ]
  },
  {
   "cell_type": "code",
   "execution_count": 18,
   "metadata": {},
   "outputs": [],
   "source": [
    "features = features_importance['Feature'].to_list()"
   ]
  },
  {
   "cell_type": "code",
   "execution_count": 19,
   "metadata": {},
   "outputs": [
    {
     "name": "stderr",
     "output_type": "stream",
     "text": [
      "[20.06.2023 14:31:26 | matcher | INFO]: Applying matching\n"
     ]
    },
    {
     "name": "stdout",
     "output_type": "stream",
     "text": [
      "Finding index\n",
      "Done\n",
      "Finding index\n",
      "Done\n",
      "Finding index\n",
      "Done\n",
      "Finding index\n",
      "Done\n"
     ]
    },
    {
     "name": "stderr",
     "output_type": "stream",
     "text": [
      "[20.06.2023 14:31:26 | Faiss matcher | INFO]: Calculated the number of times each subject has appeared as a match: 432\n",
      "[20.06.2023 14:31:26 | Faiss matcher | INFO]: Calculated the number of times each subject has appeared as a match: 4974\n",
      "[20.06.2023 14:31:26 | Faiss matcher | INFO]: Estimating quality of matching\n",
      "[20.06.2023 14:31:26 | metrics | INFO]: Standardised mean difference: age           0.105958\n",
      "is_male       0.032310\n",
      "pre_spends    0.060660\n",
      "dtype: float64\n",
      "[20.06.2023 14:31:26 | metrics | INFO]: Standardised mean difference: age           0.055797\n",
      "is_male       0.002614\n",
      "pre_spends    0.038159\n",
      "dtype: float64\n",
      "[20.06.2023 14:31:26 | metrics | INFO]: Kolmogorov-Smirnov test to check matching quality: \n",
      "{'age': 0.02762403853104298, 'is_male': 0.21611127430192312, 'pre_spends': 0.24874017406832236}\n",
      "[20.06.2023 14:31:26 | metrics | INFO]: Kolmogorov-Smirnov test to check matching quality: \n",
      "{'age': 0.00205284617918978, 'is_male': 0.9999985915838465, 'pre_spends': 5.261320715314305e-05}\n",
      "[20.06.2023 14:31:26 | psi_pandas | INFO]: Creating report\n",
      "[20.06.2023 14:31:26 | psi_pandas | INFO]: PSI value:  0.068\n",
      "[20.06.2023 14:31:26 | psi_pandas | INFO]: PSI value:  0.000\n",
      "[20.06.2023 14:31:26 | psi_pandas | INFO]: PSI value:  16.111\n",
      "[20.06.2023 14:31:26 | psi_pandas | INFO]: PSI value:  0.042\n",
      "[20.06.2023 14:31:26 | psi_pandas | INFO]: Creating report\n",
      "[20.06.2023 14:31:26 | psi_pandas | INFO]: PSI value:  0.025\n",
      "[20.06.2023 14:31:26 | psi_pandas | INFO]: PSI value:  0.000\n",
      "[20.06.2023 14:31:26 | psi_pandas | INFO]: PSI value:  8.270\n",
      "[20.06.2023 14:31:26 | psi_pandas | INFO]: PSI value:  0.047\n",
      "[20.06.2023 14:31:26 | metrics | INFO]: Fraction of duplicated indexes:  0.93\n",
      "[20.06.2023 14:31:26 | metrics | INFO]: Fraction of duplicated indexes:  0.08\n",
      "[20.06.2023 14:31:26 | Faiss matcher | INFO]: PSI info: \n",
      "                 column  anomaly_score check_result                 column  \\\n",
      "0          age_treated           0.07           OK          age_untreated   \n",
      "1     industry_treated           0.00           OK     industry_untreated   \n",
      "2  post_spends_treated          16.11          NOK  post_spends_untreated   \n",
      "3   pre_spends_treated           0.04           OK   pre_spends_untreated   \n",
      "\n",
      "   anomaly_score check_result  \n",
      "0           0.03           OK  \n",
      "1           0.00           OK  \n",
      "2           8.27          NOK  \n",
      "3           0.05           OK   \n",
      "shape:(4, 6)\n",
      "[20.06.2023 14:31:26 | Faiss matcher | INFO]: Kolmogorov-Smirnov test info: \n",
      "             match_control_to_treat  match_treat_to_control\n",
      "age                       0.027624                0.002053\n",
      "is_male                   0.216111                0.999999\n",
      "pre_spends                0.248740                0.000053 \n",
      "shape:(3, 2)\n",
      "[20.06.2023 14:31:26 | Faiss matcher | INFO]: Standardised mean difference info: \n",
      "             match_control_to_treat  match_treat_to_control\n",
      "age                       0.105958                0.055797\n",
      "is_male                   0.032310                0.002614\n",
      "pre_spends                0.060660                0.038159 \n",
      "shape:(3, 2)\n",
      "[20.06.2023 14:31:26 | Faiss matcher | INFO]: Repeats info: \n",
      "                         value\n",
      "match_control_to_treat   0.93\n",
      "match_treat_to_control   0.08\n"
     ]
    }
   ],
   "source": [
    "# You can use both variant that you like. So you can just list the features to be matched\n",
    "\n",
    "#results, quality_results = model.estimate(features=features_importance[:3])\n",
    "results, quality_results = model.estimate(features=features[:3])"
   ]
  },
  {
   "cell_type": "code",
   "execution_count": 20,
   "metadata": {},
   "outputs": [
    {
     "data": {
      "text/plain": "      index  pre_spends  age  is_male industry  user_id  signup_month  \\\n0      2230       489.0   29        1        1     4193             3   \n1      2217       466.0   19        0        1     4167             3   \n2      2244       479.0   42        1        1     4228             3   \n3      2262       520.5   59        1        1     4261             3   \n4      2101       518.0   55        0        1     3945             3   \n...     ...         ...  ...      ...      ...      ...           ...   \n4969   2397       502.5   51        1        2     4489             0   \n4970   2399       491.5   57        0        2     4492             0   \n4971   2402       484.0   52        1        2     4496             0   \n4972   2337       468.5   37        1        2     4383             0   \n4973   5405       470.5   52        0        2     9996             0   \n\n      pre_spends_matched  age_matched  is_male_matched  user_id_matched  \\\n0                 463.00         24.0              1.0           4027.0   \n1                 489.50         21.0              1.0           6442.0   \n2                 463.00         30.0              1.0           4373.0   \n3                 479.00         32.0              0.0           5126.0   \n4                 486.25         32.5              0.0           4776.5   \n...                  ...          ...              ...              ...   \n4969              469.00         25.0              1.0           7893.0   \n4970              509.00         58.0              0.0           6529.0   \n4971              472.50         51.0              1.0           5599.0   \n4972              475.00         46.0              1.0           6122.0   \n4973              479.50         69.0              1.0           4358.0   \n\n      signup_month_matched industry_matched index_matched  post_spends  \\\n0                      0.0                2        [5047]   520.444444   \n1                      0.0                2        [1118]   517.666667   \n2                      0.0                2         [320]   533.888889   \n3                      0.0                2        [1152]   513.666667   \n4                      0.0                1   [1878, 106]   530.222222   \n...                    ...              ...           ...          ...   \n4969                   3.0                2        [3227]   425.111111   \n4970                   0.0                2        [4817]   415.333333   \n4971                   0.0                2        [1377]   412.666667   \n4972                   0.0                1        [4938]   419.000000   \n4973                   0.0                2         [314]   426.555556   \n\n      post_spends_matched  post_spends_matched_bias  treat  treat_matched  \n0              424.888889                 95.555556      1              0  \n1              416.111111                101.552486      1              0  \n2              422.666667                111.216084      1              0  \n3              423.444444                 90.238594      1              0  \n4              427.388889                103.374920      1              0  \n...                   ...                       ...    ...            ...  \n4969           522.777778                 97.666667      0              1  \n4970           523.777778                109.208422      0              1  \n4971           525.555556                112.885100      0              1  \n4972           512.888889                 93.120936      0              1  \n4973           518.888889                 93.124020      0              1  \n\n[5406 rows x 19 columns]",
      "text/html": "<div>\n<style scoped>\n    .dataframe tbody tr th:only-of-type {\n        vertical-align: middle;\n    }\n\n    .dataframe tbody tr th {\n        vertical-align: top;\n    }\n\n    .dataframe thead th {\n        text-align: right;\n    }\n</style>\n<table border=\"1\" class=\"dataframe\">\n  <thead>\n    <tr style=\"text-align: right;\">\n      <th></th>\n      <th>index</th>\n      <th>pre_spends</th>\n      <th>age</th>\n      <th>is_male</th>\n      <th>industry</th>\n      <th>user_id</th>\n      <th>signup_month</th>\n      <th>pre_spends_matched</th>\n      <th>age_matched</th>\n      <th>is_male_matched</th>\n      <th>user_id_matched</th>\n      <th>signup_month_matched</th>\n      <th>industry_matched</th>\n      <th>index_matched</th>\n      <th>post_spends</th>\n      <th>post_spends_matched</th>\n      <th>post_spends_matched_bias</th>\n      <th>treat</th>\n      <th>treat_matched</th>\n    </tr>\n  </thead>\n  <tbody>\n    <tr>\n      <th>0</th>\n      <td>2230</td>\n      <td>489.0</td>\n      <td>29</td>\n      <td>1</td>\n      <td>1</td>\n      <td>4193</td>\n      <td>3</td>\n      <td>463.00</td>\n      <td>24.0</td>\n      <td>1.0</td>\n      <td>4027.0</td>\n      <td>0.0</td>\n      <td>2</td>\n      <td>[5047]</td>\n      <td>520.444444</td>\n      <td>424.888889</td>\n      <td>95.555556</td>\n      <td>1</td>\n      <td>0</td>\n    </tr>\n    <tr>\n      <th>1</th>\n      <td>2217</td>\n      <td>466.0</td>\n      <td>19</td>\n      <td>0</td>\n      <td>1</td>\n      <td>4167</td>\n      <td>3</td>\n      <td>489.50</td>\n      <td>21.0</td>\n      <td>1.0</td>\n      <td>6442.0</td>\n      <td>0.0</td>\n      <td>2</td>\n      <td>[1118]</td>\n      <td>517.666667</td>\n      <td>416.111111</td>\n      <td>101.552486</td>\n      <td>1</td>\n      <td>0</td>\n    </tr>\n    <tr>\n      <th>2</th>\n      <td>2244</td>\n      <td>479.0</td>\n      <td>42</td>\n      <td>1</td>\n      <td>1</td>\n      <td>4228</td>\n      <td>3</td>\n      <td>463.00</td>\n      <td>30.0</td>\n      <td>1.0</td>\n      <td>4373.0</td>\n      <td>0.0</td>\n      <td>2</td>\n      <td>[320]</td>\n      <td>533.888889</td>\n      <td>422.666667</td>\n      <td>111.216084</td>\n      <td>1</td>\n      <td>0</td>\n    </tr>\n    <tr>\n      <th>3</th>\n      <td>2262</td>\n      <td>520.5</td>\n      <td>59</td>\n      <td>1</td>\n      <td>1</td>\n      <td>4261</td>\n      <td>3</td>\n      <td>479.00</td>\n      <td>32.0</td>\n      <td>0.0</td>\n      <td>5126.0</td>\n      <td>0.0</td>\n      <td>2</td>\n      <td>[1152]</td>\n      <td>513.666667</td>\n      <td>423.444444</td>\n      <td>90.238594</td>\n      <td>1</td>\n      <td>0</td>\n    </tr>\n    <tr>\n      <th>4</th>\n      <td>2101</td>\n      <td>518.0</td>\n      <td>55</td>\n      <td>0</td>\n      <td>1</td>\n      <td>3945</td>\n      <td>3</td>\n      <td>486.25</td>\n      <td>32.5</td>\n      <td>0.0</td>\n      <td>4776.5</td>\n      <td>0.0</td>\n      <td>1</td>\n      <td>[1878, 106]</td>\n      <td>530.222222</td>\n      <td>427.388889</td>\n      <td>103.374920</td>\n      <td>1</td>\n      <td>0</td>\n    </tr>\n    <tr>\n      <th>...</th>\n      <td>...</td>\n      <td>...</td>\n      <td>...</td>\n      <td>...</td>\n      <td>...</td>\n      <td>...</td>\n      <td>...</td>\n      <td>...</td>\n      <td>...</td>\n      <td>...</td>\n      <td>...</td>\n      <td>...</td>\n      <td>...</td>\n      <td>...</td>\n      <td>...</td>\n      <td>...</td>\n      <td>...</td>\n      <td>...</td>\n      <td>...</td>\n    </tr>\n    <tr>\n      <th>4969</th>\n      <td>2397</td>\n      <td>502.5</td>\n      <td>51</td>\n      <td>1</td>\n      <td>2</td>\n      <td>4489</td>\n      <td>0</td>\n      <td>469.00</td>\n      <td>25.0</td>\n      <td>1.0</td>\n      <td>7893.0</td>\n      <td>3.0</td>\n      <td>2</td>\n      <td>[3227]</td>\n      <td>425.111111</td>\n      <td>522.777778</td>\n      <td>97.666667</td>\n      <td>0</td>\n      <td>1</td>\n    </tr>\n    <tr>\n      <th>4970</th>\n      <td>2399</td>\n      <td>491.5</td>\n      <td>57</td>\n      <td>0</td>\n      <td>2</td>\n      <td>4492</td>\n      <td>0</td>\n      <td>509.00</td>\n      <td>58.0</td>\n      <td>0.0</td>\n      <td>6529.0</td>\n      <td>0.0</td>\n      <td>2</td>\n      <td>[4817]</td>\n      <td>415.333333</td>\n      <td>523.777778</td>\n      <td>109.208422</td>\n      <td>0</td>\n      <td>1</td>\n    </tr>\n    <tr>\n      <th>4971</th>\n      <td>2402</td>\n      <td>484.0</td>\n      <td>52</td>\n      <td>1</td>\n      <td>2</td>\n      <td>4496</td>\n      <td>0</td>\n      <td>472.50</td>\n      <td>51.0</td>\n      <td>1.0</td>\n      <td>5599.0</td>\n      <td>0.0</td>\n      <td>2</td>\n      <td>[1377]</td>\n      <td>412.666667</td>\n      <td>525.555556</td>\n      <td>112.885100</td>\n      <td>0</td>\n      <td>1</td>\n    </tr>\n    <tr>\n      <th>4972</th>\n      <td>2337</td>\n      <td>468.5</td>\n      <td>37</td>\n      <td>1</td>\n      <td>2</td>\n      <td>4383</td>\n      <td>0</td>\n      <td>475.00</td>\n      <td>46.0</td>\n      <td>1.0</td>\n      <td>6122.0</td>\n      <td>0.0</td>\n      <td>1</td>\n      <td>[4938]</td>\n      <td>419.000000</td>\n      <td>512.888889</td>\n      <td>93.120936</td>\n      <td>0</td>\n      <td>1</td>\n    </tr>\n    <tr>\n      <th>4973</th>\n      <td>5405</td>\n      <td>470.5</td>\n      <td>52</td>\n      <td>0</td>\n      <td>2</td>\n      <td>9996</td>\n      <td>0</td>\n      <td>479.50</td>\n      <td>69.0</td>\n      <td>1.0</td>\n      <td>4358.0</td>\n      <td>0.0</td>\n      <td>2</td>\n      <td>[314]</td>\n      <td>426.555556</td>\n      <td>518.888889</td>\n      <td>93.124020</td>\n      <td>0</td>\n      <td>1</td>\n    </tr>\n  </tbody>\n</table>\n<p>5406 rows × 19 columns</p>\n</div>"
     },
     "execution_count": 20,
     "metadata": {},
     "output_type": "execute_result"
    }
   ],
   "source": [
    "model.matcher.df_matched"
   ]
  },
  {
   "cell_type": "markdown",
   "metadata": {},
   "source": [
    "## 3. Results  \n",
    "### 3.1 ATE, ATT, ATC"
   ]
  },
  {
   "cell_type": "code",
   "execution_count": 21,
   "metadata": {},
   "outputs": [
    {
     "data": {
      "text/plain": "     effect_size   std_err  p-val   ci_lower    ci_upper\nATE   100.245509  0.586057    0.0  99.096838  101.394180\nATC   100.293702  0.596747    0.0  99.124077  101.463326\nATT    99.690621  0.704271    0.0  98.310251  101.070991",
      "text/html": "<div>\n<style scoped>\n    .dataframe tbody tr th:only-of-type {\n        vertical-align: middle;\n    }\n\n    .dataframe tbody tr th {\n        vertical-align: top;\n    }\n\n    .dataframe thead th {\n        text-align: right;\n    }\n</style>\n<table border=\"1\" class=\"dataframe\">\n  <thead>\n    <tr style=\"text-align: right;\">\n      <th></th>\n      <th>effect_size</th>\n      <th>std_err</th>\n      <th>p-val</th>\n      <th>ci_lower</th>\n      <th>ci_upper</th>\n    </tr>\n  </thead>\n  <tbody>\n    <tr>\n      <th>ATE</th>\n      <td>100.245509</td>\n      <td>0.586057</td>\n      <td>0.0</td>\n      <td>99.096838</td>\n      <td>101.394180</td>\n    </tr>\n    <tr>\n      <th>ATC</th>\n      <td>100.293702</td>\n      <td>0.596747</td>\n      <td>0.0</td>\n      <td>99.124077</td>\n      <td>101.463326</td>\n    </tr>\n    <tr>\n      <th>ATT</th>\n      <td>99.690621</td>\n      <td>0.704271</td>\n      <td>0.0</td>\n      <td>98.310251</td>\n      <td>101.070991</td>\n    </tr>\n  </tbody>\n</table>\n</div>"
     },
     "execution_count": 21,
     "metadata": {},
     "output_type": "execute_result"
    }
   ],
   "source": [
    "# model.matcher.results\n",
    "results"
   ]
  },
  {
   "cell_type": "markdown",
   "metadata": {},
   "source": [
    "### 3.2 SMD, PSI, KS-test, repeats"
   ]
  },
  {
   "cell_type": "code",
   "execution_count": 22,
   "metadata": {},
   "outputs": [
    {
     "data": {
      "text/plain": "{'psi':                 column  anomaly_score check_result                 column  \\\n 0          age_treated           0.07           OK          age_untreated   \n 1     industry_treated           0.00           OK     industry_untreated   \n 2  post_spends_treated          16.11          NOK  post_spends_untreated   \n 3   pre_spends_treated           0.04           OK   pre_spends_untreated   \n \n    anomaly_score check_result  \n 0           0.03           OK  \n 1           0.00           OK  \n 2           8.27          NOK  \n 3           0.05           OK  ,\n 'ks_test':             match_control_to_treat  match_treat_to_control\n age                       0.027624                0.002053\n is_male                   0.216111                0.999999\n pre_spends                0.248740                0.000053,\n 'smd':             match_control_to_treat  match_treat_to_control\n age                       0.105958                0.055797\n is_male                   0.032310                0.002614\n pre_spends                0.060660                0.038159,\n 'repeats': {'match_control_to_treat': 0.93, 'match_treat_to_control': 0.08}}"
     },
     "execution_count": 22,
     "metadata": {},
     "output_type": "execute_result"
    }
   ],
   "source": [
    "# matching quality result - SMD\n",
    "model.quality_result"
   ]
  },
  {
   "cell_type": "code",
   "execution_count": 23,
   "metadata": {},
   "outputs": [
    {
     "data": {
      "text/plain": "                column  anomaly_score check_result                 column  \\\n0          age_treated           0.07           OK          age_untreated   \n1     industry_treated           0.00           OK     industry_untreated   \n2  post_spends_treated          16.11          NOK  post_spends_untreated   \n3   pre_spends_treated           0.04           OK   pre_spends_untreated   \n\n   anomaly_score check_result  \n0           0.03           OK  \n1           0.00           OK  \n2           8.27          NOK  \n3           0.05           OK  ",
      "text/html": "<div>\n<style scoped>\n    .dataframe tbody tr th:only-of-type {\n        vertical-align: middle;\n    }\n\n    .dataframe tbody tr th {\n        vertical-align: top;\n    }\n\n    .dataframe thead th {\n        text-align: right;\n    }\n</style>\n<table border=\"1\" class=\"dataframe\">\n  <thead>\n    <tr style=\"text-align: right;\">\n      <th></th>\n      <th>column</th>\n      <th>anomaly_score</th>\n      <th>check_result</th>\n      <th>column</th>\n      <th>anomaly_score</th>\n      <th>check_result</th>\n    </tr>\n  </thead>\n  <tbody>\n    <tr>\n      <th>0</th>\n      <td>age_treated</td>\n      <td>0.07</td>\n      <td>OK</td>\n      <td>age_untreated</td>\n      <td>0.03</td>\n      <td>OK</td>\n    </tr>\n    <tr>\n      <th>1</th>\n      <td>industry_treated</td>\n      <td>0.00</td>\n      <td>OK</td>\n      <td>industry_untreated</td>\n      <td>0.00</td>\n      <td>OK</td>\n    </tr>\n    <tr>\n      <th>2</th>\n      <td>post_spends_treated</td>\n      <td>16.11</td>\n      <td>NOK</td>\n      <td>post_spends_untreated</td>\n      <td>8.27</td>\n      <td>NOK</td>\n    </tr>\n    <tr>\n      <th>3</th>\n      <td>pre_spends_treated</td>\n      <td>0.04</td>\n      <td>OK</td>\n      <td>pre_spends_untreated</td>\n      <td>0.05</td>\n      <td>OK</td>\n    </tr>\n  </tbody>\n</table>\n</div>"
     },
     "execution_count": 23,
     "metadata": {},
     "output_type": "execute_result"
    }
   ],
   "source": [
    "# matching quality result - PSI\n",
    "model.quality_result['psi']"
   ]
  },
  {
   "cell_type": "code",
   "execution_count": 24,
   "metadata": {},
   "outputs": [
    {
     "data": {
      "text/plain": "            match_control_to_treat  match_treat_to_control\nage                       0.027624                0.002053\nis_male                   0.216111                0.999999\npre_spends                0.248740                0.000053",
      "text/html": "<div>\n<style scoped>\n    .dataframe tbody tr th:only-of-type {\n        vertical-align: middle;\n    }\n\n    .dataframe tbody tr th {\n        vertical-align: top;\n    }\n\n    .dataframe thead th {\n        text-align: right;\n    }\n</style>\n<table border=\"1\" class=\"dataframe\">\n  <thead>\n    <tr style=\"text-align: right;\">\n      <th></th>\n      <th>match_control_to_treat</th>\n      <th>match_treat_to_control</th>\n    </tr>\n  </thead>\n  <tbody>\n    <tr>\n      <th>age</th>\n      <td>0.027624</td>\n      <td>0.002053</td>\n    </tr>\n    <tr>\n      <th>is_male</th>\n      <td>0.216111</td>\n      <td>0.999999</td>\n    </tr>\n    <tr>\n      <th>pre_spends</th>\n      <td>0.248740</td>\n      <td>0.000053</td>\n    </tr>\n  </tbody>\n</table>\n</div>"
     },
     "execution_count": 24,
     "metadata": {},
     "output_type": "execute_result"
    }
   ],
   "source": [
    "# matching quality result - KS-test\n",
    "\n",
    "model.quality_result['ks_test']"
   ]
  },
  {
   "cell_type": "code",
   "execution_count": 25,
   "metadata": {},
   "outputs": [
    {
     "data": {
      "text/plain": "{'match_control_to_treat': 0.93, 'match_treat_to_control': 0.08}"
     },
     "execution_count": 25,
     "metadata": {},
     "output_type": "execute_result"
    }
   ],
   "source": [
    "# matching quality result - repeats\n",
    "model.quality_result['repeats']"
   ]
  },
  {
   "cell_type": "markdown",
   "metadata": {},
   "source": [
    "### 3.3 Validation\n",
    "validate result with placebo treatment  \n",
    "our new effect size is close to zero (it should be)"
   ]
  },
  {
   "cell_type": "code",
   "execution_count": 26,
   "metadata": {},
   "outputs": [
    {
     "name": "stderr",
     "output_type": "stream",
     "text": [
      "[20.06.2023 14:31:36 | matcher | INFO]: Applying validation of result\n"
     ]
    },
    {
     "name": "stdout",
     "output_type": "stream",
     "text": [
      "Finding index\n",
      "Done\n",
      "Finding index\n",
      "Done\n",
      "Finding index\n",
      "Done\n",
      "Finding index\n",
      "Done\n"
     ]
    },
    {
     "name": "stderr",
     "output_type": "stream",
     "text": [
      "[20.06.2023 14:31:36 | Faiss matcher | INFO]: Calculated the number of times each subject has appeared as a match: 432\n",
      "[20.06.2023 14:31:36 | Faiss matcher | INFO]: Calculated the number of times each subject has appeared as a match: 4974\n"
     ]
    },
    {
     "ename": "LinAlgError",
     "evalue": "Matrix is not positive definite",
     "output_type": "error",
     "traceback": [
      "\u001B[0;31m---------------------------------------------------------------------------\u001B[0m",
      "\u001B[0;31mLinAlgError\u001B[0m                               Traceback (most recent call last)",
      "Cell \u001B[0;32mIn[26], line 1\u001B[0m\n\u001B[0;32m----> 1\u001B[0m \u001B[43mmodel\u001B[49m\u001B[38;5;241;43m.\u001B[39;49m\u001B[43mvalidate_result\u001B[49m\u001B[43m(\u001B[49m\u001B[43m)\u001B[49m\n",
      "File \u001B[0;32m~/PycharmProjects/matcher/lightautoml/addons/matcher/matcher.py:273\u001B[0m, in \u001B[0;36mMatcher.validate_result\u001B[0;34m(self, refuter, n_sim, fraction)\u001B[0m\n\u001B[1;32m    271\u001B[0m     sim \u001B[38;5;241m=\u001B[39m \u001B[38;5;28mself\u001B[39m\u001B[38;5;241m.\u001B[39mmatcher\u001B[38;5;241m.\u001B[39mmatch()\n\u001B[1;32m    272\u001B[0m \u001B[38;5;28;01melse\u001B[39;00m:\n\u001B[0;32m--> 273\u001B[0m     sim \u001B[38;5;241m=\u001B[39m \u001B[38;5;28;43mself\u001B[39;49m\u001B[38;5;241;43m.\u001B[39;49m\u001B[43mmatcher\u001B[49m\u001B[38;5;241;43m.\u001B[39;49m\u001B[43mgroup_match\u001B[49m\u001B[43m(\u001B[49m\u001B[43m)\u001B[49m\n\u001B[1;32m    275\u001B[0m \u001B[38;5;28;01mfor\u001B[39;00m key \u001B[38;5;129;01min\u001B[39;00m \u001B[38;5;28mself\u001B[39m\u001B[38;5;241m.\u001B[39mval_dict\u001B[38;5;241m.\u001B[39mkeys():\n\u001B[1;32m    276\u001B[0m     \u001B[38;5;28mself\u001B[39m\u001B[38;5;241m.\u001B[39mval_dict[key]\u001B[38;5;241m.\u001B[39mappend(sim[key][\u001B[38;5;241m0\u001B[39m])\n",
      "File \u001B[0;32m~/PycharmProjects/matcher/lightautoml/addons/matcher/algorithms/faiss_matcher.py:413\u001B[0m, in \u001B[0;36mFaissMatcher.group_match\u001B[0;34m(self)\u001B[0m\n\u001B[1;32m    410\u001B[0m \u001B[38;5;28;01mfor\u001B[39;00m i, ind \u001B[38;5;129;01min\u001B[39;00m \u001B[38;5;28menumerate\u001B[39m(temp[temp[\u001B[38;5;28mself\u001B[39m\u001B[38;5;241m.\u001B[39mtreatment] \u001B[38;5;241m==\u001B[39m \u001B[38;5;241m0\u001B[39m]\u001B[38;5;241m.\u001B[39mindex):\n\u001B[1;32m    411\u001B[0m     untreated_index\u001B[38;5;241m.\u001B[39mupdate({i: ind})\n\u001B[0;32m--> 413\u001B[0m std_treated_np, std_untreated_np \u001B[38;5;241m=\u001B[39m \u001B[43m_transform_to_np\u001B[49m\u001B[43m(\u001B[49m\u001B[43mtreated\u001B[49m\u001B[43m,\u001B[49m\u001B[43m \u001B[49m\u001B[43muntreated\u001B[49m\u001B[43m)\u001B[49m\n\u001B[1;32m    415\u001B[0m matches_c \u001B[38;5;241m=\u001B[39m _get_index(std_treated_np, std_untreated_np, \u001B[38;5;28mself\u001B[39m\u001B[38;5;241m.\u001B[39mn_neighbors)\n\u001B[1;32m    416\u001B[0m matches_t \u001B[38;5;241m=\u001B[39m _get_index(std_untreated_np, std_treated_np, \u001B[38;5;28mself\u001B[39m\u001B[38;5;241m.\u001B[39mn_neighbors)\n",
      "File \u001B[0;32m~/PycharmProjects/matcher/lightautoml/addons/matcher/algorithms/faiss_matcher.py:529\u001B[0m, in \u001B[0;36m_transform_to_np\u001B[0;34m(treated, untreated)\u001B[0m\n\u001B[1;32m    526\u001B[0m cov_t \u001B[38;5;241m=\u001B[39m np\u001B[38;5;241m.\u001B[39mcov(xt, rowvar\u001B[38;5;241m=\u001B[39m\u001B[38;5;28;01mFalse\u001B[39;00m, ddof\u001B[38;5;241m=\u001B[39m\u001B[38;5;241m0\u001B[39m)\n\u001B[1;32m    527\u001B[0m cov \u001B[38;5;241m=\u001B[39m (cov_c \u001B[38;5;241m+\u001B[39m cov_t) \u001B[38;5;241m/\u001B[39m \u001B[38;5;241m2\u001B[39m\n\u001B[0;32m--> 529\u001B[0m L \u001B[38;5;241m=\u001B[39m \u001B[43mnp\u001B[49m\u001B[38;5;241;43m.\u001B[39;49m\u001B[43mlinalg\u001B[49m\u001B[38;5;241;43m.\u001B[39;49m\u001B[43mcholesky\u001B[49m\u001B[43m(\u001B[49m\u001B[43mcov\u001B[49m\u001B[43m)\u001B[49m\n\u001B[1;32m    530\u001B[0m mahalanobis_transform \u001B[38;5;241m=\u001B[39m np\u001B[38;5;241m.\u001B[39mlinalg\u001B[38;5;241m.\u001B[39minv(L)\n\u001B[1;32m    531\u001B[0m yc \u001B[38;5;241m=\u001B[39m np\u001B[38;5;241m.\u001B[39mdot(xc, mahalanobis_transform\u001B[38;5;241m.\u001B[39mT)\n",
      "File \u001B[0;32m<__array_function__ internals>:180\u001B[0m, in \u001B[0;36mcholesky\u001B[0;34m(*args, **kwargs)\u001B[0m\n",
      "File \u001B[0;32m~/PycharmProjects/matcher/venv/lib/python3.8/site-packages/numpy/linalg/linalg.py:770\u001B[0m, in \u001B[0;36mcholesky\u001B[0;34m(a)\u001B[0m\n\u001B[1;32m    768\u001B[0m t, result_t \u001B[38;5;241m=\u001B[39m _commonType(a)\n\u001B[1;32m    769\u001B[0m signature \u001B[38;5;241m=\u001B[39m \u001B[38;5;124m'\u001B[39m\u001B[38;5;124mD->D\u001B[39m\u001B[38;5;124m'\u001B[39m \u001B[38;5;28;01mif\u001B[39;00m isComplexType(t) \u001B[38;5;28;01melse\u001B[39;00m \u001B[38;5;124m'\u001B[39m\u001B[38;5;124md->d\u001B[39m\u001B[38;5;124m'\u001B[39m\n\u001B[0;32m--> 770\u001B[0m r \u001B[38;5;241m=\u001B[39m \u001B[43mgufunc\u001B[49m\u001B[43m(\u001B[49m\u001B[43ma\u001B[49m\u001B[43m,\u001B[49m\u001B[43m \u001B[49m\u001B[43msignature\u001B[49m\u001B[38;5;241;43m=\u001B[39;49m\u001B[43msignature\u001B[49m\u001B[43m,\u001B[49m\u001B[43m \u001B[49m\u001B[43mextobj\u001B[49m\u001B[38;5;241;43m=\u001B[39;49m\u001B[43mextobj\u001B[49m\u001B[43m)\u001B[49m\n\u001B[1;32m    771\u001B[0m \u001B[38;5;28;01mreturn\u001B[39;00m wrap(r\u001B[38;5;241m.\u001B[39mastype(result_t, copy\u001B[38;5;241m=\u001B[39m\u001B[38;5;28;01mFalse\u001B[39;00m))\n",
      "File \u001B[0;32m~/PycharmProjects/matcher/venv/lib/python3.8/site-packages/numpy/linalg/linalg.py:92\u001B[0m, in \u001B[0;36m_raise_linalgerror_nonposdef\u001B[0;34m(err, flag)\u001B[0m\n\u001B[1;32m     91\u001B[0m \u001B[38;5;28;01mdef\u001B[39;00m \u001B[38;5;21m_raise_linalgerror_nonposdef\u001B[39m(err, flag):\n\u001B[0;32m---> 92\u001B[0m     \u001B[38;5;28;01mraise\u001B[39;00m LinAlgError(\u001B[38;5;124m\"\u001B[39m\u001B[38;5;124mMatrix is not positive definite\u001B[39m\u001B[38;5;124m\"\u001B[39m)\n",
      "\u001B[0;31mLinAlgError\u001B[0m: Matrix is not positive definite"
     ]
    }
   ],
   "source": [
    " \n",
    "model.validate_result()\n",
    " "
   ]
  },
  {
   "cell_type": "code",
   "execution_count": null,
   "metadata": {},
   "outputs": [],
   "source": []
  },
  {
   "cell_type": "code",
   "execution_count": null,
   "metadata": {},
   "outputs": [],
   "source": [
    "model.matcher.df_matched"
   ]
  },
  {
   "cell_type": "code",
   "execution_count": null,
   "metadata": {},
   "outputs": [],
   "source": []
  },
  {
   "cell_type": "code",
   "execution_count": null,
   "metadata": {},
   "outputs": [],
   "source": []
  },
  {
   "cell_type": "code",
   "execution_count": null,
   "metadata": {},
   "outputs": [],
   "source": []
  },
  {
   "cell_type": "code",
   "execution_count": null,
   "metadata": {},
   "outputs": [],
   "source": []
  },
  {
   "cell_type": "code",
   "execution_count": null,
   "metadata": {},
   "outputs": [],
   "source": []
  },
  {
   "cell_type": "code",
   "execution_count": null,
   "metadata": {},
   "outputs": [],
   "source": []
  },
  {
   "cell_type": "code",
   "execution_count": null,
   "metadata": {},
   "outputs": [],
   "source": []
  },
  {
   "cell_type": "code",
   "execution_count": null,
   "metadata": {},
   "outputs": [],
   "source": []
  },
  {
   "cell_type": "code",
   "execution_count": null,
   "metadata": {},
   "outputs": [],
   "source": []
  }
 ],
 "metadata": {
  "kernelspec": {
   "display_name": "Python 3 (ipykernel)",
   "language": "python",
   "name": "python3"
  },
  "language_info": {
   "codemirror_mode": {
    "name": "ipython",
    "version": 3
   },
   "file_extension": ".py",
   "mimetype": "text/x-python",
   "name": "python",
   "nbconvert_exporter": "python",
   "pygments_lexer": "ipython3",
   "version": "3.10.9"
  }
 },
 "nbformat": 4,
 "nbformat_minor": 1
}

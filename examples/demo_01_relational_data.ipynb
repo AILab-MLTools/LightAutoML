{
 "cells": [
  {
   "cell_type": "code",
   "execution_count": 1,
   "id": "4a75e00d",
   "metadata": {},
   "outputs": [],
   "source": [
    "from lightautoml.dataset.seq_np_pd_dataset import SeqNumpyPandasDataset\n",
    "from lightautoml.reader.seq import IDSInd, TopInd\n",
    "from lightautoml.reader.base import DictToPandasSeqReader\n",
    "from lightautoml.tasks import Task\n",
    "import pandas as pd\n",
    "import numpy as np\n",
    "from lightautoml.automl.base import AutoML\n",
    "from lightautoml.ml_algo.boost_lgbm import BoostLGBM\n",
    "\n",
    "from lightautoml.pipelines.features.lgb_pipeline import LGBSimpleFeatures, LGBSeqSimpleFeatures, LGBMultiSeqSimpleFeatures\n",
    "from lightautoml.pipelines.ml.base import MLPipeline\n",
    "\n",
    "import numpy as np"
   ]
  },
  {
   "cell_type": "code",
   "execution_count": 2,
   "id": "378deeba",
   "metadata": {},
   "outputs": [],
   "source": [
    "import pandas as pd\n",
    "import numpy as np\n",
    "\n",
    "DATA_FOLDER = '../data/relational_data'\n",
    "\n",
    "fulfilment_center_info = pd.read_csv(f'{DATA_FOLDER}/fulfilment_center_info.csv')\n",
    "meal_info = pd.read_csv(f'{DATA_FOLDER}/meal_info.csv')\n",
    "train = pd.read_csv(f'{DATA_FOLDER}/train.csv')\n",
    "\n",
    "val = 0.05\n"
   ]
  },
  {
   "cell_type": "code",
   "execution_count": 3,
   "id": "5cbd0d9f",
   "metadata": {},
   "outputs": [],
   "source": [
    "seq_params = {\n",
    "              'fulfilment_center_info':{'case': 'ids',\n",
    "                       'params': {},\n",
    "                       'scheme': {'to': 'plain', 'from_id': 'center_id', 'to_id': 'center_id'},\n",
    "                          },\n",
    "              'meal_info':{'case': 'ids',\n",
    "                       'params': {},\n",
    "                       'scheme': {'to': 'plain', 'from_id': 'meal_id', 'to_id': 'meal_id'},\n",
    "                          },\n",
    "              }\n",
    "seq_data = {'fulfilment_center_info': fulfilment_center_info[['center_id',\n",
    "                                                              'city_code',\n",
    "                                                              'region_code',\n",
    "                                                              'op_area']],\n",
    "       'meal_info': meal_info              \n",
    "       }\n",
    "\n",
    "X_train = {'plain':train.sample(frac=0.05).reset_index(drop=True) , \n",
    "           'seq': seq_data\n",
    "          }\n",
    "\n",
    "task = Task('reg', metric='mae')\n",
    "\n",
    "roles={'target': 'num_orders'}\n",
    "\n",
    "\n"
   ]
  },
  {
   "cell_type": "code",
   "execution_count": 4,
   "id": "59f34c68",
   "metadata": {},
   "outputs": [],
   "source": [
    "task = Task('reg', metric='mae')\n",
    "roles={'target': 'num_orders'}\n",
    "reader = DictToPandasSeqReader(task=task, seq_params=seq_params)\n",
    "\n",
    "feats = LGBMultiSeqSimpleFeatures()\n",
    "model = BoostLGBM()\n",
    "pipeline_lvl1 = MLPipeline([model], pre_selection=None, features_pipeline=feats, post_selection=None)\n",
    "\n",
    "automl = AutoML(reader, [\n",
    "    [pipeline_lvl1],\n",
    "], skip_conn=False)"
   ]
  },
  {
   "cell_type": "code",
   "execution_count": 5,
   "id": "896f7e95",
   "metadata": {},
   "outputs": [
    {
     "name": "stdout",
     "output_type": "stream",
     "text": [
      "Feats was rejected during automatic roles guess: []\n",
      "[00:42:35] Layer \u001b[1m1\u001b[0m train process start. Time left 9999999996.70 secs\n",
      "[00:42:36] Start fitting \u001b[1mLvl_0_Pipe_0_Mod_0_LightGBM\u001b[0m ...\n",
      "[00:42:36] ===== Start working with \u001b[1mfold 0\u001b[0m for \u001b[1mLvl_0_Pipe_0_Mod_0_LightGBM\u001b[0m =====\n",
      "[00:42:36] Training until validation scores don't improve for 100 rounds\n",
      "[00:42:37] ===== Start working with \u001b[1mfold 1\u001b[0m for \u001b[1mLvl_0_Pipe_0_Mod_0_LightGBM\u001b[0m =====\n",
      "[00:42:37] Training until validation scores don't improve for 100 rounds\n",
      "[00:42:38] ===== Start working with \u001b[1mfold 2\u001b[0m for \u001b[1mLvl_0_Pipe_0_Mod_0_LightGBM\u001b[0m =====\n",
      "[00:42:38] Training until validation scores don't improve for 100 rounds\n",
      "[00:42:39] ===== Start working with \u001b[1mfold 3\u001b[0m for \u001b[1mLvl_0_Pipe_0_Mod_0_LightGBM\u001b[0m =====\n",
      "[00:42:39] Training until validation scores don't improve for 100 rounds\n",
      "[00:42:40] ===== Start working with \u001b[1mfold 4\u001b[0m for \u001b[1mLvl_0_Pipe_0_Mod_0_LightGBM\u001b[0m =====\n",
      "[00:42:40] Training until validation scores don't improve for 100 rounds\n",
      "[00:42:41] Fitting \u001b[1mLvl_0_Pipe_0_Mod_0_LightGBM\u001b[0m finished. score = \u001b[1m-111.06823838601898\u001b[0m\n",
      "[00:42:41] \u001b[1mLvl_0_Pipe_0_Mod_0_LightGBM\u001b[0m fitting and predicting completed\n",
      "[00:42:41] Time left 9999999990.61 secs\n",
      "\n",
      "[00:42:41] \u001b[1mLayer 1 training completed.\u001b[0m\n",
      "\n",
      "CPU times: user 22.8 s, sys: 305 ms, total: 23.1 s\n",
      "Wall time: 9.39 s\n"
     ]
    }
   ],
   "source": [
    "%%time\n",
    "\n",
    "oof_pred = automl.fit_predict(X_train, roles=roles, verbose=3)\n"
   ]
  },
  {
   "cell_type": "code",
   "execution_count": 6,
   "id": "b04c3723",
   "metadata": {},
   "outputs": [],
   "source": [
    "from lightautoml.dataset.gpu.gpu_dataset import SeqCudfDataset\n",
    "from lightautoml.dataset.gpu.gpu_dataset import SeqDaskCudfDataset\n",
    "from lightautoml.reader.gpu.seq_gpu import IDSInd_gpu, TopInd_gpu\n",
    "from lightautoml.reader.gpu.seq_reader_gpu import DictToCudfSeqReader\n",
    "from lightautoml.reader.gpu.seq_reader_gpu import DictToDaskCudfSeqReader\n",
    "\n",
    "from lightautoml.ml_algo.gpu.boost_xgb_gpu import BoostXGB\n",
    "from lightautoml.ml_algo.gpu.boost_cb_gpu import BoostCB_gpu\n",
    "\n",
    "from lightautoml.pipelines.features.gpu.lgb_pipeline_gpu import LGBMultiSeqSimpleFeatures_gpu\n",
    "\n",
    "import cudf\n",
    "import dask_cudf\n",
    "import cupy as cp"
   ]
  },
  {
   "cell_type": "code",
   "execution_count": 7,
   "id": "b2d14a44",
   "metadata": {},
   "outputs": [],
   "source": [
    "task = Task('reg', metric='mae', device='gpu')\n",
    "reader = DictToCudfSeqReader(task=task, seq_params=seq_params, n_jobs=1)\n",
    "\n",
    "feats = LGBMultiSeqSimpleFeatures_gpu()\n",
    "model = BoostCB_gpu(gpu_ids=[0])\n",
    "pipeline_lvl1 = MLPipeline([model], pre_selection=None, features_pipeline=feats, post_selection=None)\n",
    "\n",
    "automl = AutoML(reader, [\n",
    "    [pipeline_lvl1],\n",
    "], skip_conn=False)"
   ]
  },
  {
   "cell_type": "code",
   "execution_count": 8,
   "id": "e007458e",
   "metadata": {},
   "outputs": [
    {
     "name": "stdout",
     "output_type": "stream",
     "text": [
      "[00:42:46] Feats was rejected during automatic roles guess: []\n",
      "[00:42:46] Layer \u001b[1m1\u001b[0m train process start. Time left 9999999998.36 secs\n",
      "[00:42:46] Start fitting Lvl_0_Pipe_0_Mod_0_CatBoost_gpu ...\n",
      "[00:42:46] ===== Start working with \u001b[1mfold 0\u001b[0m for \u001b[1mLvl_0_Pipe_0_Mod_0_CatBoost_gpu\u001b[0m (orig) =====\n"
     ]
    },
    {
     "name": "stderr",
     "output_type": "stream",
     "text": [
      "/home/rishat/miniconda3/envs/rapids-22.10/lib/python3.9/site-packages/catboost/core.py:1419: FutureWarning: iteritems is deprecated and will be removed in a future version. Use .items instead.\n",
      "  self._init_pool(data, label, cat_features, text_features, embedding_features, embedding_features_data, pairs, weight,\n",
      "/home/rishat/miniconda3/envs/rapids-22.10/lib/python3.9/site-packages/catboost/core.py:1419: FutureWarning: iteritems is deprecated and will be removed in a future version. Use .items instead.\n",
      "  self._init_pool(data, label, cat_features, text_features, embedding_features, embedding_features_data, pairs, weight,\n",
      "Warning: less than 75% gpu memory available for training. Free: 1187.3125 Total: 3912.8125\n",
      "Default metric period is 5 because MAE is/are not implemented for GPU\n"
     ]
    },
    {
     "name": "stdout",
     "output_type": "stream",
     "text": [
      "[00:42:52] ===== Start working with \u001b[1mfold 1\u001b[0m for \u001b[1mLvl_0_Pipe_0_Mod_0_CatBoost_gpu\u001b[0m (orig) =====\n"
     ]
    },
    {
     "name": "stderr",
     "output_type": "stream",
     "text": [
      "/home/rishat/miniconda3/envs/rapids-22.10/lib/python3.9/site-packages/catboost/core.py:1419: FutureWarning: iteritems is deprecated and will be removed in a future version. Use .items instead.\n",
      "  self._init_pool(data, label, cat_features, text_features, embedding_features, embedding_features_data, pairs, weight,\n",
      "/home/rishat/miniconda3/envs/rapids-22.10/lib/python3.9/site-packages/catboost/core.py:1419: FutureWarning: iteritems is deprecated and will be removed in a future version. Use .items instead.\n",
      "  self._init_pool(data, label, cat_features, text_features, embedding_features, embedding_features_data, pairs, weight,\n",
      "Warning: less than 75% gpu memory available for training. Free: 1187.3125 Total: 3912.8125\n",
      "Default metric period is 5 because MAE is/are not implemented for GPU\n"
     ]
    },
    {
     "name": "stdout",
     "output_type": "stream",
     "text": [
      "[00:42:57] ===== Start working with \u001b[1mfold 2\u001b[0m for \u001b[1mLvl_0_Pipe_0_Mod_0_CatBoost_gpu\u001b[0m (orig) =====\n"
     ]
    },
    {
     "name": "stderr",
     "output_type": "stream",
     "text": [
      "/home/rishat/miniconda3/envs/rapids-22.10/lib/python3.9/site-packages/catboost/core.py:1419: FutureWarning: iteritems is deprecated and will be removed in a future version. Use .items instead.\n",
      "  self._init_pool(data, label, cat_features, text_features, embedding_features, embedding_features_data, pairs, weight,\n",
      "/home/rishat/miniconda3/envs/rapids-22.10/lib/python3.9/site-packages/catboost/core.py:1419: FutureWarning: iteritems is deprecated and will be removed in a future version. Use .items instead.\n",
      "  self._init_pool(data, label, cat_features, text_features, embedding_features, embedding_features_data, pairs, weight,\n",
      "Warning: less than 75% gpu memory available for training. Free: 1187.3125 Total: 3912.8125\n",
      "Default metric period is 5 because MAE is/are not implemented for GPU\n"
     ]
    },
    {
     "name": "stdout",
     "output_type": "stream",
     "text": [
      "[00:43:01] ===== Start working with \u001b[1mfold 3\u001b[0m for \u001b[1mLvl_0_Pipe_0_Mod_0_CatBoost_gpu\u001b[0m (orig) =====\n"
     ]
    },
    {
     "name": "stderr",
     "output_type": "stream",
     "text": [
      "/home/rishat/miniconda3/envs/rapids-22.10/lib/python3.9/site-packages/catboost/core.py:1419: FutureWarning: iteritems is deprecated and will be removed in a future version. Use .items instead.\n",
      "  self._init_pool(data, label, cat_features, text_features, embedding_features, embedding_features_data, pairs, weight,\n",
      "/home/rishat/miniconda3/envs/rapids-22.10/lib/python3.9/site-packages/catboost/core.py:1419: FutureWarning: iteritems is deprecated and will be removed in a future version. Use .items instead.\n",
      "  self._init_pool(data, label, cat_features, text_features, embedding_features, embedding_features_data, pairs, weight,\n",
      "Warning: less than 75% gpu memory available for training. Free: 1187.3125 Total: 3912.8125\n",
      "Default metric period is 5 because MAE is/are not implemented for GPU\n"
     ]
    },
    {
     "name": "stdout",
     "output_type": "stream",
     "text": [
      "[00:43:05] ===== Start working with \u001b[1mfold 4\u001b[0m for \u001b[1mLvl_0_Pipe_0_Mod_0_CatBoost_gpu\u001b[0m (orig) =====\n"
     ]
    },
    {
     "name": "stderr",
     "output_type": "stream",
     "text": [
      "/home/rishat/miniconda3/envs/rapids-22.10/lib/python3.9/site-packages/catboost/core.py:1419: FutureWarning: iteritems is deprecated and will be removed in a future version. Use .items instead.\n",
      "  self._init_pool(data, label, cat_features, text_features, embedding_features, embedding_features_data, pairs, weight,\n",
      "/home/rishat/miniconda3/envs/rapids-22.10/lib/python3.9/site-packages/catboost/core.py:1419: FutureWarning: iteritems is deprecated and will be removed in a future version. Use .items instead.\n",
      "  self._init_pool(data, label, cat_features, text_features, embedding_features, embedding_features_data, pairs, weight,\n",
      "Warning: less than 75% gpu memory available for training. Free: 1187.3125 Total: 3912.8125\n",
      "Default metric period is 5 because MAE is/are not implemented for GPU\n"
     ]
    },
    {
     "name": "stdout",
     "output_type": "stream",
     "text": [
      "[00:43:09] Lvl_0_Pipe_0_Mod_0_CatBoost_gpu fitting and predicting completed\n",
      "[00:43:09] Time left 9999999975.27 secs\n",
      "\n",
      "[00:43:09] \u001b[1mLayer 1 training completed.\u001b[0m\n",
      "\n"
     ]
    }
   ],
   "source": [
    "oof_pred_gpu = automl.fit_predict(X_train, roles=roles, verbose=3)"
   ]
  },
  {
   "cell_type": "code",
   "execution_count": 9,
   "id": "1d962038",
   "metadata": {},
   "outputs": [],
   "source": [
    "task = Task('reg', metric='mae', device='mgpu')\n",
    "reader = DictToDaskCudfSeqReader(task=task, seq_params=seq_params, n_jobs=1)\n",
    "\n",
    "feats = LGBMultiSeqSimpleFeatures_gpu()\n",
    "model = BoostCB_gpu(gpu_ids=[0])\n",
    "pipeline_lvl1 = MLPipeline([model], pre_selection=None, features_pipeline=feats, post_selection=None)\n",
    "\n",
    "automl = AutoML(reader, [\n",
    "    [pipeline_lvl1],\n",
    "], skip_conn=False)"
   ]
  },
  {
   "cell_type": "code",
   "execution_count": 10,
   "id": "90df6393",
   "metadata": {},
   "outputs": [
    {
     "name": "stdout",
     "output_type": "stream",
     "text": [
      "[00:43:10] Feats was rejected during automatic roles guess: []\n",
      "[00:43:11] Layer \u001b[1m1\u001b[0m train process start. Time left 9999999997.95 secs\n"
     ]
    },
    {
     "name": "stderr",
     "output_type": "stream",
     "text": [
      "/home/rishat/miniconda3/envs/rapids-22.10/lib/python3.9/site-packages/dask/dataframe/core.py:4948: UserWarning: New index has same name as existing, this is a no-op.\n",
      "  warnings.warn(\n",
      "/home/rishat/miniconda3/envs/rapids-22.10/lib/python3.9/site-packages/dask/dataframe/core.py:4948: UserWarning: New index has same name as existing, this is a no-op.\n",
      "  warnings.warn(\n"
     ]
    },
    {
     "name": "stdout",
     "output_type": "stream",
     "text": [
      "[00:43:12] Start fitting Lvl_0_Pipe_0_Mod_0_CatBoost_gpu ...\n",
      "[00:43:12] ===== Start working with \u001b[1mfold 0\u001b[0m for \u001b[1mLvl_0_Pipe_0_Mod_0_CatBoost_gpu\u001b[0m (orig) =====\n"
     ]
    },
    {
     "name": "stderr",
     "output_type": "stream",
     "text": [
      "/home/rishat/miniconda3/envs/rapids-22.10/lib/python3.9/site-packages/catboost/core.py:1419: FutureWarning: iteritems is deprecated and will be removed in a future version. Use .items instead.\n",
      "  self._init_pool(data, label, cat_features, text_features, embedding_features, embedding_features_data, pairs, weight,\n",
      "/home/rishat/miniconda3/envs/rapids-22.10/lib/python3.9/site-packages/catboost/core.py:1419: FutureWarning: iteritems is deprecated and will be removed in a future version. Use .items instead.\n",
      "  self._init_pool(data, label, cat_features, text_features, embedding_features, embedding_features_data, pairs, weight,\n",
      "Warning: less than 75% gpu memory available for training. Free: 1183.3125 Total: 3912.8125\n",
      "Default metric period is 5 because MAE is/are not implemented for GPU\n"
     ]
    },
    {
     "name": "stdout",
     "output_type": "stream",
     "text": [
      "[00:43:17] ===== Start working with \u001b[1mfold 1\u001b[0m for \u001b[1mLvl_0_Pipe_0_Mod_0_CatBoost_gpu\u001b[0m (orig) =====\n"
     ]
    },
    {
     "name": "stderr",
     "output_type": "stream",
     "text": [
      "/home/rishat/miniconda3/envs/rapids-22.10/lib/python3.9/site-packages/catboost/core.py:1419: FutureWarning: iteritems is deprecated and will be removed in a future version. Use .items instead.\n",
      "  self._init_pool(data, label, cat_features, text_features, embedding_features, embedding_features_data, pairs, weight,\n",
      "/home/rishat/miniconda3/envs/rapids-22.10/lib/python3.9/site-packages/catboost/core.py:1419: FutureWarning: iteritems is deprecated and will be removed in a future version. Use .items instead.\n",
      "  self._init_pool(data, label, cat_features, text_features, embedding_features, embedding_features_data, pairs, weight,\n",
      "Warning: less than 75% gpu memory available for training. Free: 1181.3125 Total: 3912.8125\n",
      "Default metric period is 5 because MAE is/are not implemented for GPU\n"
     ]
    },
    {
     "name": "stdout",
     "output_type": "stream",
     "text": [
      "[00:43:21] ===== Start working with \u001b[1mfold 2\u001b[0m for \u001b[1mLvl_0_Pipe_0_Mod_0_CatBoost_gpu\u001b[0m (orig) =====\n"
     ]
    },
    {
     "name": "stderr",
     "output_type": "stream",
     "text": [
      "/home/rishat/miniconda3/envs/rapids-22.10/lib/python3.9/site-packages/catboost/core.py:1419: FutureWarning: iteritems is deprecated and will be removed in a future version. Use .items instead.\n",
      "  self._init_pool(data, label, cat_features, text_features, embedding_features, embedding_features_data, pairs, weight,\n",
      "/home/rishat/miniconda3/envs/rapids-22.10/lib/python3.9/site-packages/catboost/core.py:1419: FutureWarning: iteritems is deprecated and will be removed in a future version. Use .items instead.\n",
      "  self._init_pool(data, label, cat_features, text_features, embedding_features, embedding_features_data, pairs, weight,\n",
      "Warning: less than 75% gpu memory available for training. Free: 1179.3125 Total: 3912.8125\n",
      "Default metric period is 5 because MAE is/are not implemented for GPU\n"
     ]
    },
    {
     "name": "stdout",
     "output_type": "stream",
     "text": [
      "[00:43:25] ===== Start working with \u001b[1mfold 3\u001b[0m for \u001b[1mLvl_0_Pipe_0_Mod_0_CatBoost_gpu\u001b[0m (orig) =====\n"
     ]
    },
    {
     "name": "stderr",
     "output_type": "stream",
     "text": [
      "/home/rishat/miniconda3/envs/rapids-22.10/lib/python3.9/site-packages/catboost/core.py:1419: FutureWarning: iteritems is deprecated and will be removed in a future version. Use .items instead.\n",
      "  self._init_pool(data, label, cat_features, text_features, embedding_features, embedding_features_data, pairs, weight,\n",
      "/home/rishat/miniconda3/envs/rapids-22.10/lib/python3.9/site-packages/catboost/core.py:1419: FutureWarning: iteritems is deprecated and will be removed in a future version. Use .items instead.\n",
      "  self._init_pool(data, label, cat_features, text_features, embedding_features, embedding_features_data, pairs, weight,\n",
      "Warning: less than 75% gpu memory available for training. Free: 1177.3125 Total: 3912.8125\n",
      "Default metric period is 5 because MAE is/are not implemented for GPU\n"
     ]
    },
    {
     "name": "stdout",
     "output_type": "stream",
     "text": [
      "[00:43:30] ===== Start working with \u001b[1mfold 4\u001b[0m for \u001b[1mLvl_0_Pipe_0_Mod_0_CatBoost_gpu\u001b[0m (orig) =====\n"
     ]
    },
    {
     "name": "stderr",
     "output_type": "stream",
     "text": [
      "/home/rishat/miniconda3/envs/rapids-22.10/lib/python3.9/site-packages/catboost/core.py:1419: FutureWarning: iteritems is deprecated and will be removed in a future version. Use .items instead.\n",
      "  self._init_pool(data, label, cat_features, text_features, embedding_features, embedding_features_data, pairs, weight,\n",
      "/home/rishat/miniconda3/envs/rapids-22.10/lib/python3.9/site-packages/catboost/core.py:1419: FutureWarning: iteritems is deprecated and will be removed in a future version. Use .items instead.\n",
      "  self._init_pool(data, label, cat_features, text_features, embedding_features, embedding_features_data, pairs, weight,\n",
      "Warning: less than 75% gpu memory available for training. Free: 1175.3125 Total: 3912.8125\n",
      "Default metric period is 5 because MAE is/are not implemented for GPU\n"
     ]
    },
    {
     "name": "stdout",
     "output_type": "stream",
     "text": [
      "[00:43:33] Lvl_0_Pipe_0_Mod_0_CatBoost_gpu fitting and predicting completed\n",
      "[00:43:33] Time left 9999999975.94 secs\n",
      "\n",
      "[00:43:33] \u001b[1mLayer 1 training completed.\u001b[0m\n",
      "\n"
     ]
    }
   ],
   "source": [
    "oof_pred_mgpu = automl.fit_predict(X_train, roles=roles, verbose=3)"
   ]
  },
  {
   "cell_type": "code",
   "execution_count": null,
   "id": "aabbf0ac",
   "metadata": {},
   "outputs": [],
   "source": []
  },
  {
   "cell_type": "code",
   "execution_count": null,
   "id": "0aac220a",
   "metadata": {},
   "outputs": [],
   "source": []
  },
  {
   "cell_type": "code",
   "execution_count": null,
   "id": "1c140f65",
   "metadata": {},
   "outputs": [],
   "source": []
  },
  {
   "cell_type": "code",
   "execution_count": null,
   "id": "7607a765",
   "metadata": {},
   "outputs": [],
   "source": []
  }
 ],
 "metadata": {
  "kernelspec": {
   "display_name": "rapids-22.10",
   "language": "python",
   "name": "rapids-22.10"
  },
  "language_info": {
   "codemirror_mode": {
    "name": "ipython",
    "version": 3
   },
   "file_extension": ".py",
   "mimetype": "text/x-python",
   "name": "python",
   "nbconvert_exporter": "python",
   "pygments_lexer": "ipython3",
   "version": "3.9.13"
  }
 },
 "nbformat": 4,
 "nbformat_minor": 5
}

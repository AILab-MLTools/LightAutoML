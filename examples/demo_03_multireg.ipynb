{
 "cells": [
  {
   "cell_type": "code",
   "execution_count": 1,
   "id": "78930508",
   "metadata": {},
   "outputs": [],
   "source": [
    "import numpy as np\n",
    "import pandas as pd\n"
   ]
  },
  {
   "cell_type": "code",
   "execution_count": 2,
   "id": "bfd2caae",
   "metadata": {},
   "outputs": [],
   "source": [
    "from lightautoml.reader.gpu.cudf_reader import CudfReader\n",
    "from lightautoml.reader.base import PandasToPandasReader\n",
    "\n",
    "from lightautoml.transformers.base import SequentialTransformer\n",
    "\n",
    "from lightautoml.pipelines.utils import get_columns_by_role\n",
    "\n",
    "from lightautoml.transformers.gpu import numeric_gpu, categorical_gpu, datetime_gpu\n",
    "from lightautoml.transformers import numeric, categorical, datetime\n",
    "\n",
    "from lightautoml.tasks import Task\n",
    "from lightautoml.automl.presets.tabular_presets import TabularAutoML, TabularUtilizedAutoML\n",
    "\n",
    "import pandas as pd\n",
    "import time\n",
    "from sklearn.model_selection import train_test_split"
   ]
  },
  {
   "cell_type": "code",
   "execution_count": 3,
   "id": "4befdbcf",
   "metadata": {},
   "outputs": [],
   "source": [
    "data = pd.read_csv('../data/multioutput/ENB2012_data.csv')\n",
    "\n",
    "tr_data, te_data = train_test_split(\n",
    "    data, \n",
    "    test_size=0.2,  \n",
    "    random_state=42\n",
    ")\n",
    "\n",
    "roles = {\n",
    "    \"target\": {'Y1', 'Y2'},\n",
    "}"
   ]
  },
  {
   "cell_type": "code",
   "execution_count": 4,
   "id": "e2f73a5f",
   "metadata": {},
   "outputs": [],
   "source": [
    "adv_roles = True"
   ]
  },
  {
   "cell_type": "code",
   "execution_count": 5,
   "id": "9a15c2c0",
   "metadata": {},
   "outputs": [],
   "source": [
    "# Imports from our package\n",
    "from lightautoml.automl.base import AutoML\n",
    "\n",
    "\n",
    "from lightautoml.pipelines.features.gpu.lgb_pipeline_gpu import LGBSimpleFeatures_gpu, LGBAdvancedPipeline_gpu\n",
    "from lightautoml.pipelines.features.gpu.linear_pipeline_gpu import LinearFeatures_gpu\n",
    "\n",
    "from lightautoml.pipelines.features.lgb_pipeline import LGBSimpleFeatures, LGBAdvancedPipeline\n",
    "from lightautoml.pipelines.features.linear_pipeline import LinearFeatures\n",
    "\n",
    "\n",
    "from lightautoml.ml_algo.gpu.boost_cb_gpu import BoostCB_gpu\n",
    "from lightautoml.ml_algo.gpu.boost_xgb_gpu import BoostXGB\n",
    "#from lightautoml.ml_algo.gpu.boost_xgb_gpu import BoostXGB_dask\n",
    "from lightautoml.ml_algo.gpu.linear_gpu import LinearLBFGS_gpu\n",
    "#from lightautoml.ml_algo.gpu.linear_gpu import LinearL1CD_gpu\n",
    "#from lightautoml.ml_algo.gpu.linear_gpu import LinearL1CD_mgpu\n",
    "\n",
    "from lightautoml.ml_algo.boost_cb import BoostCB\n",
    "#from lightautoml.ml_algo.boost_lgbm import BoostLGBM\n",
    "from lightautoml.ml_algo.linear_sklearn import LinearLBFGS\n",
    "from lightautoml.ml_algo.linear_sklearn import LinearL1CD\n",
    "\n",
    "\n",
    "from lightautoml.pipelines.ml.base import MLPipeline\n",
    "from lightautoml.pipelines.selection.importance_based import ModelBasedImportanceEstimator, ImportanceCutoffSelector"
   ]
  },
  {
   "cell_type": "markdown",
   "id": "6b5da23f",
   "metadata": {},
   "source": [
    "## TabularAutoML"
   ]
  },
  {
   "cell_type": "code",
   "execution_count": 6,
   "id": "71ba7253",
   "metadata": {},
   "outputs": [
    {
     "name": "stdout",
     "output_type": "stream",
     "text": [
      "cuml doesn't support in general case mae and will not be used.\n",
      "multi:reg isn`t supported in lgb\n",
      "CatBoost supports only MultiRMSE metric and loss for multi:reg task.\n"
     ]
    }
   ],
   "source": [
    "task = Task('multi:reg')"
   ]
  },
  {
   "cell_type": "code",
   "execution_count": 7,
   "id": "14624311",
   "metadata": {},
   "outputs": [],
   "source": [
    "automl = TabularAutoML(\n",
    "    task = task, \n",
    "    timeout = 3600,\n",
    "    cpu_limit = 4,\n",
    "    reader_params = {'n_jobs': 4, 'cv': 3, 'random_state': 42},\n",
    "    general_params = {'use_algos': [['linear_l2', 'cb']]}\n",
    ")"
   ]
  },
  {
   "cell_type": "code",
   "execution_count": 8,
   "id": "4b768794",
   "metadata": {},
   "outputs": [
    {
     "name": "stdout",
     "output_type": "stream",
     "text": [
      "[00:50:56] Stdout logging level is INFO2.\n",
      "[00:50:57] Copying TaskTimer may affect the parent PipelineTimer, so copy will create new unlimited TaskTimer\n",
      "[00:50:57] Task: multi:reg\n",
      "\n",
      "[00:50:57] Start automl preset with listed constraints:\n",
      "[00:50:57] - time: 3600.00 seconds\n",
      "[00:50:57] - CPU: 4 cores\n",
      "[00:50:57] - memory: 16 GB\n",
      "\n",
      "[00:50:57] \u001b[1mTrain data shape: (768, 10)\u001b[0m\n",
      "\n",
      "Feats was rejected during automatic roles guess: []\n",
      "[00:51:00] Layer \u001b[1m1\u001b[0m train process start. Time left 3596.81 secs\n",
      "[00:51:00] Start fitting \u001b[1mLvl_0_Pipe_0_Mod_0_LinearL2\u001b[0m ...\n",
      "[00:51:00] ===== Start working with \u001b[1mfold 0\u001b[0m for \u001b[1mLvl_0_Pipe_0_Mod_0_LinearL2\u001b[0m =====\n",
      "[00:51:00] ===== Start working with \u001b[1mfold 1\u001b[0m for \u001b[1mLvl_0_Pipe_0_Mod_0_LinearL2\u001b[0m =====\n",
      "[00:51:01] ===== Start working with \u001b[1mfold 2\u001b[0m for \u001b[1mLvl_0_Pipe_0_Mod_0_LinearL2\u001b[0m =====\n",
      "[00:51:01] Fitting \u001b[1mLvl_0_Pipe_0_Mod_0_LinearL2\u001b[0m finished. score = \u001b[1m-2.099132272551457\u001b[0m\n",
      "[00:51:01] \u001b[1mLvl_0_Pipe_0_Mod_0_LinearL2\u001b[0m fitting and predicting completed\n",
      "[00:51:01] Time left 3595.17 secs\n",
      "\n"
     ]
    },
    {
     "name": "stderr",
     "output_type": "stream",
     "text": [
      "/home/rishat/miniconda3/envs/rapids-22.10/lib/python3.9/site-packages/catboost/core.py:1419: FutureWarning: iteritems is deprecated and will be removed in a future version. Use .items instead.\n",
      "  self._init_pool(data, label, cat_features, text_features, embedding_features, embedding_features_data, pairs, weight,\n",
      "/home/rishat/miniconda3/envs/rapids-22.10/lib/python3.9/site-packages/catboost/core.py:1419: FutureWarning: iteritems is deprecated and will be removed in a future version. Use .items instead.\n",
      "  self._init_pool(data, label, cat_features, text_features, embedding_features, embedding_features_data, pairs, weight,\n"
     ]
    },
    {
     "name": "stdout",
     "output_type": "stream",
     "text": [
      "[00:51:02] \u001b[1mSelector_CatBoost\u001b[0m fitting and predicting completed\n",
      "[00:51:02] Start fitting \u001b[1mLvl_0_Pipe_1_Mod_0_CatBoost\u001b[0m ...\n",
      "[00:51:02] ===== Start working with \u001b[1mfold 0\u001b[0m for \u001b[1mLvl_0_Pipe_1_Mod_0_CatBoost\u001b[0m =====\n"
     ]
    },
    {
     "name": "stderr",
     "output_type": "stream",
     "text": [
      "/home/rishat/miniconda3/envs/rapids-22.10/lib/python3.9/site-packages/catboost/core.py:1419: FutureWarning: iteritems is deprecated and will be removed in a future version. Use .items instead.\n",
      "  self._init_pool(data, label, cat_features, text_features, embedding_features, embedding_features_data, pairs, weight,\n",
      "/home/rishat/miniconda3/envs/rapids-22.10/lib/python3.9/site-packages/catboost/core.py:1419: FutureWarning: iteritems is deprecated and will be removed in a future version. Use .items instead.\n",
      "  self._init_pool(data, label, cat_features, text_features, embedding_features, embedding_features_data, pairs, weight,\n"
     ]
    },
    {
     "name": "stdout",
     "output_type": "stream",
     "text": [
      "[00:51:02] ===== Start working with \u001b[1mfold 1\u001b[0m for \u001b[1mLvl_0_Pipe_1_Mod_0_CatBoost\u001b[0m =====\n"
     ]
    },
    {
     "name": "stderr",
     "output_type": "stream",
     "text": [
      "/home/rishat/miniconda3/envs/rapids-22.10/lib/python3.9/site-packages/catboost/core.py:1419: FutureWarning: iteritems is deprecated and will be removed in a future version. Use .items instead.\n",
      "  self._init_pool(data, label, cat_features, text_features, embedding_features, embedding_features_data, pairs, weight,\n",
      "/home/rishat/miniconda3/envs/rapids-22.10/lib/python3.9/site-packages/catboost/core.py:1419: FutureWarning: iteritems is deprecated and will be removed in a future version. Use .items instead.\n",
      "  self._init_pool(data, label, cat_features, text_features, embedding_features, embedding_features_data, pairs, weight,\n"
     ]
    },
    {
     "name": "stdout",
     "output_type": "stream",
     "text": [
      "[00:51:02] ===== Start working with \u001b[1mfold 2\u001b[0m for \u001b[1mLvl_0_Pipe_1_Mod_0_CatBoost\u001b[0m =====\n"
     ]
    },
    {
     "name": "stderr",
     "output_type": "stream",
     "text": [
      "/home/rishat/miniconda3/envs/rapids-22.10/lib/python3.9/site-packages/catboost/core.py:1419: FutureWarning: iteritems is deprecated and will be removed in a future version. Use .items instead.\n",
      "  self._init_pool(data, label, cat_features, text_features, embedding_features, embedding_features_data, pairs, weight,\n",
      "/home/rishat/miniconda3/envs/rapids-22.10/lib/python3.9/site-packages/catboost/core.py:1419: FutureWarning: iteritems is deprecated and will be removed in a future version. Use .items instead.\n",
      "  self._init_pool(data, label, cat_features, text_features, embedding_features, embedding_features_data, pairs, weight,\n"
     ]
    },
    {
     "name": "stdout",
     "output_type": "stream",
     "text": [
      "[00:51:03] Fitting \u001b[1mLvl_0_Pipe_1_Mod_0_CatBoost\u001b[0m finished. score = \u001b[1m-0.3494882974897825\u001b[0m\n",
      "[00:51:03] \u001b[1mLvl_0_Pipe_1_Mod_0_CatBoost\u001b[0m fitting and predicting completed\n",
      "[00:51:03] Time left 3593.95 secs\n",
      "\n",
      "[00:51:03] \u001b[1mLayer 1 training completed.\u001b[0m\n",
      "\n",
      "[00:51:03] Blending: optimization starts with equal weights and score \u001b[1m-1.111971659796934\u001b[0m\n",
      "[00:51:03] Blending: iteration \u001b[1m0\u001b[0m: score = \u001b[1m-0.3494882974897825\u001b[0m, weights = \u001b[1m[0. 1.]\u001b[0m\n",
      "[00:51:03] Blending: iteration \u001b[1m1\u001b[0m: score = \u001b[1m-0.3494882974897825\u001b[0m, weights = \u001b[1m[0. 1.]\u001b[0m\n",
      "[00:51:03] Blending: no score update. Terminated\n",
      "\n",
      "[00:51:03] \u001b[1mAutoml preset training completed in 6.06 seconds\u001b[0m\n",
      "\n",
      "[00:51:03] Model description:\n",
      "Final prediction for new objects (level 0) = \n",
      "\t 1.00000 * (3 averaged models Lvl_0_Pipe_1_Mod_0_CatBoost) \n",
      "\n"
     ]
    }
   ],
   "source": [
    "oof_pred = automl.fit_predict(data, roles = roles, verbose = 2)"
   ]
  },
  {
   "cell_type": "code",
   "execution_count": 9,
   "id": "535dcbcf",
   "metadata": {},
   "outputs": [],
   "source": [
    "from lightautoml.automl.presets.gpu.tabular_gpu_presets import TabularAutoML_gpu, TabularUtilizedAutoML_gpu\n",
    "from lightautoml.tasks import Task"
   ]
  },
  {
   "cell_type": "code",
   "execution_count": 10,
   "id": "f432e058",
   "metadata": {},
   "outputs": [
    {
     "name": "stdout",
     "output_type": "stream",
     "text": [
      "cuml doesn't support in general case mae and will not be used.\n",
      "multi:reg isn`t supported in lgb\n",
      "CatBoost supports only MultiRMSE metric and loss for multi:reg task.\n"
     ]
    }
   ],
   "source": [
    "task = Task('multi:reg', device='gpu', metric='mse')"
   ]
  },
  {
   "cell_type": "code",
   "execution_count": 11,
   "id": "a765c16f",
   "metadata": {},
   "outputs": [],
   "source": [
    "automl_gpu = TabularAutoML_gpu(\n",
    "    task = task, \n",
    "    timeout = 3600,\n",
    "    cpu_limit = 1,\n",
    "    reader_params = {'n_jobs': 1, 'cv': 3, 'random_state': 42},\n",
    "    general_params = {'use_algos': [['xgb', 'linear_l2']]}\n",
    ")"
   ]
  },
  {
   "cell_type": "code",
   "execution_count": 12,
   "id": "52f3b19f",
   "metadata": {},
   "outputs": [
    {
     "name": "stdout",
     "output_type": "stream",
     "text": [
      "[00:51:05] Stdout logging level is INFO2.\n",
      "[00:51:05] Task: multi:reg\n",
      "\n",
      "[00:51:05] Start automl preset with listed constraints:\n",
      "[00:51:05] - time: 3600.00 seconds\n",
      "[00:51:05] - CPU: 1 cores\n",
      "[00:51:05] - memory: 16 GB\n",
      "\n",
      "[00:51:05] Train data shape: (768, 10)\n",
      "[00:51:05] Feats was rejected during automatic roles guess: []\n",
      "[00:51:05] Layer \u001b[1m1\u001b[0m train process start. Time left 3599.51 secs\n",
      "[00:51:05] Start fitting Lvl_0_Pipe_0_Mod_0_LinearL2 ...\n",
      "[00:51:05] ===== Start working with \u001b[1mfold 0\u001b[0m for \u001b[1mLvl_0_Pipe_0_Mod_0_LinearL2\u001b[0m (orig) =====\n",
      "5.91499701840803e-06 getting data\n",
      "0.8842629459977616 transfering model\n",
      "[00:51:07] Linear model: C = 1e-05 score = -88.56898445143189\n",
      "[00:51:07] Linear model: C = 5e-05 score = -86.76007445977976\n",
      "[00:51:07] Linear model: C = 0.0001 score = -84.31589456869912\n",
      "[00:51:07] Linear model: C = 0.0005 score = -67.20571693678366\n",
      "[00:51:07] Linear model: C = 0.001 score = -53.87795827887693\n",
      "[00:51:08] Linear model: C = 0.005 score = -17.992650800499696\n",
      "[00:51:08] Linear model: C = 0.01 score = -12.475382123843293\n",
      "[00:51:08] Linear model: C = 0.05 score = -10.046003367056834\n",
      "[00:51:08] Linear model: C = 0.1 score = -9.554905212731134\n",
      "[00:51:09] Linear model: C = 0.5 score = -9.42080067037622\n",
      "[00:51:09] Linear model: C = 1 score = -9.25191120865751\n",
      "[00:51:09] Linear model: C = 5 score = -9.409123521949203\n",
      "[00:51:09] Linear model: C = 10 score = -9.40912340602095\n",
      "3.1831327059990144 fit data\n",
      "0.0015306279965443537 predict data\n",
      "[00:51:09] ===== Start working with \u001b[1mfold 1\u001b[0m for \u001b[1mLvl_0_Pipe_0_Mod_0_LinearL2\u001b[0m (orig) =====\n",
      "3.60699777957052e-06 getting data\n",
      "0.0006720870005665347 transfering model\n",
      "[00:51:10] Linear model: C = 1e-05 score = -127.0352042612829\n",
      "[00:51:10] Linear model: C = 5e-05 score = -125.2465007559847\n",
      "[00:51:10] Linear model: C = 0.0001 score = -122.41763712709026\n",
      "[00:51:10] Linear model: C = 0.0005 score = -95.8356677422207\n",
      "[00:51:10] Linear model: C = 0.001 score = -72.30274189972457\n",
      "[00:51:10] Linear model: C = 0.005 score = -27.124358225779734\n",
      "[00:51:10] Linear model: C = 0.01 score = -18.318378332105652\n",
      "[00:51:11] Linear model: C = 0.05 score = -13.744943805383016\n",
      "[00:51:11] Linear model: C = 0.1 score = -12.936330887847848\n",
      "[00:51:12] Linear model: C = 0.5 score = -12.319138865391885\n",
      "[00:51:12] Linear model: C = 1 score = -12.306172324776416\n",
      "[00:51:12] Linear model: C = 5 score = -12.305725089418148\n",
      "[00:51:12] Linear model: C = 10 score = -12.305763156079735\n",
      "[00:51:12] Linear model: C = 50 score = -12.305984513091424\n",
      "2.2077734080012306 fit data\n",
      "0.0020085869982722215 predict data\n",
      "[00:51:12] ===== Start working with \u001b[1mfold 2\u001b[0m for \u001b[1mLvl_0_Pipe_0_Mod_0_LinearL2\u001b[0m (orig) =====\n",
      "7.045004167594016e-06 getting data\n",
      "0.0010983229949488305 transfering model\n",
      "[00:51:12] Linear model: C = 1e-05 score = -103.17534341813479\n",
      "[00:51:12] Linear model: C = 5e-05 score = -102.67264259767838\n",
      "[00:51:12] Linear model: C = 0.0001 score = -100.1859418471289\n",
      "[00:51:12] Linear model: C = 0.0005 score = -83.08367908084603\n",
      "[00:51:12] Linear model: C = 0.001 score = -68.63921984693353\n",
      "[00:51:13] Linear model: C = 0.005 score = -23.780069023644312\n",
      "[00:51:13] Linear model: C = 0.01 score = -16.81819784785114\n",
      "[00:51:13] Linear model: C = 0.05 score = -11.632144334417239\n",
      "[00:51:13] Linear model: C = 0.1 score = -10.627155503243365\n",
      "[00:51:14] Linear model: C = 0.5 score = -9.772311253592454\n",
      "[00:51:14] Linear model: C = 1 score = -9.803589765484327\n",
      "[00:51:15] Linear model: C = 5 score = -9.534162961442883\n",
      "[00:51:15] Linear model: C = 10 score = -9.553722649984895\n",
      "[00:51:15] Linear model: C = 50 score = -9.551232736982465\n",
      "3.2668869009939954 fit data\n",
      "0.0019655879950732924 predict data\n",
      "[00:51:15] Lvl_0_Pipe_0_Mod_0_LinearL2 fitting and predicting completed\n",
      "[00:51:15] Time left 3589.69 secs\n",
      "\n",
      "[00:51:15] Start fitting Selector_XGB ...\n",
      "[00:51:15] ===== Start working with \u001b[1mfold 0\u001b[0m for \u001b[1mSelector_XGB\u001b[0m (orig) =====\n",
      "5.218075808996218 xgb single fold time\n",
      "[00:51:20] Selector_XGB fitting and predicting completed\n",
      "[00:51:20] Start fitting Lvl_0_Pipe_1_Mod_0_XGB ...\n",
      "[00:51:20] ===== Start working with \u001b[1mfold 0\u001b[0m for \u001b[1mLvl_0_Pipe_1_Mod_0_XGB\u001b[0m (orig) =====\n",
      "3.683231770002749 xgb single fold time\n",
      "[00:51:24] ===== Start working with \u001b[1mfold 1\u001b[0m for \u001b[1mLvl_0_Pipe_1_Mod_0_XGB\u001b[0m (orig) =====\n",
      "4.68822555099905 xgb single fold time\n",
      "[00:51:29] ===== Start working with \u001b[1mfold 2\u001b[0m for \u001b[1mLvl_0_Pipe_1_Mod_0_XGB\u001b[0m (orig) =====\n",
      "4.8059135129951756 xgb single fold time\n",
      "[00:51:34] Lvl_0_Pipe_1_Mod_0_XGB fitting and predicting completed\n",
      "[00:51:34] Time left 3570.97 secs\n",
      "\n",
      "[00:51:34] \u001b[1mLayer 1 training completed.\u001b[0m\n",
      "\n",
      "[00:51:34] Blending: Optimization starts with equal weights and score -3.7599369605124537\n",
      "[00:51:34] Blending, iter 0: score = -1.542713202341824, weights = [0. 1.]\n",
      "[00:51:34] Blending, iter 1: score = -1.542713202341824, weights = [0. 1.]\n",
      "[00:51:34] No score update. Terminated\n",
      "[00:51:34] \u001b[1mAutoml preset training completed in 29.18 seconds\u001b[0m\n",
      "\n",
      "[00:51:34] Model description:\n",
      "Final prediction for new objects (level 0) = \n",
      "\t 1.00000 * (3 averaged models Lvl_0_Pipe_1_Mod_0_XGB) \n",
      "\n"
     ]
    }
   ],
   "source": [
    "oof_pred_gpu = automl_gpu.fit_predict(data, roles = roles, verbose = 2)"
   ]
  },
  {
   "cell_type": "code",
   "execution_count": 13,
   "id": "a3b98e43",
   "metadata": {},
   "outputs": [
    {
     "name": "stderr",
     "output_type": "stream",
     "text": [
      "/home/rishat/miniconda3/envs/rapids-22.10/lib/python3.9/site-packages/distributed/comm/ucx.py:61: UserWarning: A CUDA context for device 0 already exists on process ID 48183. This is often the result of a CUDA-enabled library calling a CUDA runtime function before Dask-CUDA can spawn worker processes. Please make sure any such function calls don't happen at import time or in the global scope of a program.\n",
      "  warnings.warn(\n",
      "2022-11-09 00:51:36,014 - distributed.diskutils - INFO - Found stale lock file and directory '/tmp/dask-worker-space/worker-3415zbzy', purging\n",
      "2022-11-09 00:51:36,019 - distributed.preloading - INFO - Creating preload: dask_cuda.initialize\n",
      "2022-11-09 00:51:36,020 - distributed.preloading - INFO - Import preload module: dask_cuda.initialize\n"
     ]
    },
    {
     "name": "stdout",
     "output_type": "stream",
     "text": [
      "dashboard: http://127.0.0.1:8787/status\n"
     ]
    },
    {
     "data": {
      "text/plain": [
       "{'ucx://127.0.0.1:51855': None}"
      ]
     },
     "execution_count": 13,
     "metadata": {},
     "output_type": "execute_result"
    }
   ],
   "source": [
    "from dask.distributed import Client\n",
    "from dask_cuda import LocalCUDACluster\n",
    "import cudf\n",
    "\n",
    "cluster = LocalCUDACluster(rmm_managed_memory=True, CUDA_VISIBLE_DEVICES=\"0\",\n",
    "                               protocol=\"ucx\", enable_nvlink=True,\n",
    "                               memory_limit=\"8GB\")\n",
    "print(\"dashboard:\", cluster.dashboard_link)\n",
    "client = Client(cluster)\n",
    "client.run(cudf.set_allocator, \"managed\")"
   ]
  },
  {
   "cell_type": "code",
   "execution_count": 14,
   "id": "bf8c7fd4",
   "metadata": {},
   "outputs": [
    {
     "name": "stdout",
     "output_type": "stream",
     "text": [
      "cuml doesn't support in general case mae and will not be used.\n",
      "multi:reg isn`t supported in lgb\n",
      "CatBoost supports only MultiRMSE metric and loss for multi:reg task.\n"
     ]
    }
   ],
   "source": [
    "task = Task('multi:reg', device='mgpu')\n",
    "\n",
    "automl_mgpu = TabularAutoML_gpu(\n",
    "    task = task, \n",
    "    timeout = 3600,\n",
    "    cpu_limit = 1,\n",
    "    reader_params = {'n_jobs': 1, 'cv': 3, 'random_state': 42, 'npartitions': 2},\n",
    "    general_params = {'use_algos': [['xgb', 'linear_l2']]},\n",
    "    client = client\n",
    ")"
   ]
  },
  {
   "cell_type": "code",
   "execution_count": 15,
   "id": "8ff1a5b4",
   "metadata": {},
   "outputs": [
    {
     "name": "stdout",
     "output_type": "stream",
     "text": [
      "[00:51:36] Stdout logging level is INFO2.\n",
      "[00:51:36] Task: multi:reg\n",
      "\n",
      "[00:51:36] Start automl preset with listed constraints:\n",
      "[00:51:36] - time: 3600.00 seconds\n",
      "[00:51:36] - CPU: 1 cores\n",
      "[00:51:36] - memory: 16 GB\n",
      "\n",
      "[00:51:36] Train data shape: (768, 10)\n",
      "[00:51:37] Feats was rejected during automatic roles guess: []\n",
      "[00:51:37] Layer \u001b[1m1\u001b[0m train process start. Time left 3599.65 secs\n",
      "[00:51:37] Start fitting Lvl_0_Pipe_0_Mod_0_LinearL2 ...\n",
      "[00:51:37] ===== Start working with \u001b[1mfold 0\u001b[0m for \u001b[1mLvl_0_Pipe_0_Mod_0_LinearL2\u001b[0m (orig) =====\n",
      "3.0859955586493015e-06 getting data\n",
      "0.0008221759999287315 transfering model\n",
      "Score: -8.310052871704102\n",
      "Score: -8.196949005126953\n",
      "Score: -8.053692817687988\n",
      "Score: -6.996335029602051\n",
      "Score: -6.020552158355713\n",
      "Score: -2.942054271697998\n",
      "Score: -2.330030918121338\n",
      "Score: -2.0198934078216553\n",
      "Score: -2.0142459869384766\n",
      "Score: -2.030266046524048\n",
      "Score: -2.014115810394287\n",
      "Score: -2.0276408195495605\n",
      "Score: -2.0180680751800537\n",
      "3.3447785610042047 fit data\n",
      "0.0010094370009028353 predict data\n",
      "[00:51:40] ===== Start working with \u001b[1mfold 1\u001b[0m for \u001b[1mLvl_0_Pipe_0_Mod_0_LinearL2\u001b[0m (orig) =====\n",
      "5.55400038138032e-06 getting data\n",
      "0.0013241149936220609 transfering model\n",
      "Score: -9.31920051574707\n",
      "Score: -9.221382141113281\n",
      "Score: -9.095199584960938\n",
      "Score: -8.022777557373047\n",
      "Score: -6.853821277618408\n",
      "Score: -3.651630163192749\n",
      "Score: -2.8061342239379883\n",
      "Score: -2.360731601715088\n",
      "Score: -2.268040418624878\n",
      "Score: -2.2182581424713135\n",
      "Score: -2.1821417808532715\n",
      "Score: -2.193573236465454\n",
      "Score: -2.1914377212524414\n",
      "3.392735908004397 fit data\n",
      "0.001007926999591291 predict data\n",
      "[00:51:44] ===== Start working with \u001b[1mfold 2\u001b[0m for \u001b[1mLvl_0_Pipe_0_Mod_0_LinearL2\u001b[0m (orig) =====\n",
      "5.30000397702679e-06 getting data\n",
      "0.0005009259984944947 transfering model\n",
      "Score: -8.979844093322754\n",
      "Score: -8.83639907836914\n",
      "Score: -8.705657958984375\n",
      "Score: -7.706067085266113\n",
      "Score: -6.720308780670166\n",
      "Score: -3.3707356452941895\n",
      "Score: -2.5635666847229004\n",
      "Score: -2.0749127864837646\n",
      "Score: -2.0047688484191895\n",
      "Score: -1.9744459390640259\n",
      "Score: -1.945887565612793\n",
      "Score: -1.9553654193878174\n",
      "Score: -1.944512128829956\n",
      "Score: -1.9446183443069458\n",
      "Score: -1.9446039199829102\n",
      "3.0062299109995365 fit data\n",
      "0.0007443799986504018 predict data\n",
      "[00:51:47] Lvl_0_Pipe_0_Mod_0_LinearL2 fitting and predicting completed\n",
      "[00:51:47] Time left 3589.64 secs\n",
      "\n",
      "[00:51:47] Start fitting Selector_XGB ...\n",
      "[00:51:47] ===== Start working with \u001b[1mfold 0\u001b[0m for \u001b[1mSelector_XGB\u001b[0m (orig) =====\n",
      "4.589289233997988 xgb single fold time\n",
      "[00:51:51] Selector_XGB fitting and predicting completed\n",
      "[00:51:51] Start fitting Lvl_0_Pipe_1_Mod_0_XGB ...\n",
      "[00:51:51] ===== Start working with \u001b[1mfold 0\u001b[0m for \u001b[1mLvl_0_Pipe_1_Mod_0_XGB\u001b[0m (orig) =====\n"
     ]
    },
    {
     "name": "stderr",
     "output_type": "stream",
     "text": [
      "/home/rishat/miniconda3/envs/rapids-22.10/lib/python3.9/site-packages/xgboost/dask.py:884: RuntimeWarning: coroutine 'Client._wait_for_workers' was never awaited\n",
      "  client.wait_for_workers(n_workers)\n",
      "/home/rishat/miniconda3/envs/rapids-22.10/lib/python3.9/site-packages/distributed/worker_state_machine.py:3649: FutureWarning: The `Worker.nthreads` attribute has been moved to `Worker.state.nthreads`\n",
      "  warnings.warn(\n",
      "[00:51:55] task [xgboost.dask-0]:ucx://127.0.0.1:51855 got new rank 0\n"
     ]
    },
    {
     "name": "stdout",
     "output_type": "stream",
     "text": [
      "[00:51:59] ===== Start working with \u001b[1mfold 1\u001b[0m for \u001b[1mLvl_0_Pipe_1_Mod_0_XGB\u001b[0m (orig) =====\n"
     ]
    },
    {
     "name": "stderr",
     "output_type": "stream",
     "text": [
      "/home/rishat/miniconda3/envs/rapids-22.10/lib/python3.9/site-packages/xgboost/dask.py:884: RuntimeWarning: coroutine 'Client._wait_for_workers' was never awaited\n",
      "  client.wait_for_workers(n_workers)\n",
      "/home/rishat/miniconda3/envs/rapids-22.10/lib/python3.9/site-packages/distributed/worker_state_machine.py:3649: FutureWarning: The `Worker.nthreads` attribute has been moved to `Worker.state.nthreads`\n",
      "  warnings.warn(\n",
      "[00:51:59] task [xgboost.dask-0]:ucx://127.0.0.1:51855 got new rank 0\n"
     ]
    },
    {
     "name": "stdout",
     "output_type": "stream",
     "text": [
      "[00:52:04] ===== Start working with \u001b[1mfold 2\u001b[0m for \u001b[1mLvl_0_Pipe_1_Mod_0_XGB\u001b[0m (orig) =====\n"
     ]
    },
    {
     "name": "stderr",
     "output_type": "stream",
     "text": [
      "/home/rishat/miniconda3/envs/rapids-22.10/lib/python3.9/site-packages/xgboost/dask.py:884: RuntimeWarning: coroutine 'Client._wait_for_workers' was never awaited\n",
      "  client.wait_for_workers(n_workers)\n",
      "/home/rishat/miniconda3/envs/rapids-22.10/lib/python3.9/site-packages/distributed/worker_state_machine.py:3649: FutureWarning: The `Worker.nthreads` attribute has been moved to `Worker.state.nthreads`\n",
      "  warnings.warn(\n",
      "[00:52:05] task [xgboost.dask-0]:ucx://127.0.0.1:51855 got new rank 0\n"
     ]
    },
    {
     "name": "stdout",
     "output_type": "stream",
     "text": [
      "[00:52:10] Lvl_0_Pipe_1_Mod_0_XGB fitting and predicting completed\n",
      "[00:52:10] Time left 3566.11 secs\n",
      "\n",
      "[00:52:10] \u001b[1mLayer 1 training completed.\u001b[0m\n",
      "\n",
      "[00:52:10] Blending: Optimization starts with equal weights and score -1.2120926525692146\n",
      "[00:52:10] Blending, iter 0: score = -0.7123089543109139, weights = [0. 1.]\n",
      "[00:52:10] Blending, iter 1: score = -0.7123089543109139, weights = [0. 1.]\n",
      "[00:52:10] No score update. Terminated\n",
      "[00:52:10] \u001b[1mAutoml preset training completed in 33.97 seconds\u001b[0m\n",
      "\n",
      "[00:52:10] Model description:\n",
      "Final prediction for new objects (level 0) = \n",
      "\t 1.00000 * (3 averaged models Lvl_0_Pipe_1_Mod_0_XGB) \n",
      "\n"
     ]
    }
   ],
   "source": [
    "oof_pred_mgpu = automl_mgpu.fit_predict(data, roles = roles, verbose = 2)"
   ]
  },
  {
   "cell_type": "code",
   "execution_count": null,
   "id": "0102f412",
   "metadata": {},
   "outputs": [],
   "source": []
  },
  {
   "cell_type": "code",
   "execution_count": 16,
   "id": "8404b6c4",
   "metadata": {},
   "outputs": [
    {
     "data": {
      "text/plain": [
       "array([[15.770237, 22.325417],\n",
       "       [15.915673, 21.209105],\n",
       "       [15.78574 , 21.430384],\n",
       "       ...,\n",
       "       [16.53469 , 16.482996],\n",
       "       [16.339546, 15.88877 ],\n",
       "       [16.176693, 16.432215]], dtype=float32)"
      ]
     },
     "execution_count": 16,
     "metadata": {},
     "output_type": "execute_result"
    }
   ],
   "source": [
    "oof_pred"
   ]
  },
  {
   "cell_type": "code",
   "execution_count": 18,
   "id": "cea16f1e",
   "metadata": {},
   "outputs": [
    {
     "data": {
      "text/plain": [
       "array([[15.886688, 21.358255],\n",
       "       [15.886688, 21.358255],\n",
       "       [15.88041 , 20.278057],\n",
       "       ...,\n",
       "       [16.81559 , 16.999166],\n",
       "       [16.723276, 16.900993],\n",
       "       [16.81559 , 16.999166]], dtype=float32)"
      ]
     },
     "execution_count": 18,
     "metadata": {},
     "output_type": "execute_result"
    }
   ],
   "source": [
    "oof_pred_mgpu.data"
   ]
  },
  {
   "cell_type": "code",
   "execution_count": null,
   "id": "cc74a00f",
   "metadata": {},
   "outputs": [],
   "source": []
  }
 ],
 "metadata": {
  "kernelspec": {
   "display_name": "rapids-22.10",
   "language": "python",
   "name": "rapids-22.10"
  },
  "language_info": {
   "codemirror_mode": {
    "name": "ipython",
    "version": 3
   },
   "file_extension": ".py",
   "mimetype": "text/x-python",
   "name": "python",
   "nbconvert_exporter": "python",
   "pygments_lexer": "ipython3",
   "version": "3.9.13"
  }
 },
 "nbformat": 4,
 "nbformat_minor": 5
}

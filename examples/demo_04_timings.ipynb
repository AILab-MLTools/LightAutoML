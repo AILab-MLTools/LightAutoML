{
 "cells": [
  {
   "cell_type": "code",
   "execution_count": 1,
   "id": "4117fdeb",
   "metadata": {},
   "outputs": [],
   "source": [
    "from time import perf_counter\n",
    "import numpy as np\n",
    "import pandas as pd\n",
    "import random\n",
    "from numba import jit\n",
    "import string\n",
    "\n",
    "from lightautoml.reader.gpu.seq_reader_gpu import DictToCudfSeqReader\n",
    "from lightautoml.reader.gpu.seq_reader_gpu import DictToDaskCudfSeqReader\n",
    "from lightautoml.reader.base import DictToPandasSeqReader\n",
    "from lightautoml.tasks import Task\n",
    "\n",
    "from lightautoml.transformers.seq import SeqNumCountsTransformer\n",
    "from lightautoml.transformers.seq import SeqStatisticsTransformer\n",
    "from lightautoml.transformers.seq import GetSeqTransformer\n",
    "from lightautoml.transformers.gpu.seq_gpu import SeqNumCountsTransformer_gpu\n",
    "from lightautoml.transformers.gpu.seq_gpu import SeqStatisticsTransformer_gpu\n",
    "from lightautoml.transformers.gpu.seq_gpu import GetSeqTransformer_gpu\n",
    "\n",
    "RANDS_CHARS = np.array(list(string.ascii_letters + string.digits),\n",
    "                       dtype=(np.str_, 1))\n",
    "\n",
    "@jit(nopython=True)\n",
    "def gen_cols(n_cols):\n",
    "    cols = [\"\"]*n_cols\n",
    "    for i in range(n_cols):\n",
    "        cols[i] = \"col_\" + str(i)\n",
    "    return cols\n",
    "\n",
    "def gen_string_data(n, n_str):\n",
    "    string_db = [\"algorithm\", \"analog\", \"app\", \"application\", \"array\",\n",
    "                 \"backup\", \"bandwidth\", \"binary\", \"bit\", \"byte\"]#,\n",
    "                 #\"bitmap\", \"blog\", \"bookmark\", \"boot\", \"broadband\",\n",
    "                 #\"browser\" , \"buffer\", \"bug\"]\n",
    "    inds = np.random.randint(0, len(string_db), (n, n_str))\n",
    "    output = np.empty(inds.shape, dtype=object)\n",
    "    for i in range(inds.shape[0]):\n",
    "        for j in range(inds.shape[1]):\n",
    "            output[i][j] = string_db[inds[i][j]]\n",
    "\n",
    "    return output\n",
    "\n",
    "def gen_data_single_target(n: int, n_num: int, n_cat: int, n_date: int,\n",
    "         n_str: str, max_n_cat: int, n_ids: int, max_ids: list = None,\n",
    "         cols: list = None):\n",
    "    n_cols = n_num+n_cat+n_str+n_date+n_ids\n",
    "    cols = gen_cols(n_cols) if cols is None else cols\n",
    "    data = np.random.random((n, n_num))*100-50\n",
    "\n",
    "    category_data = np.random.randint(0, np.random.randint(1,max_n_cat),\n",
    "                                      (n, n_cat))\n",
    "    string_data = gen_string_data(n, n_str)\n",
    "\n",
    "    string_data = np.reshape(string_data, (n, n_str))\n",
    "\n",
    "    date_data = np.random.randint(0, 1000, (n, n_date))\\\n",
    "                               .astype(np.dtype(\"timedelta64[D]\")) \\\n",
    "                              + np.datetime64(\"2018-01-01\")\n",
    "\n",
    "    if max_ids is None:\n",
    "        id_data = np.arange(n, dtype=int)[:, np.newaxis]\\\n",
    "                  *np.ones(n_ids, dtype=int)[:, np.newaxis].T\n",
    "        for elem in id_data.T:\n",
    "            np.random.shuffle(elem)\n",
    "    else:\n",
    "        id_data = np.array(np.random.random((n, n_ids))*max_ids//1,\n",
    "                           dtype=int)\n",
    "\n",
    "    data = pd.DataFrame(data, columns = cols[:n_num]).astype('f')\n",
    "    \n",
    "    ix = [(row, col) for row in range(data.shape[0]) \\\n",
    "                     for col in range(data.shape[1])]\n",
    "    #for row, col in random.sample(ix, int(round(.1*len(ix)))):\n",
    "    #    data.iat[row, col] = np.nan\n",
    "    \n",
    "    nn = len(data.columns)\n",
    "    for i in range(n_cat):\n",
    "        data[cols[nn+i]] = pd.Series(category_data[:,i]).astype('f')\n",
    "    nn = len(data.columns)\n",
    "    for i in range(n_str):\n",
    "        data[cols[nn+i]] = pd.Series(string_data[:,i]).astype(object)\n",
    "    nn = len(data.columns)\n",
    "    for i in range(n_date):\n",
    "        data[cols[nn+i]] = pd.Series(date_data[:,i])\n",
    "    nn = len(data.columns)\n",
    "    for i in range(n_ids):\n",
    "        data[cols[nn+i]] = pd.Series(id_data[:, i])\n",
    "\n",
    "    data['TARGET'] = pd.Series(np.random.randint(0, 5, n)).astype('i')\n",
    "\n",
    "    return 'TARGET', cols, data\n",
    "\n",
    "## Data preparation\n",
    "n, n_num, n_cat, n_date, n_str = 5000, 3, 2, 2, 1\n",
    "max_n_cat, n_ids = 10, 1\n",
    "cols_data1 = [\"a\",\"b\",\"c\",\"d\",\"e\",\"str1\",\n",
    "              \"date1\", \"date2\", \"data1_id\"]\n",
    "_, _, data1 = gen_data_single_target(n, n_num, n_cat, \n",
    "              n_date, n_str, max_n_cat, n_ids, cols=cols_data1)\n",
    "\n",
    "n, n_num, n_cat, n_date, n_str = 35000, 2, 2, 0, 0\n",
    "max_n_cat, n_ids = 5, 1\n",
    "cols_data2 = [\"h\",\"i\",\"j\",\"k\", \"data2_id\"]\n",
    "_, _, data2 = gen_data_single_target(n, n_num, n_cat, \n",
    "              n_date, n_str, max_n_cat, n_ids, cols=cols_data2)\n",
    "\n",
    "max_ids = [50, 100]\n",
    "n, n_num, n_cat, n_date = 100000, 4, 6, 2\n",
    "n_str, max_n_cat, n_ids = 2, 15, 2\n",
    "target, cols, train = gen_data_single_target(n, n_num, n_cat, \n",
    "                     n_date, n_str, max_n_cat, n_ids, max_ids)\n",
    "\n",
    "n = 200\n",
    "_, _, test = gen_data_single_target(n, n_num, n_cat, \n",
    "                     n_date, n_str, max_n_cat, n_ids, max_ids)\n",
    "seq_params = {\n",
    "         'data1':{'case': 'ids',\n",
    "                  'params': {},\n",
    "                  'scheme': {'to': 'plain', \n",
    "                             'from_id': 'data1_id',\n",
    "                             'to_id': 'col_14'},\n",
    "                 },\n",
    "         'data2':{'case': 'ids',\n",
    "                  'params': {},\n",
    "                  'scheme': {'to': 'plain',\n",
    "                             'from_id': 'data2_id',\n",
    "                             'to_id': 'col_15'},\n",
    "                      },\n",
    "          }\n",
    "seq_data = {'data1': data1[cols_data1],\n",
    "            'data2': data2[cols_data2]              \n",
    "           }\n",
    "X_train = {'plain':train , \n",
    "           'seq': seq_data\n",
    "          }\n",
    "X_test = {'plain':test , \n",
    "           'seq': seq_data\n",
    "          }\n",
    "name = 'data2'\n",
    "#\n",
    "#\n",
    "#\n",
    "#\n",
    "#DATA1 THROWS ERROR ONLY ON GPU\n",
    "#\n",
    "#\n",
    "#\n",
    "#\n",
    "## Data preparation finished\n",
    "\n",
    "task = Task('reg', metric='mae')\n",
    "task_gpu = Task('reg', metric='mae', device='gpu')\n",
    "task_mgpu = Task('reg', metric='mae', device='mgpu')\n",
    "roles={'target': target}\n",
    "\n",
    "reader = DictToPandasSeqReader(task=task, seq_params=seq_params)"
   ]
  },
  {
   "cell_type": "code",
   "execution_count": 2,
   "id": "b64444e8",
   "metadata": {},
   "outputs": [
    {
     "name": "stdout",
     "output_type": "stream",
     "text": [
      "Feats was rejected during automatic roles guess: ['col_0', 'col_1', 'col_14', 'col_15', 'col_2', 'col_3', 'col_4', 'col_5', 'col_6', 'col_7', 'col_8', 'col_9', 'col_10', 'col_11']\n"
     ]
    },
    {
     "name": "stderr",
     "output_type": "stream",
     "text": [
      "/home/rishat/miniconda3/envs/rapids-22.10/lib/python3.9/site-packages/lightautoml/transformers/categorical.py:1028: FutureWarning: The series.append method is deprecated and will be removed from pandas in a future version. Use pandas.concat instead.\n",
      "  cnts = cnts.append(Series([cnts.shape[0] + 1], index=[np.nan]))\n",
      "/home/rishat/miniconda3/envs/rapids-22.10/lib/python3.9/site-packages/lightautoml/transformers/categorical.py:1028: FutureWarning: The series.append method is deprecated and will be removed from pandas in a future version. Use pandas.concat instead.\n",
      "  cnts = cnts.append(Series([cnts.shape[0] + 1], index=[np.nan]))\n"
     ]
    }
   ],
   "source": [
    "res = reader.fit_read(X_train, roles=roles)"
   ]
  },
  {
   "cell_type": "code",
   "execution_count": 3,
   "id": "7415e2eb",
   "metadata": {},
   "outputs": [],
   "source": [
    "from lightautoml.reader.gpu.seq_gpu import IDSInd_gpu, TopInd_gpu\n",
    "import cudf"
   ]
  },
  {
   "cell_type": "code",
   "execution_count": 4,
   "id": "8aee9469",
   "metadata": {},
   "outputs": [],
   "source": [
    "name = 'data2'\n",
    "\n",
    "ids_gpu = IDSInd_gpu(\n",
    "    scheme = reader.seq_params[name].get(\"scheme\", None),\n",
    "    **reader.seq_params[name][\"params\"])"
   ]
  },
  {
   "cell_type": "code",
   "execution_count": 5,
   "id": "23f0b75b",
   "metadata": {},
   "outputs": [],
   "source": [
    "cpu_data = res.seq_data[name].data\n",
    "cudf_data = cudf.DataFrame.from_pandas(cpu_data, nan_as_null=False)\n",
    "cudf_train = cudf.DataFrame.from_pandas(train, nan_as_null=False)"
   ]
  },
  {
   "cell_type": "code",
   "execution_count": 6,
   "id": "0dc69ab2",
   "metadata": {},
   "outputs": [
    {
     "name": "stdout",
     "output_type": "stream",
     "text": [
      "CPU times: user 456 ms, sys: 11.2 ms, total: 467 ms\n",
      "Wall time: 465 ms\n"
     ]
    }
   ],
   "source": [
    "%%time\n",
    "\n",
    "ids = cudf_data.to_pandas().reset_index().groupby(ids_gpu.scheme['from_id'])['index'].apply(list).to_dict()"
   ]
  },
  {
   "cell_type": "code",
   "execution_count": 7,
   "id": "356b4777",
   "metadata": {},
   "outputs": [
    {
     "name": "stdout",
     "output_type": "stream",
     "text": [
      "CPU times: user 27.8 ms, sys: 0 ns, total: 27.8 ms\n",
      "Wall time: 25.4 ms\n"
     ]
    }
   ],
   "source": [
    "%%time\n",
    "\n",
    "r = cudf_data.reset_index().groupby(ids_gpu.scheme['from_id'])['index'].agg('collect').to_pandas().to_dict()"
   ]
  },
  {
   "cell_type": "code",
   "execution_count": 8,
   "id": "5546cee3",
   "metadata": {},
   "outputs": [],
   "source": [
    "#ids"
   ]
  },
  {
   "cell_type": "code",
   "execution_count": 9,
   "id": "f5bb73bb",
   "metadata": {},
   "outputs": [],
   "source": [
    "#r"
   ]
  },
  {
   "cell_type": "code",
   "execution_count": 10,
   "id": "f34ae365",
   "metadata": {},
   "outputs": [
    {
     "name": "stdout",
     "output_type": "stream",
     "text": [
      "CPU times: user 21 ms, sys: 448 µs, total: 21.4 ms\n",
      "Wall time: 20.2 ms\n"
     ]
    }
   ],
   "source": [
    "%%time\n",
    "\n",
    "res1 = cudf_train[ids_gpu.scheme[\"to_id\"]].to_pandas().map(ids).values\n"
   ]
  },
  {
   "cell_type": "code",
   "execution_count": 11,
   "id": "97c61b34",
   "metadata": {},
   "outputs": [
    {
     "name": "stdout",
     "output_type": "stream",
     "text": [
      "CPU times: user 35.7 ms, sys: 0 ns, total: 35.7 ms\n",
      "Wall time: 34.3 ms\n"
     ]
    }
   ],
   "source": [
    "%%time\n",
    "\n",
    "res2 = cudf_train[ids_gpu.scheme[\"to_id\"]].map(ids).to_pandas().values"
   ]
  },
  {
   "cell_type": "code",
   "execution_count": 12,
   "id": "50399306",
   "metadata": {},
   "outputs": [
    {
     "data": {
      "text/plain": [
       "array([list([9540]), list([1689]), list([33804]), ..., list([7121]),\n",
       "       list([27653]), list([12244])], dtype=object)"
      ]
     },
     "execution_count": 12,
     "metadata": {},
     "output_type": "execute_result"
    }
   ],
   "source": [
    "res1"
   ]
  },
  {
   "cell_type": "code",
   "execution_count": 13,
   "id": "30a8920f",
   "metadata": {},
   "outputs": [
    {
     "data": {
      "text/plain": [
       "array([array([9540]), array([1689]), array([33804]), ..., array([7121]),\n",
       "       array([27653]), array([12244])], dtype=object)"
      ]
     },
     "execution_count": 13,
     "metadata": {},
     "output_type": "execute_result"
    }
   ],
   "source": [
    "res2"
   ]
  },
  {
   "cell_type": "code",
   "execution_count": 14,
   "id": "5b1ff0b1",
   "metadata": {},
   "outputs": [
    {
     "name": "stderr",
     "output_type": "stream",
     "text": [
      "/home/rishat/miniconda3/envs/rapids-22.10/lib/python3.9/site-packages/lightautoml/transformers/categorical.py:1028: FutureWarning: The series.append method is deprecated and will be removed from pandas in a future version. Use pandas.concat instead.\n",
      "  cnts = cnts.append(Series([cnts.shape[0] + 1], index=[np.nan]))\n",
      "/home/rishat/miniconda3/envs/rapids-22.10/lib/python3.9/site-packages/lightautoml/transformers/categorical.py:1028: FutureWarning: The series.append method is deprecated and will be removed from pandas in a future version. Use pandas.concat instead.\n",
      "  cnts = cnts.append(Series([cnts.shape[0] + 1], index=[np.nan]))\n"
     ]
    },
    {
     "name": "stdout",
     "output_type": "stream",
     "text": [
      "Feats was rejected during automatic roles guess: ['col_0', 'col_1', 'col_14', 'col_15', 'col_2', 'col_3', 'col_4', 'col_5', 'col_6', 'col_7', 'col_8', 'col_9', 'col_10', 'col_11']\n"
     ]
    },
    {
     "name": "stderr",
     "output_type": "stream",
     "text": [
      "/home/rishat/miniconda3/envs/rapids-22.10/lib/python3.9/site-packages/cudf/core/indexed_frame.py:3135: FutureWarning: The append method is deprecated and will be removed in a future version. Use cudf.concat instead.\n",
      "  warnings.warn(\n",
      "/home/rishat/miniconda3/envs/rapids-22.10/lib/python3.9/site-packages/cudf/core/indexed_frame.py:3135: FutureWarning: The append method is deprecated and will be removed in a future version. Use cudf.concat instead.\n",
      "  warnings.warn(\n"
     ]
    }
   ],
   "source": [
    "task = Task('reg', metric='mae')\n",
    "task_gpu = Task('reg', metric='mae', device='gpu')\n",
    "task_mgpu = Task('reg', metric='mae', device='mgpu')\n",
    "roles={'target': target}\n",
    "\n",
    "reader = DictToPandasSeqReader(task=task, seq_params=seq_params)    \n",
    "res = reader.fit_read(X_train, roles=roles)\n",
    "reader_gpu = DictToCudfSeqReader(task=task_gpu,\n",
    "                                seq_params=seq_params, n_jobs=1)\n",
    "res_gpu = reader_gpu.fit_read(X_train, roles=roles)\n",
    "reader_mgpu = DictToDaskCudfSeqReader(task=task_mgpu, cv=3,\n",
    "               n_jobs = 1, npartitions=2, seq_params=seq_params)\n",
    "res_mgpu = reader_mgpu.fit_read(X_train, roles=roles)\n",
    "\n",
    "counts = SeqNumCountsTransformer()\n",
    "counts_gpu = SeqNumCountsTransformer_gpu()\n",
    "\n",
    "stats = SeqStatisticsTransformer()\n",
    "stats_gpu = SeqStatisticsTransformer_gpu()\n",
    "\n",
    "seq = GetSeqTransformer(name=name)\n",
    "seq_gpu = GetSeqTransformer_gpu(name=name)"
   ]
  },
  {
   "cell_type": "code",
   "execution_count": null,
   "id": "59d19490",
   "metadata": {},
   "outputs": [],
   "source": []
  },
  {
   "cell_type": "code",
   "execution_count": 15,
   "id": "1e6039ec",
   "metadata": {},
   "outputs": [
    {
     "name": "stdout",
     "output_type": "stream",
     "text": [
      "CPU times: user 161 ms, sys: 215 µs, total: 162 ms\n",
      "Wall time: 160 ms\n"
     ]
    }
   ],
   "source": [
    "%%time\n",
    "\n",
    "counts.fit(res.seq_data[name])\n",
    "out_counts = counts.transform(res.seq_data[name])"
   ]
  },
  {
   "cell_type": "code",
   "execution_count": 16,
   "id": "e0d9944d",
   "metadata": {},
   "outputs": [
    {
     "name": "stdout",
     "output_type": "stream",
     "text": [
      "CPU times: user 18 ms, sys: 313 µs, total: 18.3 ms\n",
      "Wall time: 16.6 ms\n"
     ]
    }
   ],
   "source": [
    "%%time\n",
    "\n",
    "counts_gpu.fit(res_gpu.seq_data[name])\n",
    "out_counts_gpu = counts_gpu.transform(res_gpu.seq_data[name])\n"
   ]
  },
  {
   "cell_type": "code",
   "execution_count": 17,
   "id": "32bc04fd",
   "metadata": {},
   "outputs": [
    {
     "name": "stdout",
     "output_type": "stream",
     "text": [
      "CPU times: user 813 ms, sys: 27.5 ms, total: 840 ms\n",
      "Wall time: 838 ms\n"
     ]
    }
   ],
   "source": [
    "%%time\n",
    "\n",
    "counts_gpu.fit(res_mgpu.seq_data[name])\n",
    "out_counts_mgpu = counts_gpu.transform(res_mgpu.seq_data[name])\n"
   ]
  },
  {
   "cell_type": "code",
   "execution_count": 18,
   "id": "55a6b4db",
   "metadata": {},
   "outputs": [
    {
     "name": "stdout",
     "output_type": "stream",
     "text": [
      "CPU times: user 210 ms, sys: 296 µs, total: 210 ms\n",
      "Wall time: 209 ms\n"
     ]
    }
   ],
   "source": [
    "%%time\n",
    "\n",
    "stats.fit(res.seq_data[name])\n",
    "out_stats = stats.transform(res.seq_data[name])"
   ]
  },
  {
   "cell_type": "code",
   "execution_count": 19,
   "id": "10403f25",
   "metadata": {
    "scrolled": true
   },
   "outputs": [
    {
     "ename": "KeyError",
     "evalue": "0",
     "output_type": "error",
     "traceback": [
      "\u001b[0;31m---------------------------------------------------------------------------\u001b[0m",
      "\u001b[0;31mKeyError\u001b[0m                                  Traceback (most recent call last)",
      "File \u001b[0;32m<timed exec>:2\u001b[0m\n",
      "File \u001b[0;32m~/miniconda3/envs/rapids-22.10/lib/python3.9/site-packages/lightautoml/transformers/gpu/seq_gpu.py:128\u001b[0m, in \u001b[0;36mSeqStatisticsTransformer_gpu.transform\u001b[0;34m(self, dataset)\u001b[0m\n\u001b[1;32m    126\u001b[0m temp \u001b[38;5;241m=\u001b[39m copy(dataset\u001b[38;5;241m.\u001b[39midx)\n\u001b[1;32m    127\u001b[0m dataset\u001b[38;5;241m.\u001b[39midx \u001b[38;5;241m=\u001b[39m np\u001b[38;5;241m.\u001b[39marray([[x[\u001b[38;5;241m-\u001b[39m\u001b[38;5;241m1\u001b[39m]] \u001b[38;5;28;01mfor\u001b[39;00m x \u001b[38;5;129;01min\u001b[39;00m dataset\u001b[38;5;241m.\u001b[39midx])\n\u001b[0;32m--> 128\u001b[0m data \u001b[38;5;241m=\u001b[39m \u001b[43mdataset\u001b[49m\u001b[38;5;241;43m.\u001b[39;49m\u001b[43mget_first_frame\u001b[49m\u001b[43m(\u001b[49m\u001b[43m)\u001b[49m\u001b[38;5;241m.\u001b[39mdata\n\u001b[1;32m    129\u001b[0m dataset\u001b[38;5;241m.\u001b[39midx \u001b[38;5;241m=\u001b[39m copy(temp)\n\u001b[1;32m    131\u001b[0m \u001b[38;5;28;01mif\u001b[39;00m \u001b[38;5;28misinstance\u001b[39m(data, cudf\u001b[38;5;241m.\u001b[39mDataFrame):\n",
      "File \u001b[0;32m~/miniconda3/envs/rapids-22.10/lib/python3.9/site-packages/lightautoml/dataset/gpu/gpu_dataset.py:884\u001b[0m, in \u001b[0;36mSeqCudfDataset.get_first_frame\u001b[0;34m(self, k)\u001b[0m\n\u001b[1;32m    881\u001b[0m     idx \u001b[38;5;241m=\u001b[39m \u001b[38;5;28mself\u001b[39m\u001b[38;5;241m.\u001b[39m_get_cols_idx(\u001b[38;5;28mself\u001b[39m\u001b[38;5;241m.\u001b[39mdata\u001b[38;5;241m.\u001b[39mcolumns)\n\u001b[1;32m    883\u001b[0m first_frame_idx \u001b[38;5;241m=\u001b[39m [\u001b[38;5;28mself\u001b[39m\u001b[38;5;241m.\u001b[39midx[i][\u001b[38;5;241m0\u001b[39m] \u001b[38;5;28;01mfor\u001b[39;00m i \u001b[38;5;129;01min\u001b[39;00m rows]\n\u001b[0;32m--> 884\u001b[0m data \u001b[38;5;241m=\u001b[39m \u001b[38;5;28;43mself\u001b[39;49m\u001b[38;5;241;43m.\u001b[39;49m\u001b[43m_get_slice\u001b[49m\u001b[43m(\u001b[49m\u001b[38;5;28;43mself\u001b[39;49m\u001b[38;5;241;43m.\u001b[39;49m\u001b[43mdata\u001b[49m\u001b[43m,\u001b[49m\u001b[43m \u001b[49m\u001b[43m(\u001b[49m\u001b[43mfirst_frame_idx\u001b[49m\u001b[43m,\u001b[49m\u001b[43m \u001b[49m\u001b[43midx\u001b[49m\u001b[43m)\u001b[49m\u001b[43m)\u001b[49m\n\u001b[1;32m    886\u001b[0m \u001b[38;5;28;01mif\u001b[39;00m rows \u001b[38;5;129;01mis\u001b[39;00m \u001b[38;5;28;01mNone\u001b[39;00m:\n\u001b[1;32m    887\u001b[0m     dataset \u001b[38;5;241m=\u001b[39m CudfDataset(\u001b[38;5;28;01mNone\u001b[39;00m, deepcopy(roles), task\u001b[38;5;241m=\u001b[39m\u001b[38;5;28mself\u001b[39m\u001b[38;5;241m.\u001b[39mtask)\n",
      "File \u001b[0;32m~/miniconda3/envs/rapids-22.10/lib/python3.9/site-packages/lightautoml/dataset/gpu/gpu_dataset.py:949\u001b[0m, in \u001b[0;36mSeqCudfDataset._get_slice\u001b[0;34m(self, data, k)\u001b[0m\n\u001b[1;32m    947\u001b[0m rows, cols \u001b[38;5;241m=\u001b[39m k\n\u001b[1;32m    948\u001b[0m \u001b[38;5;28;01mif\u001b[39;00m \u001b[38;5;28misinstance\u001b[39m(data, cudf\u001b[38;5;241m.\u001b[39mDataFrame):\n\u001b[0;32m--> 949\u001b[0m     \u001b[38;5;28;01mreturn\u001b[39;00m \u001b[43mdata\u001b[49m\u001b[43m[\u001b[49m\u001b[43mcols\u001b[49m\u001b[43m]\u001b[49m\u001b[38;5;241m.\u001b[39miloc[rows]\n\u001b[1;32m    950\u001b[0m \u001b[38;5;28;01melse\u001b[39;00m:\n\u001b[1;32m    951\u001b[0m     \u001b[38;5;28;01mraise\u001b[39;00m \u001b[38;5;167;01mTypeError\u001b[39;00m(\u001b[38;5;124m\"\u001b[39m\u001b[38;5;124mwrong data type for _get_slice() in \u001b[39m\u001b[38;5;124m\"\u001b[39m\u001b[38;5;241m+\u001b[39m\n\u001b[1;32m    952\u001b[0m                     \u001b[38;5;28mself\u001b[39m\u001b[38;5;241m.\u001b[39m\u001b[38;5;18m__class__\u001b[39m\u001b[38;5;241m.\u001b[39m\u001b[38;5;18m__name__\u001b[39m)\n",
      "File \u001b[0;32m~/miniconda3/envs/rapids-22.10/lib/python3.9/contextlib.py:79\u001b[0m, in \u001b[0;36mContextDecorator.__call__.<locals>.inner\u001b[0;34m(*args, **kwds)\u001b[0m\n\u001b[1;32m     76\u001b[0m \u001b[38;5;129m@wraps\u001b[39m(func)\n\u001b[1;32m     77\u001b[0m \u001b[38;5;28;01mdef\u001b[39;00m \u001b[38;5;21minner\u001b[39m(\u001b[38;5;241m*\u001b[39margs, \u001b[38;5;241m*\u001b[39m\u001b[38;5;241m*\u001b[39mkwds):\n\u001b[1;32m     78\u001b[0m     \u001b[38;5;28;01mwith\u001b[39;00m \u001b[38;5;28mself\u001b[39m\u001b[38;5;241m.\u001b[39m_recreate_cm():\n\u001b[0;32m---> 79\u001b[0m         \u001b[38;5;28;01mreturn\u001b[39;00m \u001b[43mfunc\u001b[49m\u001b[43m(\u001b[49m\u001b[38;5;241;43m*\u001b[39;49m\u001b[43margs\u001b[49m\u001b[43m,\u001b[49m\u001b[43m \u001b[49m\u001b[38;5;241;43m*\u001b[39;49m\u001b[38;5;241;43m*\u001b[39;49m\u001b[43mkwds\u001b[49m\u001b[43m)\u001b[49m\n",
      "File \u001b[0;32m~/miniconda3/envs/rapids-22.10/lib/python3.9/site-packages/cudf/core/dataframe.py:1186\u001b[0m, in \u001b[0;36mDataFrame.__getitem__\u001b[0;34m(self, arg)\u001b[0m\n\u001b[1;32m   1184\u001b[0m         \u001b[38;5;28;01mreturn\u001b[39;00m \u001b[38;5;28mself\u001b[39m\u001b[38;5;241m.\u001b[39m_apply_boolean_mask(mask)\n\u001b[1;32m   1185\u001b[0m     \u001b[38;5;28;01melse\u001b[39;00m:\n\u001b[0;32m-> 1186\u001b[0m         \u001b[38;5;28;01mreturn\u001b[39;00m \u001b[38;5;28;43mself\u001b[39;49m\u001b[38;5;241;43m.\u001b[39;49m\u001b[43m_get_columns_by_label\u001b[49m\u001b[43m(\u001b[49m\u001b[43mmask\u001b[49m\u001b[43m)\u001b[49m\n\u001b[1;32m   1187\u001b[0m \u001b[38;5;28;01melif\u001b[39;00m \u001b[38;5;28misinstance\u001b[39m(arg, DataFrame):\n\u001b[1;32m   1188\u001b[0m     \u001b[38;5;28;01mreturn\u001b[39;00m \u001b[38;5;28mself\u001b[39m\u001b[38;5;241m.\u001b[39mwhere(arg)\n",
      "File \u001b[0;32m~/miniconda3/envs/rapids-22.10/lib/python3.9/contextlib.py:79\u001b[0m, in \u001b[0;36mContextDecorator.__call__.<locals>.inner\u001b[0;34m(*args, **kwds)\u001b[0m\n\u001b[1;32m     76\u001b[0m \u001b[38;5;129m@wraps\u001b[39m(func)\n\u001b[1;32m     77\u001b[0m \u001b[38;5;28;01mdef\u001b[39;00m \u001b[38;5;21minner\u001b[39m(\u001b[38;5;241m*\u001b[39margs, \u001b[38;5;241m*\u001b[39m\u001b[38;5;241m*\u001b[39mkwds):\n\u001b[1;32m     78\u001b[0m     \u001b[38;5;28;01mwith\u001b[39;00m \u001b[38;5;28mself\u001b[39m\u001b[38;5;241m.\u001b[39m_recreate_cm():\n\u001b[0;32m---> 79\u001b[0m         \u001b[38;5;28;01mreturn\u001b[39;00m \u001b[43mfunc\u001b[49m\u001b[43m(\u001b[49m\u001b[38;5;241;43m*\u001b[39;49m\u001b[43margs\u001b[49m\u001b[43m,\u001b[49m\u001b[43m \u001b[49m\u001b[38;5;241;43m*\u001b[39;49m\u001b[38;5;241;43m*\u001b[39;49m\u001b[43mkwds\u001b[49m\u001b[43m)\u001b[49m\n",
      "File \u001b[0;32m~/miniconda3/envs/rapids-22.10/lib/python3.9/site-packages/cudf/core/dataframe.py:1910\u001b[0m, in \u001b[0;36mDataFrame._get_columns_by_label\u001b[0;34m(self, labels, downcast)\u001b[0m\n\u001b[1;32m   1903\u001b[0m \u001b[38;5;129m@_cudf_nvtx_annotate\u001b[39m\n\u001b[1;32m   1904\u001b[0m \u001b[38;5;28;01mdef\u001b[39;00m \u001b[38;5;21m_get_columns_by_label\u001b[39m(\u001b[38;5;28mself\u001b[39m, labels, downcast\u001b[38;5;241m=\u001b[39m\u001b[38;5;28;01mFalse\u001b[39;00m):\n\u001b[1;32m   1905\u001b[0m     \u001b[38;5;124;03m\"\"\"\u001b[39;00m\n\u001b[1;32m   1906\u001b[0m \u001b[38;5;124;03m    Return columns of dataframe by `labels`\u001b[39;00m\n\u001b[1;32m   1907\u001b[0m \n\u001b[1;32m   1908\u001b[0m \u001b[38;5;124;03m    If downcast is True, try and downcast from a DataFrame to a Series\u001b[39;00m\n\u001b[1;32m   1909\u001b[0m \u001b[38;5;124;03m    \"\"\"\u001b[39;00m\n\u001b[0;32m-> 1910\u001b[0m     new_data \u001b[38;5;241m=\u001b[39m \u001b[38;5;28;43msuper\u001b[39;49m\u001b[43m(\u001b[49m\u001b[43m)\u001b[49m\u001b[38;5;241;43m.\u001b[39;49m\u001b[43m_get_columns_by_label\u001b[49m\u001b[43m(\u001b[49m\u001b[43mlabels\u001b[49m\u001b[43m,\u001b[49m\u001b[43m \u001b[49m\u001b[43mdowncast\u001b[49m\u001b[43m)\u001b[49m\n\u001b[1;32m   1911\u001b[0m     \u001b[38;5;28;01mif\u001b[39;00m downcast:\n\u001b[1;32m   1912\u001b[0m         \u001b[38;5;28;01mif\u001b[39;00m is_scalar(labels):\n",
      "File \u001b[0;32m~/miniconda3/envs/rapids-22.10/lib/python3.9/contextlib.py:79\u001b[0m, in \u001b[0;36mContextDecorator.__call__.<locals>.inner\u001b[0;34m(*args, **kwds)\u001b[0m\n\u001b[1;32m     76\u001b[0m \u001b[38;5;129m@wraps\u001b[39m(func)\n\u001b[1;32m     77\u001b[0m \u001b[38;5;28;01mdef\u001b[39;00m \u001b[38;5;21minner\u001b[39m(\u001b[38;5;241m*\u001b[39margs, \u001b[38;5;241m*\u001b[39m\u001b[38;5;241m*\u001b[39mkwds):\n\u001b[1;32m     78\u001b[0m     \u001b[38;5;28;01mwith\u001b[39;00m \u001b[38;5;28mself\u001b[39m\u001b[38;5;241m.\u001b[39m_recreate_cm():\n\u001b[0;32m---> 79\u001b[0m         \u001b[38;5;28;01mreturn\u001b[39;00m \u001b[43mfunc\u001b[49m\u001b[43m(\u001b[49m\u001b[38;5;241;43m*\u001b[39;49m\u001b[43margs\u001b[49m\u001b[43m,\u001b[49m\u001b[43m \u001b[49m\u001b[38;5;241;43m*\u001b[39;49m\u001b[38;5;241;43m*\u001b[39;49m\u001b[43mkwds\u001b[49m\u001b[43m)\u001b[49m\n",
      "File \u001b[0;32m~/miniconda3/envs/rapids-22.10/lib/python3.9/site-packages/cudf/core/frame.py:414\u001b[0m, in \u001b[0;36mFrame._get_columns_by_label\u001b[0;34m(self, labels, downcast)\u001b[0m\n\u001b[1;32m    408\u001b[0m \u001b[38;5;129m@_cudf_nvtx_annotate\u001b[39m\n\u001b[1;32m    409\u001b[0m \u001b[38;5;28;01mdef\u001b[39;00m \u001b[38;5;21m_get_columns_by_label\u001b[39m(\u001b[38;5;28mself\u001b[39m, labels, downcast\u001b[38;5;241m=\u001b[39m\u001b[38;5;28;01mFalse\u001b[39;00m):\n\u001b[1;32m    410\u001b[0m     \u001b[38;5;124;03m\"\"\"\u001b[39;00m\n\u001b[1;32m    411\u001b[0m \u001b[38;5;124;03m    Returns columns of the Frame specified by `labels`\u001b[39;00m\n\u001b[1;32m    412\u001b[0m \n\u001b[1;32m    413\u001b[0m \u001b[38;5;124;03m    \"\"\"\u001b[39;00m\n\u001b[0;32m--> 414\u001b[0m     \u001b[38;5;28;01mreturn\u001b[39;00m \u001b[38;5;28;43mself\u001b[39;49m\u001b[38;5;241;43m.\u001b[39;49m\u001b[43m_data\u001b[49m\u001b[38;5;241;43m.\u001b[39;49m\u001b[43mselect_by_label\u001b[49m\u001b[43m(\u001b[49m\u001b[43mlabels\u001b[49m\u001b[43m)\u001b[49m\n",
      "File \u001b[0;32m~/miniconda3/envs/rapids-22.10/lib/python3.9/site-packages/cudf/core/column_accessor.py:338\u001b[0m, in \u001b[0;36mColumnAccessor.select_by_label\u001b[0;34m(self, key)\u001b[0m\n\u001b[1;32m    336\u001b[0m     \u001b[38;5;28;01mreturn\u001b[39;00m \u001b[38;5;28mself\u001b[39m\u001b[38;5;241m.\u001b[39m_select_by_label_slice(key)\n\u001b[1;32m    337\u001b[0m \u001b[38;5;28;01melif\u001b[39;00m pd\u001b[38;5;241m.\u001b[39mapi\u001b[38;5;241m.\u001b[39mtypes\u001b[38;5;241m.\u001b[39mis_list_like(key) \u001b[38;5;129;01mand\u001b[39;00m \u001b[38;5;129;01mnot\u001b[39;00m \u001b[38;5;28misinstance\u001b[39m(key, \u001b[38;5;28mtuple\u001b[39m):\n\u001b[0;32m--> 338\u001b[0m     \u001b[38;5;28;01mreturn\u001b[39;00m \u001b[38;5;28;43mself\u001b[39;49m\u001b[38;5;241;43m.\u001b[39;49m\u001b[43m_select_by_label_list_like\u001b[49m\u001b[43m(\u001b[49m\u001b[43mkey\u001b[49m\u001b[43m)\u001b[49m\n\u001b[1;32m    339\u001b[0m \u001b[38;5;28;01melse\u001b[39;00m:\n\u001b[1;32m    340\u001b[0m     \u001b[38;5;28;01mif\u001b[39;00m \u001b[38;5;28misinstance\u001b[39m(key, \u001b[38;5;28mtuple\u001b[39m):\n",
      "File \u001b[0;32m~/miniconda3/envs/rapids-22.10/lib/python3.9/site-packages/cudf/core/column_accessor.py:453\u001b[0m, in \u001b[0;36mColumnAccessor._select_by_label_list_like\u001b[0;34m(self, key)\u001b[0m\n\u001b[1;32m    452\u001b[0m \u001b[38;5;28;01mdef\u001b[39;00m \u001b[38;5;21m_select_by_label_list_like\u001b[39m(\u001b[38;5;28mself\u001b[39m, key: Any) \u001b[38;5;241m-\u001b[39m\u001b[38;5;241m>\u001b[39m ColumnAccessor:\n\u001b[0;32m--> 453\u001b[0m     data \u001b[38;5;241m=\u001b[39m {k: \u001b[38;5;28mself\u001b[39m\u001b[38;5;241m.\u001b[39m_grouped_data[k] \u001b[38;5;28;01mfor\u001b[39;00m k \u001b[38;5;129;01min\u001b[39;00m key}\n\u001b[1;32m    454\u001b[0m     \u001b[38;5;28;01mif\u001b[39;00m \u001b[38;5;28mself\u001b[39m\u001b[38;5;241m.\u001b[39mmultiindex:\n\u001b[1;32m    455\u001b[0m         data \u001b[38;5;241m=\u001b[39m _to_flat_dict(data)\n",
      "File \u001b[0;32m~/miniconda3/envs/rapids-22.10/lib/python3.9/site-packages/cudf/core/column_accessor.py:453\u001b[0m, in \u001b[0;36m<dictcomp>\u001b[0;34m(.0)\u001b[0m\n\u001b[1;32m    452\u001b[0m \u001b[38;5;28;01mdef\u001b[39;00m \u001b[38;5;21m_select_by_label_list_like\u001b[39m(\u001b[38;5;28mself\u001b[39m, key: Any) \u001b[38;5;241m-\u001b[39m\u001b[38;5;241m>\u001b[39m ColumnAccessor:\n\u001b[0;32m--> 453\u001b[0m     data \u001b[38;5;241m=\u001b[39m {k: \u001b[38;5;28;43mself\u001b[39;49m\u001b[38;5;241;43m.\u001b[39;49m\u001b[43m_grouped_data\u001b[49m\u001b[43m[\u001b[49m\u001b[43mk\u001b[49m\u001b[43m]\u001b[49m \u001b[38;5;28;01mfor\u001b[39;00m k \u001b[38;5;129;01min\u001b[39;00m key}\n\u001b[1;32m    454\u001b[0m     \u001b[38;5;28;01mif\u001b[39;00m \u001b[38;5;28mself\u001b[39m\u001b[38;5;241m.\u001b[39mmultiindex:\n\u001b[1;32m    455\u001b[0m         data \u001b[38;5;241m=\u001b[39m _to_flat_dict(data)\n",
      "\u001b[0;31mKeyError\u001b[0m: 0"
     ]
    }
   ],
   "source": [
    "%%time\n",
    "\n",
    "stats_gpu.fit(res_gpu.seq_data[name])\n",
    "out_stats_gpu = stats_gpu.transform(res_gpu.seq_data[name])"
   ]
  },
  {
   "cell_type": "code",
   "execution_count": 20,
   "id": "a08df1c5",
   "metadata": {},
   "outputs": [
    {
     "name": "stderr",
     "output_type": "stream",
     "text": [
      "/home/rishat/miniconda3/envs/rapids-22.10/lib/python3.9/site-packages/dask/dataframe/core.py:4948: UserWarning: New index has same name as existing, this is a no-op.\n",
      "  warnings.warn(\n",
      "/home/rishat/miniconda3/envs/rapids-22.10/lib/python3.9/site-packages/dask/dataframe/core.py:4948: UserWarning: New index has same name as existing, this is a no-op.\n",
      "  warnings.warn(\n"
     ]
    },
    {
     "name": "stdout",
     "output_type": "stream",
     "text": [
      "CPU times: user 723 ms, sys: 15.7 ms, total: 738 ms\n",
      "Wall time: 732 ms\n"
     ]
    }
   ],
   "source": [
    "%%time\n",
    "\n",
    "stats_gpu.fit(res_mgpu.seq_data[name])\n",
    "out_stats_mgpu = stats_gpu.transform(res_mgpu.seq_data[name])"
   ]
  },
  {
   "cell_type": "code",
   "execution_count": 21,
   "id": "4a42d414",
   "metadata": {},
   "outputs": [
    {
     "name": "stdout",
     "output_type": "stream",
     "text": [
      "CPU times: user 4.9 ms, sys: 126 µs, total: 5.02 ms\n",
      "Wall time: 4.25 ms\n"
     ]
    }
   ],
   "source": [
    "%%time\n",
    "\n",
    "seq.fit(res)\n",
    "out_seq = seq.transform(res)"
   ]
  },
  {
   "cell_type": "code",
   "execution_count": 22,
   "id": "680a9970",
   "metadata": {},
   "outputs": [
    {
     "name": "stdout",
     "output_type": "stream",
     "text": [
      "CPU times: user 439 µs, sys: 0 ns, total: 439 µs\n",
      "Wall time: 444 µs\n"
     ]
    }
   ],
   "source": [
    "%%time\n",
    "\n",
    "seq_gpu.fit(res_gpu)\n",
    "out_seq_gpu = seq_gpu.transform(res_gpu)\n"
   ]
  },
  {
   "cell_type": "code",
   "execution_count": 23,
   "id": "64c41478",
   "metadata": {},
   "outputs": [
    {
     "name": "stdout",
     "output_type": "stream",
     "text": [
      "CPU times: user 445 ms, sys: 20 ms, total: 465 ms\n",
      "Wall time: 461 ms\n"
     ]
    },
    {
     "name": "stderr",
     "output_type": "stream",
     "text": [
      "/home/rishat/miniconda3/envs/rapids-22.10/lib/python3.9/site-packages/dask/dataframe/core.py:4948: UserWarning: New index has same name as existing, this is a no-op.\n",
      "  warnings.warn(\n"
     ]
    }
   ],
   "source": [
    "%%time\n",
    "\n",
    "seq_gpu.fit(res_mgpu)\n",
    "out_seq_mgpu = seq_gpu.transform(res_mgpu)"
   ]
  },
  {
   "cell_type": "code",
   "execution_count": null,
   "id": "bd199409",
   "metadata": {},
   "outputs": [],
   "source": []
  }
 ],
 "metadata": {
  "kernelspec": {
   "display_name": "rapids-22.10",
   "language": "python",
   "name": "rapids-22.10"
  },
  "language_info": {
   "codemirror_mode": {
    "name": "ipython",
    "version": 3
   },
   "file_extension": ".py",
   "mimetype": "text/x-python",
   "name": "python",
   "nbconvert_exporter": "python",
   "pygments_lexer": "ipython3",
   "version": "3.9.13"
  }
 },
 "nbformat": 4,
 "nbformat_minor": 5
}

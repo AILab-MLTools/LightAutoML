{
 "cells": [
  {
   "cell_type": "code",
   "execution_count": 1,
   "id": "9d7d953b",
   "metadata": {},
   "outputs": [
    {
     "data": {
      "text/plain": [
       "'/trinity/home/r.zagidullin/miniconda3/envs/new_lama_venv/bin/python3.8'"
      ]
     },
     "execution_count": 1,
     "metadata": {},
     "output_type": "execute_result"
    }
   ],
   "source": [
    "import joblib\n",
    "from joblib import Parallel, delayed\n",
    "from multiprocessing import Queue\n",
    "from itertools import product\n",
    "\n",
    "from time import sleep\n",
    "\n",
    "import subprocess\n",
    "\n",
    "import os\n",
    "\n",
    "import sys\n",
    "sys.executable"
   ]
  },
  {
   "cell_type": "code",
   "execution_count": 2,
   "id": "9c0131ca",
   "metadata": {},
   "outputs": [],
   "source": [
    "# Define number of GPUs available\n",
    "NAME = 'LAMA_PRESET_DP_SMALL_TO_OLD'\n",
    "PREFIX = 'runs'\n",
    "#GPU_PARTS = [[0, 1]]\n",
    "gpu = [0,1]\n",
    "RUNNER_PATH = 'runners/lama_dp.py'\n",
    "CONFIG_PATH = 'runners/lama_dp.yml'\n",
    "DEBUG = True\n",
    "\n",
    "TIMEOUT = 7200\n",
    "HARD_TIMEOUT = 7200\n",
    "NTHREADS = 8\n",
    "SEED = 42\n",
    "\n",
    "# benchmark_params\n",
    "data_path = '../../data/old_presets/data'\n",
    "benchmark_path = '../../data/old_presets'"
   ]
  },
  {
   "cell_type": "code",
   "execution_count": 11,
   "id": "f9d5ec6e",
   "metadata": {},
   "outputs": [],
   "source": [
    "## Put indices in queue\n",
    "#q = Queue(maxsize=len(GPU_PARTS))\n",
    "#for i in GPU_PARTS:\n",
    "#    q.put(i)\n",
    "\n",
    "data_info = joblib.load(os.path.join(benchmark_path, 'data_info.pkl'))"
   ]
  },
  {
   "cell_type": "code",
   "execution_count": null,
   "id": "e3d90d89",
   "metadata": {},
   "outputs": [],
   "source": []
  },
  {
   "cell_type": "code",
   "execution_count": 3,
   "id": "fe7b2709",
   "metadata": {},
   "outputs": [],
   "source": [
    "def run_task(benchmark_path, data_path, dataset, fold, rewrite=False):\n",
    "    gpu=[0,1]\n",
    "    run_name = dataset + '_' + str(fold)\n",
    "    \n",
    "    print('Processing', run_name)\n",
    "    \n",
    "    benchmark_path = os.path.abspath(benchmark_path)\n",
    "    data_path = os.path.abspath(data_path)\n",
    "    output = os.path.join(benchmark_path, PREFIX, NAME, dataset, 'fold_{0}'.format(fold))\n",
    "    \n",
    "    os.makedirs(output, exist_ok=True)\n",
    "    \n",
    "    success_flg = os.path.join(output, 'SUCCESS')\n",
    "    \n",
    "    if os.path.exists(success_flg) and not rewrite:\n",
    "        return \n",
    "    \n",
    "    # clean folder\n",
    "    for f in (x for x in os.listdir(output) if not x.startswith('.')):\n",
    "        os.remove(os.path.join(output, f))\n",
    "    \n",
    "    # TRAIN\n",
    "    try:\n",
    "        \n",
    "        script = \"source /trinity/home/r.zagidullin/miniconda3/bin/activate; conda activate new_lama_venv; which python; \"\n",
    "        \n",
    "        log = subprocess.check_output(script + ' '.join([\n",
    "            'python', \n",
    "            RUNNER_PATH,\n",
    "            '-b', benchmark_path,\n",
    "            '-p', data_path,\n",
    "            '-k', dataset,\n",
    "            '-f', str(fold), \n",
    "            '-n', str(NTHREADS),\n",
    "            '-s', str(SEED),\n",
    "            '-d', ','.join(map(str, gpu)),\n",
    "            '-c', os.path.abspath(CONFIG_PATH),\n",
    "            '-t', str(TIMEOUT),\n",
    "            '-o', output\n",
    "\n",
    "        ]), timeout=HARD_TIMEOUT, shell=True, stderr=subprocess.STDOUT, executable='/bin/bash').decode()\n",
    "        \n",
    "        if DEBUG:\n",
    "            print(log)\n",
    "        \n",
    "        with open(success_flg, 'w') as f:\n",
    "            pass\n",
    "        \n",
    "        with open(os.path.join(output, 'train_log.txt'), 'w') as f:\n",
    "            f.write(log)\n",
    "    \n",
    "    except subprocess.CalledProcessError as e:\n",
    "\n",
    "        print(e.output.decode())\n",
    "        \n",
    "        with open(os.path.join(output, 'ERROR'), 'w') as f:\n",
    "            pass\n",
    "        \n",
    "        with open(os.path.join(output, 'train_log.txt'), 'w') as f:\n",
    "            f.write(e.output.decode())\n",
    "                  \n",
    "    except subprocess.TimeoutExpired:\n",
    "        \n",
    "        \n",
    "        with open(os.path.join(output, 'TIMEOUT'), 'w') as f:\n",
    "            pass\n",
    "        \n",
    "        print('HARD TIMEOUT!')    \n",
    "    \n",
    "# def run_task(benchmark_path, data_path, dataset, fold, rewrite=False):\n",
    "    \n",
    "#     gpu = q.get()\n",
    "#     _run_task(benchmark_path, data_path, dataset, fold, gpu, rewrite)\n",
    "#     q.put(gpu)\n",
    "    \n",
    "#     return "
   ]
  },
  {
   "cell_type": "code",
   "execution_count": 12,
   "id": "eb7727c2",
   "metadata": {},
   "outputs": [
    {
     "data": {
      "text/plain": [
       "dict_keys(['covertype', 'albert', 'higgs', 'guillermo', 'bank-marketing', 'numerai28.6', 'volkert', 'adult', 'MiniBooNE', 'dilbert', 'riccardo', 'shuttle', 'KDDCup09_appetency', 'Fashion-MNIST', 'connect-4', 'airlines', 'jannis', 'nomao', 'Amazon_employee_access', 'robert', 'aps_failure', 'jungle_chess_2pcs_raw_endgame_complete', 'ashrae-energy-prediction', 'ieee-fraud-detection', 'bnp-paribas-cardif-claims-management', 'porto-seguro-safe-driver-prediction', 'springleaf-marketing-response', 'talkingdata-adtracking-fraud-detection'])"
      ]
     },
     "execution_count": 12,
     "metadata": {},
     "output_type": "execute_result"
    }
   ],
   "source": [
    "data_info.keys()"
   ]
  },
  {
   "cell_type": "code",
   "execution_count": 6,
   "id": "e505b17f",
   "metadata": {},
   "outputs": [
    {
     "data": {
      "text/plain": [
       "{'path': 'springleaf-marketing-response/train.csv',\n",
       " 'target': 'target',\n",
       " 'task_type': 'binary',\n",
       " 'drop': ['ID']}"
      ]
     },
     "execution_count": 6,
     "metadata": {},
     "output_type": "execute_result"
    }
   ],
   "source": [
    "data_info['springleaf-marketing-response']"
   ]
  },
  {
   "cell_type": "code",
   "execution_count": 17,
   "id": "eb131fb2",
   "metadata": {},
   "outputs": [
    {
     "name": "stdout",
     "output_type": "stream",
     "text": [
      "catboost_info\t\t  RunConfig_0_OLD.ipynb       runners\r\n",
      "PrepareBenchmark.ipynb\t  RunConfig_0_OLD_PF.ipynb\r\n",
      "RunConfig_0_OLD_DP.ipynb  RunConfig_0_UTILIZED.ipynb\r\n"
     ]
    }
   ],
   "source": [
    "!ls\n"
   ]
  },
  {
   "cell_type": "code",
   "execution_count": 18,
   "id": "a1816781",
   "metadata": {},
   "outputs": [
    {
     "name": "stdout",
     "output_type": "stream",
     "text": [
      "Processing shuttle_4\n",
      "/trinity/home/r.zagidullin/miniconda3/envs/new_lama_venv/bin/python\n",
      "Train dataset shuttle, fold 4\n",
      "{'na_values': '?'}\n",
      "   A1  A2  A3  A4  A5  A6  A7  A8  A9  class\n",
      "0  50  21  77   0  28   0  27  48  22      1\n",
      "1  55   0  92   0   0  26  36  92  56      3\n",
      "2  53   0  82   0  52  -5  29  30   2      0\n",
      "3  37   0  76   0  28  18  40  48   8      0\n",
      "4  37   0  79   0  34 -26  43  46   2      0\n",
      "/trinity/home/r.zagidullin/miniconda3/envs/new_lama_venv/lib/python3.8/site-packages/distributed/comm/ucx.py:61: UserWarning: A CUDA context for device 0 already exists on process ID 2295887. This is often the result of a CUDA-enabled library calling a CUDA runtime function before Dask-CUDA can spawn worker processes. Please make sure any such function calls don't happen at import time or in the global scope of a program.\n",
      "  warnings.warn(\n",
      "2022-11-17 14:53:36,233 - distributed.diskutils - INFO - Found stale lock file and directory '/tmp/dask-worker-space/worker-vcw7cvj9', purging\n",
      "2022-11-17 14:53:36,233 - distributed.diskutils - INFO - Found stale lock file and directory '/tmp/dask-worker-space/worker-05oh_ewq', purging\n",
      "2022-11-17 14:53:36,233 - distributed.preloading - INFO - Creating preload: dask_cuda.initialize\n",
      "2022-11-17 14:53:36,233 - distributed.preloading - INFO - Import preload module: dask_cuda.initialize\n",
      "2022-11-17 14:53:36,236 - distributed.preloading - INFO - Creating preload: dask_cuda.initialize\n",
      "2022-11-17 14:53:36,236 - distributed.preloading - INFO - Import preload module: dask_cuda.initialize\n",
      "Started\n",
      "[14:53:48] Stdout logging level is DEBUG.\n",
      "[14:53:48] Copying TaskTimer may affect the parent PipelineTimer, so copy will create new unlimited TaskTimer\n",
      "[14:53:48] Task: multiclass\n",
      "\n",
      "[14:53:48] Start automl preset with listed constraints:\n",
      "[14:53:48] - time: 7200.00 seconds\n",
      "[14:53:48] - CPU: 4 cores\n",
      "[14:53:48] - memory: 16 GB\n",
      "\n",
      "[14:53:48] Train data shape: (46400, 10)\n",
      "Feats was rejected during automatic roles guess: []\n",
      "[14:53:55] Layer \u001b[1m1\u001b[0m train process start. Time left 7193.10 secs\n",
      "[14:53:56] Start fitting Lvl_0_Pipe_0_Mod_0_LinearL2 ...\n",
      "[14:53:56] ===== Start working with \u001b[1mfold 0\u001b[0m for \u001b[1mLvl_0_Pipe_0_Mod_0_LinearL2\u001b[0m (orig) =====\n",
      "4.3995678424835205e-06 getting data\n",
      "7.917048208415508 transfering model\n",
      "Score: -0.5647656619548798\n",
      "Score: -0.4288433939218521\n",
      "Score: -0.36853010952472687\n",
      "Score: -0.2279520258307457\n",
      "Score: -0.1738637313246727\n",
      "Score: -0.08814714476466179\n",
      "Score: -0.065889373421669\n",
      "Score: -0.034315720200538635\n",
      "Score: -0.02611808106303215\n",
      "Score: -0.017560229171067476\n",
      "Score: -0.015273902099579573\n",
      "Score: -0.012733250157907605\n",
      "Score: -0.010885379510000348\n",
      "Score: -0.010804151883348823\n",
      "Score: -0.009380795760080218\n",
      "Score: -0.009601208381354809\n",
      "Score: -0.009264444466680288\n",
      "Score: -0.007530927890911698\n",
      "Score: -0.009493887657299638\n",
      "Score: -0.006631749914959073\n",
      "Score: -0.006459686905145645\n",
      "43.30106380395591 fit data\n",
      "0.00889996625483036 predict data\n",
      "[14:54:47] ===== Start working with \u001b[1mfold 1\u001b[0m for \u001b[1mLvl_0_Pipe_0_Mod_0_LinearL2\u001b[0m (orig) =====\n",
      "5.077570676803589e-06 getting data\n",
      "0.007017258554697037 transfering model\n",
      "Score: -0.5657874941825867\n",
      "Score: -0.4304037541151047\n",
      "Score: -0.3699549585580826\n",
      "Score: -0.22894586622714996\n",
      "Score: -0.17474620044231415\n",
      "Score: -0.09056070819497108\n",
      "Score: -0.06923989579081535\n",
      "Score: -0.03812100738286972\n",
      "Score: -0.029912498779594898\n",
      "Score: -0.01929921656847\n",
      "Score: -0.015290169976651669\n",
      "Score: -0.014168248046189547\n",
      "Score: -0.012770022731274366\n",
      "Score: -0.011897226329892874\n",
      "Score: -0.010362045606598258\n",
      "Score: -0.01285046199336648\n",
      "Score: -0.011907268781214952\n",
      "20.969437452033162 fit data\n",
      "0.0016248803585767746 predict data\n",
      "[14:55:08] ===== Start working with \u001b[1mfold 2\u001b[0m for \u001b[1mLvl_0_Pipe_0_Mod_0_LinearL2\u001b[0m (orig) =====\n",
      "6.4782798290252686e-06 getting data\n",
      "0.0009451378136873245 transfering model\n",
      "Score: -0.5642445683479309\n",
      "Score: -0.42796294391155243\n",
      "Score: -0.3675495535135269\n",
      "Score: -0.22654830664396286\n",
      "Score: -0.17250030487775803\n",
      "Score: -0.08731289580464363\n",
      "Score: -0.06557992100715637\n",
      "Score: -0.034732818603515625\n",
      "Score: -0.027000089175999165\n",
      "Score: -0.0163305988535285\n",
      "Score: -0.01807988528162241\n",
      "Score: -0.01785196689888835\n",
      "16.32232237048447 fit data\n",
      "0.0017138347029685974 predict data\n",
      "[14:55:24] ===== Start working with \u001b[1mfold 3\u001b[0m for \u001b[1mLvl_0_Pipe_0_Mod_0_LinearL2\u001b[0m (orig) =====\n",
      "6.368383765220642e-06 getting data\n",
      "0.0009240154176950455 transfering model\n",
      "Score: -0.5648474991321564\n",
      "Score: -0.4289681762456894\n",
      "Score: -0.36876270174980164\n",
      "Score: -0.227765791118145\n",
      "Score: -0.17299513518810272\n",
      "Score: -0.08662568405270576\n",
      "Score: -0.06415371038019657\n",
      "Score: -0.032042209059000015\n",
      "Score: -0.024303359910845757\n",
      "Score: -0.014807145111262798\n",
      "Score: -0.013487576972693205\n",
      "Score: -0.011750509962439537\n",
      "Score: -0.010766650084406137\n",
      "Score: -0.01346289087086916\n",
      "Score: -0.014933782629668713\n",
      "22.58443335071206 fit data\n",
      "0.0016558673232793808 predict data\n",
      "[14:55:47] ===== Start working with \u001b[1mfold 4\u001b[0m for \u001b[1mLvl_0_Pipe_0_Mod_0_LinearL2\u001b[0m (orig) =====\n",
      "6.387010216712952e-06 getting data\n",
      "0.0009152647107839584 transfering model\n",
      "Score: -0.5636764168739319\n",
      "Score: -0.4258851855993271\n",
      "Score: -0.3646792620420456\n",
      "Score: -0.2238074466586113\n",
      "Score: -0.1700746938586235\n",
      "Score: -0.08547363057732582\n",
      "Score: -0.06351842544972897\n",
      "Score: -0.03230503760278225\n",
      "Score: -0.024444933980703354\n",
      "Score: -0.0163105227984488\n",
      "Score: -0.015703063923865557\n",
      "Score: -0.01209646975621581\n",
      "Score: -0.013268503826111555\n",
      "Score: -0.014736066572368145\n",
      "18.571924874559045 fit data\n",
      "0.0015793032944202423 predict data\n",
      "[14:56:05] Time history [51.24406599998474, 20.978618383407593, 16.32542371749878, 22.587443113327026, 18.57486081123352]. Time left 842.5477866492046\n",
      "[14:56:05] Lvl_0_Pipe_0_Mod_0_LinearL2 fitting and predicting completed\n",
      "[14:56:05] Time left 7062.91 secs\n",
      "\n",
      "[14:56:05] Start fitting Selector_CatBoost_gpu ...\n",
      "[14:56:05] ===== Start working with \u001b[1mfold 0\u001b[0m for \u001b[1mSelector_CatBoost_gpu\u001b[0m (orig) =====\n",
      "/trinity/home/r.zagidullin/miniconda3/envs/new_lama_venv/lib/python3.8/multiprocessing/resource_tracker.py:216: UserWarning: resource_tracker: There appear to be 12 leaked semaphore objects to clean up at shutdown\n",
      "  warnings.warn('resource_tracker: There appear to be %d '\n",
      "/bin/bash: line 1: 2295887 Killed                  python runners/lama_dp.py -b /beegfs/home/r.zagidullin/LAMA/LightAutoML/data/old_presets -p /beegfs/home/r.zagidullin/LAMA/LightAutoML/data/old_presets/data -k shuttle -f 4 -n 8 -s 42 -d 0,1 -c /beegfs/home/r.zagidullin/LAMA/LightAutoML/examples/old/runners/lama_dp.yml -t 7200 -o /beegfs/home/r.zagidullin/LAMA/LightAutoML/data/old_presets/runs/LAMA_PRESET_DP_SMALL_TO_OLD/shuttle/fold_4\n",
      "\n"
     ]
    }
   ],
   "source": [
    "run_task(benchmark_path, data_path, 'shuttle', 4, True)"
   ]
  },
  {
   "cell_type": "code",
   "execution_count": 4,
   "id": "6d914378",
   "metadata": {
    "scrolled": false
   },
   "outputs": [
    {
     "name": "stdout",
     "output_type": "stream",
     "text": [
      "Processing robert_4\n"
     ]
    },
    {
     "ename": "KeyboardInterrupt",
     "evalue": "",
     "output_type": "error",
     "traceback": [
      "\u001b[0;31m---------------------------------------------------------------------------\u001b[0m",
      "\u001b[0;31mKeyboardInterrupt\u001b[0m                         Traceback (most recent call last)",
      "Cell \u001b[0;32mIn [4], line 1\u001b[0m\n\u001b[0;32m----> 1\u001b[0m \u001b[43mrun_task\u001b[49m\u001b[43m(\u001b[49m\u001b[43mbenchmark_path\u001b[49m\u001b[43m,\u001b[49m\u001b[43m \u001b[49m\u001b[43mdata_path\u001b[49m\u001b[43m,\u001b[49m\u001b[43m \u001b[49m\u001b[38;5;124;43m'\u001b[39;49m\u001b[38;5;124;43mrobert\u001b[39;49m\u001b[38;5;124;43m'\u001b[39;49m\u001b[43m,\u001b[49m\u001b[43m \u001b[49m\u001b[38;5;241;43m4\u001b[39;49m\u001b[43m,\u001b[49m\u001b[43m \u001b[49m\u001b[38;5;28;43;01mTrue\u001b[39;49;00m\u001b[43m)\u001b[49m\n",
      "Cell \u001b[0;32mIn [3], line 27\u001b[0m, in \u001b[0;36mrun_task\u001b[0;34m(benchmark_path, data_path, dataset, fold, rewrite)\u001b[0m\n\u001b[1;32m     23\u001b[0m \u001b[38;5;28;01mtry\u001b[39;00m:\n\u001b[1;32m     25\u001b[0m     script \u001b[38;5;241m=\u001b[39m \u001b[38;5;124m\"\u001b[39m\u001b[38;5;124msource /trinity/home/r.zagidullin/miniconda3/bin/activate; conda activate new_lama_venv; which python; \u001b[39m\u001b[38;5;124m\"\u001b[39m\n\u001b[0;32m---> 27\u001b[0m     log \u001b[38;5;241m=\u001b[39m \u001b[43msubprocess\u001b[49m\u001b[38;5;241;43m.\u001b[39;49m\u001b[43mcheck_output\u001b[49m\u001b[43m(\u001b[49m\u001b[43mscript\u001b[49m\u001b[43m \u001b[49m\u001b[38;5;241;43m+\u001b[39;49m\u001b[43m \u001b[49m\u001b[38;5;124;43m'\u001b[39;49m\u001b[38;5;124;43m \u001b[39;49m\u001b[38;5;124;43m'\u001b[39;49m\u001b[38;5;241;43m.\u001b[39;49m\u001b[43mjoin\u001b[49m\u001b[43m(\u001b[49m\u001b[43m[\u001b[49m\n\u001b[1;32m     28\u001b[0m \u001b[43m        \u001b[49m\u001b[38;5;124;43m'\u001b[39;49m\u001b[38;5;124;43mpython\u001b[39;49m\u001b[38;5;124;43m'\u001b[39;49m\u001b[43m,\u001b[49m\u001b[43m \u001b[49m\n\u001b[1;32m     29\u001b[0m \u001b[43m        \u001b[49m\u001b[43mRUNNER_PATH\u001b[49m\u001b[43m,\u001b[49m\n\u001b[1;32m     30\u001b[0m \u001b[43m        \u001b[49m\u001b[38;5;124;43m'\u001b[39;49m\u001b[38;5;124;43m-b\u001b[39;49m\u001b[38;5;124;43m'\u001b[39;49m\u001b[43m,\u001b[49m\u001b[43m \u001b[49m\u001b[43mbenchmark_path\u001b[49m\u001b[43m,\u001b[49m\n\u001b[1;32m     31\u001b[0m \u001b[43m        \u001b[49m\u001b[38;5;124;43m'\u001b[39;49m\u001b[38;5;124;43m-p\u001b[39;49m\u001b[38;5;124;43m'\u001b[39;49m\u001b[43m,\u001b[49m\u001b[43m \u001b[49m\u001b[43mdata_path\u001b[49m\u001b[43m,\u001b[49m\n\u001b[1;32m     32\u001b[0m \u001b[43m        \u001b[49m\u001b[38;5;124;43m'\u001b[39;49m\u001b[38;5;124;43m-k\u001b[39;49m\u001b[38;5;124;43m'\u001b[39;49m\u001b[43m,\u001b[49m\u001b[43m \u001b[49m\u001b[43mdataset\u001b[49m\u001b[43m,\u001b[49m\n\u001b[1;32m     33\u001b[0m \u001b[43m        \u001b[49m\u001b[38;5;124;43m'\u001b[39;49m\u001b[38;5;124;43m-f\u001b[39;49m\u001b[38;5;124;43m'\u001b[39;49m\u001b[43m,\u001b[49m\u001b[43m \u001b[49m\u001b[38;5;28;43mstr\u001b[39;49m\u001b[43m(\u001b[49m\u001b[43mfold\u001b[49m\u001b[43m)\u001b[49m\u001b[43m,\u001b[49m\u001b[43m \u001b[49m\n\u001b[1;32m     34\u001b[0m \u001b[43m        \u001b[49m\u001b[38;5;124;43m'\u001b[39;49m\u001b[38;5;124;43m-n\u001b[39;49m\u001b[38;5;124;43m'\u001b[39;49m\u001b[43m,\u001b[49m\u001b[43m \u001b[49m\u001b[38;5;28;43mstr\u001b[39;49m\u001b[43m(\u001b[49m\u001b[43mNTHREADS\u001b[49m\u001b[43m)\u001b[49m\u001b[43m,\u001b[49m\n\u001b[1;32m     35\u001b[0m \u001b[43m        \u001b[49m\u001b[38;5;124;43m'\u001b[39;49m\u001b[38;5;124;43m-s\u001b[39;49m\u001b[38;5;124;43m'\u001b[39;49m\u001b[43m,\u001b[49m\u001b[43m \u001b[49m\u001b[38;5;28;43mstr\u001b[39;49m\u001b[43m(\u001b[49m\u001b[43mSEED\u001b[49m\u001b[43m)\u001b[49m\u001b[43m,\u001b[49m\n\u001b[1;32m     36\u001b[0m \u001b[43m        \u001b[49m\u001b[38;5;124;43m'\u001b[39;49m\u001b[38;5;124;43m-d\u001b[39;49m\u001b[38;5;124;43m'\u001b[39;49m\u001b[43m,\u001b[49m\u001b[43m \u001b[49m\u001b[38;5;124;43m'\u001b[39;49m\u001b[38;5;124;43m,\u001b[39;49m\u001b[38;5;124;43m'\u001b[39;49m\u001b[38;5;241;43m.\u001b[39;49m\u001b[43mjoin\u001b[49m\u001b[43m(\u001b[49m\u001b[38;5;28;43mmap\u001b[39;49m\u001b[43m(\u001b[49m\u001b[38;5;28;43mstr\u001b[39;49m\u001b[43m,\u001b[49m\u001b[43m \u001b[49m\u001b[43mgpu\u001b[49m\u001b[43m)\u001b[49m\u001b[43m)\u001b[49m\u001b[43m,\u001b[49m\n\u001b[1;32m     37\u001b[0m \u001b[43m        \u001b[49m\u001b[38;5;124;43m'\u001b[39;49m\u001b[38;5;124;43m-c\u001b[39;49m\u001b[38;5;124;43m'\u001b[39;49m\u001b[43m,\u001b[49m\u001b[43m \u001b[49m\u001b[43mos\u001b[49m\u001b[38;5;241;43m.\u001b[39;49m\u001b[43mpath\u001b[49m\u001b[38;5;241;43m.\u001b[39;49m\u001b[43mabspath\u001b[49m\u001b[43m(\u001b[49m\u001b[43mCONFIG_PATH\u001b[49m\u001b[43m)\u001b[49m\u001b[43m,\u001b[49m\n\u001b[1;32m     38\u001b[0m \u001b[43m        \u001b[49m\u001b[38;5;124;43m'\u001b[39;49m\u001b[38;5;124;43m-t\u001b[39;49m\u001b[38;5;124;43m'\u001b[39;49m\u001b[43m,\u001b[49m\u001b[43m \u001b[49m\u001b[38;5;28;43mstr\u001b[39;49m\u001b[43m(\u001b[49m\u001b[43mTIMEOUT\u001b[49m\u001b[43m)\u001b[49m\u001b[43m,\u001b[49m\n\u001b[1;32m     39\u001b[0m \u001b[43m        \u001b[49m\u001b[38;5;124;43m'\u001b[39;49m\u001b[38;5;124;43m-o\u001b[39;49m\u001b[38;5;124;43m'\u001b[39;49m\u001b[43m,\u001b[49m\u001b[43m \u001b[49m\u001b[43moutput\u001b[49m\n\u001b[1;32m     40\u001b[0m \n\u001b[1;32m     41\u001b[0m \u001b[43m    \u001b[49m\u001b[43m]\u001b[49m\u001b[43m)\u001b[49m\u001b[43m,\u001b[49m\u001b[43m \u001b[49m\u001b[43mtimeout\u001b[49m\u001b[38;5;241;43m=\u001b[39;49m\u001b[43mHARD_TIMEOUT\u001b[49m\u001b[43m,\u001b[49m\u001b[43m \u001b[49m\u001b[43mshell\u001b[49m\u001b[38;5;241;43m=\u001b[39;49m\u001b[38;5;28;43;01mTrue\u001b[39;49;00m\u001b[43m,\u001b[49m\u001b[43m \u001b[49m\u001b[43mstderr\u001b[49m\u001b[38;5;241;43m=\u001b[39;49m\u001b[43msubprocess\u001b[49m\u001b[38;5;241;43m.\u001b[39;49m\u001b[43mSTDOUT\u001b[49m\u001b[43m,\u001b[49m\u001b[43m \u001b[49m\u001b[43mexecutable\u001b[49m\u001b[38;5;241;43m=\u001b[39;49m\u001b[38;5;124;43m'\u001b[39;49m\u001b[38;5;124;43m/bin/bash\u001b[39;49m\u001b[38;5;124;43m'\u001b[39;49m\u001b[43m)\u001b[49m\u001b[38;5;241m.\u001b[39mdecode()\n\u001b[1;32m     43\u001b[0m     \u001b[38;5;28;01mif\u001b[39;00m DEBUG:\n\u001b[1;32m     44\u001b[0m         \u001b[38;5;28mprint\u001b[39m(log)\n",
      "File \u001b[0;32m~/miniconda3/envs/new_lama_venv/lib/python3.8/subprocess.py:415\u001b[0m, in \u001b[0;36mcheck_output\u001b[0;34m(timeout, *popenargs, **kwargs)\u001b[0m\n\u001b[1;32m    412\u001b[0m         empty \u001b[38;5;241m=\u001b[39m \u001b[38;5;124mb\u001b[39m\u001b[38;5;124m'\u001b[39m\u001b[38;5;124m'\u001b[39m\n\u001b[1;32m    413\u001b[0m     kwargs[\u001b[38;5;124m'\u001b[39m\u001b[38;5;124minput\u001b[39m\u001b[38;5;124m'\u001b[39m] \u001b[38;5;241m=\u001b[39m empty\n\u001b[0;32m--> 415\u001b[0m \u001b[38;5;28;01mreturn\u001b[39;00m \u001b[43mrun\u001b[49m\u001b[43m(\u001b[49m\u001b[38;5;241;43m*\u001b[39;49m\u001b[43mpopenargs\u001b[49m\u001b[43m,\u001b[49m\u001b[43m \u001b[49m\u001b[43mstdout\u001b[49m\u001b[38;5;241;43m=\u001b[39;49m\u001b[43mPIPE\u001b[49m\u001b[43m,\u001b[49m\u001b[43m \u001b[49m\u001b[43mtimeout\u001b[49m\u001b[38;5;241;43m=\u001b[39;49m\u001b[43mtimeout\u001b[49m\u001b[43m,\u001b[49m\u001b[43m \u001b[49m\u001b[43mcheck\u001b[49m\u001b[38;5;241;43m=\u001b[39;49m\u001b[38;5;28;43;01mTrue\u001b[39;49;00m\u001b[43m,\u001b[49m\n\u001b[1;32m    416\u001b[0m \u001b[43m           \u001b[49m\u001b[38;5;241;43m*\u001b[39;49m\u001b[38;5;241;43m*\u001b[39;49m\u001b[43mkwargs\u001b[49m\u001b[43m)\u001b[49m\u001b[38;5;241m.\u001b[39mstdout\n",
      "File \u001b[0;32m~/miniconda3/envs/new_lama_venv/lib/python3.8/subprocess.py:495\u001b[0m, in \u001b[0;36mrun\u001b[0;34m(input, capture_output, timeout, check, *popenargs, **kwargs)\u001b[0m\n\u001b[1;32m    493\u001b[0m \u001b[38;5;28;01mwith\u001b[39;00m Popen(\u001b[38;5;241m*\u001b[39mpopenargs, \u001b[38;5;241m*\u001b[39m\u001b[38;5;241m*\u001b[39mkwargs) \u001b[38;5;28;01mas\u001b[39;00m process:\n\u001b[1;32m    494\u001b[0m     \u001b[38;5;28;01mtry\u001b[39;00m:\n\u001b[0;32m--> 495\u001b[0m         stdout, stderr \u001b[38;5;241m=\u001b[39m \u001b[43mprocess\u001b[49m\u001b[38;5;241;43m.\u001b[39;49m\u001b[43mcommunicate\u001b[49m\u001b[43m(\u001b[49m\u001b[38;5;28;43minput\u001b[39;49m\u001b[43m,\u001b[49m\u001b[43m \u001b[49m\u001b[43mtimeout\u001b[49m\u001b[38;5;241;43m=\u001b[39;49m\u001b[43mtimeout\u001b[49m\u001b[43m)\u001b[49m\n\u001b[1;32m    496\u001b[0m     \u001b[38;5;28;01mexcept\u001b[39;00m TimeoutExpired \u001b[38;5;28;01mas\u001b[39;00m exc:\n\u001b[1;32m    497\u001b[0m         process\u001b[38;5;241m.\u001b[39mkill()\n",
      "File \u001b[0;32m~/miniconda3/envs/new_lama_venv/lib/python3.8/subprocess.py:1028\u001b[0m, in \u001b[0;36mPopen.communicate\u001b[0;34m(self, input, timeout)\u001b[0m\n\u001b[1;32m   1025\u001b[0m     endtime \u001b[38;5;241m=\u001b[39m \u001b[38;5;28;01mNone\u001b[39;00m\n\u001b[1;32m   1027\u001b[0m \u001b[38;5;28;01mtry\u001b[39;00m:\n\u001b[0;32m-> 1028\u001b[0m     stdout, stderr \u001b[38;5;241m=\u001b[39m \u001b[38;5;28;43mself\u001b[39;49m\u001b[38;5;241;43m.\u001b[39;49m\u001b[43m_communicate\u001b[49m\u001b[43m(\u001b[49m\u001b[38;5;28;43minput\u001b[39;49m\u001b[43m,\u001b[49m\u001b[43m \u001b[49m\u001b[43mendtime\u001b[49m\u001b[43m,\u001b[49m\u001b[43m \u001b[49m\u001b[43mtimeout\u001b[49m\u001b[43m)\u001b[49m\n\u001b[1;32m   1029\u001b[0m \u001b[38;5;28;01mexcept\u001b[39;00m \u001b[38;5;167;01mKeyboardInterrupt\u001b[39;00m:\n\u001b[1;32m   1030\u001b[0m     \u001b[38;5;66;03m# https://bugs.python.org/issue25942\u001b[39;00m\n\u001b[1;32m   1031\u001b[0m     \u001b[38;5;66;03m# See the detailed comment in .wait().\u001b[39;00m\n\u001b[1;32m   1032\u001b[0m     \u001b[38;5;28;01mif\u001b[39;00m timeout \u001b[38;5;129;01mis\u001b[39;00m \u001b[38;5;129;01mnot\u001b[39;00m \u001b[38;5;28;01mNone\u001b[39;00m:\n",
      "File \u001b[0;32m~/miniconda3/envs/new_lama_venv/lib/python3.8/subprocess.py:1868\u001b[0m, in \u001b[0;36mPopen._communicate\u001b[0;34m(self, input, endtime, orig_timeout)\u001b[0m\n\u001b[1;32m   1861\u001b[0m     \u001b[38;5;28mself\u001b[39m\u001b[38;5;241m.\u001b[39m_check_timeout(endtime, orig_timeout,\n\u001b[1;32m   1862\u001b[0m                         stdout, stderr,\n\u001b[1;32m   1863\u001b[0m                         skip_check_and_raise\u001b[38;5;241m=\u001b[39m\u001b[38;5;28;01mTrue\u001b[39;00m)\n\u001b[1;32m   1864\u001b[0m     \u001b[38;5;28;01mraise\u001b[39;00m \u001b[38;5;167;01mRuntimeError\u001b[39;00m(  \u001b[38;5;66;03m# Impossible :)\u001b[39;00m\n\u001b[1;32m   1865\u001b[0m         \u001b[38;5;124m'\u001b[39m\u001b[38;5;124m_check_timeout(..., skip_check_and_raise=True) \u001b[39m\u001b[38;5;124m'\u001b[39m\n\u001b[1;32m   1866\u001b[0m         \u001b[38;5;124m'\u001b[39m\u001b[38;5;124mfailed to raise TimeoutExpired.\u001b[39m\u001b[38;5;124m'\u001b[39m)\n\u001b[0;32m-> 1868\u001b[0m ready \u001b[38;5;241m=\u001b[39m \u001b[43mselector\u001b[49m\u001b[38;5;241;43m.\u001b[39;49m\u001b[43mselect\u001b[49m\u001b[43m(\u001b[49m\u001b[43mtimeout\u001b[49m\u001b[43m)\u001b[49m\n\u001b[1;32m   1869\u001b[0m \u001b[38;5;28mself\u001b[39m\u001b[38;5;241m.\u001b[39m_check_timeout(endtime, orig_timeout, stdout, stderr)\n\u001b[1;32m   1871\u001b[0m \u001b[38;5;66;03m# XXX Rewrite these to use non-blocking I/O on the file\u001b[39;00m\n\u001b[1;32m   1872\u001b[0m \u001b[38;5;66;03m# objects; they are no longer using C stdio!\u001b[39;00m\n",
      "File \u001b[0;32m~/miniconda3/envs/new_lama_venv/lib/python3.8/selectors.py:415\u001b[0m, in \u001b[0;36m_PollLikeSelector.select\u001b[0;34m(self, timeout)\u001b[0m\n\u001b[1;32m    413\u001b[0m ready \u001b[38;5;241m=\u001b[39m []\n\u001b[1;32m    414\u001b[0m \u001b[38;5;28;01mtry\u001b[39;00m:\n\u001b[0;32m--> 415\u001b[0m     fd_event_list \u001b[38;5;241m=\u001b[39m \u001b[38;5;28;43mself\u001b[39;49m\u001b[38;5;241;43m.\u001b[39;49m\u001b[43m_selector\u001b[49m\u001b[38;5;241;43m.\u001b[39;49m\u001b[43mpoll\u001b[49m\u001b[43m(\u001b[49m\u001b[43mtimeout\u001b[49m\u001b[43m)\u001b[49m\n\u001b[1;32m    416\u001b[0m \u001b[38;5;28;01mexcept\u001b[39;00m \u001b[38;5;167;01mInterruptedError\u001b[39;00m:\n\u001b[1;32m    417\u001b[0m     \u001b[38;5;28;01mreturn\u001b[39;00m ready\n",
      "\u001b[0;31mKeyboardInterrupt\u001b[0m: "
     ]
    }
   ],
   "source": [
    "run_task(benchmark_path, data_path, 'robert', 4, True)"
   ]
  },
  {
   "cell_type": "code",
   "execution_count": 11,
   "id": "56d0b2aa",
   "metadata": {},
   "outputs": [
    {
     "data": {
      "text/plain": [
       "{'path': 'openml/robert.csv',\n",
       " 'target': 'class',\n",
       " 'task_type': 'multiclass',\n",
       " 'read_csv_params': {'na_values': '?'}}"
      ]
     },
     "execution_count": 11,
     "metadata": {},
     "output_type": "execute_result"
    }
   ],
   "source": [
    "data_info['robert']"
   ]
  },
  {
   "cell_type": "code",
   "execution_count": null,
   "id": "668ab673",
   "metadata": {},
   "outputs": [],
   "source": [
    "from time import sleep"
   ]
  },
  {
   "cell_type": "code",
   "execution_count": null,
   "id": "606c154c",
   "metadata": {},
   "outputs": [],
   "source": [
    "for d in data_info:\n",
    "    run_task(benchmark_path, data_path, d, 4, True)\n",
    "    sleep(20)"
   ]
  },
  {
   "cell_type": "code",
   "execution_count": null,
   "id": "5e4842f8",
   "metadata": {},
   "outputs": [],
   "source": [
    "\n",
    "def get_errs(res):\n",
    "    \n",
    "    errs = []\n",
    "    path = os.path.join(benchmark_path, 'runs', res)\n",
    "    files = os.listdir(path)\n",
    "\n",
    "    for dat in os.listdir(path):\n",
    "        fpath = os.path.join(path, dat)\n",
    "        for f in os.listdir(fpath):\n",
    "            if os.path.exists(os.path.join(fpath, f, 'ERROR')):\n",
    "                errs.append((dat, f))\n",
    "    \n",
    "    return errs\n",
    "    "
   ]
  },
  {
   "cell_type": "code",
   "execution_count": null,
   "id": "b014200f",
   "metadata": {},
   "outputs": [],
   "source": [
    "NAME"
   ]
  },
  {
   "cell_type": "code",
   "execution_count": null,
   "id": "fd46a179",
   "metadata": {},
   "outputs": [],
   "source": [
    "get_errs(NAME)"
   ]
  },
  {
   "cell_type": "code",
   "execution_count": null,
   "id": "7635896c",
   "metadata": {},
   "outputs": [],
   "source": [
    "get_errs('LAMA_PRESET_SINGLE_GPU_SMALL_TO_OLD')"
   ]
  },
  {
   "cell_type": "code",
   "execution_count": null,
   "id": "7873e97b",
   "metadata": {},
   "outputs": [],
   "source": [
    "import cupy\n",
    "cupy.__version__"
   ]
  },
  {
   "cell_type": "code",
   "execution_count": null,
   "id": "3443a6d9",
   "metadata": {},
   "outputs": [],
   "source": []
  }
 ],
 "metadata": {
  "kernelspec": {
   "display_name": "new_lama_venv",
   "language": "python",
   "name": "new_lama_venv"
  },
  "language_info": {
   "codemirror_mode": {
    "name": "ipython",
    "version": 3
   },
   "file_extension": ".py",
   "mimetype": "text/x-python",
   "name": "python",
   "nbconvert_exporter": "python",
   "pygments_lexer": "ipython3",
   "version": "3.8.13"
  }
 },
 "nbformat": 4,
 "nbformat_minor": 5
}

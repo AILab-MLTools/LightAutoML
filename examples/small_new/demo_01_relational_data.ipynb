{
 "cells": [
  {
   "cell_type": "code",
   "execution_count": 1,
   "id": "4a75e00d",
   "metadata": {},
   "outputs": [],
   "source": [
    "from lightautoml.dataset.seq_np_pd_dataset import SeqNumpyPandasDataset\n",
    "from lightautoml.reader.seq import IDSInd, TopInd\n",
    "from lightautoml.reader.base import DictToPandasSeqReader\n",
    "from lightautoml.tasks import Task\n",
    "import pandas as pd\n",
    "import numpy as np\n",
    "from lightautoml.automl.base import AutoML\n",
    "from lightautoml.ml_algo.boost_lgbm import BoostLGBM\n",
    "from lightautoml.ml_algo.boost_cb import BoostCB\n",
    "\n",
    "from lightautoml.pipelines.features.lgb_pipeline import LGBSimpleFeatures, LGBSeqSimpleFeatures, LGBMultiSeqSimpleFeatures\n",
    "from lightautoml.pipelines.ml.base import MLPipeline\n",
    "\n",
    "from lightautoml.automl.gpu.blend_gpu import WeightedBlenderGPU\n",
    "from lightautoml.automl.blend import WeightedBlender\n",
    "\n",
    "import numpy as np"
   ]
  },
  {
   "cell_type": "code",
   "execution_count": 2,
   "id": "378deeba",
   "metadata": {},
   "outputs": [],
   "source": [
    "import pandas as pd\n",
    "import numpy as np\n",
    "\n",
    "DATA_FOLDER = '../../data/small_new/relational_data'\n",
    "\n",
    "fulfilment_center_info = pd.read_csv(f'{DATA_FOLDER}/fulfilment_center_info.csv')\n",
    "meal_info = pd.read_csv(f'{DATA_FOLDER}/meal_info.csv')\n",
    "train = pd.read_csv(f'{DATA_FOLDER}/train.csv')\n",
    "\n",
    "val = 0.05\n"
   ]
  },
  {
   "cell_type": "code",
   "execution_count": 3,
   "id": "5cbd0d9f",
   "metadata": {},
   "outputs": [],
   "source": [
    "seq_params = {\n",
    "              'fulfilment_center_info':{'case': 'ids',\n",
    "                       'params': {},\n",
    "                       'scheme': {'to': 'plain', 'from_id': 'center_id', 'to_id': 'center_id'},\n",
    "                          },\n",
    "              'meal_info':{'case': 'ids',\n",
    "                       'params': {},\n",
    "                       'scheme': {'to': 'plain', 'from_id': 'meal_id', 'to_id': 'meal_id'},\n",
    "                          },\n",
    "              }\n",
    "seq_data = {'fulfilment_center_info': fulfilment_center_info[['center_id',\n",
    "                                                              'city_code',\n",
    "                                                              'region_code',\n",
    "                                                              'op_area']],\n",
    "       'meal_info': meal_info              \n",
    "       }\n",
    "\n",
    "X_train = {'plain':train.sample(frac=0.05).reset_index(drop=True) , \n",
    "           'seq': seq_data\n",
    "          }\n",
    "\n",
    "task = Task('reg', metric='mae')\n",
    "\n",
    "roles={'target': 'num_orders'}\n",
    "\n",
    "\n"
   ]
  },
  {
   "cell_type": "code",
   "execution_count": 4,
   "id": "59f34c68",
   "metadata": {},
   "outputs": [],
   "source": [
    "task = Task('reg', metric='mae')\n",
    "roles={'target': 'num_orders'}\n",
    "reader = DictToPandasSeqReader(task=task, seq_params=seq_params)\n",
    "\n",
    "feats = LGBMultiSeqSimpleFeatures()\n",
    "model = BoostLGBM()\n",
    "pipeline_lvl1 = MLPipeline([BoostLGBM(), BoostCB()], pre_selection=None, features_pipeline=feats, post_selection=None)\n",
    "\n",
    "automl = AutoML(reader, [\n",
    "    [pipeline_lvl1],\n",
    "], skip_conn=False, blender=WeightedBlender())"
   ]
  },
  {
   "cell_type": "code",
   "execution_count": 5,
   "id": "896f7e95",
   "metadata": {},
   "outputs": [
    {
     "name": "stdout",
     "output_type": "stream",
     "text": [
      "[15:41:42] Feats was rejected during automatic roles guess: []\n",
      "[15:41:42] Layer \u001b[1m1\u001b[0m train process start. Time left 9999999996.65 secs\n",
      "[15:41:43] Start fitting \u001b[1mLvl_0_Pipe_0_Mod_0_LightGBM\u001b[0m ...\n",
      "[15:41:43] ===== Start working with \u001b[1mfold 0\u001b[0m for \u001b[1mLvl_0_Pipe_0_Mod_0_LightGBM\u001b[0m =====\n",
      "[15:41:43] Training until validation scores don't improve for 100 rounds\n",
      "[15:41:44] ===== Start working with \u001b[1mfold 1\u001b[0m for \u001b[1mLvl_0_Pipe_0_Mod_0_LightGBM\u001b[0m =====\n",
      "[15:41:44] Training until validation scores don't improve for 100 rounds\n",
      "[15:41:45] ===== Start working with \u001b[1mfold 2\u001b[0m for \u001b[1mLvl_0_Pipe_0_Mod_0_LightGBM\u001b[0m =====\n",
      "[15:41:45] Training until validation scores don't improve for 100 rounds\n",
      "[15:41:46] ===== Start working with \u001b[1mfold 3\u001b[0m for \u001b[1mLvl_0_Pipe_0_Mod_0_LightGBM\u001b[0m =====\n",
      "[15:41:46] Training until validation scores don't improve for 100 rounds\n",
      "[15:41:46] ===== Start working with \u001b[1mfold 4\u001b[0m for \u001b[1mLvl_0_Pipe_0_Mod_0_LightGBM\u001b[0m =====\n",
      "[15:41:46] Training until validation scores don't improve for 100 rounds\n",
      "[15:41:47] Fitting \u001b[1mLvl_0_Pipe_0_Mod_0_LightGBM\u001b[0m finished. score = \u001b[1m-104.9577829287865\u001b[0m\n",
      "[15:41:47] \u001b[1mLvl_0_Pipe_0_Mod_0_LightGBM\u001b[0m fitting and predicting completed\n",
      "[15:41:47] Start fitting \u001b[1mLvl_0_Pipe_0_Mod_1_CatBoost\u001b[0m ...\n",
      "[15:41:47] ===== Start working with \u001b[1mfold 0\u001b[0m for \u001b[1mLvl_0_Pipe_0_Mod_1_CatBoost\u001b[0m =====\n",
      "[15:41:47] 0:\tlearn: 219.5058563\ttest: 224.5016971\tbest: 224.5016971 (0)\ttotal: 54.7ms\tremaining: 2m 44s\n"
     ]
    },
    {
     "name": "stderr",
     "output_type": "stream",
     "text": [
      "/home/rishat/miniconda3/envs/rapids-22.10/lib/python3.9/site-packages/catboost/core.py:1419: FutureWarning: iteritems is deprecated and will be removed in a future version. Use .items instead.\n",
      "  self._init_pool(data, label, cat_features, text_features, embedding_features, embedding_features_data, pairs, weight,\n",
      "/home/rishat/miniconda3/envs/rapids-22.10/lib/python3.9/site-packages/catboost/core.py:1419: FutureWarning: iteritems is deprecated and will be removed in a future version. Use .items instead.\n",
      "  self._init_pool(data, label, cat_features, text_features, embedding_features, embedding_features_data, pairs, weight,\n"
     ]
    },
    {
     "name": "stdout",
     "output_type": "stream",
     "text": [
      "[15:41:49] bestTest = 123.4067387\n",
      "[15:41:49] bestIteration = 2999\n",
      "[15:41:49] ===== Start working with \u001b[1mfold 1\u001b[0m for \u001b[1mLvl_0_Pipe_0_Mod_1_CatBoost\u001b[0m =====\n",
      "[15:41:49] 0:\tlearn: 222.4239807\ttest: 217.4933976\tbest: 217.4933976 (0)\ttotal: 972us\tremaining: 2.92s\n"
     ]
    },
    {
     "name": "stderr",
     "output_type": "stream",
     "text": [
      "/home/rishat/miniconda3/envs/rapids-22.10/lib/python3.9/site-packages/catboost/core.py:1419: FutureWarning: iteritems is deprecated and will be removed in a future version. Use .items instead.\n",
      "  self._init_pool(data, label, cat_features, text_features, embedding_features, embedding_features_data, pairs, weight,\n",
      "/home/rishat/miniconda3/envs/rapids-22.10/lib/python3.9/site-packages/catboost/core.py:1419: FutureWarning: iteritems is deprecated and will be removed in a future version. Use .items instead.\n",
      "  self._init_pool(data, label, cat_features, text_features, embedding_features, embedding_features_data, pairs, weight,\n"
     ]
    },
    {
     "name": "stdout",
     "output_type": "stream",
     "text": [
      "[15:41:51] Stopped by overfitting detector  (100 iterations wait)\n",
      "[15:41:51] bestTest = 122.4245452\n",
      "[15:41:51] bestIteration = 2680\n",
      "[15:41:51] Shrink model to first 2681 iterations.\n",
      "[15:41:51] ===== Start working with \u001b[1mfold 2\u001b[0m for \u001b[1mLvl_0_Pipe_0_Mod_1_CatBoost\u001b[0m =====\n",
      "[15:41:51] 0:\tlearn: 219.5626285\ttest: 225.6020009\tbest: 225.6020009 (0)\ttotal: 1.01ms\tremaining: 3.03s\n"
     ]
    },
    {
     "name": "stderr",
     "output_type": "stream",
     "text": [
      "/home/rishat/miniconda3/envs/rapids-22.10/lib/python3.9/site-packages/catboost/core.py:1419: FutureWarning: iteritems is deprecated and will be removed in a future version. Use .items instead.\n",
      "  self._init_pool(data, label, cat_features, text_features, embedding_features, embedding_features_data, pairs, weight,\n",
      "/home/rishat/miniconda3/envs/rapids-22.10/lib/python3.9/site-packages/catboost/core.py:1419: FutureWarning: iteritems is deprecated and will be removed in a future version. Use .items instead.\n",
      "  self._init_pool(data, label, cat_features, text_features, embedding_features, embedding_features_data, pairs, weight,\n"
     ]
    },
    {
     "name": "stdout",
     "output_type": "stream",
     "text": [
      "[15:41:53] bestTest = 128.2956673\n",
      "[15:41:53] bestIteration = 2999\n",
      "[15:41:53] ===== Start working with \u001b[1mfold 3\u001b[0m for \u001b[1mLvl_0_Pipe_0_Mod_1_CatBoost\u001b[0m =====\n",
      "[15:41:53] 0:\tlearn: 223.1274264\ttest: 215.6599007\tbest: 215.6599007 (0)\ttotal: 872us\tremaining: 2.62s\n"
     ]
    },
    {
     "name": "stderr",
     "output_type": "stream",
     "text": [
      "/home/rishat/miniconda3/envs/rapids-22.10/lib/python3.9/site-packages/catboost/core.py:1419: FutureWarning: iteritems is deprecated and will be removed in a future version. Use .items instead.\n",
      "  self._init_pool(data, label, cat_features, text_features, embedding_features, embedding_features_data, pairs, weight,\n",
      "/home/rishat/miniconda3/envs/rapids-22.10/lib/python3.9/site-packages/catboost/core.py:1419: FutureWarning: iteritems is deprecated and will be removed in a future version. Use .items instead.\n",
      "  self._init_pool(data, label, cat_features, text_features, embedding_features, embedding_features_data, pairs, weight,\n"
     ]
    },
    {
     "name": "stdout",
     "output_type": "stream",
     "text": [
      "[15:41:54] bestTest = 123.3669529\n",
      "[15:41:54] bestIteration = 2999\n",
      "[15:41:54] ===== Start working with \u001b[1mfold 4\u001b[0m for \u001b[1mLvl_0_Pipe_0_Mod_1_CatBoost\u001b[0m =====\n",
      "[15:41:55] 0:\tlearn: 220.5711404\ttest: 222.1088483\tbest: 222.1088483 (0)\ttotal: 1.41ms\tremaining: 4.24s\n"
     ]
    },
    {
     "name": "stderr",
     "output_type": "stream",
     "text": [
      "/home/rishat/miniconda3/envs/rapids-22.10/lib/python3.9/site-packages/catboost/core.py:1419: FutureWarning: iteritems is deprecated and will be removed in a future version. Use .items instead.\n",
      "  self._init_pool(data, label, cat_features, text_features, embedding_features, embedding_features_data, pairs, weight,\n",
      "/home/rishat/miniconda3/envs/rapids-22.10/lib/python3.9/site-packages/catboost/core.py:1419: FutureWarning: iteritems is deprecated and will be removed in a future version. Use .items instead.\n",
      "  self._init_pool(data, label, cat_features, text_features, embedding_features, embedding_features_data, pairs, weight,\n"
     ]
    },
    {
     "name": "stdout",
     "output_type": "stream",
     "text": [
      "[15:41:56] bestTest = 124.7995945\n",
      "[15:41:56] bestIteration = 2999\n",
      "[15:41:56] Fitting \u001b[1mLvl_0_Pipe_0_Mod_1_CatBoost\u001b[0m finished. score = \u001b[1m-124.45856549090024\u001b[0m\n",
      "[15:41:56] \u001b[1mLvl_0_Pipe_0_Mod_1_CatBoost\u001b[0m fitting and predicting completed\n",
      "[15:41:56] Time left 9999999982.79 secs\n",
      "\n",
      "[15:41:56] \u001b[1mLayer 1 training completed.\u001b[0m\n",
      "\n",
      "[15:41:56] Blending: optimization starts with equal weights and score \u001b[1m-109.7023811298606\u001b[0m\n",
      "[15:41:56] Blending: iteration \u001b[1m0\u001b[0m: score = \u001b[1m-104.85544399548105\u001b[0m, weights = \u001b[1m[0.91741353 0.08258648]\u001b[0m\n",
      "[15:41:56] Blending: iteration \u001b[1m1\u001b[0m: score = \u001b[1m-104.85544399548105\u001b[0m, weights = \u001b[1m[0.91741353 0.08258648]\u001b[0m\n",
      "[15:41:56] Blending: no score update. Terminated\n",
      "\n",
      "CPU times: user 52.3 s, sys: 1.3 s, total: 53.6 s\n",
      "Wall time: 17.2 s\n"
     ]
    }
   ],
   "source": [
    "%%time\n",
    "\n",
    "oof_pred = automl.fit_predict(X_train, roles=roles, verbose=3)\n"
   ]
  },
  {
   "cell_type": "code",
   "execution_count": 6,
   "id": "b04c3723",
   "metadata": {},
   "outputs": [],
   "source": [
    "from lightautoml.dataset.gpu.gpu_dataset import SeqCudfDataset\n",
    "from lightautoml.dataset.gpu.gpu_dataset import SeqDaskCudfDataset\n",
    "from lightautoml.reader.gpu.seq_gpu import IDSIndGPU, TopIndGPU\n",
    "from lightautoml.reader.gpu.seq_reader_gpu import DictToCudfSeqReader\n",
    "from lightautoml.reader.gpu.seq_reader_gpu import DictToDaskCudfSeqReader\n",
    "\n",
    "from lightautoml.ml_algo.gpu.boost_xgb_gpu import BoostXGB\n",
    "from lightautoml.ml_algo.gpu.boost_cb_gpu import BoostCBGPU\n",
    "\n",
    "from lightautoml.pipelines.features.gpu.lgb_pipeline_gpu import LGBMultiSeqSimpleFeaturesGPU\n",
    "\n",
    "import cudf\n",
    "import dask_cudf\n",
    "import cupy as cp"
   ]
  },
  {
   "cell_type": "code",
   "execution_count": 7,
   "id": "b2d14a44",
   "metadata": {},
   "outputs": [],
   "source": [
    "task = Task('reg', metric='mae', device='gpu')\n",
    "reader = DictToCudfSeqReader(task=task, seq_params=seq_params, n_jobs=1)\n",
    "\n",
    "feats = LGBMultiSeqSimpleFeaturesGPU()\n",
    "model = BoostCBGPU(gpu_ids=[0])\n",
    "pipeline_lvl1 = MLPipeline([BoostXGB(), BoostCBGPU(gpu_ids=[0])], pre_selection=None, features_pipeline=feats, post_selection=None)\n",
    "\n",
    "automl = AutoML(reader, [\n",
    "    [pipeline_lvl1],\n",
    "], skip_conn=False, blender=WeightedBlenderGPU())"
   ]
  },
  {
   "cell_type": "code",
   "execution_count": 8,
   "id": "e007458e",
   "metadata": {},
   "outputs": [
    {
     "name": "stdout",
     "output_type": "stream",
     "text": [
      "Feats was rejected during automatic roles guess: []\n",
      "[15:41:59] Layer \u001b[1m1\u001b[0m train process start. Time left 9999999999.47 secs\n",
      "[15:41:59] Start fitting Lvl_0_Pipe_0_Mod_0_XGB ...\n",
      "[15:41:59] ===== Start working with \u001b[1mfold 0\u001b[0m for \u001b[1mLvl_0_Pipe_0_Mod_0_XGB\u001b[0m (orig) =====\n",
      "[15:42:11] ===== Start working with \u001b[1mfold 1\u001b[0m for \u001b[1mLvl_0_Pipe_0_Mod_0_XGB\u001b[0m (orig) =====\n",
      "[15:42:25] ===== Start working with \u001b[1mfold 2\u001b[0m for \u001b[1mLvl_0_Pipe_0_Mod_0_XGB\u001b[0m (orig) =====\n",
      "[15:42:40] ===== Start working with \u001b[1mfold 3\u001b[0m for \u001b[1mLvl_0_Pipe_0_Mod_0_XGB\u001b[0m (orig) =====\n",
      "[15:42:54] ===== Start working with \u001b[1mfold 4\u001b[0m for \u001b[1mLvl_0_Pipe_0_Mod_0_XGB\u001b[0m (orig) =====\n",
      "[15:43:00] Lvl_0_Pipe_0_Mod_0_XGB fitting and predicting completed\n",
      "[15:43:00] Start fitting Lvl_0_Pipe_0_Mod_1_CatBoostGPU ...\n",
      "[15:43:00] ===== Start working with \u001b[1mfold 0\u001b[0m for \u001b[1mLvl_0_Pipe_0_Mod_1_CatBoostGPU\u001b[0m (orig) =====\n"
     ]
    },
    {
     "name": "stderr",
     "output_type": "stream",
     "text": [
      "/home/rishat/miniconda3/envs/rapids-22.10/lib/python3.9/site-packages/catboost/core.py:1419: FutureWarning: iteritems is deprecated and will be removed in a future version. Use .items instead.\n",
      "  self._init_pool(data, label, cat_features, text_features, embedding_features, embedding_features_data, pairs, weight,\n",
      "/home/rishat/miniconda3/envs/rapids-22.10/lib/python3.9/site-packages/catboost/core.py:1419: FutureWarning: iteritems is deprecated and will be removed in a future version. Use .items instead.\n",
      "  self._init_pool(data, label, cat_features, text_features, embedding_features, embedding_features_data, pairs, weight,\n",
      "Warning: less than 75% gpu memory available for training. Free: 2422.3125 Total: 3912.8125\n",
      "Default metric period is 5 because MAE is/are not implemented for GPU\n"
     ]
    },
    {
     "name": "stdout",
     "output_type": "stream",
     "text": [
      "[15:43:04] ===== Start working with \u001b[1mfold 1\u001b[0m for \u001b[1mLvl_0_Pipe_0_Mod_1_CatBoostGPU\u001b[0m (orig) =====\n"
     ]
    },
    {
     "name": "stderr",
     "output_type": "stream",
     "text": [
      "/home/rishat/miniconda3/envs/rapids-22.10/lib/python3.9/site-packages/catboost/core.py:1419: FutureWarning: iteritems is deprecated and will be removed in a future version. Use .items instead.\n",
      "  self._init_pool(data, label, cat_features, text_features, embedding_features, embedding_features_data, pairs, weight,\n",
      "/home/rishat/miniconda3/envs/rapids-22.10/lib/python3.9/site-packages/catboost/core.py:1419: FutureWarning: iteritems is deprecated and will be removed in a future version. Use .items instead.\n",
      "  self._init_pool(data, label, cat_features, text_features, embedding_features, embedding_features_data, pairs, weight,\n",
      "Warning: less than 75% gpu memory available for training. Free: 2422.3125 Total: 3912.8125\n",
      "Default metric period is 5 because MAE is/are not implemented for GPU\n"
     ]
    },
    {
     "name": "stdout",
     "output_type": "stream",
     "text": [
      "[15:43:09] ===== Start working with \u001b[1mfold 2\u001b[0m for \u001b[1mLvl_0_Pipe_0_Mod_1_CatBoostGPU\u001b[0m (orig) =====\n"
     ]
    },
    {
     "name": "stderr",
     "output_type": "stream",
     "text": [
      "/home/rishat/miniconda3/envs/rapids-22.10/lib/python3.9/site-packages/catboost/core.py:1419: FutureWarning: iteritems is deprecated and will be removed in a future version. Use .items instead.\n",
      "  self._init_pool(data, label, cat_features, text_features, embedding_features, embedding_features_data, pairs, weight,\n",
      "/home/rishat/miniconda3/envs/rapids-22.10/lib/python3.9/site-packages/catboost/core.py:1419: FutureWarning: iteritems is deprecated and will be removed in a future version. Use .items instead.\n",
      "  self._init_pool(data, label, cat_features, text_features, embedding_features, embedding_features_data, pairs, weight,\n",
      "Warning: less than 75% gpu memory available for training. Free: 2422.3125 Total: 3912.8125\n",
      "Default metric period is 5 because MAE is/are not implemented for GPU\n"
     ]
    },
    {
     "name": "stdout",
     "output_type": "stream",
     "text": [
      "[15:43:13] ===== Start working with \u001b[1mfold 3\u001b[0m for \u001b[1mLvl_0_Pipe_0_Mod_1_CatBoostGPU\u001b[0m (orig) =====\n"
     ]
    },
    {
     "name": "stderr",
     "output_type": "stream",
     "text": [
      "/home/rishat/miniconda3/envs/rapids-22.10/lib/python3.9/site-packages/catboost/core.py:1419: FutureWarning: iteritems is deprecated and will be removed in a future version. Use .items instead.\n",
      "  self._init_pool(data, label, cat_features, text_features, embedding_features, embedding_features_data, pairs, weight,\n",
      "/home/rishat/miniconda3/envs/rapids-22.10/lib/python3.9/site-packages/catboost/core.py:1419: FutureWarning: iteritems is deprecated and will be removed in a future version. Use .items instead.\n",
      "  self._init_pool(data, label, cat_features, text_features, embedding_features, embedding_features_data, pairs, weight,\n",
      "Warning: less than 75% gpu memory available for training. Free: 2422.3125 Total: 3912.8125\n",
      "Default metric period is 5 because MAE is/are not implemented for GPU\n"
     ]
    },
    {
     "name": "stdout",
     "output_type": "stream",
     "text": [
      "[15:43:17] ===== Start working with \u001b[1mfold 4\u001b[0m for \u001b[1mLvl_0_Pipe_0_Mod_1_CatBoostGPU\u001b[0m (orig) =====\n"
     ]
    },
    {
     "name": "stderr",
     "output_type": "stream",
     "text": [
      "/home/rishat/miniconda3/envs/rapids-22.10/lib/python3.9/site-packages/catboost/core.py:1419: FutureWarning: iteritems is deprecated and will be removed in a future version. Use .items instead.\n",
      "  self._init_pool(data, label, cat_features, text_features, embedding_features, embedding_features_data, pairs, weight,\n",
      "/home/rishat/miniconda3/envs/rapids-22.10/lib/python3.9/site-packages/catboost/core.py:1419: FutureWarning: iteritems is deprecated and will be removed in a future version. Use .items instead.\n",
      "  self._init_pool(data, label, cat_features, text_features, embedding_features, embedding_features_data, pairs, weight,\n",
      "Warning: less than 75% gpu memory available for training. Free: 2422.3125 Total: 3912.8125\n",
      "Default metric period is 5 because MAE is/are not implemented for GPU\n"
     ]
    },
    {
     "name": "stdout",
     "output_type": "stream",
     "text": [
      "[15:43:22] Lvl_0_Pipe_0_Mod_1_CatBoostGPU fitting and predicting completed\n",
      "[15:43:22] Time left 9999999916.48 secs\n",
      "\n",
      "[15:43:22] \u001b[1mLayer 1 training completed.\u001b[0m\n",
      "\n",
      "[15:43:22] Blending: Optimization starts with equal weights and score -108.46382789293622\n",
      "[15:43:22] Blending, iter 0: score = -103.0803045008062, weights = [0.9068121  0.09318795]\n",
      "[15:43:22] Blending, iter 1: score = -103.0803045008062, weights = [0.9068121  0.09318795]\n",
      "[15:43:22] No score update. Terminated\n"
     ]
    }
   ],
   "source": [
    "oof_pred_gpu = automl.fit_predict(X_train, roles=roles, verbose=3)"
   ]
  },
  {
   "cell_type": "code",
   "execution_count": 9,
   "id": "76f879f7",
   "metadata": {},
   "outputs": [
    {
     "name": "stderr",
     "output_type": "stream",
     "text": [
      "/home/rishat/miniconda3/envs/rapids-22.10/lib/python3.9/site-packages/catboost/core.py:1419: FutureWarning: iteritems is deprecated and will be removed in a future version. Use .items instead.\n",
      "  self._init_pool(data, label, cat_features, text_features, embedding_features, embedding_features_data, pairs, weight,\n",
      "/home/rishat/miniconda3/envs/rapids-22.10/lib/python3.9/site-packages/catboost/core.py:1419: FutureWarning: iteritems is deprecated and will be removed in a future version. Use .items instead.\n",
      "  self._init_pool(data, label, cat_features, text_features, embedding_features, embedding_features_data, pairs, weight,\n",
      "/home/rishat/miniconda3/envs/rapids-22.10/lib/python3.9/site-packages/catboost/core.py:1419: FutureWarning: iteritems is deprecated and will be removed in a future version. Use .items instead.\n",
      "  self._init_pool(data, label, cat_features, text_features, embedding_features, embedding_features_data, pairs, weight,\n",
      "/home/rishat/miniconda3/envs/rapids-22.10/lib/python3.9/site-packages/catboost/core.py:1419: FutureWarning: iteritems is deprecated and will be removed in a future version. Use .items instead.\n",
      "  self._init_pool(data, label, cat_features, text_features, embedding_features, embedding_features_data, pairs, weight,\n",
      "/home/rishat/miniconda3/envs/rapids-22.10/lib/python3.9/site-packages/catboost/core.py:1419: FutureWarning: iteritems is deprecated and will be removed in a future version. Use .items instead.\n",
      "  self._init_pool(data, label, cat_features, text_features, embedding_features, embedding_features_data, pairs, weight,\n"
     ]
    }
   ],
   "source": [
    "gpu_inf = automl.predict(X_train)"
   ]
  },
  {
   "cell_type": "code",
   "execution_count": 10,
   "id": "51a68f47",
   "metadata": {},
   "outputs": [
    {
     "name": "stdout",
     "output_type": "stream",
     "text": [
      "AutoML\n",
      "XGB: {'task': <lightautoml.tasks.base.Task object at 0x7f751d8eae20>, 'optimization_search_space': {}, 'freeze_defaults': True, 'default_params': {'tree_method': 'gpu_hist', 'predictor': 'gpu_predictor', 'task': 'train', 'learning_rate': 0.05, 'max_leaves': 128, 'max_depth': 0, 'verbosity': 0, 'reg_alpha': 1, 'reg_lambda': 0.0, 'gamma': 0.0, 'max_bin': 255, 'n_estimators': 3000, 'early_stopping_rounds': 100, 'random_state': 42}, 'models': [<xgboost.core.Booster object at 0x7f751d839610>, <xgboost.core.Booster object at 0x7f771e124190>, <xgboost.core.Booster object at 0x7f751da16640>, <xgboost.core.Booster object at 0x7f751d7ed0d0>, <xgboost.core.Booster object at 0x7f771c371130>], '_features': ['numcount__fulfilment_center_info', 'numcount__meal_info', 'ord__base_price', 'ord__checkout_price', 'center_id', 'emailer_for_promotion', 'homepage_featured', 'id', 'meal_id', 'week'], 'timer': <lightautoml.utils.timer.TaskTimer object at 0x7f751d87d370>, '_nan_rate': None, 'gpu_ids': None, 'parallel_folds': False, '_name': 'Lvl_0_Pipe_0_Mod_0_XGB', '_params': {'tree_method': 'gpu_hist', 'predictor': 'gpu_predictor', 'task': 'train', 'learning_rate': 0.05, 'max_leaves': 128, 'max_depth': 0, 'verbosity': 0, 'reg_alpha': 1, 'reg_lambda': 0.0, 'gamma': 0.0, 'max_bin': 255, 'n_estimators': 3000, 'early_stopping_rounds': 100, 'random_state': 42}, 'n_classes': 1}\n",
      "XGB model type: Booster\n",
      "XGB model: {'handle': c_void_p(94295355559920), 'best_score': 210.0532698692633, 'best_iteration': 935, 'best_ntree_limit': 936}\n",
      "Models parameters: {'_init_params': {'task_type': 'GPU', 'devices': '0', 'thread_count': 4, 'random_seed': 42, 'learning_rate': 0.03, 'l2_leaf_reg': 0.01, 'bootstrap_type': 'Bernoulli', 'grow_policy': 'SymmetricTree', 'max_depth': 5, 'min_data_in_leaf': 1, 'one_hot_max_size': 10, 'fold_permutation_block': 1, 'boosting_type': 'Plain', 'boost_from_average': True, 'od_type': 'Iter', 'max_bin': 32, 'feature_border_type': 'GreedyLogSum', 'nan_mode': 'Min', 'verbose': False, 'max_ctr_complexity': 1, 'num_trees': 3000, 'objective': 'RMSE', 'eval_metric': 'MAE', 'od_wait': 100}, '_object': <_catboost._CatBoost object at 0x7f751d93f130>, '_is_fitted_': True, '_random_seed': 42, '_learning_rate': 0.029999999329447746, '_tree_count': 2998, '_n_features_in': 10, '_prediction_values_change': [0.0, 0.0, 12.607321540553476, 21.75626015261375, 11.287530984942267, 9.386470650339627, 5.788582895897033, 5.069974138460525, 28.9876654540777, 5.116194183115608]}\n",
      "Models type: <class 'catboost.core.CatBoost'>\n",
      "CB feats: {'task': <lightautoml.tasks.base.Task object at 0x7f751d8eae20>, 'optimization_search_space': {}, 'freeze_defaults': True, 'default_params': {'task_type': 'GPU', 'devices': '0', 'thread_count': 4, 'random_seed': 42, 'num_trees': 3000, 'learning_rate': 0.03, 'l2_leaf_reg': 0.01, 'bootstrap_type': 'Bernoulli', 'grow_policy': 'SymmetricTree', 'max_depth': 5, 'min_data_in_leaf': 1, 'one_hot_max_size': 10, 'fold_permutation_block': 1, 'boosting_type': 'Plain', 'boost_from_average': True, 'od_type': 'Iter', 'od_wait': 100, 'max_bin': 32, 'feature_border_type': 'GreedyLogSum', 'nan_mode': 'Min', 'verbose': False, 'max_ctr_complexity': 1}, 'models': [<catboost.core.CatBoost object at 0x7f751d84c3d0>, <catboost.core.CatBoost object at 0x7f751da04c70>, <catboost.core.CatBoost object at 0x7f771c371250>, <catboost.core.CatBoost object at 0x7f751d821190>, <catboost.core.CatBoost object at 0x7f771c371be0>], '_features': ['numcount__fulfilment_center_info', 'numcount__meal_info', 'ord__base_price', 'ord__checkout_price', 'center_id', 'emailer_for_promotion', 'homepage_featured', 'id', 'meal_id', 'week'], 'timer': <lightautoml.utils.timer.TaskTimer object at 0x7f751d87d610>, '_nan_rate': 0, 'gpu_ids': [0], 'parallel_folds': False, '_name': 'Lvl_0_Pipe_0_Mod_1_CatBoostGPU', '_le_cat_features': None, '_text_features': None, '_params': {'task_type': 'GPU', 'devices': '0', 'thread_count': 4, 'random_seed': 42, 'num_trees': 3000, 'learning_rate': 0.03, 'l2_leaf_reg': 0.01, 'bootstrap_type': 'Bernoulli', 'grow_policy': 'SymmetricTree', 'max_depth': 5, 'min_data_in_leaf': 1, 'one_hot_max_size': 10, 'fold_permutation_block': 1, 'boosting_type': 'Plain', 'boost_from_average': True, 'od_type': 'Iter', 'od_wait': 100, 'max_bin': 32, 'feature_border_type': 'GreedyLogSum', 'nan_mode': 'Min', 'verbose': False, 'max_ctr_complexity': 1}, 'n_classes': 1}\n"
     ]
    }
   ],
   "source": [
    "automl.to_cpu()"
   ]
  },
  {
   "cell_type": "code",
   "execution_count": 11,
   "id": "8e376d50",
   "metadata": {},
   "outputs": [
    {
     "name": "stderr",
     "output_type": "stream",
     "text": [
      "/home/rishat/miniconda3/envs/rapids-22.10/lib/python3.9/site-packages/catboost/core.py:1419: FutureWarning: iteritems is deprecated and will be removed in a future version. Use .items instead.\n",
      "  self._init_pool(data, label, cat_features, text_features, embedding_features, embedding_features_data, pairs, weight,\n",
      "/home/rishat/miniconda3/envs/rapids-22.10/lib/python3.9/site-packages/catboost/core.py:1419: FutureWarning: iteritems is deprecated and will be removed in a future version. Use .items instead.\n",
      "  self._init_pool(data, label, cat_features, text_features, embedding_features, embedding_features_data, pairs, weight,\n",
      "/home/rishat/miniconda3/envs/rapids-22.10/lib/python3.9/site-packages/catboost/core.py:1419: FutureWarning: iteritems is deprecated and will be removed in a future version. Use .items instead.\n",
      "  self._init_pool(data, label, cat_features, text_features, embedding_features, embedding_features_data, pairs, weight,\n",
      "/home/rishat/miniconda3/envs/rapids-22.10/lib/python3.9/site-packages/catboost/core.py:1419: FutureWarning: iteritems is deprecated and will be removed in a future version. Use .items instead.\n",
      "  self._init_pool(data, label, cat_features, text_features, embedding_features, embedding_features_data, pairs, weight,\n",
      "/home/rishat/miniconda3/envs/rapids-22.10/lib/python3.9/site-packages/catboost/core.py:1419: FutureWarning: iteritems is deprecated and will be removed in a future version. Use .items instead.\n",
      "  self._init_pool(data, label, cat_features, text_features, embedding_features, embedding_features_data, pairs, weight,\n"
     ]
    }
   ],
   "source": [
    "cpu_inf = automl.predict(X_train)"
   ]
  },
  {
   "cell_type": "code",
   "execution_count": 12,
   "id": "1d962038",
   "metadata": {},
   "outputs": [],
   "source": [
    "task = Task('reg', metric='mae', device='mgpu')\n",
    "reader = DictToDaskCudfSeqReader(task=task, seq_params=seq_params, n_jobs=1)\n",
    "\n",
    "feats = LGBMultiSeqSimpleFeaturesGPU()\n",
    "model = BoostCBGPU(gpu_ids=[0])\n",
    "pipeline_lvl1 = MLPipeline([BoostXGB(), BoostCBGPU(gpu_ids=[0])], pre_selection=None, features_pipeline=feats, post_selection=None)\n",
    "\n",
    "automl = AutoML(reader, [\n",
    "    [pipeline_lvl1],\n",
    "], skip_conn=False, blender = WeightedBlenderGPU())"
   ]
  },
  {
   "cell_type": "code",
   "execution_count": 13,
   "id": "90df6393",
   "metadata": {},
   "outputs": [
    {
     "name": "stdout",
     "output_type": "stream",
     "text": [
      "Feats was rejected during automatic roles guess: []\n",
      "[15:43:25] Layer \u001b[1m1\u001b[0m train process start. Time left 9999999998.69 secs\n"
     ]
    },
    {
     "name": "stderr",
     "output_type": "stream",
     "text": [
      "/home/rishat/miniconda3/envs/rapids-22.10/lib/python3.9/site-packages/dask/dataframe/core.py:4948: UserWarning: New index has same name as existing, this is a no-op.\n",
      "  warnings.warn(\n",
      "/home/rishat/miniconda3/envs/rapids-22.10/lib/python3.9/site-packages/dask/dataframe/core.py:4948: UserWarning: New index has same name as existing, this is a no-op.\n",
      "  warnings.warn(\n"
     ]
    },
    {
     "name": "stdout",
     "output_type": "stream",
     "text": [
      "[15:43:27] Start fitting Lvl_0_Pipe_0_Mod_0_XGB ...\n",
      "[15:43:27] ===== Start working with \u001b[1mfold 0\u001b[0m for \u001b[1mLvl_0_Pipe_0_Mod_0_XGB\u001b[0m (orig) =====\n",
      "[15:43:39] ===== Start working with \u001b[1mfold 1\u001b[0m for \u001b[1mLvl_0_Pipe_0_Mod_0_XGB\u001b[0m (orig) =====\n",
      "[15:43:53] ===== Start working with \u001b[1mfold 2\u001b[0m for \u001b[1mLvl_0_Pipe_0_Mod_0_XGB\u001b[0m (orig) =====\n",
      "[15:44:09] ===== Start working with \u001b[1mfold 3\u001b[0m for \u001b[1mLvl_0_Pipe_0_Mod_0_XGB\u001b[0m (orig) =====\n",
      "[15:44:22] ===== Start working with \u001b[1mfold 4\u001b[0m for \u001b[1mLvl_0_Pipe_0_Mod_0_XGB\u001b[0m (orig) =====\n",
      "[15:44:28] Lvl_0_Pipe_0_Mod_0_XGB fitting and predicting completed\n",
      "[15:44:28] Start fitting Lvl_0_Pipe_0_Mod_1_CatBoostGPU ...\n",
      "[15:44:28] ===== Start working with \u001b[1mfold 0\u001b[0m for \u001b[1mLvl_0_Pipe_0_Mod_1_CatBoostGPU\u001b[0m (orig) =====\n"
     ]
    },
    {
     "name": "stderr",
     "output_type": "stream",
     "text": [
      "/home/rishat/miniconda3/envs/rapids-22.10/lib/python3.9/site-packages/catboost/core.py:1419: FutureWarning: iteritems is deprecated and will be removed in a future version. Use .items instead.\n",
      "  self._init_pool(data, label, cat_features, text_features, embedding_features, embedding_features_data, pairs, weight,\n",
      "/home/rishat/miniconda3/envs/rapids-22.10/lib/python3.9/site-packages/catboost/core.py:1419: FutureWarning: iteritems is deprecated and will be removed in a future version. Use .items instead.\n",
      "  self._init_pool(data, label, cat_features, text_features, embedding_features, embedding_features_data, pairs, weight,\n",
      "Warning: less than 75% gpu memory available for training. Free: 2412.3125 Total: 3912.8125\n",
      "Default metric period is 5 because MAE is/are not implemented for GPU\n"
     ]
    },
    {
     "name": "stdout",
     "output_type": "stream",
     "text": [
      "[15:44:32] ===== Start working with \u001b[1mfold 1\u001b[0m for \u001b[1mLvl_0_Pipe_0_Mod_1_CatBoostGPU\u001b[0m (orig) =====\n"
     ]
    },
    {
     "name": "stderr",
     "output_type": "stream",
     "text": [
      "/home/rishat/miniconda3/envs/rapids-22.10/lib/python3.9/site-packages/catboost/core.py:1419: FutureWarning: iteritems is deprecated and will be removed in a future version. Use .items instead.\n",
      "  self._init_pool(data, label, cat_features, text_features, embedding_features, embedding_features_data, pairs, weight,\n",
      "/home/rishat/miniconda3/envs/rapids-22.10/lib/python3.9/site-packages/catboost/core.py:1419: FutureWarning: iteritems is deprecated and will be removed in a future version. Use .items instead.\n",
      "  self._init_pool(data, label, cat_features, text_features, embedding_features, embedding_features_data, pairs, weight,\n",
      "Warning: less than 75% gpu memory available for training. Free: 2410.3125 Total: 3912.8125\n",
      "Default metric period is 5 because MAE is/are not implemented for GPU\n"
     ]
    },
    {
     "name": "stdout",
     "output_type": "stream",
     "text": [
      "[15:44:37] ===== Start working with \u001b[1mfold 2\u001b[0m for \u001b[1mLvl_0_Pipe_0_Mod_1_CatBoostGPU\u001b[0m (orig) =====\n"
     ]
    },
    {
     "name": "stderr",
     "output_type": "stream",
     "text": [
      "/home/rishat/miniconda3/envs/rapids-22.10/lib/python3.9/site-packages/catboost/core.py:1419: FutureWarning: iteritems is deprecated and will be removed in a future version. Use .items instead.\n",
      "  self._init_pool(data, label, cat_features, text_features, embedding_features, embedding_features_data, pairs, weight,\n",
      "/home/rishat/miniconda3/envs/rapids-22.10/lib/python3.9/site-packages/catboost/core.py:1419: FutureWarning: iteritems is deprecated and will be removed in a future version. Use .items instead.\n",
      "  self._init_pool(data, label, cat_features, text_features, embedding_features, embedding_features_data, pairs, weight,\n",
      "Warning: less than 75% gpu memory available for training. Free: 2408.3125 Total: 3912.8125\n",
      "Default metric period is 5 because MAE is/are not implemented for GPU\n"
     ]
    },
    {
     "name": "stdout",
     "output_type": "stream",
     "text": [
      "[15:44:41] ===== Start working with \u001b[1mfold 3\u001b[0m for \u001b[1mLvl_0_Pipe_0_Mod_1_CatBoostGPU\u001b[0m (orig) =====\n"
     ]
    },
    {
     "name": "stderr",
     "output_type": "stream",
     "text": [
      "/home/rishat/miniconda3/envs/rapids-22.10/lib/python3.9/site-packages/catboost/core.py:1419: FutureWarning: iteritems is deprecated and will be removed in a future version. Use .items instead.\n",
      "  self._init_pool(data, label, cat_features, text_features, embedding_features, embedding_features_data, pairs, weight,\n",
      "/home/rishat/miniconda3/envs/rapids-22.10/lib/python3.9/site-packages/catboost/core.py:1419: FutureWarning: iteritems is deprecated and will be removed in a future version. Use .items instead.\n",
      "  self._init_pool(data, label, cat_features, text_features, embedding_features, embedding_features_data, pairs, weight,\n",
      "Warning: less than 75% gpu memory available for training. Free: 2408.3125 Total: 3912.8125\n",
      "Default metric period is 5 because MAE is/are not implemented for GPU\n"
     ]
    },
    {
     "name": "stdout",
     "output_type": "stream",
     "text": [
      "[15:44:45] ===== Start working with \u001b[1mfold 4\u001b[0m for \u001b[1mLvl_0_Pipe_0_Mod_1_CatBoostGPU\u001b[0m (orig) =====\n"
     ]
    },
    {
     "name": "stderr",
     "output_type": "stream",
     "text": [
      "/home/rishat/miniconda3/envs/rapids-22.10/lib/python3.9/site-packages/catboost/core.py:1419: FutureWarning: iteritems is deprecated and will be removed in a future version. Use .items instead.\n",
      "  self._init_pool(data, label, cat_features, text_features, embedding_features, embedding_features_data, pairs, weight,\n",
      "/home/rishat/miniconda3/envs/rapids-22.10/lib/python3.9/site-packages/catboost/core.py:1419: FutureWarning: iteritems is deprecated and will be removed in a future version. Use .items instead.\n",
      "  self._init_pool(data, label, cat_features, text_features, embedding_features, embedding_features_data, pairs, weight,\n",
      "Warning: less than 75% gpu memory available for training. Free: 2406.3125 Total: 3912.8125\n",
      "Default metric period is 5 because MAE is/are not implemented for GPU\n"
     ]
    },
    {
     "name": "stdout",
     "output_type": "stream",
     "text": [
      "[15:44:50] Lvl_0_Pipe_0_Mod_1_CatBoostGPU fitting and predicting completed\n",
      "[15:44:50] Time left 9999999914.55 secs\n",
      "\n",
      "[15:44:50] \u001b[1mLayer 1 training completed.\u001b[0m\n",
      "\n",
      "[15:44:50] Blending: Optimization starts with equal weights and score -108.46382789293622\n",
      "[15:44:50] Blending, iter 0: score = -103.0803045008062, weights = [0.9068121  0.09318795]\n",
      "[15:44:50] Blending, iter 1: score = -103.0803045008062, weights = [0.9068121  0.09318795]\n",
      "[15:44:50] No score update. Terminated\n"
     ]
    }
   ],
   "source": [
    "oof_pred_mgpu = automl.fit_predict(X_train, roles=roles, verbose=3)"
   ]
  },
  {
   "cell_type": "code",
   "execution_count": 14,
   "id": "aabbf0ac",
   "metadata": {},
   "outputs": [
    {
     "name": "stdout",
     "output_type": "stream",
     "text": [
      "[[116.87771 293.11795 120.12668 ... 130.96439 356.57184 927.51373]]\n",
      "[[125.489815 294.3881   120.933975 ... 130.96439  352.12848  966.6916  ]]\n",
      "[[102.12276 289.3709  109.21083 ... 115.42837 342.24518 575.8248 ]]\n",
      "[[ 72.123726 276.05576  122.339066 ... 117.198135 354.2322   745.3138  ]]\n",
      "[[102.12276 289.3709  109.21083 ... 115.42837 342.24518 575.8248 ]]\n"
     ]
    }
   ],
   "source": [
    "print(cpu_inf.data.T)\n",
    "print(gpu_inf.data.T)\n",
    "print(oof_pred_gpu.data.T)\n",
    "print(oof_pred.data.T)\n",
    "print(oof_pred_mgpu.data.T)"
   ]
  },
  {
   "cell_type": "code",
   "execution_count": null,
   "id": "0aac220a",
   "metadata": {},
   "outputs": [],
   "source": []
  },
  {
   "cell_type": "code",
   "execution_count": null,
   "id": "1c140f65",
   "metadata": {},
   "outputs": [],
   "source": []
  },
  {
   "cell_type": "code",
   "execution_count": null,
   "id": "7607a765",
   "metadata": {},
   "outputs": [],
   "source": []
  }
 ],
 "metadata": {
  "kernelspec": {
   "display_name": "rapids-22.10",
   "language": "python",
   "name": "rapids-22.10"
  },
  "language_info": {
   "codemirror_mode": {
    "name": "ipython",
    "version": 3
   },
   "file_extension": ".py",
   "mimetype": "text/x-python",
   "name": "python",
   "nbconvert_exporter": "python",
   "pygments_lexer": "ipython3",
   "version": "3.9.13"
  }
 },
 "nbformat": 4,
 "nbformat_minor": 5
}

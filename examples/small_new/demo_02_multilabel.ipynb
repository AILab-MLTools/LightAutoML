{
 "cells": [
  {
   "cell_type": "code",
   "execution_count": 1,
   "id": "78930508",
   "metadata": {},
   "outputs": [],
   "source": [
    "import numpy as np\n",
    "import pandas as pd"
   ]
  },
  {
   "cell_type": "code",
   "execution_count": 2,
   "id": "bfd2caae",
   "metadata": {},
   "outputs": [],
   "source": [
    "from lightautoml_gpu.reader.gpu.cudf_reader import CudfReader\n",
    "from lightautoml_gpu.reader.base import PandasToPandasReader\n",
    "\n",
    "from lightautoml_gpu.transformers.base import SequentialTransformer\n",
    "\n",
    "from lightautoml_gpu.pipelines.utils import get_columns_by_role\n",
    "\n",
    "from lightautoml_gpu.transformers.gpu import numeric_gpu, categorical_gpu, datetime_gpu\n",
    "from lightautoml_gpu.transformers import numeric, categorical, datetime\n",
    "\n",
    "from lightautoml_gpu.tasks import Task\n",
    "from lightautoml_gpu.automl.presets.tabular_presets import TabularAutoML, TabularUtilizedAutoML\n",
    "\n",
    "import pandas as pd\n",
    "import time\n",
    "from sklearn.model_selection import train_test_split\n",
    "\n",
    "from dask.distributed import Client\n",
    "from dask_cuda import LocalCUDACluster\n",
    "import cudf"
   ]
  },
  {
   "cell_type": "code",
   "execution_count": null,
   "id": "e8daa935",
   "metadata": {},
   "outputs": [],
   "source": []
  },
  {
   "cell_type": "code",
   "execution_count": 3,
   "id": "4befdbcf",
   "metadata": {},
   "outputs": [
    {
     "name": "stderr",
     "output_type": "stream",
     "text": [
      "/tmp/ipykernel_10189/705777730.py:1: DtypeWarning: Columns (329,331,333,336,338,344,345,346,348,354,355,356,357,358,361,362,364,367,372,377,380,383,385,387,390,392,399,400,406,408,409,413,416,418,419,431,433,437,438,442,448,449,450,453,457,464,473,478,479,481,483,485,486,489,492,495,496,497,498,499,500,503,507,508,510,511,514,515,517,519,520,521,522,523,524,526,527,530,534,537,538,539,541,544,547,548,549,550,551,557,558,560,564,569,572,573,576,577,579,583,596,597,598,600,601,602,604,605,606,608,609,613,619,620,625,627,628,629,631,632,633,636,641,642,643,645,646,647,648,651,655,661,662,665,668,675,676,679,682,685,687,689,690,691,694,698,701,702,703,706,711,712,713,719,720,721,733,735,737,738,742,746,747,748,749,752,754,755,760,764,768,770,781,782,789,797,807,812,814,817,818,822,823,824,825,832,840,843,844,845,850,853,857,858,861,867,868,873,874,876,877,879,880,881,883,886,890,893,897,899,900,901,902,904,905,908,909,910,912,913,914,915,916,922,923,931,933,935,937,939,942,943,946,951,955,960,964,965,968,969,970,973,974,977,980,987,994,995,996,999,1000,1008,1014,1015,1016,1017,1020,1021,1023,1028,1031,1035,1036,1037,1039,1040,1043,1048,1051,1055,1058,1059,1072,1073,1074,1081,1090,1097,1098,1103,1104,1109,1112,1113,1114,1118,1120,1130,1134,1135,1139,1140,1147,1148,1149,1152,1154,1157,1158,1162,1163,1164,1166,1169,1174,1177,1180,1181,1182,1183,1185,1188,1189,1195,1197,1198,1200,1203,1208,1210,1212,1215,1217,1220,1222,1225,1229,1230,1233,1234,1241,1243,1246,1250,1251,1252,1254,1259,1262,1263,1265,1266,1269,1270,1273,1274,1276,1277,1279,1280,1282,1284,1285,1286,1289,1291,1292,1293,1294,1295,1301,1302,1304,1305,1306,1308,1309,1311,1313,1316,1318,1320,1322,1323,1325,1330,1335,1337,1340,1341,1343,1345,1350,1351,1352,1354,1357,1358,1359,1360,1361,1368,1369,1372,1377) have mixed types. Specify dtype option on import or set low_memory=False.\n",
      "  features = pd.read_csv('../../data/small_new/multilabel/train Data.csv')\n"
     ]
    }
   ],
   "source": [
    "features = pd.read_csv('../../data/small_new/multilabel/train Data.csv')\n",
    "labels = pd.read_csv('../../data/small_new/multilabel/train labels.csv')\n",
    "labels.drop(columns='id', inplace=True)\n",
    "data = pd.concat([features, labels], axis=1)\n",
    "data = data[['n_0000','n_0001','n_0002','n_0003',\n",
    "             'n_0004','n_0005','n_0006','n_0007',\n",
    "             'service_a', 'service_b', 'service_c', \n",
    "             'service_d', 'service_e', 'service_f',\n",
    "             'service_g', 'service_h', 'service_i',\n",
    "             'service_j', 'service_k', 'service_l',\n",
    "             'service_m', 'service_n']]\n",
    "\n",
    "tr_data, te_data = train_test_split(\n",
    "    data, \n",
    "    test_size=0.2,  \n",
    "    random_state=42\n",
    ")\n",
    "\n",
    "roles = {\n",
    "    \"target\": {'service_a', 'service_b', 'service_c',\n",
    "               'service_d', 'service_e', 'service_f',\n",
    "               'service_g', 'service_h', 'service_i',\n",
    "               'service_j', 'service_k', 'service_l',\n",
    "               'service_m', 'service_n'},\n",
    "    \"drop\" : ['id']\n",
    "}"
   ]
  },
  {
   "cell_type": "code",
   "execution_count": 4,
   "id": "e2f73a5f",
   "metadata": {},
   "outputs": [],
   "source": [
    "adv_roles = True"
   ]
  },
  {
   "cell_type": "markdown",
   "id": "c52c0d7c",
   "metadata": {},
   "source": [
    "## Imports (for potential use)"
   ]
  },
  {
   "cell_type": "code",
   "execution_count": 5,
   "id": "9a15c2c0",
   "metadata": {},
   "outputs": [],
   "source": [
    "# Imports from our package\n",
    "from lightautoml_gpu.automl.base import AutoML\n",
    "\n",
    "from lightautoml_gpu.automl.presets.gpu.tabular_gpu_presets import TabularAutoMLGPU, TabularUtilizedAutoMLGPU\n",
    "from lightautoml_gpu.tasks import Task\n",
    "\n",
    "from lightautoml_gpu.pipelines.features.gpu.lgb_pipeline_gpu import LGBSimpleFeaturesGPU, LGBAdvancedPipelineGPU\n",
    "from lightautoml_gpu.pipelines.features.gpu.linear_pipeline_gpu import LinearFeaturesGPU\n",
    "\n",
    "from lightautoml_gpu.pipelines.features.lgb_pipeline import LGBSimpleFeatures, LGBAdvancedPipeline\n",
    "from lightautoml_gpu.pipelines.features.linear_pipeline import LinearFeatures\n",
    "\n",
    "\n",
    "from lightautoml_gpu.ml_algo.gpu.boost_cb_gpu import BoostCBGPU\n",
    "from lightautoml_gpu.ml_algo.gpu.boost_xgb_gpu import BoostXGB\n",
    "from lightautoml_gpu.ml_algo.gpu.linear_gpu import LinearLBFGSGPU\n",
    "\n",
    "from lightautoml_gpu.ml_algo.boost_cb import BoostCB\n",
    "from lightautoml_gpu.ml_algo.linear_sklearn import LinearLBFGS\n",
    "\n",
    "\n",
    "from lightautoml_gpu.pipelines.ml.base import MLPipeline\n",
    "from lightautoml_gpu.pipelines.selection.importance_based import ModelBasedImportanceEstimator, ImportanceCutoffSelector"
   ]
  },
  {
   "cell_type": "markdown",
   "id": "6b5da23f",
   "metadata": {},
   "source": [
    "## TabularAutoML"
   ]
  },
  {
   "cell_type": "code",
   "execution_count": 6,
   "id": "71ba7253",
   "metadata": {},
   "outputs": [
    {
     "name": "stdout",
     "output_type": "stream",
     "text": [
      "multilabel isn`t supported in lgb\n"
     ]
    }
   ],
   "source": [
    "task = Task('multilabel')"
   ]
  },
  {
   "cell_type": "code",
   "execution_count": null,
   "id": "14624311",
   "metadata": {},
   "outputs": [],
   "source": [
    "automl = TabularAutoML(\n",
    "    task = task, \n",
    "    timeout = 3600,\n",
    "    cpu_limit = 4,\n",
    "    reader_params = {'n_jobs': 4, 'cv': 3, 'random_state': 42},\n",
    "    general_params = {'use_algos': [['linear_l2', 'cb']]}\n",
    ")"
   ]
  },
  {
   "cell_type": "code",
   "execution_count": null,
   "id": "4b768794",
   "metadata": {
    "scrolled": true
   },
   "outputs": [],
   "source": [
    "oof_pred = automl.fit_predict(data, roles = roles, verbose = 2)"
   ]
  },
  {
   "cell_type": "code",
   "execution_count": 7,
   "id": "f432e058",
   "metadata": {},
   "outputs": [
    {
     "name": "stdout",
     "output_type": "stream",
     "text": [
      "multilabel isn`t supported in lgb\n"
     ]
    }
   ],
   "source": [
    "task = Task('multilabel', device='gpu')"
   ]
  },
  {
   "cell_type": "code",
   "execution_count": 8,
   "id": "a765c16f",
   "metadata": {},
   "outputs": [],
   "source": [
    "automl_gpu = TabularAutoMLGPU(\n",
    "    task = task, \n",
    "    timeout = 3600,\n",
    "    cpu_limit = 1,\n",
    "    reader_params = {'n_jobs': 1, 'cv': 3, 'random_state': 42},\n",
    "    general_params = {'use_algos': [['linear_l2', 'pb']]}\n",
    ")"
   ]
  },
  {
   "cell_type": "code",
   "execution_count": 9,
   "id": "52f3b19f",
   "metadata": {},
   "outputs": [
    {
     "name": "stdout",
     "output_type": "stream",
     "text": [
      "[19:55:30] Stdout logging level is INFO2.\n",
      "[19:55:30] Copying TaskTimer may affect the parent PipelineTimer, so copy will create new unlimited TaskTimer\n",
      "[19:55:30] Task: multilabel\n",
      "\n",
      "[19:55:30] Start automl preset with listed constraints:\n",
      "[19:55:30] - time: 3600.00 seconds\n",
      "[19:55:30] - CPU: 1 cores\n",
      "[19:55:30] - memory: 16 GB\n",
      "\n",
      "[19:55:30] Train data shape: (14644, 22)\n",
      "[19:55:31] Feats was rejected during automatic roles guess: []\n",
      "[19:55:31] Layer \u001b[1m1\u001b[0m train process start. Time left 3599.41 secs\n",
      "[19:55:31] Start fitting \u001b[1mLvl_0_Pipe_0_Mod_0_LinearL2\u001b[0m ...\n",
      "[19:55:31] ===== Start working with \u001b[1mfold 0\u001b[0m for \u001b[1mLvl_0_Pipe_0_Mod_0_LinearL2\u001b[0m (orig) =====\n",
      "[19:55:35] ===== Start working with \u001b[1mfold 1\u001b[0m for \u001b[1mLvl_0_Pipe_0_Mod_0_LinearL2\u001b[0m (orig) =====\n",
      "[19:55:38] ===== Start working with \u001b[1mfold 2\u001b[0m for \u001b[1mLvl_0_Pipe_0_Mod_0_LinearL2\u001b[0m (orig) =====\n",
      "[19:55:43] Fitting \u001b[1mLvl_0_Pipe_0_Mod_0_LinearL2\u001b[0m finished. score = \u001b[1m-7.375941019850216\u001b[0m\n",
      "[19:55:43] \u001b[1mLvl_0_Pipe_0_Mod_0_LinearL2\u001b[0m fitting and predicting completed\n",
      "[19:55:43] Time left 3587.27 secs\n",
      "\n",
      "[19:55:45] Stdout logging level is INFO.\n",
      "[19:55:45] GDBT train starts. Max iter 3000, early stopping rounds 200\n",
      "[19:55:45] Iter 0; Sample 0, BCE = 0.3791335419829584; \n",
      "[19:55:45] Iter 100; Sample 0, BCE = 0.3534108347483917; \n",
      "[19:55:46] Iter 200; Sample 0, BCE = 0.352481320492309; \n",
      "[19:55:46] Iter 300; Sample 0, BCE = 0.3526062644674256; \n",
      "[19:55:47] Iter 400; Sample 0, BCE = 0.35300581685579757; \n",
      "[19:55:47] Early stopping at iter 411, best iter 211, best_score 0.3524737201441961\n",
      "[19:55:47] \u001b[1mSelector_PB\u001b[0m fitting and predicting completed\n",
      "[19:55:47] Start fitting \u001b[1mLvl_0_Pipe_1_Mod_0_PB\u001b[0m ...\n",
      "[19:55:47] ===== Start working with \u001b[1mfold 0\u001b[0m for \u001b[1mLvl_0_Pipe_1_Mod_0_PB\u001b[0m (orig) =====\n",
      "[19:55:47] Stdout logging level is INFO.\n",
      "[19:55:47] GDBT train starts. Max iter 3000, early stopping rounds 200\n",
      "[19:55:47] Iter 0; Sample 0, BCE = 0.37894448402970243; \n",
      "[19:55:48] Iter 100; Sample 0, BCE = 0.35300147824580363; \n",
      "[19:55:48] Iter 200; Sample 0, BCE = 0.35297640801484326; \n",
      "[19:55:49] Iter 300; Sample 0, BCE = 0.3536372204214162; \n",
      "[19:55:49] Early stopping at iter 342, best iter 142, best_score 0.35274105252932014\n",
      "[19:55:50] ===== Start working with \u001b[1mfold 1\u001b[0m for \u001b[1mLvl_0_Pipe_1_Mod_0_PB\u001b[0m (orig) =====\n",
      "[19:55:50] Stdout logging level is INFO.\n",
      "[19:55:50] GDBT train starts. Max iter 3000, early stopping rounds 200\n",
      "[19:55:50] Iter 0; Sample 0, BCE = 0.3714321742083025; \n",
      "[19:55:50] Iter 100; Sample 0, BCE = 0.3453898319978002; \n",
      "[19:55:51] Iter 200; Sample 0, BCE = 0.3455334761854292; \n",
      "[19:55:51] Iter 300; Sample 0, BCE = 0.3462424232156835; \n",
      "[19:55:52] Early stopping at iter 338, best iter 138, best_score 0.34526348719289895\n",
      "[19:55:52] ===== Start working with \u001b[1mfold 2\u001b[0m for \u001b[1mLvl_0_Pipe_1_Mod_0_PB\u001b[0m (orig) =====\n",
      "[19:55:52] Stdout logging level is INFO.\n",
      "[19:55:52] GDBT train starts. Max iter 3000, early stopping rounds 200\n",
      "[19:55:52] Iter 0; Sample 0, BCE = 0.37529119181882303; \n",
      "[19:55:52] Iter 100; Sample 0, BCE = 0.34916429534111365; \n",
      "[19:55:53] Iter 200; Sample 0, BCE = 0.3492387930924454; \n",
      "[19:55:53] Iter 300; Sample 0, BCE = 0.35010106430474214; \n",
      "[19:55:54] Early stopping at iter 343, best iter 143, best_score 0.34894201683790965\n",
      "[19:55:54] Fitting \u001b[1mLvl_0_Pipe_1_Mod_0_PB\u001b[0m finished. score = \u001b[1m-7.31524852427408\u001b[0m\n",
      "[19:55:54] \u001b[1mLvl_0_Pipe_1_Mod_0_PB\u001b[0m fitting and predicting completed\n",
      "[19:55:54] Time left 3576.25 secs\n",
      "\n",
      "[19:55:54] \u001b[1mLayer 1 training completed.\u001b[0m\n",
      "\n",
      "[19:55:54] Blending: Optimization starts with equal weights and score -7.312689267487612\n",
      "[19:55:54] Blending, iter 0: score = -7.312686174790477, weights = [0.51816326 0.48183677]\n",
      "[19:55:54] Blending, iter 1: score = -7.312686174790477, weights = [0.51816326 0.48183677]\n",
      "[19:55:54] No score update. Terminated\n",
      "[19:55:54] \u001b[1mAutoml preset training completed in 23.95 seconds\u001b[0m\n",
      "\n",
      "[19:55:54] Model description:\n",
      "Final prediction for new objects (level 0) = \n",
      "\t 0.51816 * (3 averaged models Lvl_0_Pipe_0_Mod_0_LinearL2) +\n",
      "\t 0.48184 * (3 averaged models Lvl_0_Pipe_1_Mod_0_PB) \n",
      "\n"
     ]
    }
   ],
   "source": [
    "oof_pred_gpu = automl_gpu.fit_predict(data, roles = roles, verbose = 2)"
   ]
  },
  {
   "cell_type": "code",
   "execution_count": 10,
   "id": "5ad158c4",
   "metadata": {},
   "outputs": [],
   "source": [
    "gpu_inf = automl_gpu.predict(data)"
   ]
  },
  {
   "cell_type": "code",
   "execution_count": null,
   "id": "fb2d56a6",
   "metadata": {},
   "outputs": [],
   "source": []
  },
  {
   "cell_type": "code",
   "execution_count": 11,
   "id": "7748506a",
   "metadata": {},
   "outputs": [
    {
     "name": "stdout",
     "output_type": "stream",
     "text": [
      "multilabel isn`t supported in lgb\n",
      "[19:55:54] CatBoost uses as obj. MultiCrossEntropy.\n",
      "multilabel isn`t supported in lgb\n",
      "[19:55:54] CatBoost uses as obj. MultiCrossEntropy.\n",
      "multilabel isn`t supported in lgb\n",
      "[19:55:54] CatBoost uses as obj. MultiCrossEntropy.\n"
     ]
    },
    {
     "data": {
      "application/vnd.jupyter.widget-view+json": {
       "model_id": "4902efbcb6e64ead89f6b7a17a948735",
       "version_major": 2,
       "version_minor": 0
      },
      "text/plain": [
       "  0%|          | 0/211 [00:00<?, ?it/s]"
      ]
     },
     "metadata": {},
     "output_type": "display_data"
    },
    {
     "name": "stdout",
     "output_type": "stream",
     "text": [
      "multilabel isn`t supported in lgb\n",
      "[19:55:55] CatBoost uses as obj. MultiCrossEntropy.\n"
     ]
    },
    {
     "data": {
      "application/vnd.jupyter.widget-view+json": {
       "model_id": "0f24600402124fd6a19259333a1da7df",
       "version_major": 2,
       "version_minor": 0
      },
      "text/plain": [
       "  0%|          | 0/142 [00:00<?, ?it/s]"
      ]
     },
     "metadata": {},
     "output_type": "display_data"
    },
    {
     "data": {
      "application/vnd.jupyter.widget-view+json": {
       "model_id": "5cfbe4e762e44c7eabe08dc82a2b1032",
       "version_major": 2,
       "version_minor": 0
      },
      "text/plain": [
       "  0%|          | 0/138 [00:00<?, ?it/s]"
      ]
     },
     "metadata": {},
     "output_type": "display_data"
    },
    {
     "data": {
      "application/vnd.jupyter.widget-view+json": {
       "model_id": "d8fff2fe2a2d49e9a43bb114d4af5673",
       "version_major": 2,
       "version_minor": 0
      },
      "text/plain": [
       "  0%|          | 0/143 [00:00<?, ?it/s]"
      ]
     },
     "metadata": {},
     "output_type": "display_data"
    },
    {
     "name": "stdout",
     "output_type": "stream",
     "text": [
      "multilabel isn`t supported in lgb\n",
      "[19:55:56] CatBoost uses as obj. MultiCrossEntropy.\n"
     ]
    }
   ],
   "source": [
    "automl_gpu.to_cpu()"
   ]
  },
  {
   "cell_type": "code",
   "execution_count": 12,
   "id": "b14160e6",
   "metadata": {},
   "outputs": [
    {
     "data": {
      "text/plain": [
       "'Lvl_0_Pipe_1_Mod_0_PB'"
      ]
     },
     "execution_count": 12,
     "metadata": {},
     "output_type": "execute_result"
    }
   ],
   "source": [
    "automl_gpu.levels[0][1].ml_algos[0].name"
   ]
  },
  {
   "cell_type": "code",
   "execution_count": 13,
   "id": "512c9bab",
   "metadata": {},
   "outputs": [],
   "source": [
    "#model_inf.levels[0][1].ml_algos[0].name"
   ]
  },
  {
   "cell_type": "code",
   "execution_count": 14,
   "id": "bf8c7fd4",
   "metadata": {},
   "outputs": [],
   "source": [
    "cpu_inf = automl_gpu.predict(data)"
   ]
  },
  {
   "cell_type": "code",
   "execution_count": 15,
   "id": "027652e1",
   "metadata": {},
   "outputs": [],
   "source": [
    "from joblib import dump, load\n",
    "import time\n",
    "pickle_file = './gpu.joblib'"
   ]
  },
  {
   "cell_type": "code",
   "execution_count": 16,
   "id": "edc3395d",
   "metadata": {},
   "outputs": [
    {
     "name": "stdout",
     "output_type": "stream",
     "text": [
      "Raw dump duration: 0.018s\n"
     ]
    }
   ],
   "source": [
    "start = time.time()\n",
    "with open(pickle_file, 'wb') as f:\n",
    "    dump(automl_gpu, f)\n",
    "raw_dump_duration = time.time() - start\n",
    "print(\"Raw dump duration: %0.3fs\" % raw_dump_duration)"
   ]
  },
  {
   "cell_type": "code",
   "execution_count": 17,
   "id": "56a1a1b9",
   "metadata": {},
   "outputs": [
    {
     "name": "stdout",
     "output_type": "stream",
     "text": [
      "Raw load duration: 0.010s\n"
     ]
    }
   ],
   "source": [
    "\n",
    "start = time.time()\n",
    "with open(pickle_file, 'rb') as f:\n",
    "    model_inf = load(f)\n",
    "raw_load_duration = time.time() - start\n",
    "print(\"Raw load duration: %0.3fs\" % raw_load_duration)\n"
   ]
  },
  {
   "cell_type": "code",
   "execution_count": 18,
   "id": "6ea7237a",
   "metadata": {},
   "outputs": [
    {
     "data": {
      "text/plain": [
       "{'tl_model': <treelite.frontend.Model at 0x7f26381176d0>,\n",
       " 'postprocess_fn': <lightautoml_gpu.tasks.losses.bce_loss.BCELossCPU at 0x7f26381177c0>}"
      ]
     },
     "execution_count": 18,
     "metadata": {},
     "output_type": "execute_result"
    }
   ],
   "source": [
    "model_inf.levels[0][1].ml_algos[0].models[0].__dict__"
   ]
  },
  {
   "cell_type": "code",
   "execution_count": null,
   "id": "8ad59ea7",
   "metadata": {},
   "outputs": [],
   "source": []
  },
  {
   "cell_type": "code",
   "execution_count": 19,
   "id": "2ae4bbf1",
   "metadata": {},
   "outputs": [],
   "source": [
    "disk_pred = model_inf.predict(data)"
   ]
  },
  {
   "cell_type": "code",
   "execution_count": 20,
   "id": "8fdecea7",
   "metadata": {},
   "outputs": [
    {
     "data": {
      "text/plain": [
       "array([[0.02533744, 0.05631058, 0.02487998, ..., 0.04063744, 0.01940615,\n",
       "        0.0452724 ],\n",
       "       [0.09392051, 0.1349968 , 0.09111466, ..., 0.25144273, 0.08258725,\n",
       "        0.11238423],\n",
       "       [0.15040995, 0.17313486, 0.13510916, ..., 0.31913528, 0.10140061,\n",
       "        0.1459894 ],\n",
       "       ...,\n",
       "       [0.19764237, 0.24772894, 0.18157095, ..., 0.42716187, 0.15483937,\n",
       "        0.22337198],\n",
       "       [0.63217723, 0.58885896, 0.6310935 , ..., 0.36867416, 0.6366768 ,\n",
       "        0.6007031 ],\n",
       "       [0.0455879 , 0.04775938, 0.04493297, ..., 0.00835841, 0.04480721,\n",
       "        0.03481015]], dtype=float32)"
      ]
     },
     "execution_count": 20,
     "metadata": {},
     "output_type": "execute_result"
    }
   ],
   "source": [
    "disk_pred.data.T"
   ]
  },
  {
   "cell_type": "code",
   "execution_count": 21,
   "id": "23815756",
   "metadata": {},
   "outputs": [
    {
     "data": {
      "text/plain": [
       "array([[0.02533744, 0.05631058, 0.02487998, ..., 0.04063744, 0.01940615,\n",
       "        0.0452724 ],\n",
       "       [0.09392051, 0.1349968 , 0.09111466, ..., 0.25144273, 0.08258725,\n",
       "        0.11238423],\n",
       "       [0.15040995, 0.17313486, 0.13510916, ..., 0.31913528, 0.10140061,\n",
       "        0.1459894 ],\n",
       "       ...,\n",
       "       [0.19764237, 0.24772894, 0.18157095, ..., 0.42716187, 0.15483937,\n",
       "        0.22337198],\n",
       "       [0.63217723, 0.58885896, 0.6310935 , ..., 0.36867416, 0.6366768 ,\n",
       "        0.6007031 ],\n",
       "       [0.0455879 , 0.04775938, 0.04493297, ..., 0.00835841, 0.04480721,\n",
       "        0.03481015]], dtype=float32)"
      ]
     },
     "execution_count": 21,
     "metadata": {},
     "output_type": "execute_result"
    }
   ],
   "source": [
    "disk_pred.data.T"
   ]
  },
  {
   "cell_type": "code",
   "execution_count": 22,
   "id": "9565ca88",
   "metadata": {},
   "outputs": [
    {
     "name": "stdout",
     "output_type": "stream",
     "text": [
      "[[0.02533744 0.05631058 0.02487998 ... 0.04063744 0.01940615 0.0452724 ]\n",
      " [0.09392051 0.1349968  0.09111466 ... 0.25144273 0.08258725 0.11238423]\n",
      " [0.15040995 0.17313486 0.13510916 ... 0.31913528 0.10140061 0.1459894 ]\n",
      " ...\n",
      " [0.19764237 0.24772894 0.18157095 ... 0.42716187 0.15483937 0.22337198]\n",
      " [0.63217723 0.58885896 0.6310935  ... 0.36867416 0.6366768  0.6007031 ]\n",
      " [0.0455879  0.04775938 0.04493297 ... 0.00835841 0.04480721 0.03481015]]\n",
      "\n",
      "[[0.02533743 0.05631058 0.02487998 ... 0.04063743 0.01940614 0.04527239]\n",
      " [0.09392049 0.13499683 0.09111466 ... 0.25144276 0.08258724 0.11238422]\n",
      " [0.15040995 0.17313486 0.13510914 ... 0.31913525 0.10140058 0.14598939]\n",
      " ...\n",
      " [0.19764239 0.24772894 0.18157096 ... 0.42716187 0.15483937 0.22337198]\n",
      " [0.6321772  0.58885896 0.6310935  ... 0.36867416 0.6366767  0.6007031 ]\n",
      " [0.04558791 0.04775938 0.04493297 ... 0.00835841 0.04480724 0.03481015]]\n",
      "\n",
      "[[0.0265856  0.05448441 0.02397818 ... 0.03960439 0.02142292 0.05184397]\n",
      " [0.09404234 0.141125   0.09685087 ... 0.2785575  0.07829998 0.12058485]\n",
      " [0.14190479 0.16562755 0.14042206 ... 0.34106964 0.09087273 0.15784061]\n",
      " ...\n",
      " [0.19194756 0.2459678  0.18175346 ... 0.44617236 0.14425427 0.23447824]\n",
      " [0.63556325 0.58564454 0.62711054 ... 0.37128818 0.63535285 0.5949316 ]\n",
      " [0.04186874 0.04616019 0.04832437 ... 0.00783787 0.03892743 0.03730194]]\n",
      "\n",
      "\n",
      "[[0.02533744 0.05631058 0.02487998 ... 0.04063744 0.01940615 0.0452724 ]\n",
      " [0.09392051 0.1349968  0.09111466 ... 0.25144273 0.08258725 0.11238423]\n",
      " [0.15040995 0.17313486 0.13510916 ... 0.31913528 0.10140061 0.1459894 ]\n",
      " ...\n",
      " [0.19764237 0.24772894 0.18157095 ... 0.42716187 0.15483937 0.22337198]\n",
      " [0.63217723 0.58885896 0.6310935  ... 0.36867416 0.6366768  0.6007031 ]\n",
      " [0.0455879  0.04775938 0.04493297 ... 0.00835841 0.04480721 0.03481015]]\n"
     ]
    }
   ],
   "source": [
    "print(cpu_inf.data.T)\n",
    "print()\n",
    "print(gpu_inf.data.T)\n",
    "print()\n",
    "print(oof_pred_gpu.data.T)\n",
    "print()\n",
    "#print(oof_pred.data.T)\n",
    "print()\n",
    "print(disk_pred.data.T)"
   ]
  },
  {
   "cell_type": "code",
   "execution_count": null,
   "id": "70394263",
   "metadata": {},
   "outputs": [],
   "source": [
    "cluster = LocalCUDACluster(rmm_managed_memory=True, CUDA_VISIBLE_DEVICES=\"0\",\n",
    "                               protocol=\"ucx\", enable_nvlink=True,\n",
    "                               memory_limit=\"8GB\")\n",
    "print(\"dashboard:\", cluster.dashboard_link)\n",
    "client = Client(cluster)\n",
    "client.run(cudf.set_allocator, \"managed\")"
   ]
  },
  {
   "cell_type": "code",
   "execution_count": null,
   "id": "fbf94656",
   "metadata": {},
   "outputs": [],
   "source": [
    "task = Task('multilabel', device='mgpu')\n",
    "\n",
    "automl_mgpu = TabularAutoMLGPU(\n",
    "    task = task, \n",
    "    timeout = 3600,\n",
    "    cpu_limit = 1,\n",
    "    reader_params = {'n_jobs': 1, 'cv': 3, 'random_state': 42, 'npartitions': 2},\n",
    "    general_params = {'use_algos': [['xgb', 'linear_l2']]},\n",
    "    client = client\n",
    ")\n",
    "\n",
    "oof_pred_mgpu = automl_mgpu.fit_predict(data, roles = roles, verbose = 2)"
   ]
  },
  {
   "cell_type": "code",
   "execution_count": null,
   "id": "0c8a80f3",
   "metadata": {},
   "outputs": [],
   "source": [
    "automl_mgpu.to_cpu()"
   ]
  },
  {
   "cell_type": "code",
   "execution_count": null,
   "id": "0332f750",
   "metadata": {},
   "outputs": [],
   "source": [
    "mcpu_inf = automl_mgpu.predict(data)"
   ]
  },
  {
   "cell_type": "code",
   "execution_count": null,
   "id": "8b9af169",
   "metadata": {},
   "outputs": [],
   "source": [
    "print(cpu_inf.data.T)\n",
    "print()\n",
    "print(gpu_inf.data.T)\n",
    "print()\n",
    "print(oof_pred_gpu.data.T)\n",
    "print()\n",
    "print(oof_pred.data.T)\n",
    "print()\n",
    "print(oof_pred_mgpu.data.T)\n",
    "print()\n",
    "print(mcpu_inf.data.T)"
   ]
  },
  {
   "cell_type": "code",
   "execution_count": null,
   "id": "507aa230",
   "metadata": {},
   "outputs": [],
   "source": [
    "from joblib import dump, load\n",
    "import time\n",
    "\n",
    "pickle_file = './mgpu.joblib'\n",
    "\n",
    "start = time.time()\n",
    "with open(pickle_file, 'wb') as f:\n",
    "    dump(automl_mgpu, f)\n",
    "raw_dump_duration = time.time() - start\n",
    "print(\"Raw dump duration: %0.3fs\" % raw_dump_duration)"
   ]
  },
  {
   "cell_type": "code",
   "execution_count": null,
   "id": "08a422d6",
   "metadata": {},
   "outputs": [],
   "source": []
  },
  {
   "cell_type": "code",
   "execution_count": null,
   "id": "e0f59447",
   "metadata": {},
   "outputs": [],
   "source": []
  }
 ],
 "metadata": {
  "kernelspec": {
   "display_name": "rapids-22.10",
   "language": "python",
   "name": "rapids-22.10"
  },
  "language_info": {
   "codemirror_mode": {
    "name": "ipython",
    "version": 3
   },
   "file_extension": ".py",
   "mimetype": "text/x-python",
   "name": "python",
   "nbconvert_exporter": "python",
   "pygments_lexer": "ipython3",
   "version": "3.9.13"
  }
 },
 "nbformat": 4,
 "nbformat_minor": 5
}

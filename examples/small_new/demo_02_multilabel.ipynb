{
 "cells": [
  {
   "cell_type": "code",
   "execution_count": 1,
   "id": "78930508",
   "metadata": {},
   "outputs": [],
   "source": [
    "import numpy as np\n",
    "import pandas as pd"
   ]
  },
  {
   "cell_type": "code",
   "execution_count": 2,
   "id": "bfd2caae",
   "metadata": {},
   "outputs": [],
   "source": [
    "from lightautoml_gpu.reader.gpu.cudf_reader import CudfReader\n",
    "from lightautoml_gpu.reader.base import PandasToPandasReader\n",
    "\n",
    "from lightautoml_gpu.transformers.base import SequentialTransformer\n",
    "\n",
    "from lightautoml_gpu.pipelines.utils import get_columns_by_role\n",
    "\n",
    "from lightautoml_gpu.transformers.gpu import numeric_gpu, categorical_gpu, datetime_gpu\n",
    "from lightautoml_gpu.transformers import numeric, categorical, datetime\n",
    "\n",
    "from lightautoml_gpu.tasks import Task\n",
    "from lightautoml_gpu.automl.presets.tabular_presets import TabularAutoML, TabularUtilizedAutoML\n",
    "\n",
    "import pandas as pd\n",
    "import time\n",
    "from sklearn.model_selection import train_test_split\n",
    "\n",
    "from dask.distributed import Client\n",
    "from dask_cuda import LocalCUDACluster\n",
    "import cudf"
   ]
  },
  {
   "cell_type": "code",
   "execution_count": null,
   "id": "e8daa935",
   "metadata": {},
   "outputs": [],
   "source": []
  },
  {
   "cell_type": "code",
   "execution_count": 3,
   "id": "4befdbcf",
   "metadata": {},
   "outputs": [
    {
     "name": "stderr",
     "output_type": "stream",
     "text": [
      "/tmp/ipykernel_16207/705777730.py:1: DtypeWarning: Columns (329,331,333,336,338,344,345,346,348,354,355,356,357,358,361,362,364,367,372,377,380,383,385,387,390,392,399,400,406,408,409,413,416,418,419,431,433,437,438,442,448,449,450,453,457,464,473,478,479,481,483,485,486,489,492,495,496,497,498,499,500,503,507,508,510,511,514,515,517,519,520,521,522,523,524,526,527,530,534,537,538,539,541,544,547,548,549,550,551,557,558,560,564,569,572,573,576,577,579,583,596,597,598,600,601,602,604,605,606,608,609,613,619,620,625,627,628,629,631,632,633,636,641,642,643,645,646,647,648,651,655,661,662,665,668,675,676,679,682,685,687,689,690,691,694,698,701,702,703,706,711,712,713,719,720,721,733,735,737,738,742,746,747,748,749,752,754,755,760,764,768,770,781,782,789,797,807,812,814,817,818,822,823,824,825,832,840,843,844,845,850,853,857,858,861,867,868,873,874,876,877,879,880,881,883,886,890,893,897,899,900,901,902,904,905,908,909,910,912,913,914,915,916,922,923,931,933,935,937,939,942,943,946,951,955,960,964,965,968,969,970,973,974,977,980,987,994,995,996,999,1000,1008,1014,1015,1016,1017,1020,1021,1023,1028,1031,1035,1036,1037,1039,1040,1043,1048,1051,1055,1058,1059,1072,1073,1074,1081,1090,1097,1098,1103,1104,1109,1112,1113,1114,1118,1120,1130,1134,1135,1139,1140,1147,1148,1149,1152,1154,1157,1158,1162,1163,1164,1166,1169,1174,1177,1180,1181,1182,1183,1185,1188,1189,1195,1197,1198,1200,1203,1208,1210,1212,1215,1217,1220,1222,1225,1229,1230,1233,1234,1241,1243,1246,1250,1251,1252,1254,1259,1262,1263,1265,1266,1269,1270,1273,1274,1276,1277,1279,1280,1282,1284,1285,1286,1289,1291,1292,1293,1294,1295,1301,1302,1304,1305,1306,1308,1309,1311,1313,1316,1318,1320,1322,1323,1325,1330,1335,1337,1340,1341,1343,1345,1350,1351,1352,1354,1357,1358,1359,1360,1361,1368,1369,1372,1377) have mixed types. Specify dtype option on import or set low_memory=False.\n",
      "  features = pd.read_csv('../../data/small_new/multilabel/train Data.csv')\n"
     ]
    }
   ],
   "source": [
    "features = pd.read_csv('../../data/small_new/multilabel/train Data.csv')\n",
    "labels = pd.read_csv('../../data/small_new/multilabel/train labels.csv')\n",
    "labels.drop(columns='id', inplace=True)\n",
    "data = pd.concat([features, labels], axis=1)\n",
    "data = data[['n_0000','n_0001','n_0002','n_0003',\n",
    "             'n_0004','n_0005','n_0006','n_0007',\n",
    "             'service_a', 'service_b', 'service_c', \n",
    "             'service_d', 'service_e', 'service_f',\n",
    "             'service_g', 'service_h', 'service_i',\n",
    "             'service_j', 'service_k', 'service_l',\n",
    "             'service_m', 'service_n']]\n",
    "\n",
    "tr_data, te_data = train_test_split(\n",
    "    data, \n",
    "    test_size=0.2,  \n",
    "    random_state=42\n",
    ")\n",
    "\n",
    "roles = {\n",
    "    \"target\": {'service_a', 'service_b', 'service_c',\n",
    "               'service_d', 'service_e', 'service_f',\n",
    "               'service_g', 'service_h', 'service_i',\n",
    "               'service_j', 'service_k', 'service_l',\n",
    "               'service_m', 'service_n'},\n",
    "    \"drop\" : ['id']\n",
    "}"
   ]
  },
  {
   "cell_type": "code",
   "execution_count": 4,
   "id": "e2f73a5f",
   "metadata": {},
   "outputs": [],
   "source": [
    "adv_roles = True"
   ]
  },
  {
   "cell_type": "markdown",
   "id": "c52c0d7c",
   "metadata": {},
   "source": [
    "## Imports (for potential use)"
   ]
  },
  {
   "cell_type": "code",
   "execution_count": 5,
   "id": "9a15c2c0",
   "metadata": {},
   "outputs": [],
   "source": [
    "# Imports from our package\n",
    "from lightautoml_gpu.automl.base import AutoML\n",
    "\n",
    "from lightautoml_gpu.automl.presets.gpu.tabular_gpu_presets import TabularAutoMLGPU, TabularUtilizedAutoMLGPU\n",
    "from lightautoml_gpu.tasks import Task\n",
    "\n",
    "from lightautoml_gpu.pipelines.features.gpu.lgb_pipeline_gpu import LGBSimpleFeaturesGPU, LGBAdvancedPipelineGPU\n",
    "from lightautoml_gpu.pipelines.features.gpu.linear_pipeline_gpu import LinearFeaturesGPU\n",
    "\n",
    "from lightautoml_gpu.pipelines.features.lgb_pipeline import LGBSimpleFeatures, LGBAdvancedPipeline\n",
    "from lightautoml_gpu.pipelines.features.linear_pipeline import LinearFeatures\n",
    "\n",
    "\n",
    "from lightautoml_gpu.ml_algo.gpu.boost_cb_gpu import BoostCBGPU\n",
    "from lightautoml_gpu.ml_algo.gpu.boost_xgb_gpu import BoostXGB\n",
    "from lightautoml_gpu.ml_algo.gpu.linear_gpu import LinearLBFGSGPU\n",
    "\n",
    "from lightautoml_gpu.ml_algo.boost_cb import BoostCB\n",
    "from lightautoml_gpu.ml_algo.linear_sklearn import LinearLBFGS\n",
    "\n",
    "\n",
    "from lightautoml_gpu.pipelines.ml.base import MLPipeline\n",
    "from lightautoml_gpu.pipelines.selection.importance_based import ModelBasedImportanceEstimator, ImportanceCutoffSelector"
   ]
  },
  {
   "cell_type": "markdown",
   "id": "6b5da23f",
   "metadata": {},
   "source": [
    "## TabularAutoML"
   ]
  },
  {
   "cell_type": "code",
   "execution_count": 6,
   "id": "71ba7253",
   "metadata": {},
   "outputs": [
    {
     "name": "stdout",
     "output_type": "stream",
     "text": [
      "multilabel isn`t supported in lgb\n"
     ]
    }
   ],
   "source": [
    "task = Task('multilabel')"
   ]
  },
  {
   "cell_type": "code",
   "execution_count": 7,
   "id": "14624311",
   "metadata": {},
   "outputs": [],
   "source": [
    "automl = TabularAutoML(\n",
    "    task = task, \n",
    "    timeout = 3600,\n",
    "    cpu_limit = 4,\n",
    "    reader_params = {'n_jobs': 4, 'cv': 3, 'random_state': 42},\n",
    "    general_params = {'use_algos': [['linear_l2', 'cb']]}\n",
    ")"
   ]
  },
  {
   "cell_type": "code",
   "execution_count": null,
   "id": "4b768794",
   "metadata": {
    "scrolled": true
   },
   "outputs": [],
   "source": [
    "oof_pred = automl.fit_predict(data, roles = roles, verbose = 2)"
   ]
  },
  {
   "cell_type": "code",
   "execution_count": 8,
   "id": "f432e058",
   "metadata": {},
   "outputs": [
    {
     "name": "stdout",
     "output_type": "stream",
     "text": [
      "multilabel isn`t supported in lgb\n"
     ]
    }
   ],
   "source": [
    "task = Task('multilabel', device='gpu')"
   ]
  },
  {
   "cell_type": "code",
   "execution_count": 9,
   "id": "a765c16f",
   "metadata": {},
   "outputs": [],
   "source": [
    "automl_gpu = TabularAutoMLGPU(\n",
    "    task = task, \n",
    "    timeout = 3600,\n",
    "    cpu_limit = 1,\n",
    "    reader_params = {'n_jobs': 1, 'cv': 3, 'random_state': 42},\n",
    "    general_params = {'use_algos': [['linear_l2', 'pb']]}\n",
    ")"
   ]
  },
  {
   "cell_type": "code",
   "execution_count": 10,
   "id": "52f3b19f",
   "metadata": {},
   "outputs": [
    {
     "name": "stdout",
     "output_type": "stream",
     "text": [
      "[14:43:33] Stdout logging level is INFO2.\n",
      "[14:43:33] Copying TaskTimer may affect the parent PipelineTimer, so copy will create new unlimited TaskTimer\n",
      "[14:43:33] Task: multilabel\n",
      "\n",
      "[14:43:33] Start automl preset with listed constraints:\n",
      "[14:43:33] - time: 3600.00 seconds\n",
      "[14:43:33] - CPU: 1 cores\n",
      "[14:43:33] - memory: 16 GB\n",
      "\n",
      "[14:43:33] Train data shape: (14644, 22)\n",
      "[14:43:34] Feats was rejected during automatic roles guess: []\n",
      "[14:43:34] Layer \u001b[1m1\u001b[0m train process start. Time left 3599.40 secs\n",
      "[14:43:34] Start fitting \u001b[1mLvl_0_Pipe_0_Mod_0_LinearL2\u001b[0m ...\n",
      "[14:43:34] ===== Start working with \u001b[1mfold 0\u001b[0m for \u001b[1mLvl_0_Pipe_0_Mod_0_LinearL2\u001b[0m (orig) =====\n",
      "[14:43:38] ===== Start working with \u001b[1mfold 1\u001b[0m for \u001b[1mLvl_0_Pipe_0_Mod_0_LinearL2\u001b[0m (orig) =====\n",
      "[14:43:41] ===== Start working with \u001b[1mfold 2\u001b[0m for \u001b[1mLvl_0_Pipe_0_Mod_0_LinearL2\u001b[0m (orig) =====\n",
      "[14:43:45] Fitting \u001b[1mLvl_0_Pipe_0_Mod_0_LinearL2\u001b[0m finished. score = \u001b[1m-7.376073239155966\u001b[0m\n",
      "[14:43:45] \u001b[1mLvl_0_Pipe_0_Mod_0_LinearL2\u001b[0m fitting and predicting completed\n",
      "[14:43:45] Time left 3587.64 secs\n",
      "\n",
      "[14:44:06] \u001b[1mSelector_XGB\u001b[0m fitting and predicting completed\n",
      "[14:44:06] Start fitting \u001b[1mLvl_0_Pipe_1_Mod_0_PB\u001b[0m ...\n",
      "[14:44:06] ===== Start working with \u001b[1mfold 0\u001b[0m for \u001b[1mLvl_0_Pipe_1_Mod_0_PB\u001b[0m (orig) =====\n",
      "[14:44:08] Stdout logging level is INFO.\n",
      "[14:44:08] GDBT train starts. Max iter 3000, early stopping rounds 200\n",
      "[14:44:08] Iter 0; Sample 0, BCE = 0.3789036773999143; \n",
      "[14:44:09] Iter 100; Sample 0, BCE = 0.3531444811340379; \n",
      "[14:44:10] Iter 200; Sample 0, BCE = 0.3530812942739718; \n",
      "[14:44:10] Iter 300; Sample 0, BCE = 0.3537530042366674; \n",
      "[14:44:10] Early stopping at iter 349, best iter 149, best_score 0.35290738602287713\n",
      "[14:44:10] ===== Start working with \u001b[1mfold 1\u001b[0m for \u001b[1mLvl_0_Pipe_1_Mod_0_PB\u001b[0m (orig) =====\n",
      "[14:44:11] Stdout logging level is INFO.\n",
      "[14:44:11] GDBT train starts. Max iter 3000, early stopping rounds 200\n",
      "[14:44:11] Iter 0; Sample 0, BCE = 0.3713559501355773; \n",
      "[14:44:11] Iter 100; Sample 0, BCE = 0.3454312453719665; \n",
      "[14:44:12] Iter 200; Sample 0, BCE = 0.3455404326221195; \n",
      "[14:44:12] Iter 300; Sample 0, BCE = 0.3462468677799922; \n",
      "[14:44:12] Early stopping at iter 325, best iter 125, best_score 0.34528895399105886\n",
      "[14:44:12] ===== Start working with \u001b[1mfold 2\u001b[0m for \u001b[1mLvl_0_Pipe_1_Mod_0_PB\u001b[0m (orig) =====\n",
      "[14:44:13] Stdout logging level is INFO.\n",
      "[14:44:13] GDBT train starts. Max iter 3000, early stopping rounds 200\n",
      "[14:44:13] Iter 0; Sample 0, BCE = 0.37511947076010443; \n",
      "[14:44:13] Iter 100; Sample 0, BCE = 0.3492026151118611; \n",
      "[14:44:14] Iter 200; Sample 0, BCE = 0.34929521525066604; \n",
      "[14:44:14] Iter 300; Sample 0, BCE = 0.3501730350380454; \n",
      "[14:44:14] Early stopping at iter 327, best iter 127, best_score 0.3489994271948973\n",
      "[14:44:15] Fitting \u001b[1mLvl_0_Pipe_1_Mod_0_PB\u001b[0m finished. score = \u001b[1m-7.315974599691207\u001b[0m\n",
      "[14:44:15] \u001b[1mLvl_0_Pipe_1_Mod_0_PB\u001b[0m fitting and predicting completed\n",
      "[14:44:15] Time left 3558.43 secs\n",
      "\n",
      "[14:44:15] \u001b[1mLayer 1 training completed.\u001b[0m\n",
      "\n",
      "[14:44:15] Blending: Optimization starts with equal weights and score -7.313280275621169\n",
      "[14:44:15] Blending, iter 0: score = -7.31326794412676, weights = [0.5204602  0.47953984]\n",
      "[14:44:15] Blending, iter 1: score = -7.31326794412676, weights = [0.5204602  0.47953984]\n",
      "[14:44:15] No score update. Terminated\n",
      "[14:44:15] \u001b[1mAutoml preset training completed in 41.77 seconds\u001b[0m\n",
      "\n",
      "[14:44:15] Model description:\n",
      "Final prediction for new objects (level 0) = \n",
      "\t 0.52046 * (3 averaged models Lvl_0_Pipe_0_Mod_0_LinearL2) +\n",
      "\t 0.47954 * (3 averaged models Lvl_0_Pipe_1_Mod_0_PB) \n",
      "\n"
     ]
    }
   ],
   "source": [
    "oof_pred_gpu = automl_gpu.fit_predict(data, roles = roles, verbose = 2)"
   ]
  },
  {
   "cell_type": "code",
   "execution_count": 11,
   "id": "5ad158c4",
   "metadata": {},
   "outputs": [],
   "source": [
    "gpu_inf = automl_gpu.predict(data)"
   ]
  },
  {
   "cell_type": "code",
   "execution_count": null,
   "id": "fb2d56a6",
   "metadata": {},
   "outputs": [],
   "source": []
  },
  {
   "cell_type": "code",
   "execution_count": 12,
   "id": "7748506a",
   "metadata": {},
   "outputs": [
    {
     "name": "stdout",
     "output_type": "stream",
     "text": [
      "multilabel isn`t supported in lgb\n",
      "[14:44:15] CatBoost uses as obj. MultiCrossEntropy.\n",
      "multilabel isn`t supported in lgb\n",
      "[14:44:15] CatBoost uses as obj. MultiCrossEntropy.\n",
      "multilabel isn`t supported in lgb\n",
      "[14:44:15] CatBoost uses as obj. MultiCrossEntropy.\n",
      "multilabel isn`t supported in lgb\n",
      "[14:44:15] CatBoost uses as obj. MultiCrossEntropy.\n"
     ]
    },
    {
     "data": {
      "application/vnd.jupyter.widget-view+json": {
       "model_id": "320f2971582e49a8bc729cfb56098c2a",
       "version_major": 2,
       "version_minor": 0
      },
      "text/plain": [
       "  0%|          | 0/149 [00:00<?, ?it/s]"
      ]
     },
     "metadata": {},
     "output_type": "display_data"
    },
    {
     "data": {
      "application/vnd.jupyter.widget-view+json": {
       "model_id": "4f6fa9a85bbd47258332756657592070",
       "version_major": 2,
       "version_minor": 0
      },
      "text/plain": [
       "  0%|          | 0/125 [00:00<?, ?it/s]"
      ]
     },
     "metadata": {},
     "output_type": "display_data"
    },
    {
     "data": {
      "application/vnd.jupyter.widget-view+json": {
       "model_id": "0ecbf81b32524533ad13b42bcd43c055",
       "version_major": 2,
       "version_minor": 0
      },
      "text/plain": [
       "  0%|          | 0/127 [00:00<?, ?it/s]"
      ]
     },
     "metadata": {},
     "output_type": "display_data"
    },
    {
     "name": "stdout",
     "output_type": "stream",
     "text": [
      "multilabel isn`t supported in lgb\n",
      "[14:44:17] CatBoost uses as obj. MultiCrossEntropy.\n"
     ]
    }
   ],
   "source": [
    "automl_gpu.to_cpu()"
   ]
  },
  {
   "cell_type": "code",
   "execution_count": null,
   "id": "b14160e6",
   "metadata": {},
   "outputs": [],
   "source": []
  },
  {
   "cell_type": "code",
   "execution_count": 13,
   "id": "bf8c7fd4",
   "metadata": {},
   "outputs": [],
   "source": [
    "cpu_inf = automl_gpu.predict(data)"
   ]
  },
  {
   "cell_type": "code",
   "execution_count": 14,
   "id": "027652e1",
   "metadata": {},
   "outputs": [],
   "source": [
    "from joblib import dump, load\n",
    "import time\n",
    "pickle_file = './gpu.joblib'"
   ]
  },
  {
   "cell_type": "code",
   "execution_count": 15,
   "id": "edc3395d",
   "metadata": {},
   "outputs": [
    {
     "name": "stdout",
     "output_type": "stream",
     "text": [
      "Raw dump duration: 0.140s\n"
     ]
    }
   ],
   "source": [
    "start = time.time()\n",
    "with open(pickle_file, 'wb') as f:\n",
    "    dump(automl_gpu, f)\n",
    "raw_dump_duration = time.time() - start\n",
    "print(\"Raw dump duration: %0.3fs\" % raw_dump_duration)"
   ]
  },
  {
   "cell_type": "code",
   "execution_count": 16,
   "id": "56a1a1b9",
   "metadata": {},
   "outputs": [
    {
     "name": "stdout",
     "output_type": "stream",
     "text": [
      "Raw load duration: 0.097s\n"
     ]
    }
   ],
   "source": [
    "\n",
    "start = time.time()\n",
    "with open(pickle_file, 'rb') as f:\n",
    "    model_inf = load(f)\n",
    "raw_load_duration = time.time() - start\n",
    "print(\"Raw load duration: %0.3fs\" % raw_load_duration)\n"
   ]
  },
  {
   "cell_type": "code",
   "execution_count": 17,
   "id": "6ea7237a",
   "metadata": {},
   "outputs": [
    {
     "data": {
      "text/plain": [
       "{'tl_model': <treelite.frontend.Model at 0x7f03f7da1c10>,\n",
       " 'postprocess_fn': <lightautoml_gpu.tasks.losses.bce_loss.BCELossCPU at 0x7f03f7da1cd0>}"
      ]
     },
     "execution_count": 17,
     "metadata": {},
     "output_type": "execute_result"
    }
   ],
   "source": [
    "model_inf.levels[0][1].ml_algos[0].models[0].__dict__"
   ]
  },
  {
   "cell_type": "code",
   "execution_count": null,
   "id": "8ad59ea7",
   "metadata": {},
   "outputs": [],
   "source": []
  },
  {
   "cell_type": "code",
   "execution_count": 18,
   "id": "2ae4bbf1",
   "metadata": {},
   "outputs": [],
   "source": [
    "disk_pred = model_inf.predict(data)"
   ]
  },
  {
   "cell_type": "code",
   "execution_count": 19,
   "id": "8fdecea7",
   "metadata": {},
   "outputs": [
    {
     "data": {
      "text/plain": [
       "array([[0.03836581, 0.07403237, 0.04497298, ..., 0.2328304 , 0.03760371,\n",
       "        0.04118644],\n",
       "       [0.03474031, 0.06981577, 0.03458579, ..., 0.05481545, 0.02665372,\n",
       "        0.0533637 ],\n",
       "       [0.01229703, 0.01670735, 0.01232157, ..., 0.00294785, 0.01023321,\n",
       "        0.01007054],\n",
       "       ...,\n",
       "       [0.00416759, 0.01176112, 0.00473114, ..., 0.0086079 , 0.00555177,\n",
       "        0.004463  ],\n",
       "       [0.00141493, 0.0025898 , 0.00150979, ..., 0.00515158, 0.0018137 ,\n",
       "        0.00159866],\n",
       "       [0.10493021, 0.1681763 , 0.11440004, ..., 0.25396088, 0.10606527,\n",
       "        0.13573591]], dtype=float32)"
      ]
     },
     "execution_count": 19,
     "metadata": {},
     "output_type": "execute_result"
    }
   ],
   "source": [
    "disk_pred.data.T"
   ]
  },
  {
   "cell_type": "code",
   "execution_count": 20,
   "id": "23815756",
   "metadata": {},
   "outputs": [
    {
     "data": {
      "text/plain": [
       "array([[0.03836581, 0.07403237, 0.04497298, ..., 0.2328304 , 0.03760371,\n",
       "        0.04118644],\n",
       "       [0.03474031, 0.06981577, 0.03458579, ..., 0.05481545, 0.02665372,\n",
       "        0.0533637 ],\n",
       "       [0.01229703, 0.01670735, 0.01232157, ..., 0.00294785, 0.01023321,\n",
       "        0.01007054],\n",
       "       ...,\n",
       "       [0.00416759, 0.01176112, 0.00473114, ..., 0.0086079 , 0.00555177,\n",
       "        0.004463  ],\n",
       "       [0.00141493, 0.0025898 , 0.00150979, ..., 0.00515158, 0.0018137 ,\n",
       "        0.00159866],\n",
       "       [0.10493021, 0.1681763 , 0.11440004, ..., 0.25396088, 0.10606527,\n",
       "        0.13573591]], dtype=float32)"
      ]
     },
     "execution_count": 20,
     "metadata": {},
     "output_type": "execute_result"
    }
   ],
   "source": [
    "disk_pred.data.T"
   ]
  },
  {
   "cell_type": "code",
   "execution_count": 21,
   "id": "9565ca88",
   "metadata": {},
   "outputs": [
    {
     "name": "stdout",
     "output_type": "stream",
     "text": [
      "[[0.03836581 0.07403237 0.04497298 ... 0.2328304  0.03760371 0.04118644]\n",
      " [0.03474031 0.06981577 0.03458579 ... 0.05481545 0.02665372 0.0533637 ]\n",
      " [0.01229703 0.01670735 0.01232157 ... 0.00294785 0.01023321 0.01007054]\n",
      " ...\n",
      " [0.00416759 0.01176112 0.00473114 ... 0.0086079  0.00555177 0.004463  ]\n",
      " [0.00141493 0.0025898  0.00150979 ... 0.00515158 0.0018137  0.00159866]\n",
      " [0.10493021 0.1681763  0.11440004 ... 0.25396088 0.10606527 0.13573591]]\n",
      "\n",
      "[[0.0383658  0.07403239 0.044973   ... 0.2328304  0.03760373 0.04118645]\n",
      " [0.03474031 0.06981574 0.03458579 ... 0.05481544 0.02665372 0.05336367]\n",
      " [0.01229703 0.01670738 0.01232156 ... 0.00294785 0.01023321 0.01007054]\n",
      " ...\n",
      " [0.00416759 0.01176112 0.00473114 ... 0.00860791 0.00555177 0.004463  ]\n",
      " [0.00141493 0.0025898  0.00150979 ... 0.00515158 0.00181371 0.00159866]\n",
      " [0.10493021 0.16817634 0.11440004 ... 0.25396088 0.10606529 0.13573588]]\n",
      "\n",
      "[[0.04002791 0.08294477 0.04524681 ... 0.22326142 0.03198272 0.04185161]\n",
      " [0.03661019 0.06661071 0.03627451 ... 0.0528856  0.02671127 0.05892322]\n",
      " [0.01299108 0.0168551  0.01413282 ... 0.0026034  0.01187902 0.01230603]\n",
      " ...\n",
      " [0.00426593 0.0127952  0.00506465 ... 0.00703087 0.00437552 0.00513657]\n",
      " [0.00153641 0.00262295 0.00135523 ... 0.00488587 0.00199834 0.00137308]\n",
      " [0.10331374 0.17540029 0.11524876 ... 0.2156062  0.10529444 0.13477328]]\n",
      "\n",
      "\n",
      "[[0.03836581 0.07403237 0.04497298 ... 0.2328304  0.03760371 0.04118644]\n",
      " [0.03474031 0.06981577 0.03458579 ... 0.05481545 0.02665372 0.0533637 ]\n",
      " [0.01229703 0.01670735 0.01232157 ... 0.00294785 0.01023321 0.01007054]\n",
      " ...\n",
      " [0.00416759 0.01176112 0.00473114 ... 0.0086079  0.00555177 0.004463  ]\n",
      " [0.00141493 0.0025898  0.00150979 ... 0.00515158 0.0018137  0.00159866]\n",
      " [0.10493021 0.1681763  0.11440004 ... 0.25396088 0.10606527 0.13573591]]\n"
     ]
    }
   ],
   "source": [
    "print(cpu_inf.data.T)\n",
    "print()\n",
    "print(gpu_inf.data.T)\n",
    "print()\n",
    "print(oof_pred_gpu.data.T)\n",
    "print()\n",
    "#print(oof_pred.data.T)\n",
    "print()\n",
    "print(disk_pred.data.T)"
   ]
  },
  {
   "cell_type": "code",
   "execution_count": 22,
   "id": "70394263",
   "metadata": {},
   "outputs": [
    {
     "name": "stderr",
     "output_type": "stream",
     "text": [
      "/home/rishat/miniconda3/envs/rapids-22.10/lib/python3.9/site-packages/distributed/comm/ucx.py:61: UserWarning: A CUDA context for device 0 already exists on process ID 16207. This is often the result of a CUDA-enabled library calling a CUDA runtime function before Dask-CUDA can spawn worker processes. Please make sure any such function calls don't happen at import time or in the global scope of a program.\n",
      "  warnings.warn(\n",
      "2023-01-07 14:44:19,163 - distributed.diskutils - INFO - Found stale lock file and directory '/tmp/dask-worker-space/worker-uormmsf5', purging\n",
      "2023-01-07 14:44:19,163 - distributed.preloading - INFO - Creating preload: dask_cuda.initialize\n",
      "2023-01-07 14:44:19,163 - distributed.preloading - INFO - Import preload module: dask_cuda.initialize\n"
     ]
    },
    {
     "name": "stdout",
     "output_type": "stream",
     "text": [
      "dashboard: http://127.0.0.1:8787/status\n"
     ]
    },
    {
     "data": {
      "text/plain": [
       "{'ucx://127.0.0.1:43869': None}"
      ]
     },
     "execution_count": 22,
     "metadata": {},
     "output_type": "execute_result"
    }
   ],
   "source": [
    "cluster = LocalCUDACluster(rmm_managed_memory=True, CUDA_VISIBLE_DEVICES=\"0\",\n",
    "                               protocol=\"ucx\", enable_nvlink=True,\n",
    "                               memory_limit=\"8GB\")\n",
    "print(\"dashboard:\", cluster.dashboard_link)\n",
    "client = Client(cluster)\n",
    "client.run(cudf.set_allocator, \"managed\")"
   ]
  },
  {
   "cell_type": "code",
   "execution_count": null,
   "id": "fbf94656",
   "metadata": {},
   "outputs": [],
   "source": [
    "task = Task('multilabel', device='mgpu')\n",
    "\n",
    "automl_mgpu = TabularAutoMLGPU(\n",
    "    task = task, \n",
    "    timeout = 3600,\n",
    "    cpu_limit = 1,\n",
    "    reader_params = {'n_jobs': 1, 'cv': 3, 'random_state': 42, 'npartitions': 2},\n",
    "    general_params = {'use_algos': [['xgb', 'linear_l2']]},\n",
    "    client = client\n",
    ")\n",
    "\n",
    "oof_pred_mgpu = automl_mgpu.fit_predict(data, roles = roles, verbose = 2)"
   ]
  },
  {
   "cell_type": "code",
   "execution_count": null,
   "id": "0c8a80f3",
   "metadata": {},
   "outputs": [],
   "source": [
    "automl_mgpu.to_cpu()"
   ]
  },
  {
   "cell_type": "code",
   "execution_count": null,
   "id": "0332f750",
   "metadata": {},
   "outputs": [],
   "source": [
    "mcpu_inf = automl_mgpu.predict(data)"
   ]
  },
  {
   "cell_type": "code",
   "execution_count": null,
   "id": "8b9af169",
   "metadata": {},
   "outputs": [],
   "source": [
    "print(cpu_inf.data.T)\n",
    "print()\n",
    "print(gpu_inf.data.T)\n",
    "print()\n",
    "print(oof_pred_gpu.data.T)\n",
    "print()\n",
    "print(oof_pred.data.T)\n",
    "print()\n",
    "print(oof_pred_mgpu.data.T)\n",
    "print()\n",
    "print(mcpu_inf.data.T)"
   ]
  },
  {
   "cell_type": "code",
   "execution_count": null,
   "id": "507aa230",
   "metadata": {},
   "outputs": [],
   "source": [
    "from joblib import dump, load\n",
    "import time\n",
    "\n",
    "pickle_file = './mgpu.joblib'\n",
    "\n",
    "start = time.time()\n",
    "with open(pickle_file, 'wb') as f:\n",
    "    dump(automl_mgpu, f)\n",
    "raw_dump_duration = time.time() - start\n",
    "print(\"Raw dump duration: %0.3fs\" % raw_dump_duration)"
   ]
  },
  {
   "cell_type": "code",
   "execution_count": null,
   "id": "08a422d6",
   "metadata": {},
   "outputs": [],
   "source": []
  },
  {
   "cell_type": "code",
   "execution_count": null,
   "id": "e0f59447",
   "metadata": {},
   "outputs": [],
   "source": []
  }
 ],
 "metadata": {
  "kernelspec": {
   "display_name": "rapids-22.10",
   "language": "python",
   "name": "rapids-22.10"
  },
  "language_info": {
   "codemirror_mode": {
    "name": "ipython",
    "version": 3
   },
   "file_extension": ".py",
   "mimetype": "text/x-python",
   "name": "python",
   "nbconvert_exporter": "python",
   "pygments_lexer": "ipython3",
   "version": "3.9.13"
  }
 },
 "nbformat": 4,
 "nbformat_minor": 5
}

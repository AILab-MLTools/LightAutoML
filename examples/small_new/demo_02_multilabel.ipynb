{
 "cells": [
  {
   "cell_type": "code",
   "execution_count": 1,
   "id": "78930508",
   "metadata": {},
   "outputs": [],
   "source": [
    "import numpy as np\n",
    "import pandas as pd"
   ]
  },
  {
   "cell_type": "code",
   "execution_count": 2,
   "id": "bfd2caae",
   "metadata": {},
   "outputs": [],
   "source": [
    "from lightautoml.reader.gpu.cudf_reader import CudfReader\n",
    "from lightautoml.reader.base import PandasToPandasReader\n",
    "\n",
    "from lightautoml.transformers.base import SequentialTransformer\n",
    "\n",
    "from lightautoml.pipelines.utils import get_columns_by_role\n",
    "\n",
    "from lightautoml.transformers.gpu import numeric_gpu, categorical_gpu, datetime_gpu\n",
    "from lightautoml.transformers import numeric, categorical, datetime\n",
    "\n",
    "from lightautoml.tasks import Task\n",
    "from lightautoml.automl.presets.tabular_presets import TabularAutoML, TabularUtilizedAutoML\n",
    "\n",
    "import pandas as pd\n",
    "import time\n",
    "from sklearn.model_selection import train_test_split\n",
    "\n",
    "from dask.distributed import Client\n",
    "from dask_cuda import LocalCUDACluster\n",
    "import cudf"
   ]
  },
  {
   "cell_type": "code",
   "execution_count": 3,
   "id": "4befdbcf",
   "metadata": {},
   "outputs": [
    {
     "name": "stderr",
     "output_type": "stream",
     "text": [
      "/tmp/ipykernel_16342/705777730.py:1: DtypeWarning: Columns (329,331,333,336,338,344,345,346,348,354,355,356,357,358,361,362,364,367,372,377,380,383,385,387,390,392,399,400,406,408,409,413,416,418,419,431,433,437,438,442,448,449,450,453,457,464,473,478,479,481,483,485,486,489,492,495,496,497,498,499,500,503,507,508,510,511,514,515,517,519,520,521,522,523,524,526,527,530,534,537,538,539,541,544,547,548,549,550,551,557,558,560,564,569,572,573,576,577,579,583,596,597,598,600,601,602,604,605,606,608,609,613,619,620,625,627,628,629,631,632,633,636,641,642,643,645,646,647,648,651,655,661,662,665,668,675,676,679,682,685,687,689,690,691,694,698,701,702,703,706,711,712,713,719,720,721,733,735,737,738,742,746,747,748,749,752,754,755,760,764,768,770,781,782,789,797,807,812,814,817,818,822,823,824,825,832,840,843,844,845,850,853,857,858,861,867,868,873,874,876,877,879,880,881,883,886,890,893,897,899,900,901,902,904,905,908,909,910,912,913,914,915,916,922,923,931,933,935,937,939,942,943,946,951,955,960,964,965,968,969,970,973,974,977,980,987,994,995,996,999,1000,1008,1014,1015,1016,1017,1020,1021,1023,1028,1031,1035,1036,1037,1039,1040,1043,1048,1051,1055,1058,1059,1072,1073,1074,1081,1090,1097,1098,1103,1104,1109,1112,1113,1114,1118,1120,1130,1134,1135,1139,1140,1147,1148,1149,1152,1154,1157,1158,1162,1163,1164,1166,1169,1174,1177,1180,1181,1182,1183,1185,1188,1189,1195,1197,1198,1200,1203,1208,1210,1212,1215,1217,1220,1222,1225,1229,1230,1233,1234,1241,1243,1246,1250,1251,1252,1254,1259,1262,1263,1265,1266,1269,1270,1273,1274,1276,1277,1279,1280,1282,1284,1285,1286,1289,1291,1292,1293,1294,1295,1301,1302,1304,1305,1306,1308,1309,1311,1313,1316,1318,1320,1322,1323,1325,1330,1335,1337,1340,1341,1343,1345,1350,1351,1352,1354,1357,1358,1359,1360,1361,1368,1369,1372,1377) have mixed types. Specify dtype option on import or set low_memory=False.\n",
      "  features = pd.read_csv('../../data/small_new/multilabel/train Data.csv')\n"
     ]
    }
   ],
   "source": [
    "features = pd.read_csv('../../data/small_new/multilabel/train Data.csv')\n",
    "labels = pd.read_csv('../../data/small_new/multilabel/train labels.csv')\n",
    "labels.drop(columns='id', inplace=True)\n",
    "data = pd.concat([features, labels], axis=1)\n",
    "data = data[['n_0000','n_0001','n_0002','n_0003',\n",
    "             'n_0004','n_0005','n_0006','n_0007',\n",
    "             'service_a', 'service_b', 'service_c', \n",
    "             'service_d', 'service_e', 'service_f',\n",
    "             'service_g', 'service_h', 'service_i',\n",
    "             'service_j', 'service_k', 'service_l',\n",
    "             'service_m', 'service_n']]\n",
    "\n",
    "tr_data, te_data = train_test_split(\n",
    "    data, \n",
    "    test_size=0.2,  \n",
    "    random_state=42\n",
    ")\n",
    "\n",
    "roles = {\n",
    "    \"target\": {'service_a', 'service_b', 'service_c',\n",
    "               'service_d', 'service_e', 'service_f',\n",
    "               'service_g', 'service_h', 'service_i',\n",
    "               'service_j', 'service_k', 'service_l',\n",
    "               'service_m', 'service_n'},\n",
    "    \"drop\" : ['id']\n",
    "}"
   ]
  },
  {
   "cell_type": "code",
   "execution_count": 4,
   "id": "e2f73a5f",
   "metadata": {},
   "outputs": [],
   "source": [
    "adv_roles = True"
   ]
  },
  {
   "cell_type": "markdown",
   "id": "c52c0d7c",
   "metadata": {},
   "source": [
    "## Imports (for potential use)"
   ]
  },
  {
   "cell_type": "code",
   "execution_count": 5,
   "id": "9a15c2c0",
   "metadata": {},
   "outputs": [],
   "source": [
    "# Imports from our package\n",
    "from lightautoml.automl.base import AutoML\n",
    "\n",
    "from lightautoml.automl.presets.gpu.tabular_gpu_presets import TabularAutoMLGPU, TabularUtilizedAutoMLGPU\n",
    "from lightautoml.tasks import Task\n",
    "\n",
    "from lightautoml.pipelines.features.gpu.lgb_pipeline_gpu import LGBSimpleFeaturesGPU, LGBAdvancedPipelineGPU\n",
    "from lightautoml.pipelines.features.gpu.linear_pipeline_gpu import LinearFeaturesGPU\n",
    "\n",
    "from lightautoml.pipelines.features.lgb_pipeline import LGBSimpleFeatures, LGBAdvancedPipeline\n",
    "from lightautoml.pipelines.features.linear_pipeline import LinearFeatures\n",
    "\n",
    "\n",
    "from lightautoml.ml_algo.gpu.boost_cb_gpu import BoostCBGPU\n",
    "from lightautoml.ml_algo.gpu.boost_xgb_gpu import BoostXGB\n",
    "from lightautoml.ml_algo.gpu.linear_gpu import LinearLBFGSGPU\n",
    "\n",
    "from lightautoml.ml_algo.boost_cb import BoostCB\n",
    "from lightautoml.ml_algo.linear_sklearn import LinearLBFGS\n",
    "\n",
    "\n",
    "from lightautoml.pipelines.ml.base import MLPipeline\n",
    "from lightautoml.pipelines.selection.importance_based import ModelBasedImportanceEstimator, ImportanceCutoffSelector"
   ]
  },
  {
   "cell_type": "markdown",
   "id": "6b5da23f",
   "metadata": {},
   "source": [
    "## TabularAutoML"
   ]
  },
  {
   "cell_type": "code",
   "execution_count": 6,
   "id": "71ba7253",
   "metadata": {},
   "outputs": [
    {
     "name": "stdout",
     "output_type": "stream",
     "text": [
      "multilabel isn`t supported in lgb\n"
     ]
    }
   ],
   "source": [
    "task = Task('multilabel')"
   ]
  },
  {
   "cell_type": "code",
   "execution_count": 7,
   "id": "14624311",
   "metadata": {},
   "outputs": [],
   "source": [
    "automl = TabularAutoML(\n",
    "    task = task, \n",
    "    timeout = 3600,\n",
    "    cpu_limit = 4,\n",
    "    reader_params = {'n_jobs': 4, 'cv': 3, 'random_state': 42},\n",
    "    general_params = {'use_algos': [['linear_l2', 'cb']]}\n",
    ")"
   ]
  },
  {
   "cell_type": "code",
   "execution_count": 8,
   "id": "4b768794",
   "metadata": {
    "scrolled": true
   },
   "outputs": [
    {
     "name": "stdout",
     "output_type": "stream",
     "text": [
      "[19:16:26] Stdout logging level is INFO2.\n",
      "[19:16:26] Copying TaskTimer may affect the parent PipelineTimer, so copy will create new unlimited TaskTimer\n",
      "[19:16:26] Task: multilabel\n",
      "\n",
      "[19:16:26] Start automl preset with listed constraints:\n",
      "[19:16:26] - time: 3600.00 seconds\n",
      "[19:16:26] - CPU: 4 cores\n",
      "[19:16:26] - memory: 16 GB\n",
      "\n",
      "[19:16:26] \u001b[1mTrain data shape: (14644, 22)\u001b[0m\n",
      "\n"
     ]
    },
    {
     "name": "stderr",
     "output_type": "stream",
     "text": [
      "/home/rishat/miniconda3/envs/rapids-22.10/lib/python3.9/site-packages/lightautoml/reader/guess_roles.py:56: RuntimeWarning: invalid value encountered in float_scalars\n",
      "  gini_sum = a_c.sum() / a_s.sum() - (n + 1) / 2.0\n",
      "/home/rishat/miniconda3/envs/rapids-22.10/lib/python3.9/site-packages/lightautoml/reader/guess_roles.py:56: RuntimeWarning: invalid value encountered in float_scalars\n",
      "  gini_sum = a_c.sum() / a_s.sum() - (n + 1) / 2.0\n"
     ]
    },
    {
     "name": "stdout",
     "output_type": "stream",
     "text": [
      "[19:16:30] Feats was rejected during automatic roles guess: []\n",
      "[19:16:30] Layer \u001b[1m1\u001b[0m train process start. Time left 3595.94 secs\n",
      "[19:16:30] Start fitting \u001b[1mLvl_0_Pipe_0_Mod_0_LinearL2\u001b[0m ...\n",
      "[19:16:30] ===== Start working with \u001b[1mfold 0\u001b[0m for \u001b[1mLvl_0_Pipe_0_Mod_0_LinearL2\u001b[0m =====\n"
     ]
    },
    {
     "name": "stderr",
     "output_type": "stream",
     "text": [
      "/home/rishat/miniconda3/envs/rapids-22.10/lib/python3.9/site-packages/lightautoml/reader/guess_roles.py:56: RuntimeWarning: invalid value encountered in float_scalars\n",
      "  gini_sum = a_c.sum() / a_s.sum() - (n + 1) / 2.0\n",
      "/home/rishat/miniconda3/envs/rapids-22.10/lib/python3.9/site-packages/lightautoml/reader/guess_roles.py:56: RuntimeWarning: invalid value encountered in float_scalars\n",
      "  gini_sum = a_c.sum() / a_s.sum() - (n + 1) / 2.0\n",
      "/home/rishat/miniconda3/envs/rapids-22.10/lib/python3.9/site-packages/lightautoml/reader/guess_roles.py:56: RuntimeWarning: invalid value encountered in float_scalars\n",
      "  gini_sum = a_c.sum() / a_s.sum() - (n + 1) / 2.0\n",
      "/home/rishat/miniconda3/envs/rapids-22.10/lib/python3.9/site-packages/lightautoml/reader/guess_roles.py:56: RuntimeWarning: invalid value encountered in float_scalars\n",
      "  gini_sum = a_c.sum() / a_s.sum() - (n + 1) / 2.0\n"
     ]
    },
    {
     "name": "stdout",
     "output_type": "stream",
     "text": [
      "[19:16:34] ===== Start working with \u001b[1mfold 1\u001b[0m for \u001b[1mLvl_0_Pipe_0_Mod_0_LinearL2\u001b[0m =====\n",
      "[19:16:36] ===== Start working with \u001b[1mfold 2\u001b[0m for \u001b[1mLvl_0_Pipe_0_Mod_0_LinearL2\u001b[0m =====\n",
      "[19:16:38] Fitting \u001b[1mLvl_0_Pipe_0_Mod_0_LinearL2\u001b[0m finished. score = \u001b[1m-7.349485678474651\u001b[0m\n",
      "[19:16:38] \u001b[1mLvl_0_Pipe_0_Mod_0_LinearL2\u001b[0m fitting and predicting completed\n",
      "[19:16:38] Time left 3587.92 secs\n",
      "\n"
     ]
    },
    {
     "name": "stderr",
     "output_type": "stream",
     "text": [
      "/home/rishat/miniconda3/envs/rapids-22.10/lib/python3.9/site-packages/catboost/core.py:1419: FutureWarning: iteritems is deprecated and will be removed in a future version. Use .items instead.\n",
      "  self._init_pool(data, label, cat_features, text_features, embedding_features, embedding_features_data, pairs, weight,\n",
      "/home/rishat/miniconda3/envs/rapids-22.10/lib/python3.9/site-packages/catboost/core.py:1419: FutureWarning: iteritems is deprecated and will be removed in a future version. Use .items instead.\n",
      "  self._init_pool(data, label, cat_features, text_features, embedding_features, embedding_features_data, pairs, weight,\n"
     ]
    },
    {
     "name": "stdout",
     "output_type": "stream",
     "text": [
      "[19:16:46] \u001b[1mSelector_CatBoost\u001b[0m fitting and predicting completed\n",
      "[19:16:46] Start fitting \u001b[1mLvl_0_Pipe_1_Mod_0_CatBoost\u001b[0m ...\n",
      "[19:16:46] ===== Start working with \u001b[1mfold 0\u001b[0m for \u001b[1mLvl_0_Pipe_1_Mod_0_CatBoost\u001b[0m =====\n"
     ]
    },
    {
     "name": "stderr",
     "output_type": "stream",
     "text": [
      "/home/rishat/miniconda3/envs/rapids-22.10/lib/python3.9/site-packages/catboost/core.py:1419: FutureWarning: iteritems is deprecated and will be removed in a future version. Use .items instead.\n",
      "  self._init_pool(data, label, cat_features, text_features, embedding_features, embedding_features_data, pairs, weight,\n",
      "/home/rishat/miniconda3/envs/rapids-22.10/lib/python3.9/site-packages/catboost/core.py:1419: FutureWarning: iteritems is deprecated and will be removed in a future version. Use .items instead.\n",
      "  self._init_pool(data, label, cat_features, text_features, embedding_features, embedding_features_data, pairs, weight,\n"
     ]
    },
    {
     "name": "stdout",
     "output_type": "stream",
     "text": [
      "[19:16:54] ===== Start working with \u001b[1mfold 1\u001b[0m for \u001b[1mLvl_0_Pipe_1_Mod_0_CatBoost\u001b[0m =====\n"
     ]
    },
    {
     "name": "stderr",
     "output_type": "stream",
     "text": [
      "/home/rishat/miniconda3/envs/rapids-22.10/lib/python3.9/site-packages/catboost/core.py:1419: FutureWarning: iteritems is deprecated and will be removed in a future version. Use .items instead.\n",
      "  self._init_pool(data, label, cat_features, text_features, embedding_features, embedding_features_data, pairs, weight,\n",
      "/home/rishat/miniconda3/envs/rapids-22.10/lib/python3.9/site-packages/catboost/core.py:1419: FutureWarning: iteritems is deprecated and will be removed in a future version. Use .items instead.\n",
      "  self._init_pool(data, label, cat_features, text_features, embedding_features, embedding_features_data, pairs, weight,\n"
     ]
    },
    {
     "name": "stdout",
     "output_type": "stream",
     "text": [
      "[19:17:01] ===== Start working with \u001b[1mfold 2\u001b[0m for \u001b[1mLvl_0_Pipe_1_Mod_0_CatBoost\u001b[0m =====\n"
     ]
    },
    {
     "name": "stderr",
     "output_type": "stream",
     "text": [
      "/home/rishat/miniconda3/envs/rapids-22.10/lib/python3.9/site-packages/catboost/core.py:1419: FutureWarning: iteritems is deprecated and will be removed in a future version. Use .items instead.\n",
      "  self._init_pool(data, label, cat_features, text_features, embedding_features, embedding_features_data, pairs, weight,\n",
      "/home/rishat/miniconda3/envs/rapids-22.10/lib/python3.9/site-packages/catboost/core.py:1419: FutureWarning: iteritems is deprecated and will be removed in a future version. Use .items instead.\n",
      "  self._init_pool(data, label, cat_features, text_features, embedding_features, embedding_features_data, pairs, weight,\n"
     ]
    },
    {
     "name": "stdout",
     "output_type": "stream",
     "text": [
      "[19:17:10] Fitting \u001b[1mLvl_0_Pipe_1_Mod_0_CatBoost\u001b[0m finished. score = \u001b[1m-7.319639591128245\u001b[0m\n",
      "[19:17:10] \u001b[1mLvl_0_Pipe_1_Mod_0_CatBoost\u001b[0m fitting and predicting completed\n",
      "[19:17:10] Time left 3556.28 secs\n",
      "\n",
      "[19:17:10] \u001b[1mLayer 1 training completed.\u001b[0m\n",
      "\n",
      "[19:17:10] Blending: optimization starts with equal weights and score \u001b[1m-7.313679949845229\u001b[0m\n",
      "[19:17:10] Blending: iteration \u001b[1m0\u001b[0m: score = \u001b[1m-7.3135695745428215\u001b[0m, weights = \u001b[1m[0.55854803 0.44145197]\u001b[0m\n",
      "[19:17:10] Blending: iteration \u001b[1m1\u001b[0m: score = \u001b[1m-7.3135695745428215\u001b[0m, weights = \u001b[1m[0.55854803 0.44145197]\u001b[0m\n",
      "[19:17:10] Blending: no score update. Terminated\n",
      "\n",
      "[19:17:10] \u001b[1mAutoml preset training completed in 44.09 seconds\u001b[0m\n",
      "\n",
      "[19:17:10] Model description:\n",
      "Final prediction for new objects (level 0) = \n",
      "\t 0.55855 * (3 averaged models Lvl_0_Pipe_0_Mod_0_LinearL2) +\n",
      "\t 0.44145 * (3 averaged models Lvl_0_Pipe_1_Mod_0_CatBoost) \n",
      "\n"
     ]
    }
   ],
   "source": [
    "oof_pred = automl.fit_predict(data, roles = roles, verbose = 2)"
   ]
  },
  {
   "cell_type": "code",
   "execution_count": 9,
   "id": "f432e058",
   "metadata": {},
   "outputs": [
    {
     "name": "stdout",
     "output_type": "stream",
     "text": [
      "multilabel isn`t supported in lgb\n",
      "[19:17:12] CatBoost uses as obj. MultiCrossEntropy.\n"
     ]
    }
   ],
   "source": [
    "task = Task('multilabel', device='gpu')"
   ]
  },
  {
   "cell_type": "code",
   "execution_count": 10,
   "id": "a765c16f",
   "metadata": {},
   "outputs": [],
   "source": [
    "automl_gpu = TabularAutoMLGPU(\n",
    "    task = task, \n",
    "    timeout = 3600,\n",
    "    cpu_limit = 1,\n",
    "    reader_params = {'n_jobs': 1, 'cv': 3, 'random_state': 42},\n",
    "    general_params = {'use_algos': [['xgb', 'linear_l2']]}\n",
    ")"
   ]
  },
  {
   "cell_type": "code",
   "execution_count": 11,
   "id": "52f3b19f",
   "metadata": {},
   "outputs": [
    {
     "name": "stdout",
     "output_type": "stream",
     "text": [
      "[19:17:12] Stdout logging level is INFO2.\n",
      "[19:17:12] Task: multilabel\n",
      "\n",
      "[19:17:12] Start automl preset with listed constraints:\n",
      "[19:17:12] - time: 3600.00 seconds\n",
      "[19:17:12] - CPU: 1 cores\n",
      "[19:17:12] - memory: 16 GB\n",
      "\n",
      "[19:17:12] Train data shape: (14644, 22)\n",
      "Feats was rejected during automatic roles guess: []\n",
      "[19:17:14] Layer \u001b[1m1\u001b[0m train process start. Time left 3598.43 secs\n",
      "[19:17:14] Start fitting Lvl_0_Pipe_0_Mod_0_LinearL2 ...\n",
      "[19:17:14] ===== Start working with \u001b[1mfold 0\u001b[0m for \u001b[1mLvl_0_Pipe_0_Mod_0_LinearL2\u001b[0m (orig) =====\n",
      "[19:17:16] Linear model: C = 1e-05 score = -7.5974453529926755\n",
      "[19:17:16] Linear model: C = 5e-05 score = -7.577824363670404\n",
      "[19:17:16] Linear model: C = 0.0001 score = -7.561450866732818\n",
      "[19:17:17] Linear model: C = 0.0005 score = -7.507859943148446\n",
      "[19:17:17] Linear model: C = 0.001 score = -7.482935748338114\n",
      "[19:17:18] Linear model: C = 0.005 score = -7.434475436190121\n",
      "[19:17:18] Linear model: C = 0.01 score = -7.434475436190121\n",
      "[19:17:18] Linear model: C = 0.05 score = -7.4099856367955095\n",
      "[19:17:18] Linear model: C = 0.1 score = -7.4099856367955095\n",
      "[19:17:18] Linear model: C = 0.5 score = -7.4099856367955095\n",
      "[19:17:18] ===== Start working with \u001b[1mfold 1\u001b[0m for \u001b[1mLvl_0_Pipe_0_Mod_0_LinearL2\u001b[0m (orig) =====\n",
      "[19:17:19] Linear model: C = 1e-05 score = -7.4780996564323114\n",
      "[19:17:20] Linear model: C = 5e-05 score = -7.458483341042562\n",
      "[19:17:20] Linear model: C = 0.0001 score = -7.441992375675319\n",
      "[19:17:20] Linear model: C = 0.0005 score = -7.388836744280532\n",
      "[19:17:21] Linear model: C = 0.001 score = -7.365774131106979\n",
      "[19:17:21] Linear model: C = 0.005 score = -7.31720804872632\n",
      "[19:17:21] Linear model: C = 0.01 score = -7.31720804872632\n",
      "[19:17:22] Linear model: C = 0.05 score = -7.291581834114812\n",
      "[19:17:22] Linear model: C = 0.1 score = -7.291581834114812\n",
      "[19:17:22] Linear model: C = 0.5 score = -7.291581834114812\n",
      "[19:17:22] ===== Start working with \u001b[1mfold 2\u001b[0m for \u001b[1mLvl_0_Pipe_0_Mod_0_LinearL2\u001b[0m (orig) =====\n",
      "[19:17:23] Linear model: C = 1e-05 score = -7.512957546730995\n",
      "[19:17:23] Linear model: C = 5e-05 score = -7.495528833491469\n",
      "[19:17:24] Linear model: C = 0.0001 score = -7.484403121333415\n",
      "[19:17:24] Linear model: C = 0.0005 score = -7.4636128928987056\n",
      "[19:17:24] Linear model: C = 0.001 score = -7.457175442550917\n",
      "[19:17:25] Linear model: C = 0.005 score = -7.43624119516298\n",
      "[19:17:25] Linear model: C = 0.01 score = -7.431203748424067\n",
      "[19:17:26] Linear model: C = 0.05 score = -7.425796973961124\n",
      "[19:17:27] Linear model: C = 0.1 score = -7.425955706603995\n",
      "[19:17:28] Linear model: C = 0.5 score = -7.425760470698589\n",
      "[19:17:28] Linear model: C = 1 score = -7.4257679705955875\n",
      "[19:17:28] Linear model: C = 5 score = -7.425772787508137\n",
      "[19:17:28] Lvl_0_Pipe_0_Mod_0_LinearL2 fitting and predicting completed\n",
      "[19:17:28] Time left 3583.88 secs\n",
      "\n",
      "[19:17:28] Start fitting Selector_XGB ...\n",
      "[19:17:28] ===== Start working with \u001b[1mfold 0\u001b[0m for \u001b[1mSelector_XGB\u001b[0m (orig) =====\n",
      "[19:17:49] Selector_XGB fitting and predicting completed\n",
      "[19:17:49] Start fitting Lvl_0_Pipe_1_Mod_0_XGB ...\n",
      "[19:17:49] ===== Start working with \u001b[1mfold 0\u001b[0m for \u001b[1mLvl_0_Pipe_1_Mod_0_XGB\u001b[0m (orig) =====\n",
      "[19:18:14] ===== Start working with \u001b[1mfold 1\u001b[0m for \u001b[1mLvl_0_Pipe_1_Mod_0_XGB\u001b[0m (orig) =====\n",
      "[19:18:39] ===== Start working with \u001b[1mfold 2\u001b[0m for \u001b[1mLvl_0_Pipe_1_Mod_0_XGB\u001b[0m (orig) =====\n",
      "[19:19:04] Lvl_0_Pipe_1_Mod_0_XGB fitting and predicting completed\n",
      "[19:19:04] Time left 3488.00 secs\n",
      "\n",
      "[19:19:04] \u001b[1mLayer 1 training completed.\u001b[0m\n",
      "\n",
      "[19:19:04] Blending: Optimization starts with equal weights and score -7.369364925846152\n",
      "[19:19:04] Blending, iter 0: score = -7.33146732626343, weights = [0.90983003 0.09016994]\n",
      "[19:19:04] Blending, iter 1: score = -7.33146732626343, weights = [0.90983003 0.09016994]\n",
      "[19:19:04] No score update. Terminated\n",
      "[19:19:04] \u001b[1mAutoml preset training completed in 112.20 seconds\u001b[0m\n",
      "\n",
      "[19:19:04] Model description:\n",
      "Final prediction for new objects (level 0) = \n",
      "\t 0.90983 * (3 averaged models Lvl_0_Pipe_0_Mod_0_LinearL2) +\n",
      "\t 0.09017 * (3 averaged models Lvl_0_Pipe_1_Mod_0_XGB) \n",
      "\n"
     ]
    }
   ],
   "source": [
    "oof_pred_gpu = automl_gpu.fit_predict(data, roles = roles, verbose = 2)"
   ]
  },
  {
   "cell_type": "code",
   "execution_count": null,
   "id": "bf8c7fd4",
   "metadata": {},
   "outputs": [],
   "source": []
  },
  {
   "cell_type": "code",
   "execution_count": 12,
   "id": "70394263",
   "metadata": {},
   "outputs": [
    {
     "name": "stderr",
     "output_type": "stream",
     "text": [
      "/home/rishat/miniconda3/envs/rapids-22.10/lib/python3.9/site-packages/distributed/comm/ucx.py:61: UserWarning: A CUDA context for device 0 already exists on process ID 16342. This is often the result of a CUDA-enabled library calling a CUDA runtime function before Dask-CUDA can spawn worker processes. Please make sure any such function calls don't happen at import time or in the global scope of a program.\n",
      "  warnings.warn(\n",
      "2022-11-21 19:19:06,550 - distributed.preloading - INFO - Creating preload: dask_cuda.initialize\n",
      "2022-11-21 19:19:06,550 - distributed.preloading - INFO - Import preload module: dask_cuda.initialize\n"
     ]
    },
    {
     "name": "stdout",
     "output_type": "stream",
     "text": [
      "dashboard: http://127.0.0.1:8787/status\n"
     ]
    },
    {
     "data": {
      "text/plain": [
       "{'ucx://127.0.0.1:48711': None}"
      ]
     },
     "execution_count": 12,
     "metadata": {},
     "output_type": "execute_result"
    }
   ],
   "source": [
    "cluster = LocalCUDACluster(rmm_managed_memory=True, CUDA_VISIBLE_DEVICES=\"0\",\n",
    "                               protocol=\"ucx\", enable_nvlink=True,\n",
    "                               memory_limit=\"8GB\")\n",
    "print(\"dashboard:\", cluster.dashboard_link)\n",
    "client = Client(cluster)\n",
    "client.run(cudf.set_allocator, \"managed\")"
   ]
  },
  {
   "cell_type": "code",
   "execution_count": 13,
   "id": "fbf94656",
   "metadata": {},
   "outputs": [
    {
     "name": "stdout",
     "output_type": "stream",
     "text": [
      "multilabel isn`t supported in lgb\n",
      "[19:19:07] CatBoost uses as obj. MultiCrossEntropy.\n",
      "[19:19:07] Stdout logging level is INFO2.\n",
      "[19:19:07] Task: multilabel\n",
      "\n",
      "[19:19:07] Start automl preset with listed constraints:\n",
      "[19:19:07] - time: 3600.00 seconds\n",
      "[19:19:07] - CPU: 1 cores\n",
      "[19:19:07] - memory: 16 GB\n",
      "\n",
      "[19:19:07] Train data shape: (14644, 22)\n",
      "Feats was rejected during automatic roles guess: []\n",
      "[19:19:08] Layer \u001b[1m1\u001b[0m train process start. Time left 3598.41 secs\n",
      "[19:19:08] Start fitting Lvl_0_Pipe_0_Mod_0_LinearL2 ...\n",
      "[19:19:08] ===== Start working with \u001b[1mfold 0\u001b[0m for \u001b[1mLvl_0_Pipe_0_Mod_0_LinearL2\u001b[0m (orig) =====\n",
      "Score: -7.597445011138916\n",
      "Score: -7.577824115753174\n",
      "Score: -7.561450958251953\n",
      "Score: -7.507859706878662\n",
      "Score: -7.482949733734131\n",
      "Score: -7.43440580368042\n",
      "Score: -7.43440580368042\n",
      "Score: -7.410065650939941\n",
      "Score: -7.410065650939941\n",
      "Score: -7.410065650939941\n",
      "[19:19:12] ===== Start working with \u001b[1mfold 1\u001b[0m for \u001b[1mLvl_0_Pipe_0_Mod_0_LinearL2\u001b[0m (orig) =====\n",
      "Score: -7.478099822998047\n",
      "Score: -7.4584832191467285\n",
      "Score: -7.441992282867432\n",
      "Score: -7.3888373374938965\n",
      "Score: -7.365771770477295\n",
      "Score: -7.317461967468262\n",
      "Score: -7.317461967468262\n",
      "Score: -7.291758060455322\n",
      "Score: -7.291758060455322\n",
      "Score: -7.291758060455322\n",
      "[19:19:16] ===== Start working with \u001b[1mfold 2\u001b[0m for \u001b[1mLvl_0_Pipe_0_Mod_0_LinearL2\u001b[0m (orig) =====\n",
      "Score: -7.512957572937012\n",
      "Score: -7.495528697967529\n",
      "Score: -7.484403133392334\n",
      "Score: -7.4636921882629395\n",
      "Score: -7.45711612701416\n",
      "Score: -7.436264514923096\n",
      "Score: -7.431727409362793\n",
      "Score: -7.426085472106934\n",
      "Score: -7.425596237182617\n",
      "Score: -7.425542831420898\n",
      "Score: -7.425550937652588\n",
      "Score: -7.4255547523498535\n",
      "[19:19:23] Lvl_0_Pipe_0_Mod_0_LinearL2 fitting and predicting completed\n",
      "[19:19:23] Time left 3584.00 secs\n",
      "\n",
      "[19:19:23] Start fitting Selector_XGB ...\n",
      "[19:19:23] ===== Start working with \u001b[1mfold 0\u001b[0m for \u001b[1mSelector_XGB\u001b[0m (orig) =====\n"
     ]
    },
    {
     "name": "stderr",
     "output_type": "stream",
     "text": [
      "/home/rishat/miniconda3/envs/rapids-22.10/lib/python3.9/site-packages/xgboost/dask.py:884: RuntimeWarning: coroutine 'Client._wait_for_workers' was never awaited\n",
      "  client.wait_for_workers(n_workers)\n",
      "/home/rishat/miniconda3/envs/rapids-22.10/lib/python3.9/site-packages/distributed/worker_state_machine.py:3649: FutureWarning: The `Worker.nthreads` attribute has been moved to `Worker.state.nthreads`\n",
      "  warnings.warn(\n",
      "[19:19:27] task [xgboost.dask-0]:ucx://127.0.0.1:48711 got new rank 0\n"
     ]
    },
    {
     "name": "stdout",
     "output_type": "stream",
     "text": [
      "[19:19:50] Selector_XGB fitting and predicting completed\n",
      "[19:19:50] Start fitting Lvl_0_Pipe_1_Mod_0_XGB ...\n",
      "[19:19:50] ===== Start working with \u001b[1mfold 0\u001b[0m for \u001b[1mLvl_0_Pipe_1_Mod_0_XGB\u001b[0m (orig) =====\n"
     ]
    },
    {
     "name": "stderr",
     "output_type": "stream",
     "text": [
      "/home/rishat/miniconda3/envs/rapids-22.10/lib/python3.9/site-packages/xgboost/dask.py:884: RuntimeWarning: coroutine 'Client._wait_for_workers' was never awaited\n",
      "  client.wait_for_workers(n_workers)\n",
      "/home/rishat/miniconda3/envs/rapids-22.10/lib/python3.9/site-packages/distributed/worker_state_machine.py:3649: FutureWarning: The `Worker.nthreads` attribute has been moved to `Worker.state.nthreads`\n",
      "  warnings.warn(\n",
      "[19:19:50] task [xgboost.dask-0]:ucx://127.0.0.1:48711 got new rank 0\n"
     ]
    },
    {
     "name": "stdout",
     "output_type": "stream",
     "text": [
      "[19:20:16] ===== Start working with \u001b[1mfold 1\u001b[0m for \u001b[1mLvl_0_Pipe_1_Mod_0_XGB\u001b[0m (orig) =====\n"
     ]
    },
    {
     "name": "stderr",
     "output_type": "stream",
     "text": [
      "/home/rishat/miniconda3/envs/rapids-22.10/lib/python3.9/site-packages/xgboost/dask.py:884: RuntimeWarning: coroutine 'Client._wait_for_workers' was never awaited\n",
      "  client.wait_for_workers(n_workers)\n",
      "/home/rishat/miniconda3/envs/rapids-22.10/lib/python3.9/site-packages/distributed/worker_state_machine.py:3649: FutureWarning: The `Worker.nthreads` attribute has been moved to `Worker.state.nthreads`\n",
      "  warnings.warn(\n",
      "[19:20:16] task [xgboost.dask-0]:ucx://127.0.0.1:48711 got new rank 0\n"
     ]
    },
    {
     "name": "stdout",
     "output_type": "stream",
     "text": [
      "[19:20:42] ===== Start working with \u001b[1mfold 2\u001b[0m for \u001b[1mLvl_0_Pipe_1_Mod_0_XGB\u001b[0m (orig) =====\n"
     ]
    },
    {
     "name": "stderr",
     "output_type": "stream",
     "text": [
      "/home/rishat/miniconda3/envs/rapids-22.10/lib/python3.9/site-packages/xgboost/dask.py:884: RuntimeWarning: coroutine 'Client._wait_for_workers' was never awaited\n",
      "  client.wait_for_workers(n_workers)\n",
      "/home/rishat/miniconda3/envs/rapids-22.10/lib/python3.9/site-packages/distributed/worker_state_machine.py:3649: FutureWarning: The `Worker.nthreads` attribute has been moved to `Worker.state.nthreads`\n",
      "  warnings.warn(\n",
      "[19:20:42] task [xgboost.dask-0]:ucx://127.0.0.1:48711 got new rank 0\n"
     ]
    },
    {
     "name": "stdout",
     "output_type": "stream",
     "text": [
      "[19:21:08] Lvl_0_Pipe_1_Mod_0_XGB fitting and predicting completed\n",
      "[19:21:08] Time left 3478.62 secs\n",
      "\n",
      "[19:21:08] \u001b[1mLayer 1 training completed.\u001b[0m\n",
      "\n",
      "[19:21:08] Blending: Optimization starts with equal weights and score -7.368878527991402\n",
      "[19:21:08] Blending, iter 0: score = -7.3315459493526305, weights = [0.90983003 0.09016994]\n",
      "[19:21:08] Blending, iter 1: score = -7.3315459493526305, weights = [0.90983003 0.09016994]\n",
      "[19:21:08] No score update. Terminated\n",
      "[19:21:08] \u001b[1mAutoml preset training completed in 121.54 seconds\u001b[0m\n",
      "\n",
      "[19:21:08] Model description:\n",
      "Final prediction for new objects (level 0) = \n",
      "\t 0.90983 * (3 averaged models Lvl_0_Pipe_0_Mod_0_LinearL2) +\n",
      "\t 0.09017 * (3 averaged models Lvl_0_Pipe_1_Mod_0_XGB) \n",
      "\n"
     ]
    }
   ],
   "source": [
    "task = Task('multilabel', device='mgpu')\n",
    "\n",
    "automl_mgpu = TabularAutoMLGPU(\n",
    "    task = task, \n",
    "    timeout = 3600,\n",
    "    cpu_limit = 1,\n",
    "    reader_params = {'n_jobs': 1, 'cv': 3, 'random_state': 42, 'npartitions': 2},\n",
    "    general_params = {'use_algos': [['xgb', 'linear_l2']]},\n",
    "    client = client\n",
    ")\n",
    "\n",
    "oof_pred_mgpu = automl_mgpu.fit_predict(data, roles = roles, verbose = 2)"
   ]
  },
  {
   "cell_type": "code",
   "execution_count": null,
   "id": "8b9af169",
   "metadata": {},
   "outputs": [],
   "source": []
  },
  {
   "cell_type": "code",
   "execution_count": null,
   "id": "507aa230",
   "metadata": {},
   "outputs": [],
   "source": []
  },
  {
   "cell_type": "code",
   "execution_count": null,
   "id": "08a422d6",
   "metadata": {},
   "outputs": [],
   "source": []
  },
  {
   "cell_type": "code",
   "execution_count": null,
   "id": "e0f59447",
   "metadata": {},
   "outputs": [],
   "source": []
  }
 ],
 "metadata": {
  "kernelspec": {
   "display_name": "rapids-22.10",
   "language": "python",
   "name": "rapids-22.10"
  },
  "language_info": {
   "codemirror_mode": {
    "name": "ipython",
    "version": 3
   },
   "file_extension": ".py",
   "mimetype": "text/x-python",
   "name": "python",
   "nbconvert_exporter": "python",
   "pygments_lexer": "ipython3",
   "version": "3.9.13"
  }
 },
 "nbformat": 4,
 "nbformat_minor": 5
}

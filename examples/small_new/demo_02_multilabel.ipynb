{
 "cells": [
  {
   "cell_type": "code",
   "execution_count": 1,
   "id": "78930508",
   "metadata": {},
   "outputs": [],
   "source": [
    "import numpy as np\n",
    "import pandas as pd"
   ]
  },
  {
   "cell_type": "code",
   "execution_count": 2,
   "id": "bfd2caae",
   "metadata": {},
   "outputs": [],
   "source": [
    "from lightautoml_gpu.reader.gpu.cudf_reader import CudfReader\n",
    "from lightautoml_gpu.reader.base import PandasToPandasReader\n",
    "\n",
    "from lightautoml_gpu.transformers.base import SequentialTransformer\n",
    "\n",
    "from lightautoml_gpu.pipelines.utils import get_columns_by_role\n",
    "\n",
    "from lightautoml_gpu.transformers.gpu import numeric_gpu, categorical_gpu, datetime_gpu\n",
    "from lightautoml_gpu.transformers import numeric, categorical, datetime\n",
    "\n",
    "from lightautoml_gpu.tasks import Task\n",
    "from lightautoml_gpu.automl.presets.tabular_presets import TabularAutoML, TabularUtilizedAutoML\n",
    "\n",
    "import pandas as pd\n",
    "import time\n",
    "from sklearn.model_selection import train_test_split\n",
    "\n",
    "from dask.distributed import Client\n",
    "from dask_cuda import LocalCUDACluster\n",
    "import cudf"
   ]
  },
  {
   "cell_type": "code",
   "execution_count": null,
   "id": "e8daa935",
   "metadata": {},
   "outputs": [],
   "source": []
  },
  {
   "cell_type": "code",
   "execution_count": 3,
   "id": "4befdbcf",
   "metadata": {},
   "outputs": [
    {
     "name": "stderr",
     "output_type": "stream",
     "text": [
      "/tmp/ipykernel_6768/705777730.py:1: DtypeWarning: Columns (329,331,333,336,338,344,345,346,348,354,355,356,357,358,361,362,364,367,372,377,380,383,385,387,390,392,399,400,406,408,409,413,416,418,419,431,433,437,438,442,448,449,450,453,457,464,473,478,479,481,483,485,486,489,492,495,496,497,498,499,500,503,507,508,510,511,514,515,517,519,520,521,522,523,524,526,527,530,534,537,538,539,541,544,547,548,549,550,551,557,558,560,564,569,572,573,576,577,579,583,596,597,598,600,601,602,604,605,606,608,609,613,619,620,625,627,628,629,631,632,633,636,641,642,643,645,646,647,648,651,655,661,662,665,668,675,676,679,682,685,687,689,690,691,694,698,701,702,703,706,711,712,713,719,720,721,733,735,737,738,742,746,747,748,749,752,754,755,760,764,768,770,781,782,789,797,807,812,814,817,818,822,823,824,825,832,840,843,844,845,850,853,857,858,861,867,868,873,874,876,877,879,880,881,883,886,890,893,897,899,900,901,902,904,905,908,909,910,912,913,914,915,916,922,923,931,933,935,937,939,942,943,946,951,955,960,964,965,968,969,970,973,974,977,980,987,994,995,996,999,1000,1008,1014,1015,1016,1017,1020,1021,1023,1028,1031,1035,1036,1037,1039,1040,1043,1048,1051,1055,1058,1059,1072,1073,1074,1081,1090,1097,1098,1103,1104,1109,1112,1113,1114,1118,1120,1130,1134,1135,1139,1140,1147,1148,1149,1152,1154,1157,1158,1162,1163,1164,1166,1169,1174,1177,1180,1181,1182,1183,1185,1188,1189,1195,1197,1198,1200,1203,1208,1210,1212,1215,1217,1220,1222,1225,1229,1230,1233,1234,1241,1243,1246,1250,1251,1252,1254,1259,1262,1263,1265,1266,1269,1270,1273,1274,1276,1277,1279,1280,1282,1284,1285,1286,1289,1291,1292,1293,1294,1295,1301,1302,1304,1305,1306,1308,1309,1311,1313,1316,1318,1320,1322,1323,1325,1330,1335,1337,1340,1341,1343,1345,1350,1351,1352,1354,1357,1358,1359,1360,1361,1368,1369,1372,1377) have mixed types. Specify dtype option on import or set low_memory=False.\n",
      "  features = pd.read_csv('../../data/small_new/multilabel/train Data.csv')\n"
     ]
    }
   ],
   "source": [
    "features = pd.read_csv('../../data/small_new/multilabel/train Data.csv')\n",
    "labels = pd.read_csv('../../data/small_new/multilabel/train labels.csv')\n",
    "labels.drop(columns='id', inplace=True)\n",
    "data = pd.concat([features, labels], axis=1)\n",
    "data = data[['n_0000','n_0001','n_0002','n_0003',\n",
    "             'n_0004','n_0005','n_0006','n_0007',\n",
    "             'service_a', 'service_b', 'service_c', \n",
    "             'service_d', 'service_e', 'service_f',\n",
    "             'service_g', 'service_h', 'service_i',\n",
    "             'service_j', 'service_k', 'service_l',\n",
    "             'service_m', 'service_n']]\n",
    "\n",
    "tr_data, te_data = train_test_split(\n",
    "    data, \n",
    "    test_size=0.2,  \n",
    "    random_state=42\n",
    ")\n",
    "\n",
    "roles = {\n",
    "    \"target\": {'service_a', 'service_b', 'service_c',\n",
    "               'service_d', 'service_e', 'service_f',\n",
    "               'service_g', 'service_h', 'service_i',\n",
    "               'service_j', 'service_k', 'service_l',\n",
    "               'service_m', 'service_n'},\n",
    "    \"drop\" : ['id']\n",
    "}"
   ]
  },
  {
   "cell_type": "code",
   "execution_count": 4,
   "id": "e2f73a5f",
   "metadata": {},
   "outputs": [],
   "source": [
    "adv_roles = True"
   ]
  },
  {
   "cell_type": "markdown",
   "id": "c52c0d7c",
   "metadata": {},
   "source": [
    "## Imports (for potential use)"
   ]
  },
  {
   "cell_type": "code",
   "execution_count": 5,
   "id": "9a15c2c0",
   "metadata": {},
   "outputs": [],
   "source": [
    "# Imports from our package\n",
    "from lightautoml_gpu.automl.base import AutoML\n",
    "\n",
    "from lightautoml_gpu.automl.presets.gpu.tabular_gpu_presets import TabularAutoMLGPU, TabularUtilizedAutoMLGPU\n",
    "from lightautoml_gpu.tasks import Task\n",
    "\n",
    "from lightautoml_gpu.pipelines.features.gpu.lgb_pipeline_gpu import LGBSimpleFeaturesGPU, LGBAdvancedPipelineGPU\n",
    "from lightautoml_gpu.pipelines.features.gpu.linear_pipeline_gpu import LinearFeaturesGPU\n",
    "\n",
    "from lightautoml_gpu.pipelines.features.lgb_pipeline import LGBSimpleFeatures, LGBAdvancedPipeline\n",
    "from lightautoml_gpu.pipelines.features.linear_pipeline import LinearFeatures\n",
    "\n",
    "\n",
    "from lightautoml_gpu.ml_algo.gpu.boost_cb_gpu import BoostCBGPU\n",
    "from lightautoml_gpu.ml_algo.gpu.boost_xgb_gpu import BoostXGB\n",
    "from lightautoml_gpu.ml_algo.gpu.linear_gpu import LinearLBFGSGPU\n",
    "\n",
    "from lightautoml_gpu.ml_algo.boost_cb import BoostCB\n",
    "from lightautoml_gpu.ml_algo.linear_sklearn import LinearLBFGS\n",
    "\n",
    "\n",
    "from lightautoml_gpu.pipelines.ml.base import MLPipeline\n",
    "from lightautoml_gpu.pipelines.selection.importance_based import ModelBasedImportanceEstimator, ImportanceCutoffSelector"
   ]
  },
  {
   "cell_type": "markdown",
   "id": "6b5da23f",
   "metadata": {},
   "source": [
    "## TabularAutoML"
   ]
  },
  {
   "cell_type": "code",
   "execution_count": 6,
   "id": "71ba7253",
   "metadata": {},
   "outputs": [
    {
     "name": "stdout",
     "output_type": "stream",
     "text": [
      "multilabel isn`t supported in lgb\n"
     ]
    }
   ],
   "source": [
    "task = Task('multilabel')"
   ]
  },
  {
   "cell_type": "code",
   "execution_count": 7,
   "id": "14624311",
   "metadata": {},
   "outputs": [],
   "source": [
    "automl = TabularAutoML(\n",
    "    task = task, \n",
    "    timeout = 3600,\n",
    "    cpu_limit = 4,\n",
    "    reader_params = {'n_jobs': 4, 'cv': 3, 'random_state': 42},\n",
    "    general_params = {'use_algos': [['linear_l2', 'cb']]}\n",
    ")"
   ]
  },
  {
   "cell_type": "code",
   "execution_count": null,
   "id": "4b768794",
   "metadata": {
    "scrolled": true
   },
   "outputs": [],
   "source": [
    "oof_pred = automl.fit_predict(data, roles = roles, verbose = 2)"
   ]
  },
  {
   "cell_type": "code",
   "execution_count": 8,
   "id": "f432e058",
   "metadata": {},
   "outputs": [
    {
     "name": "stdout",
     "output_type": "stream",
     "text": [
      "multilabel isn`t supported in lgb\n"
     ]
    }
   ],
   "source": [
    "task = Task('multilabel', device='gpu')"
   ]
  },
  {
   "cell_type": "code",
   "execution_count": 9,
   "id": "a765c16f",
   "metadata": {},
   "outputs": [],
   "source": [
    "automl_gpu = TabularAutoMLGPU(\n",
    "    task = task, \n",
    "    timeout = 3600,\n",
    "    cpu_limit = 1,\n",
    "    reader_params = {'n_jobs': 1, 'cv': 3, 'random_state': 42},\n",
    "    general_params = {'use_algos': [['linear_l2', 'xgb']]}\n",
    ")"
   ]
  },
  {
   "cell_type": "code",
   "execution_count": 10,
   "id": "52f3b19f",
   "metadata": {},
   "outputs": [
    {
     "name": "stdout",
     "output_type": "stream",
     "text": [
      "[15:02:40] Stdout logging level is INFO2.\n",
      "[15:02:40] Copying TaskTimer may affect the parent PipelineTimer, so copy will create new unlimited TaskTimer\n",
      "[15:02:40] Task: multilabel\n",
      "\n",
      "[15:02:40] Start automl preset with listed constraints:\n",
      "[15:02:40] - time: 3600.00 seconds\n",
      "[15:02:40] - CPU: 1 cores\n",
      "[15:02:40] - memory: 16 GB\n",
      "\n",
      "[15:02:40] Train data shape: (14644, 22)\n",
      "[15:02:41] Feats was rejected during automatic roles guess: []\n",
      "[15:02:41] Layer \u001b[1m1\u001b[0m train process start. Time left 3599.34 secs\n",
      "[15:02:41] Start fitting \u001b[1mLvl_0_Pipe_0_Mod_0_LinearL2\u001b[0m ...\n",
      "[15:02:42] ===== Start working with \u001b[1mfold 0\u001b[0m for \u001b[1mLvl_0_Pipe_0_Mod_0_LinearL2\u001b[0m (orig) =====\n",
      "[15:02:48] ===== Start working with \u001b[1mfold 1\u001b[0m for \u001b[1mLvl_0_Pipe_0_Mod_0_LinearL2\u001b[0m (orig) =====\n",
      "[15:02:53] ===== Start working with \u001b[1mfold 2\u001b[0m for \u001b[1mLvl_0_Pipe_0_Mod_0_LinearL2\u001b[0m (orig) =====\n",
      "[15:03:00] Fitting \u001b[1mLvl_0_Pipe_0_Mod_0_LinearL2\u001b[0m finished. score = \u001b[1m-7.3779354299948015\u001b[0m\n",
      "[15:03:00] \u001b[1mLvl_0_Pipe_0_Mod_0_LinearL2\u001b[0m fitting and predicting completed\n",
      "[15:03:00] Time left 3580.54 secs\n",
      "\n",
      "[15:03:02] Stdout logging level is INFO.\n",
      "[15:03:02] GDBT train starts. Max iter 3000, early stopping rounds 200\n",
      "[15:03:02] Iter 0; Sample 0, BCE = 0.37885283418489324; \n",
      "[15:03:02] Iter 100; Sample 0, BCE = 0.353387427138576; \n",
      "[15:03:03] Iter 200; Sample 0, BCE = 0.35254520815939544; \n",
      "[15:03:03] Iter 300; Sample 0, BCE = 0.35267136780053915; \n",
      "[15:03:04] Iter 400; Sample 0, BCE = 0.35300305630517803; \n",
      "[15:03:04] Early stopping at iter 420, best iter 220, best_score 0.3525145667016378\n",
      "[15:03:04] \u001b[1mSelector_PB\u001b[0m fitting and predicting completed\n",
      "[15:03:04] Start fitting \u001b[1mLvl_0_Pipe_1_Mod_0_XGB\u001b[0m ...\n",
      "[15:03:04] ===== Start working with \u001b[1mfold 0\u001b[0m for \u001b[1mLvl_0_Pipe_1_Mod_0_XGB\u001b[0m (orig) =====\n",
      "[15:03:36] ===== Start working with \u001b[1mfold 1\u001b[0m for \u001b[1mLvl_0_Pipe_1_Mod_0_XGB\u001b[0m (orig) =====\n",
      "[15:04:07] ===== Start working with \u001b[1mfold 2\u001b[0m for \u001b[1mLvl_0_Pipe_1_Mod_0_XGB\u001b[0m (orig) =====\n",
      "[15:04:37] Fitting \u001b[1mLvl_0_Pipe_1_Mod_0_XGB\u001b[0m finished. score = \u001b[1m-7.420287023730142\u001b[0m\n",
      "[15:04:37] \u001b[1mLvl_0_Pipe_1_Mod_0_XGB\u001b[0m fitting and predicting completed\n",
      "[15:04:37] Time left 3483.70 secs\n",
      "\n",
      "[15:04:37] \u001b[1mLayer 1 training completed.\u001b[0m\n",
      "\n",
      "[15:04:37] Blending: Optimization starts with equal weights and score -7.371794301571822\n",
      "[15:04:37] Blending, iter 0: score = -7.333561708438888, weights = [0.90983003 0.09016994]\n",
      "[15:04:37] Blending, iter 1: score = -7.333561708438888, weights = [0.90983003 0.09016994]\n",
      "[15:04:37] No score update. Terminated\n",
      "[15:04:37] \u001b[1mAutoml preset training completed in 116.48 seconds\u001b[0m\n",
      "\n",
      "[15:04:37] Model description:\n",
      "Final prediction for new objects (level 0) = \n",
      "\t 0.90983 * (3 averaged models Lvl_0_Pipe_0_Mod_0_LinearL2) +\n",
      "\t 0.09017 * (3 averaged models Lvl_0_Pipe_1_Mod_0_XGB) \n",
      "\n"
     ]
    }
   ],
   "source": [
    "oof_pred_gpu = automl_gpu.fit_predict(data, roles = roles, verbose = 2)"
   ]
  },
  {
   "cell_type": "code",
   "execution_count": 11,
   "id": "5ad158c4",
   "metadata": {},
   "outputs": [],
   "source": [
    "gpu_inf = automl_gpu.predict(data)"
   ]
  },
  {
   "cell_type": "code",
   "execution_count": 12,
   "id": "7748506a",
   "metadata": {},
   "outputs": [
    {
     "name": "stdout",
     "output_type": "stream",
     "text": [
      "multilabel isn`t supported in lgb\n",
      "[15:04:38] CatBoost uses as obj. MultiCrossEntropy.\n",
      "multilabel isn`t supported in lgb\n",
      "[15:04:38] CatBoost uses as obj. MultiCrossEntropy.\n",
      "multilabel isn`t supported in lgb\n",
      "[15:04:38] CatBoost uses as obj. MultiCrossEntropy.\n",
      "multilabel isn`t supported in lgb\n",
      "[15:04:38] CatBoost uses as obj. MultiCrossEntropy.\n"
     ]
    }
   ],
   "source": [
    "automl_gpu.to_cpu()"
   ]
  },
  {
   "cell_type": "code",
   "execution_count": 13,
   "id": "bf8c7fd4",
   "metadata": {},
   "outputs": [],
   "source": [
    "cpu_inf = automl_gpu.predict(data)"
   ]
  },
  {
   "cell_type": "code",
   "execution_count": 14,
   "id": "027652e1",
   "metadata": {},
   "outputs": [],
   "source": [
    "from joblib import dump, load\n",
    "import time\n",
    "pickle_file = './gpu.joblib'"
   ]
  },
  {
   "cell_type": "code",
   "execution_count": 15,
   "id": "edc3395d",
   "metadata": {},
   "outputs": [
    {
     "name": "stdout",
     "output_type": "stream",
     "text": [
      "Raw dump duration: 0.398s\n"
     ]
    }
   ],
   "source": [
    "start = time.time()\n",
    "with open(pickle_file, 'wb') as f:\n",
    "    dump(automl_gpu, f)\n",
    "raw_dump_duration = time.time() - start\n",
    "print(\"Raw dump duration: %0.3fs\" % raw_dump_duration)"
   ]
  },
  {
   "cell_type": "code",
   "execution_count": 31,
   "id": "56a1a1b9",
   "metadata": {},
   "outputs": [
    {
     "name": "stdout",
     "output_type": "stream",
     "text": [
      "Raw load duration: 0.289s\n"
     ]
    }
   ],
   "source": [
    "\n",
    "start = time.time()\n",
    "with open(pickle_file, 'rb') as f:\n",
    "    model_inf = load(f)\n",
    "raw_load_duration = time.time() - start\n",
    "print(\"Raw load duration: %0.3fs\" % raw_load_duration)\n"
   ]
  },
  {
   "cell_type": "code",
   "execution_count": 32,
   "id": "2ae4bbf1",
   "metadata": {},
   "outputs": [],
   "source": [
    "disk_pred = model_inf.predict(data)"
   ]
  },
  {
   "cell_type": "code",
   "execution_count": 33,
   "id": "8fdecea7",
   "metadata": {},
   "outputs": [
    {
     "data": {
      "text/plain": [
       "array([[ 1.2499781 ,  1.2954457 ,  1.215799  , ...,  1.7942188 ,\n",
       "         1.1554844 ,  1.4735762 ],\n",
       "       [-1.3430822 , -1.4893754 , -1.3048111 , ..., -2.0758078 ,\n",
       "        -1.1770225 , -1.7535352 ],\n",
       "       [-1.9479339 , -1.6672715 , -1.8437766 , ..., -2.1467757 ,\n",
       "        -1.7655997 , -2.5173562 ],\n",
       "       ...,\n",
       "       [ 0.57334274,  0.63242227,  0.54720515, ...,  1.3476214 ,\n",
       "         0.46615654,  0.8401307 ],\n",
       "       [-1.1950628 , -1.0716614 , -1.2032543 , ..., -1.1580757 ,\n",
       "        -1.2645098 , -1.0374529 ],\n",
       "       [ 0.0785979 ,  0.3153556 ,  0.12578224, ...,  1.3680722 ,\n",
       "         0.11524606, -0.06934854]], dtype=float32)"
      ]
     },
     "execution_count": 33,
     "metadata": {},
     "output_type": "execute_result"
    }
   ],
   "source": [
    "disk_pred.data.T"
   ]
  },
  {
   "cell_type": "code",
   "execution_count": 19,
   "id": "23815756",
   "metadata": {},
   "outputs": [
    {
     "data": {
      "text/plain": [
       "array([[ 1.301159  ,  1.34741   ,  1.2640569 , ...,  1.8646438 ,\n",
       "         1.2030007 ,  1.5263661 ],\n",
       "       [-1.2656877 , -1.416658  , -1.2259802 , ..., -2.0270844 ,\n",
       "        -1.0922014 , -1.6940601 ],\n",
       "       [-1.9110572 , -1.6158959 , -1.8038567 , ..., -2.149033  ,\n",
       "        -1.7254399 , -2.494409  ],\n",
       "       ...,\n",
       "       [ 0.6196411 ,  0.6809143 ,  0.59041625, ...,  1.421854  ,\n",
       "         0.5145211 ,  0.8948479 ],\n",
       "       [-1.166754  , -1.0429802 , -1.1768596 , ..., -1.131111  ,\n",
       "        -1.2407193 , -0.99694276],\n",
       "       [ 0.128881  ,  0.3690266 ,  0.17519997, ...,  1.44401   ,\n",
       "         0.16227192, -0.0143208 ]], dtype=float32)"
      ]
     },
     "execution_count": 19,
     "metadata": {},
     "output_type": "execute_result"
    }
   ],
   "source": [
    "disk_pred.data.T"
   ]
  },
  {
   "cell_type": "code",
   "execution_count": 20,
   "id": "9565ca88",
   "metadata": {},
   "outputs": [
    {
     "name": "stdout",
     "output_type": "stream",
     "text": [
      "[[ 1.301159    1.34741     1.2640569  ...  1.8646438   1.2030007\n",
      "   1.5263661 ]\n",
      " [-1.2656877  -1.416658   -1.2259802  ... -2.0270844  -1.0922014\n",
      "  -1.6940601 ]\n",
      " [-1.9110572  -1.6158959  -1.8038567  ... -2.149033   -1.7254399\n",
      "  -2.494409  ]\n",
      " ...\n",
      " [ 0.6196411   0.6809143   0.59041625 ...  1.421854    0.5145211\n",
      "   0.8948479 ]\n",
      " [-1.166754   -1.0429802  -1.1768596  ... -1.131111   -1.2407193\n",
      "  -0.99694276]\n",
      " [ 0.128881    0.3690266   0.17519997 ...  1.44401     0.16227192\n",
      "  -0.0143208 ]]\n",
      "\n",
      "[[0.10802634 0.13113078 0.09910143 ... 0.21198082 0.09147822 0.12580821]\n",
      " [0.0066313  0.00730639 0.00573334 ... 0.0023582  0.00835318 0.00566869]\n",
      " [0.00248677 0.0051474  0.00280998 ... 0.00225817 0.00328291 0.00223576]\n",
      " ...\n",
      " [0.04944737 0.06560731 0.0530625  ... 0.14098077 0.04365823 0.0626318 ]\n",
      " [0.00599362 0.01186266 0.0063459  ... 0.01556174 0.00508943 0.00692001]\n",
      " [0.02530477 0.03941411 0.02897311 ... 0.13118058 0.02947844 0.02688901]]\n",
      "\n",
      "[[0.10372297 0.13033417 0.10176552 ... 0.22322935 0.08946411 0.13564722]\n",
      " [0.0069466  0.00736266 0.0059343  ... 0.00198393 0.00850365 0.00708115]\n",
      " [0.00236339 0.0058587  0.00310291 ... 0.00202775 0.00343345 0.00298771]\n",
      " ...\n",
      " [0.0536329  0.07112661 0.05729061 ... 0.15574351 0.04303579 0.06431714]\n",
      " [0.00657421 0.01369882 0.00565497 ... 0.02172435 0.00557848 0.00648348]\n",
      " [0.02674768 0.04321532 0.02754075 ... 0.11404294 0.02363949 0.0195621 ]]\n"
     ]
    }
   ],
   "source": [
    "print(cpu_inf.data.T)\n",
    "print()\n",
    "print(gpu_inf.data.T)\n",
    "print()\n",
    "print(oof_pred_gpu.data.T)\n",
    "#print()\n",
    "#print(oof_pred.data.T)\n",
    "#print()\n",
    "#print(disk_pred.data.T)"
   ]
  },
  {
   "cell_type": "code",
   "execution_count": 21,
   "id": "70394263",
   "metadata": {},
   "outputs": [
    {
     "name": "stderr",
     "output_type": "stream",
     "text": [
      "/home/rishat/miniconda3/envs/rapids-22.10/lib/python3.9/site-packages/distributed/comm/ucx.py:61: UserWarning: A CUDA context for device 0 already exists on process ID 6768. This is often the result of a CUDA-enabled library calling a CUDA runtime function before Dask-CUDA can spawn worker processes. Please make sure any such function calls don't happen at import time or in the global scope of a program.\n",
      "  warnings.warn(\n",
      "2022-12-29 15:09:31,146 - distributed.preloading - INFO - Creating preload: dask_cuda.initialize\n",
      "2022-12-29 15:09:31,146 - distributed.preloading - INFO - Import preload module: dask_cuda.initialize\n"
     ]
    },
    {
     "name": "stdout",
     "output_type": "stream",
     "text": [
      "dashboard: http://127.0.0.1:8787/status\n"
     ]
    },
    {
     "data": {
      "text/plain": [
       "{'ucx://127.0.0.1:49767': None}"
      ]
     },
     "execution_count": 21,
     "metadata": {},
     "output_type": "execute_result"
    }
   ],
   "source": [
    "cluster = LocalCUDACluster(rmm_managed_memory=True, CUDA_VISIBLE_DEVICES=\"0\",\n",
    "                               protocol=\"ucx\", enable_nvlink=True,\n",
    "                               memory_limit=\"8GB\")\n",
    "print(\"dashboard:\", cluster.dashboard_link)\n",
    "client = Client(cluster)\n",
    "client.run(cudf.set_allocator, \"managed\")"
   ]
  },
  {
   "cell_type": "code",
   "execution_count": 22,
   "id": "fbf94656",
   "metadata": {},
   "outputs": [
    {
     "name": "stdout",
     "output_type": "stream",
     "text": [
      "multilabel isn`t supported in lgb\n",
      "[15:09:31] CatBoost uses as obj. MultiCrossEntropy.\n",
      "[15:09:31] Stdout logging level is INFO2.\n",
      "[15:09:31] Task: multilabel\n",
      "\n",
      "[15:09:31] Start automl preset with listed constraints:\n",
      "[15:09:31] - time: 3600.00 seconds\n",
      "[15:09:31] - CPU: 1 cores\n",
      "[15:09:31] - memory: 16 GB\n",
      "\n",
      "[15:09:31] Train data shape: (14644, 22)\n",
      "[15:09:32] Feats was rejected during automatic roles guess: []\n",
      "[15:09:32] Layer \u001b[1m1\u001b[0m train process start. Time left 3599.39 secs\n",
      "[15:09:32] Start fitting \u001b[1mLvl_0_Pipe_0_Mod_0_LinearL2\u001b[0m ...\n",
      "[15:09:32] ===== Start working with \u001b[1mfold 0\u001b[0m for \u001b[1mLvl_0_Pipe_0_Mod_0_LinearL2\u001b[0m (orig) =====\n",
      "[15:09:37] ===== Start working with \u001b[1mfold 1\u001b[0m for \u001b[1mLvl_0_Pipe_0_Mod_0_LinearL2\u001b[0m (orig) =====\n",
      "[15:09:41] ===== Start working with \u001b[1mfold 2\u001b[0m for \u001b[1mLvl_0_Pipe_0_Mod_0_LinearL2\u001b[0m (orig) =====\n",
      "[15:09:49] Fitting \u001b[1mLvl_0_Pipe_0_Mod_0_LinearL2\u001b[0m finished. score = \u001b[1m-7.376846383376888\u001b[0m\n",
      "[15:09:49] \u001b[1mLvl_0_Pipe_0_Mod_0_LinearL2\u001b[0m fitting and predicting completed\n",
      "[15:09:49] Time left 3582.22 secs\n",
      "\n",
      "[15:09:49] Stdout logging level is INFO.\n",
      "[15:09:49] GDBT train starts. Max iter 3000, early stopping rounds 200\n",
      "[15:09:49] Iter 0; Sample 0, BCE = 0.3788528341897411; \n",
      "[15:09:50] Iter 100; Sample 0, BCE = 0.3533892118938458; \n",
      "[15:09:50] Iter 200; Sample 0, BCE = 0.35254733900168866; \n",
      "[15:09:51] Iter 300; Sample 0, BCE = 0.3526731360463039; \n",
      "[15:09:51] Iter 400; Sample 0, BCE = 0.35300587813727125; \n",
      "[15:09:51] Early stopping at iter 420, best iter 220, best_score 0.3525166866907944\n",
      "[15:09:52] \u001b[1mSelector_PB\u001b[0m fitting and predicting completed\n",
      "[15:09:52] Start fitting \u001b[1mLvl_0_Pipe_1_Mod_0_XGB\u001b[0m ...\n",
      "[15:09:52] ===== Start working with \u001b[1mfold 0\u001b[0m for \u001b[1mLvl_0_Pipe_1_Mod_0_XGB\u001b[0m (orig) =====\n"
     ]
    },
    {
     "name": "stderr",
     "output_type": "stream",
     "text": [
      "/home/rishat/miniconda3/envs/rapids-22.10/lib/python3.9/site-packages/xgboost/dask.py:884: RuntimeWarning: coroutine 'Client._wait_for_workers' was never awaited\n",
      "  client.wait_for_workers(n_workers)\n",
      "/home/rishat/miniconda3/envs/rapids-22.10/lib/python3.9/site-packages/distributed/worker_state_machine.py:3649: FutureWarning: The `Worker.nthreads` attribute has been moved to `Worker.state.nthreads`\n",
      "  warnings.warn(\n",
      "[15:09:55] task [xgboost.dask-0]:ucx://127.0.0.1:49767 got new rank 0\n"
     ]
    },
    {
     "name": "stdout",
     "output_type": "stream",
     "text": [
      "[15:10:29] ===== Start working with \u001b[1mfold 1\u001b[0m for \u001b[1mLvl_0_Pipe_1_Mod_0_XGB\u001b[0m (orig) =====\n"
     ]
    },
    {
     "name": "stderr",
     "output_type": "stream",
     "text": [
      "/home/rishat/miniconda3/envs/rapids-22.10/lib/python3.9/site-packages/xgboost/dask.py:884: RuntimeWarning: coroutine 'Client._wait_for_workers' was never awaited\n",
      "  client.wait_for_workers(n_workers)\n",
      "/home/rishat/miniconda3/envs/rapids-22.10/lib/python3.9/site-packages/distributed/worker_state_machine.py:3649: FutureWarning: The `Worker.nthreads` attribute has been moved to `Worker.state.nthreads`\n",
      "  warnings.warn(\n",
      "[15:10:29] task [xgboost.dask-0]:ucx://127.0.0.1:49767 got new rank 0\n"
     ]
    },
    {
     "name": "stdout",
     "output_type": "stream",
     "text": [
      "[15:11:01] ===== Start working with \u001b[1mfold 2\u001b[0m for \u001b[1mLvl_0_Pipe_1_Mod_0_XGB\u001b[0m (orig) =====\n"
     ]
    },
    {
     "name": "stderr",
     "output_type": "stream",
     "text": [
      "/home/rishat/miniconda3/envs/rapids-22.10/lib/python3.9/site-packages/xgboost/dask.py:884: RuntimeWarning: coroutine 'Client._wait_for_workers' was never awaited\n",
      "  client.wait_for_workers(n_workers)\n",
      "/home/rishat/miniconda3/envs/rapids-22.10/lib/python3.9/site-packages/distributed/worker_state_machine.py:3649: FutureWarning: The `Worker.nthreads` attribute has been moved to `Worker.state.nthreads`\n",
      "  warnings.warn(\n",
      "[15:11:02] task [xgboost.dask-0]:ucx://127.0.0.1:49767 got new rank 0\n"
     ]
    },
    {
     "name": "stdout",
     "output_type": "stream",
     "text": [
      "[15:11:34] Fitting \u001b[1mLvl_0_Pipe_1_Mod_0_XGB\u001b[0m finished. score = \u001b[1m-7.421265013672653\u001b[0m\n",
      "[15:11:34] \u001b[1mLvl_0_Pipe_1_Mod_0_XGB\u001b[0m fitting and predicting completed\n",
      "[15:11:34] Time left 3477.58 secs\n",
      "\n",
      "[15:11:34] \u001b[1mLayer 1 training completed.\u001b[0m\n",
      "\n",
      "[15:11:34] Blending: Optimization starts with equal weights and score -7.372156143351286\n",
      "[15:11:34] Blending, iter 0: score = -7.333655279769789, weights = [0.90983003 0.09016994]\n",
      "[15:11:34] Blending, iter 1: score = -7.333655279769789, weights = [0.90983003 0.09016994]\n",
      "[15:11:34] No score update. Terminated\n",
      "[15:11:34] \u001b[1mAutoml preset training completed in 122.60 seconds\u001b[0m\n",
      "\n",
      "[15:11:34] Model description:\n",
      "Final prediction for new objects (level 0) = \n",
      "\t 0.90983 * (3 averaged models Lvl_0_Pipe_0_Mod_0_LinearL2) +\n",
      "\t 0.09017 * (3 averaged models Lvl_0_Pipe_1_Mod_0_XGB) \n",
      "\n"
     ]
    }
   ],
   "source": [
    "task = Task('multilabel', device='mgpu')\n",
    "\n",
    "automl_mgpu = TabularAutoMLGPU(\n",
    "    task = task, \n",
    "    timeout = 3600,\n",
    "    cpu_limit = 1,\n",
    "    reader_params = {'n_jobs': 1, 'cv': 3, 'random_state': 42, 'npartitions': 2},\n",
    "    general_params = {'use_algos': [['xgb', 'linear_l2']]},\n",
    "    client = client\n",
    ")\n",
    "\n",
    "oof_pred_mgpu = automl_mgpu.fit_predict(data, roles = roles, verbose = 2)"
   ]
  },
  {
   "cell_type": "code",
   "execution_count": 23,
   "id": "0c8a80f3",
   "metadata": {},
   "outputs": [
    {
     "name": "stdout",
     "output_type": "stream",
     "text": [
      "multilabel isn`t supported in lgb\n",
      "[15:11:34] CatBoost uses as obj. MultiCrossEntropy.\n",
      "multilabel isn`t supported in lgb\n",
      "[15:11:34] CatBoost uses as obj. MultiCrossEntropy.\n",
      "multilabel isn`t supported in lgb\n",
      "[15:11:34] CatBoost uses as obj. MultiCrossEntropy.\n",
      "multilabel isn`t supported in lgb\n",
      "[15:11:34] CatBoost uses as obj. MultiCrossEntropy.\n"
     ]
    }
   ],
   "source": [
    "automl_mgpu.to_cpu()"
   ]
  },
  {
   "cell_type": "code",
   "execution_count": 24,
   "id": "0332f750",
   "metadata": {},
   "outputs": [],
   "source": [
    "mcpu_inf = automl_mgpu.predict(data)"
   ]
  },
  {
   "cell_type": "code",
   "execution_count": 26,
   "id": "8b9af169",
   "metadata": {},
   "outputs": [
    {
     "name": "stdout",
     "output_type": "stream",
     "text": [
      "[[ 1.301159    1.34741     1.2640569  ...  1.8646438   1.2030007\n",
      "   1.5263661 ]\n",
      " [-1.2656877  -1.416658   -1.2259802  ... -2.0270844  -1.0922014\n",
      "  -1.6940601 ]\n",
      " [-1.9110572  -1.6158959  -1.8038567  ... -2.149033   -1.7254399\n",
      "  -2.494409  ]\n",
      " ...\n",
      " [ 0.6196411   0.6809143   0.59041625 ...  1.421854    0.5145211\n",
      "   0.8948479 ]\n",
      " [-1.166754   -1.0429802  -1.1768596  ... -1.131111   -1.2407193\n",
      "  -0.99694276]\n",
      " [ 0.128881    0.3690266   0.17519997 ...  1.44401     0.16227192\n",
      "  -0.0143208 ]]\n",
      "\n",
      "[[0.10802634 0.13113078 0.09910143 ... 0.21198082 0.09147822 0.12580821]\n",
      " [0.0066313  0.00730639 0.00573334 ... 0.0023582  0.00835318 0.00566869]\n",
      " [0.00248677 0.0051474  0.00280998 ... 0.00225817 0.00328291 0.00223576]\n",
      " ...\n",
      " [0.04944737 0.06560731 0.0530625  ... 0.14098077 0.04365823 0.0626318 ]\n",
      " [0.00599362 0.01186266 0.0063459  ... 0.01556174 0.00508943 0.00692001]\n",
      " [0.02530477 0.03941411 0.02897311 ... 0.13118058 0.02947844 0.02688901]]\n",
      "\n",
      "[[0.10372297 0.13033417 0.10176552 ... 0.22322935 0.08946411 0.13564722]\n",
      " [0.0069466  0.00736266 0.0059343  ... 0.00198393 0.00850365 0.00708115]\n",
      " [0.00236339 0.0058587  0.00310291 ... 0.00202775 0.00343345 0.00298771]\n",
      " ...\n",
      " [0.0536329  0.07112661 0.05729061 ... 0.15574351 0.04303579 0.06431714]\n",
      " [0.00657421 0.01369882 0.00565497 ... 0.02172435 0.00557848 0.00648348]\n",
      " [0.02674768 0.04321532 0.02754075 ... 0.11404294 0.02363949 0.0195621 ]]\n",
      "\n",
      "\n",
      "[[0.10881986 0.13118805 0.10001863 ... 0.22527343 0.09059267 0.13732123]\n",
      " [0.00681996 0.00685991 0.00603759 ... 0.00198288 0.00853711 0.00775957]\n",
      " [0.00250775 0.00600152 0.003027   ... 0.00195432 0.00352518 0.00375688]\n",
      " ...\n",
      " [0.05409088 0.07077482 0.06113    ... 0.1491774  0.04241994 0.06628746]\n",
      " [0.00667814 0.01516285 0.00718061 ... 0.02635159 0.00556093 0.00679409]\n",
      " [0.02608002 0.04375883 0.02818386 ... 0.11002354 0.0235449  0.0197336 ]]\n",
      "\n",
      "[[ 1.2499781   1.2954457   1.215799   ...  1.7942188   1.1554844\n",
      "   1.4735762 ]\n",
      " [-1.3430822  -1.4893754  -1.3048111  ... -2.0758078  -1.1770225\n",
      "  -1.7535352 ]\n",
      " [-1.9479339  -1.6672715  -1.8437766  ... -2.1467757  -1.7655997\n",
      "  -2.5173562 ]\n",
      " ...\n",
      " [ 0.57334274  0.63242227  0.54720515 ...  1.3476214   0.46615654\n",
      "   0.8401307 ]\n",
      " [-1.1950628  -1.0716614  -1.2032543  ... -1.1580757  -1.2645098\n",
      "  -1.0374529 ]\n",
      " [ 0.0785979   0.3153556   0.12578224 ...  1.3680722   0.11524606\n",
      "  -0.06934854]]\n"
     ]
    }
   ],
   "source": [
    "print(cpu_inf.data.T)\n",
    "print()\n",
    "print(gpu_inf.data.T)\n",
    "print()\n",
    "print(oof_pred_gpu.data.T)\n",
    "print()\n",
    "#print(oof_pred.data.T)\n",
    "print()\n",
    "print(oof_pred_mgpu.data.T)\n",
    "print()\n",
    "print(mcpu_inf.data.T)"
   ]
  },
  {
   "cell_type": "code",
   "execution_count": 30,
   "id": "507aa230",
   "metadata": {},
   "outputs": [
    {
     "name": "stdout",
     "output_type": "stream",
     "text": [
      "Raw dump duration: 0.374s\n"
     ]
    }
   ],
   "source": [
    "from joblib import dump, load\n",
    "import time\n",
    "\n",
    "pickle_file = './mgpu.joblib'\n",
    "\n",
    "start = time.time()\n",
    "with open(pickle_file, 'wb') as f:\n",
    "    dump(automl_mgpu, f)\n",
    "raw_dump_duration = time.time() - start\n",
    "print(\"Raw dump duration: %0.3fs\" % raw_dump_duration)"
   ]
  },
  {
   "cell_type": "code",
   "execution_count": null,
   "id": "08a422d6",
   "metadata": {},
   "outputs": [],
   "source": []
  },
  {
   "cell_type": "code",
   "execution_count": null,
   "id": "e0f59447",
   "metadata": {},
   "outputs": [],
   "source": []
  }
 ],
 "metadata": {
  "kernelspec": {
   "display_name": "rapids-22.10",
   "language": "python",
   "name": "rapids-22.10"
  },
  "language_info": {
   "codemirror_mode": {
    "name": "ipython",
    "version": 3
   },
   "file_extension": ".py",
   "mimetype": "text/x-python",
   "name": "python",
   "nbconvert_exporter": "python",
   "pygments_lexer": "ipython3",
   "version": "3.9.13"
  }
 },
 "nbformat": 4,
 "nbformat_minor": 5
}

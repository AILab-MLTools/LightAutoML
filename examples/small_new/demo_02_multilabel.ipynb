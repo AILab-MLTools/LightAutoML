{
 "cells": [
  {
   "cell_type": "code",
   "execution_count": 1,
   "id": "78930508",
   "metadata": {},
   "outputs": [],
   "source": [
    "import numpy as np\n",
    "import pandas as pd"
   ]
  },
  {
   "cell_type": "code",
   "execution_count": 2,
   "id": "bfd2caae",
   "metadata": {},
   "outputs": [],
   "source": [
    "from lightautoml_gpu.reader.gpu.cudf_reader import CudfReader\n",
    "from lightautoml_gpu.reader.base import PandasToPandasReader\n",
    "\n",
    "from lightautoml_gpu.transformers.base import SequentialTransformer\n",
    "\n",
    "from lightautoml_gpu.pipelines.utils import get_columns_by_role\n",
    "\n",
    "from lightautoml_gpu.transformers.gpu import numeric_gpu, categorical_gpu, datetime_gpu\n",
    "from lightautoml_gpu.transformers import numeric, categorical, datetime\n",
    "\n",
    "from lightautoml_gpu.tasks import Task\n",
    "from lightautoml_gpu.automl.presets.tabular_presets import TabularAutoML, TabularUtilizedAutoML\n",
    "\n",
    "import pandas as pd\n",
    "import time\n",
    "from sklearn.model_selection import train_test_split\n",
    "\n",
    "from dask.distributed import Client\n",
    "from dask_cuda import LocalCUDACluster\n",
    "import cudf"
   ]
  },
  {
   "cell_type": "code",
   "execution_count": null,
   "id": "e8daa935",
   "metadata": {},
   "outputs": [],
   "source": []
  },
  {
   "cell_type": "code",
   "execution_count": 3,
   "id": "4befdbcf",
   "metadata": {},
   "outputs": [
    {
     "name": "stderr",
     "output_type": "stream",
     "text": [
      "/tmp/ipykernel_9002/705777730.py:1: DtypeWarning: Columns (329,331,333,336,338,344,345,346,348,354,355,356,357,358,361,362,364,367,372,377,380,383,385,387,390,392,399,400,406,408,409,413,416,418,419,431,433,437,438,442,448,449,450,453,457,464,473,478,479,481,483,485,486,489,492,495,496,497,498,499,500,503,507,508,510,511,514,515,517,519,520,521,522,523,524,526,527,530,534,537,538,539,541,544,547,548,549,550,551,557,558,560,564,569,572,573,576,577,579,583,596,597,598,600,601,602,604,605,606,608,609,613,619,620,625,627,628,629,631,632,633,636,641,642,643,645,646,647,648,651,655,661,662,665,668,675,676,679,682,685,687,689,690,691,694,698,701,702,703,706,711,712,713,719,720,721,733,735,737,738,742,746,747,748,749,752,754,755,760,764,768,770,781,782,789,797,807,812,814,817,818,822,823,824,825,832,840,843,844,845,850,853,857,858,861,867,868,873,874,876,877,879,880,881,883,886,890,893,897,899,900,901,902,904,905,908,909,910,912,913,914,915,916,922,923,931,933,935,937,939,942,943,946,951,955,960,964,965,968,969,970,973,974,977,980,987,994,995,996,999,1000,1008,1014,1015,1016,1017,1020,1021,1023,1028,1031,1035,1036,1037,1039,1040,1043,1048,1051,1055,1058,1059,1072,1073,1074,1081,1090,1097,1098,1103,1104,1109,1112,1113,1114,1118,1120,1130,1134,1135,1139,1140,1147,1148,1149,1152,1154,1157,1158,1162,1163,1164,1166,1169,1174,1177,1180,1181,1182,1183,1185,1188,1189,1195,1197,1198,1200,1203,1208,1210,1212,1215,1217,1220,1222,1225,1229,1230,1233,1234,1241,1243,1246,1250,1251,1252,1254,1259,1262,1263,1265,1266,1269,1270,1273,1274,1276,1277,1279,1280,1282,1284,1285,1286,1289,1291,1292,1293,1294,1295,1301,1302,1304,1305,1306,1308,1309,1311,1313,1316,1318,1320,1322,1323,1325,1330,1335,1337,1340,1341,1343,1345,1350,1351,1352,1354,1357,1358,1359,1360,1361,1368,1369,1372,1377) have mixed types. Specify dtype option on import or set low_memory=False.\n",
      "  features = pd.read_csv('../../data/small_new/multilabel/train Data.csv')\n"
     ]
    }
   ],
   "source": [
    "features = pd.read_csv('../../data/small_new/multilabel/train Data.csv')\n",
    "labels = pd.read_csv('../../data/small_new/multilabel/train labels.csv')\n",
    "labels.drop(columns='id', inplace=True)\n",
    "data = pd.concat([features, labels], axis=1)\n",
    "data = data[['n_0000','n_0001','n_0002','n_0003',\n",
    "             'n_0004','n_0005','n_0006','n_0007',\n",
    "             'service_a', 'service_b', 'service_c', \n",
    "             'service_d', 'service_e', 'service_f',\n",
    "             'service_g', 'service_h', 'service_i',\n",
    "             'service_j', 'service_k', 'service_l',\n",
    "             'service_m', 'service_n']]\n",
    "\n",
    "tr_data, te_data = train_test_split(\n",
    "    data, \n",
    "    test_size=0.2,  \n",
    "    random_state=42\n",
    ")\n",
    "\n",
    "roles = {\n",
    "    \"target\": {'service_a', 'service_b', 'service_c',\n",
    "               'service_d', 'service_e', 'service_f',\n",
    "               'service_g', 'service_h', 'service_i',\n",
    "               'service_j', 'service_k', 'service_l',\n",
    "               'service_m', 'service_n'},\n",
    "    \"drop\" : ['id']\n",
    "}"
   ]
  },
  {
   "cell_type": "code",
   "execution_count": 4,
   "id": "e2f73a5f",
   "metadata": {},
   "outputs": [],
   "source": [
    "adv_roles = True"
   ]
  },
  {
   "cell_type": "markdown",
   "id": "c52c0d7c",
   "metadata": {},
   "source": [
    "## Imports (for potential use)"
   ]
  },
  {
   "cell_type": "code",
   "execution_count": 5,
   "id": "9a15c2c0",
   "metadata": {},
   "outputs": [],
   "source": [
    "# Imports from our package\n",
    "from lightautoml_gpu.automl.base import AutoML\n",
    "\n",
    "from lightautoml_gpu.automl.presets.gpu.tabular_gpu_presets import TabularAutoMLGPU, TabularUtilizedAutoMLGPU\n",
    "from lightautoml_gpu.tasks import Task\n",
    "\n",
    "from lightautoml_gpu.pipelines.features.gpu.lgb_pipeline_gpu import LGBSimpleFeaturesGPU, LGBAdvancedPipelineGPU\n",
    "from lightautoml_gpu.pipelines.features.gpu.linear_pipeline_gpu import LinearFeaturesGPU\n",
    "\n",
    "from lightautoml_gpu.pipelines.features.lgb_pipeline import LGBSimpleFeatures, LGBAdvancedPipeline\n",
    "from lightautoml_gpu.pipelines.features.linear_pipeline import LinearFeatures\n",
    "\n",
    "\n",
    "from lightautoml_gpu.ml_algo.gpu.boost_cb_gpu import BoostCBGPU\n",
    "from lightautoml_gpu.ml_algo.gpu.boost_xgb_gpu import BoostXGB\n",
    "from lightautoml_gpu.ml_algo.gpu.linear_gpu import LinearLBFGSGPU\n",
    "\n",
    "from lightautoml_gpu.ml_algo.boost_cb import BoostCB\n",
    "from lightautoml_gpu.ml_algo.linear_sklearn import LinearLBFGS\n",
    "\n",
    "\n",
    "from lightautoml_gpu.pipelines.ml.base import MLPipeline\n",
    "from lightautoml_gpu.pipelines.selection.importance_based import ModelBasedImportanceEstimator, ImportanceCutoffSelector"
   ]
  },
  {
   "cell_type": "markdown",
   "id": "6b5da23f",
   "metadata": {},
   "source": [
    "## TabularAutoML"
   ]
  },
  {
   "cell_type": "code",
   "execution_count": 6,
   "id": "71ba7253",
   "metadata": {},
   "outputs": [
    {
     "name": "stdout",
     "output_type": "stream",
     "text": [
      "multilabel isn`t supported in lgb\n"
     ]
    }
   ],
   "source": [
    "task = Task('multilabel')"
   ]
  },
  {
   "cell_type": "code",
   "execution_count": null,
   "id": "14624311",
   "metadata": {},
   "outputs": [],
   "source": [
    "automl = TabularAutoML(\n",
    "    task = task, \n",
    "    timeout = 3600,\n",
    "    cpu_limit = 4,\n",
    "    reader_params = {'n_jobs': 4, 'cv': 3, 'random_state': 42},\n",
    "    general_params = {'use_algos': [['linear_l2', 'cb']]}\n",
    ")"
   ]
  },
  {
   "cell_type": "code",
   "execution_count": null,
   "id": "4b768794",
   "metadata": {
    "scrolled": true
   },
   "outputs": [],
   "source": [
    "oof_pred = automl.fit_predict(data, roles = roles, verbose = 2)"
   ]
  },
  {
   "cell_type": "code",
   "execution_count": 7,
   "id": "f432e058",
   "metadata": {},
   "outputs": [
    {
     "name": "stdout",
     "output_type": "stream",
     "text": [
      "multilabel isn`t supported in lgb\n"
     ]
    }
   ],
   "source": [
    "task = Task('multilabel', device='gpu')"
   ]
  },
  {
   "cell_type": "code",
   "execution_count": 8,
   "id": "a765c16f",
   "metadata": {},
   "outputs": [],
   "source": [
    "automl_gpu = TabularAutoMLGPU(\n",
    "    task = task, \n",
    "    timeout = 3600,\n",
    "    cpu_limit = 1,\n",
    "    reader_params = {'n_jobs': 1, 'cv': 3, 'random_state': 42},\n",
    "    general_params = {'use_algos': [['linear_l2', 'xgb']]}\n",
    ")"
   ]
  },
  {
   "cell_type": "code",
   "execution_count": 9,
   "id": "52f3b19f",
   "metadata": {},
   "outputs": [
    {
     "name": "stdout",
     "output_type": "stream",
     "text": [
      "[13:08:41] Stdout logging level is INFO2.\n",
      "[13:08:41] Copying TaskTimer may affect the parent PipelineTimer, so copy will create new unlimited TaskTimer\n",
      "[13:08:41] Task: multilabel\n",
      "\n",
      "[13:08:41] Start automl preset with listed constraints:\n",
      "[13:08:41] - time: 3600.00 seconds\n",
      "[13:08:41] - CPU: 1 cores\n",
      "[13:08:41] - memory: 16 GB\n",
      "\n",
      "[13:08:41] Train data shape: (14644, 22)\n",
      "[13:08:42] Feats was rejected during automatic roles guess: []\n",
      "[13:08:42] Layer \u001b[1m1\u001b[0m train process start. Time left 3599.36 secs\n",
      "[13:08:42] Start fitting \u001b[1mLvl_0_Pipe_0_Mod_0_LinearL2\u001b[0m ...\n",
      "[13:08:42] ===== Start working with \u001b[1mfold 0\u001b[0m for \u001b[1mLvl_0_Pipe_0_Mod_0_LinearL2\u001b[0m (orig) =====\n",
      "[13:08:48] ===== Start working with \u001b[1mfold 1\u001b[0m for \u001b[1mLvl_0_Pipe_0_Mod_0_LinearL2\u001b[0m (orig) =====\n",
      "[13:08:52] ===== Start working with \u001b[1mfold 2\u001b[0m for \u001b[1mLvl_0_Pipe_0_Mod_0_LinearL2\u001b[0m (orig) =====\n",
      "[13:08:59] Fitting \u001b[1mLvl_0_Pipe_0_Mod_0_LinearL2\u001b[0m finished. score = \u001b[1m-7.378517805325207\u001b[0m\n",
      "[13:08:59] \u001b[1mLvl_0_Pipe_0_Mod_0_LinearL2\u001b[0m fitting and predicting completed\n",
      "[13:08:59] Time left 3582.19 secs\n",
      "\n",
      "[13:09:20] \u001b[1mSelector_XGB\u001b[0m fitting and predicting completed\n",
      "[13:09:20] Start fitting \u001b[1mLvl_0_Pipe_1_Mod_0_XGB\u001b[0m ...\n",
      "[13:09:20] ===== Start working with \u001b[1mfold 0\u001b[0m for \u001b[1mLvl_0_Pipe_1_Mod_0_XGB\u001b[0m (orig) =====\n",
      "[13:09:51] ===== Start working with \u001b[1mfold 1\u001b[0m for \u001b[1mLvl_0_Pipe_1_Mod_0_XGB\u001b[0m (orig) =====\n",
      "[13:10:21] ===== Start working with \u001b[1mfold 2\u001b[0m for \u001b[1mLvl_0_Pipe_1_Mod_0_XGB\u001b[0m (orig) =====\n",
      "[13:10:52] Fitting \u001b[1mLvl_0_Pipe_1_Mod_0_XGB\u001b[0m finished. score = \u001b[1m-7.420287026742122\u001b[0m\n",
      "[13:10:52] \u001b[1mLvl_0_Pipe_1_Mod_0_XGB\u001b[0m fitting and predicting completed\n",
      "[13:10:52] Time left 3468.55 secs\n",
      "\n",
      "[13:10:52] \u001b[1mLayer 1 training completed.\u001b[0m\n",
      "\n",
      "[13:10:52] Blending: Optimization starts with equal weights and score -7.371828455236791\n",
      "[13:10:53] Blending, iter 0: score = -7.333828167120345, weights = [0.90983003 0.09016994]\n",
      "[13:10:53] Blending, iter 1: score = -7.333828167120345, weights = [0.90983003 0.09016994]\n",
      "[13:10:53] No score update. Terminated\n",
      "[13:10:53] \u001b[1mAutoml preset training completed in 131.69 seconds\u001b[0m\n",
      "\n",
      "[13:10:53] Model description:\n",
      "Final prediction for new objects (level 0) = \n",
      "\t 0.90983 * (3 averaged models Lvl_0_Pipe_0_Mod_0_LinearL2) +\n",
      "\t 0.09017 * (3 averaged models Lvl_0_Pipe_1_Mod_0_XGB) \n",
      "\n"
     ]
    }
   ],
   "source": [
    "oof_pred_gpu = automl_gpu.fit_predict(data, roles = roles, verbose = 2)"
   ]
  },
  {
   "cell_type": "code",
   "execution_count": 10,
   "id": "5ad158c4",
   "metadata": {},
   "outputs": [],
   "source": [
    "gpu_inf = automl_gpu.predict(data)"
   ]
  },
  {
   "cell_type": "code",
   "execution_count": 11,
   "id": "7748506a",
   "metadata": {},
   "outputs": [
    {
     "name": "stdout",
     "output_type": "stream",
     "text": [
      "multilabel isn`t supported in lgb\n",
      "[13:10:53] CatBoost uses as obj. MultiCrossEntropy.\n",
      "multilabel isn`t supported in lgb\n",
      "[13:10:53] CatBoost uses as obj. MultiCrossEntropy.\n",
      "multilabel isn`t supported in lgb\n",
      "[13:10:53] CatBoost uses as obj. MultiCrossEntropy.\n",
      "altering preselection ml algo\n",
      "multilabel isn`t supported in lgb\n",
      "[13:10:54] CatBoost uses as obj. MultiCrossEntropy.\n",
      "altering preselection empty algo\n",
      "multilabel isn`t supported in lgb\n",
      "[13:10:54] CatBoost uses as obj. MultiCrossEntropy.\n"
     ]
    }
   ],
   "source": [
    "automl_gpu.to_cpu()"
   ]
  },
  {
   "cell_type": "code",
   "execution_count": 12,
   "id": "bf8c7fd4",
   "metadata": {},
   "outputs": [],
   "source": [
    "cpu_inf = automl_gpu.predict(data)"
   ]
  },
  {
   "cell_type": "code",
   "execution_count": 13,
   "id": "027652e1",
   "metadata": {},
   "outputs": [],
   "source": [
    "from joblib import dump, load\n",
    "import time\n",
    "pickle_file = './gpu.joblib'"
   ]
  },
  {
   "cell_type": "code",
   "execution_count": 14,
   "id": "edc3395d",
   "metadata": {},
   "outputs": [
    {
     "name": "stdout",
     "output_type": "stream",
     "text": [
      "Raw dump duration: 0.431s\n"
     ]
    }
   ],
   "source": [
    "start = time.time()\n",
    "with open(pickle_file, 'wb') as f:\n",
    "    dump(automl_gpu, f)\n",
    "raw_dump_duration = time.time() - start\n",
    "print(\"Raw dump duration: %0.3fs\" % raw_dump_duration)"
   ]
  },
  {
   "cell_type": "code",
   "execution_count": 15,
   "id": "56a1a1b9",
   "metadata": {},
   "outputs": [
    {
     "name": "stdout",
     "output_type": "stream",
     "text": [
      "Raw load duration: 0.323s\n"
     ]
    }
   ],
   "source": [
    "\n",
    "start = time.time()\n",
    "with open(pickle_file, 'rb') as f:\n",
    "    model_inf = load(f)\n",
    "raw_load_duration = time.time() - start\n",
    "print(\"Raw load duration: %0.3fs\" % raw_load_duration)\n"
   ]
  },
  {
   "cell_type": "code",
   "execution_count": 16,
   "id": "08eb7a48",
   "metadata": {},
   "outputs": [
    {
     "data": {
      "text/plain": [
       "<lightautoml_gpu.pipelines.ml.nested_ml_pipe.NestedTabularMLPipeline at 0x7f409d28d1c0>"
      ]
     },
     "execution_count": 16,
     "metadata": {},
     "output_type": "execute_result"
    }
   ],
   "source": [
    "model_inf.levels[0][1]"
   ]
  },
  {
   "cell_type": "code",
   "execution_count": 17,
   "id": "8ad59ea7",
   "metadata": {},
   "outputs": [
    {
     "data": {
      "text/plain": [
       "{'features_pipeline': <lightautoml_gpu.pipelines.features.lgb_pipeline.LGBSimpleFeatures at 0x7f409d28dcd0>,\n",
       " '_fit_on_holdout': True,\n",
       " 'ml_algo': <lightautoml_gpu.ml_algo.boost_xgb.BoostXGB at 0x7f409dc899a0>,\n",
       " '_empty_algo': None,\n",
       " 'tuner': <lightautoml_gpu.ml_algo.tuning.base.DefaultTuner at 0x7f409dc890d0>,\n",
       " 'imp_estimator': <lightautoml_gpu.pipelines.selection.importance_based.ModelBasedImportanceEstimator at 0x7f409dc890a0>,\n",
       " '_selected_features': ['n_0007',\n",
       "  'n_0002',\n",
       "  'n_0001',\n",
       "  'n_0006',\n",
       "  'n_0005',\n",
       "  'n_0000',\n",
       "  'n_0004',\n",
       "  'n_0003'],\n",
       " '_in_features': ['n_0002',\n",
       "  'n_0000',\n",
       "  'n_0001',\n",
       "  'n_0003',\n",
       "  'n_0005',\n",
       "  'n_0007',\n",
       "  'n_0004',\n",
       "  'n_0006'],\n",
       " 'mapped_importances': n_0007    3.995434\n",
       " n_0002    3.209496\n",
       " n_0001    1.593635\n",
       " n_0006    1.534363\n",
       " n_0005    1.505244\n",
       " n_0000    1.492427\n",
       " n_0004    1.345162\n",
       " n_0003    1.319946\n",
       " dtype: float64,\n",
       " 'cutoff': 0}"
      ]
     },
     "execution_count": 17,
     "metadata": {},
     "output_type": "execute_result"
    }
   ],
   "source": [
    "model_inf.levels[0][1].pre_selection.__dict__"
   ]
  },
  {
   "cell_type": "code",
   "execution_count": 18,
   "id": "2ae4bbf1",
   "metadata": {},
   "outputs": [],
   "source": [
    "disk_pred = model_inf.predict(data)"
   ]
  },
  {
   "cell_type": "code",
   "execution_count": 19,
   "id": "8fdecea7",
   "metadata": {},
   "outputs": [
    {
     "data": {
      "text/plain": [
       "array([[ 0.04244947, -0.30057025,  0.04992199, ..., -1.3732182 ,\n",
       "         0.20542504, -0.30290425],\n",
       "       [-3.948897  , -3.861695  , -3.9606762 , ..., -3.6781282 ,\n",
       "        -4.013991  , -3.7936115 ],\n",
       "       [ 2.5633793 ,  2.2378361 ,  2.5335147 , ...,  1.8409401 ,\n",
       "         2.6185966 ,  2.4816575 ],\n",
       "       ...,\n",
       "       [ 0.6087324 ,  0.6681073 ,  0.5795779 , ...,  1.4014516 ,\n",
       "         0.50451803,  0.88195866],\n",
       "       [ 1.2875954 ,  1.3330125 ,  1.2504246 , ...,  1.8457365 ,\n",
       "         1.1895608 ,  1.5126821 ],\n",
       "       [ 0.95173085,  0.9725757 ,  0.9079424 , ...,  1.5832412 ,\n",
       "         0.8320736 ,  1.1360058 ]], dtype=float32)"
      ]
     },
     "execution_count": 19,
     "metadata": {},
     "output_type": "execute_result"
    }
   ],
   "source": [
    "disk_pred.data.T"
   ]
  },
  {
   "cell_type": "code",
   "execution_count": 20,
   "id": "23815756",
   "metadata": {},
   "outputs": [
    {
     "data": {
      "text/plain": [
       "array([[ 0.04244947, -0.30057025,  0.04992199, ..., -1.3732182 ,\n",
       "         0.20542504, -0.30290425],\n",
       "       [-3.948897  , -3.861695  , -3.9606762 , ..., -3.6781282 ,\n",
       "        -4.013991  , -3.7936115 ],\n",
       "       [ 2.5633793 ,  2.2378361 ,  2.5335147 , ...,  1.8409401 ,\n",
       "         2.6185966 ,  2.4816575 ],\n",
       "       ...,\n",
       "       [ 0.6087324 ,  0.6681073 ,  0.5795779 , ...,  1.4014516 ,\n",
       "         0.50451803,  0.88195866],\n",
       "       [ 1.2875954 ,  1.3330125 ,  1.2504246 , ...,  1.8457365 ,\n",
       "         1.1895608 ,  1.5126821 ],\n",
       "       [ 0.95173085,  0.9725757 ,  0.9079424 , ...,  1.5832412 ,\n",
       "         0.8320736 ,  1.1360058 ]], dtype=float32)"
      ]
     },
     "execution_count": 20,
     "metadata": {},
     "output_type": "execute_result"
    }
   ],
   "source": [
    "disk_pred.data.T"
   ]
  },
  {
   "cell_type": "code",
   "execution_count": 21,
   "id": "9565ca88",
   "metadata": {},
   "outputs": [
    {
     "name": "stdout",
     "output_type": "stream",
     "text": [
      "[[ 0.04244947 -0.30057025  0.04992199 ... -1.3732182   0.20542504\n",
      "  -0.30290425]\n",
      " [-3.948897   -3.861695   -3.9606762  ... -3.6781282  -4.013991\n",
      "  -3.7936115 ]\n",
      " [ 2.5633793   2.2378361   2.5335147  ...  1.8409401   2.6185966\n",
      "   2.4816575 ]\n",
      " ...\n",
      " [ 0.6087324   0.6681073   0.5795779  ...  1.4014516   0.50451803\n",
      "   0.88195866]\n",
      " [ 1.2875954   1.3330125   1.2504246  ...  1.8457365   1.1895608\n",
      "   1.5126821 ]\n",
      " [ 0.95173085  0.9725757   0.9079424  ...  1.5832412   0.8320736\n",
      "   1.1360058 ]]\n",
      "\n",
      "[[2.60331016e-02 2.68223695e-02 2.46186070e-02 ... 5.43985376e-03\n",
      "  3.22784334e-02 1.89001188e-02]\n",
      " [4.08446213e-04 5.33593935e-04 4.10844630e-04 ... 6.44752465e-04\n",
      "  3.72553157e-04 4.79673443e-04]\n",
      " [3.76659691e-01 3.26501429e-01 3.74851704e-01 ... 1.95570916e-01\n",
      "  3.91054511e-01 3.47043067e-01]\n",
      " ...\n",
      " [4.95836213e-02 6.57103807e-02 5.31986393e-02 ... 1.40887871e-01\n",
      "  4.38000150e-02 6.27396554e-02]\n",
      " [1.08087435e-01 1.31174549e-01 9.91543308e-02 ... 2.12086126e-01\n",
      "  9.15241092e-02 1.25935078e-01]\n",
      " [8.23267698e-02 8.71078968e-02 7.12091997e-02 ... 1.71126172e-01\n",
      "  5.63863367e-02 8.12159479e-02]]\n",
      "\n",
      "[[2.56895497e-02 2.68963408e-02 2.47781631e-02 ... 4.47518192e-03\n",
      "  2.85525676e-02 1.99894514e-02]\n",
      " [5.81315544e-04 7.81010545e-04 7.01759054e-05 ... 6.04696921e-04\n",
      "  5.14816609e-04 7.79711045e-05]\n",
      " [3.75700533e-01 3.27881753e-01 3.75547528e-01 ... 2.01740116e-01\n",
      "  3.92509431e-01 3.47238958e-01]\n",
      " ...\n",
      " [5.36703095e-02 7.11180717e-02 5.74003384e-02 ... 1.55841395e-01\n",
      "  4.32840846e-02 6.44050017e-02]\n",
      " [1.03959277e-01 1.30518645e-01 1.01862565e-01 ... 2.23978013e-01\n",
      "  8.92543942e-02 1.35949820e-01]\n",
      " [7.53951892e-02 7.93910176e-02 7.91040659e-02 ... 1.73008770e-01\n",
      "  5.14932647e-02 8.94967690e-02]]\n"
     ]
    }
   ],
   "source": [
    "print(cpu_inf.data.T)\n",
    "print()\n",
    "print(gpu_inf.data.T)\n",
    "print()\n",
    "print(oof_pred_gpu.data.T)\n",
    "#print()\n",
    "#print(oof_pred.data.T)\n",
    "#print()\n",
    "#print(disk_pred.data.T)"
   ]
  },
  {
   "cell_type": "code",
   "execution_count": 22,
   "id": "70394263",
   "metadata": {},
   "outputs": [
    {
     "name": "stderr",
     "output_type": "stream",
     "text": [
      "/home/rishat/miniconda3/envs/rapids-22.10/lib/python3.9/site-packages/distributed/comm/ucx.py:61: UserWarning: A CUDA context for device 0 already exists on process ID 9002. This is often the result of a CUDA-enabled library calling a CUDA runtime function before Dask-CUDA can spawn worker processes. Please make sure any such function calls don't happen at import time or in the global scope of a program.\n",
      "  warnings.warn(\n",
      "2023-01-01 13:11:35,803 - distributed.diskutils - INFO - Found stale lock file and directory '/tmp/dask-worker-space/worker-tnj24f20', purging\n",
      "2023-01-01 13:11:35,804 - distributed.preloading - INFO - Creating preload: dask_cuda.initialize\n",
      "2023-01-01 13:11:35,804 - distributed.preloading - INFO - Import preload module: dask_cuda.initialize\n"
     ]
    },
    {
     "name": "stdout",
     "output_type": "stream",
     "text": [
      "dashboard: http://127.0.0.1:8787/status\n"
     ]
    },
    {
     "data": {
      "text/plain": [
       "{'ucx://127.0.0.1:41409': None}"
      ]
     },
     "execution_count": 22,
     "metadata": {},
     "output_type": "execute_result"
    }
   ],
   "source": [
    "cluster = LocalCUDACluster(rmm_managed_memory=True, CUDA_VISIBLE_DEVICES=\"0\",\n",
    "                               protocol=\"ucx\", enable_nvlink=True,\n",
    "                               memory_limit=\"8GB\")\n",
    "print(\"dashboard:\", cluster.dashboard_link)\n",
    "client = Client(cluster)\n",
    "client.run(cudf.set_allocator, \"managed\")"
   ]
  },
  {
   "cell_type": "code",
   "execution_count": null,
   "id": "fbf94656",
   "metadata": {},
   "outputs": [
    {
     "name": "stdout",
     "output_type": "stream",
     "text": [
      "multilabel isn`t supported in lgb\n",
      "[13:11:36] CatBoost uses as obj. MultiCrossEntropy.\n",
      "[13:11:36] Stdout logging level is INFO2.\n",
      "[13:11:36] Task: multilabel\n",
      "\n",
      "[13:11:36] Start automl preset with listed constraints:\n",
      "[13:11:36] - time: 3600.00 seconds\n",
      "[13:11:36] - CPU: 1 cores\n",
      "[13:11:36] - memory: 16 GB\n",
      "\n",
      "[13:11:36] Train data shape: (14644, 22)\n",
      "[13:11:37] Feats was rejected during automatic roles guess: []\n",
      "[13:11:37] Layer \u001b[1m1\u001b[0m train process start. Time left 3599.26 secs\n",
      "[13:11:37] Start fitting \u001b[1mLvl_0_Pipe_0_Mod_0_LinearL2\u001b[0m ...\n",
      "[13:11:37] ===== Start working with \u001b[1mfold 0\u001b[0m for \u001b[1mLvl_0_Pipe_0_Mod_0_LinearL2\u001b[0m (orig) =====\n",
      "[13:11:41] ===== Start working with \u001b[1mfold 1\u001b[0m for \u001b[1mLvl_0_Pipe_0_Mod_0_LinearL2\u001b[0m (orig) =====\n",
      "[13:11:46] ===== Start working with \u001b[1mfold 2\u001b[0m for \u001b[1mLvl_0_Pipe_0_Mod_0_LinearL2\u001b[0m (orig) =====\n",
      "[13:11:54] Fitting \u001b[1mLvl_0_Pipe_0_Mod_0_LinearL2\u001b[0m finished. score = \u001b[1m-7.377121890901428\u001b[0m\n",
      "[13:11:54] \u001b[1mLvl_0_Pipe_0_Mod_0_LinearL2\u001b[0m fitting and predicting completed\n",
      "[13:11:54] Time left 3582.33 secs\n",
      "\n",
      "[13:12:15] \u001b[1mSelector_XGB\u001b[0m fitting and predicting completed\n",
      "[13:12:15] Start fitting \u001b[1mLvl_0_Pipe_1_Mod_0_XGB\u001b[0m ...\n",
      "[13:12:15] ===== Start working with \u001b[1mfold 0\u001b[0m for \u001b[1mLvl_0_Pipe_1_Mod_0_XGB\u001b[0m (orig) =====\n"
     ]
    },
    {
     "name": "stderr",
     "output_type": "stream",
     "text": [
      "/home/rishat/miniconda3/envs/rapids-22.10/lib/python3.9/site-packages/xgboost/dask.py:884: RuntimeWarning: coroutine 'Client._wait_for_workers' was never awaited\n",
      "  client.wait_for_workers(n_workers)\n",
      "/home/rishat/miniconda3/envs/rapids-22.10/lib/python3.9/site-packages/distributed/worker_state_machine.py:3649: FutureWarning: The `Worker.nthreads` attribute has been moved to `Worker.state.nthreads`\n",
      "  warnings.warn(\n",
      "[13:12:18] task [xgboost.dask-0]:ucx://127.0.0.1:41409 got new rank 0\n"
     ]
    }
   ],
   "source": [
    "task = Task('multilabel', device='mgpu')\n",
    "\n",
    "automl_mgpu = TabularAutoMLGPU(\n",
    "    task = task, \n",
    "    timeout = 3600,\n",
    "    cpu_limit = 1,\n",
    "    reader_params = {'n_jobs': 1, 'cv': 3, 'random_state': 42, 'npartitions': 2},\n",
    "    general_params = {'use_algos': [['xgb', 'linear_l2']]},\n",
    "    client = client\n",
    ")\n",
    "\n",
    "oof_pred_mgpu = automl_mgpu.fit_predict(data, roles = roles, verbose = 2)"
   ]
  },
  {
   "cell_type": "code",
   "execution_count": null,
   "id": "0c8a80f3",
   "metadata": {},
   "outputs": [],
   "source": [
    "automl_mgpu.to_cpu()"
   ]
  },
  {
   "cell_type": "code",
   "execution_count": null,
   "id": "0332f750",
   "metadata": {},
   "outputs": [],
   "source": [
    "mcpu_inf = automl_mgpu.predict(data)"
   ]
  },
  {
   "cell_type": "code",
   "execution_count": null,
   "id": "8b9af169",
   "metadata": {},
   "outputs": [],
   "source": [
    "print(cpu_inf.data.T)\n",
    "print()\n",
    "print(gpu_inf.data.T)\n",
    "print()\n",
    "print(oof_pred_gpu.data.T)\n",
    "print()\n",
    "#print(oof_pred.data.T)\n",
    "print()\n",
    "print(oof_pred_mgpu.data.T)\n",
    "print()\n",
    "print(mcpu_inf.data.T)"
   ]
  },
  {
   "cell_type": "code",
   "execution_count": null,
   "id": "507aa230",
   "metadata": {},
   "outputs": [],
   "source": [
    "from joblib import dump, load\n",
    "import time\n",
    "\n",
    "pickle_file = './mgpu.joblib'\n",
    "\n",
    "start = time.time()\n",
    "with open(pickle_file, 'wb') as f:\n",
    "    dump(automl_mgpu, f)\n",
    "raw_dump_duration = time.time() - start\n",
    "print(\"Raw dump duration: %0.3fs\" % raw_dump_duration)"
   ]
  },
  {
   "cell_type": "code",
   "execution_count": null,
   "id": "08a422d6",
   "metadata": {},
   "outputs": [],
   "source": []
  },
  {
   "cell_type": "code",
   "execution_count": null,
   "id": "e0f59447",
   "metadata": {},
   "outputs": [],
   "source": []
  }
 ],
 "metadata": {
  "kernelspec": {
   "display_name": "rapids-22.10",
   "language": "python",
   "name": "rapids-22.10"
  },
  "language_info": {
   "codemirror_mode": {
    "name": "ipython",
    "version": 3
   },
   "file_extension": ".py",
   "mimetype": "text/x-python",
   "name": "python",
   "nbconvert_exporter": "python",
   "pygments_lexer": "ipython3",
   "version": "3.9.13"
  }
 },
 "nbformat": 4,
 "nbformat_minor": 5
}

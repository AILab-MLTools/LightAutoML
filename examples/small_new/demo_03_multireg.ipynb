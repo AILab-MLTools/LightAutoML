{
 "cells": [
  {
   "cell_type": "code",
   "execution_count": 1,
   "id": "78930508",
   "metadata": {},
   "outputs": [],
   "source": [
    "import numpy as np\n",
    "import pandas as pd\n"
   ]
  },
  {
   "cell_type": "code",
   "execution_count": 2,
   "id": "bfd2caae",
   "metadata": {},
   "outputs": [],
   "source": [
    "from lightautoml.reader.gpu.cudf_reader import CudfReader\n",
    "from lightautoml.reader.base import PandasToPandasReader\n",
    "\n",
    "from lightautoml.transformers.base import SequentialTransformer\n",
    "\n",
    "from lightautoml.pipelines.utils import get_columns_by_role\n",
    "\n",
    "from lightautoml.transformers.gpu import numeric_gpu, categorical_gpu, datetime_gpu\n",
    "from lightautoml.transformers import numeric, categorical, datetime\n",
    "\n",
    "from lightautoml.tasks import Task\n",
    "from lightautoml.automl.presets.tabular_presets import TabularAutoML, TabularUtilizedAutoML\n",
    "\n",
    "import pandas as pd\n",
    "import time\n",
    "from sklearn.model_selection import train_test_split"
   ]
  },
  {
   "cell_type": "code",
   "execution_count": 3,
   "id": "4befdbcf",
   "metadata": {},
   "outputs": [],
   "source": [
    "data = pd.read_csv('../../data/small_new/multioutput/ENB2012_data.csv')\n",
    "\n",
    "tr_data, te_data = train_test_split(\n",
    "    data, \n",
    "    test_size=0.2,  \n",
    "    random_state=42\n",
    ")\n",
    "\n",
    "roles = {\n",
    "    \"target\": {'Y1', 'Y2'},\n",
    "}"
   ]
  },
  {
   "cell_type": "code",
   "execution_count": 4,
   "id": "e2f73a5f",
   "metadata": {},
   "outputs": [],
   "source": [
    "adv_roles = True"
   ]
  },
  {
   "cell_type": "code",
   "execution_count": 5,
   "id": "9a15c2c0",
   "metadata": {},
   "outputs": [],
   "source": [
    "# Imports from our package\n",
    "from lightautoml.automl.base import AutoML\n",
    "\n",
    "\n",
    "from lightautoml.pipelines.features.gpu.lgb_pipeline_gpu import LGBSimpleFeaturesGPU, LGBAdvancedPipelineGPU\n",
    "from lightautoml.pipelines.features.gpu.linear_pipeline_gpu import LinearFeaturesGPU\n",
    "\n",
    "from lightautoml.pipelines.features.lgb_pipeline import LGBSimpleFeatures, LGBAdvancedPipeline\n",
    "from lightautoml.pipelines.features.linear_pipeline import LinearFeatures\n",
    "\n",
    "\n",
    "from lightautoml.ml_algo.gpu.boost_cb_gpu import BoostCBGPU\n",
    "from lightautoml.ml_algo.gpu.boost_xgb_gpu import BoostXGB\n",
    "from lightautoml.ml_algo.gpu.linear_gpu import LinearLBFGSGPU\n",
    "\n",
    "from lightautoml.ml_algo.boost_cb import BoostCB\n",
    "from lightautoml.ml_algo.linear_sklearn import LinearLBFGS\n",
    "from lightautoml.ml_algo.linear_sklearn import LinearL1CD\n",
    "\n",
    "\n",
    "from lightautoml.pipelines.ml.base import MLPipeline\n",
    "from lightautoml.pipelines.selection.importance_based import ModelBasedImportanceEstimator, ImportanceCutoffSelector"
   ]
  },
  {
   "cell_type": "markdown",
   "id": "6b5da23f",
   "metadata": {},
   "source": [
    "## TabularAutoML"
   ]
  },
  {
   "cell_type": "code",
   "execution_count": 6,
   "id": "71ba7253",
   "metadata": {},
   "outputs": [
    {
     "name": "stdout",
     "output_type": "stream",
     "text": [
      "multi:reg isn`t supported in lgb\n"
     ]
    }
   ],
   "source": [
    "task = Task('multi:reg')"
   ]
  },
  {
   "cell_type": "code",
   "execution_count": 7,
   "id": "14624311",
   "metadata": {},
   "outputs": [],
   "source": [
    "automl = TabularAutoML(\n",
    "    task = task, \n",
    "    timeout = 3600,\n",
    "    cpu_limit = 4,\n",
    "    reader_params = {'n_jobs': 4, 'cv': 3, 'random_state': 42},\n",
    "    general_params = {'use_algos': [['linear_l2', 'cb']]}\n",
    ")"
   ]
  },
  {
   "cell_type": "code",
   "execution_count": 8,
   "id": "4b768794",
   "metadata": {},
   "outputs": [
    {
     "name": "stdout",
     "output_type": "stream",
     "text": [
      "[19:23:22] Stdout logging level is INFO2.\n",
      "[19:23:22] Copying TaskTimer may affect the parent PipelineTimer, so copy will create new unlimited TaskTimer\n",
      "[19:23:22] Task: multi:reg\n",
      "\n",
      "[19:23:22] Start automl preset with listed constraints:\n",
      "[19:23:22] - time: 3600.00 seconds\n",
      "[19:23:22] - CPU: 4 cores\n",
      "[19:23:22] - memory: 16 GB\n",
      "\n",
      "[19:23:22] \u001b[1mTrain data shape: (768, 10)\u001b[0m\n",
      "\n",
      "[19:23:25] Feats was rejected during automatic roles guess: []\n",
      "[19:23:25] Layer \u001b[1m1\u001b[0m train process start. Time left 3596.61 secs\n",
      "[19:23:25] Start fitting \u001b[1mLvl_0_Pipe_0_Mod_0_LinearL2\u001b[0m ...\n",
      "[19:23:25] ===== Start working with \u001b[1mfold 0\u001b[0m for \u001b[1mLvl_0_Pipe_0_Mod_0_LinearL2\u001b[0m =====\n",
      "[19:23:26] ===== Start working with \u001b[1mfold 1\u001b[0m for \u001b[1mLvl_0_Pipe_0_Mod_0_LinearL2\u001b[0m =====\n",
      "[19:23:26] ===== Start working with \u001b[1mfold 2\u001b[0m for \u001b[1mLvl_0_Pipe_0_Mod_0_LinearL2\u001b[0m =====\n",
      "[19:23:27] Fitting \u001b[1mLvl_0_Pipe_0_Mod_0_LinearL2\u001b[0m finished. score = \u001b[1m-2.099132272551457\u001b[0m\n",
      "[19:23:27] \u001b[1mLvl_0_Pipe_0_Mod_0_LinearL2\u001b[0m fitting and predicting completed\n",
      "[19:23:27] Time left 3594.88 secs\n",
      "\n"
     ]
    },
    {
     "name": "stderr",
     "output_type": "stream",
     "text": [
      "/home/rishat/miniconda3/envs/rapids-22.10/lib/python3.9/site-packages/catboost/core.py:1419: FutureWarning: iteritems is deprecated and will be removed in a future version. Use .items instead.\n",
      "  self._init_pool(data, label, cat_features, text_features, embedding_features, embedding_features_data, pairs, weight,\n",
      "/home/rishat/miniconda3/envs/rapids-22.10/lib/python3.9/site-packages/catboost/core.py:1419: FutureWarning: iteritems is deprecated and will be removed in a future version. Use .items instead.\n",
      "  self._init_pool(data, label, cat_features, text_features, embedding_features, embedding_features_data, pairs, weight,\n"
     ]
    },
    {
     "name": "stdout",
     "output_type": "stream",
     "text": [
      "[19:23:27] \u001b[1mSelector_CatBoost\u001b[0m fitting and predicting completed\n",
      "[19:23:27] Start fitting \u001b[1mLvl_0_Pipe_1_Mod_0_CatBoost\u001b[0m ...\n",
      "[19:23:27] ===== Start working with \u001b[1mfold 0\u001b[0m for \u001b[1mLvl_0_Pipe_1_Mod_0_CatBoost\u001b[0m =====\n"
     ]
    },
    {
     "name": "stderr",
     "output_type": "stream",
     "text": [
      "/home/rishat/miniconda3/envs/rapids-22.10/lib/python3.9/site-packages/catboost/core.py:1419: FutureWarning: iteritems is deprecated and will be removed in a future version. Use .items instead.\n",
      "  self._init_pool(data, label, cat_features, text_features, embedding_features, embedding_features_data, pairs, weight,\n",
      "/home/rishat/miniconda3/envs/rapids-22.10/lib/python3.9/site-packages/catboost/core.py:1419: FutureWarning: iteritems is deprecated and will be removed in a future version. Use .items instead.\n",
      "  self._init_pool(data, label, cat_features, text_features, embedding_features, embedding_features_data, pairs, weight,\n"
     ]
    },
    {
     "name": "stdout",
     "output_type": "stream",
     "text": [
      "[19:23:27] ===== Start working with \u001b[1mfold 1\u001b[0m for \u001b[1mLvl_0_Pipe_1_Mod_0_CatBoost\u001b[0m =====\n"
     ]
    },
    {
     "name": "stderr",
     "output_type": "stream",
     "text": [
      "/home/rishat/miniconda3/envs/rapids-22.10/lib/python3.9/site-packages/catboost/core.py:1419: FutureWarning: iteritems is deprecated and will be removed in a future version. Use .items instead.\n",
      "  self._init_pool(data, label, cat_features, text_features, embedding_features, embedding_features_data, pairs, weight,\n",
      "/home/rishat/miniconda3/envs/rapids-22.10/lib/python3.9/site-packages/catboost/core.py:1419: FutureWarning: iteritems is deprecated and will be removed in a future version. Use .items instead.\n",
      "  self._init_pool(data, label, cat_features, text_features, embedding_features, embedding_features_data, pairs, weight,\n"
     ]
    },
    {
     "name": "stdout",
     "output_type": "stream",
     "text": [
      "[19:23:28] ===== Start working with \u001b[1mfold 2\u001b[0m for \u001b[1mLvl_0_Pipe_1_Mod_0_CatBoost\u001b[0m =====\n"
     ]
    },
    {
     "name": "stderr",
     "output_type": "stream",
     "text": [
      "/home/rishat/miniconda3/envs/rapids-22.10/lib/python3.9/site-packages/catboost/core.py:1419: FutureWarning: iteritems is deprecated and will be removed in a future version. Use .items instead.\n",
      "  self._init_pool(data, label, cat_features, text_features, embedding_features, embedding_features_data, pairs, weight,\n",
      "/home/rishat/miniconda3/envs/rapids-22.10/lib/python3.9/site-packages/catboost/core.py:1419: FutureWarning: iteritems is deprecated and will be removed in a future version. Use .items instead.\n",
      "  self._init_pool(data, label, cat_features, text_features, embedding_features, embedding_features_data, pairs, weight,\n"
     ]
    },
    {
     "name": "stdout",
     "output_type": "stream",
     "text": [
      "[19:23:28] Fitting \u001b[1mLvl_0_Pipe_1_Mod_0_CatBoost\u001b[0m finished. score = \u001b[1m-0.3494882974897825\u001b[0m\n",
      "[19:23:28] \u001b[1mLvl_0_Pipe_1_Mod_0_CatBoost\u001b[0m fitting and predicting completed\n",
      "[19:23:28] Time left 3593.53 secs\n",
      "\n",
      "[19:23:28] \u001b[1mLayer 1 training completed.\u001b[0m\n",
      "\n",
      "[19:23:28] Blending: optimization starts with equal weights and score \u001b[1m-1.111971659796934\u001b[0m\n",
      "[19:23:28] Blending: iteration \u001b[1m0\u001b[0m: score = \u001b[1m-0.3494882974897825\u001b[0m, weights = \u001b[1m[0. 1.]\u001b[0m\n",
      "[19:23:28] Blending: iteration \u001b[1m1\u001b[0m: score = \u001b[1m-0.3494882974897825\u001b[0m, weights = \u001b[1m[0. 1.]\u001b[0m\n",
      "[19:23:28] Blending: no score update. Terminated\n",
      "\n",
      "[19:23:28] \u001b[1mAutoml preset training completed in 6.48 seconds\u001b[0m\n",
      "\n",
      "[19:23:28] Model description:\n",
      "Final prediction for new objects (level 0) = \n",
      "\t 1.00000 * (3 averaged models Lvl_0_Pipe_1_Mod_0_CatBoost) \n",
      "\n"
     ]
    }
   ],
   "source": [
    "oof_pred = automl.fit_predict(data, roles = roles, verbose = 2)"
   ]
  },
  {
   "cell_type": "code",
   "execution_count": 9,
   "id": "535dcbcf",
   "metadata": {},
   "outputs": [],
   "source": [
    "from lightautoml.automl.presets.gpu.tabular_gpu_presets import TabularAutoMLGPU, TabularUtilizedAutoMLGPU\n",
    "from lightautoml.tasks import Task"
   ]
  },
  {
   "cell_type": "code",
   "execution_count": 10,
   "id": "f432e058",
   "metadata": {},
   "outputs": [
    {
     "name": "stdout",
     "output_type": "stream",
     "text": [
      "[19:23:28] cuml doesn't support in general case mae and will not be used.\n",
      "multi:reg isn`t supported in lgb\n",
      "[19:23:31] CatBoost supports only MultiRMSE metric and loss for multi:reg task.\n"
     ]
    }
   ],
   "source": [
    "task = Task('multi:reg', device='gpu', metric='mse')"
   ]
  },
  {
   "cell_type": "code",
   "execution_count": 11,
   "id": "a765c16f",
   "metadata": {},
   "outputs": [],
   "source": [
    "automl_gpu = TabularAutoMLGPU(\n",
    "    task = task, \n",
    "    timeout = 3600,\n",
    "    cpu_limit = 1,\n",
    "    reader_params = {'n_jobs': 1, 'cv': 3, 'random_state': 42},\n",
    "    general_params = {'use_algos': [['xgb', 'linear_l2']]}\n",
    ")"
   ]
  },
  {
   "cell_type": "code",
   "execution_count": 12,
   "id": "52f3b19f",
   "metadata": {},
   "outputs": [
    {
     "name": "stdout",
     "output_type": "stream",
     "text": [
      "[19:23:31] Stdout logging level is INFO2.\n",
      "[19:23:31] Task: multi:reg\n",
      "\n",
      "[19:23:31] Start automl preset with listed constraints:\n",
      "[19:23:31] - time: 3600.00 seconds\n",
      "[19:23:31] - CPU: 1 cores\n",
      "[19:23:31] - memory: 16 GB\n",
      "\n",
      "[19:23:31] Train data shape: (768, 10)\n",
      "Feats was rejected during automatic roles guess: []\n",
      "[19:23:31] Layer \u001b[1m1\u001b[0m train process start. Time left 3599.54 secs\n",
      "[19:23:32] Start fitting Lvl_0_Pipe_0_Mod_0_LinearL2 ...\n",
      "[19:23:32] ===== Start working with \u001b[1mfold 0\u001b[0m for \u001b[1mLvl_0_Pipe_0_Mod_0_LinearL2\u001b[0m (orig) =====\n",
      "[19:23:34] Linear model: C = 1e-05 score = -85.52927641299286\n",
      "[19:23:34] Linear model: C = 5e-05 score = -78.13185760345395\n",
      "[19:23:34] Linear model: C = 0.0001 score = -70.28450565106685\n",
      "[19:23:34] Linear model: C = 0.0005 score = -34.993639695322564\n",
      "[19:23:34] Linear model: C = 0.001 score = -22.86946493781724\n",
      "[19:23:34] Linear model: C = 0.005 score = -13.618768692783274\n",
      "[19:23:35] Linear model: C = 0.01 score = -11.879041445478167\n",
      "[19:23:35] Linear model: C = 0.05 score = -9.709640934594725\n",
      "[19:23:35] Linear model: C = 0.1 score = -9.217241170682385\n",
      "[19:23:36] Linear model: C = 0.5 score = -8.53663020694878\n",
      "[19:23:36] Linear model: C = 1 score = -8.58776435466767\n",
      "[19:23:36] Linear model: C = 5 score = -8.356678452542297\n",
      "[19:23:37] Linear model: C = 10 score = -8.414813705987623\n",
      "[19:23:37] Linear model: C = 50 score = -8.416146875349078\n",
      "[19:23:37] ===== Start working with \u001b[1mfold 1\u001b[0m for \u001b[1mLvl_0_Pipe_0_Mod_0_LinearL2\u001b[0m (orig) =====\n",
      "[19:23:37] Linear model: C = 1e-05 score = -124.85214987569765\n",
      "[19:23:37] Linear model: C = 5e-05 score = -116.0064565447544\n",
      "[19:23:37] Linear model: C = 0.0001 score = -103.75495329327018\n",
      "[19:23:37] Linear model: C = 0.0005 score = -48.314904802533405\n",
      "[19:23:37] Linear model: C = 0.001 score = -33.65436003933644\n",
      "[19:23:38] Linear model: C = 0.005 score = -19.263157673705305\n",
      "[19:23:38] Linear model: C = 0.01 score = -17.685090950287098\n",
      "[19:23:38] Linear model: C = 0.05 score = -14.140752545468434\n",
      "[19:23:38] Linear model: C = 0.1 score = -12.95728663124295\n",
      "[19:23:39] Linear model: C = 0.5 score = -11.507401491579497\n",
      "[19:23:39] Linear model: C = 1 score = -10.741376729796926\n",
      "[19:23:39] Linear model: C = 5 score = -10.188981826212624\n",
      "[19:23:40] Linear model: C = 10 score = -9.99586010418573\n",
      "[19:23:40] Linear model: C = 50 score = -9.831413253526472\n",
      "[19:23:40] Linear model: C = 100 score = -9.752488616337448\n",
      "[19:23:41] Linear model: C = 500 score = -9.682718030505914\n",
      "[19:23:41] Linear model: C = 1000 score = -9.682442482383067\n",
      "[19:23:41] Linear model: C = 5000 score = -9.681607882724128\n",
      "[19:23:41] Linear model: C = 10000 score = -9.681610212797686\n",
      "[19:23:41] Linear model: C = 50000 score = -9.681586716099805\n",
      "[19:23:41] Linear model: C = 100000 score = -9.681567025917072\n",
      "[19:23:41] ===== Start working with \u001b[1mfold 2\u001b[0m for \u001b[1mLvl_0_Pipe_0_Mod_0_LinearL2\u001b[0m (orig) =====\n",
      "[19:23:41] Linear model: C = 1e-05 score = -102.24066593883272\n",
      "[19:23:41] Linear model: C = 5e-05 score = -93.83175340855274\n",
      "[19:23:41] Linear model: C = 0.0001 score = -83.20184298598701\n",
      "[19:23:41] Linear model: C = 0.0005 score = -40.718699797268926\n",
      "[19:23:41] Linear model: C = 0.001 score = -25.499368900539544\n",
      "[19:23:41] Linear model: C = 0.005 score = -12.489655475226703\n",
      "[19:23:42] Linear model: C = 0.01 score = -11.088036408946119\n",
      "[19:23:42] Linear model: C = 0.05 score = -8.952309754360988\n",
      "[19:23:42] Linear model: C = 0.1 score = -8.529709761317816\n",
      "[19:23:43] Linear model: C = 0.5 score = -8.375281178884055\n",
      "[19:23:43] Linear model: C = 1 score = -8.305040958655347\n",
      "[19:23:43] Linear model: C = 5 score = -8.699733392137016\n",
      "[19:23:43] Linear model: C = 10 score = -8.751996347093641\n",
      "[19:23:44] Lvl_0_Pipe_0_Mod_0_LinearL2 fitting and predicting completed\n",
      "[19:23:44] Time left 3587.34 secs\n",
      "\n",
      "[19:23:44] Start fitting Selector_XGB ...\n",
      "[19:23:44] ===== Start working with \u001b[1mfold 0\u001b[0m for \u001b[1mSelector_XGB\u001b[0m (orig) =====\n",
      "[19:23:48] Selector_XGB fitting and predicting completed\n",
      "[19:23:48] Start fitting Lvl_0_Pipe_1_Mod_0_XGB ...\n",
      "[19:23:48] ===== Start working with \u001b[1mfold 0\u001b[0m for \u001b[1mLvl_0_Pipe_1_Mod_0_XGB\u001b[0m (orig) =====\n",
      "[19:23:55] ===== Start working with \u001b[1mfold 1\u001b[0m for \u001b[1mLvl_0_Pipe_1_Mod_0_XGB\u001b[0m (orig) =====\n",
      "[19:24:02] ===== Start working with \u001b[1mfold 2\u001b[0m for \u001b[1mLvl_0_Pipe_1_Mod_0_XGB\u001b[0m (orig) =====\n",
      "[19:24:04] Lvl_0_Pipe_1_Mod_0_XGB fitting and predicting completed\n",
      "[19:24:04] Time left 3566.66 secs\n",
      "\n",
      "[19:24:04] \u001b[1mLayer 1 training completed.\u001b[0m\n",
      "\n",
      "[19:24:04] Blending: Optimization starts with equal weights and score -4.029901421439555\n",
      "[19:24:04] Blending, iter 0: score = -3.454453744562113, weights = [0.2608857  0.73911434]\n",
      "[19:24:04] Blending, iter 1: score = -3.454453744562113, weights = [0.2608857  0.73911434]\n",
      "[19:24:04] No score update. Terminated\n",
      "[19:24:04] \u001b[1mAutoml preset training completed in 33.53 seconds\u001b[0m\n",
      "\n",
      "[19:24:04] Model description:\n",
      "Final prediction for new objects (level 0) = \n",
      "\t 0.26089 * (3 averaged models Lvl_0_Pipe_0_Mod_0_LinearL2) +\n",
      "\t 0.73911 * (3 averaged models Lvl_0_Pipe_1_Mod_0_XGB) \n",
      "\n"
     ]
    }
   ],
   "source": [
    "oof_pred_gpu = automl_gpu.fit_predict(data, roles = roles, verbose = 2)"
   ]
  },
  {
   "cell_type": "code",
   "execution_count": 13,
   "id": "a3b98e43",
   "metadata": {},
   "outputs": [
    {
     "name": "stderr",
     "output_type": "stream",
     "text": [
      "/home/rishat/miniconda3/envs/rapids-22.10/lib/python3.9/site-packages/distributed/comm/ucx.py:61: UserWarning: A CUDA context for device 0 already exists on process ID 17162. This is often the result of a CUDA-enabled library calling a CUDA runtime function before Dask-CUDA can spawn worker processes. Please make sure any such function calls don't happen at import time or in the global scope of a program.\n",
      "  warnings.warn(\n",
      "2022-11-21 19:24:06,846 - distributed.preloading - INFO - Creating preload: dask_cuda.initialize\n",
      "2022-11-21 19:24:06,846 - distributed.preloading - INFO - Import preload module: dask_cuda.initialize\n"
     ]
    },
    {
     "name": "stdout",
     "output_type": "stream",
     "text": [
      "dashboard: http://127.0.0.1:8787/status\n"
     ]
    },
    {
     "data": {
      "text/plain": [
       "{'ucx://127.0.0.1:47045': None}"
      ]
     },
     "execution_count": 13,
     "metadata": {},
     "output_type": "execute_result"
    }
   ],
   "source": [
    "from dask.distributed import Client\n",
    "from dask_cuda import LocalCUDACluster\n",
    "import cudf\n",
    "\n",
    "cluster = LocalCUDACluster(rmm_managed_memory=True, CUDA_VISIBLE_DEVICES=\"0\",\n",
    "                               protocol=\"ucx\", enable_nvlink=True,\n",
    "                               memory_limit=\"8GB\")\n",
    "print(\"dashboard:\", cluster.dashboard_link)\n",
    "client = Client(cluster)\n",
    "client.run(cudf.set_allocator, \"managed\")"
   ]
  },
  {
   "cell_type": "code",
   "execution_count": 14,
   "id": "bf8c7fd4",
   "metadata": {},
   "outputs": [
    {
     "name": "stdout",
     "output_type": "stream",
     "text": [
      "[19:24:07] cuml doesn't support in general case mae and will not be used.\n",
      "multi:reg isn`t supported in lgb\n",
      "[19:24:07] CatBoost supports only MultiRMSE metric and loss for multi:reg task.\n"
     ]
    }
   ],
   "source": [
    "task = Task('multi:reg', device='mgpu')\n",
    "\n",
    "automl_mgpu = TabularAutoMLGPU(\n",
    "    task = task, \n",
    "    timeout = 3600,\n",
    "    cpu_limit = 1,\n",
    "    reader_params = {'n_jobs': 1, 'cv': 3, 'random_state': 42, 'npartitions': 2},\n",
    "    general_params = {'use_algos': [['xgb', 'linear_l2']]},\n",
    "    client = client\n",
    ")"
   ]
  },
  {
   "cell_type": "code",
   "execution_count": 15,
   "id": "8ff1a5b4",
   "metadata": {},
   "outputs": [
    {
     "name": "stdout",
     "output_type": "stream",
     "text": [
      "[19:24:07] Stdout logging level is INFO2.\n",
      "[19:24:07] Task: multi:reg\n",
      "\n",
      "[19:24:07] Start automl preset with listed constraints:\n",
      "[19:24:07] - time: 3600.00 seconds\n",
      "[19:24:07] - CPU: 1 cores\n",
      "[19:24:07] - memory: 16 GB\n",
      "\n",
      "[19:24:07] Train data shape: (768, 10)\n",
      "Feats was rejected during automatic roles guess: []\n",
      "[19:24:07] Layer \u001b[1m1\u001b[0m train process start. Time left 3599.69 secs\n",
      "[19:24:07] Start fitting Lvl_0_Pipe_0_Mod_0_LinearL2 ...\n",
      "[19:24:07] ===== Start working with \u001b[1mfold 0\u001b[0m for \u001b[1mLvl_0_Pipe_0_Mod_0_LinearL2\u001b[0m (orig) =====\n",
      "Score: -8.36949348449707\n",
      "Score: -7.84108829498291\n",
      "Score: -7.28300666809082\n",
      "Score: -4.609966278076172\n",
      "Score: -3.6016383171081543\n",
      "Score: -2.433990001678467\n",
      "Score: -2.266366958618164\n",
      "Score: -2.0033316612243652\n",
      "Score: -1.9246456623077393\n",
      "Score: -1.8615055084228516\n",
      "Score: -1.8663086891174316\n",
      "Score: -1.8519073724746704\n",
      "Score: -1.8572559356689453\n",
      "Score: -1.8469343185424805\n",
      "Score: -1.8473196029663086\n",
      "Score: -1.8474206924438477\n",
      "[19:24:11] ===== Start working with \u001b[1mfold 1\u001b[0m for \u001b[1mLvl_0_Pipe_0_Mod_0_LinearL2\u001b[0m (orig) =====\n",
      "Score: -9.237744331359863\n",
      "Score: -8.839086532592773\n",
      "Score: -8.315099716186523\n",
      "Score: -5.423040390014648\n",
      "Score: -4.283124923706055\n",
      "Score: -2.950183391571045\n",
      "Score: -2.7645459175109863\n",
      "Score: -2.3776776790618896\n",
      "Score: -2.235844850540161\n",
      "Score: -2.060275077819824\n",
      "Score: -2.006363868713379\n",
      "Score: -1.9623453617095947\n",
      "Score: -1.963441252708435\n",
      "Score: -1.9393310546875\n",
      "Score: -1.9422008991241455\n",
      "Score: -1.9427239894866943\n",
      "[19:24:14] ===== Start working with \u001b[1mfold 2\u001b[0m for \u001b[1mLvl_0_Pipe_0_Mod_0_LinearL2\u001b[0m (orig) =====\n",
      "Score: -8.870649337768555\n",
      "Score: -8.45020866394043\n",
      "Score: -7.936542510986328\n",
      "Score: -5.133656978607178\n",
      "Score: -3.9907336235046387\n",
      "Score: -2.4549484252929688\n",
      "Score: -2.3193917274475098\n",
      "Score: -2.072674036026001\n",
      "Score: -1.9695645570755005\n",
      "Score: -1.8213977813720703\n",
      "Score: -1.7816858291625977\n",
      "Score: -1.7981293201446533\n",
      "Score: -1.8002769947052002\n",
      "[19:24:17] Lvl_0_Pipe_0_Mod_0_LinearL2 fitting and predicting completed\n",
      "[19:24:17] Time left 3589.69 secs\n",
      "\n",
      "[19:24:17] Start fitting Selector_XGB ...\n",
      "[19:24:17] ===== Start working with \u001b[1mfold 0\u001b[0m for \u001b[1mSelector_XGB\u001b[0m (orig) =====\n"
     ]
    },
    {
     "name": "stderr",
     "output_type": "stream",
     "text": [
      "/home/rishat/miniconda3/envs/rapids-22.10/lib/python3.9/site-packages/xgboost/dask.py:884: RuntimeWarning: coroutine 'Client._wait_for_workers' was never awaited\n",
      "  client.wait_for_workers(n_workers)\n",
      "/home/rishat/miniconda3/envs/rapids-22.10/lib/python3.9/site-packages/distributed/worker_state_machine.py:3649: FutureWarning: The `Worker.nthreads` attribute has been moved to `Worker.state.nthreads`\n",
      "  warnings.warn(\n",
      "[19:24:21] task [xgboost.dask-0]:ucx://127.0.0.1:47045 got new rank 0\n"
     ]
    },
    {
     "name": "stdout",
     "output_type": "stream",
     "text": [
      "[19:24:26] Selector_XGB fitting and predicting completed\n",
      "[19:24:26] Start fitting Lvl_0_Pipe_1_Mod_0_XGB ...\n",
      "[19:24:26] ===== Start working with \u001b[1mfold 0\u001b[0m for \u001b[1mLvl_0_Pipe_1_Mod_0_XGB\u001b[0m (orig) =====\n"
     ]
    },
    {
     "name": "stderr",
     "output_type": "stream",
     "text": [
      "/home/rishat/miniconda3/envs/rapids-22.10/lib/python3.9/site-packages/xgboost/dask.py:884: RuntimeWarning: coroutine 'Client._wait_for_workers' was never awaited\n",
      "  client.wait_for_workers(n_workers)\n",
      "/home/rishat/miniconda3/envs/rapids-22.10/lib/python3.9/site-packages/distributed/worker_state_machine.py:3649: FutureWarning: The `Worker.nthreads` attribute has been moved to `Worker.state.nthreads`\n",
      "  warnings.warn(\n",
      "[19:24:26] task [xgboost.dask-0]:ucx://127.0.0.1:47045 got new rank 0\n"
     ]
    },
    {
     "name": "stdout",
     "output_type": "stream",
     "text": [
      "[19:24:34] ===== Start working with \u001b[1mfold 1\u001b[0m for \u001b[1mLvl_0_Pipe_1_Mod_0_XGB\u001b[0m (orig) =====\n"
     ]
    },
    {
     "name": "stderr",
     "output_type": "stream",
     "text": [
      "/home/rishat/miniconda3/envs/rapids-22.10/lib/python3.9/site-packages/xgboost/dask.py:884: RuntimeWarning: coroutine 'Client._wait_for_workers' was never awaited\n",
      "  client.wait_for_workers(n_workers)\n",
      "/home/rishat/miniconda3/envs/rapids-22.10/lib/python3.9/site-packages/distributed/worker_state_machine.py:3649: FutureWarning: The `Worker.nthreads` attribute has been moved to `Worker.state.nthreads`\n",
      "  warnings.warn(\n",
      "[19:24:34] task [xgboost.dask-0]:ucx://127.0.0.1:47045 got new rank 0\n"
     ]
    },
    {
     "name": "stdout",
     "output_type": "stream",
     "text": [
      "[19:24:41] ===== Start working with \u001b[1mfold 2\u001b[0m for \u001b[1mLvl_0_Pipe_1_Mod_0_XGB\u001b[0m (orig) =====\n"
     ]
    },
    {
     "name": "stderr",
     "output_type": "stream",
     "text": [
      "/home/rishat/miniconda3/envs/rapids-22.10/lib/python3.9/site-packages/xgboost/dask.py:884: RuntimeWarning: coroutine 'Client._wait_for_workers' was never awaited\n",
      "  client.wait_for_workers(n_workers)\n",
      "/home/rishat/miniconda3/envs/rapids-22.10/lib/python3.9/site-packages/distributed/worker_state_machine.py:3649: FutureWarning: The `Worker.nthreads` attribute has been moved to `Worker.state.nthreads`\n",
      "  warnings.warn(\n",
      "[19:24:41] task [xgboost.dask-0]:ucx://127.0.0.1:47045 got new rank 0\n"
     ]
    },
    {
     "name": "stdout",
     "output_type": "stream",
     "text": [
      "[19:24:44] Lvl_0_Pipe_1_Mod_0_XGB fitting and predicting completed\n",
      "[19:24:44] Time left 3563.08 secs\n",
      "\n",
      "[19:24:44] \u001b[1mLayer 1 training completed.\u001b[0m\n",
      "\n",
      "[19:24:44] Blending: Optimization starts with equal weights and score -1.2585754712174335\n",
      "[19:24:44] Blending, iter 0: score = -0.9896841814989845, weights = [0.07295163 0.9270484 ]\n",
      "[19:24:44] Blending, iter 1: score = -0.9896841814989845, weights = [0.07295163 0.9270484 ]\n",
      "[19:24:44] No score update. Terminated\n",
      "[19:24:44] \u001b[1mAutoml preset training completed in 37.05 seconds\u001b[0m\n",
      "\n",
      "[19:24:44] Model description:\n",
      "Final prediction for new objects (level 0) = \n",
      "\t 0.07295 * (3 averaged models Lvl_0_Pipe_0_Mod_0_LinearL2) +\n",
      "\t 0.92705 * (3 averaged models Lvl_0_Pipe_1_Mod_0_XGB) \n",
      "\n"
     ]
    }
   ],
   "source": [
    "oof_pred_mgpu = automl_mgpu.fit_predict(data, roles = roles, verbose = 2)"
   ]
  },
  {
   "cell_type": "code",
   "execution_count": null,
   "id": "0102f412",
   "metadata": {},
   "outputs": [],
   "source": []
  },
  {
   "cell_type": "code",
   "execution_count": 16,
   "id": "8404b6c4",
   "metadata": {},
   "outputs": [
    {
     "data": {
      "text/plain": [
       "array([[15.770237, 22.325417],\n",
       "       [15.915673, 21.209105],\n",
       "       [15.78574 , 21.430384],\n",
       "       ...,\n",
       "       [16.53469 , 16.482996],\n",
       "       [16.339546, 15.88877 ],\n",
       "       [16.176693, 16.432215]], dtype=float32)"
      ]
     },
     "execution_count": 16,
     "metadata": {},
     "output_type": "execute_result"
    }
   ],
   "source": [
    "oof_pred"
   ]
  },
  {
   "cell_type": "code",
   "execution_count": 17,
   "id": "cea16f1e",
   "metadata": {},
   "outputs": [
    {
     "data": {
      "text/plain": [
       "array([[16.073336, 24.212898],\n",
       "       [16.523046, 23.914293],\n",
       "       [15.753998, 21.375853],\n",
       "       ...,\n",
       "       [17.105915, 17.591034],\n",
       "       [17.053154, 17.280005],\n",
       "       [14.807506, 16.680828]], dtype=float32)"
      ]
     },
     "execution_count": 17,
     "metadata": {},
     "output_type": "execute_result"
    }
   ],
   "source": [
    "oof_pred_mgpu.data"
   ]
  },
  {
   "cell_type": "code",
   "execution_count": null,
   "id": "cc74a00f",
   "metadata": {},
   "outputs": [],
   "source": []
  },
  {
   "cell_type": "code",
   "execution_count": null,
   "id": "61f0ade9",
   "metadata": {},
   "outputs": [],
   "source": []
  }
 ],
 "metadata": {
  "kernelspec": {
   "display_name": "rapids-22.10",
   "language": "python",
   "name": "rapids-22.10"
  },
  "language_info": {
   "codemirror_mode": {
    "name": "ipython",
    "version": 3
   },
   "file_extension": ".py",
   "mimetype": "text/x-python",
   "name": "python",
   "nbconvert_exporter": "python",
   "pygments_lexer": "ipython3",
   "version": "3.9.13"
  }
 },
 "nbformat": 4,
 "nbformat_minor": 5
}

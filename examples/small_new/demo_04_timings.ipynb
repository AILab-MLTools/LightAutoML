{
 "cells": [
  {
   "cell_type": "code",
   "execution_count": 1,
   "id": "4117fdeb",
   "metadata": {},
   "outputs": [],
   "source": [
    "from time import perf_counter\n",
    "import numpy as np\n",
    "import pandas as pd\n",
    "import random\n",
    "from numba import jit\n",
    "import string\n",
    "\n",
    "from lightautoml.reader.gpu.seq_reader_gpu import DictToCudfSeqReader\n",
    "from lightautoml.reader.gpu.seq_reader_gpu import DictToDaskCudfSeqReader\n",
    "from lightautoml.reader.base import DictToPandasSeqReader\n",
    "from lightautoml.tasks import Task\n",
    "\n",
    "from lightautoml.transformers.seq import SeqNumCountsTransformer\n",
    "from lightautoml.transformers.seq import SeqStatisticsTransformer\n",
    "from lightautoml.transformers.seq import GetSeqTransformer\n",
    "from lightautoml.transformers.gpu.seq_gpu import SeqNumCountsTransformer_gpu\n",
    "from lightautoml.transformers.gpu.seq_gpu import SeqStatisticsTransformer_gpu\n",
    "from lightautoml.transformers.gpu.seq_gpu import GetSeqTransformer_gpu\n",
    "\n",
    "RANDS_CHARS = np.array(list(string.ascii_letters + string.digits),\n",
    "                       dtype=(np.str_, 1))\n",
    "\n",
    "@jit(nopython=True)\n",
    "def gen_cols(n_cols):\n",
    "    cols = [\"\"]*n_cols\n",
    "    for i in range(n_cols):\n",
    "        cols[i] = \"col_\" + str(i)\n",
    "    return cols\n",
    "\n",
    "def gen_string_data(n, n_str):\n",
    "    string_db = [\"algorithm\", \"analog\", \"app\", \"application\", \"array\",\n",
    "                 \"backup\", \"bandwidth\", \"binary\", \"bit\", \"byte\"]#,\n",
    "                 #\"bitmap\", \"blog\", \"bookmark\", \"boot\", \"broadband\",\n",
    "                 #\"browser\" , \"buffer\", \"bug\"]\n",
    "    inds = np.random.randint(0, len(string_db), (n, n_str))\n",
    "    output = np.empty(inds.shape, dtype=object)\n",
    "    for i in range(inds.shape[0]):\n",
    "        for j in range(inds.shape[1]):\n",
    "            output[i][j] = string_db[inds[i][j]]\n",
    "\n",
    "    return output\n",
    "\n",
    "def gen_data_single_target(n: int, n_num: int, n_cat: int, n_date: int,\n",
    "         n_str: str, max_n_cat: int, n_ids: int, max_ids: list = None,\n",
    "         cols: list = None):\n",
    "    n_cols = n_num+n_cat+n_str+n_date+n_ids\n",
    "    cols = gen_cols(n_cols) if cols is None else cols\n",
    "    data = np.random.random((n, n_num))*100-50\n",
    "\n",
    "    category_data = np.random.randint(0, np.random.randint(1,max_n_cat),\n",
    "                                      (n, n_cat))\n",
    "    string_data = gen_string_data(n, n_str)\n",
    "\n",
    "    string_data = np.reshape(string_data, (n, n_str))\n",
    "\n",
    "    date_data = np.random.randint(0, 1000, (n, n_date))\\\n",
    "                               .astype(np.dtype(\"timedelta64[D]\")) \\\n",
    "                              + np.datetime64(\"2018-01-01\")\n",
    "\n",
    "    if max_ids is None:\n",
    "        id_data = np.arange(n, dtype=int)[:, np.newaxis]\\\n",
    "                  *np.ones(n_ids, dtype=int)[:, np.newaxis].T\n",
    "        for elem in id_data.T:\n",
    "            np.random.shuffle(elem)\n",
    "    else:\n",
    "        id_data = np.array(np.random.random((n, n_ids))*max_ids//1,\n",
    "                           dtype=int)\n",
    "\n",
    "    data = pd.DataFrame(data, columns = cols[:n_num]).astype('f')\n",
    "    \n",
    "    ix = [(row, col) for row in range(data.shape[0]) \\\n",
    "                     for col in range(data.shape[1])]\n",
    "    #for row, col in random.sample(ix, int(round(.1*len(ix)))):\n",
    "    #    data.iat[row, col] = np.nan\n",
    "    \n",
    "    nn = len(data.columns)\n",
    "    for i in range(n_cat):\n",
    "        data[cols[nn+i]] = pd.Series(category_data[:,i]).astype('f')\n",
    "    nn = len(data.columns)\n",
    "    for i in range(n_str):\n",
    "        data[cols[nn+i]] = pd.Series(string_data[:,i]).astype(object)\n",
    "    nn = len(data.columns)\n",
    "    for i in range(n_date):\n",
    "        data[cols[nn+i]] = pd.Series(date_data[:,i])\n",
    "    nn = len(data.columns)\n",
    "    for i in range(n_ids):\n",
    "        data[cols[nn+i]] = pd.Series(id_data[:, i])\n",
    "\n",
    "    data['TARGET'] = pd.Series(np.random.randint(0, 5, n)).astype('i')\n",
    "\n",
    "    return 'TARGET', cols, data\n",
    "\n",
    "## Data preparation\n",
    "n, n_num, n_cat, n_date, n_str = 5000, 3, 2, 2, 1\n",
    "max_n_cat, n_ids = 10, 1\n",
    "cols_data1 = [\"a\",\"b\",\"c\",\"d\",\"e\",\"str1\",\n",
    "              \"date1\", \"date2\", \"data1_id\"]\n",
    "_, _, data1 = gen_data_single_target(n, n_num, n_cat, \n",
    "              n_date, n_str, max_n_cat, n_ids, cols=cols_data1)\n",
    "\n",
    "n, n_num, n_cat, n_date, n_str = 35000, 2, 2, 0, 0\n",
    "max_n_cat, n_ids = 5, 1\n",
    "cols_data2 = [\"h\",\"i\",\"j\",\"k\", \"data2_id\"]\n",
    "_, _, data2 = gen_data_single_target(n, n_num, n_cat, \n",
    "              n_date, n_str, max_n_cat, n_ids, cols=cols_data2)\n",
    "\n",
    "max_ids = [50, 100]\n",
    "n, n_num, n_cat, n_date = 100000, 4, 6, 2\n",
    "n_str, max_n_cat, n_ids = 2, 15, 2\n",
    "target, cols, train = gen_data_single_target(n, n_num, n_cat, \n",
    "                     n_date, n_str, max_n_cat, n_ids, max_ids)\n",
    "\n",
    "n = 200\n",
    "_, _, test = gen_data_single_target(n, n_num, n_cat, \n",
    "                     n_date, n_str, max_n_cat, n_ids, max_ids)\n",
    "seq_params = {\n",
    "         'data1':{'case': 'ids',\n",
    "                  'params': {},\n",
    "                  'scheme': {'to': 'plain', \n",
    "                             'from_id': 'data1_id',\n",
    "                             'to_id': 'col_14'},\n",
    "                 },\n",
    "         'data2':{'case': 'ids',\n",
    "                  'params': {},\n",
    "                  'scheme': {'to': 'plain',\n",
    "                             'from_id': 'data2_id',\n",
    "                             'to_id': 'col_15'},\n",
    "                      },\n",
    "          }\n",
    "seq_data = {'data1': data1[cols_data1],\n",
    "            'data2': data2[cols_data2]              \n",
    "           }\n",
    "X_train = {'plain':train , \n",
    "           'seq': seq_data\n",
    "          }\n",
    "X_test = {'plain':test , \n",
    "           'seq': seq_data\n",
    "          }\n",
    "name = 'data2'\n",
    "#\n",
    "#\n",
    "#\n",
    "#\n",
    "#DATA1 THROWS ERROR ONLY ON GPU\n",
    "#\n",
    "#\n",
    "#\n",
    "#\n",
    "## Data preparation finished\n",
    "\n",
    "task = Task('reg', metric='mae')\n",
    "task_gpu = Task('reg', metric='mae', device='gpu')\n",
    "task_mgpu = Task('reg', metric='mae', device='mgpu')\n",
    "roles={'target': target}\n",
    "\n",
    "reader = DictToPandasSeqReader(task=task, seq_params=seq_params)"
   ]
  },
  {
   "cell_type": "code",
   "execution_count": 2,
   "id": "b64444e8",
   "metadata": {
    "scrolled": true
   },
   "outputs": [
    {
     "name": "stderr",
     "output_type": "stream",
     "text": [
      "/home/rishat/miniconda3/envs/rapids-22.10/lib/python3.9/site-packages/lightautoml/transformers/categorical.py:1029: FutureWarning: The series.append method is deprecated and will be removed from pandas in a future version. Use pandas.concat instead.\n",
      "  cnts = cnts.append(Series([cnts.shape[0] + 1], index=[np.nan]))\n",
      "/home/rishat/miniconda3/envs/rapids-22.10/lib/python3.9/site-packages/lightautoml/transformers/categorical.py:1029: FutureWarning: The series.append method is deprecated and will be removed from pandas in a future version. Use pandas.concat instead.\n",
      "  cnts = cnts.append(Series([cnts.shape[0] + 1], index=[np.nan]))\n"
     ]
    }
   ],
   "source": [
    "res = reader.fit_read(X_train, roles=roles)"
   ]
  },
  {
   "cell_type": "code",
   "execution_count": 3,
   "id": "7415e2eb",
   "metadata": {},
   "outputs": [],
   "source": [
    "from lightautoml.reader.gpu.seq_gpu import IDSInd_gpu, TopInd_gpu\n",
    "import cudf"
   ]
  },
  {
   "cell_type": "code",
   "execution_count": 4,
   "id": "8aee9469",
   "metadata": {},
   "outputs": [],
   "source": [
    "name = 'data2'\n",
    "\n",
    "ids_gpu = IDSInd_gpu(\n",
    "    scheme = reader.seq_params[name].get(\"scheme\", None),\n",
    "    **reader.seq_params[name][\"params\"])"
   ]
  },
  {
   "cell_type": "code",
   "execution_count": 5,
   "id": "23f0b75b",
   "metadata": {},
   "outputs": [],
   "source": [
    "cpu_data = res.seq_data[name].data\n",
    "cudf_data = cudf.DataFrame.from_pandas(cpu_data, nan_as_null=False)\n",
    "cudf_train = cudf.DataFrame.from_pandas(train, nan_as_null=False)"
   ]
  },
  {
   "cell_type": "code",
   "execution_count": null,
   "id": "f998b280",
   "metadata": {},
   "outputs": [],
   "source": []
  },
  {
   "cell_type": "code",
   "execution_count": 6,
   "id": "0dc69ab2",
   "metadata": {},
   "outputs": [
    {
     "name": "stdout",
     "output_type": "stream",
     "text": [
      "CPU times: user 453 ms, sys: 15.5 ms, total: 469 ms\n",
      "Wall time: 468 ms\n"
     ]
    }
   ],
   "source": [
    "%%time\n",
    "\n",
    "ids = cudf_data.to_pandas().reset_index().groupby(ids_gpu.scheme['from_id'])['index'].apply(list).to_dict()"
   ]
  },
  {
   "cell_type": "code",
   "execution_count": 7,
   "id": "356b4777",
   "metadata": {},
   "outputs": [
    {
     "name": "stdout",
     "output_type": "stream",
     "text": [
      "CPU times: user 25.1 ms, sys: 1.52 ms, total: 26.6 ms\n",
      "Wall time: 30.7 ms\n"
     ]
    }
   ],
   "source": [
    "%%time\n",
    "\n",
    "r = cudf_data.reset_index().groupby(ids_gpu.scheme['from_id'])['index'].agg('collect').to_pandas().to_dict()"
   ]
  },
  {
   "cell_type": "code",
   "execution_count": 8,
   "id": "5546cee3",
   "metadata": {},
   "outputs": [],
   "source": [
    "#ids"
   ]
  },
  {
   "cell_type": "code",
   "execution_count": null,
   "id": "f5bb73bb",
   "metadata": {},
   "outputs": [],
   "source": []
  },
  {
   "cell_type": "code",
   "execution_count": 9,
   "id": "f34ae365",
   "metadata": {},
   "outputs": [
    {
     "name": "stdout",
     "output_type": "stream",
     "text": [
      "CPU times: user 8.32 ms, sys: 86 µs, total: 8.4 ms\n",
      "Wall time: 7.91 ms\n"
     ]
    }
   ],
   "source": [
    "%%time\n",
    "\n",
    "res1 = cudf_train[ids_gpu.scheme[\"to_id\"]].to_pandas().map(ids).values\n"
   ]
  },
  {
   "cell_type": "code",
   "execution_count": 10,
   "id": "97c61b34",
   "metadata": {},
   "outputs": [
    {
     "name": "stdout",
     "output_type": "stream",
     "text": [
      "CPU times: user 25.5 ms, sys: 4.47 ms, total: 30 ms\n",
      "Wall time: 29.8 ms\n"
     ]
    }
   ],
   "source": [
    "%%time\n",
    "\n",
    "res2 = cudf_train[ids_gpu.scheme[\"to_id\"]].map(ids).to_pandas().values"
   ]
  },
  {
   "cell_type": "code",
   "execution_count": 11,
   "id": "50399306",
   "metadata": {},
   "outputs": [
    {
     "data": {
      "text/plain": [
       "array([list([29245]), list([21300]), list([2227]), ..., list([27034]),\n",
       "       list([14610]), list([20756])], dtype=object)"
      ]
     },
     "execution_count": 11,
     "metadata": {},
     "output_type": "execute_result"
    }
   ],
   "source": [
    "res1"
   ]
  },
  {
   "cell_type": "code",
   "execution_count": 12,
   "id": "30a8920f",
   "metadata": {},
   "outputs": [
    {
     "data": {
      "text/plain": [
       "array([array([29245]), array([21300]), array([2227]), ..., array([27034]),\n",
       "       array([14610]), array([20756])], dtype=object)"
      ]
     },
     "execution_count": 12,
     "metadata": {},
     "output_type": "execute_result"
    }
   ],
   "source": [
    "res2"
   ]
  },
  {
   "cell_type": "code",
   "execution_count": 13,
   "id": "5b1ff0b1",
   "metadata": {},
   "outputs": [
    {
     "name": "stderr",
     "output_type": "stream",
     "text": [
      "/home/rishat/miniconda3/envs/rapids-22.10/lib/python3.9/site-packages/lightautoml/transformers/categorical.py:1029: FutureWarning: The series.append method is deprecated and will be removed from pandas in a future version. Use pandas.concat instead.\n",
      "  cnts = cnts.append(Series([cnts.shape[0] + 1], index=[np.nan]))\n",
      "/home/rishat/miniconda3/envs/rapids-22.10/lib/python3.9/site-packages/lightautoml/transformers/categorical.py:1029: FutureWarning: The series.append method is deprecated and will be removed from pandas in a future version. Use pandas.concat instead.\n",
      "  cnts = cnts.append(Series([cnts.shape[0] + 1], index=[np.nan]))\n",
      "/home/rishat/miniconda3/envs/rapids-22.10/lib/python3.9/site-packages/cudf/core/indexed_frame.py:3135: FutureWarning: The append method is deprecated and will be removed in a future version. Use cudf.concat instead.\n",
      "  warnings.warn(\n"
     ]
    },
    {
     "name": "stdout",
     "output_type": "stream",
     "text": [
      "Feats was rejected during automatic roles guess: ['col_0', 'col_1', 'col_14', 'col_15', 'col_2', 'col_3', 'col_4', 'col_5', 'col_6', 'col_8', 'col_9', 'col_10', 'col_11']\n"
     ]
    },
    {
     "name": "stderr",
     "output_type": "stream",
     "text": [
      "/home/rishat/miniconda3/envs/rapids-22.10/lib/python3.9/site-packages/cudf/core/indexed_frame.py:3135: FutureWarning: The append method is deprecated and will be removed in a future version. Use cudf.concat instead.\n",
      "  warnings.warn(\n"
     ]
    },
    {
     "name": "stdout",
     "output_type": "stream",
     "text": [
      "Feats was rejected during automatic roles guess: ['col_0', 'col_1', 'col_14', 'col_15', 'col_2', 'col_3', 'col_4', 'col_5', 'col_6', 'col_7', 'col_8', 'col_9', 'col_10', 'col_11']\n"
     ]
    }
   ],
   "source": [
    "task = Task('reg', metric='mae')\n",
    "task_gpu = Task('reg', metric='mae', device='gpu')\n",
    "task_mgpu = Task('reg', metric='mae', device='mgpu')\n",
    "roles={'target': target}\n",
    "\n",
    "reader = DictToPandasSeqReader(task=task, seq_params=seq_params)    \n",
    "res = reader.fit_read(X_train, roles=roles)\n",
    "reader_gpu = DictToCudfSeqReader(task=task_gpu,\n",
    "                                seq_params=seq_params, n_jobs=1)\n",
    "res_gpu = reader_gpu.fit_read(X_train, roles=roles)\n",
    "reader_mgpu = DictToDaskCudfSeqReader(task=task_mgpu, cv=3,\n",
    "               n_jobs = 1, npartitions=2, seq_params=seq_params)\n",
    "res_mgpu = reader_mgpu.fit_read(X_train, roles=roles)\n",
    "\n",
    "counts = SeqNumCountsTransformer()\n",
    "counts_gpu = SeqNumCountsTransformer_gpu()\n",
    "\n",
    "stats = SeqStatisticsTransformer()\n",
    "stats_gpu = SeqStatisticsTransformer_gpu()\n",
    "\n",
    "seq = GetSeqTransformer(name=name)\n",
    "seq_gpu = GetSeqTransformer_gpu(name=name)"
   ]
  },
  {
   "cell_type": "code",
   "execution_count": null,
   "id": "59d19490",
   "metadata": {},
   "outputs": [],
   "source": []
  },
  {
   "cell_type": "code",
   "execution_count": 14,
   "id": "1e6039ec",
   "metadata": {},
   "outputs": [
    {
     "name": "stdout",
     "output_type": "stream",
     "text": [
      "CPU times: user 164 ms, sys: 3.89 ms, total: 168 ms\n",
      "Wall time: 167 ms\n"
     ]
    }
   ],
   "source": [
    "%%time\n",
    "\n",
    "counts.fit(res.seq_data[name])\n",
    "out_counts = counts.transform(res.seq_data[name])"
   ]
  },
  {
   "cell_type": "code",
   "execution_count": 15,
   "id": "e0d9944d",
   "metadata": {},
   "outputs": [
    {
     "name": "stdout",
     "output_type": "stream",
     "text": [
      "CPU times: user 13.9 ms, sys: 376 µs, total: 14.3 ms\n",
      "Wall time: 12.9 ms\n"
     ]
    }
   ],
   "source": [
    "%%time\n",
    "\n",
    "counts_gpu.fit(res_gpu.seq_data[name])\n",
    "out_counts_gpu = counts_gpu.transform(res_gpu.seq_data[name])\n"
   ]
  },
  {
   "cell_type": "code",
   "execution_count": 16,
   "id": "32bc04fd",
   "metadata": {},
   "outputs": [
    {
     "name": "stdout",
     "output_type": "stream",
     "text": [
      "CPU times: user 631 ms, sys: 23.3 ms, total: 654 ms\n",
      "Wall time: 654 ms\n"
     ]
    }
   ],
   "source": [
    "%%time\n",
    "\n",
    "counts_gpu.fit(res_mgpu.seq_data[name])\n",
    "out_counts_mgpu = counts_gpu.transform(res_mgpu.seq_data[name])\n"
   ]
  },
  {
   "cell_type": "code",
   "execution_count": 17,
   "id": "55a6b4db",
   "metadata": {},
   "outputs": [
    {
     "name": "stdout",
     "output_type": "stream",
     "text": [
      "CPU times: user 265 ms, sys: 7.77 ms, total: 272 ms\n",
      "Wall time: 275 ms\n"
     ]
    }
   ],
   "source": [
    "%%time\n",
    "\n",
    "stats.fit(res.seq_data[name])\n",
    "out_stats = stats.transform(res.seq_data[name])"
   ]
  },
  {
   "cell_type": "code",
   "execution_count": 18,
   "id": "10403f25",
   "metadata": {
    "scrolled": true
   },
   "outputs": [
    {
     "name": "stdout",
     "output_type": "stream",
     "text": [
      "CPU times: user 177 ms, sys: 10.5 ms, total: 187 ms\n",
      "Wall time: 186 ms\n"
     ]
    }
   ],
   "source": [
    "%%time\n",
    "\n",
    "stats_gpu.fit(res_gpu.seq_data[name])\n",
    "out_stats_gpu = stats_gpu.transform(res_gpu.seq_data[name])"
   ]
  },
  {
   "cell_type": "code",
   "execution_count": 19,
   "id": "a08df1c5",
   "metadata": {},
   "outputs": [
    {
     "name": "stderr",
     "output_type": "stream",
     "text": [
      "/home/rishat/miniconda3/envs/rapids-22.10/lib/python3.9/site-packages/dask/dataframe/core.py:4948: UserWarning: New index has same name as existing, this is a no-op.\n",
      "  warnings.warn(\n",
      "/home/rishat/miniconda3/envs/rapids-22.10/lib/python3.9/site-packages/dask/dataframe/core.py:4948: UserWarning: New index has same name as existing, this is a no-op.\n",
      "  warnings.warn(\n"
     ]
    },
    {
     "name": "stdout",
     "output_type": "stream",
     "text": [
      "CPU times: user 693 ms, sys: 3.51 ms, total: 696 ms\n",
      "Wall time: 689 ms\n"
     ]
    }
   ],
   "source": [
    "%%time\n",
    "\n",
    "stats_gpu.fit(res_mgpu.seq_data[name])\n",
    "out_stats_mgpu = stats_gpu.transform(res_mgpu.seq_data[name])"
   ]
  },
  {
   "cell_type": "code",
   "execution_count": 20,
   "id": "ca45b985",
   "metadata": {},
   "outputs": [
    {
     "data": {
      "text/plain": [
       "True"
      ]
     },
     "execution_count": 20,
     "metadata": {},
     "output_type": "execute_result"
    }
   ],
   "source": [
    "np.allclose(out_stats_gpu.data.values_host, out_stats.data)"
   ]
  },
  {
   "cell_type": "code",
   "execution_count": 21,
   "id": "4a42d414",
   "metadata": {},
   "outputs": [
    {
     "name": "stdout",
     "output_type": "stream",
     "text": [
      "CPU times: user 3.73 ms, sys: 0 ns, total: 3.73 ms\n",
      "Wall time: 3.33 ms\n"
     ]
    }
   ],
   "source": [
    "%%time\n",
    "\n",
    "seq.fit(res)\n",
    "out_seq = seq.transform(res)"
   ]
  },
  {
   "cell_type": "code",
   "execution_count": 22,
   "id": "680a9970",
   "metadata": {},
   "outputs": [
    {
     "name": "stdout",
     "output_type": "stream",
     "text": [
      "CPU times: user 387 µs, sys: 8 µs, total: 395 µs\n",
      "Wall time: 399 µs\n"
     ]
    }
   ],
   "source": [
    "%%time\n",
    "\n",
    "seq_gpu.fit(res_gpu)\n",
    "out_seq_gpu = seq_gpu.transform(res_gpu)\n"
   ]
  },
  {
   "cell_type": "code",
   "execution_count": 23,
   "id": "64c41478",
   "metadata": {},
   "outputs": [
    {
     "name": "stdout",
     "output_type": "stream",
     "text": [
      "CPU times: user 356 ms, sys: 0 ns, total: 356 ms\n",
      "Wall time: 354 ms\n"
     ]
    },
    {
     "name": "stderr",
     "output_type": "stream",
     "text": [
      "/home/rishat/miniconda3/envs/rapids-22.10/lib/python3.9/site-packages/dask/dataframe/core.py:4948: UserWarning: New index has same name as existing, this is a no-op.\n",
      "  warnings.warn(\n"
     ]
    }
   ],
   "source": [
    "%%time\n",
    "\n",
    "seq_gpu.fit(res_mgpu)\n",
    "out_seq_mgpu = seq_gpu.transform(res_mgpu)"
   ]
  },
  {
   "cell_type": "code",
   "execution_count": null,
   "id": "bd199409",
   "metadata": {},
   "outputs": [],
   "source": []
  },
  {
   "cell_type": "code",
   "execution_count": null,
   "id": "a34feedd",
   "metadata": {},
   "outputs": [],
   "source": []
  },
  {
   "cell_type": "code",
   "execution_count": null,
   "id": "4eb26948",
   "metadata": {},
   "outputs": [],
   "source": []
  }
 ],
 "metadata": {
  "kernelspec": {
   "display_name": "rapids-22.10",
   "language": "python",
   "name": "rapids-22.10"
  },
  "language_info": {
   "codemirror_mode": {
    "name": "ipython",
    "version": 3
   },
   "file_extension": ".py",
   "mimetype": "text/x-python",
   "name": "python",
   "nbconvert_exporter": "python",
   "pygments_lexer": "ipython3",
   "version": "3.9.13"
  }
 },
 "nbformat": 4,
 "nbformat_minor": 5
}

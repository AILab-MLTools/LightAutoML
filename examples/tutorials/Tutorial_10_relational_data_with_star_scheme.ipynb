{
 "cells": [
  {
   "attachments": {},
   "cell_type": "markdown",
   "metadata": {
    "id": "CPBgLUU2Sb60"
   },
   "source": [
    "# Tutorial 10: Relational datasets (with star scheme)\n",
    "\n",
    "![](https://raw.githubusercontent.com/sb-ai-lab/LightAutoML/39cb56feae6766464d39dd2349480b97099d2535/imgs/LightAutoML_logo_big.png)\n",
    "\n"
   ]
  },
  {
   "attachments": {},
   "cell_type": "markdown",
   "metadata": {
    "id": "BX-Kl7zrTa-6"
   },
   "source": [
    "Official LightAutoML github repository is [here](https://github.com/sb-ai-lab/LightAutoML)"
   ]
  },
  {
   "attachments": {},
   "cell_type": "markdown",
   "metadata": {},
   "source": [
    "In this tutorial, we will look at how to use LightAutoML with relational datasets."
   ]
  },
  {
   "attachments": {},
   "cell_type": "markdown",
   "metadata": {
    "id": "0-fDuUjv1D_M"
   },
   "source": [
    "### Install LightAutoML"
   ]
  },
  {
   "cell_type": "code",
   "execution_count": 2,
   "metadata": {
    "id": "pvNMKLp31D_Q"
   },
   "outputs": [],
   "source": [
    "#! pip install -U lightautoml"
   ]
  },
  {
   "cell_type": "markdown",
   "metadata": {
    "id": "mkwewIav1D_R"
   },
   "source": [
    "### Import necessary libraries"
   ]
  },
  {
   "cell_type": "code",
   "execution_count": 3,
   "metadata": {
    "id": "2z04SsDQ1D_R"
   },
   "outputs": [],
   "source": [
    "# Standard python libraries\n",
    "import os\n",
    "from os.path import join as pjoin\n",
    "import time\n",
    "import pickle\n",
    "\n",
    "# ML and DS libraries\n",
    "import numpy as np\n",
    "import pandas as pd\n",
    "from sklearn.metrics import log_loss, roc_auc_score\n",
    "from sklearn.model_selection import train_test_split\n",
    "\n",
    "# Imports from lightautoml package\n",
    "from lightautoml.automl.base import AutoML\n",
    "from lightautoml.ml_algo.boost_lgbm import BoostLGBM\n",
    "\n",
    "from lightautoml.pipelines.features.lgb_pipeline import LGBSimpleFeatures\n",
    "from lightautoml.pipelines.ml.base import MLPipeline\n",
    "from lightautoml.reader.base import DictToPandasSeqReader\n",
    "from lightautoml.tasks import Task\n",
    "\n",
    "# Import Feature Generator Transformer\n",
    "from lightautoml.pipelines.features.generator_pipeline import FeatureGeneratorPipeline"
   ]
  },
  {
   "cell_type": "markdown",
   "metadata": {
    "id": "ZvilMhuZ1D_S"
   },
   "source": [
    "### Relational data\n",
    "\n",
    "Consider data that is a set of linked tables. Usually in this case there is a separate main table containing the objects identifiers and the corresponding values ​​of the target variable, as well as possibly the values ​​of other features (so called fact table). Other tables contain additional or auxiliary information, for example, records about all customer transactions (there can be an arbitrary number for a user with a specific identifier etc), the correspondence between the values ​​of one feature and the values ​​of another (the correspondence between an employee's department and his salary, for example), etc (so called dimension tables). However the organization of the data may differ from this scheme. To apply machine learning algorithms and LightAutoML, it is necessary to create a single dataset with all the features for each of the objects. For this we need to set the correspondence between the columns of the main and auxiliary tables for the correct aggregation of features. Such tables can form different schemas. \n",
    "\n",
    "In this example, we will consider one of the simplest and most common schemes for organizing tables - the so-called star scheme, in which there is one main table, and there are connections only between the main and auxiliary tables by specified columns, but not between separate auxiliary tables, not sequentially, etc. At the present moment, this is the only scheme supported in LightAutoML, support for more complex schemes is in development. Note that the connection between the main and each auxiliary table is carried out by a single key, but they may differ for different tables. Also, the columns for binding must be the primary key."
   ]
  },
  {
   "cell_type": "markdown",
   "metadata": {},
   "source": [
    "Consider an example of data with a star scheme organization. The dataset contains data on the sale of meals in the restaurant chain, consists of three tables: the main one containing information about completed orders (`train` and `test` parts), and two auxiliary tables containing information about restaurants (`fulfilment_center_info`) and available dishes (`meal_info`). The tables and the scheme of their organization are shown in the image below.\n",
    "\n",
    "![](https://raw.githubusercontent.com/sb-ai-lab/LightAutoML/master/imgs/Star_scheme_tables.png)"
   ]
  },
  {
   "cell_type": "markdown",
   "metadata": {},
   "source": [
    "Load the data:"
   ]
  },
  {
   "cell_type": "code",
   "execution_count": 4,
   "metadata": {},
   "outputs": [
    {
     "name": "stdout",
     "output_type": "stream",
     "text": [
      "ai92_value_77.csv\t    meal_info.csv\t     multioutput_data.csv\n",
      "avito1k_train.csv\t    multiclass_data.csv      rel_test.csv\n",
      "fulfilment_center_info.csv  multilabel_data.csv.zip  rel_train.csv.zip\n",
      "jobs_train.csv\t\t    multilabel_labels.csv    sampled_app_train.csv\n"
     ]
    }
   ],
   "source": [
    "!ls ../data"
   ]
  },
  {
   "cell_type": "code",
   "execution_count": 5,
   "metadata": {},
   "outputs": [],
   "source": [
    "fulfilment_center_info = pd.read_csv('../data/fulfilment_center_info.csv')\n",
    "meal_info = pd.read_csv('../data/meal_info.csv')\n",
    "train = pd.read_csv('../data/rel_train.csv.zip')"
   ]
  },
  {
   "cell_type": "markdown",
   "metadata": {},
   "source": [
    "For the convenience of further use, we will save datasets and paths to them in dictionaries."
   ]
  },
  {
   "cell_type": "code",
   "execution_count": 6,
   "metadata": {
    "id": "Xyvl-NBw1D_T"
   },
   "outputs": [],
   "source": [
    "data_dir = '../data'\n",
    "\n",
    "filepaths = {\n",
    "    'fulfilment_center_info': pjoin(data_dir, 'fulfilment_center_info.csv'),\n",
    "    'meal_info': pjoin(data_dir, 'meal_info.csv'),\n",
    "    'train': pjoin(data_dir, 'rel_train.csv.zip'),\n",
    "}"
   ]
  },
  {
   "cell_type": "code",
   "execution_count": 7,
   "metadata": {
    "id": "s7f86Sfy1D_T",
    "outputId": "e0893078-9c2c-4da8-c160-48bd0b5a8e42"
   },
   "outputs": [
    {
     "name": "stdout",
     "output_type": "stream",
     "text": [
      "fulfilment_center_info (77, 5)\n",
      "meal_info (51, 3)\n",
      "train (456548, 9)\n",
      "test (32573, 8)\n"
     ]
    }
   ],
   "source": [
    "dataframes = {}\n",
    "for df_name in filepaths.keys():\n",
    "    dataframes[df_name] = pd.read_csv(filepaths[df_name])\n",
    "    print(df_name, dataframes[df_name].shape)"
   ]
  },
  {
   "attachments": {},
   "cell_type": "markdown",
   "metadata": {
    "id": "O_9NMr7v1D_V"
   },
   "source": [
    "### Create sequential star scheme dictionary\n",
    "\n",
    "For further use of LightAutoML, you need to specify the data schema. It is necessary to specify secondary tables in the dictionary as the key to which the dictionary of the remaining parameters corresponds. The following parameters are specified in this dictionary:\n",
    "\n",
    "- `'case'` -  the type of column that plays the role of a key for binding. If `'ids'`, then the column is treated as a set of unique identifiers (ids), and if `'next_values'`, then it is treated as a set of timestamps.\n",
    "\n",
    "- `'params'` - dictionary of timestamp processing and interpretation parameters in case of linking by `'next_values'` type column. In case of `'ids'` it might be set empty.\n",
    "\n",
    "- `'scheme'` -  dictionary describing the scheme of relationship between the main and secondary table. Consists of the next keys: \n",
    "  - `'to'` - the name of the table, the relationship with which is being considered (in case of star scheme, the name `'plain'` should be specified here)\n",
    "  - `'from_id'` - the name of column for link in secondary table (from which the link exists); \n",
    "  - `'to_id'` - the name of column for link in main table (to which the link exists).\n",
    "\n",
    "In our example, columns for linkage are IDs. Now we set a dictionary of parameters for communication taking into account the table schema:"
   ]
  },
  {
   "cell_type": "code",
   "execution_count": 8,
   "metadata": {
    "id": "5H45rr9U1D_V"
   },
   "outputs": [],
   "source": [
    "seq_params = {\n",
    "   'fulfilment_center_info': {\n",
    "      'case': 'ids',\n",
    "      'params': {},\n",
    "      'scheme': {'to': 'plain', 'from_id': 'center_id', 'to_id': 'center_id'},\n",
    "   },\n",
    "   'meal_info':{\n",
    "      'case': 'ids',\n",
    "      'params': {},\n",
    "      'scheme': {'to': 'plain', 'from_id': 'meal_id', 'to_id': 'meal_id'},\n",
    "   },\n",
    "}"
   ]
  },
  {
   "cell_type": "markdown",
   "metadata": {
    "id": "MzsUHXMM1D_V"
   },
   "source": [
    "Create a dict with second-level tables."
   ]
  },
  {
   "cell_type": "code",
   "execution_count": 9,
   "metadata": {
    "id": "eji2Dqh31D_W"
   },
   "outputs": [],
   "source": [
    "seq_data = {\n",
    "       'fulfilment_center_info': dataframes['fulfilment_center_info'],\n",
    "       'meal_info': dataframes['meal_info']              \n",
    "}"
   ]
  },
  {
   "cell_type": "markdown",
   "metadata": {
    "id": "-Ml4JPEb1D_W"
   },
   "source": [
    "Define train and test data samples. They must be specified in the form of a dictionary, where the main dataset is specified by the `'plain'` key, and the dictionary with secondary tables is specified by the `'seq'` key (like the `seq_data` dictionary). Note that train and test data differ only in plain data, and train plain data must contain a column with the target variable."
   ]
  },
  {
   "cell_type": "code",
   "execution_count": 10,
   "metadata": {
    "id": "YG-qbhny1D_W"
   },
   "outputs": [],
   "source": [
    "X_train = {\n",
    "    'plain':dataframes['train'] , \n",
    "    'seq': seq_data\n",
    "}"
   ]
  },
  {
   "cell_type": "markdown",
   "metadata": {
    "id": "OVnjp0b91D_X"
   },
   "source": [
    "### Create Task snd Sequential Reader for the star scheme data"
   ]
  },
  {
   "cell_type": "markdown",
   "metadata": {},
   "source": [
    "To work with linked tables in LightAutoML, it is not possible to use tabular presets like `TabularAutoML`, so we have to set all the pipeline manually. You can see more details about creating custom pipelines in [this tutorial](https://github.com/sb-ai-lab/LightAutoML/blob/master/examples/tutorials/Tutorial_6_custom_pipeline.ipynb).\n",
    "\n",
    "First we will set task and roles for our objective. Than it is necessary to create `DictToPandasSeqReader` to process data in form of relational tables. It requires setting the task and sequential data parameters dict as arguments (more details about this reader you can see [here](https://github.com/sb-ai-lab/LightAutoML/blob/master/lightautoml/reader/base.py#L651)):"
   ]
  },
  {
   "cell_type": "code",
   "execution_count": 11,
   "metadata": {
    "id": "VwtC0Glv1D_X"
   },
   "outputs": [],
   "source": [
    "task = Task('reg', metric='mae')\n",
    "roles={'target': 'num_orders'}\n",
    "reader = DictToPandasSeqReader(task=task, seq_params=seq_params)"
   ]
  },
  {
   "cell_type": "markdown",
   "metadata": {
    "id": "Nd6UmdxP1D_Y"
   },
   "source": [
    "### Create Feature Generator Pipeline"
   ]
  },
  {
   "cell_type": "markdown",
   "metadata": {
    "id": "CgNWcG9p1D_Y"
   },
   "source": [
    "In addition to aggregating data from all related tables into one, LightAutoML has the ability to perform additional feature generation by using `FeatureGeneratorPipeline`. Features can be generated using various aggregations (taking the average, median, counting unique values, etc.), extracting date features (year, day, difference between dates, weekend or weekday, etc.), different transformations, as well as using so-called interesting values, that is, constructing features by objects with a certain value of a set of categorical features (conditional feature generation, like \"where\" clause). For aggregation and transformation LightAutoML uses according primitives from FeatureTools, detailed info is available [here](https://docs.featuretools.com/en/v0.16.0/automated_feature_engineering/primitives.html).\n",
    "\n",
    "Define interesing values parameters for feature generation in corresponding tables."
   ]
  },
  {
   "cell_type": "code",
   "execution_count": 12,
   "metadata": {
    "id": "QbaUFn481D_Y"
   },
   "outputs": [],
   "source": [
    "interesting_values = {\n",
    "    'fulfilment_center_info': {'center_type': ['TYPE_A', 'TYPE_C'], 'city_code': [647, 456, 703]},\n",
    "    'meal_info': {'category': ['Extras', 'Seafood'], 'cuisine': ['Continental', 'Thai']}\n",
    "}"
   ]
  },
  {
   "cell_type": "markdown",
   "metadata": {},
   "source": [
    "So, in our example we want to generate features by orders where `'center_type'` feature was equal to `'TYPE_A'` or `'TYPE_C'`, and `'city_code'` feature was equal to `647`, `456` or `703`, and similarly for features of ordered meal from `meal_info` table. "
   ]
  },
  {
   "attachments": {},
   "cell_type": "markdown",
   "metadata": {
    "id": "pMCZro_M1D_Z"
   },
   "source": [
    "Params of feature generator:\n",
    "- seq_params: secondary tables or sequence related parameters.\n",
    "- max_gener_features: maximum number of generated features.\n",
    "- max_depth: maximum allowed depth of features (that is, the number of consecutively applied aggregation and transformation primitives in a superposition to obtain features).\n",
    "- agg_primitives: list of aggregation primitives. By default it is \\[`\"entropy\"`, `\"count\"`, `\"mean\"`, `\"std\"`, `\"median\"`, `\"max\"`, `\"sum\"`, `\"num_unique\"`, `\"min\"`, `\"percent_true\"`\\].\n",
    "- trans_primitives: list of transform primitives. By default it is \\[`\"hour\"`, `\"month\"`, `\"weekday\"`, `\"is_weekend\"`, `\"day\"`, `\"time_since_previous\"`, `\"week\"`, `\"age\"`, `\"time_since\"`\\].\n",
    "- interesting_values: categorical values if the form of {'table_name': {'column': [values]}} for feature generation in corresponding slices (like the `interesting_values` dictionary above).\n",
    "- generate_interesting_values: whether generate feature in slices of unique categories or not.\n",
    "- per_top_categories: percent of most frequent categories for feature generation in corresponding slices. If number of unique values is less than 10, then the all values are be used. \n",
    "- sample_size: size of data to make generated feature selection on it.\n",
    "- n_jobs: number of processes to run in parallel\n",
    "\n",
    "More details about `FeatureGeneratorPipeline` are available FeatureGeneratorPipeline class in lightautoml/pipelines/features/generator_pipeline.py"
   ]
  },
  {
   "cell_type": "code",
   "execution_count": 13,
   "metadata": {
    "id": "--o_H81g1D_a"
   },
   "outputs": [],
   "source": [
    "generator = FeatureGeneratorPipeline(\n",
    "    seq_params,\n",
    "    max_gener_features=500,\n",
    "    interesting_values = interesting_values,\n",
    "    generate_interesting_values = True,\n",
    "    per_top_categories = 25,\n",
    "    sample_size = None,\n",
    "    n_jobs = 16\n",
    ")\n"
   ]
  },
  {
   "cell_type": "markdown",
   "metadata": {
    "id": "ZX1epfUW1D_a"
   },
   "source": [
    "### Create one-level ML pipeline for AutoML"
   ]
  },
  {
   "cell_type": "markdown",
   "metadata": {},
   "source": [
    "Next we will compose the entire pipeline. We will add the basic simplest transformations to the pipeline of feature generation (encoding categorical features, converting date features to appropriate format, defining numeric types, defining roles). The set of algorithms will consist only of LightGBM gradient boosting, and no pre-selection or post-selection of features will be used."
   ]
  },
  {
   "cell_type": "code",
   "execution_count": 14,
   "metadata": {
    "id": "rMj4jtC81D_a"
   },
   "outputs": [],
   "source": [
    "simpletransf = LGBSimpleFeatures()\n",
    "feats = generator.append(simpletransf)\n",
    "\n",
    "model = BoostLGBM()\n",
    "\n",
    "pipeline_lvl1 = MLPipeline([model], pre_selection=None, features_pipeline=feats,post_selection=None)"
   ]
  },
  {
   "cell_type": "markdown",
   "metadata": {},
   "source": [
    "Initialize `AutoML` instance:"
   ]
  },
  {
   "cell_type": "code",
   "execution_count": 15,
   "metadata": {
    "id": "XukxiL-01D_b"
   },
   "outputs": [],
   "source": [
    "automl = AutoML(reader, [[pipeline_lvl1],], skip_conn=False)"
   ]
  },
  {
   "cell_type": "markdown",
   "metadata": {
    "id": "GqErdXgS1D_b"
   },
   "source": [
    "### Train AutoML on loaded data"
   ]
  },
  {
   "cell_type": "markdown",
   "metadata": {},
   "source": [
    "Let's train our model on train data and look at the logs of training. For more detailed info we will set verbosity level to 3:"
   ]
  },
  {
   "cell_type": "code",
   "execution_count": 16,
   "metadata": {
    "id": "tccyQs8C1D_b",
    "outputId": "783cbd8a-8017-46d6-ef97-8671bcfa4ca5",
    "scrolled": true
   },
   "outputs": [
    {
     "name": "stdout",
     "output_type": "stream",
     "text": [
      "[15:43:23] Feats was rejected during automatic roles guess: []\n",
      "[15:43:24] Layer \u001b[1m1\u001b[0m train process start. Time left 9999999997.25 secs\n",
      "[15:43:24] This selector only for holdout training. fit_on_holout argument added just to be compatible\n",
      "[15:43:24] Copying TaskTimer may affect the parent PipelineTimer, so copy will create new unlimited TaskTimer\n"
     ]
    },
    {
     "name": "stderr",
     "output_type": "stream",
     "text": [
      "/home/rinchin/lama_gitlab/LightAutoML/.venv/lib/python3.8/site-packages/featuretools/synthesis/dfs.py:321: UnusedPrimitiveWarning: Some specified primitives were not used during DFS:\n",
      "  trans_primitives: ['age', 'day', 'hour', 'is_weekend', 'month', 'time_since', 'time_since_previous', 'week', 'weekday']\n",
      "  agg_primitives: ['percent_true']\n",
      "  where_primitives: ['entropy', 'num_unique', 'percent_true']\n",
      "This may be caused by a using a value of max_depth that is too small, not setting interesting values, or it may indicate no compatible columns for the primitive were found in the data. If the DFS call contained multiple instances of a primitive in the list above, none of them were used.\n",
      "  warnings.warn(warning_msg, UnusedPrimitiveWarning)\n"
     ]
    },
    {
     "name": "stdout",
     "output_type": "stream",
     "text": [
      "EntitySet scattered to 16 workers in 5 seconds\n",
      "[15:43:37] Training until validation scores don't improve for 100 rounds\n",
      "[15:43:41] [100]\tvalid's l1: 203.63\n",
      "[15:43:45] [200]\tvalid's l1: 203.659\n",
      "[15:43:46] Early stopping, best iteration is:\n",
      "[136]\tvalid's l1: 203.599\n",
      "[15:43:46] \u001b[1mLightGBM\u001b[0m fitting and predicting completed\n",
      "[15:43:46] Started iteration 0, chunk = ['ft__plain_center_id.MAX(fulfilment_center_info.op_area)', 'ft__plain_meal_id.COUNT(meal_info WHERE cuisine = Italian)', 'ft__plain_meal_id.COUNT(meal_info WHERE cuisine = Continental)', 'ft__plain_center_id.MAX(fulfilment_center_info.city_code WHERE center_type = TYPE_A)', 'ft__plain_center_id.MAX(fulfilment_center_info.op_area WHERE center_type = TYPE_B)', 'ft__plain_center_id.MEDIAN(fulfilment_center_info.op_area)', 'ft__plain_meal_id.COUNT(meal_info WHERE cuisine = Indian)', 'ft__plain_center_id.MEAN(fulfilment_center_info.op_area)', 'ft__plain_center_id.MAX(fulfilment_center_info.city_code)', 'ft__plain_center_id.MAX(fulfilment_center_info.op_area WHERE center_type = TYPE_A)', 'ft__plain_meal_id.COUNT(meal_info WHERE cuisine = Thai)', 'ft__plain_center_id.MAX(fulfilment_center_info.region_code WHERE center_type = TYPE_A)'], feats to check = ['ft__plain_center_id.MAX(fulfilment_center_info.op_area)', 'ft__plain_meal_id.COUNT(meal_info WHERE cuisine = Italian)', 'ft__plain_meal_id.COUNT(meal_info WHERE cuisine = Continental)', 'ft__plain_center_id.MAX(fulfilment_center_info.city_code WHERE center_type = TYPE_A)', 'ft__plain_center_id.MAX(fulfilment_center_info.op_area WHERE center_type = TYPE_B)', 'ft__plain_center_id.MEDIAN(fulfilment_center_info.op_area)', 'ft__plain_meal_id.COUNT(meal_info WHERE cuisine = Indian)', 'ft__plain_center_id.MEAN(fulfilment_center_info.op_area)', 'ft__plain_center_id.MAX(fulfilment_center_info.city_code)', 'ft__plain_center_id.MAX(fulfilment_center_info.op_area WHERE center_type = TYPE_A)', 'ft__plain_meal_id.COUNT(meal_info WHERE cuisine = Thai)', 'ft__plain_center_id.MAX(fulfilment_center_info.region_code WHERE center_type = TYPE_A)']\n",
      "[15:43:46] Features in SCI = ['ft__plain_center_id.MAX(fulfilment_center_info.city_code WHERE center_type = TYPE_A)', 'ft__plain_center_id.MAX(fulfilment_center_info.city_code)', 'ft__plain_center_id.MAX(fulfilment_center_info.op_area WHERE center_type = TYPE_A)', 'ft__plain_center_id.MAX(fulfilment_center_info.op_area WHERE center_type = TYPE_B)', 'ft__plain_center_id.MAX(fulfilment_center_info.op_area)', 'ft__plain_center_id.MAX(fulfilment_center_info.region_code WHERE center_type = TYPE_A)', 'ft__plain_center_id.MEAN(fulfilment_center_info.op_area)', 'ft__plain_center_id.MEDIAN(fulfilment_center_info.op_area)', 'ft__plain_meal_id.COUNT(meal_info WHERE cuisine = Continental)', 'ft__plain_meal_id.COUNT(meal_info WHERE cuisine = Indian)', 'ft__plain_meal_id.COUNT(meal_info WHERE cuisine = Italian)', 'ft__plain_meal_id.COUNT(meal_info WHERE cuisine = Thai)']\n",
      "[15:43:46] Training until validation scores don't improve for 100 rounds\n",
      "[15:43:49] [100]\tvalid's l1: 203.621\n",
      "[15:43:51] [200]\tvalid's l1: 203.662\n",
      "[15:43:52] Early stopping, best iteration is:\n",
      "[136]\tvalid's l1: 203.601\n",
      "[15:43:52] \u001b[1mLightGBM\u001b[0m fitting and predicting completed\n",
      "[15:43:52] Update best score from None to -203.60086232859302\n",
      "[15:43:52] Started iteration 1, chunk = ['ft__plain_center_id.MAX(fulfilment_center_info.op_area WHERE center_type = TYPE_C)', 'ft__plain_center_id.MAX(fulfilment_center_info.city_code WHERE center_type = TYPE_B)', 'ft__plain_center_id.MEAN(fulfilment_center_info.op_area WHERE center_type = TYPE_B)', 'ft__plain_center_id.MAX(fulfilment_center_info.city_code WHERE center_type = TYPE_C)', 'ft__plain_center_id.COUNT(fulfilment_center_info WHERE center_type = TYPE_C)', 'ft__plain_center_id.MEAN(fulfilment_center_info.op_area WHERE center_type = TYPE_A)', 'ft__plain_center_id.MAX(fulfilment_center_info.region_code)', 'ft__plain_center_id.MEAN(fulfilment_center_info.region_code WHERE center_type = TYPE_A)', 'ft__plain_center_id.MEAN(fulfilment_center_info.op_area WHERE center_type = TYPE_C)', 'ft__plain_center_id.MEDIAN(fulfilment_center_info.region_code WHERE center_type = TYPE_A)', 'ft__plain_center_id.MEAN(fulfilment_center_info.city_code WHERE center_type = TYPE_A)', 'ft__plain_center_id.MEDIAN(fulfilment_center_info.city_code)'], feats to check = ['ft__plain_center_id.MAX(fulfilment_center_info.op_area)', 'ft__plain_meal_id.COUNT(meal_info WHERE cuisine = Italian)', 'ft__plain_meal_id.COUNT(meal_info WHERE cuisine = Continental)', 'ft__plain_center_id.MAX(fulfilment_center_info.city_code WHERE center_type = TYPE_A)', 'ft__plain_center_id.MAX(fulfilment_center_info.op_area WHERE center_type = TYPE_B)', 'ft__plain_center_id.MEDIAN(fulfilment_center_info.op_area)', 'ft__plain_meal_id.COUNT(meal_info WHERE cuisine = Indian)', 'ft__plain_center_id.MEAN(fulfilment_center_info.op_area)', 'ft__plain_center_id.MAX(fulfilment_center_info.city_code)', 'ft__plain_center_id.MAX(fulfilment_center_info.op_area WHERE center_type = TYPE_A)', 'ft__plain_meal_id.COUNT(meal_info WHERE cuisine = Thai)', 'ft__plain_center_id.MAX(fulfilment_center_info.region_code WHERE center_type = TYPE_A)', 'ft__plain_center_id.MAX(fulfilment_center_info.op_area WHERE center_type = TYPE_C)', 'ft__plain_center_id.MAX(fulfilment_center_info.city_code WHERE center_type = TYPE_B)', 'ft__plain_center_id.MEAN(fulfilment_center_info.op_area WHERE center_type = TYPE_B)', 'ft__plain_center_id.MAX(fulfilment_center_info.city_code WHERE center_type = TYPE_C)', 'ft__plain_center_id.COUNT(fulfilment_center_info WHERE center_type = TYPE_C)', 'ft__plain_center_id.MEAN(fulfilment_center_info.op_area WHERE center_type = TYPE_A)', 'ft__plain_center_id.MAX(fulfilment_center_info.region_code)', 'ft__plain_center_id.MEAN(fulfilment_center_info.region_code WHERE center_type = TYPE_A)', 'ft__plain_center_id.MEAN(fulfilment_center_info.op_area WHERE center_type = TYPE_C)', 'ft__plain_center_id.MEDIAN(fulfilment_center_info.region_code WHERE center_type = TYPE_A)', 'ft__plain_center_id.MEAN(fulfilment_center_info.city_code WHERE center_type = TYPE_A)', 'ft__plain_center_id.MEDIAN(fulfilment_center_info.city_code)']\n",
      "[15:43:52] Features in SCI = ['ft__plain_center_id.COUNT(fulfilment_center_info WHERE center_type = TYPE_C)', 'ft__plain_center_id.MAX(fulfilment_center_info.city_code WHERE center_type = TYPE_A)', 'ft__plain_center_id.MAX(fulfilment_center_info.city_code WHERE center_type = TYPE_B)', 'ft__plain_center_id.MAX(fulfilment_center_info.city_code WHERE center_type = TYPE_C)', 'ft__plain_center_id.MAX(fulfilment_center_info.city_code)', 'ft__plain_center_id.MAX(fulfilment_center_info.op_area WHERE center_type = TYPE_A)', 'ft__plain_center_id.MAX(fulfilment_center_info.op_area WHERE center_type = TYPE_B)', 'ft__plain_center_id.MAX(fulfilment_center_info.op_area WHERE center_type = TYPE_C)', 'ft__plain_center_id.MAX(fulfilment_center_info.op_area)', 'ft__plain_center_id.MAX(fulfilment_center_info.region_code WHERE center_type = TYPE_A)', 'ft__plain_center_id.MAX(fulfilment_center_info.region_code)', 'ft__plain_center_id.MEAN(fulfilment_center_info.city_code WHERE center_type = TYPE_A)', 'ft__plain_center_id.MEAN(fulfilment_center_info.op_area WHERE center_type = TYPE_A)', 'ft__plain_center_id.MEAN(fulfilment_center_info.op_area WHERE center_type = TYPE_B)', 'ft__plain_center_id.MEAN(fulfilment_center_info.op_area WHERE center_type = TYPE_C)', 'ft__plain_center_id.MEAN(fulfilment_center_info.op_area)', 'ft__plain_center_id.MEAN(fulfilment_center_info.region_code WHERE center_type = TYPE_A)', 'ft__plain_center_id.MEDIAN(fulfilment_center_info.city_code)', 'ft__plain_center_id.MEDIAN(fulfilment_center_info.op_area)', 'ft__plain_center_id.MEDIAN(fulfilment_center_info.region_code WHERE center_type = TYPE_A)', 'ft__plain_meal_id.COUNT(meal_info WHERE cuisine = Continental)', 'ft__plain_meal_id.COUNT(meal_info WHERE cuisine = Indian)', 'ft__plain_meal_id.COUNT(meal_info WHERE cuisine = Italian)', 'ft__plain_meal_id.COUNT(meal_info WHERE cuisine = Thai)']\n",
      "[15:43:52] Training until validation scores don't improve for 100 rounds\n",
      "[15:43:55] [100]\tvalid's l1: 203.623\n",
      "[15:43:58] [200]\tvalid's l1: 203.665\n",
      "[15:44:00] Early stopping, best iteration is:\n",
      "[136]\tvalid's l1: 203.598\n",
      "[15:44:00] \u001b[1mLightGBM\u001b[0m fitting and predicting completed\n",
      "[15:44:00] Update best score from -203.60086232859302 to -203.59805639082148\n",
      "[15:44:00] Started iteration 2, chunk = ['ft__plain_center_id.MAX(fulfilment_center_info.region_code WHERE center_type = TYPE_C)', 'ft__plain_center_id.MAX(fulfilment_center_info.region_code WHERE center_type = TYPE_B)', 'ft__plain_center_id.MEAN(fulfilment_center_info.city_code)', 'ft__plain_center_id.MIN(fulfilment_center_info.city_code)', 'ft__plain_center_id.MEDIAN(fulfilment_center_info.city_code WHERE center_type = TYPE_A)', 'ft__plain_center_id.COUNT(fulfilment_center_info WHERE center_type = TYPE_A)', 'ft__plain_center_id.MEAN(fulfilment_center_info.city_code WHERE center_type = TYPE_C)', 'ft__plain_center_id.MEAN(fulfilment_center_info.city_code WHERE center_type = TYPE_B)', 'ft__plain_center_id.MEDIAN(fulfilment_center_info.op_area WHERE center_type = TYPE_A)', 'ft__plain_center_id.MEDIAN(fulfilment_center_info.region_code)', 'ft__plain_center_id.COUNT(fulfilment_center_info WHERE center_type = TYPE_B)', 'ft__plain_center_id.MEDIAN(fulfilment_center_info.op_area WHERE center_type = TYPE_B)'], feats to check = ['ft__plain_center_id.MAX(fulfilment_center_info.op_area)', 'ft__plain_meal_id.COUNT(meal_info WHERE cuisine = Italian)', 'ft__plain_meal_id.COUNT(meal_info WHERE cuisine = Continental)', 'ft__plain_center_id.MAX(fulfilment_center_info.city_code WHERE center_type = TYPE_A)', 'ft__plain_center_id.MAX(fulfilment_center_info.op_area WHERE center_type = TYPE_B)', 'ft__plain_center_id.MEDIAN(fulfilment_center_info.op_area)', 'ft__plain_meal_id.COUNT(meal_info WHERE cuisine = Indian)', 'ft__plain_center_id.MEAN(fulfilment_center_info.op_area)', 'ft__plain_center_id.MAX(fulfilment_center_info.city_code)', 'ft__plain_center_id.MAX(fulfilment_center_info.op_area WHERE center_type = TYPE_A)', 'ft__plain_meal_id.COUNT(meal_info WHERE cuisine = Thai)', 'ft__plain_center_id.MAX(fulfilment_center_info.region_code WHERE center_type = TYPE_A)', 'ft__plain_center_id.MAX(fulfilment_center_info.op_area WHERE center_type = TYPE_C)', 'ft__plain_center_id.MAX(fulfilment_center_info.city_code WHERE center_type = TYPE_B)', 'ft__plain_center_id.MEAN(fulfilment_center_info.op_area WHERE center_type = TYPE_B)', 'ft__plain_center_id.MAX(fulfilment_center_info.city_code WHERE center_type = TYPE_C)', 'ft__plain_center_id.COUNT(fulfilment_center_info WHERE center_type = TYPE_C)', 'ft__plain_center_id.MEAN(fulfilment_center_info.op_area WHERE center_type = TYPE_A)', 'ft__plain_center_id.MAX(fulfilment_center_info.region_code)', 'ft__plain_center_id.MEAN(fulfilment_center_info.region_code WHERE center_type = TYPE_A)', 'ft__plain_center_id.MEAN(fulfilment_center_info.op_area WHERE center_type = TYPE_C)', 'ft__plain_center_id.MEDIAN(fulfilment_center_info.region_code WHERE center_type = TYPE_A)', 'ft__plain_center_id.MEAN(fulfilment_center_info.city_code WHERE center_type = TYPE_A)', 'ft__plain_center_id.MEDIAN(fulfilment_center_info.city_code)', 'ft__plain_center_id.MAX(fulfilment_center_info.region_code WHERE center_type = TYPE_C)', 'ft__plain_center_id.MAX(fulfilment_center_info.region_code WHERE center_type = TYPE_B)', 'ft__plain_center_id.MEAN(fulfilment_center_info.city_code)', 'ft__plain_center_id.MIN(fulfilment_center_info.city_code)', 'ft__plain_center_id.MEDIAN(fulfilment_center_info.city_code WHERE center_type = TYPE_A)', 'ft__plain_center_id.COUNT(fulfilment_center_info WHERE center_type = TYPE_A)', 'ft__plain_center_id.MEAN(fulfilment_center_info.city_code WHERE center_type = TYPE_C)', 'ft__plain_center_id.MEAN(fulfilment_center_info.city_code WHERE center_type = TYPE_B)', 'ft__plain_center_id.MEDIAN(fulfilment_center_info.op_area WHERE center_type = TYPE_A)', 'ft__plain_center_id.MEDIAN(fulfilment_center_info.region_code)', 'ft__plain_center_id.COUNT(fulfilment_center_info WHERE center_type = TYPE_B)', 'ft__plain_center_id.MEDIAN(fulfilment_center_info.op_area WHERE center_type = TYPE_B)']\n",
      "[15:44:00] Features in SCI = ['ft__plain_center_id.COUNT(fulfilment_center_info WHERE center_type = TYPE_A)', 'ft__plain_center_id.COUNT(fulfilment_center_info WHERE center_type = TYPE_B)', 'ft__plain_center_id.COUNT(fulfilment_center_info WHERE center_type = TYPE_C)', 'ft__plain_center_id.MAX(fulfilment_center_info.city_code WHERE center_type = TYPE_A)', 'ft__plain_center_id.MAX(fulfilment_center_info.city_code WHERE center_type = TYPE_B)', 'ft__plain_center_id.MAX(fulfilment_center_info.city_code WHERE center_type = TYPE_C)', 'ft__plain_center_id.MAX(fulfilment_center_info.city_code)', 'ft__plain_center_id.MAX(fulfilment_center_info.op_area WHERE center_type = TYPE_A)', 'ft__plain_center_id.MAX(fulfilment_center_info.op_area WHERE center_type = TYPE_B)', 'ft__plain_center_id.MAX(fulfilment_center_info.op_area WHERE center_type = TYPE_C)', 'ft__plain_center_id.MAX(fulfilment_center_info.op_area)', 'ft__plain_center_id.MAX(fulfilment_center_info.region_code WHERE center_type = TYPE_A)', 'ft__plain_center_id.MAX(fulfilment_center_info.region_code WHERE center_type = TYPE_B)', 'ft__plain_center_id.MAX(fulfilment_center_info.region_code WHERE center_type = TYPE_C)', 'ft__plain_center_id.MAX(fulfilment_center_info.region_code)', 'ft__plain_center_id.MEAN(fulfilment_center_info.city_code WHERE center_type = TYPE_A)', 'ft__plain_center_id.MEAN(fulfilment_center_info.city_code WHERE center_type = TYPE_B)', 'ft__plain_center_id.MEAN(fulfilment_center_info.city_code WHERE center_type = TYPE_C)', 'ft__plain_center_id.MEAN(fulfilment_center_info.city_code)', 'ft__plain_center_id.MEAN(fulfilment_center_info.op_area WHERE center_type = TYPE_A)', 'ft__plain_center_id.MEAN(fulfilment_center_info.op_area WHERE center_type = TYPE_B)', 'ft__plain_center_id.MEAN(fulfilment_center_info.op_area WHERE center_type = TYPE_C)', 'ft__plain_center_id.MEAN(fulfilment_center_info.op_area)', 'ft__plain_center_id.MEAN(fulfilment_center_info.region_code WHERE center_type = TYPE_A)', 'ft__plain_center_id.MEDIAN(fulfilment_center_info.city_code WHERE center_type = TYPE_A)', 'ft__plain_center_id.MEDIAN(fulfilment_center_info.city_code)', 'ft__plain_center_id.MEDIAN(fulfilment_center_info.op_area WHERE center_type = TYPE_A)', 'ft__plain_center_id.MEDIAN(fulfilment_center_info.op_area WHERE center_type = TYPE_B)', 'ft__plain_center_id.MEDIAN(fulfilment_center_info.op_area)', 'ft__plain_center_id.MEDIAN(fulfilment_center_info.region_code WHERE center_type = TYPE_A)', 'ft__plain_center_id.MEDIAN(fulfilment_center_info.region_code)', 'ft__plain_center_id.MIN(fulfilment_center_info.city_code)', 'ft__plain_meal_id.COUNT(meal_info WHERE cuisine = Continental)', 'ft__plain_meal_id.COUNT(meal_info WHERE cuisine = Indian)', 'ft__plain_meal_id.COUNT(meal_info WHERE cuisine = Italian)', 'ft__plain_meal_id.COUNT(meal_info WHERE cuisine = Thai)']\n",
      "[15:44:00] Training until validation scores don't improve for 100 rounds\n",
      "[15:44:04] [100]\tvalid's l1: 203.628\n",
      "[15:44:07] [200]\tvalid's l1: 203.656\n",
      "[15:44:09] Early stopping, best iteration is:\n",
      "[136]\tvalid's l1: 203.599\n",
      "[15:44:09] \u001b[1mLightGBM\u001b[0m fitting and predicting completed\n",
      "[15:44:09] Started iteration 3, chunk = ['ft__plain_center_id.MEAN(fulfilment_center_info.region_code)', 'ft__plain_center_id.MIN(fulfilment_center_info.op_area WHERE center_type = TYPE_B)', 'ft__plain_center_id.MIN(fulfilment_center_info.op_area WHERE center_type = TYPE_A)', 'ft__plain_center_id.MEDIAN(fulfilment_center_info.city_code WHERE center_type = TYPE_B)', 'ft__plain_center_id.SUM(fulfilment_center_info.city_code)', 'ft__plain_center_id.MIN(fulfilment_center_info.city_code WHERE center_type = TYPE_B)', 'ft__plain_center_id.SUM(fulfilment_center_info.op_area WHERE center_type = TYPE_A)', 'ft__plain_center_id.MEAN(fulfilment_center_info.region_code WHERE center_type = TYPE_C)', 'ft__plain_center_id.MEDIAN(fulfilment_center_info.op_area WHERE center_type = TYPE_C)', 'ft__plain_center_id.SUM(fulfilment_center_info.city_code WHERE center_type = TYPE_A)', 'ft__plain_center_id.MIN(fulfilment_center_info.op_area)', 'ft__plain_center_id.MEDIAN(fulfilment_center_info.region_code WHERE center_type = TYPE_C)'], feats to check = ['ft__plain_center_id.MAX(fulfilment_center_info.op_area)', 'ft__plain_meal_id.COUNT(meal_info WHERE cuisine = Italian)', 'ft__plain_meal_id.COUNT(meal_info WHERE cuisine = Continental)', 'ft__plain_center_id.MAX(fulfilment_center_info.city_code WHERE center_type = TYPE_A)', 'ft__plain_center_id.MAX(fulfilment_center_info.op_area WHERE center_type = TYPE_B)', 'ft__plain_center_id.MEDIAN(fulfilment_center_info.op_area)', 'ft__plain_meal_id.COUNT(meal_info WHERE cuisine = Indian)', 'ft__plain_center_id.MEAN(fulfilment_center_info.op_area)', 'ft__plain_center_id.MAX(fulfilment_center_info.city_code)', 'ft__plain_center_id.MAX(fulfilment_center_info.op_area WHERE center_type = TYPE_A)', 'ft__plain_meal_id.COUNT(meal_info WHERE cuisine = Thai)', 'ft__plain_center_id.MAX(fulfilment_center_info.region_code WHERE center_type = TYPE_A)', 'ft__plain_center_id.MAX(fulfilment_center_info.op_area WHERE center_type = TYPE_C)', 'ft__plain_center_id.MAX(fulfilment_center_info.city_code WHERE center_type = TYPE_B)', 'ft__plain_center_id.MEAN(fulfilment_center_info.op_area WHERE center_type = TYPE_B)', 'ft__plain_center_id.MAX(fulfilment_center_info.city_code WHERE center_type = TYPE_C)', 'ft__plain_center_id.COUNT(fulfilment_center_info WHERE center_type = TYPE_C)', 'ft__plain_center_id.MEAN(fulfilment_center_info.op_area WHERE center_type = TYPE_A)', 'ft__plain_center_id.MAX(fulfilment_center_info.region_code)', 'ft__plain_center_id.MEAN(fulfilment_center_info.region_code WHERE center_type = TYPE_A)', 'ft__plain_center_id.MEAN(fulfilment_center_info.op_area WHERE center_type = TYPE_C)', 'ft__plain_center_id.MEDIAN(fulfilment_center_info.region_code WHERE center_type = TYPE_A)', 'ft__plain_center_id.MEAN(fulfilment_center_info.city_code WHERE center_type = TYPE_A)', 'ft__plain_center_id.MEDIAN(fulfilment_center_info.city_code)', 'ft__plain_center_id.MEAN(fulfilment_center_info.region_code)', 'ft__plain_center_id.MIN(fulfilment_center_info.op_area WHERE center_type = TYPE_B)', 'ft__plain_center_id.MIN(fulfilment_center_info.op_area WHERE center_type = TYPE_A)', 'ft__plain_center_id.MEDIAN(fulfilment_center_info.city_code WHERE center_type = TYPE_B)', 'ft__plain_center_id.SUM(fulfilment_center_info.city_code)', 'ft__plain_center_id.MIN(fulfilment_center_info.city_code WHERE center_type = TYPE_B)', 'ft__plain_center_id.SUM(fulfilment_center_info.op_area WHERE center_type = TYPE_A)', 'ft__plain_center_id.MEAN(fulfilment_center_info.region_code WHERE center_type = TYPE_C)', 'ft__plain_center_id.MEDIAN(fulfilment_center_info.op_area WHERE center_type = TYPE_C)', 'ft__plain_center_id.SUM(fulfilment_center_info.city_code WHERE center_type = TYPE_A)', 'ft__plain_center_id.MIN(fulfilment_center_info.op_area)', 'ft__plain_center_id.MEDIAN(fulfilment_center_info.region_code WHERE center_type = TYPE_C)']\n",
      "[15:44:09] Features in SCI = ['ft__plain_center_id.COUNT(fulfilment_center_info WHERE center_type = TYPE_C)', 'ft__plain_center_id.MAX(fulfilment_center_info.city_code WHERE center_type = TYPE_A)', 'ft__plain_center_id.MAX(fulfilment_center_info.city_code WHERE center_type = TYPE_B)', 'ft__plain_center_id.MAX(fulfilment_center_info.city_code WHERE center_type = TYPE_C)', 'ft__plain_center_id.MAX(fulfilment_center_info.city_code)', 'ft__plain_center_id.MAX(fulfilment_center_info.op_area WHERE center_type = TYPE_A)', 'ft__plain_center_id.MAX(fulfilment_center_info.op_area WHERE center_type = TYPE_B)', 'ft__plain_center_id.MAX(fulfilment_center_info.op_area WHERE center_type = TYPE_C)', 'ft__plain_center_id.MAX(fulfilment_center_info.op_area)', 'ft__plain_center_id.MAX(fulfilment_center_info.region_code WHERE center_type = TYPE_A)', 'ft__plain_center_id.MAX(fulfilment_center_info.region_code)', 'ft__plain_center_id.MEAN(fulfilment_center_info.city_code WHERE center_type = TYPE_A)', 'ft__plain_center_id.MEAN(fulfilment_center_info.op_area WHERE center_type = TYPE_A)', 'ft__plain_center_id.MEAN(fulfilment_center_info.op_area WHERE center_type = TYPE_B)', 'ft__plain_center_id.MEAN(fulfilment_center_info.op_area WHERE center_type = TYPE_C)', 'ft__plain_center_id.MEAN(fulfilment_center_info.op_area)', 'ft__plain_center_id.MEAN(fulfilment_center_info.region_code WHERE center_type = TYPE_A)', 'ft__plain_center_id.MEAN(fulfilment_center_info.region_code WHERE center_type = TYPE_C)', 'ft__plain_center_id.MEAN(fulfilment_center_info.region_code)', 'ft__plain_center_id.MEDIAN(fulfilment_center_info.city_code WHERE center_type = TYPE_B)', 'ft__plain_center_id.MEDIAN(fulfilment_center_info.city_code)', 'ft__plain_center_id.MEDIAN(fulfilment_center_info.op_area WHERE center_type = TYPE_C)', 'ft__plain_center_id.MEDIAN(fulfilment_center_info.op_area)', 'ft__plain_center_id.MEDIAN(fulfilment_center_info.region_code WHERE center_type = TYPE_A)', 'ft__plain_center_id.MEDIAN(fulfilment_center_info.region_code WHERE center_type = TYPE_C)', 'ft__plain_center_id.MIN(fulfilment_center_info.city_code WHERE center_type = TYPE_B)', 'ft__plain_center_id.MIN(fulfilment_center_info.op_area WHERE center_type = TYPE_A)', 'ft__plain_center_id.MIN(fulfilment_center_info.op_area WHERE center_type = TYPE_B)', 'ft__plain_center_id.MIN(fulfilment_center_info.op_area)', 'ft__plain_center_id.SUM(fulfilment_center_info.city_code WHERE center_type = TYPE_A)', 'ft__plain_center_id.SUM(fulfilment_center_info.city_code)', 'ft__plain_center_id.SUM(fulfilment_center_info.op_area WHERE center_type = TYPE_A)', 'ft__plain_meal_id.COUNT(meal_info WHERE cuisine = Continental)', 'ft__plain_meal_id.COUNT(meal_info WHERE cuisine = Indian)', 'ft__plain_meal_id.COUNT(meal_info WHERE cuisine = Italian)', 'ft__plain_meal_id.COUNT(meal_info WHERE cuisine = Thai)']\n",
      "[15:44:10] Training until validation scores don't improve for 100 rounds\n",
      "[15:44:13] [100]\tvalid's l1: 203.621\n",
      "[15:44:16] [200]\tvalid's l1: 203.655\n",
      "[15:44:17] Early stopping, best iteration is:\n",
      "[113]\tvalid's l1: 203.597\n",
      "[15:44:17] \u001b[1mLightGBM\u001b[0m fitting and predicting completed\n",
      "[15:44:17] Update best score from -203.59805639082148 to -203.59695080338875\n",
      "[15:44:17] Started iteration 4, chunk = ['ft__plain_center_id.MEAN(fulfilment_center_info.region_code WHERE center_type = TYPE_B)', 'ft__plain_center_id.MIN(fulfilment_center_info.region_code WHERE center_type = TYPE_C)', 'ft__plain_center_id.MIN(fulfilment_center_info.op_area WHERE center_type = TYPE_C)', 'ft__plain_center_id.MEDIAN(fulfilment_center_info.city_code WHERE center_type = TYPE_C)', 'ft__plain_center_id.MEDIAN(fulfilment_center_info.region_code WHERE center_type = TYPE_B)', 'ft__plain_center_id.MIN(fulfilment_center_info.region_code WHERE center_type = TYPE_B)', 'ft__plain_center_id.MIN(fulfilment_center_info.city_code WHERE center_type = TYPE_A)', 'ft__plain_center_id.SUM(fulfilment_center_info.city_code WHERE center_type = TYPE_C)', 'ft__plain_center_id.COUNT(fulfilment_center_info)', 'ft__plain_center_id.SUM(fulfilment_center_info.region_code)', 'ft__plain_center_id.SUM(fulfilment_center_info.region_code WHERE center_type = TYPE_C)', 'ft__plain_center_id.SUM(fulfilment_center_info.region_code WHERE center_type = TYPE_B)'], feats to check = ['ft__plain_center_id.MAX(fulfilment_center_info.op_area)', 'ft__plain_meal_id.COUNT(meal_info WHERE cuisine = Italian)', 'ft__plain_meal_id.COUNT(meal_info WHERE cuisine = Continental)', 'ft__plain_center_id.MAX(fulfilment_center_info.city_code WHERE center_type = TYPE_A)', 'ft__plain_center_id.MAX(fulfilment_center_info.op_area WHERE center_type = TYPE_B)', 'ft__plain_center_id.MEDIAN(fulfilment_center_info.op_area)', 'ft__plain_meal_id.COUNT(meal_info WHERE cuisine = Indian)', 'ft__plain_center_id.MEAN(fulfilment_center_info.op_area)', 'ft__plain_center_id.MAX(fulfilment_center_info.city_code)', 'ft__plain_center_id.MAX(fulfilment_center_info.op_area WHERE center_type = TYPE_A)', 'ft__plain_meal_id.COUNT(meal_info WHERE cuisine = Thai)', 'ft__plain_center_id.MAX(fulfilment_center_info.region_code WHERE center_type = TYPE_A)', 'ft__plain_center_id.MAX(fulfilment_center_info.op_area WHERE center_type = TYPE_C)', 'ft__plain_center_id.MAX(fulfilment_center_info.city_code WHERE center_type = TYPE_B)', 'ft__plain_center_id.MEAN(fulfilment_center_info.op_area WHERE center_type = TYPE_B)', 'ft__plain_center_id.MAX(fulfilment_center_info.city_code WHERE center_type = TYPE_C)', 'ft__plain_center_id.COUNT(fulfilment_center_info WHERE center_type = TYPE_C)', 'ft__plain_center_id.MEAN(fulfilment_center_info.op_area WHERE center_type = TYPE_A)', 'ft__plain_center_id.MAX(fulfilment_center_info.region_code)', 'ft__plain_center_id.MEAN(fulfilment_center_info.region_code WHERE center_type = TYPE_A)', 'ft__plain_center_id.MEAN(fulfilment_center_info.op_area WHERE center_type = TYPE_C)', 'ft__plain_center_id.MEDIAN(fulfilment_center_info.region_code WHERE center_type = TYPE_A)', 'ft__plain_center_id.MEAN(fulfilment_center_info.city_code WHERE center_type = TYPE_A)', 'ft__plain_center_id.MEDIAN(fulfilment_center_info.city_code)', 'ft__plain_center_id.MEAN(fulfilment_center_info.region_code)', 'ft__plain_center_id.MIN(fulfilment_center_info.op_area WHERE center_type = TYPE_B)', 'ft__plain_center_id.MIN(fulfilment_center_info.op_area WHERE center_type = TYPE_A)', 'ft__plain_center_id.MEDIAN(fulfilment_center_info.city_code WHERE center_type = TYPE_B)', 'ft__plain_center_id.SUM(fulfilment_center_info.city_code)', 'ft__plain_center_id.MIN(fulfilment_center_info.city_code WHERE center_type = TYPE_B)', 'ft__plain_center_id.SUM(fulfilment_center_info.op_area WHERE center_type = TYPE_A)', 'ft__plain_center_id.MEAN(fulfilment_center_info.region_code WHERE center_type = TYPE_C)', 'ft__plain_center_id.MEDIAN(fulfilment_center_info.op_area WHERE center_type = TYPE_C)', 'ft__plain_center_id.SUM(fulfilment_center_info.city_code WHERE center_type = TYPE_A)', 'ft__plain_center_id.MIN(fulfilment_center_info.op_area)', 'ft__plain_center_id.MEDIAN(fulfilment_center_info.region_code WHERE center_type = TYPE_C)', 'ft__plain_center_id.MEAN(fulfilment_center_info.region_code WHERE center_type = TYPE_B)', 'ft__plain_center_id.MIN(fulfilment_center_info.region_code WHERE center_type = TYPE_C)', 'ft__plain_center_id.MIN(fulfilment_center_info.op_area WHERE center_type = TYPE_C)', 'ft__plain_center_id.MEDIAN(fulfilment_center_info.city_code WHERE center_type = TYPE_C)', 'ft__plain_center_id.MEDIAN(fulfilment_center_info.region_code WHERE center_type = TYPE_B)', 'ft__plain_center_id.MIN(fulfilment_center_info.region_code WHERE center_type = TYPE_B)', 'ft__plain_center_id.MIN(fulfilment_center_info.city_code WHERE center_type = TYPE_A)', 'ft__plain_center_id.SUM(fulfilment_center_info.city_code WHERE center_type = TYPE_C)', 'ft__plain_center_id.COUNT(fulfilment_center_info)', 'ft__plain_center_id.SUM(fulfilment_center_info.region_code)', 'ft__plain_center_id.SUM(fulfilment_center_info.region_code WHERE center_type = TYPE_C)', 'ft__plain_center_id.SUM(fulfilment_center_info.region_code WHERE center_type = TYPE_B)']\n",
      "[15:44:17] Features in SCI = ['ft__plain_center_id.COUNT(fulfilment_center_info WHERE center_type = TYPE_C)', 'ft__plain_center_id.COUNT(fulfilment_center_info)', 'ft__plain_center_id.MAX(fulfilment_center_info.city_code WHERE center_type = TYPE_A)', 'ft__plain_center_id.MAX(fulfilment_center_info.city_code WHERE center_type = TYPE_B)', 'ft__plain_center_id.MAX(fulfilment_center_info.city_code WHERE center_type = TYPE_C)', 'ft__plain_center_id.MAX(fulfilment_center_info.city_code)', 'ft__plain_center_id.MAX(fulfilment_center_info.op_area WHERE center_type = TYPE_A)', 'ft__plain_center_id.MAX(fulfilment_center_info.op_area WHERE center_type = TYPE_B)', 'ft__plain_center_id.MAX(fulfilment_center_info.op_area WHERE center_type = TYPE_C)', 'ft__plain_center_id.MAX(fulfilment_center_info.op_area)', 'ft__plain_center_id.MAX(fulfilment_center_info.region_code WHERE center_type = TYPE_A)', 'ft__plain_center_id.MAX(fulfilment_center_info.region_code)', 'ft__plain_center_id.MEAN(fulfilment_center_info.city_code WHERE center_type = TYPE_A)', 'ft__plain_center_id.MEAN(fulfilment_center_info.op_area WHERE center_type = TYPE_A)', 'ft__plain_center_id.MEAN(fulfilment_center_info.op_area WHERE center_type = TYPE_B)', 'ft__plain_center_id.MEAN(fulfilment_center_info.op_area WHERE center_type = TYPE_C)', 'ft__plain_center_id.MEAN(fulfilment_center_info.op_area)', 'ft__plain_center_id.MEAN(fulfilment_center_info.region_code WHERE center_type = TYPE_A)', 'ft__plain_center_id.MEAN(fulfilment_center_info.region_code WHERE center_type = TYPE_B)', 'ft__plain_center_id.MEAN(fulfilment_center_info.region_code WHERE center_type = TYPE_C)', 'ft__plain_center_id.MEAN(fulfilment_center_info.region_code)', 'ft__plain_center_id.MEDIAN(fulfilment_center_info.city_code WHERE center_type = TYPE_B)', 'ft__plain_center_id.MEDIAN(fulfilment_center_info.city_code WHERE center_type = TYPE_C)', 'ft__plain_center_id.MEDIAN(fulfilment_center_info.city_code)', 'ft__plain_center_id.MEDIAN(fulfilment_center_info.op_area WHERE center_type = TYPE_C)', 'ft__plain_center_id.MEDIAN(fulfilment_center_info.op_area)', 'ft__plain_center_id.MEDIAN(fulfilment_center_info.region_code WHERE center_type = TYPE_A)', 'ft__plain_center_id.MEDIAN(fulfilment_center_info.region_code WHERE center_type = TYPE_B)', 'ft__plain_center_id.MEDIAN(fulfilment_center_info.region_code WHERE center_type = TYPE_C)', 'ft__plain_center_id.MIN(fulfilment_center_info.city_code WHERE center_type = TYPE_A)', 'ft__plain_center_id.MIN(fulfilment_center_info.city_code WHERE center_type = TYPE_B)', 'ft__plain_center_id.MIN(fulfilment_center_info.op_area WHERE center_type = TYPE_A)', 'ft__plain_center_id.MIN(fulfilment_center_info.op_area WHERE center_type = TYPE_B)', 'ft__plain_center_id.MIN(fulfilment_center_info.op_area WHERE center_type = TYPE_C)', 'ft__plain_center_id.MIN(fulfilment_center_info.op_area)', 'ft__plain_center_id.MIN(fulfilment_center_info.region_code WHERE center_type = TYPE_B)', 'ft__plain_center_id.MIN(fulfilment_center_info.region_code WHERE center_type = TYPE_C)', 'ft__plain_center_id.SUM(fulfilment_center_info.city_code WHERE center_type = TYPE_A)', 'ft__plain_center_id.SUM(fulfilment_center_info.city_code WHERE center_type = TYPE_C)', 'ft__plain_center_id.SUM(fulfilment_center_info.city_code)', 'ft__plain_center_id.SUM(fulfilment_center_info.op_area WHERE center_type = TYPE_A)', 'ft__plain_center_id.SUM(fulfilment_center_info.region_code WHERE center_type = TYPE_B)', 'ft__plain_center_id.SUM(fulfilment_center_info.region_code WHERE center_type = TYPE_C)', 'ft__plain_center_id.SUM(fulfilment_center_info.region_code)', 'ft__plain_meal_id.COUNT(meal_info WHERE cuisine = Continental)', 'ft__plain_meal_id.COUNT(meal_info WHERE cuisine = Indian)', 'ft__plain_meal_id.COUNT(meal_info WHERE cuisine = Italian)', 'ft__plain_meal_id.COUNT(meal_info WHERE cuisine = Thai)']\n",
      "[15:44:18] Training until validation scores don't improve for 100 rounds\n",
      "[15:44:21] [100]\tvalid's l1: 203.639\n",
      "[15:44:25] [200]\tvalid's l1: 203.666\n",
      "[15:44:26] Early stopping, best iteration is:\n",
      "[136]\tvalid's l1: 203.597\n",
      "[15:44:26] \u001b[1mLightGBM\u001b[0m fitting and predicting completed\n",
      "[15:44:26] Started iteration 5, chunk = ['ft__plain_center_id.SUM(fulfilment_center_info.region_code WHERE center_type = TYPE_A)', 'ft__plain_center_id.SUM(fulfilment_center_info.op_area)', 'ft__plain_center_id.SUM(fulfilment_center_info.op_area WHERE center_type = TYPE_C)', 'ft__plain_center_id.SUM(fulfilment_center_info.op_area WHERE center_type = TYPE_B)', 'ft__plain_meal_id.COUNT(meal_info)', 'ft__plain_meal_id.ENTROPY(meal_info.cuisine)', 'ft__plain_center_id.ENTROPY(fulfilment_center_info.center_type)', 'ft__plain_center_id.STD(fulfilment_center_info.region_code WHERE center_type = TYPE_B)', 'ft__plain_center_id.SUM(fulfilment_center_info.city_code WHERE center_type = TYPE_B)', 'ft__plain_center_id.STD(fulfilment_center_info.city_code)', 'ft__plain_center_id.MIN(fulfilment_center_info.region_code WHERE center_type = TYPE_A)', 'ft__plain_center_id.MIN(fulfilment_center_info.region_code)'], feats to check = ['ft__plain_center_id.MAX(fulfilment_center_info.op_area)', 'ft__plain_meal_id.COUNT(meal_info WHERE cuisine = Italian)', 'ft__plain_meal_id.COUNT(meal_info WHERE cuisine = Continental)', 'ft__plain_center_id.MAX(fulfilment_center_info.city_code WHERE center_type = TYPE_A)', 'ft__plain_center_id.MAX(fulfilment_center_info.op_area WHERE center_type = TYPE_B)', 'ft__plain_center_id.MEDIAN(fulfilment_center_info.op_area)', 'ft__plain_meal_id.COUNT(meal_info WHERE cuisine = Indian)', 'ft__plain_center_id.MEAN(fulfilment_center_info.op_area)', 'ft__plain_center_id.MAX(fulfilment_center_info.city_code)', 'ft__plain_center_id.MAX(fulfilment_center_info.op_area WHERE center_type = TYPE_A)', 'ft__plain_meal_id.COUNT(meal_info WHERE cuisine = Thai)', 'ft__plain_center_id.MAX(fulfilment_center_info.region_code WHERE center_type = TYPE_A)', 'ft__plain_center_id.MAX(fulfilment_center_info.op_area WHERE center_type = TYPE_C)', 'ft__plain_center_id.MAX(fulfilment_center_info.city_code WHERE center_type = TYPE_B)', 'ft__plain_center_id.MEAN(fulfilment_center_info.op_area WHERE center_type = TYPE_B)', 'ft__plain_center_id.MAX(fulfilment_center_info.city_code WHERE center_type = TYPE_C)', 'ft__plain_center_id.COUNT(fulfilment_center_info WHERE center_type = TYPE_C)', 'ft__plain_center_id.MEAN(fulfilment_center_info.op_area WHERE center_type = TYPE_A)', 'ft__plain_center_id.MAX(fulfilment_center_info.region_code)', 'ft__plain_center_id.MEAN(fulfilment_center_info.region_code WHERE center_type = TYPE_A)', 'ft__plain_center_id.MEAN(fulfilment_center_info.op_area WHERE center_type = TYPE_C)', 'ft__plain_center_id.MEDIAN(fulfilment_center_info.region_code WHERE center_type = TYPE_A)', 'ft__plain_center_id.MEAN(fulfilment_center_info.city_code WHERE center_type = TYPE_A)', 'ft__plain_center_id.MEDIAN(fulfilment_center_info.city_code)', 'ft__plain_center_id.MEAN(fulfilment_center_info.region_code)', 'ft__plain_center_id.MIN(fulfilment_center_info.op_area WHERE center_type = TYPE_B)', 'ft__plain_center_id.MIN(fulfilment_center_info.op_area WHERE center_type = TYPE_A)', 'ft__plain_center_id.MEDIAN(fulfilment_center_info.city_code WHERE center_type = TYPE_B)', 'ft__plain_center_id.SUM(fulfilment_center_info.city_code)', 'ft__plain_center_id.MIN(fulfilment_center_info.city_code WHERE center_type = TYPE_B)', 'ft__plain_center_id.SUM(fulfilment_center_info.op_area WHERE center_type = TYPE_A)', 'ft__plain_center_id.MEAN(fulfilment_center_info.region_code WHERE center_type = TYPE_C)', 'ft__plain_center_id.MEDIAN(fulfilment_center_info.op_area WHERE center_type = TYPE_C)', 'ft__plain_center_id.SUM(fulfilment_center_info.city_code WHERE center_type = TYPE_A)', 'ft__plain_center_id.MIN(fulfilment_center_info.op_area)', 'ft__plain_center_id.MEDIAN(fulfilment_center_info.region_code WHERE center_type = TYPE_C)', 'ft__plain_center_id.SUM(fulfilment_center_info.region_code WHERE center_type = TYPE_A)', 'ft__plain_center_id.SUM(fulfilment_center_info.op_area)', 'ft__plain_center_id.SUM(fulfilment_center_info.op_area WHERE center_type = TYPE_C)', 'ft__plain_center_id.SUM(fulfilment_center_info.op_area WHERE center_type = TYPE_B)', 'ft__plain_meal_id.COUNT(meal_info)', 'ft__plain_meal_id.ENTROPY(meal_info.cuisine)', 'ft__plain_center_id.ENTROPY(fulfilment_center_info.center_type)', 'ft__plain_center_id.STD(fulfilment_center_info.region_code WHERE center_type = TYPE_B)', 'ft__plain_center_id.SUM(fulfilment_center_info.city_code WHERE center_type = TYPE_B)', 'ft__plain_center_id.STD(fulfilment_center_info.city_code)', 'ft__plain_center_id.MIN(fulfilment_center_info.region_code WHERE center_type = TYPE_A)', 'ft__plain_center_id.MIN(fulfilment_center_info.region_code)']\n",
      "[15:44:26] Features in SCI = ['ft__plain_center_id.COUNT(fulfilment_center_info WHERE center_type = TYPE_C)', 'ft__plain_center_id.ENTROPY(fulfilment_center_info.center_type)', 'ft__plain_center_id.MAX(fulfilment_center_info.city_code WHERE center_type = TYPE_A)', 'ft__plain_center_id.MAX(fulfilment_center_info.city_code WHERE center_type = TYPE_B)', 'ft__plain_center_id.MAX(fulfilment_center_info.city_code WHERE center_type = TYPE_C)', 'ft__plain_center_id.MAX(fulfilment_center_info.city_code)', 'ft__plain_center_id.MAX(fulfilment_center_info.op_area WHERE center_type = TYPE_A)', 'ft__plain_center_id.MAX(fulfilment_center_info.op_area WHERE center_type = TYPE_B)', 'ft__plain_center_id.MAX(fulfilment_center_info.op_area WHERE center_type = TYPE_C)', 'ft__plain_center_id.MAX(fulfilment_center_info.op_area)', 'ft__plain_center_id.MAX(fulfilment_center_info.region_code WHERE center_type = TYPE_A)', 'ft__plain_center_id.MAX(fulfilment_center_info.region_code)', 'ft__plain_center_id.MEAN(fulfilment_center_info.city_code WHERE center_type = TYPE_A)', 'ft__plain_center_id.MEAN(fulfilment_center_info.op_area WHERE center_type = TYPE_A)', 'ft__plain_center_id.MEAN(fulfilment_center_info.op_area WHERE center_type = TYPE_B)', 'ft__plain_center_id.MEAN(fulfilment_center_info.op_area WHERE center_type = TYPE_C)', 'ft__plain_center_id.MEAN(fulfilment_center_info.op_area)', 'ft__plain_center_id.MEAN(fulfilment_center_info.region_code WHERE center_type = TYPE_A)', 'ft__plain_center_id.MEAN(fulfilment_center_info.region_code WHERE center_type = TYPE_C)', 'ft__plain_center_id.MEAN(fulfilment_center_info.region_code)', 'ft__plain_center_id.MEDIAN(fulfilment_center_info.city_code WHERE center_type = TYPE_B)', 'ft__plain_center_id.MEDIAN(fulfilment_center_info.city_code)', 'ft__plain_center_id.MEDIAN(fulfilment_center_info.op_area WHERE center_type = TYPE_C)', 'ft__plain_center_id.MEDIAN(fulfilment_center_info.op_area)', 'ft__plain_center_id.MEDIAN(fulfilment_center_info.region_code WHERE center_type = TYPE_A)', 'ft__plain_center_id.MEDIAN(fulfilment_center_info.region_code WHERE center_type = TYPE_C)', 'ft__plain_center_id.MIN(fulfilment_center_info.city_code WHERE center_type = TYPE_B)', 'ft__plain_center_id.MIN(fulfilment_center_info.op_area WHERE center_type = TYPE_A)', 'ft__plain_center_id.MIN(fulfilment_center_info.op_area WHERE center_type = TYPE_B)', 'ft__plain_center_id.MIN(fulfilment_center_info.op_area)', 'ft__plain_center_id.MIN(fulfilment_center_info.region_code WHERE center_type = TYPE_A)', 'ft__plain_center_id.MIN(fulfilment_center_info.region_code)', 'ft__plain_center_id.STD(fulfilment_center_info.city_code)', 'ft__plain_center_id.STD(fulfilment_center_info.region_code WHERE center_type = TYPE_B)', 'ft__plain_center_id.SUM(fulfilment_center_info.city_code WHERE center_type = TYPE_A)', 'ft__plain_center_id.SUM(fulfilment_center_info.city_code WHERE center_type = TYPE_B)', 'ft__plain_center_id.SUM(fulfilment_center_info.city_code)', 'ft__plain_center_id.SUM(fulfilment_center_info.op_area WHERE center_type = TYPE_A)', 'ft__plain_center_id.SUM(fulfilment_center_info.op_area WHERE center_type = TYPE_B)', 'ft__plain_center_id.SUM(fulfilment_center_info.op_area WHERE center_type = TYPE_C)', 'ft__plain_center_id.SUM(fulfilment_center_info.op_area)', 'ft__plain_center_id.SUM(fulfilment_center_info.region_code WHERE center_type = TYPE_A)', 'ft__plain_meal_id.COUNT(meal_info WHERE cuisine = Continental)', 'ft__plain_meal_id.COUNT(meal_info WHERE cuisine = Indian)', 'ft__plain_meal_id.COUNT(meal_info WHERE cuisine = Italian)', 'ft__plain_meal_id.COUNT(meal_info WHERE cuisine = Thai)', 'ft__plain_meal_id.COUNT(meal_info)', 'ft__plain_meal_id.ENTROPY(meal_info.cuisine)']\n",
      "[15:44:27] Training until validation scores don't improve for 100 rounds\n",
      "[15:44:31] [100]\tvalid's l1: 203.63\n",
      "[15:44:34] [200]\tvalid's l1: 203.66\n",
      "[15:44:35] Early stopping, best iteration is:\n",
      "[136]\tvalid's l1: 203.597\n",
      "[15:44:36] \u001b[1mLightGBM\u001b[0m fitting and predicting completed\n",
      "[15:44:36] Started iteration 6, chunk = ['ft__plain_center_id.NUM_UNIQUE(fulfilment_center_info.center_type)', 'ft__plain_center_id.STD(fulfilment_center_info.city_code WHERE center_type = TYPE_A)', 'ft__plain_center_id.STD(fulfilment_center_info.city_code WHERE center_type = TYPE_B)', 'ft__plain_center_id.STD(fulfilment_center_info.city_code WHERE center_type = TYPE_C)', 'ft__plain_center_id.STD(fulfilment_center_info.op_area WHERE center_type = TYPE_A)', 'ft__plain_center_id.STD(fulfilment_center_info.region_code)', 'ft__plain_center_id.STD(fulfilment_center_info.op_area WHERE center_type = TYPE_B)', 'ft__plain_center_id.STD(fulfilment_center_info.op_area WHERE center_type = TYPE_C)', 'ft__plain_center_id.STD(fulfilment_center_info.op_area)', 'ft__plain_center_id.STD(fulfilment_center_info.region_code WHERE center_type = TYPE_A)', 'ft__plain_center_id.MIN(fulfilment_center_info.city_code WHERE center_type = TYPE_C)', 'ft__plain_center_id.STD(fulfilment_center_info.region_code WHERE center_type = TYPE_C)'], feats to check = ['ft__plain_center_id.MAX(fulfilment_center_info.op_area)', 'ft__plain_meal_id.COUNT(meal_info WHERE cuisine = Italian)', 'ft__plain_meal_id.COUNT(meal_info WHERE cuisine = Continental)', 'ft__plain_center_id.MAX(fulfilment_center_info.city_code WHERE center_type = TYPE_A)', 'ft__plain_center_id.MAX(fulfilment_center_info.op_area WHERE center_type = TYPE_B)', 'ft__plain_center_id.MEDIAN(fulfilment_center_info.op_area)', 'ft__plain_meal_id.COUNT(meal_info WHERE cuisine = Indian)', 'ft__plain_center_id.MEAN(fulfilment_center_info.op_area)', 'ft__plain_center_id.MAX(fulfilment_center_info.city_code)', 'ft__plain_center_id.MAX(fulfilment_center_info.op_area WHERE center_type = TYPE_A)', 'ft__plain_meal_id.COUNT(meal_info WHERE cuisine = Thai)', 'ft__plain_center_id.MAX(fulfilment_center_info.region_code WHERE center_type = TYPE_A)', 'ft__plain_center_id.MAX(fulfilment_center_info.op_area WHERE center_type = TYPE_C)', 'ft__plain_center_id.MAX(fulfilment_center_info.city_code WHERE center_type = TYPE_B)', 'ft__plain_center_id.MEAN(fulfilment_center_info.op_area WHERE center_type = TYPE_B)', 'ft__plain_center_id.MAX(fulfilment_center_info.city_code WHERE center_type = TYPE_C)', 'ft__plain_center_id.COUNT(fulfilment_center_info WHERE center_type = TYPE_C)', 'ft__plain_center_id.MEAN(fulfilment_center_info.op_area WHERE center_type = TYPE_A)', 'ft__plain_center_id.MAX(fulfilment_center_info.region_code)', 'ft__plain_center_id.MEAN(fulfilment_center_info.region_code WHERE center_type = TYPE_A)', 'ft__plain_center_id.MEAN(fulfilment_center_info.op_area WHERE center_type = TYPE_C)', 'ft__plain_center_id.MEDIAN(fulfilment_center_info.region_code WHERE center_type = TYPE_A)', 'ft__plain_center_id.MEAN(fulfilment_center_info.city_code WHERE center_type = TYPE_A)', 'ft__plain_center_id.MEDIAN(fulfilment_center_info.city_code)', 'ft__plain_center_id.MEAN(fulfilment_center_info.region_code)', 'ft__plain_center_id.MIN(fulfilment_center_info.op_area WHERE center_type = TYPE_B)', 'ft__plain_center_id.MIN(fulfilment_center_info.op_area WHERE center_type = TYPE_A)', 'ft__plain_center_id.MEDIAN(fulfilment_center_info.city_code WHERE center_type = TYPE_B)', 'ft__plain_center_id.SUM(fulfilment_center_info.city_code)', 'ft__plain_center_id.MIN(fulfilment_center_info.city_code WHERE center_type = TYPE_B)', 'ft__plain_center_id.SUM(fulfilment_center_info.op_area WHERE center_type = TYPE_A)', 'ft__plain_center_id.MEAN(fulfilment_center_info.region_code WHERE center_type = TYPE_C)', 'ft__plain_center_id.MEDIAN(fulfilment_center_info.op_area WHERE center_type = TYPE_C)', 'ft__plain_center_id.SUM(fulfilment_center_info.city_code WHERE center_type = TYPE_A)', 'ft__plain_center_id.MIN(fulfilment_center_info.op_area)', 'ft__plain_center_id.MEDIAN(fulfilment_center_info.region_code WHERE center_type = TYPE_C)', 'ft__plain_center_id.NUM_UNIQUE(fulfilment_center_info.center_type)', 'ft__plain_center_id.STD(fulfilment_center_info.city_code WHERE center_type = TYPE_A)', 'ft__plain_center_id.STD(fulfilment_center_info.city_code WHERE center_type = TYPE_B)', 'ft__plain_center_id.STD(fulfilment_center_info.city_code WHERE center_type = TYPE_C)', 'ft__plain_center_id.STD(fulfilment_center_info.op_area WHERE center_type = TYPE_A)', 'ft__plain_center_id.STD(fulfilment_center_info.region_code)', 'ft__plain_center_id.STD(fulfilment_center_info.op_area WHERE center_type = TYPE_B)', 'ft__plain_center_id.STD(fulfilment_center_info.op_area WHERE center_type = TYPE_C)', 'ft__plain_center_id.STD(fulfilment_center_info.op_area)', 'ft__plain_center_id.STD(fulfilment_center_info.region_code WHERE center_type = TYPE_A)', 'ft__plain_center_id.MIN(fulfilment_center_info.city_code WHERE center_type = TYPE_C)', 'ft__plain_center_id.STD(fulfilment_center_info.region_code WHERE center_type = TYPE_C)']\n",
      "[15:44:36] Features in SCI = ['ft__plain_center_id.COUNT(fulfilment_center_info WHERE center_type = TYPE_C)', 'ft__plain_center_id.MAX(fulfilment_center_info.city_code WHERE center_type = TYPE_A)', 'ft__plain_center_id.MAX(fulfilment_center_info.city_code WHERE center_type = TYPE_B)', 'ft__plain_center_id.MAX(fulfilment_center_info.city_code WHERE center_type = TYPE_C)', 'ft__plain_center_id.MAX(fulfilment_center_info.city_code)', 'ft__plain_center_id.MAX(fulfilment_center_info.op_area WHERE center_type = TYPE_A)', 'ft__plain_center_id.MAX(fulfilment_center_info.op_area WHERE center_type = TYPE_B)', 'ft__plain_center_id.MAX(fulfilment_center_info.op_area WHERE center_type = TYPE_C)', 'ft__plain_center_id.MAX(fulfilment_center_info.op_area)', 'ft__plain_center_id.MAX(fulfilment_center_info.region_code WHERE center_type = TYPE_A)', 'ft__plain_center_id.MAX(fulfilment_center_info.region_code)', 'ft__plain_center_id.MEAN(fulfilment_center_info.city_code WHERE center_type = TYPE_A)', 'ft__plain_center_id.MEAN(fulfilment_center_info.op_area WHERE center_type = TYPE_A)', 'ft__plain_center_id.MEAN(fulfilment_center_info.op_area WHERE center_type = TYPE_B)', 'ft__plain_center_id.MEAN(fulfilment_center_info.op_area WHERE center_type = TYPE_C)', 'ft__plain_center_id.MEAN(fulfilment_center_info.op_area)', 'ft__plain_center_id.MEAN(fulfilment_center_info.region_code WHERE center_type = TYPE_A)', 'ft__plain_center_id.MEAN(fulfilment_center_info.region_code WHERE center_type = TYPE_C)', 'ft__plain_center_id.MEAN(fulfilment_center_info.region_code)', 'ft__plain_center_id.MEDIAN(fulfilment_center_info.city_code WHERE center_type = TYPE_B)', 'ft__plain_center_id.MEDIAN(fulfilment_center_info.city_code)', 'ft__plain_center_id.MEDIAN(fulfilment_center_info.op_area WHERE center_type = TYPE_C)', 'ft__plain_center_id.MEDIAN(fulfilment_center_info.op_area)', 'ft__plain_center_id.MEDIAN(fulfilment_center_info.region_code WHERE center_type = TYPE_A)', 'ft__plain_center_id.MEDIAN(fulfilment_center_info.region_code WHERE center_type = TYPE_C)', 'ft__plain_center_id.MIN(fulfilment_center_info.city_code WHERE center_type = TYPE_B)', 'ft__plain_center_id.MIN(fulfilment_center_info.city_code WHERE center_type = TYPE_C)', 'ft__plain_center_id.MIN(fulfilment_center_info.op_area WHERE center_type = TYPE_A)', 'ft__plain_center_id.MIN(fulfilment_center_info.op_area WHERE center_type = TYPE_B)', 'ft__plain_center_id.MIN(fulfilment_center_info.op_area)', 'ft__plain_center_id.NUM_UNIQUE(fulfilment_center_info.center_type)', 'ft__plain_center_id.STD(fulfilment_center_info.city_code WHERE center_type = TYPE_A)', 'ft__plain_center_id.STD(fulfilment_center_info.city_code WHERE center_type = TYPE_B)', 'ft__plain_center_id.STD(fulfilment_center_info.city_code WHERE center_type = TYPE_C)', 'ft__plain_center_id.STD(fulfilment_center_info.op_area WHERE center_type = TYPE_A)', 'ft__plain_center_id.STD(fulfilment_center_info.op_area WHERE center_type = TYPE_B)', 'ft__plain_center_id.STD(fulfilment_center_info.op_area WHERE center_type = TYPE_C)', 'ft__plain_center_id.STD(fulfilment_center_info.op_area)', 'ft__plain_center_id.STD(fulfilment_center_info.region_code WHERE center_type = TYPE_A)', 'ft__plain_center_id.STD(fulfilment_center_info.region_code WHERE center_type = TYPE_C)', 'ft__plain_center_id.STD(fulfilment_center_info.region_code)', 'ft__plain_center_id.SUM(fulfilment_center_info.city_code WHERE center_type = TYPE_A)', 'ft__plain_center_id.SUM(fulfilment_center_info.city_code)', 'ft__plain_center_id.SUM(fulfilment_center_info.op_area WHERE center_type = TYPE_A)', 'ft__plain_meal_id.COUNT(meal_info WHERE cuisine = Continental)', 'ft__plain_meal_id.COUNT(meal_info WHERE cuisine = Indian)', 'ft__plain_meal_id.COUNT(meal_info WHERE cuisine = Italian)', 'ft__plain_meal_id.COUNT(meal_info WHERE cuisine = Thai)']\n",
      "[15:44:36] Training until validation scores don't improve for 100 rounds\n",
      "[15:44:40] [100]\tvalid's l1: 203.634\n",
      "[15:44:43] [200]\tvalid's l1: 203.664\n",
      "[15:44:44] Early stopping, best iteration is:\n",
      "[136]\tvalid's l1: 203.6\n",
      "[15:44:45] \u001b[1mLightGBM\u001b[0m fitting and predicting completed\n",
      "[15:44:45] Started iteration 7, chunk = ['ft__plain_meal_id.NUM_UNIQUE(meal_info.cuisine)'], feats to check = ['ft__plain_center_id.MAX(fulfilment_center_info.op_area)', 'ft__plain_meal_id.COUNT(meal_info WHERE cuisine = Italian)', 'ft__plain_meal_id.COUNT(meal_info WHERE cuisine = Continental)', 'ft__plain_center_id.MAX(fulfilment_center_info.city_code WHERE center_type = TYPE_A)', 'ft__plain_center_id.MAX(fulfilment_center_info.op_area WHERE center_type = TYPE_B)', 'ft__plain_center_id.MEDIAN(fulfilment_center_info.op_area)', 'ft__plain_meal_id.COUNT(meal_info WHERE cuisine = Indian)', 'ft__plain_center_id.MEAN(fulfilment_center_info.op_area)', 'ft__plain_center_id.MAX(fulfilment_center_info.city_code)', 'ft__plain_center_id.MAX(fulfilment_center_info.op_area WHERE center_type = TYPE_A)', 'ft__plain_meal_id.COUNT(meal_info WHERE cuisine = Thai)', 'ft__plain_center_id.MAX(fulfilment_center_info.region_code WHERE center_type = TYPE_A)', 'ft__plain_center_id.MAX(fulfilment_center_info.op_area WHERE center_type = TYPE_C)', 'ft__plain_center_id.MAX(fulfilment_center_info.city_code WHERE center_type = TYPE_B)', 'ft__plain_center_id.MEAN(fulfilment_center_info.op_area WHERE center_type = TYPE_B)', 'ft__plain_center_id.MAX(fulfilment_center_info.city_code WHERE center_type = TYPE_C)', 'ft__plain_center_id.COUNT(fulfilment_center_info WHERE center_type = TYPE_C)', 'ft__plain_center_id.MEAN(fulfilment_center_info.op_area WHERE center_type = TYPE_A)', 'ft__plain_center_id.MAX(fulfilment_center_info.region_code)', 'ft__plain_center_id.MEAN(fulfilment_center_info.region_code WHERE center_type = TYPE_A)', 'ft__plain_center_id.MEAN(fulfilment_center_info.op_area WHERE center_type = TYPE_C)', 'ft__plain_center_id.MEDIAN(fulfilment_center_info.region_code WHERE center_type = TYPE_A)', 'ft__plain_center_id.MEAN(fulfilment_center_info.city_code WHERE center_type = TYPE_A)', 'ft__plain_center_id.MEDIAN(fulfilment_center_info.city_code)', 'ft__plain_center_id.MEAN(fulfilment_center_info.region_code)', 'ft__plain_center_id.MIN(fulfilment_center_info.op_area WHERE center_type = TYPE_B)', 'ft__plain_center_id.MIN(fulfilment_center_info.op_area WHERE center_type = TYPE_A)', 'ft__plain_center_id.MEDIAN(fulfilment_center_info.city_code WHERE center_type = TYPE_B)', 'ft__plain_center_id.SUM(fulfilment_center_info.city_code)', 'ft__plain_center_id.MIN(fulfilment_center_info.city_code WHERE center_type = TYPE_B)', 'ft__plain_center_id.SUM(fulfilment_center_info.op_area WHERE center_type = TYPE_A)', 'ft__plain_center_id.MEAN(fulfilment_center_info.region_code WHERE center_type = TYPE_C)', 'ft__plain_center_id.MEDIAN(fulfilment_center_info.op_area WHERE center_type = TYPE_C)', 'ft__plain_center_id.SUM(fulfilment_center_info.city_code WHERE center_type = TYPE_A)', 'ft__plain_center_id.MIN(fulfilment_center_info.op_area)', 'ft__plain_center_id.MEDIAN(fulfilment_center_info.region_code WHERE center_type = TYPE_C)', 'ft__plain_meal_id.NUM_UNIQUE(meal_info.cuisine)']\n",
      "[15:44:45] Features in SCI = ['ft__plain_center_id.COUNT(fulfilment_center_info WHERE center_type = TYPE_C)', 'ft__plain_center_id.MAX(fulfilment_center_info.city_code WHERE center_type = TYPE_A)', 'ft__plain_center_id.MAX(fulfilment_center_info.city_code WHERE center_type = TYPE_B)', 'ft__plain_center_id.MAX(fulfilment_center_info.city_code WHERE center_type = TYPE_C)', 'ft__plain_center_id.MAX(fulfilment_center_info.city_code)', 'ft__plain_center_id.MAX(fulfilment_center_info.op_area WHERE center_type = TYPE_A)', 'ft__plain_center_id.MAX(fulfilment_center_info.op_area WHERE center_type = TYPE_B)', 'ft__plain_center_id.MAX(fulfilment_center_info.op_area WHERE center_type = TYPE_C)', 'ft__plain_center_id.MAX(fulfilment_center_info.op_area)', 'ft__plain_center_id.MAX(fulfilment_center_info.region_code WHERE center_type = TYPE_A)', 'ft__plain_center_id.MAX(fulfilment_center_info.region_code)', 'ft__plain_center_id.MEAN(fulfilment_center_info.city_code WHERE center_type = TYPE_A)', 'ft__plain_center_id.MEAN(fulfilment_center_info.op_area WHERE center_type = TYPE_A)', 'ft__plain_center_id.MEAN(fulfilment_center_info.op_area WHERE center_type = TYPE_B)', 'ft__plain_center_id.MEAN(fulfilment_center_info.op_area WHERE center_type = TYPE_C)', 'ft__plain_center_id.MEAN(fulfilment_center_info.op_area)', 'ft__plain_center_id.MEAN(fulfilment_center_info.region_code WHERE center_type = TYPE_A)', 'ft__plain_center_id.MEAN(fulfilment_center_info.region_code WHERE center_type = TYPE_C)', 'ft__plain_center_id.MEAN(fulfilment_center_info.region_code)', 'ft__plain_center_id.MEDIAN(fulfilment_center_info.city_code WHERE center_type = TYPE_B)', 'ft__plain_center_id.MEDIAN(fulfilment_center_info.city_code)', 'ft__plain_center_id.MEDIAN(fulfilment_center_info.op_area WHERE center_type = TYPE_C)', 'ft__plain_center_id.MEDIAN(fulfilment_center_info.op_area)', 'ft__plain_center_id.MEDIAN(fulfilment_center_info.region_code WHERE center_type = TYPE_A)', 'ft__plain_center_id.MEDIAN(fulfilment_center_info.region_code WHERE center_type = TYPE_C)', 'ft__plain_center_id.MIN(fulfilment_center_info.city_code WHERE center_type = TYPE_B)', 'ft__plain_center_id.MIN(fulfilment_center_info.op_area WHERE center_type = TYPE_A)', 'ft__plain_center_id.MIN(fulfilment_center_info.op_area WHERE center_type = TYPE_B)', 'ft__plain_center_id.MIN(fulfilment_center_info.op_area)', 'ft__plain_center_id.SUM(fulfilment_center_info.city_code WHERE center_type = TYPE_A)', 'ft__plain_center_id.SUM(fulfilment_center_info.city_code)', 'ft__plain_center_id.SUM(fulfilment_center_info.op_area WHERE center_type = TYPE_A)', 'ft__plain_meal_id.COUNT(meal_info WHERE cuisine = Continental)', 'ft__plain_meal_id.COUNT(meal_info WHERE cuisine = Indian)', 'ft__plain_meal_id.COUNT(meal_info WHERE cuisine = Italian)', 'ft__plain_meal_id.COUNT(meal_info WHERE cuisine = Thai)', 'ft__plain_meal_id.NUM_UNIQUE(meal_info.cuisine)']\n",
      "[15:44:45] Training until validation scores don't improve for 100 rounds\n",
      "[15:44:49] [100]\tvalid's l1: 203.621\n",
      "[15:44:52] [200]\tvalid's l1: 203.655\n",
      "[15:44:53] Early stopping, best iteration is:\n",
      "[113]\tvalid's l1: 203.597\n",
      "[15:44:53] \u001b[1mLightGBM\u001b[0m fitting and predicting completed\n",
      "[15:44:53] Finally selected feats = ['ft__plain_center_id.MAX(fulfilment_center_info.op_area)', 'ft__plain_meal_id.COUNT(meal_info WHERE cuisine = Italian)', 'ft__plain_meal_id.COUNT(meal_info WHERE cuisine = Continental)', 'ft__plain_center_id.MAX(fulfilment_center_info.city_code WHERE center_type = TYPE_A)', 'ft__plain_center_id.MAX(fulfilment_center_info.op_area WHERE center_type = TYPE_B)', 'ft__plain_center_id.MEDIAN(fulfilment_center_info.op_area)', 'ft__plain_meal_id.COUNT(meal_info WHERE cuisine = Indian)', 'ft__plain_center_id.MEAN(fulfilment_center_info.op_area)', 'ft__plain_center_id.MAX(fulfilment_center_info.city_code)', 'ft__plain_center_id.MAX(fulfilment_center_info.op_area WHERE center_type = TYPE_A)', 'ft__plain_meal_id.COUNT(meal_info WHERE cuisine = Thai)', 'ft__plain_center_id.MAX(fulfilment_center_info.region_code WHERE center_type = TYPE_A)', 'ft__plain_center_id.MAX(fulfilment_center_info.op_area WHERE center_type = TYPE_C)', 'ft__plain_center_id.MAX(fulfilment_center_info.city_code WHERE center_type = TYPE_B)', 'ft__plain_center_id.MEAN(fulfilment_center_info.op_area WHERE center_type = TYPE_B)', 'ft__plain_center_id.MAX(fulfilment_center_info.city_code WHERE center_type = TYPE_C)', 'ft__plain_center_id.COUNT(fulfilment_center_info WHERE center_type = TYPE_C)', 'ft__plain_center_id.MEAN(fulfilment_center_info.op_area WHERE center_type = TYPE_A)', 'ft__plain_center_id.MAX(fulfilment_center_info.region_code)', 'ft__plain_center_id.MEAN(fulfilment_center_info.region_code WHERE center_type = TYPE_A)', 'ft__plain_center_id.MEAN(fulfilment_center_info.op_area WHERE center_type = TYPE_C)', 'ft__plain_center_id.MEDIAN(fulfilment_center_info.region_code WHERE center_type = TYPE_A)', 'ft__plain_center_id.MEAN(fulfilment_center_info.city_code WHERE center_type = TYPE_A)', 'ft__plain_center_id.MEDIAN(fulfilment_center_info.city_code)', 'ft__plain_center_id.MEAN(fulfilment_center_info.region_code)', 'ft__plain_center_id.MIN(fulfilment_center_info.op_area WHERE center_type = TYPE_B)', 'ft__plain_center_id.MIN(fulfilment_center_info.op_area WHERE center_type = TYPE_A)', 'ft__plain_center_id.MEDIAN(fulfilment_center_info.city_code WHERE center_type = TYPE_B)', 'ft__plain_center_id.SUM(fulfilment_center_info.city_code)', 'ft__plain_center_id.MIN(fulfilment_center_info.city_code WHERE center_type = TYPE_B)', 'ft__plain_center_id.SUM(fulfilment_center_info.op_area WHERE center_type = TYPE_A)', 'ft__plain_center_id.MEAN(fulfilment_center_info.region_code WHERE center_type = TYPE_C)', 'ft__plain_center_id.MEDIAN(fulfilment_center_info.op_area WHERE center_type = TYPE_C)', 'ft__plain_center_id.SUM(fulfilment_center_info.city_code WHERE center_type = TYPE_A)', 'ft__plain_center_id.MIN(fulfilment_center_info.op_area)', 'ft__plain_center_id.MEDIAN(fulfilment_center_info.region_code WHERE center_type = TYPE_C)']\n"
     ]
    },
    {
     "name": "stderr",
     "output_type": "stream",
     "text": [
      "/home/rinchin/lama_gitlab/LightAutoML/.venv/lib/python3.8/site-packages/featuretools/entityset/entityset.py:1738: UserWarning: Woodwork typing information on new dataframe will be replaced with existing typing information from plain\n",
      "  warnings.warn(\n"
     ]
    },
    {
     "name": "stdout",
     "output_type": "stream",
     "text": [
      "EntitySet scattered to 16 workers in 5 seconds\n",
      "[15:45:02] Start fitting \u001b[1mLvl_0_Pipe_0_Mod_0_LightGBM\u001b[0m ...\n",
      "[15:45:02] ===== Start working with \u001b[1mfold 0\u001b[0m for \u001b[1mLvl_0_Pipe_0_Mod_0_LightGBM\u001b[0m =====\n",
      "[15:45:03] Training until validation scores don't improve for 100 rounds\n",
      "[15:45:05] [100]\tvalid's l1: 85.1298\n",
      "[15:45:07] [200]\tvalid's l1: 77.4573\n",
      "[15:45:09] [300]\tvalid's l1: 74.1821\n",
      "[15:45:10] [400]\tvalid's l1: 72.0289\n",
      "[15:45:12] [500]\tvalid's l1: 70.603\n",
      "[15:45:14] [600]\tvalid's l1: 69.4678\n",
      "[15:45:15] [700]\tvalid's l1: 68.5348\n",
      "[15:45:17] [800]\tvalid's l1: 67.8632\n",
      "[15:45:18] [900]\tvalid's l1: 67.3341\n",
      "[15:45:20] [1000]\tvalid's l1: 66.8182\n",
      "[15:45:21] [1100]\tvalid's l1: 66.3984\n",
      "[15:45:23] [1200]\tvalid's l1: 66.066\n",
      "[15:45:24] [1300]\tvalid's l1: 65.7296\n",
      "[15:45:26] [1400]\tvalid's l1: 65.4323\n",
      "[15:45:27] [1500]\tvalid's l1: 65.1977\n",
      "[15:45:28] [1600]\tvalid's l1: 64.9636\n",
      "[15:45:30] [1700]\tvalid's l1: 64.7773\n",
      "[15:45:31] [1800]\tvalid's l1: 64.5875\n",
      "[15:45:33] [1900]\tvalid's l1: 64.4448\n",
      "[15:45:34] [2000]\tvalid's l1: 64.3192\n",
      "[15:45:36] [2100]\tvalid's l1: 64.1894\n",
      "[15:45:37] [2200]\tvalid's l1: 64.0913\n",
      "[15:45:38] [2300]\tvalid's l1: 63.9999\n",
      "[15:45:40] [2400]\tvalid's l1: 63.9057\n",
      "[15:45:41] [2500]\tvalid's l1: 63.8067\n",
      "[15:45:43] [2600]\tvalid's l1: 63.7336\n",
      "[15:45:44] [2700]\tvalid's l1: 63.6307\n",
      "[15:45:46] [2800]\tvalid's l1: 63.5473\n",
      "[15:45:47] [2900]\tvalid's l1: 63.4774\n",
      "[15:45:48] [3000]\tvalid's l1: 63.4173\n",
      "[15:45:48] Did not meet early stopping. Best iteration is:\n",
      "[2991]\tvalid's l1: 63.4135\n",
      "[15:45:56] ===== Start working with \u001b[1mfold 1\u001b[0m for \u001b[1mLvl_0_Pipe_0_Mod_0_LightGBM\u001b[0m =====\n",
      "[15:45:57] Training until validation scores don't improve for 100 rounds\n",
      "[15:46:00] [100]\tvalid's l1: 86.2911\n",
      "[15:46:02] [200]\tvalid's l1: 78.1707\n",
      "[15:46:03] [300]\tvalid's l1: 74.8544\n",
      "[15:46:05] [400]\tvalid's l1: 72.5823\n",
      "[15:46:06] [500]\tvalid's l1: 71.1333\n",
      "[15:46:08] [600]\tvalid's l1: 69.9571\n",
      "[15:46:09] [700]\tvalid's l1: 69.0471\n",
      "[15:46:11] [800]\tvalid's l1: 68.3346\n",
      "[15:46:12] [900]\tvalid's l1: 67.7181\n",
      "[15:46:13] [1000]\tvalid's l1: 67.2984\n",
      "[15:46:15] [1100]\tvalid's l1: 66.8118\n",
      "[15:46:16] [1200]\tvalid's l1: 66.4666\n",
      "[15:46:18] [1300]\tvalid's l1: 66.1186\n",
      "[15:46:19] [1400]\tvalid's l1: 65.8261\n",
      "[15:46:21] [1500]\tvalid's l1: 65.5606\n",
      "[15:46:22] [1600]\tvalid's l1: 65.3453\n",
      "[15:46:23] [1700]\tvalid's l1: 65.2099\n",
      "[15:46:25] [1800]\tvalid's l1: 65.0301\n",
      "[15:46:26] [1900]\tvalid's l1: 64.8767\n",
      "[15:46:27] [2000]\tvalid's l1: 64.7269\n",
      "[15:46:29] [2100]\tvalid's l1: 64.6015\n",
      "[15:46:30] [2200]\tvalid's l1: 64.4899\n",
      "[15:46:32] [2300]\tvalid's l1: 64.3879\n",
      "[15:46:33] [2400]\tvalid's l1: 64.267\n",
      "[15:46:35] [2500]\tvalid's l1: 64.1715\n",
      "[15:46:36] [2600]\tvalid's l1: 64.0793\n",
      "[15:46:37] [2700]\tvalid's l1: 63.9802\n",
      "[15:46:39] [2800]\tvalid's l1: 63.8718\n",
      "[15:46:40] [2900]\tvalid's l1: 63.7839\n",
      "[15:46:42] [3000]\tvalid's l1: 63.7107\n",
      "[15:46:42] Did not meet early stopping. Best iteration is:\n",
      "[3000]\tvalid's l1: 63.7107\n",
      "[15:46:50] ===== Start working with \u001b[1mfold 2\u001b[0m for \u001b[1mLvl_0_Pipe_0_Mod_0_LightGBM\u001b[0m =====\n",
      "[15:46:51] Training until validation scores don't improve for 100 rounds\n",
      "[15:46:53] [100]\tvalid's l1: 85.6521\n",
      "[15:46:55] [200]\tvalid's l1: 77.6052\n",
      "[15:46:57] [300]\tvalid's l1: 74.3185\n",
      "[15:46:59] [400]\tvalid's l1: 72.1308\n",
      "[15:47:00] [500]\tvalid's l1: 70.621\n",
      "[15:47:02] [600]\tvalid's l1: 69.5345\n",
      "[15:47:03] [700]\tvalid's l1: 68.5245\n",
      "[15:47:05] [800]\tvalid's l1: 67.9126\n",
      "[15:47:06] [900]\tvalid's l1: 67.2721\n",
      "[15:47:08] [1000]\tvalid's l1: 66.8992\n",
      "[15:47:09] [1100]\tvalid's l1: 66.4601\n",
      "[15:47:11] [1200]\tvalid's l1: 66.1296\n",
      "[15:47:12] [1300]\tvalid's l1: 65.7245\n",
      "[15:47:13] [1400]\tvalid's l1: 65.4392\n",
      "[15:47:15] [1500]\tvalid's l1: 65.1538\n",
      "[15:47:16] [1600]\tvalid's l1: 64.9558\n",
      "[15:47:18] [1700]\tvalid's l1: 64.7722\n",
      "[15:47:19] [1800]\tvalid's l1: 64.5988\n",
      "[15:47:21] [1900]\tvalid's l1: 64.4603\n",
      "[15:47:22] [2000]\tvalid's l1: 64.3161\n",
      "[15:47:23] [2100]\tvalid's l1: 64.2186\n",
      "[15:47:25] [2200]\tvalid's l1: 64.1181\n",
      "[15:47:26] [2300]\tvalid's l1: 64.0232\n",
      "[15:47:28] [2400]\tvalid's l1: 63.9199\n",
      "[15:47:29] [2500]\tvalid's l1: 63.8241\n",
      "[15:47:31] [2600]\tvalid's l1: 63.7303\n",
      "[15:47:32] [2700]\tvalid's l1: 63.6437\n",
      "[15:47:33] [2800]\tvalid's l1: 63.577\n",
      "[15:47:35] [2900]\tvalid's l1: 63.5\n",
      "[15:47:36] [3000]\tvalid's l1: 63.4633\n",
      "[15:47:36] Did not meet early stopping. Best iteration is:\n",
      "[3000]\tvalid's l1: 63.4633\n",
      "[15:47:45] ===== Start working with \u001b[1mfold 3\u001b[0m for \u001b[1mLvl_0_Pipe_0_Mod_0_LightGBM\u001b[0m =====\n",
      "[15:47:45] Training until validation scores don't improve for 100 rounds\n",
      "[15:47:48] [100]\tvalid's l1: 85.8523\n",
      "[15:47:50] [200]\tvalid's l1: 78.242\n",
      "[15:47:51] [300]\tvalid's l1: 74.7726\n",
      "[15:47:53] [400]\tvalid's l1: 72.7152\n",
      "[15:47:54] [500]\tvalid's l1: 71.1384\n",
      "[15:47:56] [600]\tvalid's l1: 70.0371\n",
      "[15:47:57] [700]\tvalid's l1: 69.0661\n",
      "[15:47:59] [800]\tvalid's l1: 68.3742\n",
      "[15:48:00] [900]\tvalid's l1: 67.8344\n",
      "[15:48:02] [1000]\tvalid's l1: 67.3867\n",
      "[15:48:03] [1100]\tvalid's l1: 66.9312\n",
      "[15:48:05] [1200]\tvalid's l1: 66.5502\n",
      "[15:48:06] [1300]\tvalid's l1: 66.2229\n",
      "[15:48:08] [1400]\tvalid's l1: 66.0494\n",
      "[15:48:09] [1500]\tvalid's l1: 65.7922\n",
      "[15:48:11] [1600]\tvalid's l1: 65.5529\n",
      "[15:48:12] [1700]\tvalid's l1: 65.3462\n",
      "[15:48:13] [1800]\tvalid's l1: 65.1854\n",
      "[15:48:15] [1900]\tvalid's l1: 65.0092\n",
      "[15:48:16] [2000]\tvalid's l1: 64.8578\n",
      "[15:48:18] [2100]\tvalid's l1: 64.7251\n",
      "[15:48:19] [2200]\tvalid's l1: 64.5608\n",
      "[15:48:20] [2300]\tvalid's l1: 64.4613\n",
      "[15:48:22] [2400]\tvalid's l1: 64.3889\n",
      "[15:48:23] [2500]\tvalid's l1: 64.2604\n",
      "[15:48:25] [2600]\tvalid's l1: 64.2069\n",
      "[15:48:26] [2700]\tvalid's l1: 64.1083\n",
      "[15:48:27] [2800]\tvalid's l1: 64.0243\n",
      "[15:48:29] [2900]\tvalid's l1: 63.9326\n",
      "[15:48:30] [3000]\tvalid's l1: 63.8716\n",
      "[15:48:30] Did not meet early stopping. Best iteration is:\n",
      "[3000]\tvalid's l1: 63.8716\n",
      "[15:48:38] ===== Start working with \u001b[1mfold 4\u001b[0m for \u001b[1mLvl_0_Pipe_0_Mod_0_LightGBM\u001b[0m =====\n",
      "[15:48:39] Training until validation scores don't improve for 100 rounds\n",
      "[15:48:41] [100]\tvalid's l1: 85.6121\n",
      "[15:48:43] [200]\tvalid's l1: 77.7466\n",
      "[15:48:45] [300]\tvalid's l1: 74.7258\n",
      "[15:48:47] [400]\tvalid's l1: 72.4875\n",
      "[15:48:48] [500]\tvalid's l1: 70.9171\n",
      "[15:48:50] [600]\tvalid's l1: 69.7085\n",
      "[15:48:51] [700]\tvalid's l1: 68.791\n",
      "[15:48:53] [800]\tvalid's l1: 68.0862\n",
      "[15:48:54] [900]\tvalid's l1: 67.5553\n",
      "[15:48:56] [1000]\tvalid's l1: 67.1428\n",
      "[15:48:57] [1100]\tvalid's l1: 66.6234\n",
      "[15:48:59] [1200]\tvalid's l1: 66.2651\n",
      "[15:49:00] [1300]\tvalid's l1: 65.971\n",
      "[15:49:02] [1400]\tvalid's l1: 65.7209\n",
      "[15:49:03] [1500]\tvalid's l1: 65.4647\n",
      "[15:49:05] [1600]\tvalid's l1: 65.2522\n",
      "[15:49:06] [1700]\tvalid's l1: 65.0875\n",
      "[15:49:07] [1800]\tvalid's l1: 64.8758\n",
      "[15:49:09] [1900]\tvalid's l1: 64.702\n",
      "[15:49:10] [2000]\tvalid's l1: 64.5632\n",
      "[15:49:11] [2100]\tvalid's l1: 64.4471\n",
      "[15:49:13] [2200]\tvalid's l1: 64.332\n",
      "[15:49:14] [2300]\tvalid's l1: 64.2511\n",
      "[15:49:16] [2400]\tvalid's l1: 64.1643\n",
      "[15:49:17] [2500]\tvalid's l1: 64.0562\n",
      "[15:49:18] [2600]\tvalid's l1: 63.9719\n",
      "[15:49:20] [2700]\tvalid's l1: 63.8779\n",
      "[15:49:21] [2800]\tvalid's l1: 63.7915\n",
      "[15:49:23] [2900]\tvalid's l1: 63.7174\n",
      "[15:49:24] [3000]\tvalid's l1: 63.6531\n",
      "[15:49:24] Did not meet early stopping. Best iteration is:\n",
      "[3000]\tvalid's l1: 63.6531\n",
      "[15:49:32] Fitting \u001b[1mLvl_0_Pipe_0_Mod_0_LightGBM\u001b[0m finished. score = \u001b[1m-63.622423965873374\u001b[0m\n",
      "[15:49:32] \u001b[1mLvl_0_Pipe_0_Mod_0_LightGBM\u001b[0m fitting and predicting completed\n",
      "[15:49:32] Time left 9999999628.29 secs\n",
      "\n",
      "[15:49:32] \u001b[1mLayer 1 training completed.\u001b[0m\n",
      "\n",
      "CPU times: user 22min 51s, sys: 18 s, total: 23min 9s\n",
      "Wall time: 6min 11s\n"
     ]
    }
   ],
   "source": [
    "%%time\n",
    "\n",
    "train_pred = automl.fit_predict(X_train, roles=roles, verbose=3)"
   ]
  },
  {
   "cell_type": "markdown",
   "metadata": {},
   "source": [
    "In the **\"Finally selected feats\"** line, we can see the features generated by `FeatureGenerationPipeline` and selected using LightGBM, obtained using aggregations, tarnsformations and interesting values. For example, `'ft__plain_center_id.MEDIAN(fulfilment_center_info.region_code WHERE center_type = TYPE_A)'` feature is median over `'region_code'` column in `fulfilment_center_info` table (which linked with `'plain'` dataset by `'center_id'` key) where `'center_type'` value equals `'TYPE_A'`."
   ]
  },
  {
   "cell_type": "markdown",
   "metadata": {
    "id": "PHhHBkEC1D_c"
   },
   "source": [
    "### Analyze fitted model"
   ]
  },
  {
   "cell_type": "markdown",
   "metadata": {},
   "source": [
    "Let's see the generated features and their importances (received from LightGBM) which we get as a result of training the model:"
   ]
  },
  {
   "cell_type": "code",
   "execution_count": 17,
   "metadata": {
    "id": "dgLqqsZV1D_c",
    "outputId": "8c89367d-f021-4bda-d1ae-7ef733ef2e3a"
   },
   "outputs": [
    {
     "data": {
      "text/plain": [
       "ord__checkout_price                                                                          8.399011e+10\n",
       "meal_id                                                                                      7.928478e+10\n",
       "ord__base_price                                                                              4.022477e+10\n",
       "homepage_featured                                                                            3.001353e+10\n",
       "week                                                                                         2.653246e+10\n",
       "emailer_for_promotion                                                                        2.265444e+10\n",
       "ft__plain_center_id.MAX(fulfilment_center_info.op_area)                                      2.171848e+10\n",
       "ft__plain_meal_id.COUNT(meal_info WHERE cuisine = Italian)                                   1.294714e+10\n",
       "center_id                                                                                    1.211563e+10\n",
       "ft__plain_center_id.MEDIAN(fulfilment_center_info.op_area)                                   1.044460e+10\n",
       "ft__plain_center_id.MAX(fulfilment_center_info.city_code WHERE center_type = TYPE_A)         9.594741e+09\n",
       "ft__plain_meal_id.COUNT(meal_info WHERE cuisine = Indian)                                    9.527914e+09\n",
       "ft__plain_meal_id.COUNT(meal_info WHERE cuisine = Thai)                                      7.089719e+09\n",
       "id                                                                                           6.175428e+09\n",
       "ft__plain_center_id.MAX(fulfilment_center_info.op_area WHERE center_type = TYPE_B)           5.181988e+09\n",
       "ft__plain_center_id.MAX(fulfilment_center_info.city_code)                                    4.627744e+09\n",
       "ft__plain_center_id.MAX(fulfilment_center_info.region_code WHERE center_type = TYPE_A)       4.590871e+09\n",
       "ft__plain_center_id.MEAN(fulfilment_center_info.op_area)                                     4.224595e+09\n",
       "ft__plain_center_id.MAX(fulfilment_center_info.region_code)                                  4.141426e+09\n",
       "ft__plain_center_id.MAX(fulfilment_center_info.op_area WHERE center_type = TYPE_A)           4.003163e+09\n",
       "ft__plain_meal_id.COUNT(meal_info WHERE cuisine = Continental)                               3.801718e+09\n",
       "ft__plain_center_id.MAX(fulfilment_center_info.op_area WHERE center_type = TYPE_C)           3.624792e+09\n",
       "ft__plain_center_id.MAX(fulfilment_center_info.city_code WHERE center_type = TYPE_C)         2.324030e+09\n",
       "ft__plain_center_id.MEAN(fulfilment_center_info.region_code)                                 2.088592e+09\n",
       "ft__plain_center_id.MEDIAN(fulfilment_center_info.city_code)                                 1.627011e+09\n",
       "ft__plain_center_id.MEAN(fulfilment_center_info.op_area WHERE center_type = TYPE_A)          1.280997e+09\n",
       "ft__plain_center_id.MEAN(fulfilment_center_info.op_area WHERE center_type = TYPE_B)          1.217062e+09\n",
       "ft__plain_center_id.MEAN(fulfilment_center_info.city_code WHERE center_type = TYPE_A)        1.212431e+09\n",
       "ft__plain_center_id.MAX(fulfilment_center_info.city_code WHERE center_type = TYPE_B)         1.060233e+09\n",
       "ft__plain_center_id.MEAN(fulfilment_center_info.op_area WHERE center_type = TYPE_C)          9.883219e+08\n",
       "ft__plain_center_id.MEAN(fulfilment_center_info.region_code WHERE center_type = TYPE_A)      8.956029e+08\n",
       "ft__plain_center_id.MIN(fulfilment_center_info.op_area WHERE center_type = TYPE_A)           5.305404e+08\n",
       "ft__plain_center_id.SUM(fulfilment_center_info.city_code)                                    4.966113e+08\n",
       "ft__plain_center_id.MEAN(fulfilment_center_info.region_code WHERE center_type = TYPE_C)      4.277832e+08\n",
       "ft__plain_center_id.MIN(fulfilment_center_info.op_area WHERE center_type = TYPE_B)           4.217756e+08\n",
       "ft__plain_center_id.MEDIAN(fulfilment_center_info.region_code WHERE center_type = TYPE_A)    2.628968e+08\n",
       "ft__plain_center_id.MEDIAN(fulfilment_center_info.op_area WHERE center_type = TYPE_C)        2.263818e+08\n",
       "ft__plain_center_id.MEDIAN(fulfilment_center_info.city_code WHERE center_type = TYPE_B)      2.113207e+08\n",
       "ft__plain_center_id.MIN(fulfilment_center_info.op_area)                                      1.808661e+08\n",
       "ft__plain_center_id.SUM(fulfilment_center_info.city_code WHERE center_type = TYPE_A)         1.483268e+08\n",
       "ft__plain_center_id.MEDIAN(fulfilment_center_info.region_code WHERE center_type = TYPE_C)    1.328271e+08\n",
       "ft__plain_center_id.MIN(fulfilment_center_info.city_code WHERE center_type = TYPE_B)         1.178991e+08\n",
       "ft__plain_center_id.SUM(fulfilment_center_info.op_area WHERE center_type = TYPE_A)           6.443740e+07\n",
       "ft__plain_center_id.COUNT(fulfilment_center_info WHERE center_type = TYPE_C)                 2.685822e+07\n",
       "dtype: float64"
      ]
     },
     "execution_count": 17,
     "metadata": {},
     "output_type": "execute_result"
    }
   ],
   "source": [
    "feature_imps = model.get_features_score()\n",
    "feature_imps"
   ]
  },
  {
   "cell_type": "markdown",
   "metadata": {},
   "source": [
    "Quite a large number of features heve non-zero importances:"
   ]
  },
  {
   "cell_type": "code",
   "execution_count": 24,
   "metadata": {
    "id": "8KHIcWjd1D_c",
    "outputId": "ac1546f5-87c6-4320-a2eb-3044314adb1f"
   },
   "outputs": [
    {
     "data": {
      "text/plain": [
       "Index(['ord__checkout_price', 'meal_id', 'ord__base_price',\n",
       "       'homepage_featured', 'week', 'emailer_for_promotion',\n",
       "       'ft__plain_center_id.MAX(fulfilment_center_info.op_area)',\n",
       "       'ft__plain_meal_id.COUNT(meal_info WHERE cuisine = Italian)',\n",
       "       'center_id',\n",
       "       'ft__plain_center_id.MEDIAN(fulfilment_center_info.op_area)',\n",
       "       'ft__plain_center_id.MAX(fulfilment_center_info.city_code WHERE center_type = TYPE_A)',\n",
       "       'ft__plain_meal_id.COUNT(meal_info WHERE cuisine = Indian)',\n",
       "       'ft__plain_meal_id.COUNT(meal_info WHERE cuisine = Thai)', 'id',\n",
       "       'ft__plain_center_id.MAX(fulfilment_center_info.op_area WHERE center_type = TYPE_B)',\n",
       "       'ft__plain_center_id.MAX(fulfilment_center_info.city_code)',\n",
       "       'ft__plain_center_id.MAX(fulfilment_center_info.region_code WHERE center_type = TYPE_A)',\n",
       "       'ft__plain_center_id.MEAN(fulfilment_center_info.op_area)',\n",
       "       'ft__plain_center_id.MAX(fulfilment_center_info.region_code)',\n",
       "       'ft__plain_center_id.MAX(fulfilment_center_info.op_area WHERE center_type = TYPE_A)',\n",
       "       'ft__plain_meal_id.COUNT(meal_info WHERE cuisine = Continental)',\n",
       "       'ft__plain_center_id.MAX(fulfilment_center_info.op_area WHERE center_type = TYPE_C)',\n",
       "       'ft__plain_center_id.MAX(fulfilment_center_info.city_code WHERE center_type = TYPE_C)',\n",
       "       'ft__plain_center_id.MEAN(fulfilment_center_info.region_code)',\n",
       "       'ft__plain_center_id.MEDIAN(fulfilment_center_info.city_code)',\n",
       "       'ft__plain_center_id.MEAN(fulfilment_center_info.op_area WHERE center_type = TYPE_A)',\n",
       "       'ft__plain_center_id.MEAN(fulfilment_center_info.op_area WHERE center_type = TYPE_B)',\n",
       "       'ft__plain_center_id.MEAN(fulfilment_center_info.city_code WHERE center_type = TYPE_A)',\n",
       "       'ft__plain_center_id.MAX(fulfilment_center_info.city_code WHERE center_type = TYPE_B)',\n",
       "       'ft__plain_center_id.MEAN(fulfilment_center_info.op_area WHERE center_type = TYPE_C)',\n",
       "       'ft__plain_center_id.MEAN(fulfilment_center_info.region_code WHERE center_type = TYPE_A)',\n",
       "       'ft__plain_center_id.MIN(fulfilment_center_info.op_area WHERE center_type = TYPE_A)',\n",
       "       'ft__plain_center_id.SUM(fulfilment_center_info.city_code)',\n",
       "       'ft__plain_center_id.MEAN(fulfilment_center_info.region_code WHERE center_type = TYPE_C)',\n",
       "       'ft__plain_center_id.MIN(fulfilment_center_info.op_area WHERE center_type = TYPE_B)',\n",
       "       'ft__plain_center_id.MEDIAN(fulfilment_center_info.region_code WHERE center_type = TYPE_A)',\n",
       "       'ft__plain_center_id.MEDIAN(fulfilment_center_info.op_area WHERE center_type = TYPE_C)',\n",
       "       'ft__plain_center_id.MEDIAN(fulfilment_center_info.city_code WHERE center_type = TYPE_B)',\n",
       "       'ft__plain_center_id.MIN(fulfilment_center_info.op_area)',\n",
       "       'ft__plain_center_id.SUM(fulfilment_center_info.city_code WHERE center_type = TYPE_A)',\n",
       "       'ft__plain_center_id.MEDIAN(fulfilment_center_info.region_code WHERE center_type = TYPE_C)',\n",
       "       'ft__plain_center_id.MIN(fulfilment_center_info.city_code WHERE center_type = TYPE_B)',\n",
       "       'ft__plain_center_id.SUM(fulfilment_center_info.op_area WHERE center_type = TYPE_A)',\n",
       "       'ft__plain_center_id.COUNT(fulfilment_center_info WHERE center_type = TYPE_C)'],\n",
       "      dtype='object')"
      ]
     },
     "execution_count": 24,
     "metadata": {},
     "output_type": "execute_result"
    }
   ],
   "source": [
    "feature_imps.index[feature_imps > 0]"
   ]
  },
  {
   "cell_type": "markdown",
   "metadata": {},
   "source": [
    "Evaluating model by the out-of-fold  prediction on train data:"
   ]
  },
  {
   "cell_type": "code",
   "execution_count": 36,
   "metadata": {
    "id": "Ws1pd5RD1D_d",
    "outputId": "9431e521-8410-421b-f946-69855492aba5"
   },
   "outputs": [
    {
     "name": "stdout",
     "output_type": "stream",
     "text": [
      "OOF MAE on train: 63.622423965873374\n"
     ]
    }
   ],
   "source": [
    "from sklearn.metrics import mean_absolute_error\n",
    "mae = mean_absolute_error(X_train['plain'][roles['target']], train_pred.data[:, 0])\n",
    "print(f'OOF MAE on train: {mae}')"
   ]
  },
  {
   "cell_type": "markdown",
   "metadata": {
    "id": "p5WU5rV01D_f"
   },
   "source": [
    "### Additional materials\n",
    "\n",
    "- [Official LightAutoML github repo](https://github.com/AILab-MLTools/LightAutoML)\n",
    "- [LightAutoML documentation](https://lightautoml.readthedocs.io/en/latest)\n",
    "- [LightAutoML tutorials](https://github.com/AILab-MLTools/LightAutoML/tree/master/examples/tutorials)\n",
    "- LightAutoML course:\n",
    "    - [Part 1 - general overview](https://ods.ai/tracks/automl-course-part1) \n",
    "    - [Part 2 - LightAutoML specific applications](https://ods.ai/tracks/automl-course-part2)\n",
    "    - [Part 3 - LightAutoML customization](https://ods.ai/tracks/automl-course-part3)\n",
    "- [OpenDataScience AutoML benchmark leaderboard](https://ods.ai/competitions/automl-benchmark/leaderboard)"
   ]
  }
 ],
 "metadata": {
  "colab": {
   "collapsed_sections": [],
   "provenance": []
  },
  "kernelspec": {
   "display_name": ".venv",
   "language": "python",
   "name": "python3"
  },
  "language_info": {
   "codemirror_mode": {
    "name": "ipython",
    "version": 3
   },
   "file_extension": ".py",
   "mimetype": "text/x-python",
   "name": "python",
   "nbconvert_exporter": "python",
   "pygments_lexer": "ipython3",
   "version": "3.8.5"
  },
  "vscode": {
   "interpreter": {
    "hash": "77738023c946bcedeeb6a5c983bcfb7849325694ebd87acbc9267f45e9f4af48"
   }
  }
 },
 "nbformat": 4,
 "nbformat_minor": 1
}

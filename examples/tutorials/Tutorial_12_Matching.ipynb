{
 "cells": [
  {
   "cell_type": "markdown",
   "metadata": {},
   "source": [
    "# How to match? "
   ]
  },
  {
   "cell_type": "markdown",
   "metadata": {},
   "source": [
    "## 0. Import libraries "
   ]
  },
  {
   "cell_type": "code",
   "execution_count": 21,
   "metadata": {},
   "outputs": [],
   "source": [
    "import pandas as pd\n",
    "import warnings\n",
    "import numpy as np\n",
    "from lightautoml.addons.hypex import Matcher\n",
    "\n",
    "warnings.filterwarnings('ignore')\n",
    "%config Completer.use_jedi = False"
   ]
  },
  {
   "cell_type": "markdown",
   "metadata": {},
   "source": [
    "## 1. Create or upload your dataset  \n",
    "In this case we will create random dataset with known effect size  \n",
    "If you have your own dataset, go to the part 2 \n"
   ]
  },
  {
   "cell_type": "code",
   "execution_count": 22,
   "metadata": {},
   "outputs": [
    {
     "data": {
      "text/plain": "   user_id  signup_month  month  spend  treat\n0        0             1      1    458   True\n1        0             1      2    565   True\n2        0             1      3    530   True\n3        0             1      4    623   True\n4        0             1      5    553   True",
      "text/html": "<div>\n<style scoped>\n    .dataframe tbody tr th:only-of-type {\n        vertical-align: middle;\n    }\n\n    .dataframe tbody tr th {\n        vertical-align: top;\n    }\n\n    .dataframe thead th {\n        text-align: right;\n    }\n</style>\n<table border=\"1\" class=\"dataframe\">\n  <thead>\n    <tr style=\"text-align: right;\">\n      <th></th>\n      <th>user_id</th>\n      <th>signup_month</th>\n      <th>month</th>\n      <th>spend</th>\n      <th>treat</th>\n    </tr>\n  </thead>\n  <tbody>\n    <tr>\n      <th>0</th>\n      <td>0</td>\n      <td>1</td>\n      <td>1</td>\n      <td>458</td>\n      <td>True</td>\n    </tr>\n    <tr>\n      <th>1</th>\n      <td>0</td>\n      <td>1</td>\n      <td>2</td>\n      <td>565</td>\n      <td>True</td>\n    </tr>\n    <tr>\n      <th>2</th>\n      <td>0</td>\n      <td>1</td>\n      <td>3</td>\n      <td>530</td>\n      <td>True</td>\n    </tr>\n    <tr>\n      <th>3</th>\n      <td>0</td>\n      <td>1</td>\n      <td>4</td>\n      <td>623</td>\n      <td>True</td>\n    </tr>\n    <tr>\n      <th>4</th>\n      <td>0</td>\n      <td>1</td>\n      <td>5</td>\n      <td>553</td>\n      <td>True</td>\n    </tr>\n  </tbody>\n</table>\n</div>"
     },
     "execution_count": 22,
     "metadata": {},
     "output_type": "execute_result"
    }
   ],
   "source": [
    "# Simulating dataset with known effect size\n",
    "num_users = 10000\n",
    "num_months = 12\n",
    "\n",
    "signup_months = np.random.choice(np.arange(1, num_months), num_users) * np.random.randint(0,2, size=num_users) # signup_months == 0 means customer did not sign up\n",
    "df = pd.DataFrame({\n",
    "    'user_id': np.repeat(np.arange(num_users), num_months),\n",
    "    'signup_month': np.repeat(signup_months, num_months), # signup month == 0 means customer did not sign up\n",
    "    'month': np.tile(np.arange(1, num_months+1), num_users), # months are from 1 to 12\n",
    "    'spend': np.random.poisson(500, num_users*num_months) #np.random.beta(a=2, b=5, size=num_users * num_months)*1000 # centered at 500\n",
    "})\n",
    "# A customer is in the treatment group if and only if they signed up\n",
    "df[\"treat\"] = df[\"signup_month\"]>0\n",
    "# Simulating an effect of month (monotonically decreasing--customers buy less later in the year)\n",
    "df[\"spend\"] = df[\"spend\"] - df[\"month\"]*10\n",
    "# Simulating a simple treatment effect of 100\n",
    "after_signup = (df[\"signup_month\"] < df[\"month\"]) & (df[\"treat\"])\n",
    "df.loc[after_signup,\"spend\"] = df[after_signup][\"spend\"] + 100\n",
    "df.head()"
   ]
  },
  {
   "cell_type": "code",
   "execution_count": 23,
   "metadata": {},
   "outputs": [
    {
     "data": {
      "text/plain": "      user_id  signup_month  treat  pre_spends  post_spends\n0           1             0  False       497.5   418.000000\n1           2             0  False       506.5   411.111111\n2           4             0  False       484.5   401.444444\n3           6             0  False       470.0   415.000000\n4           7             0  False       478.0   398.777778\n...       ...           ...    ...         ...          ...\n5419     9990             0  False       469.5   420.888889\n5420     9991             0  False       458.5   408.111111\n5421     9995             0  False       480.0   419.222222\n5422     9998             0  False       466.0   415.555556\n5423     9999             0  False       485.5   418.444444\n\n[5424 rows x 5 columns]",
      "text/html": "<div>\n<style scoped>\n    .dataframe tbody tr th:only-of-type {\n        vertical-align: middle;\n    }\n\n    .dataframe tbody tr th {\n        vertical-align: top;\n    }\n\n    .dataframe thead th {\n        text-align: right;\n    }\n</style>\n<table border=\"1\" class=\"dataframe\">\n  <thead>\n    <tr style=\"text-align: right;\">\n      <th></th>\n      <th>user_id</th>\n      <th>signup_month</th>\n      <th>treat</th>\n      <th>pre_spends</th>\n      <th>post_spends</th>\n    </tr>\n  </thead>\n  <tbody>\n    <tr>\n      <th>0</th>\n      <td>1</td>\n      <td>0</td>\n      <td>False</td>\n      <td>497.5</td>\n      <td>418.000000</td>\n    </tr>\n    <tr>\n      <th>1</th>\n      <td>2</td>\n      <td>0</td>\n      <td>False</td>\n      <td>506.5</td>\n      <td>411.111111</td>\n    </tr>\n    <tr>\n      <th>2</th>\n      <td>4</td>\n      <td>0</td>\n      <td>False</td>\n      <td>484.5</td>\n      <td>401.444444</td>\n    </tr>\n    <tr>\n      <th>3</th>\n      <td>6</td>\n      <td>0</td>\n      <td>False</td>\n      <td>470.0</td>\n      <td>415.000000</td>\n    </tr>\n    <tr>\n      <th>4</th>\n      <td>7</td>\n      <td>0</td>\n      <td>False</td>\n      <td>478.0</td>\n      <td>398.777778</td>\n    </tr>\n    <tr>\n      <th>...</th>\n      <td>...</td>\n      <td>...</td>\n      <td>...</td>\n      <td>...</td>\n      <td>...</td>\n    </tr>\n    <tr>\n      <th>5419</th>\n      <td>9990</td>\n      <td>0</td>\n      <td>False</td>\n      <td>469.5</td>\n      <td>420.888889</td>\n    </tr>\n    <tr>\n      <th>5420</th>\n      <td>9991</td>\n      <td>0</td>\n      <td>False</td>\n      <td>458.5</td>\n      <td>408.111111</td>\n    </tr>\n    <tr>\n      <th>5421</th>\n      <td>9995</td>\n      <td>0</td>\n      <td>False</td>\n      <td>480.0</td>\n      <td>419.222222</td>\n    </tr>\n    <tr>\n      <th>5422</th>\n      <td>9998</td>\n      <td>0</td>\n      <td>False</td>\n      <td>466.0</td>\n      <td>415.555556</td>\n    </tr>\n    <tr>\n      <th>5423</th>\n      <td>9999</td>\n      <td>0</td>\n      <td>False</td>\n      <td>485.5</td>\n      <td>418.444444</td>\n    </tr>\n  </tbody>\n</table>\n<p>5424 rows × 5 columns</p>\n</div>"
     },
     "execution_count": 23,
     "metadata": {},
     "output_type": "execute_result"
    }
   ],
   "source": [
    "# Setting the signup month (for ease of analysis)\n",
    "i = 3\n",
    "df_i_signupmonth = (\n",
    "    df[df.signup_month.isin([0, i])]\n",
    "    .groupby([\"user_id\", \"signup_month\", \"treat\"])\n",
    "    .apply(\n",
    "        lambda x: pd.Series(\n",
    "            {\n",
    "                \"pre_spends\": x.loc[x.month < i, \"spend\"].mean(),\n",
    "                \"post_spends\": x.loc[x.month > i, \"spend\"].mean(),\n",
    "            }\n",
    "        )\n",
    "    )\n",
    "    .reset_index()\n",
    ")\n",
    "df_i_signupmonth"
   ]
  },
  {
   "cell_type": "code",
   "execution_count": 24,
   "metadata": {},
   "outputs": [
    {
     "data": {
      "text/plain": "   user_id  signup_month  treat  pre_spends  post_spends  age  is_male  \\\n0        1             0      0       497.5   418.000000   35        0   \n1        2             0      0       506.5   411.111111   36        1   \n2        4             0      0       484.5   401.444444   19        1   \n3        6             0      0       470.0   415.000000   57        0   \n4        7             0      0       478.0   398.777778   69        1   \n\n  industry  \n0        1  \n1        1  \n2        2  \n3        2  \n4        1  ",
      "text/html": "<div>\n<style scoped>\n    .dataframe tbody tr th:only-of-type {\n        vertical-align: middle;\n    }\n\n    .dataframe tbody tr th {\n        vertical-align: top;\n    }\n\n    .dataframe thead th {\n        text-align: right;\n    }\n</style>\n<table border=\"1\" class=\"dataframe\">\n  <thead>\n    <tr style=\"text-align: right;\">\n      <th></th>\n      <th>user_id</th>\n      <th>signup_month</th>\n      <th>treat</th>\n      <th>pre_spends</th>\n      <th>post_spends</th>\n      <th>age</th>\n      <th>is_male</th>\n      <th>industry</th>\n    </tr>\n  </thead>\n  <tbody>\n    <tr>\n      <th>0</th>\n      <td>1</td>\n      <td>0</td>\n      <td>0</td>\n      <td>497.5</td>\n      <td>418.000000</td>\n      <td>35</td>\n      <td>0</td>\n      <td>1</td>\n    </tr>\n    <tr>\n      <th>1</th>\n      <td>2</td>\n      <td>0</td>\n      <td>0</td>\n      <td>506.5</td>\n      <td>411.111111</td>\n      <td>36</td>\n      <td>1</td>\n      <td>1</td>\n    </tr>\n    <tr>\n      <th>2</th>\n      <td>4</td>\n      <td>0</td>\n      <td>0</td>\n      <td>484.5</td>\n      <td>401.444444</td>\n      <td>19</td>\n      <td>1</td>\n      <td>2</td>\n    </tr>\n    <tr>\n      <th>3</th>\n      <td>6</td>\n      <td>0</td>\n      <td>0</td>\n      <td>470.0</td>\n      <td>415.000000</td>\n      <td>57</td>\n      <td>0</td>\n      <td>2</td>\n    </tr>\n    <tr>\n      <th>4</th>\n      <td>7</td>\n      <td>0</td>\n      <td>0</td>\n      <td>478.0</td>\n      <td>398.777778</td>\n      <td>69</td>\n      <td>1</td>\n      <td>1</td>\n    </tr>\n  </tbody>\n</table>\n</div>"
     },
     "execution_count": 24,
     "metadata": {},
     "output_type": "execute_result"
    }
   ],
   "source": [
    "# Additional category features\n",
    "gender = np.random.choice(a=[0,1], size=df_i_signupmonth.user_id.nunique())\n",
    "age = np.random.choice(a=range(18, 70), size=df_i_signupmonth.user_id.nunique())\n",
    "industry = np.random.choice(a=range(1, 3), size=df_i_signupmonth.user_id.nunique())\n",
    "df_i_signupmonth['age'] = age\n",
    "df_i_signupmonth['is_male'] =  gender\n",
    "df_i_signupmonth['industry'] =  industry\n",
    "df_i_signupmonth['industry'] = df_i_signupmonth['industry'].astype('str')\n",
    "df_i_signupmonth['treat'] = df_i_signupmonth['treat'].astype(int)\n",
    "df_i_signupmonth.head()"
   ]
  },
  {
   "cell_type": "code",
   "execution_count": 25,
   "metadata": {},
   "outputs": [
    {
     "data": {
      "text/plain": "Index(['user_id', 'signup_month', 'treat', 'pre_spends', 'post_spends', 'age',\n       'is_male', 'industry'],\n      dtype='object')"
     },
     "execution_count": 25,
     "metadata": {},
     "output_type": "execute_result"
    }
   ],
   "source": [
    "df_i_signupmonth.columns"
   ]
  },
  {
   "cell_type": "markdown",
   "metadata": {},
   "source": [
    "## 2. Matching  \n",
    "### 2.0 Init params\n",
    "info_col used to define informative attributes that should not be part of matching, such as user_id  \n",
    "But to explicitly store this column in the table, so that you can compare directly after computation"
   ]
  },
  {
   "cell_type": "code",
   "execution_count": 26,
   "metadata": {},
   "outputs": [],
   "source": [
    "info_col = ['user_id', 'signup_month']\n",
    "\n",
    "outcome = 'post_spends'\n",
    "treatment = 'treat'"
   ]
  },
  {
   "cell_type": "markdown",
   "metadata": {},
   "source": [
    "### 2.1 Simple matching\n",
    "This is the easiest way to initialize and calculate metrics on a Matching task  \n",
    "Use it when you are clear about each attribute or if you don't have any additional task conditions (Strict equality for certain features) "
   ]
  },
  {
   "cell_type": "code",
   "execution_count": 27,
   "metadata": {},
   "outputs": [
    {
     "data": {
      "text/plain": "  0%|          | 0/5424 [00:00<?, ?it/s]",
      "application/vnd.jupyter.widget-view+json": {
       "version_major": 2,
       "version_minor": 0,
       "model_id": "e0cd498b9f7a498bafa9174c1dc364f5"
      }
     },
     "metadata": {},
     "output_type": "display_data"
    }
   ],
   "source": [
    "# Standard model with base parameters\n",
    "model = Matcher(input_data=df_i_signupmonth, outcome=outcome, treatment=treatment, info_col=info_col)\n",
    "results, quality_results, df_matched = model.estimate()"
   ]
  },
  {
   "cell_type": "markdown",
   "metadata": {},
   "source": [
    "### 2.2 Matching with a fixed variable  \n",
    "Used when you have categorical feature(s) that you want to compare by strict equality  \n",
    "group_col is used for strict comparison of categorical features.  \n",
    "In our case there is only one attribute  \n",
    "If there are several such attributes, you should make one of them and use it"
   ]
  },
  {
   "cell_type": "code",
   "execution_count": 28,
   "metadata": {},
   "outputs": [],
   "source": [
    "# group_col is used for strict comparison of categorical features.  \n",
    "# In our case there is only one attribute  \n",
    "# If there are several such attributes, you should make one of them and use it\n",
    "\n",
    "group_col = \"industry\""
   ]
  },
  {
   "cell_type": "code",
   "execution_count": 29,
   "metadata": {},
   "outputs": [
    {
     "data": {
      "text/plain": "  0%|          | 0/4 [00:00<?, ?it/s]",
      "application/vnd.jupyter.widget-view+json": {
       "version_major": 2,
       "version_minor": 0,
       "model_id": "e08ebb26c2b3447a9610c9a6a47b97ad"
      }
     },
     "metadata": {},
     "output_type": "display_data"
    }
   ],
   "source": [
    "model = Matcher(input_data=df_i_signupmonth, outcome=outcome, treatment=treatment,\n",
    "                info_col=info_col, group_col=group_col)\n",
    "results, quality_results, df_matched = model.estimate()"
   ]
  },
  {
   "cell_type": "markdown",
   "metadata": {},
   "source": [
    "### 2.3 Matching but you don't know which features are better to use  \n",
    "This is the easiest way to initialize and calculate metrics on a Matching task  \n",
    "Use this method when you want to select the most important features and make matching based on them. "
   ]
  },
  {
   "cell_type": "code",
   "execution_count": 30,
   "metadata": {},
   "outputs": [],
   "source": [
    "model = Matcher(input_data=df_i_signupmonth, outcome=outcome, treatment=treatment,\n",
    "                info_col=info_col, group_col=group_col)"
   ]
  },
  {
   "cell_type": "code",
   "execution_count": 31,
   "metadata": {
    "scrolled": true
   },
   "outputs": [
    {
     "data": {
      "text/plain": "      Feature    Importance\n0  pre_spends  23054.999756\n3    industry  23054.999756\n1         age  22608.830078\n2     is_male   2913.379883",
      "text/html": "<div>\n<style scoped>\n    .dataframe tbody tr th:only-of-type {\n        vertical-align: middle;\n    }\n\n    .dataframe tbody tr th {\n        vertical-align: top;\n    }\n\n    .dataframe thead th {\n        text-align: right;\n    }\n</style>\n<table border=\"1\" class=\"dataframe\">\n  <thead>\n    <tr style=\"text-align: right;\">\n      <th></th>\n      <th>Feature</th>\n      <th>Importance</th>\n    </tr>\n  </thead>\n  <tbody>\n    <tr>\n      <th>0</th>\n      <td>pre_spends</td>\n      <td>23054.999756</td>\n    </tr>\n    <tr>\n      <th>3</th>\n      <td>industry</td>\n      <td>23054.999756</td>\n    </tr>\n    <tr>\n      <th>1</th>\n      <td>age</td>\n      <td>22608.830078</td>\n    </tr>\n    <tr>\n      <th>2</th>\n      <td>is_male</td>\n      <td>2913.379883</td>\n    </tr>\n  </tbody>\n</table>\n</div>"
     },
     "execution_count": 31,
     "metadata": {},
     "output_type": "execute_result"
    }
   ],
   "source": [
    "features_importance = model.lama_feature_select()\n",
    "features_importance"
   ]
  },
  {
   "cell_type": "code",
   "execution_count": 32,
   "metadata": {},
   "outputs": [],
   "source": [
    "features = features_importance['Feature'].to_list()"
   ]
  },
  {
   "cell_type": "code",
   "execution_count": 33,
   "metadata": {},
   "outputs": [
    {
     "data": {
      "text/plain": "  0%|          | 0/4 [00:00<?, ?it/s]",
      "application/vnd.jupyter.widget-view+json": {
       "version_major": 2,
       "version_minor": 0,
       "model_id": "c742b1ca146e49298f39f9a260734f56"
      }
     },
     "metadata": {},
     "output_type": "display_data"
    }
   ],
   "source": [
    "# You can use both variant that you like. So you can just list the features to be matched\n",
    "\n",
    "#results, quality_results = model.estimate(features=features_importance[:3])\n",
    "results, quality_results, df_matched = model.estimate(features=features[:3])"
   ]
  },
  {
   "cell_type": "code",
   "execution_count": 34,
   "metadata": {},
   "outputs": [
    {
     "data": {
      "text/plain": "      index  pre_spends  age  is_male industry  pre_spends_matched  \\\n0      4990       492.5   25        1        1               491.5   \n1      4991       490.5   45        1        1               490.0   \n2      4992       485.5   67        0        1               485.5   \n3      4993       492.5   47        0        1               493.0   \n4      4994       496.0   61        0        1               497.0   \n...     ...         ...  ...      ...      ...                 ...   \n4985   4985       475.5   24        0        2               478.5   \n4986   4986       469.5   19        0        2               469.0   \n4987   4987       480.0   29        1        2               479.0   \n4988   4988       466.0   20        1        2               467.0   \n4989   4989       485.5   33        0        2               485.5   \n\n      age_matched  is_male_matched index_matched industry_matched  \\\n0            25.0              1.0        [1562]                1   \n1            45.0              1.0        [1747]                1   \n2            67.0              1.0        [2163]                1   \n3            47.0              1.0         [971]                1   \n4            61.0              1.0  [1317, 2406]                1   \n...           ...              ...           ...              ...   \n4985         24.0              1.0         [251]                2   \n4986         21.0              1.0         [341]                2   \n4987         29.0              1.0         [252]                2   \n4988         22.0              1.0         [307]                2   \n4989         32.0              0.0         [337]                2   \n\n      post_spends  post_spends_matched  post_spends_matched_bias  treat  \\\n0      510.777778           425.111111                 85.678375      1   \n1      514.222222           415.000000                 99.228076      1   \n2      520.666667           427.555556                 93.111111      1   \n3      519.666667           407.111111                112.549701      1   \n4      528.111111           426.000000                102.099403      1   \n...           ...                  ...                       ...    ...   \n4985   415.888889           530.555556                114.741844      0   \n4986   420.888889           519.000000                 98.043021      0   \n4987   419.222222           521.000000                101.752719      0   \n4988   415.555556           520.555556                104.969499      0   \n4989   418.444444           518.777778                100.361114      0   \n\n      treat_matched  \n0                 0  \n1                 0  \n2                 0  \n3                 0  \n4                 0  \n...             ...  \n4985              1  \n4986              1  \n4987              1  \n4988              1  \n4989              1  \n\n[5424 rows x 15 columns]",
      "text/html": "<div>\n<style scoped>\n    .dataframe tbody tr th:only-of-type {\n        vertical-align: middle;\n    }\n\n    .dataframe tbody tr th {\n        vertical-align: top;\n    }\n\n    .dataframe thead th {\n        text-align: right;\n    }\n</style>\n<table border=\"1\" class=\"dataframe\">\n  <thead>\n    <tr style=\"text-align: right;\">\n      <th></th>\n      <th>index</th>\n      <th>pre_spends</th>\n      <th>age</th>\n      <th>is_male</th>\n      <th>industry</th>\n      <th>pre_spends_matched</th>\n      <th>age_matched</th>\n      <th>is_male_matched</th>\n      <th>index_matched</th>\n      <th>industry_matched</th>\n      <th>post_spends</th>\n      <th>post_spends_matched</th>\n      <th>post_spends_matched_bias</th>\n      <th>treat</th>\n      <th>treat_matched</th>\n    </tr>\n  </thead>\n  <tbody>\n    <tr>\n      <th>0</th>\n      <td>4990</td>\n      <td>492.5</td>\n      <td>25</td>\n      <td>1</td>\n      <td>1</td>\n      <td>491.5</td>\n      <td>25.0</td>\n      <td>1.0</td>\n      <td>[1562]</td>\n      <td>1</td>\n      <td>510.777778</td>\n      <td>425.111111</td>\n      <td>85.678375</td>\n      <td>1</td>\n      <td>0</td>\n    </tr>\n    <tr>\n      <th>1</th>\n      <td>4991</td>\n      <td>490.5</td>\n      <td>45</td>\n      <td>1</td>\n      <td>1</td>\n      <td>490.0</td>\n      <td>45.0</td>\n      <td>1.0</td>\n      <td>[1747]</td>\n      <td>1</td>\n      <td>514.222222</td>\n      <td>415.000000</td>\n      <td>99.228076</td>\n      <td>1</td>\n      <td>0</td>\n    </tr>\n    <tr>\n      <th>2</th>\n      <td>4992</td>\n      <td>485.5</td>\n      <td>67</td>\n      <td>0</td>\n      <td>1</td>\n      <td>485.5</td>\n      <td>67.0</td>\n      <td>1.0</td>\n      <td>[2163]</td>\n      <td>1</td>\n      <td>520.666667</td>\n      <td>427.555556</td>\n      <td>93.111111</td>\n      <td>1</td>\n      <td>0</td>\n    </tr>\n    <tr>\n      <th>3</th>\n      <td>4993</td>\n      <td>492.5</td>\n      <td>47</td>\n      <td>0</td>\n      <td>1</td>\n      <td>493.0</td>\n      <td>47.0</td>\n      <td>1.0</td>\n      <td>[971]</td>\n      <td>1</td>\n      <td>519.666667</td>\n      <td>407.111111</td>\n      <td>112.549701</td>\n      <td>1</td>\n      <td>0</td>\n    </tr>\n    <tr>\n      <th>4</th>\n      <td>4994</td>\n      <td>496.0</td>\n      <td>61</td>\n      <td>0</td>\n      <td>1</td>\n      <td>497.0</td>\n      <td>61.0</td>\n      <td>1.0</td>\n      <td>[1317, 2406]</td>\n      <td>1</td>\n      <td>528.111111</td>\n      <td>426.000000</td>\n      <td>102.099403</td>\n      <td>1</td>\n      <td>0</td>\n    </tr>\n    <tr>\n      <th>...</th>\n      <td>...</td>\n      <td>...</td>\n      <td>...</td>\n      <td>...</td>\n      <td>...</td>\n      <td>...</td>\n      <td>...</td>\n      <td>...</td>\n      <td>...</td>\n      <td>...</td>\n      <td>...</td>\n      <td>...</td>\n      <td>...</td>\n      <td>...</td>\n      <td>...</td>\n    </tr>\n    <tr>\n      <th>4985</th>\n      <td>4985</td>\n      <td>475.5</td>\n      <td>24</td>\n      <td>0</td>\n      <td>2</td>\n      <td>478.5</td>\n      <td>24.0</td>\n      <td>1.0</td>\n      <td>[251]</td>\n      <td>2</td>\n      <td>415.888889</td>\n      <td>530.555556</td>\n      <td>114.741844</td>\n      <td>0</td>\n      <td>1</td>\n    </tr>\n    <tr>\n      <th>4986</th>\n      <td>4986</td>\n      <td>469.5</td>\n      <td>19</td>\n      <td>0</td>\n      <td>2</td>\n      <td>469.0</td>\n      <td>21.0</td>\n      <td>1.0</td>\n      <td>[341]</td>\n      <td>2</td>\n      <td>420.888889</td>\n      <td>519.000000</td>\n      <td>98.043021</td>\n      <td>0</td>\n      <td>1</td>\n    </tr>\n    <tr>\n      <th>4987</th>\n      <td>4987</td>\n      <td>480.0</td>\n      <td>29</td>\n      <td>1</td>\n      <td>2</td>\n      <td>479.0</td>\n      <td>29.0</td>\n      <td>1.0</td>\n      <td>[252]</td>\n      <td>2</td>\n      <td>419.222222</td>\n      <td>521.000000</td>\n      <td>101.752719</td>\n      <td>0</td>\n      <td>1</td>\n    </tr>\n    <tr>\n      <th>4988</th>\n      <td>4988</td>\n      <td>466.0</td>\n      <td>20</td>\n      <td>1</td>\n      <td>2</td>\n      <td>467.0</td>\n      <td>22.0</td>\n      <td>1.0</td>\n      <td>[307]</td>\n      <td>2</td>\n      <td>415.555556</td>\n      <td>520.555556</td>\n      <td>104.969499</td>\n      <td>0</td>\n      <td>1</td>\n    </tr>\n    <tr>\n      <th>4989</th>\n      <td>4989</td>\n      <td>485.5</td>\n      <td>33</td>\n      <td>0</td>\n      <td>2</td>\n      <td>485.5</td>\n      <td>32.0</td>\n      <td>0.0</td>\n      <td>[337]</td>\n      <td>2</td>\n      <td>418.444444</td>\n      <td>518.777778</td>\n      <td>100.361114</td>\n      <td>0</td>\n      <td>1</td>\n    </tr>\n  </tbody>\n</table>\n<p>5424 rows × 15 columns</p>\n</div>"
     },
     "execution_count": 34,
     "metadata": {},
     "output_type": "execute_result"
    }
   ],
   "source": [
    "df_matched"
   ]
  },
  {
   "cell_type": "markdown",
   "metadata": {},
   "source": [
    "## 3. Results  \n",
    "### 3.1 ATE, ATT, ATC"
   ]
  },
  {
   "cell_type": "code",
   "execution_count": 35,
   "metadata": {},
   "outputs": [
    {
     "data": {
      "text/plain": "     effect_size   std_err  p-val   ci_lower    ci_upper\nATE   100.299458  0.605344    0.0  99.112985  101.485932\nATC   100.233913  0.617081    0.0  99.024434  101.443392\nATT   101.053079  0.712787    0.0  99.656016  102.450141",
      "text/html": "<div>\n<style scoped>\n    .dataframe tbody tr th:only-of-type {\n        vertical-align: middle;\n    }\n\n    .dataframe tbody tr th {\n        vertical-align: top;\n    }\n\n    .dataframe thead th {\n        text-align: right;\n    }\n</style>\n<table border=\"1\" class=\"dataframe\">\n  <thead>\n    <tr style=\"text-align: right;\">\n      <th></th>\n      <th>effect_size</th>\n      <th>std_err</th>\n      <th>p-val</th>\n      <th>ci_lower</th>\n      <th>ci_upper</th>\n    </tr>\n  </thead>\n  <tbody>\n    <tr>\n      <th>ATE</th>\n      <td>100.299458</td>\n      <td>0.605344</td>\n      <td>0.0</td>\n      <td>99.112985</td>\n      <td>101.485932</td>\n    </tr>\n    <tr>\n      <th>ATC</th>\n      <td>100.233913</td>\n      <td>0.617081</td>\n      <td>0.0</td>\n      <td>99.024434</td>\n      <td>101.443392</td>\n    </tr>\n    <tr>\n      <th>ATT</th>\n      <td>101.053079</td>\n      <td>0.712787</td>\n      <td>0.0</td>\n      <td>99.656016</td>\n      <td>102.450141</td>\n    </tr>\n  </tbody>\n</table>\n</div>"
     },
     "execution_count": 35,
     "metadata": {},
     "output_type": "execute_result"
    }
   ],
   "source": [
    "# model.matcher.results\n",
    "results"
   ]
  },
  {
   "cell_type": "markdown",
   "metadata": {},
   "source": [
    "### 3.2 SMD, PSI, KS-test, repeats"
   ]
  },
  {
   "cell_type": "code",
   "execution_count": 36,
   "metadata": {},
   "outputs": [
    {
     "data": {
      "text/plain": "{'psi':         column_treated  anomaly_score_treated check_result_treated  \\\n 0          age_treated                   0.00                   OK   \n 1     industry_treated                   0.00                   OK   \n 2  post_spends_treated                  16.11                  NOK   \n 3   pre_spends_treated                   0.01                   OK   \n \n         column_untreated  anomaly_score_untreated check_result_untreated  \n 0          age_untreated                     0.01                     OK  \n 1     industry_untreated                     0.00                     OK  \n 2  post_spends_untreated                     8.25                    NOK  \n 3   pre_spends_untreated                     0.00                     OK  ,\n 'ks_test':             match_control_to_treat  match_treat_to_control\n age                       1.000000                0.949318\n is_male                   0.028176                0.676574\n pre_spends                1.000000                0.405462,\n 'smd':             match_control_to_treat  match_treat_to_control\n age                       0.001053                0.002432\n is_male                   0.087844                0.022242\n pre_spends                0.000959                0.000371,\n 'repeats': {'match_control_to_treat': 0.92, 'match_treat_to_control': 0.09}}"
     },
     "execution_count": 36,
     "metadata": {},
     "output_type": "execute_result"
    }
   ],
   "source": [
    "# matching quality result - SMD\n",
    "model.quality_result"
   ]
  },
  {
   "cell_type": "code",
   "execution_count": 37,
   "metadata": {},
   "outputs": [
    {
     "data": {
      "text/plain": "        column_treated  anomaly_score_treated check_result_treated  \\\n0          age_treated                   0.00                   OK   \n1     industry_treated                   0.00                   OK   \n2  post_spends_treated                  16.11                  NOK   \n3   pre_spends_treated                   0.01                   OK   \n\n        column_untreated  anomaly_score_untreated check_result_untreated  \n0          age_untreated                     0.01                     OK  \n1     industry_untreated                     0.00                     OK  \n2  post_spends_untreated                     8.25                    NOK  \n3   pre_spends_untreated                     0.00                     OK  ",
      "text/html": "<div>\n<style scoped>\n    .dataframe tbody tr th:only-of-type {\n        vertical-align: middle;\n    }\n\n    .dataframe tbody tr th {\n        vertical-align: top;\n    }\n\n    .dataframe thead th {\n        text-align: right;\n    }\n</style>\n<table border=\"1\" class=\"dataframe\">\n  <thead>\n    <tr style=\"text-align: right;\">\n      <th></th>\n      <th>column_treated</th>\n      <th>anomaly_score_treated</th>\n      <th>check_result_treated</th>\n      <th>column_untreated</th>\n      <th>anomaly_score_untreated</th>\n      <th>check_result_untreated</th>\n    </tr>\n  </thead>\n  <tbody>\n    <tr>\n      <th>0</th>\n      <td>age_treated</td>\n      <td>0.00</td>\n      <td>OK</td>\n      <td>age_untreated</td>\n      <td>0.01</td>\n      <td>OK</td>\n    </tr>\n    <tr>\n      <th>1</th>\n      <td>industry_treated</td>\n      <td>0.00</td>\n      <td>OK</td>\n      <td>industry_untreated</td>\n      <td>0.00</td>\n      <td>OK</td>\n    </tr>\n    <tr>\n      <th>2</th>\n      <td>post_spends_treated</td>\n      <td>16.11</td>\n      <td>NOK</td>\n      <td>post_spends_untreated</td>\n      <td>8.25</td>\n      <td>NOK</td>\n    </tr>\n    <tr>\n      <th>3</th>\n      <td>pre_spends_treated</td>\n      <td>0.01</td>\n      <td>OK</td>\n      <td>pre_spends_untreated</td>\n      <td>0.00</td>\n      <td>OK</td>\n    </tr>\n  </tbody>\n</table>\n</div>"
     },
     "execution_count": 37,
     "metadata": {},
     "output_type": "execute_result"
    }
   ],
   "source": [
    "# matching quality result - PSI\n",
    "model.quality_result['psi']"
   ]
  },
  {
   "cell_type": "code",
   "execution_count": 38,
   "metadata": {},
   "outputs": [
    {
     "data": {
      "text/plain": "            match_control_to_treat  match_treat_to_control\nage                       1.000000                0.949318\nis_male                   0.028176                0.676574\npre_spends                1.000000                0.405462",
      "text/html": "<div>\n<style scoped>\n    .dataframe tbody tr th:only-of-type {\n        vertical-align: middle;\n    }\n\n    .dataframe tbody tr th {\n        vertical-align: top;\n    }\n\n    .dataframe thead th {\n        text-align: right;\n    }\n</style>\n<table border=\"1\" class=\"dataframe\">\n  <thead>\n    <tr style=\"text-align: right;\">\n      <th></th>\n      <th>match_control_to_treat</th>\n      <th>match_treat_to_control</th>\n    </tr>\n  </thead>\n  <tbody>\n    <tr>\n      <th>age</th>\n      <td>1.000000</td>\n      <td>0.949318</td>\n    </tr>\n    <tr>\n      <th>is_male</th>\n      <td>0.028176</td>\n      <td>0.676574</td>\n    </tr>\n    <tr>\n      <th>pre_spends</th>\n      <td>1.000000</td>\n      <td>0.405462</td>\n    </tr>\n  </tbody>\n</table>\n</div>"
     },
     "execution_count": 38,
     "metadata": {},
     "output_type": "execute_result"
    }
   ],
   "source": [
    "# matching quality result - KS-test\n",
    "\n",
    "model.quality_result['ks_test']"
   ]
  },
  {
   "cell_type": "code",
   "execution_count": 39,
   "metadata": {},
   "outputs": [
    {
     "data": {
      "text/plain": "{'match_control_to_treat': 0.92, 'match_treat_to_control': 0.09}"
     },
     "execution_count": 39,
     "metadata": {},
     "output_type": "execute_result"
    }
   ],
   "source": [
    "# matching quality result - repeats\n",
    "model.quality_result['repeats']"
   ]
  },
  {
   "cell_type": "markdown",
   "metadata": {},
   "source": [
    "### 3.3 Validation\n",
    "validate result with placebo treatment  \n",
    "our new effect size is close to zero (it should be)"
   ]
  },
  {
   "cell_type": "code",
   "execution_count": 40,
   "metadata": {},
   "outputs": [
    {
     "data": {
      "text/plain": "  0%|          | 0/10 [00:00<?, ?it/s]",
      "application/vnd.jupyter.widget-view+json": {
       "version_major": 2,
       "version_minor": 0,
       "model_id": "c7e351de43164f72a6ab8c085f709784"
      }
     },
     "metadata": {},
     "output_type": "display_data"
    },
    {
     "data": {
      "text/plain": "{'post_spends': [100.23020295532162, 0.35204903782360664]}"
     },
     "execution_count": 40,
     "metadata": {},
     "output_type": "execute_result"
    }
   ],
   "source": [
    " \n",
    "model.validate_result()\n",
    " "
   ]
  },
  {
   "cell_type": "code",
   "execution_count": 20,
   "metadata": {},
   "outputs": [],
   "source": []
  },
  {
   "cell_type": "code",
   "execution_count": 20,
   "metadata": {},
   "outputs": [],
   "source": []
  },
  {
   "cell_type": "code",
   "execution_count": null,
   "metadata": {},
   "outputs": [],
   "source": []
  },
  {
   "cell_type": "code",
   "execution_count": null,
   "metadata": {},
   "outputs": [],
   "source": []
  },
  {
   "cell_type": "code",
   "execution_count": null,
   "metadata": {},
   "outputs": [],
   "source": []
  },
  {
   "cell_type": "code",
   "execution_count": null,
   "metadata": {},
   "outputs": [],
   "source": []
  },
  {
   "cell_type": "code",
   "execution_count": null,
   "metadata": {},
   "outputs": [],
   "source": []
  }
 ],
 "metadata": {
  "kernelspec": {
   "display_name": "Python 3 (ipykernel)",
   "language": "python",
   "name": "python3"
  },
  "language_info": {
   "codemirror_mode": {
    "name": "ipython",
    "version": 3
   },
   "file_extension": ".py",
   "mimetype": "text/x-python",
   "name": "python",
   "nbconvert_exporter": "python",
   "pygments_lexer": "ipython3",
   "version": "3.8.16"
  }
 },
 "nbformat": 4,
 "nbformat_minor": 1
}

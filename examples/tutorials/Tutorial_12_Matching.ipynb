{
 "cells": [
  {
   "cell_type": "markdown",
   "metadata": {},
   "source": [
    "# How to match? "
   ]
  },
  {
   "cell_type": "markdown",
   "metadata": {},
   "source": [
    "## 0. Import libraries "
   ]
  },
  {
   "cell_type": "code",
   "execution_count": 22,
   "metadata": {},
   "outputs": [],
   "source": [
    "import pandas as pd\n",
    "import warnings\n",
    "import numpy as np\n",
    "from lightautoml.addons.hypex import Matcher\n",
    "\n",
    "warnings.filterwarnings('ignore')\n",
    "%config Completer.use_jedi = False"
   ]
  },
  {
   "cell_type": "markdown",
   "metadata": {},
   "source": [
    "## 1. Create or upload your dataset  \n",
    "In this case we will create random dataset with known effect size  \n",
    "If you have your own dataset, go to the part 2 \n"
   ]
  },
  {
   "cell_type": "code",
   "execution_count": 23,
   "metadata": {},
   "outputs": [
    {
     "data": {
      "text/plain": "   user_id  signup_month  month  spend  treat\n0        0            11      1    494   True\n1        0            11      2    451   True\n2        0            11      3    459   True\n3        0            11      4    480   True\n4        0            11      5    444   True",
      "text/html": "<div>\n<style scoped>\n    .dataframe tbody tr th:only-of-type {\n        vertical-align: middle;\n    }\n\n    .dataframe tbody tr th {\n        vertical-align: top;\n    }\n\n    .dataframe thead th {\n        text-align: right;\n    }\n</style>\n<table border=\"1\" class=\"dataframe\">\n  <thead>\n    <tr style=\"text-align: right;\">\n      <th></th>\n      <th>user_id</th>\n      <th>signup_month</th>\n      <th>month</th>\n      <th>spend</th>\n      <th>treat</th>\n    </tr>\n  </thead>\n  <tbody>\n    <tr>\n      <th>0</th>\n      <td>0</td>\n      <td>11</td>\n      <td>1</td>\n      <td>494</td>\n      <td>True</td>\n    </tr>\n    <tr>\n      <th>1</th>\n      <td>0</td>\n      <td>11</td>\n      <td>2</td>\n      <td>451</td>\n      <td>True</td>\n    </tr>\n    <tr>\n      <th>2</th>\n      <td>0</td>\n      <td>11</td>\n      <td>3</td>\n      <td>459</td>\n      <td>True</td>\n    </tr>\n    <tr>\n      <th>3</th>\n      <td>0</td>\n      <td>11</td>\n      <td>4</td>\n      <td>480</td>\n      <td>True</td>\n    </tr>\n    <tr>\n      <th>4</th>\n      <td>0</td>\n      <td>11</td>\n      <td>5</td>\n      <td>444</td>\n      <td>True</td>\n    </tr>\n  </tbody>\n</table>\n</div>"
     },
     "execution_count": 23,
     "metadata": {},
     "output_type": "execute_result"
    }
   ],
   "source": [
    "# Simulating dataset with known effect size\n",
    "num_users = 10000\n",
    "num_months = 12\n",
    "\n",
    "signup_months = np.random.choice(np.arange(1, num_months), num_users) * np.random.randint(0,2, size=num_users) # signup_months == 0 means customer did not sign up\n",
    "df = pd.DataFrame({\n",
    "    'user_id': np.repeat(np.arange(num_users), num_months),\n",
    "    'signup_month': np.repeat(signup_months, num_months), # signup month == 0 means customer did not sign up\n",
    "    'month': np.tile(np.arange(1, num_months+1), num_users), # months are from 1 to 12\n",
    "    'spend': np.random.poisson(500, num_users*num_months) #np.random.beta(a=2, b=5, size=num_users * num_months)*1000 # centered at 500\n",
    "})\n",
    "# A customer is in the treatment group if and only if they signed up\n",
    "df[\"treat\"] = df[\"signup_month\"]>0\n",
    "# Simulating an effect of month (monotonically decreasing--customers buy less later in the year)\n",
    "df[\"spend\"] = df[\"spend\"] - df[\"month\"]*10\n",
    "# Simulating a simple treatment effect of 100\n",
    "after_signup = (df[\"signup_month\"] < df[\"month\"]) & (df[\"treat\"])\n",
    "df.loc[after_signup,\"spend\"] = df[after_signup][\"spend\"] + 100\n",
    "df.head()"
   ]
  },
  {
   "cell_type": "code",
   "execution_count": 24,
   "metadata": {},
   "outputs": [
    {
     "data": {
      "text/plain": "      user_id  signup_month  treat  pre_spends  post_spends\n0           1             0  False       484.0   424.111111\n1           2             0  False       488.5   425.222222\n2           3             0  False       488.5   412.444444\n3           4             0  False       493.5   422.888889\n4           8             0  False       476.0   410.111111\n...       ...           ...    ...         ...          ...\n5476     9990             0  False       453.0   423.666667\n5477     9991             0  False       477.0   424.111111\n5478     9995             0  False       517.0   437.111111\n5479     9997             3   True       469.5   517.222222\n5480     9999             0  False       501.0   431.000000\n\n[5481 rows x 5 columns]",
      "text/html": "<div>\n<style scoped>\n    .dataframe tbody tr th:only-of-type {\n        vertical-align: middle;\n    }\n\n    .dataframe tbody tr th {\n        vertical-align: top;\n    }\n\n    .dataframe thead th {\n        text-align: right;\n    }\n</style>\n<table border=\"1\" class=\"dataframe\">\n  <thead>\n    <tr style=\"text-align: right;\">\n      <th></th>\n      <th>user_id</th>\n      <th>signup_month</th>\n      <th>treat</th>\n      <th>pre_spends</th>\n      <th>post_spends</th>\n    </tr>\n  </thead>\n  <tbody>\n    <tr>\n      <th>0</th>\n      <td>1</td>\n      <td>0</td>\n      <td>False</td>\n      <td>484.0</td>\n      <td>424.111111</td>\n    </tr>\n    <tr>\n      <th>1</th>\n      <td>2</td>\n      <td>0</td>\n      <td>False</td>\n      <td>488.5</td>\n      <td>425.222222</td>\n    </tr>\n    <tr>\n      <th>2</th>\n      <td>3</td>\n      <td>0</td>\n      <td>False</td>\n      <td>488.5</td>\n      <td>412.444444</td>\n    </tr>\n    <tr>\n      <th>3</th>\n      <td>4</td>\n      <td>0</td>\n      <td>False</td>\n      <td>493.5</td>\n      <td>422.888889</td>\n    </tr>\n    <tr>\n      <th>4</th>\n      <td>8</td>\n      <td>0</td>\n      <td>False</td>\n      <td>476.0</td>\n      <td>410.111111</td>\n    </tr>\n    <tr>\n      <th>...</th>\n      <td>...</td>\n      <td>...</td>\n      <td>...</td>\n      <td>...</td>\n      <td>...</td>\n    </tr>\n    <tr>\n      <th>5476</th>\n      <td>9990</td>\n      <td>0</td>\n      <td>False</td>\n      <td>453.0</td>\n      <td>423.666667</td>\n    </tr>\n    <tr>\n      <th>5477</th>\n      <td>9991</td>\n      <td>0</td>\n      <td>False</td>\n      <td>477.0</td>\n      <td>424.111111</td>\n    </tr>\n    <tr>\n      <th>5478</th>\n      <td>9995</td>\n      <td>0</td>\n      <td>False</td>\n      <td>517.0</td>\n      <td>437.111111</td>\n    </tr>\n    <tr>\n      <th>5479</th>\n      <td>9997</td>\n      <td>3</td>\n      <td>True</td>\n      <td>469.5</td>\n      <td>517.222222</td>\n    </tr>\n    <tr>\n      <th>5480</th>\n      <td>9999</td>\n      <td>0</td>\n      <td>False</td>\n      <td>501.0</td>\n      <td>431.000000</td>\n    </tr>\n  </tbody>\n</table>\n<p>5481 rows × 5 columns</p>\n</div>"
     },
     "execution_count": 24,
     "metadata": {},
     "output_type": "execute_result"
    }
   ],
   "source": [
    "# Setting the signup month (for ease of analysis)\n",
    "i = 3\n",
    "df_i_signupmonth = (\n",
    "    df[df.signup_month.isin([0, i])]\n",
    "    .groupby([\"user_id\", \"signup_month\", \"treat\"])\n",
    "    .apply(\n",
    "        lambda x: pd.Series(\n",
    "            {\n",
    "                \"pre_spends\": x.loc[x.month < i, \"spend\"].mean(),\n",
    "                \"post_spends\": x.loc[x.month > i, \"spend\"].mean(),\n",
    "            }\n",
    "        )\n",
    "    )\n",
    "    .reset_index()\n",
    ")\n",
    "df_i_signupmonth"
   ]
  },
  {
   "cell_type": "code",
   "execution_count": 25,
   "metadata": {},
   "outputs": [
    {
     "data": {
      "text/plain": "   user_id  signup_month  treat  pre_spends  post_spends  age  is_male  \\\n0        1             0      0       484.0   424.111111   41        1   \n1        2             0      0       488.5   425.222222   19        0   \n2        3             0      0       488.5   412.444444   23        0   \n3        4             0      0       493.5   422.888889   60        1   \n4        8             0      0       476.0   410.111111   26        0   \n\n  industry  \n0        1  \n1        1  \n2        2  \n3        1  \n4        2  ",
      "text/html": "<div>\n<style scoped>\n    .dataframe tbody tr th:only-of-type {\n        vertical-align: middle;\n    }\n\n    .dataframe tbody tr th {\n        vertical-align: top;\n    }\n\n    .dataframe thead th {\n        text-align: right;\n    }\n</style>\n<table border=\"1\" class=\"dataframe\">\n  <thead>\n    <tr style=\"text-align: right;\">\n      <th></th>\n      <th>user_id</th>\n      <th>signup_month</th>\n      <th>treat</th>\n      <th>pre_spends</th>\n      <th>post_spends</th>\n      <th>age</th>\n      <th>is_male</th>\n      <th>industry</th>\n    </tr>\n  </thead>\n  <tbody>\n    <tr>\n      <th>0</th>\n      <td>1</td>\n      <td>0</td>\n      <td>0</td>\n      <td>484.0</td>\n      <td>424.111111</td>\n      <td>41</td>\n      <td>1</td>\n      <td>1</td>\n    </tr>\n    <tr>\n      <th>1</th>\n      <td>2</td>\n      <td>0</td>\n      <td>0</td>\n      <td>488.5</td>\n      <td>425.222222</td>\n      <td>19</td>\n      <td>0</td>\n      <td>1</td>\n    </tr>\n    <tr>\n      <th>2</th>\n      <td>3</td>\n      <td>0</td>\n      <td>0</td>\n      <td>488.5</td>\n      <td>412.444444</td>\n      <td>23</td>\n      <td>0</td>\n      <td>2</td>\n    </tr>\n    <tr>\n      <th>3</th>\n      <td>4</td>\n      <td>0</td>\n      <td>0</td>\n      <td>493.5</td>\n      <td>422.888889</td>\n      <td>60</td>\n      <td>1</td>\n      <td>1</td>\n    </tr>\n    <tr>\n      <th>4</th>\n      <td>8</td>\n      <td>0</td>\n      <td>0</td>\n      <td>476.0</td>\n      <td>410.111111</td>\n      <td>26</td>\n      <td>0</td>\n      <td>2</td>\n    </tr>\n  </tbody>\n</table>\n</div>"
     },
     "execution_count": 25,
     "metadata": {},
     "output_type": "execute_result"
    }
   ],
   "source": [
    "# Additional category features\n",
    "gender = np.random.choice(a=[0,1], size=df_i_signupmonth.user_id.nunique())\n",
    "age = np.random.choice(a=range(18, 70), size=df_i_signupmonth.user_id.nunique())\n",
    "industry = np.random.choice(a=range(1, 3), size=df_i_signupmonth.user_id.nunique())\n",
    "df_i_signupmonth['age'] = age\n",
    "df_i_signupmonth['is_male'] =  gender\n",
    "df_i_signupmonth['industry'] =  industry\n",
    "df_i_signupmonth['industry'] = df_i_signupmonth['industry'].astype('str')\n",
    "df_i_signupmonth['treat'] = df_i_signupmonth['treat'].astype(int)\n",
    "df_i_signupmonth.head()"
   ]
  },
  {
   "cell_type": "code",
   "execution_count": 26,
   "metadata": {},
   "outputs": [
    {
     "data": {
      "text/plain": "Index(['user_id', 'signup_month', 'treat', 'pre_spends', 'post_spends', 'age',\n       'is_male', 'industry'],\n      dtype='object')"
     },
     "execution_count": 26,
     "metadata": {},
     "output_type": "execute_result"
    }
   ],
   "source": [
    "df_i_signupmonth.columns"
   ]
  },
  {
   "cell_type": "markdown",
   "metadata": {},
   "source": [
    "## 2. Matching  \n",
    "### 2.0 Init params\n",
    "info_col used to define informative attributes that should not be part of matching, such as user_id  \n",
    "But to explicitly store this column in the table, so that you can compare directly after computation"
   ]
  },
  {
   "cell_type": "code",
   "execution_count": 27,
   "metadata": {},
   "outputs": [],
   "source": [
    "info_col = ['user_id', 'signup_month']\n",
    "\n",
    "outcome = 'post_spends'\n",
    "treatment = 'treat'"
   ]
  },
  {
   "cell_type": "markdown",
   "metadata": {},
   "source": [
    "### 2.1 Simple matching\n",
    "This is the easiest way to initialize and calculate metrics on a Matching task  \n",
    "Use it when you are clear about each attribute or if you don't have any additional task conditions (Strict equality for certain features) "
   ]
  },
  {
   "cell_type": "code",
   "execution_count": 28,
   "metadata": {},
   "outputs": [
    {
     "data": {
      "text/plain": "  0%|          | 0/5481 [00:00<?, ?it/s]",
      "application/vnd.jupyter.widget-view+json": {
       "version_major": 2,
       "version_minor": 0,
       "model_id": "8622941a133d411797f32d1b7da4fb2c"
      }
     },
     "metadata": {},
     "output_type": "display_data"
    }
   ],
   "source": [
    "# Standard model with base parameters\n",
    "model = Matcher(input_data=df_i_signupmonth, outcome=outcome, treatment=treatment, info_col=info_col)\n",
    "results, quality_results = model.estimate()"
   ]
  },
  {
   "cell_type": "markdown",
   "metadata": {},
   "source": [
    "### 2.2 Matching with a fixed variable  \n",
    "Used when you have categorical feature(s) that you want to compare by strict equality  \n",
    "group_col is used for strict comparison of categorical features.  \n",
    "In our case there is only one attribute  \n",
    "If there are several such attributes, you should make one of them and use it"
   ]
  },
  {
   "cell_type": "code",
   "execution_count": 29,
   "metadata": {},
   "outputs": [],
   "source": [
    "# group_col is used for strict comparison of categorical features.  \n",
    "# In our case there is only one attribute  \n",
    "# If there are several such attributes, you should make one of them and use it\n",
    "\n",
    "group_col = \"industry\""
   ]
  },
  {
   "cell_type": "code",
   "execution_count": 30,
   "metadata": {},
   "outputs": [
    {
     "data": {
      "text/plain": "  0%|          | 0/4 [00:00<?, ?it/s]",
      "application/vnd.jupyter.widget-view+json": {
       "version_major": 2,
       "version_minor": 0,
       "model_id": "85e6c1f994df4631b29ffe893bf2e7ad"
      }
     },
     "metadata": {},
     "output_type": "display_data"
    }
   ],
   "source": [
    "model = Matcher(input_data=df_i_signupmonth, outcome=outcome, treatment=treatment,\n",
    "                info_col=info_col, group_col=group_col)\n",
    "results, quality_results = model.estimate()"
   ]
  },
  {
   "cell_type": "markdown",
   "metadata": {},
   "source": [
    "### 2.3 Matching but you don't know which features are better to use  \n",
    "This is the easiest way to initialize and calculate metrics on a Matching task  \n",
    "Use this method when you want to select the most important features and make matching based on them. "
   ]
  },
  {
   "cell_type": "code",
   "execution_count": 31,
   "metadata": {},
   "outputs": [],
   "source": [
    "model = Matcher(input_data=df_i_signupmonth, outcome=outcome, treatment=treatment,\n",
    "                info_col=info_col, group_col=group_col)"
   ]
  },
  {
   "cell_type": "code",
   "execution_count": 32,
   "metadata": {
    "scrolled": true
   },
   "outputs": [
    {
     "data": {
      "text/plain": "      Feature    Importance\n0  pre_spends  27605.289307\n2    industry  27605.289307\n1         age  24612.019775",
      "text/html": "<div>\n<style scoped>\n    .dataframe tbody tr th:only-of-type {\n        vertical-align: middle;\n    }\n\n    .dataframe tbody tr th {\n        vertical-align: top;\n    }\n\n    .dataframe thead th {\n        text-align: right;\n    }\n</style>\n<table border=\"1\" class=\"dataframe\">\n  <thead>\n    <tr style=\"text-align: right;\">\n      <th></th>\n      <th>Feature</th>\n      <th>Importance</th>\n    </tr>\n  </thead>\n  <tbody>\n    <tr>\n      <th>0</th>\n      <td>pre_spends</td>\n      <td>27605.289307</td>\n    </tr>\n    <tr>\n      <th>2</th>\n      <td>industry</td>\n      <td>27605.289307</td>\n    </tr>\n    <tr>\n      <th>1</th>\n      <td>age</td>\n      <td>24612.019775</td>\n    </tr>\n  </tbody>\n</table>\n</div>"
     },
     "execution_count": 32,
     "metadata": {},
     "output_type": "execute_result"
    }
   ],
   "source": [
    "features_importance = model.lama_feature_select()\n",
    "features_importance"
   ]
  },
  {
   "cell_type": "code",
   "execution_count": 33,
   "metadata": {},
   "outputs": [],
   "source": [
    "features = features_importance['Feature'].to_list()"
   ]
  },
  {
   "cell_type": "code",
   "execution_count": 34,
   "metadata": {},
   "outputs": [
    {
     "data": {
      "text/plain": "  0%|          | 0/4 [00:00<?, ?it/s]",
      "application/vnd.jupyter.widget-view+json": {
       "version_major": 2,
       "version_minor": 0,
       "model_id": "0073997c35894262a0378e0b5f67dbe2"
      }
     },
     "metadata": {},
     "output_type": "display_data"
    }
   ],
   "source": [
    "# You can use both variant that you like. So you can just list the features to be matched\n",
    "\n",
    "#results, quality_results = model.estimate(features=features_importance[:3])\n",
    "results, quality_results = model.estimate(features=features[:3])"
   ]
  },
  {
   "cell_type": "code",
   "execution_count": 35,
   "metadata": {},
   "outputs": [
    {
     "data": {
      "text/plain": "      index  pre_spends  age  is_male industry  pre_spends_matched  \\\n0      5018       497.0   38        1        1               497.0   \n1      5019       465.0   29        1        1               465.0   \n2      5020       492.5   44        0        1               492.0   \n3      5021       498.0   50        0        1               498.0   \n4      5022       493.5   69        0        1               493.0   \n...     ...         ...  ...      ...      ...                 ...   \n5013   5013       507.0   31        1        2               509.5   \n5014   5014       494.5   37        1        2               495.5   \n5015   5015       465.0   52        1        2               463.0   \n5016   5016       488.0   51        1        2               488.5   \n5017   5017       453.0   52        0        2               447.5   \n\n      age_matched  is_male_matched index_matched industry_matched  \\\n0            38.0              0.5  [1825, 2085]                1   \n1            30.0              0.0        [2186]                1   \n2            44.0              1.0        [1764]                1   \n3            50.0              0.0        [1741]                1   \n4            69.0              0.0        [1955]                1   \n...           ...              ...           ...              ...   \n5013         33.0              1.0         [439]                2   \n5014         37.0              0.0         [401]                2   \n5015         55.0              1.0         [226]                2   \n5016         51.0              0.0         [378]                2   \n5017         52.0              1.0         [309]                2   \n\n      post_spends  post_spends_matched  post_spends_matched_bias  treat  \\\n0      522.222222           421.888889                100.333333      1   \n1      500.444444           424.222222                 76.207975      1   \n2      525.555556           413.333333                112.221298      1   \n3      525.444444           407.333333                118.111111      1   \n4      507.555556           427.000000                 80.554631      1   \n...           ...                  ...                       ...    ...   \n5013   425.888889           523.000000                 97.200151      0   \n5014   422.000000           530.111111                108.141195      0   \n5015   425.111111           517.555556                 92.405020      0   \n5016   417.555556           520.333333                102.792820      0   \n5017   423.666667           522.444444                 98.612314      0   \n\n      treat_matched  \n0                 0  \n1                 0  \n2                 0  \n3                 0  \n4                 0  \n...             ...  \n5013              1  \n5014              1  \n5015              1  \n5016              1  \n5017              1  \n\n[5481 rows x 15 columns]",
      "text/html": "<div>\n<style scoped>\n    .dataframe tbody tr th:only-of-type {\n        vertical-align: middle;\n    }\n\n    .dataframe tbody tr th {\n        vertical-align: top;\n    }\n\n    .dataframe thead th {\n        text-align: right;\n    }\n</style>\n<table border=\"1\" class=\"dataframe\">\n  <thead>\n    <tr style=\"text-align: right;\">\n      <th></th>\n      <th>index</th>\n      <th>pre_spends</th>\n      <th>age</th>\n      <th>is_male</th>\n      <th>industry</th>\n      <th>pre_spends_matched</th>\n      <th>age_matched</th>\n      <th>is_male_matched</th>\n      <th>index_matched</th>\n      <th>industry_matched</th>\n      <th>post_spends</th>\n      <th>post_spends_matched</th>\n      <th>post_spends_matched_bias</th>\n      <th>treat</th>\n      <th>treat_matched</th>\n    </tr>\n  </thead>\n  <tbody>\n    <tr>\n      <th>0</th>\n      <td>5018</td>\n      <td>497.0</td>\n      <td>38</td>\n      <td>1</td>\n      <td>1</td>\n      <td>497.0</td>\n      <td>38.0</td>\n      <td>0.5</td>\n      <td>[1825, 2085]</td>\n      <td>1</td>\n      <td>522.222222</td>\n      <td>421.888889</td>\n      <td>100.333333</td>\n      <td>1</td>\n      <td>0</td>\n    </tr>\n    <tr>\n      <th>1</th>\n      <td>5019</td>\n      <td>465.0</td>\n      <td>29</td>\n      <td>1</td>\n      <td>1</td>\n      <td>465.0</td>\n      <td>30.0</td>\n      <td>0.0</td>\n      <td>[2186]</td>\n      <td>1</td>\n      <td>500.444444</td>\n      <td>424.222222</td>\n      <td>76.207975</td>\n      <td>1</td>\n      <td>0</td>\n    </tr>\n    <tr>\n      <th>2</th>\n      <td>5020</td>\n      <td>492.5</td>\n      <td>44</td>\n      <td>0</td>\n      <td>1</td>\n      <td>492.0</td>\n      <td>44.0</td>\n      <td>1.0</td>\n      <td>[1764]</td>\n      <td>1</td>\n      <td>525.555556</td>\n      <td>413.333333</td>\n      <td>112.221298</td>\n      <td>1</td>\n      <td>0</td>\n    </tr>\n    <tr>\n      <th>3</th>\n      <td>5021</td>\n      <td>498.0</td>\n      <td>50</td>\n      <td>0</td>\n      <td>1</td>\n      <td>498.0</td>\n      <td>50.0</td>\n      <td>0.0</td>\n      <td>[1741]</td>\n      <td>1</td>\n      <td>525.444444</td>\n      <td>407.333333</td>\n      <td>118.111111</td>\n      <td>1</td>\n      <td>0</td>\n    </tr>\n    <tr>\n      <th>4</th>\n      <td>5022</td>\n      <td>493.5</td>\n      <td>69</td>\n      <td>0</td>\n      <td>1</td>\n      <td>493.0</td>\n      <td>69.0</td>\n      <td>0.0</td>\n      <td>[1955]</td>\n      <td>1</td>\n      <td>507.555556</td>\n      <td>427.000000</td>\n      <td>80.554631</td>\n      <td>1</td>\n      <td>0</td>\n    </tr>\n    <tr>\n      <th>...</th>\n      <td>...</td>\n      <td>...</td>\n      <td>...</td>\n      <td>...</td>\n      <td>...</td>\n      <td>...</td>\n      <td>...</td>\n      <td>...</td>\n      <td>...</td>\n      <td>...</td>\n      <td>...</td>\n      <td>...</td>\n      <td>...</td>\n      <td>...</td>\n      <td>...</td>\n    </tr>\n    <tr>\n      <th>5013</th>\n      <td>5013</td>\n      <td>507.0</td>\n      <td>31</td>\n      <td>1</td>\n      <td>2</td>\n      <td>509.5</td>\n      <td>33.0</td>\n      <td>1.0</td>\n      <td>[439]</td>\n      <td>2</td>\n      <td>425.888889</td>\n      <td>523.000000</td>\n      <td>97.200151</td>\n      <td>0</td>\n      <td>1</td>\n    </tr>\n    <tr>\n      <th>5014</th>\n      <td>5014</td>\n      <td>494.5</td>\n      <td>37</td>\n      <td>1</td>\n      <td>2</td>\n      <td>495.5</td>\n      <td>37.0</td>\n      <td>0.0</td>\n      <td>[401]</td>\n      <td>2</td>\n      <td>422.000000</td>\n      <td>530.111111</td>\n      <td>108.141195</td>\n      <td>0</td>\n      <td>1</td>\n    </tr>\n    <tr>\n      <th>5015</th>\n      <td>5015</td>\n      <td>465.0</td>\n      <td>52</td>\n      <td>1</td>\n      <td>2</td>\n      <td>463.0</td>\n      <td>55.0</td>\n      <td>1.0</td>\n      <td>[226]</td>\n      <td>2</td>\n      <td>425.111111</td>\n      <td>517.555556</td>\n      <td>92.405020</td>\n      <td>0</td>\n      <td>1</td>\n    </tr>\n    <tr>\n      <th>5016</th>\n      <td>5016</td>\n      <td>488.0</td>\n      <td>51</td>\n      <td>1</td>\n      <td>2</td>\n      <td>488.5</td>\n      <td>51.0</td>\n      <td>0.0</td>\n      <td>[378]</td>\n      <td>2</td>\n      <td>417.555556</td>\n      <td>520.333333</td>\n      <td>102.792820</td>\n      <td>0</td>\n      <td>1</td>\n    </tr>\n    <tr>\n      <th>5017</th>\n      <td>5017</td>\n      <td>453.0</td>\n      <td>52</td>\n      <td>0</td>\n      <td>2</td>\n      <td>447.5</td>\n      <td>52.0</td>\n      <td>1.0</td>\n      <td>[309]</td>\n      <td>2</td>\n      <td>423.666667</td>\n      <td>522.444444</td>\n      <td>98.612314</td>\n      <td>0</td>\n      <td>1</td>\n    </tr>\n  </tbody>\n</table>\n<p>5481 rows × 15 columns</p>\n</div>"
     },
     "execution_count": 35,
     "metadata": {},
     "output_type": "execute_result"
    }
   ],
   "source": [
    "model.matcher.df_matched"
   ]
  },
  {
   "cell_type": "markdown",
   "metadata": {},
   "source": [
    "## 3. Results  \n",
    "### 3.1 ATE, ATT, ATC"
   ]
  },
  {
   "cell_type": "code",
   "execution_count": 36,
   "metadata": {},
   "outputs": [
    {
     "data": {
      "text/plain": "     effect_size   std_err  p-val   ci_lower    ci_upper\nATE   100.790527  0.592346    0.0  99.629529  101.951524\nATC   100.826633  0.603504    0.0  99.643764  102.009501\nATT   100.399209  0.710848    0.0  99.005946  101.792472",
      "text/html": "<div>\n<style scoped>\n    .dataframe tbody tr th:only-of-type {\n        vertical-align: middle;\n    }\n\n    .dataframe tbody tr th {\n        vertical-align: top;\n    }\n\n    .dataframe thead th {\n        text-align: right;\n    }\n</style>\n<table border=\"1\" class=\"dataframe\">\n  <thead>\n    <tr style=\"text-align: right;\">\n      <th></th>\n      <th>effect_size</th>\n      <th>std_err</th>\n      <th>p-val</th>\n      <th>ci_lower</th>\n      <th>ci_upper</th>\n    </tr>\n  </thead>\n  <tbody>\n    <tr>\n      <th>ATE</th>\n      <td>100.790527</td>\n      <td>0.592346</td>\n      <td>0.0</td>\n      <td>99.629529</td>\n      <td>101.951524</td>\n    </tr>\n    <tr>\n      <th>ATC</th>\n      <td>100.826633</td>\n      <td>0.603504</td>\n      <td>0.0</td>\n      <td>99.643764</td>\n      <td>102.009501</td>\n    </tr>\n    <tr>\n      <th>ATT</th>\n      <td>100.399209</td>\n      <td>0.710848</td>\n      <td>0.0</td>\n      <td>99.005946</td>\n      <td>101.792472</td>\n    </tr>\n  </tbody>\n</table>\n</div>"
     },
     "execution_count": 36,
     "metadata": {},
     "output_type": "execute_result"
    }
   ],
   "source": [
    "# model.matcher.results\n",
    "results"
   ]
  },
  {
   "cell_type": "markdown",
   "metadata": {},
   "source": [
    "### 3.2 SMD, PSI, KS-test, repeats"
   ]
  },
  {
   "cell_type": "code",
   "execution_count": 37,
   "metadata": {},
   "outputs": [
    {
     "data": {
      "text/plain": "{'psi':         column_treated  anomaly_score_treated check_result_treated  \\\n 0          age_treated                   0.00                   OK   \n 1     industry_treated                   0.00                   OK   \n 2  post_spends_treated                  16.11                  NOK   \n 3   pre_spends_treated                   0.00                   OK   \n \n         column_untreated  anomaly_score_untreated check_result_untreated  \n 0          age_untreated                     0.01                     OK  \n 1     industry_untreated                     0.00                     OK  \n 2  post_spends_untreated                     8.23                    NOK  \n 3   pre_spends_untreated                     0.01                     OK  ,\n 'ks_test':             match_control_to_treat  match_treat_to_control\n age                       1.000000                0.530347\n is_male                   0.218892                0.000008\n pre_spends                1.000000                0.130669,\n 'smd':             match_control_to_treat  match_treat_to_control\n age                       0.000637                0.002007\n is_male                   0.019074                0.090816\n pre_spends                0.001150                0.001389,\n 'repeats': {'match_control_to_treat': 0.93, 'match_treat_to_control': 0.09}}"
     },
     "execution_count": 37,
     "metadata": {},
     "output_type": "execute_result"
    }
   ],
   "source": [
    "# matching quality result - SMD\n",
    "model.quality_result"
   ]
  },
  {
   "cell_type": "code",
   "execution_count": 38,
   "metadata": {},
   "outputs": [
    {
     "data": {
      "text/plain": "        column_treated  anomaly_score_treated check_result_treated  \\\n0          age_treated                   0.00                   OK   \n1     industry_treated                   0.00                   OK   \n2  post_spends_treated                  16.11                  NOK   \n3   pre_spends_treated                   0.00                   OK   \n\n        column_untreated  anomaly_score_untreated check_result_untreated  \n0          age_untreated                     0.01                     OK  \n1     industry_untreated                     0.00                     OK  \n2  post_spends_untreated                     8.23                    NOK  \n3   pre_spends_untreated                     0.01                     OK  ",
      "text/html": "<div>\n<style scoped>\n    .dataframe tbody tr th:only-of-type {\n        vertical-align: middle;\n    }\n\n    .dataframe tbody tr th {\n        vertical-align: top;\n    }\n\n    .dataframe thead th {\n        text-align: right;\n    }\n</style>\n<table border=\"1\" class=\"dataframe\">\n  <thead>\n    <tr style=\"text-align: right;\">\n      <th></th>\n      <th>column_treated</th>\n      <th>anomaly_score_treated</th>\n      <th>check_result_treated</th>\n      <th>column_untreated</th>\n      <th>anomaly_score_untreated</th>\n      <th>check_result_untreated</th>\n    </tr>\n  </thead>\n  <tbody>\n    <tr>\n      <th>0</th>\n      <td>age_treated</td>\n      <td>0.00</td>\n      <td>OK</td>\n      <td>age_untreated</td>\n      <td>0.01</td>\n      <td>OK</td>\n    </tr>\n    <tr>\n      <th>1</th>\n      <td>industry_treated</td>\n      <td>0.00</td>\n      <td>OK</td>\n      <td>industry_untreated</td>\n      <td>0.00</td>\n      <td>OK</td>\n    </tr>\n    <tr>\n      <th>2</th>\n      <td>post_spends_treated</td>\n      <td>16.11</td>\n      <td>NOK</td>\n      <td>post_spends_untreated</td>\n      <td>8.23</td>\n      <td>NOK</td>\n    </tr>\n    <tr>\n      <th>3</th>\n      <td>pre_spends_treated</td>\n      <td>0.00</td>\n      <td>OK</td>\n      <td>pre_spends_untreated</td>\n      <td>0.01</td>\n      <td>OK</td>\n    </tr>\n  </tbody>\n</table>\n</div>"
     },
     "execution_count": 38,
     "metadata": {},
     "output_type": "execute_result"
    }
   ],
   "source": [
    "# matching quality result - PSI\n",
    "model.quality_result['psi']"
   ]
  },
  {
   "cell_type": "code",
   "execution_count": 39,
   "metadata": {},
   "outputs": [
    {
     "data": {
      "text/plain": "            match_control_to_treat  match_treat_to_control\nage                       1.000000                0.530347\nis_male                   0.218892                0.000008\npre_spends                1.000000                0.130669",
      "text/html": "<div>\n<style scoped>\n    .dataframe tbody tr th:only-of-type {\n        vertical-align: middle;\n    }\n\n    .dataframe tbody tr th {\n        vertical-align: top;\n    }\n\n    .dataframe thead th {\n        text-align: right;\n    }\n</style>\n<table border=\"1\" class=\"dataframe\">\n  <thead>\n    <tr style=\"text-align: right;\">\n      <th></th>\n      <th>match_control_to_treat</th>\n      <th>match_treat_to_control</th>\n    </tr>\n  </thead>\n  <tbody>\n    <tr>\n      <th>age</th>\n      <td>1.000000</td>\n      <td>0.530347</td>\n    </tr>\n    <tr>\n      <th>is_male</th>\n      <td>0.218892</td>\n      <td>0.000008</td>\n    </tr>\n    <tr>\n      <th>pre_spends</th>\n      <td>1.000000</td>\n      <td>0.130669</td>\n    </tr>\n  </tbody>\n</table>\n</div>"
     },
     "execution_count": 39,
     "metadata": {},
     "output_type": "execute_result"
    }
   ],
   "source": [
    "# matching quality result - KS-test\n",
    "\n",
    "model.quality_result['ks_test']"
   ]
  },
  {
   "cell_type": "code",
   "execution_count": 40,
   "metadata": {},
   "outputs": [
    {
     "data": {
      "text/plain": "{'match_control_to_treat': 0.93, 'match_treat_to_control': 0.09}"
     },
     "execution_count": 40,
     "metadata": {},
     "output_type": "execute_result"
    }
   ],
   "source": [
    "# matching quality result - repeats\n",
    "model.quality_result['repeats']"
   ]
  },
  {
   "cell_type": "markdown",
   "metadata": {},
   "source": [
    "### 3.3 Validation\n",
    "validate result with placebo treatment  \n",
    "our new effect size is close to zero (it should be)"
   ]
  },
  {
   "cell_type": "code",
   "execution_count": 41,
   "metadata": {},
   "outputs": [
    {
     "data": {
      "text/plain": "  0%|          | 0/10 [00:00<?, ?it/s]",
      "application/vnd.jupyter.widget-view+json": {
       "version_major": 2,
       "version_minor": 0,
       "model_id": "4f4f13c91d5c412a8eb74475541b20e7"
      }
     },
     "metadata": {},
     "output_type": "display_data"
    },
    {
     "data": {
      "text/plain": "{'post_spends': [100.33542878123436, 4.763074247238208e-06]}"
     },
     "execution_count": 41,
     "metadata": {},
     "output_type": "execute_result"
    }
   ],
   "source": [
    " \n",
    "model.validate_result()\n",
    " "
   ]
  },
  {
   "cell_type": "code",
   "execution_count": 41,
   "metadata": {},
   "outputs": [],
   "source": []
  },
  {
   "cell_type": "code",
   "execution_count": 42,
   "metadata": {},
   "outputs": [
    {
     "data": {
      "text/plain": "      index  pre_spends  age  is_male industry  random_feature  \\\n0      5018       497.0   38        1        1       -1.752593   \n1      5019       465.0   29        1        1        0.235149   \n2      5020       492.5   44        0        1       -0.802581   \n3      5021       498.0   50        0        1        1.081684   \n4      5022       493.5   69        0        1       -0.608776   \n...     ...         ...  ...      ...      ...             ...   \n5013   5013       507.0   31        1        2        0.620057   \n5014   5014       494.5   37        1        2        1.161467   \n5015   5015       465.0   52        1        2        1.381204   \n5016   5016       488.0   51        1        2        0.875593   \n5017   5017       453.0   52        0        2       -1.708987   \n\n      pre_spends_matched  age_matched  is_male_matched  \\\n0                  499.5         37.0              0.0   \n1                  464.0         30.0              1.0   \n2                  491.5         44.0              1.0   \n3                  496.5         52.0              1.0   \n4                  495.0         69.0              1.0   \n...                  ...          ...              ...   \n5013               509.5         33.0              1.0   \n5014               495.5         37.0              0.0   \n5015               460.5         51.0              1.0   \n5016               487.5         50.0              0.0   \n5017               447.5         52.0              1.0   \n\n      random_feature_matched index_matched industry_matched  post_spends  \\\n0                  -1.716658        [1935]                1   522.222222   \n1                   0.341418         [581]                1   500.444444   \n2                  -0.749453         [588]                1   525.555556   \n3                   1.182453        [1438]                1   525.444444   \n4                  -0.650500        [2205]                1   507.555556   \n...                      ...           ...              ...          ...   \n5013                1.038798         [439]                2   425.888889   \n5014                1.194265         [401]                2   422.000000   \n5015                1.589511         [441]                2   425.111111   \n5016                1.134119         [233]                2   417.555556   \n5017               -1.026663         [309]                2   423.666667   \n\n      post_spends_matched  post_spends_matched_bias  treat  treat_matched  \n0              423.333333                 98.913238      1              0  \n1              429.888889                 70.463467      1              0  \n2              430.111111                 95.395304      1              0  \n3              418.444444                106.894707      1              0  \n4              422.666667                 84.938396      1              0  \n...                   ...                       ...    ...            ...  \n5013           523.000000                 96.837168      0              1  \n5014           530.111111                108.119833      0              1  \n5015           514.444444                 88.976178      0              1  \n5016           525.555556                107.749673      0              1  \n5017           522.444444                 97.963343      0              1  \n\n[5481 rows x 17 columns]",
      "text/html": "<div>\n<style scoped>\n    .dataframe tbody tr th:only-of-type {\n        vertical-align: middle;\n    }\n\n    .dataframe tbody tr th {\n        vertical-align: top;\n    }\n\n    .dataframe thead th {\n        text-align: right;\n    }\n</style>\n<table border=\"1\" class=\"dataframe\">\n  <thead>\n    <tr style=\"text-align: right;\">\n      <th></th>\n      <th>index</th>\n      <th>pre_spends</th>\n      <th>age</th>\n      <th>is_male</th>\n      <th>industry</th>\n      <th>random_feature</th>\n      <th>pre_spends_matched</th>\n      <th>age_matched</th>\n      <th>is_male_matched</th>\n      <th>random_feature_matched</th>\n      <th>index_matched</th>\n      <th>industry_matched</th>\n      <th>post_spends</th>\n      <th>post_spends_matched</th>\n      <th>post_spends_matched_bias</th>\n      <th>treat</th>\n      <th>treat_matched</th>\n    </tr>\n  </thead>\n  <tbody>\n    <tr>\n      <th>0</th>\n      <td>5018</td>\n      <td>497.0</td>\n      <td>38</td>\n      <td>1</td>\n      <td>1</td>\n      <td>-1.752593</td>\n      <td>499.5</td>\n      <td>37.0</td>\n      <td>0.0</td>\n      <td>-1.716658</td>\n      <td>[1935]</td>\n      <td>1</td>\n      <td>522.222222</td>\n      <td>423.333333</td>\n      <td>98.913238</td>\n      <td>1</td>\n      <td>0</td>\n    </tr>\n    <tr>\n      <th>1</th>\n      <td>5019</td>\n      <td>465.0</td>\n      <td>29</td>\n      <td>1</td>\n      <td>1</td>\n      <td>0.235149</td>\n      <td>464.0</td>\n      <td>30.0</td>\n      <td>1.0</td>\n      <td>0.341418</td>\n      <td>[581]</td>\n      <td>1</td>\n      <td>500.444444</td>\n      <td>429.888889</td>\n      <td>70.463467</td>\n      <td>1</td>\n      <td>0</td>\n    </tr>\n    <tr>\n      <th>2</th>\n      <td>5020</td>\n      <td>492.5</td>\n      <td>44</td>\n      <td>0</td>\n      <td>1</td>\n      <td>-0.802581</td>\n      <td>491.5</td>\n      <td>44.0</td>\n      <td>1.0</td>\n      <td>-0.749453</td>\n      <td>[588]</td>\n      <td>1</td>\n      <td>525.555556</td>\n      <td>430.111111</td>\n      <td>95.395304</td>\n      <td>1</td>\n      <td>0</td>\n    </tr>\n    <tr>\n      <th>3</th>\n      <td>5021</td>\n      <td>498.0</td>\n      <td>50</td>\n      <td>0</td>\n      <td>1</td>\n      <td>1.081684</td>\n      <td>496.5</td>\n      <td>52.0</td>\n      <td>1.0</td>\n      <td>1.182453</td>\n      <td>[1438]</td>\n      <td>1</td>\n      <td>525.444444</td>\n      <td>418.444444</td>\n      <td>106.894707</td>\n      <td>1</td>\n      <td>0</td>\n    </tr>\n    <tr>\n      <th>4</th>\n      <td>5022</td>\n      <td>493.5</td>\n      <td>69</td>\n      <td>0</td>\n      <td>1</td>\n      <td>-0.608776</td>\n      <td>495.0</td>\n      <td>69.0</td>\n      <td>1.0</td>\n      <td>-0.650500</td>\n      <td>[2205]</td>\n      <td>1</td>\n      <td>507.555556</td>\n      <td>422.666667</td>\n      <td>84.938396</td>\n      <td>1</td>\n      <td>0</td>\n    </tr>\n    <tr>\n      <th>...</th>\n      <td>...</td>\n      <td>...</td>\n      <td>...</td>\n      <td>...</td>\n      <td>...</td>\n      <td>...</td>\n      <td>...</td>\n      <td>...</td>\n      <td>...</td>\n      <td>...</td>\n      <td>...</td>\n      <td>...</td>\n      <td>...</td>\n      <td>...</td>\n      <td>...</td>\n      <td>...</td>\n      <td>...</td>\n    </tr>\n    <tr>\n      <th>5013</th>\n      <td>5013</td>\n      <td>507.0</td>\n      <td>31</td>\n      <td>1</td>\n      <td>2</td>\n      <td>0.620057</td>\n      <td>509.5</td>\n      <td>33.0</td>\n      <td>1.0</td>\n      <td>1.038798</td>\n      <td>[439]</td>\n      <td>2</td>\n      <td>425.888889</td>\n      <td>523.000000</td>\n      <td>96.837168</td>\n      <td>0</td>\n      <td>1</td>\n    </tr>\n    <tr>\n      <th>5014</th>\n      <td>5014</td>\n      <td>494.5</td>\n      <td>37</td>\n      <td>1</td>\n      <td>2</td>\n      <td>1.161467</td>\n      <td>495.5</td>\n      <td>37.0</td>\n      <td>0.0</td>\n      <td>1.194265</td>\n      <td>[401]</td>\n      <td>2</td>\n      <td>422.000000</td>\n      <td>530.111111</td>\n      <td>108.119833</td>\n      <td>0</td>\n      <td>1</td>\n    </tr>\n    <tr>\n      <th>5015</th>\n      <td>5015</td>\n      <td>465.0</td>\n      <td>52</td>\n      <td>1</td>\n      <td>2</td>\n      <td>1.381204</td>\n      <td>460.5</td>\n      <td>51.0</td>\n      <td>1.0</td>\n      <td>1.589511</td>\n      <td>[441]</td>\n      <td>2</td>\n      <td>425.111111</td>\n      <td>514.444444</td>\n      <td>88.976178</td>\n      <td>0</td>\n      <td>1</td>\n    </tr>\n    <tr>\n      <th>5016</th>\n      <td>5016</td>\n      <td>488.0</td>\n      <td>51</td>\n      <td>1</td>\n      <td>2</td>\n      <td>0.875593</td>\n      <td>487.5</td>\n      <td>50.0</td>\n      <td>0.0</td>\n      <td>1.134119</td>\n      <td>[233]</td>\n      <td>2</td>\n      <td>417.555556</td>\n      <td>525.555556</td>\n      <td>107.749673</td>\n      <td>0</td>\n      <td>1</td>\n    </tr>\n    <tr>\n      <th>5017</th>\n      <td>5017</td>\n      <td>453.0</td>\n      <td>52</td>\n      <td>0</td>\n      <td>2</td>\n      <td>-1.708987</td>\n      <td>447.5</td>\n      <td>52.0</td>\n      <td>1.0</td>\n      <td>-1.026663</td>\n      <td>[309]</td>\n      <td>2</td>\n      <td>423.666667</td>\n      <td>522.444444</td>\n      <td>97.963343</td>\n      <td>0</td>\n      <td>1</td>\n    </tr>\n  </tbody>\n</table>\n<p>5481 rows × 17 columns</p>\n</div>"
     },
     "execution_count": 42,
     "metadata": {},
     "output_type": "execute_result"
    }
   ],
   "source": [
    "model.matcher.df_matched"
   ]
  },
  {
   "cell_type": "code",
   "execution_count": null,
   "metadata": {},
   "outputs": [],
   "source": []
  },
  {
   "cell_type": "code",
   "execution_count": null,
   "metadata": {},
   "outputs": [],
   "source": []
  },
  {
   "cell_type": "code",
   "execution_count": null,
   "metadata": {},
   "outputs": [],
   "source": []
  },
  {
   "cell_type": "code",
   "execution_count": null,
   "metadata": {},
   "outputs": [],
   "source": []
  },
  {
   "cell_type": "code",
   "execution_count": null,
   "metadata": {},
   "outputs": [],
   "source": []
  }
 ],
 "metadata": {
  "kernelspec": {
   "display_name": "Python 3 (ipykernel)",
   "language": "python",
   "name": "python3"
  },
  "language_info": {
   "codemirror_mode": {
    "name": "ipython",
    "version": 3
   },
   "file_extension": ".py",
   "mimetype": "text/x-python",
   "name": "python",
   "nbconvert_exporter": "python",
   "pygments_lexer": "ipython3",
   "version": "3.8.16"
  }
 },
 "nbformat": 4,
 "nbformat_minor": 1
}

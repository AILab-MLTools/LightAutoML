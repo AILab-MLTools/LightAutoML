{
 "cells": [
  {
   "cell_type": "markdown",
   "metadata": {},
   "source": [
    "# How to match? "
   ]
  },
  {
   "cell_type": "markdown",
   "metadata": {},
   "source": [
    "## 0. Import libraries "
   ]
  },
  {
   "cell_type": "code",
   "execution_count": 1,
   "metadata": {},
   "outputs": [
    {
     "name": "stdout",
     "output_type": "stream",
     "text": [
      "'nlp' extra dependecy package 'gensim' isn't installed. Look at README.md in repo 'LightAutoML' for installation instructions.\n",
      "'nlp' extra dependecy package 'nltk' isn't installed. Look at README.md in repo 'LightAutoML' for installation instructions.\n",
      "'nlp' extra dependecy package 'transformers' isn't installed. Look at README.md in repo 'LightAutoML' for installation instructions.\n",
      "'nlp' extra dependecy package 'gensim' isn't installed. Look at README.md in repo 'LightAutoML' for installation instructions.\n",
      "'nlp' extra dependecy package 'nltk' isn't installed. Look at README.md in repo 'LightAutoML' for installation instructions.\n",
      "'nlp' extra dependecy package 'transformers' isn't installed. Look at README.md in repo 'LightAutoML' for installation instructions.\n"
     ]
    },
    {
     "name": "stderr",
     "output_type": "stream",
     "text": [
      "/Users/20224761/PycharmProjects/matcher/lightautoml/ml_algo/dl_model.py:41: UserWarning: 'transformers' - package isn't installed\n",
      "  warnings.warn(\"'transformers' - package isn't installed\")\n",
      "/Users/20224761/PycharmProjects/matcher/lightautoml/text/nn_model.py:22: UserWarning: 'transformers' - package isn't installed\n",
      "  warnings.warn(\"'transformers' - package isn't installed\")\n",
      "/Users/20224761/PycharmProjects/matcher/lightautoml/text/dl_transformers.py:25: UserWarning: 'transformers' - package isn't installed\n",
      "  warnings.warn(\"'transformers' - package isn't installed\")\n"
     ]
    }
   ],
   "source": [
    "import pandas as pd\n",
    "import warnings\n",
    "import numpy as np\n",
    "from lightautoml.addons.hypex import Matcher\n",
    "\n",
    "warnings.filterwarnings('ignore')\n",
    "%config Completer.use_jedi = False"
   ]
  },
  {
   "cell_type": "markdown",
   "metadata": {},
   "source": [
    "## 1. Create or upload your dataset  \n",
    "In this case we will create random dataset with known effect size  \n",
    "If you have your own dataset, go to the part 2 \n"
   ]
  },
  {
   "cell_type": "code",
   "execution_count": 2,
   "metadata": {},
   "outputs": [
    {
     "data": {
      "text/plain": "   user_id  signup_month  month  spend  treat\n0        0             0      1    480  False\n1        0             0      2    459  False\n2        0             0      3    465  False\n3        0             0      4    455  False\n4        0             0      5    423  False",
      "text/html": "<div>\n<style scoped>\n    .dataframe tbody tr th:only-of-type {\n        vertical-align: middle;\n    }\n\n    .dataframe tbody tr th {\n        vertical-align: top;\n    }\n\n    .dataframe thead th {\n        text-align: right;\n    }\n</style>\n<table border=\"1\" class=\"dataframe\">\n  <thead>\n    <tr style=\"text-align: right;\">\n      <th></th>\n      <th>user_id</th>\n      <th>signup_month</th>\n      <th>month</th>\n      <th>spend</th>\n      <th>treat</th>\n    </tr>\n  </thead>\n  <tbody>\n    <tr>\n      <th>0</th>\n      <td>0</td>\n      <td>0</td>\n      <td>1</td>\n      <td>480</td>\n      <td>False</td>\n    </tr>\n    <tr>\n      <th>1</th>\n      <td>0</td>\n      <td>0</td>\n      <td>2</td>\n      <td>459</td>\n      <td>False</td>\n    </tr>\n    <tr>\n      <th>2</th>\n      <td>0</td>\n      <td>0</td>\n      <td>3</td>\n      <td>465</td>\n      <td>False</td>\n    </tr>\n    <tr>\n      <th>3</th>\n      <td>0</td>\n      <td>0</td>\n      <td>4</td>\n      <td>455</td>\n      <td>False</td>\n    </tr>\n    <tr>\n      <th>4</th>\n      <td>0</td>\n      <td>0</td>\n      <td>5</td>\n      <td>423</td>\n      <td>False</td>\n    </tr>\n  </tbody>\n</table>\n</div>"
     },
     "execution_count": 2,
     "metadata": {},
     "output_type": "execute_result"
    }
   ],
   "source": [
    "# Simulating dataset with known effect size\n",
    "num_users = 10000\n",
    "num_months = 12\n",
    "\n",
    "signup_months = np.random.choice(np.arange(1, num_months), num_users) * np.random.randint(0,2, size=num_users) # signup_months == 0 means customer did not sign up\n",
    "df = pd.DataFrame({\n",
    "    'user_id': np.repeat(np.arange(num_users), num_months),\n",
    "    'signup_month': np.repeat(signup_months, num_months), # signup month == 0 means customer did not sign up\n",
    "    'month': np.tile(np.arange(1, num_months+1), num_users), # months are from 1 to 12\n",
    "    'spend': np.random.poisson(500, num_users*num_months) #np.random.beta(a=2, b=5, size=num_users * num_months)*1000 # centered at 500\n",
    "})\n",
    "# A customer is in the treatment group if and only if they signed up\n",
    "df[\"treat\"] = df[\"signup_month\"]>0\n",
    "# Simulating an effect of month (monotonically decreasing--customers buy less later in the year)\n",
    "df[\"spend\"] = df[\"spend\"] - df[\"month\"]*10\n",
    "# Simulating a simple treatment effect of 100\n",
    "after_signup = (df[\"signup_month\"] < df[\"month\"]) & (df[\"treat\"])\n",
    "df.loc[after_signup,\"spend\"] = df[after_signup][\"spend\"] + 100\n",
    "df.head()"
   ]
  },
  {
   "cell_type": "code",
   "execution_count": 3,
   "metadata": {},
   "outputs": [
    {
     "data": {
      "text/plain": "      user_id  signup_month  treat  pre_spends  post_spends\n0           0             0  False       469.5   416.333333\n1           1             0  False       471.0   414.333333\n2           5             0  False       482.0   409.222222\n3           9             0  False       461.0   418.777778\n4          10             0  False       503.0   418.777778\n...       ...           ...    ...         ...          ...\n5424     9991             0  False       469.0   424.777778\n5425     9995             0  False       454.0   410.555556\n5426     9996             0  False       475.0   420.333333\n5427     9997             0  False       530.5   418.888889\n5428     9998             0  False       483.0   436.555556\n\n[5429 rows x 5 columns]",
      "text/html": "<div>\n<style scoped>\n    .dataframe tbody tr th:only-of-type {\n        vertical-align: middle;\n    }\n\n    .dataframe tbody tr th {\n        vertical-align: top;\n    }\n\n    .dataframe thead th {\n        text-align: right;\n    }\n</style>\n<table border=\"1\" class=\"dataframe\">\n  <thead>\n    <tr style=\"text-align: right;\">\n      <th></th>\n      <th>user_id</th>\n      <th>signup_month</th>\n      <th>treat</th>\n      <th>pre_spends</th>\n      <th>post_spends</th>\n    </tr>\n  </thead>\n  <tbody>\n    <tr>\n      <th>0</th>\n      <td>0</td>\n      <td>0</td>\n      <td>False</td>\n      <td>469.5</td>\n      <td>416.333333</td>\n    </tr>\n    <tr>\n      <th>1</th>\n      <td>1</td>\n      <td>0</td>\n      <td>False</td>\n      <td>471.0</td>\n      <td>414.333333</td>\n    </tr>\n    <tr>\n      <th>2</th>\n      <td>5</td>\n      <td>0</td>\n      <td>False</td>\n      <td>482.0</td>\n      <td>409.222222</td>\n    </tr>\n    <tr>\n      <th>3</th>\n      <td>9</td>\n      <td>0</td>\n      <td>False</td>\n      <td>461.0</td>\n      <td>418.777778</td>\n    </tr>\n    <tr>\n      <th>4</th>\n      <td>10</td>\n      <td>0</td>\n      <td>False</td>\n      <td>503.0</td>\n      <td>418.777778</td>\n    </tr>\n    <tr>\n      <th>...</th>\n      <td>...</td>\n      <td>...</td>\n      <td>...</td>\n      <td>...</td>\n      <td>...</td>\n    </tr>\n    <tr>\n      <th>5424</th>\n      <td>9991</td>\n      <td>0</td>\n      <td>False</td>\n      <td>469.0</td>\n      <td>424.777778</td>\n    </tr>\n    <tr>\n      <th>5425</th>\n      <td>9995</td>\n      <td>0</td>\n      <td>False</td>\n      <td>454.0</td>\n      <td>410.555556</td>\n    </tr>\n    <tr>\n      <th>5426</th>\n      <td>9996</td>\n      <td>0</td>\n      <td>False</td>\n      <td>475.0</td>\n      <td>420.333333</td>\n    </tr>\n    <tr>\n      <th>5427</th>\n      <td>9997</td>\n      <td>0</td>\n      <td>False</td>\n      <td>530.5</td>\n      <td>418.888889</td>\n    </tr>\n    <tr>\n      <th>5428</th>\n      <td>9998</td>\n      <td>0</td>\n      <td>False</td>\n      <td>483.0</td>\n      <td>436.555556</td>\n    </tr>\n  </tbody>\n</table>\n<p>5429 rows × 5 columns</p>\n</div>"
     },
     "execution_count": 3,
     "metadata": {},
     "output_type": "execute_result"
    }
   ],
   "source": [
    "# Setting the signup month (for ease of analysis)\n",
    "i = 3\n",
    "df_i_signupmonth = (\n",
    "    df[df.signup_month.isin([0, i])]\n",
    "    .groupby([\"user_id\", \"signup_month\", \"treat\"])\n",
    "    .apply(\n",
    "        lambda x: pd.Series(\n",
    "            {\n",
    "                \"pre_spends\": x.loc[x.month < i, \"spend\"].mean(),\n",
    "                \"post_spends\": x.loc[x.month > i, \"spend\"].mean(),\n",
    "            }\n",
    "        )\n",
    "    )\n",
    "    .reset_index()\n",
    ")\n",
    "df_i_signupmonth"
   ]
  },
  {
   "cell_type": "code",
   "execution_count": 4,
   "metadata": {},
   "outputs": [
    {
     "data": {
      "text/plain": "   user_id  signup_month  treat  pre_spends  post_spends  age  is_male  \\\n0        0             0      0       469.5   416.333333   58        0   \n1        1             0      0       471.0   414.333333   33        0   \n2        5             0      0       482.0   409.222222   45        1   \n3        9             0      0       461.0   418.777778   30        1   \n4       10             0      0       503.0   418.777778   40        1   \n\n  industry  \n0        2  \n1        1  \n2        2  \n3        2  \n4        1  ",
      "text/html": "<div>\n<style scoped>\n    .dataframe tbody tr th:only-of-type {\n        vertical-align: middle;\n    }\n\n    .dataframe tbody tr th {\n        vertical-align: top;\n    }\n\n    .dataframe thead th {\n        text-align: right;\n    }\n</style>\n<table border=\"1\" class=\"dataframe\">\n  <thead>\n    <tr style=\"text-align: right;\">\n      <th></th>\n      <th>user_id</th>\n      <th>signup_month</th>\n      <th>treat</th>\n      <th>pre_spends</th>\n      <th>post_spends</th>\n      <th>age</th>\n      <th>is_male</th>\n      <th>industry</th>\n    </tr>\n  </thead>\n  <tbody>\n    <tr>\n      <th>0</th>\n      <td>0</td>\n      <td>0</td>\n      <td>0</td>\n      <td>469.5</td>\n      <td>416.333333</td>\n      <td>58</td>\n      <td>0</td>\n      <td>2</td>\n    </tr>\n    <tr>\n      <th>1</th>\n      <td>1</td>\n      <td>0</td>\n      <td>0</td>\n      <td>471.0</td>\n      <td>414.333333</td>\n      <td>33</td>\n      <td>0</td>\n      <td>1</td>\n    </tr>\n    <tr>\n      <th>2</th>\n      <td>5</td>\n      <td>0</td>\n      <td>0</td>\n      <td>482.0</td>\n      <td>409.222222</td>\n      <td>45</td>\n      <td>1</td>\n      <td>2</td>\n    </tr>\n    <tr>\n      <th>3</th>\n      <td>9</td>\n      <td>0</td>\n      <td>0</td>\n      <td>461.0</td>\n      <td>418.777778</td>\n      <td>30</td>\n      <td>1</td>\n      <td>2</td>\n    </tr>\n    <tr>\n      <th>4</th>\n      <td>10</td>\n      <td>0</td>\n      <td>0</td>\n      <td>503.0</td>\n      <td>418.777778</td>\n      <td>40</td>\n      <td>1</td>\n      <td>1</td>\n    </tr>\n  </tbody>\n</table>\n</div>"
     },
     "execution_count": 4,
     "metadata": {},
     "output_type": "execute_result"
    }
   ],
   "source": [
    "# Additional category features\n",
    "gender = np.random.choice(a=[0,1], size=df_i_signupmonth.user_id.nunique())\n",
    "age = np.random.choice(a=range(18, 70), size=df_i_signupmonth.user_id.nunique())\n",
    "industry = np.random.choice(a=range(1, 3), size=df_i_signupmonth.user_id.nunique())\n",
    "df_i_signupmonth['age'] = age\n",
    "df_i_signupmonth['is_male'] =  gender\n",
    "df_i_signupmonth['industry'] =  industry\n",
    "df_i_signupmonth['industry'] = df_i_signupmonth['industry'].astype('str')\n",
    "df_i_signupmonth['treat'] = df_i_signupmonth['treat'].astype(int)\n",
    "df_i_signupmonth.head()"
   ]
  },
  {
   "cell_type": "code",
   "execution_count": 5,
   "metadata": {},
   "outputs": [
    {
     "data": {
      "text/plain": "Index(['user_id', 'signup_month', 'treat', 'pre_spends', 'post_spends', 'age',\n       'is_male', 'industry'],\n      dtype='object')"
     },
     "execution_count": 5,
     "metadata": {},
     "output_type": "execute_result"
    }
   ],
   "source": [
    "df_i_signupmonth.columns"
   ]
  },
  {
   "cell_type": "markdown",
   "metadata": {},
   "source": [
    "## 2. Matching  \n",
    "### 2.0 Init params\n",
    "info_col used to define informative attributes that should not be part of matching, such as user_id  \n",
    "But to explicitly store this column in the table, so that you can compare directly after computation"
   ]
  },
  {
   "cell_type": "code",
   "execution_count": 6,
   "metadata": {},
   "outputs": [],
   "source": [
    "info_col = ['user_id', 'signup_month']\n",
    "\n",
    "outcome = 'post_spends'\n",
    "treatment = 'treat'"
   ]
  },
  {
   "cell_type": "markdown",
   "metadata": {},
   "source": [
    "### 2.1 Simple matching\n",
    "This is the easiest way to initialize and calculate metrics on a Matching task  \n",
    "Use it when you are clear about each attribute or if you don't have any additional task conditions (Strict equality for certain features) "
   ]
  },
  {
   "cell_type": "code",
   "execution_count": 7,
   "metadata": {},
   "outputs": [
    {
     "data": {
      "text/plain": "  0%|          | 0/5429 [00:00<?, ?it/s]",
      "application/vnd.jupyter.widget-view+json": {
       "version_major": 2,
       "version_minor": 0,
       "model_id": "41ab3ba4342441d9a0a3f265184b2976"
      }
     },
     "metadata": {},
     "output_type": "display_data"
    }
   ],
   "source": [
    "# Standard model with base parameters\n",
    "model = Matcher(input_data=df_i_signupmonth, outcome=outcome, treatment=treatment, info_col=info_col)\n",
    "results, quality_results = model.estimate()"
   ]
  },
  {
   "cell_type": "markdown",
   "metadata": {},
   "source": [
    "### 2.2 Matching with a fixed variable  \n",
    "Used when you have categorical feature(s) that you want to compare by strict equality  \n",
    "group_col is used for strict comparison of categorical features.  \n",
    "In our case there is only one attribute  \n",
    "If there are several such attributes, you should make one of them and use it"
   ]
  },
  {
   "cell_type": "code",
   "execution_count": 8,
   "metadata": {},
   "outputs": [],
   "source": [
    "# group_col is used for strict comparison of categorical features.  \n",
    "# In our case there is only one attribute  \n",
    "# If there are several such attributes, you should make one of them and use it\n",
    "\n",
    "group_col = \"industry\""
   ]
  },
  {
   "cell_type": "code",
   "execution_count": 9,
   "metadata": {},
   "outputs": [
    {
     "data": {
      "text/plain": "  0%|          | 0/4 [00:00<?, ?it/s]",
      "application/vnd.jupyter.widget-view+json": {
       "version_major": 2,
       "version_minor": 0,
       "model_id": "47f5ea8216fb4607ad2aced4f879f566"
      }
     },
     "metadata": {},
     "output_type": "display_data"
    }
   ],
   "source": [
    "model = Matcher(input_data=df_i_signupmonth, outcome=outcome, treatment=treatment,\n",
    "                info_col=info_col, group_col=group_col)\n",
    "results, quality_results = model.estimate()"
   ]
  },
  {
   "cell_type": "markdown",
   "metadata": {},
   "source": [
    "### 2.3 Matching but you don't know which features are better to use  \n",
    "This is the easiest way to initialize and calculate metrics on a Matching task  \n",
    "Use this method when you want to select the most important features and make matching based on them. "
   ]
  },
  {
   "cell_type": "code",
   "execution_count": 10,
   "metadata": {},
   "outputs": [],
   "source": [
    "model = Matcher(input_data=df_i_signupmonth, outcome=outcome, treatment=treatment,\n",
    "                info_col=info_col, group_col=group_col)"
   ]
  },
  {
   "cell_type": "code",
   "execution_count": 11,
   "metadata": {
    "scrolled": true
   },
   "outputs": [
    {
     "data": {
      "text/plain": "      Feature    Importance\n0  pre_spends  3.792544e+06\n3    industry  3.792544e+06\n1         age  2.538178e+06\n2     is_male  2.782002e+05",
      "text/html": "<div>\n<style scoped>\n    .dataframe tbody tr th:only-of-type {\n        vertical-align: middle;\n    }\n\n    .dataframe tbody tr th {\n        vertical-align: top;\n    }\n\n    .dataframe thead th {\n        text-align: right;\n    }\n</style>\n<table border=\"1\" class=\"dataframe\">\n  <thead>\n    <tr style=\"text-align: right;\">\n      <th></th>\n      <th>Feature</th>\n      <th>Importance</th>\n    </tr>\n  </thead>\n  <tbody>\n    <tr>\n      <th>0</th>\n      <td>pre_spends</td>\n      <td>3.792544e+06</td>\n    </tr>\n    <tr>\n      <th>3</th>\n      <td>industry</td>\n      <td>3.792544e+06</td>\n    </tr>\n    <tr>\n      <th>1</th>\n      <td>age</td>\n      <td>2.538178e+06</td>\n    </tr>\n    <tr>\n      <th>2</th>\n      <td>is_male</td>\n      <td>2.782002e+05</td>\n    </tr>\n  </tbody>\n</table>\n</div>"
     },
     "execution_count": 11,
     "metadata": {},
     "output_type": "execute_result"
    }
   ],
   "source": [
    "features_importance = model.lama_feature_select()\n",
    "features_importance"
   ]
  },
  {
   "cell_type": "code",
   "execution_count": 12,
   "metadata": {},
   "outputs": [],
   "source": [
    "features = features_importance['Feature'].to_list()"
   ]
  },
  {
   "cell_type": "code",
   "execution_count": 13,
   "metadata": {},
   "outputs": [
    {
     "data": {
      "text/plain": "  0%|          | 0/4 [00:00<?, ?it/s]",
      "application/vnd.jupyter.widget-view+json": {
       "version_major": 2,
       "version_minor": 0,
       "model_id": "aab8a2c01972468592a8051a0d0a94f3"
      }
     },
     "metadata": {},
     "output_type": "display_data"
    }
   ],
   "source": [
    "# You can use both variant that you like. So you can just list the features to be matched\n",
    "\n",
    "#results, quality_results = model.estimate(features=features_importance[:3])\n",
    "results, quality_results = model.estimate(features=features[:3])"
   ]
  },
  {
   "cell_type": "code",
   "execution_count": 14,
   "metadata": {},
   "outputs": [
    {
     "data": {
      "text/plain": "      index  pre_spends  age  is_male industry  pre_spends_matched  \\\n0      4977       478.0   43        0        1               477.0   \n1      4978       459.0   48        0        1               457.5   \n2      4979       527.0   55        0        1               525.0   \n3      4980       496.0   62        0        1               496.5   \n4      4981       498.0   30        0        1               498.0   \n...     ...         ...  ...      ...      ...                 ...   \n4972   4972       478.0   63        1        2               478.5   \n4973   4973       469.0   48        1        2               469.5   \n4974   4974       454.0   37        0        2               452.5   \n4975   4975       475.0   64        1        2               474.0   \n4976   4976       483.0   47        0        2               482.0   \n\n      age_matched  is_male_matched index_matched industry_matched  \\\n0            43.0              0.5   [363, 1736]                1   \n1            49.0              0.0          [52]                1   \n2            56.0              1.0         [900]                1   \n3            62.0              0.0         [608]                1   \n4            30.0              0.0         [475]                1   \n...           ...              ...           ...              ...   \n4972         61.0              1.0         [283]                2   \n4973         47.0              0.0         [304]                2   \n4974         35.0              0.0         [333]                2   \n4975         63.0              0.0         [394]                2   \n4976         50.0              1.0         [311]                2   \n\n      post_spends  post_spends_matched  post_spends_matched_bias  treat  \\\n0      531.333333           421.777778                109.544838      1   \n1      522.888889           424.555556                 98.326824      1   \n2      503.888889           423.000000                 80.877021      1   \n3      515.444444           421.444444                 94.005359      1   \n4      519.888889           431.000000                 88.888889      1   \n...           ...                  ...                       ...    ...   \n4972   417.333333           519.666667                102.352429      0   \n4973   424.777778           525.777778                101.016516      0   \n4974   410.555556           517.777778                107.185576      0   \n4975   420.333333           529.111111                108.752487      0   \n4976   436.555556           533.000000                 96.408833      0   \n\n      treat_matched  \n0                 0  \n1                 0  \n2                 0  \n3                 0  \n4                 0  \n...             ...  \n4972              1  \n4973              1  \n4974              1  \n4975              1  \n4976              1  \n\n[5429 rows x 15 columns]",
      "text/html": "<div>\n<style scoped>\n    .dataframe tbody tr th:only-of-type {\n        vertical-align: middle;\n    }\n\n    .dataframe tbody tr th {\n        vertical-align: top;\n    }\n\n    .dataframe thead th {\n        text-align: right;\n    }\n</style>\n<table border=\"1\" class=\"dataframe\">\n  <thead>\n    <tr style=\"text-align: right;\">\n      <th></th>\n      <th>index</th>\n      <th>pre_spends</th>\n      <th>age</th>\n      <th>is_male</th>\n      <th>industry</th>\n      <th>pre_spends_matched</th>\n      <th>age_matched</th>\n      <th>is_male_matched</th>\n      <th>index_matched</th>\n      <th>industry_matched</th>\n      <th>post_spends</th>\n      <th>post_spends_matched</th>\n      <th>post_spends_matched_bias</th>\n      <th>treat</th>\n      <th>treat_matched</th>\n    </tr>\n  </thead>\n  <tbody>\n    <tr>\n      <th>0</th>\n      <td>4977</td>\n      <td>478.0</td>\n      <td>43</td>\n      <td>0</td>\n      <td>1</td>\n      <td>477.0</td>\n      <td>43.0</td>\n      <td>0.5</td>\n      <td>[363, 1736]</td>\n      <td>1</td>\n      <td>531.333333</td>\n      <td>421.777778</td>\n      <td>109.544838</td>\n      <td>1</td>\n      <td>0</td>\n    </tr>\n    <tr>\n      <th>1</th>\n      <td>4978</td>\n      <td>459.0</td>\n      <td>48</td>\n      <td>0</td>\n      <td>1</td>\n      <td>457.5</td>\n      <td>49.0</td>\n      <td>0.0</td>\n      <td>[52]</td>\n      <td>1</td>\n      <td>522.888889</td>\n      <td>424.555556</td>\n      <td>98.326824</td>\n      <td>1</td>\n      <td>0</td>\n    </tr>\n    <tr>\n      <th>2</th>\n      <td>4979</td>\n      <td>527.0</td>\n      <td>55</td>\n      <td>0</td>\n      <td>1</td>\n      <td>525.0</td>\n      <td>56.0</td>\n      <td>1.0</td>\n      <td>[900]</td>\n      <td>1</td>\n      <td>503.888889</td>\n      <td>423.000000</td>\n      <td>80.877021</td>\n      <td>1</td>\n      <td>0</td>\n    </tr>\n    <tr>\n      <th>3</th>\n      <td>4980</td>\n      <td>496.0</td>\n      <td>62</td>\n      <td>0</td>\n      <td>1</td>\n      <td>496.5</td>\n      <td>62.0</td>\n      <td>0.0</td>\n      <td>[608]</td>\n      <td>1</td>\n      <td>515.444444</td>\n      <td>421.444444</td>\n      <td>94.005359</td>\n      <td>1</td>\n      <td>0</td>\n    </tr>\n    <tr>\n      <th>4</th>\n      <td>4981</td>\n      <td>498.0</td>\n      <td>30</td>\n      <td>0</td>\n      <td>1</td>\n      <td>498.0</td>\n      <td>30.0</td>\n      <td>0.0</td>\n      <td>[475]</td>\n      <td>1</td>\n      <td>519.888889</td>\n      <td>431.000000</td>\n      <td>88.888889</td>\n      <td>1</td>\n      <td>0</td>\n    </tr>\n    <tr>\n      <th>...</th>\n      <td>...</td>\n      <td>...</td>\n      <td>...</td>\n      <td>...</td>\n      <td>...</td>\n      <td>...</td>\n      <td>...</td>\n      <td>...</td>\n      <td>...</td>\n      <td>...</td>\n      <td>...</td>\n      <td>...</td>\n      <td>...</td>\n      <td>...</td>\n      <td>...</td>\n    </tr>\n    <tr>\n      <th>4972</th>\n      <td>4972</td>\n      <td>478.0</td>\n      <td>63</td>\n      <td>1</td>\n      <td>2</td>\n      <td>478.5</td>\n      <td>61.0</td>\n      <td>1.0</td>\n      <td>[283]</td>\n      <td>2</td>\n      <td>417.333333</td>\n      <td>519.666667</td>\n      <td>102.352429</td>\n      <td>0</td>\n      <td>1</td>\n    </tr>\n    <tr>\n      <th>4973</th>\n      <td>4973</td>\n      <td>469.0</td>\n      <td>48</td>\n      <td>1</td>\n      <td>2</td>\n      <td>469.5</td>\n      <td>47.0</td>\n      <td>0.0</td>\n      <td>[304]</td>\n      <td>2</td>\n      <td>424.777778</td>\n      <td>525.777778</td>\n      <td>101.016516</td>\n      <td>0</td>\n      <td>1</td>\n    </tr>\n    <tr>\n      <th>4974</th>\n      <td>4974</td>\n      <td>454.0</td>\n      <td>37</td>\n      <td>0</td>\n      <td>2</td>\n      <td>452.5</td>\n      <td>35.0</td>\n      <td>0.0</td>\n      <td>[333]</td>\n      <td>2</td>\n      <td>410.555556</td>\n      <td>517.777778</td>\n      <td>107.185576</td>\n      <td>0</td>\n      <td>1</td>\n    </tr>\n    <tr>\n      <th>4975</th>\n      <td>4975</td>\n      <td>475.0</td>\n      <td>64</td>\n      <td>1</td>\n      <td>2</td>\n      <td>474.0</td>\n      <td>63.0</td>\n      <td>0.0</td>\n      <td>[394]</td>\n      <td>2</td>\n      <td>420.333333</td>\n      <td>529.111111</td>\n      <td>108.752487</td>\n      <td>0</td>\n      <td>1</td>\n    </tr>\n    <tr>\n      <th>4976</th>\n      <td>4976</td>\n      <td>483.0</td>\n      <td>47</td>\n      <td>0</td>\n      <td>2</td>\n      <td>482.0</td>\n      <td>50.0</td>\n      <td>1.0</td>\n      <td>[311]</td>\n      <td>2</td>\n      <td>436.555556</td>\n      <td>533.000000</td>\n      <td>96.408833</td>\n      <td>0</td>\n      <td>1</td>\n    </tr>\n  </tbody>\n</table>\n<p>5429 rows × 15 columns</p>\n</div>"
     },
     "execution_count": 14,
     "metadata": {},
     "output_type": "execute_result"
    }
   ],
   "source": [
    "model.matcher.df_matched"
   ]
  },
  {
   "cell_type": "markdown",
   "metadata": {},
   "source": [
    "## 3. Results  \n",
    "### 3.1 ATE, ATT, ATC"
   ]
  },
  {
   "cell_type": "code",
   "execution_count": 15,
   "metadata": {},
   "outputs": [
    {
     "data": {
      "text/plain": "     effect_size   std_err  p-val   ci_lower    ci_upper\nATE   100.253309  0.535137    0.0  99.204440  101.302178\nATC   100.242588  0.545294    0.0  99.173811  101.311364\nATT   100.371367  0.655610    0.0  99.086371  101.656362",
      "text/html": "<div>\n<style scoped>\n    .dataframe tbody tr th:only-of-type {\n        vertical-align: middle;\n    }\n\n    .dataframe tbody tr th {\n        vertical-align: top;\n    }\n\n    .dataframe thead th {\n        text-align: right;\n    }\n</style>\n<table border=\"1\" class=\"dataframe\">\n  <thead>\n    <tr style=\"text-align: right;\">\n      <th></th>\n      <th>effect_size</th>\n      <th>std_err</th>\n      <th>p-val</th>\n      <th>ci_lower</th>\n      <th>ci_upper</th>\n    </tr>\n  </thead>\n  <tbody>\n    <tr>\n      <th>ATE</th>\n      <td>100.253309</td>\n      <td>0.535137</td>\n      <td>0.0</td>\n      <td>99.204440</td>\n      <td>101.302178</td>\n    </tr>\n    <tr>\n      <th>ATC</th>\n      <td>100.242588</td>\n      <td>0.545294</td>\n      <td>0.0</td>\n      <td>99.173811</td>\n      <td>101.311364</td>\n    </tr>\n    <tr>\n      <th>ATT</th>\n      <td>100.371367</td>\n      <td>0.655610</td>\n      <td>0.0</td>\n      <td>99.086371</td>\n      <td>101.656362</td>\n    </tr>\n  </tbody>\n</table>\n</div>"
     },
     "execution_count": 15,
     "metadata": {},
     "output_type": "execute_result"
    }
   ],
   "source": [
    "# model.matcher.results\n",
    "results"
   ]
  },
  {
   "cell_type": "markdown",
   "metadata": {},
   "source": [
    "### 3.2 SMD, PSI, KS-test, repeats"
   ]
  },
  {
   "cell_type": "code",
   "execution_count": 16,
   "metadata": {},
   "outputs": [
    {
     "data": {
      "text/plain": "{'psi':         column_treated  anomaly_score_treated check_result_treated  \\\n 0          age_treated                   0.00                   OK   \n 1     industry_treated                   0.00                   OK   \n 2  post_spends_treated                  16.11                  NOK   \n 3   pre_spends_treated                   0.00                   OK   \n \n         column_untreated  anomaly_score_untreated check_result_untreated  \n 0          age_untreated                     0.01                     OK  \n 1     industry_untreated                     0.00                     OK  \n 2  post_spends_untreated                     8.24                    NOK  \n 3   pre_spends_untreated                     0.01                     OK  ,\n 'ks_test':             match_control_to_treat  match_treat_to_control\n age                       1.000000                0.509011\n is_male                   0.057995                0.001526\n pre_spends                1.000000                0.312744,\n 'smd':             match_control_to_treat  match_treat_to_control\n age                       0.001587                0.000718\n is_male                   0.053057                0.063159\n pre_spends                0.000884                0.004310,\n 'repeats': {'match_control_to_treat': 0.93, 'match_treat_to_control': 0.09}}"
     },
     "execution_count": 16,
     "metadata": {},
     "output_type": "execute_result"
    }
   ],
   "source": [
    "# matching quality result - SMD\n",
    "model.quality_result"
   ]
  },
  {
   "cell_type": "code",
   "execution_count": 17,
   "metadata": {},
   "outputs": [
    {
     "data": {
      "text/plain": "        column_treated  anomaly_score_treated check_result_treated  \\\n0          age_treated                   0.00                   OK   \n1     industry_treated                   0.00                   OK   \n2  post_spends_treated                  16.11                  NOK   \n3   pre_spends_treated                   0.00                   OK   \n\n        column_untreated  anomaly_score_untreated check_result_untreated  \n0          age_untreated                     0.01                     OK  \n1     industry_untreated                     0.00                     OK  \n2  post_spends_untreated                     8.24                    NOK  \n3   pre_spends_untreated                     0.01                     OK  ",
      "text/html": "<div>\n<style scoped>\n    .dataframe tbody tr th:only-of-type {\n        vertical-align: middle;\n    }\n\n    .dataframe tbody tr th {\n        vertical-align: top;\n    }\n\n    .dataframe thead th {\n        text-align: right;\n    }\n</style>\n<table border=\"1\" class=\"dataframe\">\n  <thead>\n    <tr style=\"text-align: right;\">\n      <th></th>\n      <th>column_treated</th>\n      <th>anomaly_score_treated</th>\n      <th>check_result_treated</th>\n      <th>column_untreated</th>\n      <th>anomaly_score_untreated</th>\n      <th>check_result_untreated</th>\n    </tr>\n  </thead>\n  <tbody>\n    <tr>\n      <th>0</th>\n      <td>age_treated</td>\n      <td>0.00</td>\n      <td>OK</td>\n      <td>age_untreated</td>\n      <td>0.01</td>\n      <td>OK</td>\n    </tr>\n    <tr>\n      <th>1</th>\n      <td>industry_treated</td>\n      <td>0.00</td>\n      <td>OK</td>\n      <td>industry_untreated</td>\n      <td>0.00</td>\n      <td>OK</td>\n    </tr>\n    <tr>\n      <th>2</th>\n      <td>post_spends_treated</td>\n      <td>16.11</td>\n      <td>NOK</td>\n      <td>post_spends_untreated</td>\n      <td>8.24</td>\n      <td>NOK</td>\n    </tr>\n    <tr>\n      <th>3</th>\n      <td>pre_spends_treated</td>\n      <td>0.00</td>\n      <td>OK</td>\n      <td>pre_spends_untreated</td>\n      <td>0.01</td>\n      <td>OK</td>\n    </tr>\n  </tbody>\n</table>\n</div>"
     },
     "execution_count": 17,
     "metadata": {},
     "output_type": "execute_result"
    }
   ],
   "source": [
    "# matching quality result - PSI\n",
    "model.quality_result['psi']"
   ]
  },
  {
   "cell_type": "code",
   "execution_count": 18,
   "metadata": {},
   "outputs": [
    {
     "data": {
      "text/plain": "            match_control_to_treat  match_treat_to_control\nage                       1.000000                0.509011\nis_male                   0.057995                0.001526\npre_spends                1.000000                0.312744",
      "text/html": "<div>\n<style scoped>\n    .dataframe tbody tr th:only-of-type {\n        vertical-align: middle;\n    }\n\n    .dataframe tbody tr th {\n        vertical-align: top;\n    }\n\n    .dataframe thead th {\n        text-align: right;\n    }\n</style>\n<table border=\"1\" class=\"dataframe\">\n  <thead>\n    <tr style=\"text-align: right;\">\n      <th></th>\n      <th>match_control_to_treat</th>\n      <th>match_treat_to_control</th>\n    </tr>\n  </thead>\n  <tbody>\n    <tr>\n      <th>age</th>\n      <td>1.000000</td>\n      <td>0.509011</td>\n    </tr>\n    <tr>\n      <th>is_male</th>\n      <td>0.057995</td>\n      <td>0.001526</td>\n    </tr>\n    <tr>\n      <th>pre_spends</th>\n      <td>1.000000</td>\n      <td>0.312744</td>\n    </tr>\n  </tbody>\n</table>\n</div>"
     },
     "execution_count": 18,
     "metadata": {},
     "output_type": "execute_result"
    }
   ],
   "source": [
    "# matching quality result - KS-test\n",
    "\n",
    "model.quality_result['ks_test']"
   ]
  },
  {
   "cell_type": "code",
   "execution_count": 19,
   "metadata": {},
   "outputs": [
    {
     "data": {
      "text/plain": "{'match_control_to_treat': 0.93, 'match_treat_to_control': 0.09}"
     },
     "execution_count": 19,
     "metadata": {},
     "output_type": "execute_result"
    }
   ],
   "source": [
    "# matching quality result - repeats\n",
    "model.quality_result['repeats']"
   ]
  },
  {
   "cell_type": "markdown",
   "metadata": {},
   "source": [
    "### 3.3 Validation\n",
    "validate result with placebo treatment  \n",
    "our new effect size is close to zero (it should be)"
   ]
  },
  {
   "cell_type": "code",
   "execution_count": 20,
   "metadata": {},
   "outputs": [
    {
     "data": {
      "text/plain": "  0%|          | 0/10 [00:00<?, ?it/s]",
      "application/vnd.jupyter.widget-view+json": {
       "version_major": 2,
       "version_minor": 0,
       "model_id": "e470e72622d14640bd3c2c951ba97281"
      }
     },
     "metadata": {},
     "output_type": "display_data"
    },
    {
     "data": {
      "text/plain": "{'post_spends': [100.15633648224275, 0.2918322510903185]}"
     },
     "execution_count": 20,
     "metadata": {},
     "output_type": "execute_result"
    }
   ],
   "source": [
    " \n",
    "model.validate_result()\n",
    " "
   ]
  },
  {
   "cell_type": "code",
   "execution_count": 20,
   "metadata": {},
   "outputs": [],
   "source": []
  },
  {
   "cell_type": "code",
   "execution_count": 21,
   "metadata": {},
   "outputs": [
    {
     "data": {
      "text/plain": "      index  pre_spends  age  is_male industry  random_feature  \\\n0      4977       478.0   43        0        1       -1.023656   \n1      4978       459.0   48        0        1        1.247216   \n2      4979       527.0   55        0        1        1.016046   \n3      4980       496.0   62        0        1       -0.166324   \n4      4981       498.0   30        0        1       -2.091826   \n...     ...         ...  ...      ...      ...             ...   \n4972   4972       478.0   63        1        2       -0.092509   \n4973   4973       469.0   48        1        2        0.027891   \n4974   4974       454.0   37        0        2       -1.102093   \n4975   4975       475.0   64        1        2        2.034662   \n4976   4976       483.0   47        0        2        0.823875   \n\n      pre_spends_matched  age_matched  is_male_matched  \\\n0                  479.0         42.0              0.0   \n1                  457.0         45.0              0.0   \n2                  525.0         56.0              1.0   \n3                  494.5         62.0              1.0   \n4                  497.0         29.0              1.0   \n...                  ...          ...              ...   \n4972               476.0         61.0              1.0   \n4973               466.5         46.0              1.0   \n4974               461.5         32.0              1.0   \n4975               477.0         60.0              0.0   \n4976               487.0         46.0              0.0   \n\n      random_feature_matched index_matched industry_matched  post_spends  \\\n0                  -1.057134         [160]                1   531.333333   \n1                   1.107004        [2176]                1   522.888889   \n2                   1.095232         [900]                1   503.888889   \n3                  -0.204460        [1436]                1   515.444444   \n4                  -2.203263        [1322]                1   519.888889   \n...                      ...           ...              ...          ...   \n4972               -0.031549         [376]                2   417.333333   \n4973               -0.082354         [240]                2   424.777778   \n4974               -1.491509         [238]                2   410.555556   \n4975                2.034873         [287]                2   420.333333   \n4976                0.932403         [271]                2   436.555556   \n\n      post_spends_matched  post_spends_matched_bias  treat  treat_matched  \n0              428.222222                103.125354      1              0  \n1              426.000000                 96.838339      1              0  \n2              423.000000                 80.823729      1              0  \n3              415.777778                 99.654435      1              0  \n4              425.000000                 94.903121      1              0  \n...                   ...                       ...    ...            ...  \n4972           516.222222                 98.758296      0              1  \n4973           519.666667                 94.804051      0              1  \n4974           517.333333                107.035335      0              1  \n4975           514.111111                 93.747349      0              1  \n4976           524.777778                 88.284910      0              1  \n\n[5429 rows x 17 columns]",
      "text/html": "<div>\n<style scoped>\n    .dataframe tbody tr th:only-of-type {\n        vertical-align: middle;\n    }\n\n    .dataframe tbody tr th {\n        vertical-align: top;\n    }\n\n    .dataframe thead th {\n        text-align: right;\n    }\n</style>\n<table border=\"1\" class=\"dataframe\">\n  <thead>\n    <tr style=\"text-align: right;\">\n      <th></th>\n      <th>index</th>\n      <th>pre_spends</th>\n      <th>age</th>\n      <th>is_male</th>\n      <th>industry</th>\n      <th>random_feature</th>\n      <th>pre_spends_matched</th>\n      <th>age_matched</th>\n      <th>is_male_matched</th>\n      <th>random_feature_matched</th>\n      <th>index_matched</th>\n      <th>industry_matched</th>\n      <th>post_spends</th>\n      <th>post_spends_matched</th>\n      <th>post_spends_matched_bias</th>\n      <th>treat</th>\n      <th>treat_matched</th>\n    </tr>\n  </thead>\n  <tbody>\n    <tr>\n      <th>0</th>\n      <td>4977</td>\n      <td>478.0</td>\n      <td>43</td>\n      <td>0</td>\n      <td>1</td>\n      <td>-1.023656</td>\n      <td>479.0</td>\n      <td>42.0</td>\n      <td>0.0</td>\n      <td>-1.057134</td>\n      <td>[160]</td>\n      <td>1</td>\n      <td>531.333333</td>\n      <td>428.222222</td>\n      <td>103.125354</td>\n      <td>1</td>\n      <td>0</td>\n    </tr>\n    <tr>\n      <th>1</th>\n      <td>4978</td>\n      <td>459.0</td>\n      <td>48</td>\n      <td>0</td>\n      <td>1</td>\n      <td>1.247216</td>\n      <td>457.0</td>\n      <td>45.0</td>\n      <td>0.0</td>\n      <td>1.107004</td>\n      <td>[2176]</td>\n      <td>1</td>\n      <td>522.888889</td>\n      <td>426.000000</td>\n      <td>96.838339</td>\n      <td>1</td>\n      <td>0</td>\n    </tr>\n    <tr>\n      <th>2</th>\n      <td>4979</td>\n      <td>527.0</td>\n      <td>55</td>\n      <td>0</td>\n      <td>1</td>\n      <td>1.016046</td>\n      <td>525.0</td>\n      <td>56.0</td>\n      <td>1.0</td>\n      <td>1.095232</td>\n      <td>[900]</td>\n      <td>1</td>\n      <td>503.888889</td>\n      <td>423.000000</td>\n      <td>80.823729</td>\n      <td>1</td>\n      <td>0</td>\n    </tr>\n    <tr>\n      <th>3</th>\n      <td>4980</td>\n      <td>496.0</td>\n      <td>62</td>\n      <td>0</td>\n      <td>1</td>\n      <td>-0.166324</td>\n      <td>494.5</td>\n      <td>62.0</td>\n      <td>1.0</td>\n      <td>-0.204460</td>\n      <td>[1436]</td>\n      <td>1</td>\n      <td>515.444444</td>\n      <td>415.777778</td>\n      <td>99.654435</td>\n      <td>1</td>\n      <td>0</td>\n    </tr>\n    <tr>\n      <th>4</th>\n      <td>4981</td>\n      <td>498.0</td>\n      <td>30</td>\n      <td>0</td>\n      <td>1</td>\n      <td>-2.091826</td>\n      <td>497.0</td>\n      <td>29.0</td>\n      <td>1.0</td>\n      <td>-2.203263</td>\n      <td>[1322]</td>\n      <td>1</td>\n      <td>519.888889</td>\n      <td>425.000000</td>\n      <td>94.903121</td>\n      <td>1</td>\n      <td>0</td>\n    </tr>\n    <tr>\n      <th>...</th>\n      <td>...</td>\n      <td>...</td>\n      <td>...</td>\n      <td>...</td>\n      <td>...</td>\n      <td>...</td>\n      <td>...</td>\n      <td>...</td>\n      <td>...</td>\n      <td>...</td>\n      <td>...</td>\n      <td>...</td>\n      <td>...</td>\n      <td>...</td>\n      <td>...</td>\n      <td>...</td>\n      <td>...</td>\n    </tr>\n    <tr>\n      <th>4972</th>\n      <td>4972</td>\n      <td>478.0</td>\n      <td>63</td>\n      <td>1</td>\n      <td>2</td>\n      <td>-0.092509</td>\n      <td>476.0</td>\n      <td>61.0</td>\n      <td>1.0</td>\n      <td>-0.031549</td>\n      <td>[376]</td>\n      <td>2</td>\n      <td>417.333333</td>\n      <td>516.222222</td>\n      <td>98.758296</td>\n      <td>0</td>\n      <td>1</td>\n    </tr>\n    <tr>\n      <th>4973</th>\n      <td>4973</td>\n      <td>469.0</td>\n      <td>48</td>\n      <td>1</td>\n      <td>2</td>\n      <td>0.027891</td>\n      <td>466.5</td>\n      <td>46.0</td>\n      <td>1.0</td>\n      <td>-0.082354</td>\n      <td>[240]</td>\n      <td>2</td>\n      <td>424.777778</td>\n      <td>519.666667</td>\n      <td>94.804051</td>\n      <td>0</td>\n      <td>1</td>\n    </tr>\n    <tr>\n      <th>4974</th>\n      <td>4974</td>\n      <td>454.0</td>\n      <td>37</td>\n      <td>0</td>\n      <td>2</td>\n      <td>-1.102093</td>\n      <td>461.5</td>\n      <td>32.0</td>\n      <td>1.0</td>\n      <td>-1.491509</td>\n      <td>[238]</td>\n      <td>2</td>\n      <td>410.555556</td>\n      <td>517.333333</td>\n      <td>107.035335</td>\n      <td>0</td>\n      <td>1</td>\n    </tr>\n    <tr>\n      <th>4975</th>\n      <td>4975</td>\n      <td>475.0</td>\n      <td>64</td>\n      <td>1</td>\n      <td>2</td>\n      <td>2.034662</td>\n      <td>477.0</td>\n      <td>60.0</td>\n      <td>0.0</td>\n      <td>2.034873</td>\n      <td>[287]</td>\n      <td>2</td>\n      <td>420.333333</td>\n      <td>514.111111</td>\n      <td>93.747349</td>\n      <td>0</td>\n      <td>1</td>\n    </tr>\n    <tr>\n      <th>4976</th>\n      <td>4976</td>\n      <td>483.0</td>\n      <td>47</td>\n      <td>0</td>\n      <td>2</td>\n      <td>0.823875</td>\n      <td>487.0</td>\n      <td>46.0</td>\n      <td>0.0</td>\n      <td>0.932403</td>\n      <td>[271]</td>\n      <td>2</td>\n      <td>436.555556</td>\n      <td>524.777778</td>\n      <td>88.284910</td>\n      <td>0</td>\n      <td>1</td>\n    </tr>\n  </tbody>\n</table>\n<p>5429 rows × 17 columns</p>\n</div>"
     },
     "execution_count": 21,
     "metadata": {},
     "output_type": "execute_result"
    }
   ],
   "source": [
    "model.matcher.df_matched"
   ]
  },
  {
   "cell_type": "code",
   "execution_count": 21,
   "metadata": {},
   "outputs": [],
   "source": []
  },
  {
   "cell_type": "code",
   "execution_count": null,
   "metadata": {},
   "outputs": [],
   "source": []
  },
  {
   "cell_type": "code",
   "execution_count": null,
   "metadata": {},
   "outputs": [],
   "source": []
  },
  {
   "cell_type": "code",
   "execution_count": null,
   "metadata": {},
   "outputs": [],
   "source": []
  },
  {
   "cell_type": "code",
   "execution_count": null,
   "metadata": {},
   "outputs": [],
   "source": []
  }
 ],
 "metadata": {
  "kernelspec": {
   "display_name": "Python 3 (ipykernel)",
   "language": "python",
   "name": "python3"
  },
  "language_info": {
   "codemirror_mode": {
    "name": "ipython",
    "version": 3
   },
   "file_extension": ".py",
   "mimetype": "text/x-python",
   "name": "python",
   "nbconvert_exporter": "python",
   "pygments_lexer": "ipython3",
   "version": "3.8.16"
  }
 },
 "nbformat": 4,
 "nbformat_minor": 1
}

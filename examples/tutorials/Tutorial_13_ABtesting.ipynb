{
 "cells": [
  {
   "cell_type": "markdown",
   "id": "64e2de80",
   "metadata": {},
   "source": [
    "# How to perform AA and AB tests"
   ]
  },
  {
   "cell_type": "markdown",
   "id": "9f52ff79",
   "metadata": {},
   "source": [
    "## 0. Import Libraries"
   ]
  },
  {
   "cell_type": "code",
   "execution_count": 1,
   "id": "6c2c62f0",
   "metadata": {},
   "outputs": [
    {
     "name": "stdout",
     "output_type": "stream",
     "text": [
      "'nlp' extra dependecy package 'gensim' isn't installed. Look at README.md in repo 'LightAutoML' for installation instructions.\n",
      "'nlp' extra dependecy package 'transformers' isn't installed. Look at README.md in repo 'LightAutoML' for installation instructions.\n",
      "'nlp' extra dependecy package 'gensim' isn't installed. Look at README.md in repo 'LightAutoML' for installation instructions.\n",
      "'nlp' extra dependecy package 'transformers' isn't installed. Look at README.md in repo 'LightAutoML' for installation instructions.\n"
     ]
    },
    {
     "name": "stderr",
     "output_type": "stream",
     "text": [
      "C:\\Users\\20810012\\Desktop\\Задачи\\code\\matcher\\lightautoml\\ml_algo\\dl_model.py:41: UserWarning: 'transformers' - package isn't installed\n",
      "  warnings.warn(\"'transformers' - package isn't installed\")\n",
      "C:\\Users\\20810012\\Desktop\\Задачи\\code\\matcher\\lightautoml\\text\\nn_model.py:22: UserWarning: 'transformers' - package isn't installed\n",
      "  warnings.warn(\"'transformers' - package isn't installed\")\n",
      "C:\\Users\\20810012\\Desktop\\Задачи\\code\\matcher\\lightautoml\\text\\dl_transformers.py:25: UserWarning: 'transformers' - package isn't installed\n",
      "  warnings.warn(\"'transformers' - package isn't installed\")\n"
     ]
    }
   ],
   "source": [
    "import pandas as pd\n",
    "import numpy as np\n",
    "from lightautoml.addons.hypex.ABTesting.ab_tester import AATest, ABTest\n",
    "from lightautoml.addons.hypex.utils.tutorial_data_creation import create_test_data\n",
    "\n",
    "pd.options.display.float_format = '{:,.2f}'.format\n",
    "\n",
    "np.random.seed(52) #needed to create example data\n",
    "import warnings\n",
    "warnings.filterwarnings(\"ignore\")"
   ]
  },
  {
   "cell_type": "markdown",
   "id": "2dca3eaa",
   "metadata": {},
   "source": [
    "## 1. Create or upload your dataset\n",
    "In this case we will create random dataset with known effect size  \n",
    "If you have your own dataset, go to the part 2 "
   ]
  },
  {
   "cell_type": "code",
   "execution_count": 2,
   "id": "7b655d2d",
   "metadata": {},
   "outputs": [
    {
     "name": "stdout",
     "output_type": "stream",
     "text": [
      "Length of na_step is less than length of columns. Used last value several times\n"
     ]
    },
    {
     "data": {
      "text/html": [
       "<div>\n",
       "<style scoped>\n",
       "    .dataframe tbody tr th:only-of-type {\n",
       "        vertical-align: middle;\n",
       "    }\n",
       "\n",
       "    .dataframe tbody tr th {\n",
       "        vertical-align: top;\n",
       "    }\n",
       "\n",
       "    .dataframe thead th {\n",
       "        text-align: right;\n",
       "    }\n",
       "</style>\n",
       "<table border=\"1\" class=\"dataframe\">\n",
       "  <thead>\n",
       "    <tr style=\"text-align: right;\">\n",
       "      <th></th>\n",
       "      <th>user_id</th>\n",
       "      <th>signup_month</th>\n",
       "      <th>treat</th>\n",
       "      <th>pre_spends</th>\n",
       "      <th>post_spends</th>\n",
       "      <th>age</th>\n",
       "      <th>gender</th>\n",
       "      <th>industry</th>\n",
       "    </tr>\n",
       "  </thead>\n",
       "  <tbody>\n",
       "    <tr>\n",
       "      <th>0</th>\n",
       "      <td>0</td>\n",
       "      <td>0</td>\n",
       "      <td>0</td>\n",
       "      <td>488.00</td>\n",
       "      <td>414.44</td>\n",
       "      <td>NaN</td>\n",
       "      <td>M</td>\n",
       "      <td>E-commerce</td>\n",
       "    </tr>\n",
       "    <tr>\n",
       "      <th>1</th>\n",
       "      <td>3</td>\n",
       "      <td>0</td>\n",
       "      <td>0</td>\n",
       "      <td>501.50</td>\n",
       "      <td>424.33</td>\n",
       "      <td>31.00</td>\n",
       "      <td>NaN</td>\n",
       "      <td>Logistics</td>\n",
       "    </tr>\n",
       "    <tr>\n",
       "      <th>2</th>\n",
       "      <td>10</td>\n",
       "      <td>0</td>\n",
       "      <td>0</td>\n",
       "      <td>522.50</td>\n",
       "      <td>416.22</td>\n",
       "      <td>64.00</td>\n",
       "      <td>M</td>\n",
       "      <td>E-commerce</td>\n",
       "    </tr>\n",
       "    <tr>\n",
       "      <th>3</th>\n",
       "      <td>12</td>\n",
       "      <td>0</td>\n",
       "      <td>0</td>\n",
       "      <td>472.00</td>\n",
       "      <td>423.78</td>\n",
       "      <td>43.00</td>\n",
       "      <td>M</td>\n",
       "      <td>E-commerce</td>\n",
       "    </tr>\n",
       "    <tr>\n",
       "      <th>4</th>\n",
       "      <td>13</td>\n",
       "      <td>0</td>\n",
       "      <td>0</td>\n",
       "      <td>508.50</td>\n",
       "      <td>424.22</td>\n",
       "      <td>36.00</td>\n",
       "      <td>F</td>\n",
       "      <td>E-commerce</td>\n",
       "    </tr>\n",
       "    <tr>\n",
       "      <th>...</th>\n",
       "      <td>...</td>\n",
       "      <td>...</td>\n",
       "      <td>...</td>\n",
       "      <td>...</td>\n",
       "      <td>...</td>\n",
       "      <td>...</td>\n",
       "      <td>...</td>\n",
       "      <td>...</td>\n",
       "    </tr>\n",
       "    <tr>\n",
       "      <th>5365</th>\n",
       "      <td>9991</td>\n",
       "      <td>0</td>\n",
       "      <td>0</td>\n",
       "      <td>482.50</td>\n",
       "      <td>421.89</td>\n",
       "      <td>23.00</td>\n",
       "      <td>F</td>\n",
       "      <td>E-commerce</td>\n",
       "    </tr>\n",
       "    <tr>\n",
       "      <th>5366</th>\n",
       "      <td>9992</td>\n",
       "      <td>0</td>\n",
       "      <td>0</td>\n",
       "      <td>491.50</td>\n",
       "      <td>424.00</td>\n",
       "      <td>44.00</td>\n",
       "      <td>M</td>\n",
       "      <td>E-commerce</td>\n",
       "    </tr>\n",
       "    <tr>\n",
       "      <th>5367</th>\n",
       "      <td>9994</td>\n",
       "      <td>0</td>\n",
       "      <td>0</td>\n",
       "      <td>486.00</td>\n",
       "      <td>423.78</td>\n",
       "      <td>27.00</td>\n",
       "      <td>F</td>\n",
       "      <td>Logistics</td>\n",
       "    </tr>\n",
       "    <tr>\n",
       "      <th>5368</th>\n",
       "      <td>9996</td>\n",
       "      <td>0</td>\n",
       "      <td>0</td>\n",
       "      <td>500.50</td>\n",
       "      <td>430.89</td>\n",
       "      <td>56.00</td>\n",
       "      <td>F</td>\n",
       "      <td>E-commerce</td>\n",
       "    </tr>\n",
       "    <tr>\n",
       "      <th>5369</th>\n",
       "      <td>9997</td>\n",
       "      <td>3</td>\n",
       "      <td>1</td>\n",
       "      <td>473.00</td>\n",
       "      <td>534.11</td>\n",
       "      <td>56.00</td>\n",
       "      <td>M</td>\n",
       "      <td>Logistics</td>\n",
       "    </tr>\n",
       "  </tbody>\n",
       "</table>\n",
       "<p>5370 rows × 8 columns</p>\n",
       "</div>"
      ],
      "text/plain": [
       "      user_id  signup_month  treat  pre_spends  post_spends   age gender  \\\n",
       "0           0             0      0      488.00       414.44   NaN      M   \n",
       "1           3             0      0      501.50       424.33 31.00    NaN   \n",
       "2          10             0      0      522.50       416.22 64.00      M   \n",
       "3          12             0      0      472.00       423.78 43.00      M   \n",
       "4          13             0      0      508.50       424.22 36.00      F   \n",
       "...       ...           ...    ...         ...          ...   ...    ...   \n",
       "5365     9991             0      0      482.50       421.89 23.00      F   \n",
       "5366     9992             0      0      491.50       424.00 44.00      M   \n",
       "5367     9994             0      0      486.00       423.78 27.00      F   \n",
       "5368     9996             0      0      500.50       430.89 56.00      F   \n",
       "5369     9997             3      1      473.00       534.11 56.00      M   \n",
       "\n",
       "        industry  \n",
       "0     E-commerce  \n",
       "1      Logistics  \n",
       "2     E-commerce  \n",
       "3     E-commerce  \n",
       "4     E-commerce  \n",
       "...          ...  \n",
       "5365  E-commerce  \n",
       "5366  E-commerce  \n",
       "5367   Logistics  \n",
       "5368  E-commerce  \n",
       "5369   Logistics  \n",
       "\n",
       "[5370 rows x 8 columns]"
      ]
     },
     "execution_count": 2,
     "metadata": {},
     "output_type": "execute_result"
    }
   ],
   "source": [
    "data = create_test_data(rs=52, na_step=10, nan_cols=['age', 'gender'])\n",
    "data"
   ]
  },
  {
   "cell_type": "markdown",
   "id": "a0402e83",
   "metadata": {},
   "source": [
    "## 2. AATest \n",
    "*AB-test is shown in section 3*"
   ]
  },
  {
   "cell_type": "markdown",
   "id": "b3733f84",
   "metadata": {},
   "source": [
    "### 2.0 Initialize parameters\n",
    "`info_col` used to define informative attributes that should NOT be part of testing, such as user_id and signup_month <br>"
   ]
  },
  {
   "cell_type": "code",
   "execution_count": 3,
   "id": "bc8e4ac0",
   "metadata": {},
   "outputs": [],
   "source": [
    "info_cols = ['user_id', 'signup_month']\n",
    "target = ['post_spends', 'pre_spends']"
   ]
  },
  {
   "cell_type": "markdown",
   "id": "75c196ea",
   "metadata": {},
   "source": [
    "### 2.1 Simple AA-test\n",
    "This is the easiest way to initialize and calculate metrics on a AA-test (default - on 10 iterations)<br>\n",
    "Use it when you are clear about each attribute or if you don't have any additional task conditions (like grouping)"
   ]
  },
  {
   "cell_type": "code",
   "execution_count": 4,
   "id": "701d20c0",
   "metadata": {},
   "outputs": [],
   "source": [
    "experiment = AATest(info_cols=info_cols, target_fields=target)"
   ]
  },
  {
   "cell_type": "code",
   "execution_count": 5,
   "id": "a3d70bf6",
   "metadata": {},
   "outputs": [
    {
     "data": {
      "application/vnd.jupyter.widget-view+json": {
       "model_id": "dda8a3243b0b48128fe194d4ca767592",
       "version_major": 2,
       "version_minor": 0
      },
      "text/plain": [
       "  0%|          | 0/10 [00:00<?, ?it/s]"
      ]
     },
     "metadata": {},
     "output_type": "display_data"
    }
   ],
   "source": [
    "experiment_result, dict_of_datas = experiment.search_dist_uniform_sampling(data, iterations=10)"
   ]
  },
  {
   "cell_type": "markdown",
   "id": "5b519654",
   "metadata": {},
   "source": [
    "`experiment_result` is a table of results of experiments, which includes \n",
    "- means of all targets in a and b samples, \n",
    "- p_values of Student t-test and test Kolmogorova-Smirnova, \n",
    "- and results of tests (did data on the random_state passes the uniform test)"
   ]
  },
  {
   "cell_type": "code",
   "execution_count": 6,
   "id": "2adb8cdd",
   "metadata": {},
   "outputs": [
    {
     "data": {
      "text/html": [
       "<div>\n",
       "<style scoped>\n",
       "    .dataframe tbody tr th:only-of-type {\n",
       "        vertical-align: middle;\n",
       "    }\n",
       "\n",
       "    .dataframe tbody tr th {\n",
       "        vertical-align: top;\n",
       "    }\n",
       "\n",
       "    .dataframe thead th {\n",
       "        text-align: right;\n",
       "    }\n",
       "</style>\n",
       "<table border=\"1\" class=\"dataframe\">\n",
       "  <thead>\n",
       "    <tr style=\"text-align: right;\">\n",
       "      <th></th>\n",
       "      <th>random_state</th>\n",
       "      <th>post_spends a mean</th>\n",
       "      <th>post_spends b mean</th>\n",
       "      <th>post_spends ab delta</th>\n",
       "      <th>post_spends ab delta %</th>\n",
       "      <th>post_spends t_test p_value</th>\n",
       "      <th>post_spends ks_test p_value</th>\n",
       "      <th>post_spends t_test passed</th>\n",
       "      <th>post_spends ks_test passed</th>\n",
       "      <th>pre_spends a mean</th>\n",
       "      <th>pre_spends b mean</th>\n",
       "      <th>pre_spends ab delta</th>\n",
       "      <th>pre_spends ab delta %</th>\n",
       "      <th>pre_spends t_test p_value</th>\n",
       "      <th>pre_spends ks_test p_value</th>\n",
       "      <th>pre_spends t_test passed</th>\n",
       "      <th>pre_spends ks_test passed</th>\n",
       "      <th>mean_tests_score</th>\n",
       "    </tr>\n",
       "  </thead>\n",
       "  <tbody>\n",
       "    <tr>\n",
       "      <th>0</th>\n",
       "      <td>0</td>\n",
       "      <td>427.85</td>\n",
       "      <td>428.48</td>\n",
       "      <td>0.63</td>\n",
       "      <td>0.15</td>\n",
       "      <td>0.42</td>\n",
       "      <td>0.86</td>\n",
       "      <td>True</td>\n",
       "      <td>True</td>\n",
       "      <td>484.63</td>\n",
       "      <td>485.22</td>\n",
       "      <td>0.59</td>\n",
       "      <td>0.12</td>\n",
       "      <td>0.17</td>\n",
       "      <td>0.67</td>\n",
       "      <td>True</td>\n",
       "      <td>True</td>\n",
       "      <td>0.53</td>\n",
       "    </tr>\n",
       "    <tr>\n",
       "      <th>1</th>\n",
       "      <td>1</td>\n",
       "      <td>427.67</td>\n",
       "      <td>428.65</td>\n",
       "      <td>0.98</td>\n",
       "      <td>0.23</td>\n",
       "      <td>0.21</td>\n",
       "      <td>0.54</td>\n",
       "      <td>True</td>\n",
       "      <td>True</td>\n",
       "      <td>484.81</td>\n",
       "      <td>485.04</td>\n",
       "      <td>0.23</td>\n",
       "      <td>0.05</td>\n",
       "      <td>0.60</td>\n",
       "      <td>0.93</td>\n",
       "      <td>True</td>\n",
       "      <td>True</td>\n",
       "      <td>0.57</td>\n",
       "    </tr>\n",
       "    <tr>\n",
       "      <th>2</th>\n",
       "      <td>2</td>\n",
       "      <td>428.38</td>\n",
       "      <td>427.94</td>\n",
       "      <td>-0.44</td>\n",
       "      <td>-0.10</td>\n",
       "      <td>0.57</td>\n",
       "      <td>0.96</td>\n",
       "      <td>True</td>\n",
       "      <td>True</td>\n",
       "      <td>484.76</td>\n",
       "      <td>485.09</td>\n",
       "      <td>0.33</td>\n",
       "      <td>0.07</td>\n",
       "      <td>0.45</td>\n",
       "      <td>0.86</td>\n",
       "      <td>True</td>\n",
       "      <td>True</td>\n",
       "      <td>0.71</td>\n",
       "    </tr>\n",
       "  </tbody>\n",
       "</table>\n",
       "</div>"
      ],
      "text/plain": [
       "   random_state  post_spends a mean  post_spends b mean  post_spends ab delta  \\\n",
       "0             0              427.85              428.48                  0.63   \n",
       "1             1              427.67              428.65                  0.98   \n",
       "2             2              428.38              427.94                 -0.44   \n",
       "\n",
       "   post_spends ab delta %  post_spends t_test p_value  \\\n",
       "0                    0.15                        0.42   \n",
       "1                    0.23                        0.21   \n",
       "2                   -0.10                        0.57   \n",
       "\n",
       "   post_spends ks_test p_value  post_spends t_test passed  \\\n",
       "0                         0.86                       True   \n",
       "1                         0.54                       True   \n",
       "2                         0.96                       True   \n",
       "\n",
       "   post_spends ks_test passed  pre_spends a mean  pre_spends b mean  \\\n",
       "0                        True             484.63             485.22   \n",
       "1                        True             484.81             485.04   \n",
       "2                        True             484.76             485.09   \n",
       "\n",
       "   pre_spends ab delta  pre_spends ab delta %  pre_spends t_test p_value  \\\n",
       "0                 0.59                   0.12                       0.17   \n",
       "1                 0.23                   0.05                       0.60   \n",
       "2                 0.33                   0.07                       0.45   \n",
       "\n",
       "   pre_spends ks_test p_value  pre_spends t_test passed  \\\n",
       "0                        0.67                      True   \n",
       "1                        0.93                      True   \n",
       "2                        0.86                      True   \n",
       "\n",
       "   pre_spends ks_test passed  mean_tests_score  \n",
       "0                       True              0.53  \n",
       "1                       True              0.57  \n",
       "2                       True              0.71  "
      ]
     },
     "execution_count": 6,
     "metadata": {},
     "output_type": "execute_result"
    }
   ],
   "source": [
    "experiment_result.head(3)"
   ]
  },
  {
   "cell_type": "markdown",
   "id": "d9f415c2",
   "metadata": {},
   "source": [
    "`dict_of_datas` is a dictionary with random_states as keys and dataframes as values.<br>\n",
    "Result of separation can be find in column 'group', it contains values 'test' and 'control'"
   ]
  },
  {
   "cell_type": "code",
   "execution_count": 7,
   "id": "cac4e650",
   "metadata": {
    "scrolled": false
   },
   "outputs": [
    {
     "data": {
      "text/html": [
       "<div>\n",
       "<style scoped>\n",
       "    .dataframe tbody tr th:only-of-type {\n",
       "        vertical-align: middle;\n",
       "    }\n",
       "\n",
       "    .dataframe tbody tr th {\n",
       "        vertical-align: top;\n",
       "    }\n",
       "\n",
       "    .dataframe thead th {\n",
       "        text-align: right;\n",
       "    }\n",
       "</style>\n",
       "<table border=\"1\" class=\"dataframe\">\n",
       "  <thead>\n",
       "    <tr style=\"text-align: right;\">\n",
       "      <th></th>\n",
       "      <th>user_id</th>\n",
       "      <th>signup_month</th>\n",
       "      <th>treat</th>\n",
       "      <th>pre_spends</th>\n",
       "      <th>post_spends</th>\n",
       "      <th>age</th>\n",
       "      <th>gender</th>\n",
       "      <th>industry</th>\n",
       "      <th>group</th>\n",
       "    </tr>\n",
       "  </thead>\n",
       "  <tbody>\n",
       "    <tr>\n",
       "      <th>0</th>\n",
       "      <td>3</td>\n",
       "      <td>0</td>\n",
       "      <td>0</td>\n",
       "      <td>501.50</td>\n",
       "      <td>424.33</td>\n",
       "      <td>31.00</td>\n",
       "      <td>NaN</td>\n",
       "      <td>Logistics</td>\n",
       "      <td>test</td>\n",
       "    </tr>\n",
       "    <tr>\n",
       "      <th>1</th>\n",
       "      <td>10</td>\n",
       "      <td>0</td>\n",
       "      <td>0</td>\n",
       "      <td>522.50</td>\n",
       "      <td>416.22</td>\n",
       "      <td>64.00</td>\n",
       "      <td>M</td>\n",
       "      <td>E-commerce</td>\n",
       "      <td>test</td>\n",
       "    </tr>\n",
       "    <tr>\n",
       "      <th>2</th>\n",
       "      <td>12</td>\n",
       "      <td>0</td>\n",
       "      <td>0</td>\n",
       "      <td>472.00</td>\n",
       "      <td>423.78</td>\n",
       "      <td>43.00</td>\n",
       "      <td>M</td>\n",
       "      <td>E-commerce</td>\n",
       "      <td>test</td>\n",
       "    </tr>\n",
       "  </tbody>\n",
       "</table>\n",
       "</div>"
      ],
      "text/plain": [
       "   user_id  signup_month  treat  pre_spends  post_spends   age gender  \\\n",
       "0        3             0      0      501.50       424.33 31.00    NaN   \n",
       "1       10             0      0      522.50       416.22 64.00      M   \n",
       "2       12             0      0      472.00       423.78 43.00      M   \n",
       "\n",
       "     industry group  \n",
       "0   Logistics  test  \n",
       "1  E-commerce  test  \n",
       "2  E-commerce  test  "
      ]
     },
     "execution_count": 7,
     "metadata": {},
     "output_type": "execute_result"
    }
   ],
   "source": [
    "dict_of_datas[0].head(3)"
   ]
  },
  {
   "cell_type": "markdown",
   "id": "c277b0b9",
   "metadata": {},
   "source": [
    "#### - Single experiment\n",
    "To get stable results lets fix `random_state`"
   ]
  },
  {
   "cell_type": "code",
   "execution_count": 8,
   "id": "01265e9e",
   "metadata": {},
   "outputs": [],
   "source": [
    "random_state = 11"
   ]
  },
  {
   "cell_type": "markdown",
   "id": "c4a1cd70",
   "metadata": {},
   "source": [
    "To perform single experiment you can use `sampling_metrics()`"
   ]
  },
  {
   "cell_type": "code",
   "execution_count": 9,
   "id": "6f1a8cf6",
   "metadata": {},
   "outputs": [],
   "source": [
    "experiment = AATest(info_cols=info_cols, target_fields=target)\n",
    "metrics, dict_of_datas = experiment.sampling_metrics(data, random_state=random_state).values()"
   ]
  },
  {
   "cell_type": "markdown",
   "id": "4971e2e8",
   "metadata": {},
   "source": [
    "The results contains the same info as in multisampling, but on one experiment"
   ]
  },
  {
   "cell_type": "code",
   "execution_count": 10,
   "id": "bad5e42e",
   "metadata": {
    "scrolled": true
   },
   "outputs": [
    {
     "data": {
      "text/plain": [
       "{'random_state': 11,\n",
       " 'post_spends a mean': 427.78932340161515,\n",
       " 'post_spends b mean': 428.53478170908403,\n",
       " 'post_spends ab delta': 0.7454583074688799,\n",
       " 'post_spends ab delta %': 0.17395514653345545,\n",
       " 'post_spends t_test p_value': 0.33561550504114157,\n",
       " 'post_spends ks_test p_value': 0.6263469727648824,\n",
       " 'post_spends t_test passed': True,\n",
       " 'post_spends ks_test passed': True,\n",
       " 'pre_spends a mean': 484.9912476722533,\n",
       " 'pre_spends b mean': 484.8584729981378,\n",
       " 'pre_spends ab delta': -0.13277467411546695,\n",
       " 'pre_spends ab delta %': -0.027384212406245112,\n",
       " 'pre_spends t_test p_value': 0.7577698697749305,\n",
       " 'pre_spends ks_test p_value': 0.762662388584242,\n",
       " 'pre_spends t_test passed': True,\n",
       " 'pre_spends ks_test passed': True,\n",
       " 'mean_tests_score': 0.6205986840412991}"
      ]
     },
     "execution_count": 10,
     "metadata": {},
     "output_type": "execute_result"
    }
   ],
   "source": [
    "metrics"
   ]
  },
  {
   "cell_type": "code",
   "execution_count": 11,
   "id": "a9c3c513",
   "metadata": {},
   "outputs": [
    {
     "data": {
      "text/html": [
       "<div>\n",
       "<style scoped>\n",
       "    .dataframe tbody tr th:only-of-type {\n",
       "        vertical-align: middle;\n",
       "    }\n",
       "\n",
       "    .dataframe tbody tr th {\n",
       "        vertical-align: top;\n",
       "    }\n",
       "\n",
       "    .dataframe thead th {\n",
       "        text-align: right;\n",
       "    }\n",
       "</style>\n",
       "<table border=\"1\" class=\"dataframe\">\n",
       "  <thead>\n",
       "    <tr style=\"text-align: right;\">\n",
       "      <th></th>\n",
       "      <th>user_id</th>\n",
       "      <th>signup_month</th>\n",
       "      <th>treat</th>\n",
       "      <th>pre_spends</th>\n",
       "      <th>post_spends</th>\n",
       "      <th>age</th>\n",
       "      <th>gender</th>\n",
       "      <th>industry</th>\n",
       "      <th>group</th>\n",
       "    </tr>\n",
       "  </thead>\n",
       "  <tbody>\n",
       "    <tr>\n",
       "      <th>0</th>\n",
       "      <td>3</td>\n",
       "      <td>0</td>\n",
       "      <td>0</td>\n",
       "      <td>501.50</td>\n",
       "      <td>424.33</td>\n",
       "      <td>31.00</td>\n",
       "      <td>NaN</td>\n",
       "      <td>Logistics</td>\n",
       "      <td>test</td>\n",
       "    </tr>\n",
       "    <tr>\n",
       "      <th>1</th>\n",
       "      <td>14</td>\n",
       "      <td>0</td>\n",
       "      <td>0</td>\n",
       "      <td>497.00</td>\n",
       "      <td>421.78</td>\n",
       "      <td>26.00</td>\n",
       "      <td>M</td>\n",
       "      <td>Logistics</td>\n",
       "      <td>test</td>\n",
       "    </tr>\n",
       "    <tr>\n",
       "      <th>2</th>\n",
       "      <td>21</td>\n",
       "      <td>0</td>\n",
       "      <td>0</td>\n",
       "      <td>489.00</td>\n",
       "      <td>433.11</td>\n",
       "      <td>30.00</td>\n",
       "      <td>M</td>\n",
       "      <td>E-commerce</td>\n",
       "      <td>test</td>\n",
       "    </tr>\n",
       "    <tr>\n",
       "      <th>3</th>\n",
       "      <td>28</td>\n",
       "      <td>3</td>\n",
       "      <td>1</td>\n",
       "      <td>479.50</td>\n",
       "      <td>527.89</td>\n",
       "      <td>20.00</td>\n",
       "      <td>NaN</td>\n",
       "      <td>E-commerce</td>\n",
       "      <td>test</td>\n",
       "    </tr>\n",
       "    <tr>\n",
       "      <th>4</th>\n",
       "      <td>29</td>\n",
       "      <td>0</td>\n",
       "      <td>0</td>\n",
       "      <td>505.00</td>\n",
       "      <td>414.33</td>\n",
       "      <td>30.00</td>\n",
       "      <td>M</td>\n",
       "      <td>E-commerce</td>\n",
       "      <td>test</td>\n",
       "    </tr>\n",
       "    <tr>\n",
       "      <th>...</th>\n",
       "      <td>...</td>\n",
       "      <td>...</td>\n",
       "      <td>...</td>\n",
       "      <td>...</td>\n",
       "      <td>...</td>\n",
       "      <td>...</td>\n",
       "      <td>...</td>\n",
       "      <td>...</td>\n",
       "      <td>...</td>\n",
       "    </tr>\n",
       "    <tr>\n",
       "      <th>5365</th>\n",
       "      <td>9983</td>\n",
       "      <td>0</td>\n",
       "      <td>0</td>\n",
       "      <td>494.50</td>\n",
       "      <td>428.33</td>\n",
       "      <td>29.00</td>\n",
       "      <td>F</td>\n",
       "      <td>E-commerce</td>\n",
       "      <td>control</td>\n",
       "    </tr>\n",
       "    <tr>\n",
       "      <th>5366</th>\n",
       "      <td>9984</td>\n",
       "      <td>0</td>\n",
       "      <td>0</td>\n",
       "      <td>460.00</td>\n",
       "      <td>417.11</td>\n",
       "      <td>66.00</td>\n",
       "      <td>M</td>\n",
       "      <td>Logistics</td>\n",
       "      <td>control</td>\n",
       "    </tr>\n",
       "    <tr>\n",
       "      <th>5367</th>\n",
       "      <td>9985</td>\n",
       "      <td>0</td>\n",
       "      <td>0</td>\n",
       "      <td>484.00</td>\n",
       "      <td>411.33</td>\n",
       "      <td>NaN</td>\n",
       "      <td>F</td>\n",
       "      <td>E-commerce</td>\n",
       "      <td>control</td>\n",
       "    </tr>\n",
       "    <tr>\n",
       "      <th>5368</th>\n",
       "      <td>9994</td>\n",
       "      <td>0</td>\n",
       "      <td>0</td>\n",
       "      <td>486.00</td>\n",
       "      <td>423.78</td>\n",
       "      <td>27.00</td>\n",
       "      <td>F</td>\n",
       "      <td>Logistics</td>\n",
       "      <td>control</td>\n",
       "    </tr>\n",
       "    <tr>\n",
       "      <th>5369</th>\n",
       "      <td>9997</td>\n",
       "      <td>3</td>\n",
       "      <td>1</td>\n",
       "      <td>473.00</td>\n",
       "      <td>534.11</td>\n",
       "      <td>56.00</td>\n",
       "      <td>M</td>\n",
       "      <td>Logistics</td>\n",
       "      <td>control</td>\n",
       "    </tr>\n",
       "  </tbody>\n",
       "</table>\n",
       "<p>5370 rows × 9 columns</p>\n",
       "</div>"
      ],
      "text/plain": [
       "      user_id  signup_month  treat  pre_spends  post_spends   age gender  \\\n",
       "0           3             0      0      501.50       424.33 31.00    NaN   \n",
       "1          14             0      0      497.00       421.78 26.00      M   \n",
       "2          21             0      0      489.00       433.11 30.00      M   \n",
       "3          28             3      1      479.50       527.89 20.00    NaN   \n",
       "4          29             0      0      505.00       414.33 30.00      M   \n",
       "...       ...           ...    ...         ...          ...   ...    ...   \n",
       "5365     9983             0      0      494.50       428.33 29.00      F   \n",
       "5366     9984             0      0      460.00       417.11 66.00      M   \n",
       "5367     9985             0      0      484.00       411.33   NaN      F   \n",
       "5368     9994             0      0      486.00       423.78 27.00      F   \n",
       "5369     9997             3      1      473.00       534.11 56.00      M   \n",
       "\n",
       "        industry    group  \n",
       "0      Logistics     test  \n",
       "1      Logistics     test  \n",
       "2     E-commerce     test  \n",
       "3     E-commerce     test  \n",
       "4     E-commerce     test  \n",
       "...          ...      ...  \n",
       "5365  E-commerce  control  \n",
       "5366   Logistics  control  \n",
       "5367  E-commerce  control  \n",
       "5368   Logistics  control  \n",
       "5369   Logistics  control  \n",
       "\n",
       "[5370 rows x 9 columns]"
      ]
     },
     "execution_count": 11,
     "metadata": {},
     "output_type": "execute_result"
    }
   ],
   "source": [
    "dict_of_datas[random_state]"
   ]
  },
  {
   "cell_type": "markdown",
   "id": "5017639b",
   "metadata": {},
   "source": [
    "### 2.2 AA-test with grouping"
   ]
  },
  {
   "cell_type": "markdown",
   "id": "e3a32245",
   "metadata": {},
   "source": [
    "To perform experiment that separates samples by groups `group_col` can be used"
   ]
  },
  {
   "cell_type": "code",
   "execution_count": 12,
   "id": "2fba205a",
   "metadata": {},
   "outputs": [],
   "source": [
    "info_cols = ['user_id', 'signup_month']\n",
    "target = ['post_spends', 'pre_spends']\n",
    "\n",
    "group_cols = 'industry'"
   ]
  },
  {
   "cell_type": "code",
   "execution_count": 13,
   "id": "b5896bf8",
   "metadata": {},
   "outputs": [],
   "source": [
    "experiment = AATest(info_cols=info_cols, target_fields=target, group_cols=group_cols)"
   ]
  },
  {
   "cell_type": "code",
   "execution_count": 14,
   "id": "6155253f",
   "metadata": {
    "scrolled": true
   },
   "outputs": [
    {
     "data": {
      "application/vnd.jupyter.widget-view+json": {
       "model_id": "2db73a6134ed470c8a03f06da4c0fee4",
       "version_major": 2,
       "version_minor": 0
      },
      "text/plain": [
       "  0%|          | 0/10 [00:00<?, ?it/s]"
      ]
     },
     "metadata": {},
     "output_type": "display_data"
    }
   ],
   "source": [
    "experiment_result, dict_of_datas = experiment.search_dist_uniform_sampling(data)"
   ]
  },
  {
   "cell_type": "markdown",
   "id": "45f18b03",
   "metadata": {},
   "source": [
    "The result is in the same format as without groups\n",
    "\n",
    "In this regime groups equally divided on each sample (test and control):"
   ]
  },
  {
   "cell_type": "code",
   "execution_count": 15,
   "id": "520ed05c",
   "metadata": {
    "scrolled": false
   },
   "outputs": [
    {
     "data": {
      "text/html": [
       "<div>\n",
       "<style scoped>\n",
       "    .dataframe tbody tr th:only-of-type {\n",
       "        vertical-align: middle;\n",
       "    }\n",
       "\n",
       "    .dataframe tbody tr th {\n",
       "        vertical-align: top;\n",
       "    }\n",
       "\n",
       "    .dataframe thead th {\n",
       "        text-align: right;\n",
       "    }\n",
       "</style>\n",
       "<table border=\"1\" class=\"dataframe\">\n",
       "  <thead>\n",
       "    <tr style=\"text-align: right;\">\n",
       "      <th></th>\n",
       "      <th></th>\n",
       "      <th>user_id</th>\n",
       "    </tr>\n",
       "    <tr>\n",
       "      <th>industry</th>\n",
       "      <th>group</th>\n",
       "      <th></th>\n",
       "    </tr>\n",
       "  </thead>\n",
       "  <tbody>\n",
       "    <tr>\n",
       "      <th rowspan=\"2\" valign=\"top\">E-commerce</th>\n",
       "      <th>control</th>\n",
       "      <td>1352</td>\n",
       "    </tr>\n",
       "    <tr>\n",
       "      <th>test</th>\n",
       "      <td>1351</td>\n",
       "    </tr>\n",
       "    <tr>\n",
       "      <th rowspan=\"2\" valign=\"top\">Logistics</th>\n",
       "      <th>control</th>\n",
       "      <td>1334</td>\n",
       "    </tr>\n",
       "    <tr>\n",
       "      <th>test</th>\n",
       "      <td>1333</td>\n",
       "    </tr>\n",
       "  </tbody>\n",
       "</table>\n",
       "</div>"
      ],
      "text/plain": [
       "                    user_id\n",
       "industry   group           \n",
       "E-commerce control     1352\n",
       "           test        1351\n",
       "Logistics  control     1334\n",
       "           test        1333"
      ]
     },
     "execution_count": 15,
     "metadata": {},
     "output_type": "execute_result"
    }
   ],
   "source": [
    "dict_of_datas[0].groupby(['industry', 'group'])[['user_id']].count()"
   ]
  },
  {
   "cell_type": "markdown",
   "id": "2fa7d9e1",
   "metadata": {},
   "source": [
    "### 2.3 AA-test with grouping and quantization"
   ]
  },
  {
   "cell_type": "markdown",
   "id": "bb882251",
   "metadata": {},
   "source": [
    "To perform experiment that separates samples by groups `group_col` <br>\n",
    "and if there is group that should not be separated `quant_field` can be used"
   ]
  },
  {
   "cell_type": "code",
   "execution_count": 16,
   "id": "86f60f09",
   "metadata": {},
   "outputs": [],
   "source": [
    "info_cols = ['user_id', 'signup_month']\n",
    "target = ['post_spends', 'pre_spends']\n",
    "\n",
    "group_cols = 'industry'\n",
    "quant_field = \"gender\""
   ]
  },
  {
   "cell_type": "code",
   "execution_count": 17,
   "id": "26ee60aa",
   "metadata": {},
   "outputs": [],
   "source": [
    "experiment = AATest(info_cols=info_cols, target_fields=target, group_cols=group_cols, quant_field=quant_field)"
   ]
  },
  {
   "cell_type": "code",
   "execution_count": 18,
   "id": "6a4bdd38",
   "metadata": {
    "scrolled": true
   },
   "outputs": [
    {
     "data": {
      "application/vnd.jupyter.widget-view+json": {
       "model_id": "719d36f6378947dd8736aa56854f2632",
       "version_major": 2,
       "version_minor": 0
      },
      "text/plain": [
       "  0%|          | 0/10 [00:00<?, ?it/s]"
      ]
     },
     "metadata": {},
     "output_type": "display_data"
    }
   ],
   "source": [
    "experiment_result, dict_of_datas = experiment.search_dist_uniform_sampling(data)"
   ]
  },
  {
   "cell_type": "code",
   "execution_count": 20,
   "id": "e15fe3c6",
   "metadata": {},
   "outputs": [
    {
     "data": {
      "text/html": [
       "<div>\n",
       "<style scoped>\n",
       "    .dataframe tbody tr th:only-of-type {\n",
       "        vertical-align: middle;\n",
       "    }\n",
       "\n",
       "    .dataframe tbody tr th {\n",
       "        vertical-align: top;\n",
       "    }\n",
       "\n",
       "    .dataframe thead th {\n",
       "        text-align: right;\n",
       "    }\n",
       "</style>\n",
       "<table border=\"1\" class=\"dataframe\">\n",
       "  <thead>\n",
       "    <tr style=\"text-align: right;\">\n",
       "      <th></th>\n",
       "      <th>gender</th>\n",
       "    </tr>\n",
       "  </thead>\n",
       "  <tbody>\n",
       "    <tr>\n",
       "      <th>F</th>\n",
       "      <td>2477</td>\n",
       "    </tr>\n",
       "    <tr>\n",
       "      <th>M</th>\n",
       "      <td>2356</td>\n",
       "    </tr>\n",
       "  </tbody>\n",
       "</table>\n",
       "</div>"
      ],
      "text/plain": [
       "   gender\n",
       "F    2477\n",
       "M    2356"
      ]
     },
     "execution_count": 20,
     "metadata": {},
     "output_type": "execute_result"
    }
   ],
   "source": [
    "data['gender'].value_counts().to_frame()"
   ]
  },
  {
   "cell_type": "markdown",
   "id": "a2fff709",
   "metadata": {},
   "source": [
    "The result is in the same format as without groups\n",
    "\n",
    "In this regime groups equally divided on each sample (test and control):"
   ]
  },
  {
   "cell_type": "code",
   "execution_count": 21,
   "id": "6f2068ae",
   "metadata": {
    "scrolled": true
   },
   "outputs": [
    {
     "data": {
      "text/html": [
       "<div>\n",
       "<style scoped>\n",
       "    .dataframe tbody tr th:only-of-type {\n",
       "        vertical-align: middle;\n",
       "    }\n",
       "\n",
       "    .dataframe tbody tr th {\n",
       "        vertical-align: top;\n",
       "    }\n",
       "\n",
       "    .dataframe thead th {\n",
       "        text-align: right;\n",
       "    }\n",
       "</style>\n",
       "<table border=\"1\" class=\"dataframe\">\n",
       "  <thead>\n",
       "    <tr style=\"text-align: right;\">\n",
       "      <th></th>\n",
       "      <th></th>\n",
       "      <th></th>\n",
       "      <th>user_id</th>\n",
       "    </tr>\n",
       "    <tr>\n",
       "      <th>industry</th>\n",
       "      <th>group</th>\n",
       "      <th>gender</th>\n",
       "      <th></th>\n",
       "    </tr>\n",
       "  </thead>\n",
       "  <tbody>\n",
       "    <tr>\n",
       "      <th rowspan=\"2\" valign=\"top\">E-commerce</th>\n",
       "      <th rowspan=\"2\" valign=\"top\">control</th>\n",
       "      <th>F</th>\n",
       "      <td>1255</td>\n",
       "    </tr>\n",
       "    <tr>\n",
       "      <th>M</th>\n",
       "      <td>1165</td>\n",
       "    </tr>\n",
       "    <tr>\n",
       "      <th rowspan=\"2\" valign=\"top\">Logistics</th>\n",
       "      <th>control</th>\n",
       "      <th>M</th>\n",
       "      <td>1191</td>\n",
       "    </tr>\n",
       "    <tr>\n",
       "      <th>test</th>\n",
       "      <th>F</th>\n",
       "      <td>1222</td>\n",
       "    </tr>\n",
       "  </tbody>\n",
       "</table>\n",
       "</div>"
      ],
      "text/plain": [
       "                           user_id\n",
       "industry   group   gender         \n",
       "E-commerce control F          1255\n",
       "                   M          1165\n",
       "Logistics  control M          1191\n",
       "           test    F          1222"
      ]
     },
     "execution_count": 21,
     "metadata": {},
     "output_type": "execute_result"
    }
   ],
   "source": [
    "dict_of_datas[0].groupby(['industry', 'group', 'gender'])[['user_id']].count()"
   ]
  },
  {
   "cell_type": "code",
   "execution_count": 22,
   "id": "42ba288a",
   "metadata": {},
   "outputs": [
    {
     "data": {
      "text/html": [
       "<div>\n",
       "<style scoped>\n",
       "    .dataframe tbody tr th:only-of-type {\n",
       "        vertical-align: middle;\n",
       "    }\n",
       "\n",
       "    .dataframe tbody tr th {\n",
       "        vertical-align: top;\n",
       "    }\n",
       "\n",
       "    .dataframe thead th {\n",
       "        text-align: right;\n",
       "    }\n",
       "</style>\n",
       "<table border=\"1\" class=\"dataframe\">\n",
       "  <thead>\n",
       "    <tr style=\"text-align: right;\">\n",
       "      <th></th>\n",
       "      <th></th>\n",
       "      <th>user_id</th>\n",
       "    </tr>\n",
       "    <tr>\n",
       "      <th>industry</th>\n",
       "      <th>group</th>\n",
       "      <th></th>\n",
       "    </tr>\n",
       "  </thead>\n",
       "  <tbody>\n",
       "    <tr>\n",
       "      <th rowspan=\"2\" valign=\"top\">E-commerce</th>\n",
       "      <th>control</th>\n",
       "      <td>2420</td>\n",
       "    </tr>\n",
       "    <tr>\n",
       "      <th>test</th>\n",
       "      <td>283</td>\n",
       "    </tr>\n",
       "    <tr>\n",
       "      <th rowspan=\"2\" valign=\"top\">Logistics</th>\n",
       "      <th>control</th>\n",
       "      <td>1445</td>\n",
       "    </tr>\n",
       "    <tr>\n",
       "      <th>test</th>\n",
       "      <td>1222</td>\n",
       "    </tr>\n",
       "  </tbody>\n",
       "</table>\n",
       "</div>"
      ],
      "text/plain": [
       "                    user_id\n",
       "industry   group           \n",
       "E-commerce control     2420\n",
       "           test         283\n",
       "Logistics  control     1445\n",
       "           test        1222"
      ]
     },
     "execution_count": 22,
     "metadata": {},
     "output_type": "execute_result"
    }
   ],
   "source": [
    "dict_of_datas[0].groupby(['industry', 'group'])[['user_id']].count()"
   ]
  },
  {
   "cell_type": "code",
   "execution_count": 23,
   "id": "4a264334",
   "metadata": {},
   "outputs": [
    {
     "data": {
      "text/html": [
       "<div>\n",
       "<style scoped>\n",
       "    .dataframe tbody tr th:only-of-type {\n",
       "        vertical-align: middle;\n",
       "    }\n",
       "\n",
       "    .dataframe tbody tr th {\n",
       "        vertical-align: top;\n",
       "    }\n",
       "\n",
       "    .dataframe thead th {\n",
       "        text-align: right;\n",
       "    }\n",
       "</style>\n",
       "<table border=\"1\" class=\"dataframe\">\n",
       "  <thead>\n",
       "    <tr style=\"text-align: right;\">\n",
       "      <th></th>\n",
       "      <th>user_id</th>\n",
       "      <th>signup_month</th>\n",
       "      <th>treat</th>\n",
       "      <th>pre_spends</th>\n",
       "      <th>post_spends</th>\n",
       "      <th>age</th>\n",
       "      <th>gender</th>\n",
       "      <th>industry</th>\n",
       "      <th>group</th>\n",
       "    </tr>\n",
       "  </thead>\n",
       "  <tbody>\n",
       "    <tr>\n",
       "      <th>0</th>\n",
       "      <td>28</td>\n",
       "      <td>3</td>\n",
       "      <td>1</td>\n",
       "      <td>479.50</td>\n",
       "      <td>527.89</td>\n",
       "      <td>20.00</td>\n",
       "      <td>NaN</td>\n",
       "      <td>E-commerce</td>\n",
       "      <td>test</td>\n",
       "    </tr>\n",
       "    <tr>\n",
       "      <th>1</th>\n",
       "      <td>31</td>\n",
       "      <td>0</td>\n",
       "      <td>0</td>\n",
       "      <td>505.00</td>\n",
       "      <td>427.22</td>\n",
       "      <td>54.00</td>\n",
       "      <td>F</td>\n",
       "      <td>Logistics</td>\n",
       "      <td>test</td>\n",
       "    </tr>\n",
       "    <tr>\n",
       "      <th>2</th>\n",
       "      <td>36</td>\n",
       "      <td>0</td>\n",
       "      <td>0</td>\n",
       "      <td>456.00</td>\n",
       "      <td>419.22</td>\n",
       "      <td>59.00</td>\n",
       "      <td>F</td>\n",
       "      <td>Logistics</td>\n",
       "      <td>test</td>\n",
       "    </tr>\n",
       "    <tr>\n",
       "      <th>3</th>\n",
       "      <td>41</td>\n",
       "      <td>0</td>\n",
       "      <td>0</td>\n",
       "      <td>451.00</td>\n",
       "      <td>426.78</td>\n",
       "      <td>52.00</td>\n",
       "      <td>F</td>\n",
       "      <td>Logistics</td>\n",
       "      <td>test</td>\n",
       "    </tr>\n",
       "    <tr>\n",
       "      <th>4</th>\n",
       "      <td>46</td>\n",
       "      <td>0</td>\n",
       "      <td>0</td>\n",
       "      <td>508.50</td>\n",
       "      <td>413.00</td>\n",
       "      <td>60.00</td>\n",
       "      <td>NaN</td>\n",
       "      <td>E-commerce</td>\n",
       "      <td>test</td>\n",
       "    </tr>\n",
       "    <tr>\n",
       "      <th>...</th>\n",
       "      <td>...</td>\n",
       "      <td>...</td>\n",
       "      <td>...</td>\n",
       "      <td>...</td>\n",
       "      <td>...</td>\n",
       "      <td>...</td>\n",
       "      <td>...</td>\n",
       "      <td>...</td>\n",
       "      <td>...</td>\n",
       "    </tr>\n",
       "    <tr>\n",
       "      <th>5365</th>\n",
       "      <td>9990</td>\n",
       "      <td>0</td>\n",
       "      <td>0</td>\n",
       "      <td>490.00</td>\n",
       "      <td>426.00</td>\n",
       "      <td>18.00</td>\n",
       "      <td>M</td>\n",
       "      <td>E-commerce</td>\n",
       "      <td>control</td>\n",
       "    </tr>\n",
       "    <tr>\n",
       "      <th>5366</th>\n",
       "      <td>9991</td>\n",
       "      <td>0</td>\n",
       "      <td>0</td>\n",
       "      <td>482.50</td>\n",
       "      <td>421.89</td>\n",
       "      <td>23.00</td>\n",
       "      <td>F</td>\n",
       "      <td>E-commerce</td>\n",
       "      <td>control</td>\n",
       "    </tr>\n",
       "    <tr>\n",
       "      <th>5367</th>\n",
       "      <td>9992</td>\n",
       "      <td>0</td>\n",
       "      <td>0</td>\n",
       "      <td>491.50</td>\n",
       "      <td>424.00</td>\n",
       "      <td>44.00</td>\n",
       "      <td>M</td>\n",
       "      <td>E-commerce</td>\n",
       "      <td>control</td>\n",
       "    </tr>\n",
       "    <tr>\n",
       "      <th>5368</th>\n",
       "      <td>9996</td>\n",
       "      <td>0</td>\n",
       "      <td>0</td>\n",
       "      <td>500.50</td>\n",
       "      <td>430.89</td>\n",
       "      <td>56.00</td>\n",
       "      <td>F</td>\n",
       "      <td>E-commerce</td>\n",
       "      <td>control</td>\n",
       "    </tr>\n",
       "    <tr>\n",
       "      <th>5369</th>\n",
       "      <td>9997</td>\n",
       "      <td>3</td>\n",
       "      <td>1</td>\n",
       "      <td>473.00</td>\n",
       "      <td>534.11</td>\n",
       "      <td>56.00</td>\n",
       "      <td>M</td>\n",
       "      <td>Logistics</td>\n",
       "      <td>control</td>\n",
       "    </tr>\n",
       "  </tbody>\n",
       "</table>\n",
       "<p>5370 rows × 9 columns</p>\n",
       "</div>"
      ],
      "text/plain": [
       "      user_id  signup_month  treat  pre_spends  post_spends   age gender  \\\n",
       "0          28             3      1      479.50       527.89 20.00    NaN   \n",
       "1          31             0      0      505.00       427.22 54.00      F   \n",
       "2          36             0      0      456.00       419.22 59.00      F   \n",
       "3          41             0      0      451.00       426.78 52.00      F   \n",
       "4          46             0      0      508.50       413.00 60.00    NaN   \n",
       "...       ...           ...    ...         ...          ...   ...    ...   \n",
       "5365     9990             0      0      490.00       426.00 18.00      M   \n",
       "5366     9991             0      0      482.50       421.89 23.00      F   \n",
       "5367     9992             0      0      491.50       424.00 44.00      M   \n",
       "5368     9996             0      0      500.50       430.89 56.00      F   \n",
       "5369     9997             3      1      473.00       534.11 56.00      M   \n",
       "\n",
       "        industry    group  \n",
       "0     E-commerce     test  \n",
       "1      Logistics     test  \n",
       "2      Logistics     test  \n",
       "3      Logistics     test  \n",
       "4     E-commerce     test  \n",
       "...          ...      ...  \n",
       "5365  E-commerce  control  \n",
       "5366  E-commerce  control  \n",
       "5367  E-commerce  control  \n",
       "5368  E-commerce  control  \n",
       "5369   Logistics  control  \n",
       "\n",
       "[5370 rows x 9 columns]"
      ]
     },
     "execution_count": 23,
     "metadata": {},
     "output_type": "execute_result"
    }
   ],
   "source": [
    "dict_of_datas[0]"
   ]
  },
  {
   "cell_type": "markdown",
   "id": "d87c9442",
   "metadata": {},
   "source": [
    "## 3. AB-test"
   ]
  },
  {
   "cell_type": "markdown",
   "id": "0bb6fece",
   "metadata": {},
   "source": [
    "### 3.0 Data\n",
    "Lets correct data to see how AB-test works"
   ]
  },
  {
   "cell_type": "code",
   "execution_count": 24,
   "id": "6f5a8a1f",
   "metadata": {},
   "outputs": [
    {
     "data": {
      "text/html": [
       "<div>\n",
       "<style scoped>\n",
       "    .dataframe tbody tr th:only-of-type {\n",
       "        vertical-align: middle;\n",
       "    }\n",
       "\n",
       "    .dataframe tbody tr th {\n",
       "        vertical-align: top;\n",
       "    }\n",
       "\n",
       "    .dataframe thead th {\n",
       "        text-align: right;\n",
       "    }\n",
       "</style>\n",
       "<table border=\"1\" class=\"dataframe\">\n",
       "  <thead>\n",
       "    <tr style=\"text-align: right;\">\n",
       "      <th></th>\n",
       "      <th>user_id</th>\n",
       "      <th>signup_month</th>\n",
       "      <th>treat</th>\n",
       "      <th>pre_spends</th>\n",
       "      <th>post_spends</th>\n",
       "      <th>age</th>\n",
       "      <th>gender</th>\n",
       "      <th>industry</th>\n",
       "      <th>group</th>\n",
       "    </tr>\n",
       "  </thead>\n",
       "  <tbody>\n",
       "    <tr>\n",
       "      <th>0</th>\n",
       "      <td>0</td>\n",
       "      <td>0</td>\n",
       "      <td>0</td>\n",
       "      <td>488.00</td>\n",
       "      <td>414.44</td>\n",
       "      <td>NaN</td>\n",
       "      <td>M</td>\n",
       "      <td>E-commerce</td>\n",
       "      <td>test</td>\n",
       "    </tr>\n",
       "    <tr>\n",
       "      <th>1</th>\n",
       "      <td>3</td>\n",
       "      <td>0</td>\n",
       "      <td>0</td>\n",
       "      <td>501.50</td>\n",
       "      <td>424.33</td>\n",
       "      <td>31.00</td>\n",
       "      <td>NaN</td>\n",
       "      <td>Logistics</td>\n",
       "      <td>test</td>\n",
       "    </tr>\n",
       "    <tr>\n",
       "      <th>2</th>\n",
       "      <td>10</td>\n",
       "      <td>0</td>\n",
       "      <td>0</td>\n",
       "      <td>522.50</td>\n",
       "      <td>416.22</td>\n",
       "      <td>64.00</td>\n",
       "      <td>M</td>\n",
       "      <td>E-commerce</td>\n",
       "      <td>test</td>\n",
       "    </tr>\n",
       "  </tbody>\n",
       "</table>\n",
       "</div>"
      ],
      "text/plain": [
       "   user_id  signup_month  treat  pre_spends  post_spends   age gender  \\\n",
       "0        0             0      0      488.00       414.44   NaN      M   \n",
       "1        3             0      0      501.50       424.33 31.00    NaN   \n",
       "2       10             0      0      522.50       416.22 64.00      M   \n",
       "\n",
       "     industry group  \n",
       "0  E-commerce  test  \n",
       "1   Logistics  test  \n",
       "2  E-commerce  test  "
      ]
     },
     "execution_count": 24,
     "metadata": {},
     "output_type": "execute_result"
    }
   ],
   "source": [
    "data_ab = data.copy()\n",
    "\n",
    "half_data = int(data.shape[0]/2)\n",
    "data_ab['group'] = ['test']*half_data + ['control']*half_data\n",
    "data_ab.head(3)"
   ]
  },
  {
   "cell_type": "markdown",
   "id": "690ceec5",
   "metadata": {},
   "source": [
    "### 3.1 Full AB-test\n",
    "\n",
    "Full (basic) version of test includes calculation of all available metrics, which are: \"diff in means\", \"diff in diff\" and \"cuped\"<br>\n",
    "Pay attention, that for \"cuped\" and \"diff in diff\" metrics required target before pilot."
   ]
  },
  {
   "cell_type": "code",
   "execution_count": 25,
   "id": "4108a137",
   "metadata": {},
   "outputs": [
    {
     "data": {
      "text/plain": [
       "{'size': {'test': 2685, 'control': 2685},\n",
       " 'difference': {'ate': 0.9805090006207325,\n",
       "  'cuped': 0.9764245308837189,\n",
       "  'diff_in_diff': 0.39224084419458904},\n",
       " 'p_value': {'t_test': 0.20533212744131019,\n",
       "  'mann_whitney': 0.08089945933651932}}"
      ]
     },
     "execution_count": 25,
     "metadata": {},
     "output_type": "execute_result"
    }
   ],
   "source": [
    "model = ABTest()\n",
    "results = model.execute(\n",
    "    data=data_ab,\n",
    "    target_field='post_spends', \n",
    "    target_field_before='pre_spends', \n",
    "    group_field='group'\n",
    ")\n",
    "results"
   ]
  },
  {
   "cell_type": "markdown",
   "id": "05487531",
   "metadata": {},
   "source": [
    "To see results in more convenient way `show_beautiful_result` can be used"
   ]
  },
  {
   "cell_type": "code",
   "execution_count": 26,
   "id": "9dd905e8",
   "metadata": {},
   "outputs": [
    {
     "data": {
      "text/html": [
       "<div>\n",
       "<style scoped>\n",
       "    .dataframe tbody tr th:only-of-type {\n",
       "        vertical-align: middle;\n",
       "    }\n",
       "\n",
       "    .dataframe tbody tr th {\n",
       "        vertical-align: top;\n",
       "    }\n",
       "\n",
       "    .dataframe thead th {\n",
       "        text-align: right;\n",
       "    }\n",
       "</style>\n",
       "<table border=\"1\" class=\"dataframe\">\n",
       "  <thead>\n",
       "    <tr style=\"text-align: right;\">\n",
       "      <th></th>\n",
       "      <th>size</th>\n",
       "    </tr>\n",
       "  </thead>\n",
       "  <tbody>\n",
       "    <tr>\n",
       "      <th>test</th>\n",
       "      <td>2685</td>\n",
       "    </tr>\n",
       "    <tr>\n",
       "      <th>control</th>\n",
       "      <td>2685</td>\n",
       "    </tr>\n",
       "  </tbody>\n",
       "</table>\n",
       "</div>"
      ],
      "text/plain": [
       "         size\n",
       "test     2685\n",
       "control  2685"
      ]
     },
     "metadata": {},
     "output_type": "display_data"
    },
    {
     "data": {
      "text/html": [
       "<div>\n",
       "<style scoped>\n",
       "    .dataframe tbody tr th:only-of-type {\n",
       "        vertical-align: middle;\n",
       "    }\n",
       "\n",
       "    .dataframe tbody tr th {\n",
       "        vertical-align: top;\n",
       "    }\n",
       "\n",
       "    .dataframe thead th {\n",
       "        text-align: right;\n",
       "    }\n",
       "</style>\n",
       "<table border=\"1\" class=\"dataframe\">\n",
       "  <thead>\n",
       "    <tr style=\"text-align: right;\">\n",
       "      <th></th>\n",
       "      <th>difference</th>\n",
       "    </tr>\n",
       "  </thead>\n",
       "  <tbody>\n",
       "    <tr>\n",
       "      <th>ate</th>\n",
       "      <td>0.98</td>\n",
       "    </tr>\n",
       "    <tr>\n",
       "      <th>cuped</th>\n",
       "      <td>0.98</td>\n",
       "    </tr>\n",
       "    <tr>\n",
       "      <th>diff_in_diff</th>\n",
       "      <td>0.39</td>\n",
       "    </tr>\n",
       "  </tbody>\n",
       "</table>\n",
       "</div>"
      ],
      "text/plain": [
       "              difference\n",
       "ate                 0.98\n",
       "cuped               0.98\n",
       "diff_in_diff        0.39"
      ]
     },
     "metadata": {},
     "output_type": "display_data"
    },
    {
     "data": {
      "text/html": [
       "<div>\n",
       "<style scoped>\n",
       "    .dataframe tbody tr th:only-of-type {\n",
       "        vertical-align: middle;\n",
       "    }\n",
       "\n",
       "    .dataframe tbody tr th {\n",
       "        vertical-align: top;\n",
       "    }\n",
       "\n",
       "    .dataframe thead th {\n",
       "        text-align: right;\n",
       "    }\n",
       "</style>\n",
       "<table border=\"1\" class=\"dataframe\">\n",
       "  <thead>\n",
       "    <tr style=\"text-align: right;\">\n",
       "      <th></th>\n",
       "      <th>p_value</th>\n",
       "    </tr>\n",
       "  </thead>\n",
       "  <tbody>\n",
       "    <tr>\n",
       "      <th>t_test</th>\n",
       "      <td>0.21</td>\n",
       "    </tr>\n",
       "    <tr>\n",
       "      <th>mann_whitney</th>\n",
       "      <td>0.08</td>\n",
       "    </tr>\n",
       "  </tbody>\n",
       "</table>\n",
       "</div>"
      ],
      "text/plain": [
       "              p_value\n",
       "t_test           0.21\n",
       "mann_whitney     0.08"
      ]
     },
     "metadata": {},
     "output_type": "display_data"
    }
   ],
   "source": [
    "model.show_beautiful_result()"
   ]
  },
  {
   "cell_type": "markdown",
   "id": "ea252142",
   "metadata": {},
   "source": [
    "### 3.2 Simple AB-test\n",
    "To estimate effect without target data before pilot `calc_difference_method='ate'` can be used - effect will be estimated with \"diff in means\" method"
   ]
  },
  {
   "cell_type": "code",
   "execution_count": 27,
   "id": "0ab77779",
   "metadata": {},
   "outputs": [
    {
     "data": {
      "text/html": [
       "<div>\n",
       "<style scoped>\n",
       "    .dataframe tbody tr th:only-of-type {\n",
       "        vertical-align: middle;\n",
       "    }\n",
       "\n",
       "    .dataframe tbody tr th {\n",
       "        vertical-align: top;\n",
       "    }\n",
       "\n",
       "    .dataframe thead th {\n",
       "        text-align: right;\n",
       "    }\n",
       "</style>\n",
       "<table border=\"1\" class=\"dataframe\">\n",
       "  <thead>\n",
       "    <tr style=\"text-align: right;\">\n",
       "      <th></th>\n",
       "      <th>size</th>\n",
       "    </tr>\n",
       "  </thead>\n",
       "  <tbody>\n",
       "    <tr>\n",
       "      <th>test</th>\n",
       "      <td>2685</td>\n",
       "    </tr>\n",
       "    <tr>\n",
       "      <th>control</th>\n",
       "      <td>2685</td>\n",
       "    </tr>\n",
       "  </tbody>\n",
       "</table>\n",
       "</div>"
      ],
      "text/plain": [
       "         size\n",
       "test     2685\n",
       "control  2685"
      ]
     },
     "metadata": {},
     "output_type": "display_data"
    },
    {
     "data": {
      "text/html": [
       "<div>\n",
       "<style scoped>\n",
       "    .dataframe tbody tr th:only-of-type {\n",
       "        vertical-align: middle;\n",
       "    }\n",
       "\n",
       "    .dataframe tbody tr th {\n",
       "        vertical-align: top;\n",
       "    }\n",
       "\n",
       "    .dataframe thead th {\n",
       "        text-align: right;\n",
       "    }\n",
       "</style>\n",
       "<table border=\"1\" class=\"dataframe\">\n",
       "  <thead>\n",
       "    <tr style=\"text-align: right;\">\n",
       "      <th></th>\n",
       "      <th>difference</th>\n",
       "    </tr>\n",
       "  </thead>\n",
       "  <tbody>\n",
       "    <tr>\n",
       "      <th>ate</th>\n",
       "      <td>0.98</td>\n",
       "    </tr>\n",
       "  </tbody>\n",
       "</table>\n",
       "</div>"
      ],
      "text/plain": [
       "     difference\n",
       "ate        0.98"
      ]
     },
     "metadata": {},
     "output_type": "display_data"
    },
    {
     "data": {
      "text/html": [
       "<div>\n",
       "<style scoped>\n",
       "    .dataframe tbody tr th:only-of-type {\n",
       "        vertical-align: middle;\n",
       "    }\n",
       "\n",
       "    .dataframe tbody tr th {\n",
       "        vertical-align: top;\n",
       "    }\n",
       "\n",
       "    .dataframe thead th {\n",
       "        text-align: right;\n",
       "    }\n",
       "</style>\n",
       "<table border=\"1\" class=\"dataframe\">\n",
       "  <thead>\n",
       "    <tr style=\"text-align: right;\">\n",
       "      <th></th>\n",
       "      <th>p_value</th>\n",
       "    </tr>\n",
       "  </thead>\n",
       "  <tbody>\n",
       "    <tr>\n",
       "      <th>t_test</th>\n",
       "      <td>0.21</td>\n",
       "    </tr>\n",
       "    <tr>\n",
       "      <th>mann_whitney</th>\n",
       "      <td>0.08</td>\n",
       "    </tr>\n",
       "  </tbody>\n",
       "</table>\n",
       "</div>"
      ],
      "text/plain": [
       "              p_value\n",
       "t_test           0.21\n",
       "mann_whitney     0.08"
      ]
     },
     "metadata": {},
     "output_type": "display_data"
    }
   ],
   "source": [
    "model = ABTest(calc_difference_method='ate')\n",
    "model.execute(data=data_ab, target_field='post_spends', group_field='group')\n",
    "\n",
    "model.show_beautiful_result()"
   ]
  },
  {
   "cell_type": "code",
   "execution_count": null,
   "id": "6193f7f0",
   "metadata": {},
   "outputs": [],
   "source": []
  }
 ],
 "metadata": {
  "kernelspec": {
   "display_name": "Python 3 (ipykernel)",
   "language": "python",
   "name": "python3"
  },
  "language_info": {
   "codemirror_mode": {
    "name": "ipython",
    "version": 3
   },
   "file_extension": ".py",
   "mimetype": "text/x-python",
   "name": "python",
   "nbconvert_exporter": "python",
   "pygments_lexer": "ipython3",
   "version": "3.9.7"
  }
 },
 "nbformat": 4,
 "nbformat_minor": 5
}

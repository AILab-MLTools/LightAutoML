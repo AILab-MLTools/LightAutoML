{
 "cells": [
  {
   "cell_type": "markdown",
   "metadata": {},
   "source": [
    "# How to match? "
   ]
  },
  {
   "cell_type": "markdown",
   "metadata": {},
   "source": [
    "## 0. Import libraries "
   ]
  },
  {
   "cell_type": "code",
   "execution_count": 1,
   "metadata": {},
   "outputs": [],
   "source": [
    "import pandas as pd\n",
    "import warnings\n",
    "import numpy as np\n",
    "from lightautoml.addons.matcher import Matcher\n",
    "\n",
    "warnings.filterwarnings('ignore')\n",
    "%config Completer.use_jedi = False"
   ]
  },
  {
   "cell_type": "markdown",
   "metadata": {},
   "source": [
    "## 1. Create or upload your dataset  \n",
    "In this case we will create random dataset with known effect size  \n",
    "If you have your own dataset, go to the part 2 \n"
   ]
  },
  {
   "cell_type": "code",
   "execution_count": 2,
   "metadata": {},
   "outputs": [
    {
     "data": {
      "text/plain": "   user_id  signup_month  month  spend  treat\n0        0             7      1    497   True\n1        0             7      2    521   True\n2        0             7      3    469   True\n3        0             7      4    499   True\n4        0             7      5    430   True",
      "text/html": "<div>\n<style scoped>\n    .dataframe tbody tr th:only-of-type {\n        vertical-align: middle;\n    }\n\n    .dataframe tbody tr th {\n        vertical-align: top;\n    }\n\n    .dataframe thead th {\n        text-align: right;\n    }\n</style>\n<table border=\"1\" class=\"dataframe\">\n  <thead>\n    <tr style=\"text-align: right;\">\n      <th></th>\n      <th>user_id</th>\n      <th>signup_month</th>\n      <th>month</th>\n      <th>spend</th>\n      <th>treat</th>\n    </tr>\n  </thead>\n  <tbody>\n    <tr>\n      <th>0</th>\n      <td>0</td>\n      <td>7</td>\n      <td>1</td>\n      <td>497</td>\n      <td>True</td>\n    </tr>\n    <tr>\n      <th>1</th>\n      <td>0</td>\n      <td>7</td>\n      <td>2</td>\n      <td>521</td>\n      <td>True</td>\n    </tr>\n    <tr>\n      <th>2</th>\n      <td>0</td>\n      <td>7</td>\n      <td>3</td>\n      <td>469</td>\n      <td>True</td>\n    </tr>\n    <tr>\n      <th>3</th>\n      <td>0</td>\n      <td>7</td>\n      <td>4</td>\n      <td>499</td>\n      <td>True</td>\n    </tr>\n    <tr>\n      <th>4</th>\n      <td>0</td>\n      <td>7</td>\n      <td>5</td>\n      <td>430</td>\n      <td>True</td>\n    </tr>\n  </tbody>\n</table>\n</div>"
     },
     "execution_count": 2,
     "metadata": {},
     "output_type": "execute_result"
    }
   ],
   "source": [
    "# Simulating dataset with known effect size\n",
    "num_users = 10000\n",
    "num_months = 12\n",
    "\n",
    "signup_months = np.random.choice(np.arange(1, num_months), num_users) * np.random.randint(0,2, size=num_users) # signup_months == 0 means customer did not sign up\n",
    "df = pd.DataFrame({\n",
    "    'user_id': np.repeat(np.arange(num_users), num_months),\n",
    "    'signup_month': np.repeat(signup_months, num_months), # signup month == 0 means customer did not sign up\n",
    "    'month': np.tile(np.arange(1, num_months+1), num_users), # months are from 1 to 12\n",
    "    'spend': np.random.poisson(500, num_users*num_months) #np.random.beta(a=2, b=5, size=num_users * num_months)*1000 # centered at 500\n",
    "})\n",
    "# A customer is in the treatment group if and only if they signed up\n",
    "df[\"treat\"] = df[\"signup_month\"]>0\n",
    "# Simulating an effect of month (monotonically decreasing--customers buy less later in the year)\n",
    "df[\"spend\"] = df[\"spend\"] - df[\"month\"]*10\n",
    "# Simulating a simple treatment effect of 100\n",
    "after_signup = (df[\"signup_month\"] < df[\"month\"]) & (df[\"treat\"])\n",
    "df.loc[after_signup,\"spend\"] = df[after_signup][\"spend\"] + 100\n",
    "df.head()"
   ]
  },
  {
   "cell_type": "code",
   "execution_count": 3,
   "metadata": {},
   "outputs": [
    {
     "data": {
      "text/plain": "      user_id  signup_month  treat  pre_spends  post_spends\n0           2             0  False       485.5   428.777778\n1           4             0  False       490.0   426.777778\n2           5             0  False       476.0   427.555556\n3          10             0  False       471.5   413.333333\n4          11             0  False       454.5   404.444444\n...       ...           ...    ...         ...          ...\n5477     9990             0  False       473.0   435.333333\n5478     9992             0  False       446.5   411.888889\n5479     9994             0  False       488.0   423.444444\n5480     9996             0  False       501.0   422.333333\n5481     9997             0  False       459.5   420.777778\n\n[5482 rows x 5 columns]",
      "text/html": "<div>\n<style scoped>\n    .dataframe tbody tr th:only-of-type {\n        vertical-align: middle;\n    }\n\n    .dataframe tbody tr th {\n        vertical-align: top;\n    }\n\n    .dataframe thead th {\n        text-align: right;\n    }\n</style>\n<table border=\"1\" class=\"dataframe\">\n  <thead>\n    <tr style=\"text-align: right;\">\n      <th></th>\n      <th>user_id</th>\n      <th>signup_month</th>\n      <th>treat</th>\n      <th>pre_spends</th>\n      <th>post_spends</th>\n    </tr>\n  </thead>\n  <tbody>\n    <tr>\n      <th>0</th>\n      <td>2</td>\n      <td>0</td>\n      <td>False</td>\n      <td>485.5</td>\n      <td>428.777778</td>\n    </tr>\n    <tr>\n      <th>1</th>\n      <td>4</td>\n      <td>0</td>\n      <td>False</td>\n      <td>490.0</td>\n      <td>426.777778</td>\n    </tr>\n    <tr>\n      <th>2</th>\n      <td>5</td>\n      <td>0</td>\n      <td>False</td>\n      <td>476.0</td>\n      <td>427.555556</td>\n    </tr>\n    <tr>\n      <th>3</th>\n      <td>10</td>\n      <td>0</td>\n      <td>False</td>\n      <td>471.5</td>\n      <td>413.333333</td>\n    </tr>\n    <tr>\n      <th>4</th>\n      <td>11</td>\n      <td>0</td>\n      <td>False</td>\n      <td>454.5</td>\n      <td>404.444444</td>\n    </tr>\n    <tr>\n      <th>...</th>\n      <td>...</td>\n      <td>...</td>\n      <td>...</td>\n      <td>...</td>\n      <td>...</td>\n    </tr>\n    <tr>\n      <th>5477</th>\n      <td>9990</td>\n      <td>0</td>\n      <td>False</td>\n      <td>473.0</td>\n      <td>435.333333</td>\n    </tr>\n    <tr>\n      <th>5478</th>\n      <td>9992</td>\n      <td>0</td>\n      <td>False</td>\n      <td>446.5</td>\n      <td>411.888889</td>\n    </tr>\n    <tr>\n      <th>5479</th>\n      <td>9994</td>\n      <td>0</td>\n      <td>False</td>\n      <td>488.0</td>\n      <td>423.444444</td>\n    </tr>\n    <tr>\n      <th>5480</th>\n      <td>9996</td>\n      <td>0</td>\n      <td>False</td>\n      <td>501.0</td>\n      <td>422.333333</td>\n    </tr>\n    <tr>\n      <th>5481</th>\n      <td>9997</td>\n      <td>0</td>\n      <td>False</td>\n      <td>459.5</td>\n      <td>420.777778</td>\n    </tr>\n  </tbody>\n</table>\n<p>5482 rows × 5 columns</p>\n</div>"
     },
     "execution_count": 3,
     "metadata": {},
     "output_type": "execute_result"
    }
   ],
   "source": [
    "# Setting the signup month (for ease of analysis)\n",
    "i = 3\n",
    "df_i_signupmonth = (\n",
    "    df[df.signup_month.isin([0, i])]\n",
    "    .groupby([\"user_id\", \"signup_month\", \"treat\"])\n",
    "    .apply(\n",
    "        lambda x: pd.Series(\n",
    "            {\n",
    "                \"pre_spends\": x.loc[x.month < i, \"spend\"].mean(),\n",
    "                \"post_spends\": x.loc[x.month > i, \"spend\"].mean(),\n",
    "            }\n",
    "        )\n",
    "    )\n",
    "    .reset_index()\n",
    ")\n",
    "df_i_signupmonth"
   ]
  },
  {
   "cell_type": "code",
   "execution_count": 4,
   "metadata": {},
   "outputs": [
    {
     "data": {
      "text/plain": "   user_id  signup_month  treat  pre_spends  post_spends  age  is_male  \\\n0        2             0      0       485.5   428.777778   47        0   \n1        4             0      0       490.0   426.777778   45        1   \n2        5             0      0       476.0   427.555556   62        0   \n3       10             0      0       471.5   413.333333   51        0   \n4       11             0      0       454.5   404.444444   25        1   \n\n  industry  \n0        1  \n1        2  \n2        1  \n3        1  \n4        1  ",
      "text/html": "<div>\n<style scoped>\n    .dataframe tbody tr th:only-of-type {\n        vertical-align: middle;\n    }\n\n    .dataframe tbody tr th {\n        vertical-align: top;\n    }\n\n    .dataframe thead th {\n        text-align: right;\n    }\n</style>\n<table border=\"1\" class=\"dataframe\">\n  <thead>\n    <tr style=\"text-align: right;\">\n      <th></th>\n      <th>user_id</th>\n      <th>signup_month</th>\n      <th>treat</th>\n      <th>pre_spends</th>\n      <th>post_spends</th>\n      <th>age</th>\n      <th>is_male</th>\n      <th>industry</th>\n    </tr>\n  </thead>\n  <tbody>\n    <tr>\n      <th>0</th>\n      <td>2</td>\n      <td>0</td>\n      <td>0</td>\n      <td>485.5</td>\n      <td>428.777778</td>\n      <td>47</td>\n      <td>0</td>\n      <td>1</td>\n    </tr>\n    <tr>\n      <th>1</th>\n      <td>4</td>\n      <td>0</td>\n      <td>0</td>\n      <td>490.0</td>\n      <td>426.777778</td>\n      <td>45</td>\n      <td>1</td>\n      <td>2</td>\n    </tr>\n    <tr>\n      <th>2</th>\n      <td>5</td>\n      <td>0</td>\n      <td>0</td>\n      <td>476.0</td>\n      <td>427.555556</td>\n      <td>62</td>\n      <td>0</td>\n      <td>1</td>\n    </tr>\n    <tr>\n      <th>3</th>\n      <td>10</td>\n      <td>0</td>\n      <td>0</td>\n      <td>471.5</td>\n      <td>413.333333</td>\n      <td>51</td>\n      <td>0</td>\n      <td>1</td>\n    </tr>\n    <tr>\n      <th>4</th>\n      <td>11</td>\n      <td>0</td>\n      <td>0</td>\n      <td>454.5</td>\n      <td>404.444444</td>\n      <td>25</td>\n      <td>1</td>\n      <td>1</td>\n    </tr>\n  </tbody>\n</table>\n</div>"
     },
     "execution_count": 4,
     "metadata": {},
     "output_type": "execute_result"
    }
   ],
   "source": [
    "# Additional category features\n",
    "gender = np.random.choice(a=[0,1], size=df_i_signupmonth.user_id.nunique())\n",
    "age = np.random.choice(a=range(18, 70), size=df_i_signupmonth.user_id.nunique())\n",
    "industry = np.random.choice(a=range(1, 3), size=df_i_signupmonth.user_id.nunique())\n",
    "df_i_signupmonth['age'] = age\n",
    "df_i_signupmonth['is_male'] =  gender\n",
    "df_i_signupmonth['industry'] =  industry\n",
    "df_i_signupmonth['industry'] = df_i_signupmonth['industry'].astype('str')\n",
    "df_i_signupmonth['treat'] = df_i_signupmonth['treat'].astype(int)\n",
    "df_i_signupmonth.head()"
   ]
  },
  {
   "cell_type": "code",
   "execution_count": 5,
   "metadata": {},
   "outputs": [
    {
     "data": {
      "text/plain": "Index(['user_id', 'signup_month', 'treat', 'pre_spends', 'post_spends', 'age',\n       'is_male', 'industry'],\n      dtype='object')"
     },
     "execution_count": 5,
     "metadata": {},
     "output_type": "execute_result"
    }
   ],
   "source": [
    "df_i_signupmonth.columns"
   ]
  },
  {
   "cell_type": "markdown",
   "metadata": {},
   "source": [
    "## 2. Matching  \n",
    "### 2.0 Init params\n",
    "info_col used to define informative attributes that should not be part of matching, such as user_id  \n",
    "But to explicitly store this column in the table, so that you can compare directly after computation"
   ]
  },
  {
   "cell_type": "code",
   "execution_count": 6,
   "metadata": {},
   "outputs": [],
   "source": [
    "info_col = ['user_id', 'signup_month']\n",
    "\n",
    "outcome = 'post_spends'\n",
    "treatment = 'treat'"
   ]
  },
  {
   "cell_type": "markdown",
   "metadata": {},
   "source": [
    "### 2.1 Simple matching\n",
    "This is the easiest way to initialize and calculate metrics on a Matching task  \n",
    "Use it when you are clear about each attribute or if you don't have any additional task conditions (Strict equality for certain features) "
   ]
  },
  {
   "cell_type": "code",
   "execution_count": 7,
   "metadata": {},
   "outputs": [
    {
     "name": "stdout",
     "output_type": "stream",
     "text": [
      "Finding index\n",
      "Finding index\n"
     ]
    }
   ],
   "source": [
    "# Standard model with base parameters\n",
    "model = Matcher(df=df_i_signupmonth, outcome=outcome, treatment=treatment, info_col=info_col)\n",
    "results, quality_results = model.estimate()"
   ]
  },
  {
   "cell_type": "markdown",
   "metadata": {},
   "source": [
    "### 2.2 Matching with a fixed variable  \n",
    "Used when you have categorical feature(s) that you want to compare by strict equality  \n",
    "group_col is used for strict comparison of categorical features.  \n",
    "In our case there is only one attribute  \n",
    "If there are several such attributes, you should make one of them and use it"
   ]
  },
  {
   "cell_type": "code",
   "execution_count": 8,
   "metadata": {},
   "outputs": [],
   "source": [
    "# group_col is used for strict comparison of categorical features.  \n",
    "# In our case there is only one attribute  \n",
    "# If there are several such attributes, you should make one of them and use it\n",
    "\n",
    "group_col = \"industry\""
   ]
  },
  {
   "cell_type": "code",
   "execution_count": 9,
   "metadata": {},
   "outputs": [
    {
     "name": "stdout",
     "output_type": "stream",
     "text": [
      "Finding index\n",
      "Finding index\n",
      "Finding index\n",
      "Finding index\n"
     ]
    }
   ],
   "source": [
    "model = Matcher(df=df_i_signupmonth, outcome=outcome, treatment=treatment, \n",
    "                info_col=info_col, group_col=group_col)\n",
    "results, quality_results = model.estimate()"
   ]
  },
  {
   "cell_type": "markdown",
   "metadata": {},
   "source": [
    "### 2.3 Matching but you don't know which features are better to use  \n",
    "This is the easiest way to initialize and calculate metrics on a Matching task  \n",
    "Use this method when you want to select the most important features and make matching based on them. "
   ]
  },
  {
   "cell_type": "code",
   "execution_count": 10,
   "metadata": {},
   "outputs": [],
   "source": [
    "model = Matcher(df=df_i_signupmonth, outcome=outcome, treatment=treatment, \n",
    "                info_col=info_col, group_col=group_col)"
   ]
  },
  {
   "cell_type": "code",
   "execution_count": 11,
   "metadata": {
    "scrolled": true
   },
   "outputs": [
    {
     "data": {
      "text/plain": "      Feature    Importance\n0  pre_spends  36304.409912\n1         age  20823.709961\n2     is_male   3080.989990",
      "text/html": "<div>\n<style scoped>\n    .dataframe tbody tr th:only-of-type {\n        vertical-align: middle;\n    }\n\n    .dataframe tbody tr th {\n        vertical-align: top;\n    }\n\n    .dataframe thead th {\n        text-align: right;\n    }\n</style>\n<table border=\"1\" class=\"dataframe\">\n  <thead>\n    <tr style=\"text-align: right;\">\n      <th></th>\n      <th>Feature</th>\n      <th>Importance</th>\n    </tr>\n  </thead>\n  <tbody>\n    <tr>\n      <th>0</th>\n      <td>pre_spends</td>\n      <td>36304.409912</td>\n    </tr>\n    <tr>\n      <th>1</th>\n      <td>age</td>\n      <td>20823.709961</td>\n    </tr>\n    <tr>\n      <th>2</th>\n      <td>is_male</td>\n      <td>3080.989990</td>\n    </tr>\n  </tbody>\n</table>\n</div>"
     },
     "execution_count": 11,
     "metadata": {},
     "output_type": "execute_result"
    }
   ],
   "source": [
    "features_importance = model.lama_feature_select()\n",
    "features_importance"
   ]
  },
  {
   "cell_type": "code",
   "execution_count": 12,
   "metadata": {},
   "outputs": [],
   "source": [
    "features = features_importance['Feature'].to_list()"
   ]
  },
  {
   "cell_type": "code",
   "execution_count": 13,
   "metadata": {},
   "outputs": [
    {
     "name": "stdout",
     "output_type": "stream",
     "text": [
      "Finding index\n",
      "Finding index\n",
      "Finding index\n",
      "Finding index\n"
     ]
    }
   ],
   "source": [
    "# You can use both variant that you like. So you can just list the features to be matched\n",
    "\n",
    "#results, quality_results = model.estimate(features=features_importance[:3])\n",
    "results, quality_results = model.estimate(features=features[:3])"
   ]
  },
  {
   "cell_type": "code",
   "execution_count": 14,
   "metadata": {},
   "outputs": [
    {
     "data": {
      "text/plain": "      index  user_id  signup_month  pre_spends  age  is_male industry  \\\n0      2299     4156             3       495.5   38        1        1   \n1      4380     7920             3       472.5   26        0        1   \n2      2270     4104             3       456.5   41        0        1   \n3      2340     4210             3       451.0   18        0        1   \n4      2360     4241             3       483.0   46        1        1   \n...     ...      ...           ...         ...  ...      ...      ...   \n5477   2510     4500             0       475.0   27        0        2   \n5478   2512     4505             0       485.0   46        1        2   \n5479   2514     4511             0       498.5   60        0        2   \n5480   1844     3339             0       517.5   18        0        2   \n5481   5481     9997             0       459.5   59        0        2   \n\n      index_matched  user_id_matched  signup_month_matched  \\\n0              5141             9357                     0   \n1              2984             5357                     0   \n2              2799             5017                     0   \n3              2837             5084                     0   \n4              4284             7741                     0   \n...             ...              ...                   ...   \n5477           2133             3866                     3   \n5478           3636             6530                     3   \n5479           1908             3448                     3   \n5480           3543             6356                     3   \n5481           4273             7725                     3   \n\n      pre_spends_matched  age_matched  is_male_matched industry_matched  \\\n0                  497.0           45                0                1   \n1                  467.0           24                1                1   \n2                  456.0           37                1                1   \n3                  449.0           20                0                1   \n4                  486.5           55                0                1   \n...                  ...          ...              ...              ...   \n5477               466.5           28                0                2   \n5478               493.5           48                1                2   \n5479               488.0           51                0                2   \n5480               455.5           69                1                2   \n5481               491.0           18                0                2   \n\n      post_spends  post_spends_matched  post_spends_matched_bias  treat  \\\n0      428.777778           530.666667                530.692975      0   \n1      423.555556           520.777778                520.643947      0   \n2      414.777778           531.888889                531.867511      0   \n3      418.777778           517.111111                517.180487      0   \n4      410.111111           520.333333                520.157086      0   \n...           ...                  ...                       ...    ...   \n5477   511.222222           412.444444                411.793345      1   \n5478   529.000000           418.333333                418.492023      1   \n5479   523.444444           409.222222                409.550086      1   \n5480   521.000000           407.555556                407.336581      1   \n5481   508.888889           425.111111                425.134392      1   \n\n      treat_matched  \n0                 1  \n1                 1  \n2                 1  \n3                 1  \n4                 1  \n...             ...  \n5477              0  \n5478              0  \n5479              0  \n5480              0  \n5481              0  \n\n[5482 rows x 19 columns]",
      "text/html": "<div>\n<style scoped>\n    .dataframe tbody tr th:only-of-type {\n        vertical-align: middle;\n    }\n\n    .dataframe tbody tr th {\n        vertical-align: top;\n    }\n\n    .dataframe thead th {\n        text-align: right;\n    }\n</style>\n<table border=\"1\" class=\"dataframe\">\n  <thead>\n    <tr style=\"text-align: right;\">\n      <th></th>\n      <th>index</th>\n      <th>user_id</th>\n      <th>signup_month</th>\n      <th>pre_spends</th>\n      <th>age</th>\n      <th>is_male</th>\n      <th>industry</th>\n      <th>index_matched</th>\n      <th>user_id_matched</th>\n      <th>signup_month_matched</th>\n      <th>pre_spends_matched</th>\n      <th>age_matched</th>\n      <th>is_male_matched</th>\n      <th>industry_matched</th>\n      <th>post_spends</th>\n      <th>post_spends_matched</th>\n      <th>post_spends_matched_bias</th>\n      <th>treat</th>\n      <th>treat_matched</th>\n    </tr>\n  </thead>\n  <tbody>\n    <tr>\n      <th>0</th>\n      <td>2299</td>\n      <td>4156</td>\n      <td>3</td>\n      <td>495.5</td>\n      <td>38</td>\n      <td>1</td>\n      <td>1</td>\n      <td>5141</td>\n      <td>9357</td>\n      <td>0</td>\n      <td>497.0</td>\n      <td>45</td>\n      <td>0</td>\n      <td>1</td>\n      <td>428.777778</td>\n      <td>530.666667</td>\n      <td>530.692975</td>\n      <td>0</td>\n      <td>1</td>\n    </tr>\n    <tr>\n      <th>1</th>\n      <td>4380</td>\n      <td>7920</td>\n      <td>3</td>\n      <td>472.5</td>\n      <td>26</td>\n      <td>0</td>\n      <td>1</td>\n      <td>2984</td>\n      <td>5357</td>\n      <td>0</td>\n      <td>467.0</td>\n      <td>24</td>\n      <td>1</td>\n      <td>1</td>\n      <td>423.555556</td>\n      <td>520.777778</td>\n      <td>520.643947</td>\n      <td>0</td>\n      <td>1</td>\n    </tr>\n    <tr>\n      <th>2</th>\n      <td>2270</td>\n      <td>4104</td>\n      <td>3</td>\n      <td>456.5</td>\n      <td>41</td>\n      <td>0</td>\n      <td>1</td>\n      <td>2799</td>\n      <td>5017</td>\n      <td>0</td>\n      <td>456.0</td>\n      <td>37</td>\n      <td>1</td>\n      <td>1</td>\n      <td>414.777778</td>\n      <td>531.888889</td>\n      <td>531.867511</td>\n      <td>0</td>\n      <td>1</td>\n    </tr>\n    <tr>\n      <th>3</th>\n      <td>2340</td>\n      <td>4210</td>\n      <td>3</td>\n      <td>451.0</td>\n      <td>18</td>\n      <td>0</td>\n      <td>1</td>\n      <td>2837</td>\n      <td>5084</td>\n      <td>0</td>\n      <td>449.0</td>\n      <td>20</td>\n      <td>0</td>\n      <td>1</td>\n      <td>418.777778</td>\n      <td>517.111111</td>\n      <td>517.180487</td>\n      <td>0</td>\n      <td>1</td>\n    </tr>\n    <tr>\n      <th>4</th>\n      <td>2360</td>\n      <td>4241</td>\n      <td>3</td>\n      <td>483.0</td>\n      <td>46</td>\n      <td>1</td>\n      <td>1</td>\n      <td>4284</td>\n      <td>7741</td>\n      <td>0</td>\n      <td>486.5</td>\n      <td>55</td>\n      <td>0</td>\n      <td>1</td>\n      <td>410.111111</td>\n      <td>520.333333</td>\n      <td>520.157086</td>\n      <td>0</td>\n      <td>1</td>\n    </tr>\n    <tr>\n      <th>...</th>\n      <td>...</td>\n      <td>...</td>\n      <td>...</td>\n      <td>...</td>\n      <td>...</td>\n      <td>...</td>\n      <td>...</td>\n      <td>...</td>\n      <td>...</td>\n      <td>...</td>\n      <td>...</td>\n      <td>...</td>\n      <td>...</td>\n      <td>...</td>\n      <td>...</td>\n      <td>...</td>\n      <td>...</td>\n      <td>...</td>\n      <td>...</td>\n    </tr>\n    <tr>\n      <th>5477</th>\n      <td>2510</td>\n      <td>4500</td>\n      <td>0</td>\n      <td>475.0</td>\n      <td>27</td>\n      <td>0</td>\n      <td>2</td>\n      <td>2133</td>\n      <td>3866</td>\n      <td>3</td>\n      <td>466.5</td>\n      <td>28</td>\n      <td>0</td>\n      <td>2</td>\n      <td>511.222222</td>\n      <td>412.444444</td>\n      <td>411.793345</td>\n      <td>1</td>\n      <td>0</td>\n    </tr>\n    <tr>\n      <th>5478</th>\n      <td>2512</td>\n      <td>4505</td>\n      <td>0</td>\n      <td>485.0</td>\n      <td>46</td>\n      <td>1</td>\n      <td>2</td>\n      <td>3636</td>\n      <td>6530</td>\n      <td>3</td>\n      <td>493.5</td>\n      <td>48</td>\n      <td>1</td>\n      <td>2</td>\n      <td>529.000000</td>\n      <td>418.333333</td>\n      <td>418.492023</td>\n      <td>1</td>\n      <td>0</td>\n    </tr>\n    <tr>\n      <th>5479</th>\n      <td>2514</td>\n      <td>4511</td>\n      <td>0</td>\n      <td>498.5</td>\n      <td>60</td>\n      <td>0</td>\n      <td>2</td>\n      <td>1908</td>\n      <td>3448</td>\n      <td>3</td>\n      <td>488.0</td>\n      <td>51</td>\n      <td>0</td>\n      <td>2</td>\n      <td>523.444444</td>\n      <td>409.222222</td>\n      <td>409.550086</td>\n      <td>1</td>\n      <td>0</td>\n    </tr>\n    <tr>\n      <th>5480</th>\n      <td>1844</td>\n      <td>3339</td>\n      <td>0</td>\n      <td>517.5</td>\n      <td>18</td>\n      <td>0</td>\n      <td>2</td>\n      <td>3543</td>\n      <td>6356</td>\n      <td>3</td>\n      <td>455.5</td>\n      <td>69</td>\n      <td>1</td>\n      <td>2</td>\n      <td>521.000000</td>\n      <td>407.555556</td>\n      <td>407.336581</td>\n      <td>1</td>\n      <td>0</td>\n    </tr>\n    <tr>\n      <th>5481</th>\n      <td>5481</td>\n      <td>9997</td>\n      <td>0</td>\n      <td>459.5</td>\n      <td>59</td>\n      <td>0</td>\n      <td>2</td>\n      <td>4273</td>\n      <td>7725</td>\n      <td>3</td>\n      <td>491.0</td>\n      <td>18</td>\n      <td>0</td>\n      <td>2</td>\n      <td>508.888889</td>\n      <td>425.111111</td>\n      <td>425.134392</td>\n      <td>1</td>\n      <td>0</td>\n    </tr>\n  </tbody>\n</table>\n<p>5482 rows × 19 columns</p>\n</div>"
     },
     "execution_count": 14,
     "metadata": {},
     "output_type": "execute_result"
    }
   ],
   "source": [
    "model.matcher.df_matched"
   ]
  },
  {
   "cell_type": "markdown",
   "metadata": {},
   "source": [
    "## 3. Results  \n",
    "### 3.1 ATE, ATT, ATC"
   ]
  },
  {
   "cell_type": "code",
   "execution_count": 15,
   "metadata": {},
   "outputs": [
    {
     "data": {
      "text/plain": "     effect_size   std_err  p-val   ci_lower    ci_upper\nATE   100.097572  0.649687    0.0  98.824186  101.370959\nATC   100.182530  0.671551    0.0  98.866290  101.498770\nATT    99.156677  0.735807    0.0  97.714495  100.598858",
      "text/html": "<div>\n<style scoped>\n    .dataframe tbody tr th:only-of-type {\n        vertical-align: middle;\n    }\n\n    .dataframe tbody tr th {\n        vertical-align: top;\n    }\n\n    .dataframe thead th {\n        text-align: right;\n    }\n</style>\n<table border=\"1\" class=\"dataframe\">\n  <thead>\n    <tr style=\"text-align: right;\">\n      <th></th>\n      <th>effect_size</th>\n      <th>std_err</th>\n      <th>p-val</th>\n      <th>ci_lower</th>\n      <th>ci_upper</th>\n    </tr>\n  </thead>\n  <tbody>\n    <tr>\n      <th>ATE</th>\n      <td>100.097572</td>\n      <td>0.649687</td>\n      <td>0.0</td>\n      <td>98.824186</td>\n      <td>101.370959</td>\n    </tr>\n    <tr>\n      <th>ATC</th>\n      <td>100.182530</td>\n      <td>0.671551</td>\n      <td>0.0</td>\n      <td>98.866290</td>\n      <td>101.498770</td>\n    </tr>\n    <tr>\n      <th>ATT</th>\n      <td>99.156677</td>\n      <td>0.735807</td>\n      <td>0.0</td>\n      <td>97.714495</td>\n      <td>100.598858</td>\n    </tr>\n  </tbody>\n</table>\n</div>"
     },
     "execution_count": 15,
     "metadata": {},
     "output_type": "execute_result"
    }
   ],
   "source": [
    "# model.matcher.results\n",
    "results"
   ]
  },
  {
   "cell_type": "markdown",
   "metadata": {},
   "source": [
    "### 3.2 SMD, PSI, KS-test, repeats"
   ]
  },
  {
   "cell_type": "code",
   "execution_count": 16,
   "metadata": {},
   "outputs": [
    {
     "data": {
      "text/plain": "            match_control_to_treat  match_treat_to_control\npre_spends                0.086449                0.014896\nage                       0.007773                0.007438\nis_male                   0.017622                0.015127",
      "text/html": "<div>\n<style scoped>\n    .dataframe tbody tr th:only-of-type {\n        vertical-align: middle;\n    }\n\n    .dataframe tbody tr th {\n        vertical-align: top;\n    }\n\n    .dataframe thead th {\n        text-align: right;\n    }\n</style>\n<table border=\"1\" class=\"dataframe\">\n  <thead>\n    <tr style=\"text-align: right;\">\n      <th></th>\n      <th>match_control_to_treat</th>\n      <th>match_treat_to_control</th>\n    </tr>\n  </thead>\n  <tbody>\n    <tr>\n      <th>pre_spends</th>\n      <td>0.086449</td>\n      <td>0.014896</td>\n    </tr>\n    <tr>\n      <th>age</th>\n      <td>0.007773</td>\n      <td>0.007438</td>\n    </tr>\n    <tr>\n      <th>is_male</th>\n      <td>0.017622</td>\n      <td>0.015127</td>\n    </tr>\n  </tbody>\n</table>\n</div>"
     },
     "execution_count": 16,
     "metadata": {},
     "output_type": "execute_result"
    }
   ],
   "source": [
    "# matching quality result - SMD\n",
    "model.quality_result['smd']"
   ]
  },
  {
   "cell_type": "code",
   "execution_count": 17,
   "metadata": {},
   "outputs": [
    {
     "data": {
      "text/plain": "                column  anomaly_score check_result                 column  \\\n0   pre_spends_treated           0.07           OK   pre_spends_untreated   \n1          age_treated           0.15           OK          age_untreated   \n2      is_male_treated           0.00           OK      is_male_untreated   \n3  post_spends_treated          16.11          NOK  post_spends_untreated   \n\n   anomaly_score check_result  \n0           0.00           OK  \n1           0.07           OK  \n2           0.00           OK  \n3           8.27          NOK  ",
      "text/html": "<div>\n<style scoped>\n    .dataframe tbody tr th:only-of-type {\n        vertical-align: middle;\n    }\n\n    .dataframe tbody tr th {\n        vertical-align: top;\n    }\n\n    .dataframe thead th {\n        text-align: right;\n    }\n</style>\n<table border=\"1\" class=\"dataframe\">\n  <thead>\n    <tr style=\"text-align: right;\">\n      <th></th>\n      <th>column</th>\n      <th>anomaly_score</th>\n      <th>check_result</th>\n      <th>column</th>\n      <th>anomaly_score</th>\n      <th>check_result</th>\n    </tr>\n  </thead>\n  <tbody>\n    <tr>\n      <th>0</th>\n      <td>pre_spends_treated</td>\n      <td>0.07</td>\n      <td>OK</td>\n      <td>pre_spends_untreated</td>\n      <td>0.00</td>\n      <td>OK</td>\n    </tr>\n    <tr>\n      <th>1</th>\n      <td>age_treated</td>\n      <td>0.15</td>\n      <td>OK</td>\n      <td>age_untreated</td>\n      <td>0.07</td>\n      <td>OK</td>\n    </tr>\n    <tr>\n      <th>2</th>\n      <td>is_male_treated</td>\n      <td>0.00</td>\n      <td>OK</td>\n      <td>is_male_untreated</td>\n      <td>0.00</td>\n      <td>OK</td>\n    </tr>\n    <tr>\n      <th>3</th>\n      <td>post_spends_treated</td>\n      <td>16.11</td>\n      <td>NOK</td>\n      <td>post_spends_untreated</td>\n      <td>8.27</td>\n      <td>NOK</td>\n    </tr>\n  </tbody>\n</table>\n</div>"
     },
     "execution_count": 17,
     "metadata": {},
     "output_type": "execute_result"
    }
   ],
   "source": [
    "# matching quality result - PSI\n",
    "model.quality_result['psi']"
   ]
  },
  {
   "cell_type": "code",
   "execution_count": 18,
   "metadata": {},
   "outputs": [
    {
     "data": {
      "text/plain": "            match_control_to_treat  match_treat_to_control\npre_spends                0.058908            2.229286e-01\nage                       0.156742            4.686527e-07\nis_male                   1.000000            9.987747e-01",
      "text/html": "<div>\n<style scoped>\n    .dataframe tbody tr th:only-of-type {\n        vertical-align: middle;\n    }\n\n    .dataframe tbody tr th {\n        vertical-align: top;\n    }\n\n    .dataframe thead th {\n        text-align: right;\n    }\n</style>\n<table border=\"1\" class=\"dataframe\">\n  <thead>\n    <tr style=\"text-align: right;\">\n      <th></th>\n      <th>match_control_to_treat</th>\n      <th>match_treat_to_control</th>\n    </tr>\n  </thead>\n  <tbody>\n    <tr>\n      <th>pre_spends</th>\n      <td>0.058908</td>\n      <td>2.229286e-01</td>\n    </tr>\n    <tr>\n      <th>age</th>\n      <td>0.156742</td>\n      <td>4.686527e-07</td>\n    </tr>\n    <tr>\n      <th>is_male</th>\n      <td>1.000000</td>\n      <td>9.987747e-01</td>\n    </tr>\n  </tbody>\n</table>\n</div>"
     },
     "execution_count": 18,
     "metadata": {},
     "output_type": "execute_result"
    }
   ],
   "source": [
    "# matching quality result - KS-test\n",
    "\n",
    "model.quality_result['ks_test']"
   ]
  },
  {
   "cell_type": "code",
   "execution_count": 19,
   "metadata": {},
   "outputs": [
    {
     "data": {
      "text/plain": "{'match_control_to_treat': 0.89, 'match_treat_to_control': 0.08}"
     },
     "execution_count": 19,
     "metadata": {},
     "output_type": "execute_result"
    }
   ],
   "source": [
    "# matching quality result - repeats\n",
    "model.quality_result['repeats']"
   ]
  },
  {
   "cell_type": "markdown",
   "metadata": {},
   "source": [
    "### 3.3 Validation\n",
    "validate result with placebo treatment  \n",
    "our new effect size is close to zero (it should be)"
   ]
  },
  {
   "cell_type": "code",
   "execution_count": 20,
   "metadata": {},
   "outputs": [
    {
     "name": "stdout",
     "output_type": "stream",
     "text": [
      "Finding index\n",
      "Finding index\n",
      "Finding index\n",
      "Finding index\n",
      "Finding index\n",
      "Finding index\n",
      "Finding index\n",
      "Finding index\n",
      "Finding index\n",
      "Finding index\n",
      "Finding index\n",
      "Finding index\n",
      "Finding index\n",
      "Finding index\n",
      "Finding index\n",
      "Finding index\n",
      "Finding index\n",
      "Finding index\n",
      "Finding index\n",
      "Finding index\n",
      "Finding index\n",
      "Finding index\n",
      "Finding index\n",
      "Finding index\n",
      "Finding index\n",
      "Finding index\n",
      "Finding index\n",
      "Finding index\n",
      "Finding index\n",
      "Finding index\n",
      "Finding index\n",
      "Finding index\n",
      "Finding index\n",
      "Finding index\n",
      "Finding index\n",
      "Finding index\n",
      "Finding index\n",
      "Finding index\n",
      "Finding index\n",
      "Finding index\n"
     ]
    },
    {
     "data": {
      "text/plain": "{'post_spends': -1.4320949937395813}"
     },
     "execution_count": 20,
     "metadata": {},
     "output_type": "execute_result"
    }
   ],
   "source": [
    " \n",
    "model.validate_result()\n",
    " "
   ]
  },
  {
   "cell_type": "code",
   "execution_count": 20,
   "metadata": {},
   "outputs": [],
   "source": []
  },
  {
   "cell_type": "code",
   "execution_count": 21,
   "metadata": {},
   "outputs": [
    {
     "data": {
      "text/plain": "      index  user_id  signup_month  pre_spends  age  is_male industry  \\\n0      2282     4125             0       472.0   23        1        1   \n1      2292     4146             0       490.0   49        0        1   \n2      2293     4147             0       484.5   39        1        1   \n3      4400     7966             0       489.0   51        1        1   \n4      4394     7950             0       497.0   67        0        1   \n...     ...      ...           ...         ...  ...      ...      ...   \n5477   2510     4500             0       475.0   27        0        2   \n5478   2512     4505             0       485.0   46        1        2   \n5479   2513     4509             3       489.5   44        0        2   \n5480   1844     3339             0       517.5   18        0        2   \n5481   5481     9997             0       459.5   59        0        2   \n\n      index_matched  user_id_matched  signup_month_matched  \\\n0              2058             3724                     0   \n1               699             1304                     0   \n2              3248             5837                     0   \n3              1701             3084                     0   \n4              2445             4403                     0   \n...             ...              ...                   ...   \n5477           4938             8955                     0   \n5478           1996             3604                     3   \n5479           2677             4814                     0   \n5480           2190             3955                     0   \n5481            141              279                     3   \n\n      pre_spends_matched  age_matched  is_male_matched industry_matched  \\\n0                  457.5           60                1                1   \n1                  490.0           29                1                1   \n2                  477.0           57                0                1   \n3                  490.5           58                0                1   \n4                  511.0           29                0                1   \n...                  ...          ...              ...              ...   \n5477               478.0           56                0                2   \n5478               485.5           44                1                2   \n5479               478.5           36                0                2   \n5480               448.5           33                0                2   \n5481               509.0           58                0                2   \n\n      post_spends  post_spends_matched  post_spends_matched_bias  treat  \\\n0      428.777778           419.000000                417.767251      0   \n1      423.555556           517.777778                516.082198      0   \n2      414.777778           411.222222                412.035568      0   \n3      410.111111           419.111111                420.617851      0   \n4      420.333333           418.888889                414.799991      0   \n...           ...                  ...                       ...    ...   \n5477   419.666667           429.000000                428.781057      1   \n5478   529.000000           417.888889                417.788771      1   \n5479   432.888889           414.555556                414.382788      1   \n5480   433.555556           411.777778                411.600957      1   \n5481   413.555556           425.222222                424.741420      1   \n\n      treat_matched  \n0                 1  \n1                 1  \n2                 1  \n3                 1  \n4                 1  \n...             ...  \n5477              0  \n5478              0  \n5479              0  \n5480              0  \n5481              0  \n\n[5482 rows x 19 columns]",
      "text/html": "<div>\n<style scoped>\n    .dataframe tbody tr th:only-of-type {\n        vertical-align: middle;\n    }\n\n    .dataframe tbody tr th {\n        vertical-align: top;\n    }\n\n    .dataframe thead th {\n        text-align: right;\n    }\n</style>\n<table border=\"1\" class=\"dataframe\">\n  <thead>\n    <tr style=\"text-align: right;\">\n      <th></th>\n      <th>index</th>\n      <th>user_id</th>\n      <th>signup_month</th>\n      <th>pre_spends</th>\n      <th>age</th>\n      <th>is_male</th>\n      <th>industry</th>\n      <th>index_matched</th>\n      <th>user_id_matched</th>\n      <th>signup_month_matched</th>\n      <th>pre_spends_matched</th>\n      <th>age_matched</th>\n      <th>is_male_matched</th>\n      <th>industry_matched</th>\n      <th>post_spends</th>\n      <th>post_spends_matched</th>\n      <th>post_spends_matched_bias</th>\n      <th>treat</th>\n      <th>treat_matched</th>\n    </tr>\n  </thead>\n  <tbody>\n    <tr>\n      <th>0</th>\n      <td>2282</td>\n      <td>4125</td>\n      <td>0</td>\n      <td>472.0</td>\n      <td>23</td>\n      <td>1</td>\n      <td>1</td>\n      <td>2058</td>\n      <td>3724</td>\n      <td>0</td>\n      <td>457.5</td>\n      <td>60</td>\n      <td>1</td>\n      <td>1</td>\n      <td>428.777778</td>\n      <td>419.000000</td>\n      <td>417.767251</td>\n      <td>0</td>\n      <td>1</td>\n    </tr>\n    <tr>\n      <th>1</th>\n      <td>2292</td>\n      <td>4146</td>\n      <td>0</td>\n      <td>490.0</td>\n      <td>49</td>\n      <td>0</td>\n      <td>1</td>\n      <td>699</td>\n      <td>1304</td>\n      <td>0</td>\n      <td>490.0</td>\n      <td>29</td>\n      <td>1</td>\n      <td>1</td>\n      <td>423.555556</td>\n      <td>517.777778</td>\n      <td>516.082198</td>\n      <td>0</td>\n      <td>1</td>\n    </tr>\n    <tr>\n      <th>2</th>\n      <td>2293</td>\n      <td>4147</td>\n      <td>0</td>\n      <td>484.5</td>\n      <td>39</td>\n      <td>1</td>\n      <td>1</td>\n      <td>3248</td>\n      <td>5837</td>\n      <td>0</td>\n      <td>477.0</td>\n      <td>57</td>\n      <td>0</td>\n      <td>1</td>\n      <td>414.777778</td>\n      <td>411.222222</td>\n      <td>412.035568</td>\n      <td>0</td>\n      <td>1</td>\n    </tr>\n    <tr>\n      <th>3</th>\n      <td>4400</td>\n      <td>7966</td>\n      <td>0</td>\n      <td>489.0</td>\n      <td>51</td>\n      <td>1</td>\n      <td>1</td>\n      <td>1701</td>\n      <td>3084</td>\n      <td>0</td>\n      <td>490.5</td>\n      <td>58</td>\n      <td>0</td>\n      <td>1</td>\n      <td>410.111111</td>\n      <td>419.111111</td>\n      <td>420.617851</td>\n      <td>0</td>\n      <td>1</td>\n    </tr>\n    <tr>\n      <th>4</th>\n      <td>4394</td>\n      <td>7950</td>\n      <td>0</td>\n      <td>497.0</td>\n      <td>67</td>\n      <td>0</td>\n      <td>1</td>\n      <td>2445</td>\n      <td>4403</td>\n      <td>0</td>\n      <td>511.0</td>\n      <td>29</td>\n      <td>0</td>\n      <td>1</td>\n      <td>420.333333</td>\n      <td>418.888889</td>\n      <td>414.799991</td>\n      <td>0</td>\n      <td>1</td>\n    </tr>\n    <tr>\n      <th>...</th>\n      <td>...</td>\n      <td>...</td>\n      <td>...</td>\n      <td>...</td>\n      <td>...</td>\n      <td>...</td>\n      <td>...</td>\n      <td>...</td>\n      <td>...</td>\n      <td>...</td>\n      <td>...</td>\n      <td>...</td>\n      <td>...</td>\n      <td>...</td>\n      <td>...</td>\n      <td>...</td>\n      <td>...</td>\n      <td>...</td>\n      <td>...</td>\n    </tr>\n    <tr>\n      <th>5477</th>\n      <td>2510</td>\n      <td>4500</td>\n      <td>0</td>\n      <td>475.0</td>\n      <td>27</td>\n      <td>0</td>\n      <td>2</td>\n      <td>4938</td>\n      <td>8955</td>\n      <td>0</td>\n      <td>478.0</td>\n      <td>56</td>\n      <td>0</td>\n      <td>2</td>\n      <td>419.666667</td>\n      <td>429.000000</td>\n      <td>428.781057</td>\n      <td>1</td>\n      <td>0</td>\n    </tr>\n    <tr>\n      <th>5478</th>\n      <td>2512</td>\n      <td>4505</td>\n      <td>0</td>\n      <td>485.0</td>\n      <td>46</td>\n      <td>1</td>\n      <td>2</td>\n      <td>1996</td>\n      <td>3604</td>\n      <td>3</td>\n      <td>485.5</td>\n      <td>44</td>\n      <td>1</td>\n      <td>2</td>\n      <td>529.000000</td>\n      <td>417.888889</td>\n      <td>417.788771</td>\n      <td>1</td>\n      <td>0</td>\n    </tr>\n    <tr>\n      <th>5479</th>\n      <td>2513</td>\n      <td>4509</td>\n      <td>3</td>\n      <td>489.5</td>\n      <td>44</td>\n      <td>0</td>\n      <td>2</td>\n      <td>2677</td>\n      <td>4814</td>\n      <td>0</td>\n      <td>478.5</td>\n      <td>36</td>\n      <td>0</td>\n      <td>2</td>\n      <td>432.888889</td>\n      <td>414.555556</td>\n      <td>414.382788</td>\n      <td>1</td>\n      <td>0</td>\n    </tr>\n    <tr>\n      <th>5480</th>\n      <td>1844</td>\n      <td>3339</td>\n      <td>0</td>\n      <td>517.5</td>\n      <td>18</td>\n      <td>0</td>\n      <td>2</td>\n      <td>2190</td>\n      <td>3955</td>\n      <td>0</td>\n      <td>448.5</td>\n      <td>33</td>\n      <td>0</td>\n      <td>2</td>\n      <td>433.555556</td>\n      <td>411.777778</td>\n      <td>411.600957</td>\n      <td>1</td>\n      <td>0</td>\n    </tr>\n    <tr>\n      <th>5481</th>\n      <td>5481</td>\n      <td>9997</td>\n      <td>0</td>\n      <td>459.5</td>\n      <td>59</td>\n      <td>0</td>\n      <td>2</td>\n      <td>141</td>\n      <td>279</td>\n      <td>3</td>\n      <td>509.0</td>\n      <td>58</td>\n      <td>0</td>\n      <td>2</td>\n      <td>413.555556</td>\n      <td>425.222222</td>\n      <td>424.741420</td>\n      <td>1</td>\n      <td>0</td>\n    </tr>\n  </tbody>\n</table>\n<p>5482 rows × 19 columns</p>\n</div>"
     },
     "execution_count": 21,
     "metadata": {},
     "output_type": "execute_result"
    }
   ],
   "source": [
    "model.matcher.df_matched"
   ]
  },
  {
   "cell_type": "code",
   "execution_count": 21,
   "metadata": {},
   "outputs": [],
   "source": []
  },
  {
   "cell_type": "code",
   "execution_count": 21,
   "metadata": {},
   "outputs": [],
   "source": []
  },
  {
   "cell_type": "code",
   "execution_count": 21,
   "metadata": {},
   "outputs": [],
   "source": []
  },
  {
   "cell_type": "code",
   "execution_count": null,
   "metadata": {},
   "outputs": [],
   "source": []
  },
  {
   "cell_type": "code",
   "execution_count": null,
   "metadata": {},
   "outputs": [],
   "source": []
  }
 ],
 "metadata": {
  "kernelspec": {
   "display_name": "Python 3 (ipykernel)",
   "language": "python",
   "name": "python3"
  },
  "language_info": {
   "codemirror_mode": {
    "name": "ipython",
    "version": 3
   },
   "file_extension": ".py",
   "mimetype": "text/x-python",
   "name": "python",
   "nbconvert_exporter": "python",
   "pygments_lexer": "ipython3",
   "version": "3.8.16"
  }
 },
 "nbformat": 4,
 "nbformat_minor": 1
}
